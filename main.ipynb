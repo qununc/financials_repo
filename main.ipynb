{
 "cells": [
  {
   "cell_type": "code",
   "execution_count": 1,
   "metadata": {},
   "outputs": [],
   "source": [
    "import numpy as np\n",
    "import pandas as pd"
   ]
  },
  {
   "cell_type": "code",
   "execution_count": 2,
   "metadata": {},
   "outputs": [
    {
     "data": {
      "text/html": [
       "<div>\n",
       "<style scoped>\n",
       "    .dataframe tbody tr th:only-of-type {\n",
       "        vertical-align: middle;\n",
       "    }\n",
       "\n",
       "    .dataframe tbody tr th {\n",
       "        vertical-align: top;\n",
       "    }\n",
       "\n",
       "    .dataframe thead th {\n",
       "        text-align: right;\n",
       "    }\n",
       "</style>\n",
       "<table border=\"1\" class=\"dataframe\">\n",
       "  <thead>\n",
       "    <tr style=\"text-align: right;\">\n",
       "      <th></th>\n",
       "      <th>ticker</th>\n",
       "      <th>2021</th>\n",
       "      <th>2020</th>\n",
       "      <th>2019</th>\n",
       "      <th>2018</th>\n",
       "      <th>2017</th>\n",
       "      <th>2016</th>\n",
       "      <th>2015</th>\n",
       "      <th>2014</th>\n",
       "      <th>2013</th>\n",
       "      <th>2012</th>\n",
       "      <th>2011</th>\n",
       "      <th>2010</th>\n",
       "      <th>2009</th>\n",
       "    </tr>\n",
       "  </thead>\n",
       "  <tbody>\n",
       "    <tr>\n",
       "      <th>0</th>\n",
       "      <td>A</td>\n",
       "      <td>21.3167</td>\n",
       "      <td>15.8457</td>\n",
       "      <td>18.2258</td>\n",
       "      <td>18.3964</td>\n",
       "      <td>18.0456</td>\n",
       "      <td>14.6359</td>\n",
       "      <td>12.9272</td>\n",
       "      <td>10.3508</td>\n",
       "      <td>9.9127</td>\n",
       "      <td>16.3167</td>\n",
       "      <td>16.1905</td>\n",
       "      <td>10.3968</td>\n",
       "      <td>1.0489</td>\n",
       "    </tr>\n",
       "    <tr>\n",
       "      <th>1</th>\n",
       "      <td>AA</td>\n",
       "      <td>7.8094</td>\n",
       "      <td>3.5214</td>\n",
       "      <td>NaN</td>\n",
       "      <td>13.5119</td>\n",
       "      <td>11.4229</td>\n",
       "      <td>0.1717</td>\n",
       "      <td>NaN</td>\n",
       "      <td>2.3123</td>\n",
       "      <td>NaN</td>\n",
       "      <td>NaN</td>\n",
       "      <td>NaN</td>\n",
       "      <td>NaN</td>\n",
       "      <td>NaN</td>\n",
       "    </tr>\n",
       "    <tr>\n",
       "      <th>2</th>\n",
       "      <td>AACG</td>\n",
       "      <td>NaN</td>\n",
       "      <td>NaN</td>\n",
       "      <td>NaN</td>\n",
       "      <td>NaN</td>\n",
       "      <td>15.1374</td>\n",
       "      <td>12.4022</td>\n",
       "      <td>18.7325</td>\n",
       "      <td>24.7605</td>\n",
       "      <td>27.4126</td>\n",
       "      <td>22.1181</td>\n",
       "      <td>30.6883</td>\n",
       "      <td>25.5588</td>\n",
       "      <td>12.6899</td>\n",
       "    </tr>\n",
       "    <tr>\n",
       "      <th>3</th>\n",
       "      <td>AADI</td>\n",
       "      <td>NaN</td>\n",
       "      <td>NaN</td>\n",
       "      <td>NaN</td>\n",
       "      <td>NaN</td>\n",
       "      <td>NaN</td>\n",
       "      <td>NaN</td>\n",
       "      <td>NaN</td>\n",
       "      <td>NaN</td>\n",
       "      <td>NaN</td>\n",
       "      <td>NaN</td>\n",
       "      <td>NaN</td>\n",
       "      <td>NaN</td>\n",
       "      <td>NaN</td>\n",
       "    </tr>\n",
       "    <tr>\n",
       "      <th>4</th>\n",
       "      <td>AAIC</td>\n",
       "      <td>20.3575</td>\n",
       "      <td>22.7822</td>\n",
       "      <td>9.0810</td>\n",
       "      <td>25.0151</td>\n",
       "      <td>42.1978</td>\n",
       "      <td>52.5537</td>\n",
       "      <td>72.2290</td>\n",
       "      <td>71.6889</td>\n",
       "      <td>77.3337</td>\n",
       "      <td>65.0669</td>\n",
       "      <td>68.2234</td>\n",
       "      <td>60.0955</td>\n",
       "      <td>NaN</td>\n",
       "    </tr>\n",
       "  </tbody>\n",
       "</table>\n",
       "</div>"
      ],
      "text/plain": [
       "  ticker     2021     2020     2019     2018     2017     2016     2015  \\\n",
       "0      A  21.3167  15.8457  18.2258  18.3964  18.0456  14.6359  12.9272   \n",
       "1     AA   7.8094   3.5214      NaN  13.5119  11.4229   0.1717      NaN   \n",
       "2   AACG      NaN      NaN      NaN      NaN  15.1374  12.4022  18.7325   \n",
       "3   AADI      NaN      NaN      NaN      NaN      NaN      NaN      NaN   \n",
       "4   AAIC  20.3575  22.7822   9.0810  25.0151  42.1978  52.5537  72.2290   \n",
       "\n",
       "      2014     2013     2012     2011     2010     2009  \n",
       "0  10.3508   9.9127  16.3167  16.1905  10.3968   1.0489  \n",
       "1   2.3123      NaN      NaN      NaN      NaN      NaN  \n",
       "2  24.7605  27.4126  22.1181  30.6883  25.5588  12.6899  \n",
       "3      NaN      NaN      NaN      NaN      NaN      NaN  \n",
       "4  71.6889  77.3337  65.0669  68.2234  60.0955      NaN  "
      ]
     },
     "execution_count": 2,
     "metadata": {},
     "output_type": "execute_result"
    }
   ],
   "source": [
    "df = pd.read_csv(\"KR\\\\filtered_opm_df.csv.gz\")\n",
    "df.head(5)"
   ]
  },
  {
   "cell_type": "code",
   "execution_count": 3,
   "metadata": {},
   "outputs": [
    {
     "name": "stdout",
     "output_type": "stream",
     "text": [
      "<class 'pandas.core.frame.DataFrame'>\n",
      "RangeIndex: 4639 entries, 0 to 4638\n",
      "Data columns (total 14 columns):\n",
      " #   Column  Non-Null Count  Dtype  \n",
      "---  ------  --------------  -----  \n",
      " 0   ticker  4639 non-null   object \n",
      " 1   2021    2566 non-null   float64\n",
      " 2   2020    2400 non-null   float64\n",
      " 3   2019    2649 non-null   float64\n",
      " 4   2018    2600 non-null   float64\n",
      " 5   2017    2463 non-null   float64\n",
      " 6   2016    2327 non-null   float64\n",
      " 7   2015    2277 non-null   float64\n",
      " 8   2014    2330 non-null   float64\n",
      " 9   2013    2288 non-null   float64\n",
      " 10  2012    2236 non-null   float64\n",
      " 11  2011    2199 non-null   float64\n",
      " 12  2010    2084 non-null   float64\n",
      " 13  2009    1768 non-null   float64\n",
      "dtypes: float64(13), object(1)\n",
      "memory usage: 507.5+ KB\n"
     ]
    }
   ],
   "source": [
    "df.info()"
   ]
  },
  {
   "cell_type": "code",
   "execution_count": null,
   "metadata": {},
   "outputs": [],
   "source": [
    "df.dropna()"
   ]
  }
 ],
 "metadata": {
  "kernelspec": {
   "display_name": "Python 3.10.6 (conda)",
   "language": "python",
   "name": "python3"
  },
  "language_info": {
   "codemirror_mode": {
    "name": "ipython",
    "version": 3
   },
   "file_extension": ".py",
   "mimetype": "text/x-python",
   "name": "python",
   "nbconvert_exporter": "python",
   "pygments_lexer": "ipython3",
   "version": "3.10.6"
  },
  "orig_nbformat": 4,
  "vscode": {
   "interpreter": {
    "hash": "6951907b21f5971bb0de748407eb8f99ae9279f84eb0c96741527913235dbff7"
   }
  }
 },
 "nbformat": 4,
 "nbformat_minor": 2
}
