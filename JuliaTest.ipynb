{
 "cells": [
  {
   "cell_type": "code",
   "execution_count": 1,
   "metadata": {},
   "outputs": [],
   "source": [
    "using DataFrames, CSV"
   ]
  },
  {
   "cell_type": "code",
   "execution_count": 14,
   "metadata": {},
   "outputs": [],
   "source": [
    "df = CSV.read(\"KR\\\\filtered_opm_df.csv.gz\", DataFrame);"
   ]
  },
  {
   "cell_type": "code",
   "execution_count": 15,
   "metadata": {},
   "outputs": [
    {
     "data": {
      "text/html": [
       "<div><div style = \"float: left;\"><span>5×14 DataFrame</span></div><div style = \"clear: both;\"></div></div><div class = \"data-frame\" style = \"overflow-x: scroll;\"><table class = \"data-frame\" style = \"margin-bottom: 6px;\"><thead><tr class = \"header\"><th class = \"rowNumber\" style = \"font-weight: bold; text-align: right;\">Row</th><th style = \"text-align: left;\">ticker</th><th style = \"text-align: left;\">2021</th><th style = \"text-align: left;\">2020</th><th style = \"text-align: left;\">2019</th><th style = \"text-align: left;\">2018</th><th style = \"text-align: left;\">2017</th><th style = \"text-align: left;\">2016</th><th style = \"text-align: left;\">2015</th><th style = \"text-align: left;\">2014</th><th style = \"text-align: left;\">2013</th><th style = \"text-align: left;\">2012</th><th style = \"text-align: left;\">2011</th><th style = \"text-align: left;\">2010</th><th style = \"text-align: left;\">2009</th></tr><tr class = \"subheader headerLastRow\"><th class = \"rowNumber\" style = \"font-weight: bold; text-align: right;\"></th><th title = \"String7\" style = \"text-align: left;\">String7</th><th title = \"Union{Missing, Float64}\" style = \"text-align: left;\">Float64?</th><th title = \"Union{Missing, Float64}\" style = \"text-align: left;\">Float64?</th><th title = \"Union{Missing, Float64}\" style = \"text-align: left;\">Float64?</th><th title = \"Union{Missing, Float64}\" style = \"text-align: left;\">Float64?</th><th title = \"Union{Missing, Float64}\" style = \"text-align: left;\">Float64?</th><th title = \"Union{Missing, Float64}\" style = \"text-align: left;\">Float64?</th><th title = \"Union{Missing, Float64}\" style = \"text-align: left;\">Float64?</th><th title = \"Union{Missing, Float64}\" style = \"text-align: left;\">Float64?</th><th title = \"Union{Missing, Float64}\" style = \"text-align: left;\">Float64?</th><th title = \"Union{Missing, Float64}\" style = \"text-align: left;\">Float64?</th><th title = \"Union{Missing, Float64}\" style = \"text-align: left;\">Float64?</th><th title = \"Union{Missing, Float64}\" style = \"text-align: left;\">Float64?</th><th title = \"Union{Missing, Float64}\" style = \"text-align: left;\">Float64?</th></tr></thead><tbody><tr><td class = \"rowNumber\" style = \"font-weight: bold; text-align: right;\">1</td><td style = \"text-align: left;\">A</td><td style = \"text-align: right;\">21.3167</td><td style = \"text-align: right;\">15.8457</td><td style = \"text-align: right;\">18.2258</td><td style = \"text-align: right;\">18.3964</td><td style = \"text-align: right;\">18.0456</td><td style = \"text-align: right;\">14.6359</td><td style = \"text-align: right;\">12.9272</td><td style = \"text-align: right;\">10.3508</td><td style = \"text-align: right;\">9.9127</td><td style = \"text-align: right;\">16.3167</td><td style = \"text-align: right;\">16.1905</td><td style = \"text-align: right;\">10.3968</td><td style = \"text-align: right;\">1.0489</td></tr><tr><td class = \"rowNumber\" style = \"font-weight: bold; text-align: right;\">2</td><td style = \"text-align: left;\">AA</td><td style = \"text-align: right;\">7.8094</td><td style = \"text-align: right;\">3.5214</td><td style = \"font-style: italic; text-align: right;\">missing</td><td style = \"text-align: right;\">13.5119</td><td style = \"text-align: right;\">11.4229</td><td style = \"text-align: right;\">0.1717</td><td style = \"font-style: italic; text-align: right;\">missing</td><td style = \"text-align: right;\">2.3123</td><td style = \"font-style: italic; text-align: right;\">missing</td><td style = \"font-style: italic; text-align: right;\">missing</td><td style = \"font-style: italic; text-align: right;\">missing</td><td style = \"font-style: italic; text-align: right;\">missing</td><td style = \"font-style: italic; text-align: right;\">missing</td></tr><tr><td class = \"rowNumber\" style = \"font-weight: bold; text-align: right;\">3</td><td style = \"text-align: left;\">AACG</td><td style = \"font-style: italic; text-align: right;\">missing</td><td style = \"font-style: italic; text-align: right;\">missing</td><td style = \"font-style: italic; text-align: right;\">missing</td><td style = \"font-style: italic; text-align: right;\">missing</td><td style = \"text-align: right;\">15.1374</td><td style = \"text-align: right;\">12.4022</td><td style = \"text-align: right;\">18.7325</td><td style = \"text-align: right;\">24.7605</td><td style = \"text-align: right;\">27.4126</td><td style = \"text-align: right;\">22.1181</td><td style = \"text-align: right;\">30.6883</td><td style = \"text-align: right;\">25.5588</td><td style = \"text-align: right;\">12.6899</td></tr><tr><td class = \"rowNumber\" style = \"font-weight: bold; text-align: right;\">4</td><td style = \"text-align: left;\">AADI</td><td style = \"font-style: italic; text-align: right;\">missing</td><td style = \"font-style: italic; text-align: right;\">missing</td><td style = \"font-style: italic; text-align: right;\">missing</td><td style = \"font-style: italic; text-align: right;\">missing</td><td style = \"font-style: italic; text-align: right;\">missing</td><td style = \"font-style: italic; text-align: right;\">missing</td><td style = \"font-style: italic; text-align: right;\">missing</td><td style = \"font-style: italic; text-align: right;\">missing</td><td style = \"font-style: italic; text-align: right;\">missing</td><td style = \"font-style: italic; text-align: right;\">missing</td><td style = \"font-style: italic; text-align: right;\">missing</td><td style = \"font-style: italic; text-align: right;\">missing</td><td style = \"font-style: italic; text-align: right;\">missing</td></tr><tr><td class = \"rowNumber\" style = \"font-weight: bold; text-align: right;\">5</td><td style = \"text-align: left;\">AAIC</td><td style = \"text-align: right;\">20.3575</td><td style = \"text-align: right;\">22.7822</td><td style = \"text-align: right;\">9.081</td><td style = \"text-align: right;\">25.0151</td><td style = \"text-align: right;\">42.1978</td><td style = \"text-align: right;\">52.5537</td><td style = \"text-align: right;\">72.229</td><td style = \"text-align: right;\">71.6889</td><td style = \"text-align: right;\">77.3337</td><td style = \"text-align: right;\">65.0669</td><td style = \"text-align: right;\">68.2234</td><td style = \"text-align: right;\">60.0955</td><td style = \"font-style: italic; text-align: right;\">missing</td></tr></tbody></table></div>"
      ],
      "text/latex": [
       "\\begin{tabular}{r|cccccccccc}\n",
       "\t& ticker & 2021 & 2020 & 2019 & 2018 & 2017 & 2016 & 2015 & 2014 & \\\\\n",
       "\t\\hline\n",
       "\t& String7 & Float64? & Float64? & Float64? & Float64? & Float64? & Float64? & Float64? & Float64? & \\\\\n",
       "\t\\hline\n",
       "\t1 & A & 21.3167 & 15.8457 & 18.2258 & 18.3964 & 18.0456 & 14.6359 & 12.9272 & 10.3508 & $\\dots$ \\\\\n",
       "\t2 & AA & 7.8094 & 3.5214 & \\emph{missing} & 13.5119 & 11.4229 & 0.1717 & \\emph{missing} & 2.3123 & $\\dots$ \\\\\n",
       "\t3 & AACG & \\emph{missing} & \\emph{missing} & \\emph{missing} & \\emph{missing} & 15.1374 & 12.4022 & 18.7325 & 24.7605 & $\\dots$ \\\\\n",
       "\t4 & AADI & \\emph{missing} & \\emph{missing} & \\emph{missing} & \\emph{missing} & \\emph{missing} & \\emph{missing} & \\emph{missing} & \\emph{missing} & $\\dots$ \\\\\n",
       "\t5 & AAIC & 20.3575 & 22.7822 & 9.081 & 25.0151 & 42.1978 & 52.5537 & 72.229 & 71.6889 & $\\dots$ \\\\\n",
       "\\end{tabular}\n"
      ],
      "text/plain": [
       "\u001b[1m5×14 DataFrame\u001b[0m\n",
       "\u001b[1m Row \u001b[0m│\u001b[1m ticker  \u001b[0m\u001b[1m 2021         \u001b[0m\u001b[1m 2020         \u001b[0m\u001b[1m 2019         \u001b[0m\u001b[1m 2018         \u001b[0m\u001b[1m 2017  \u001b[0m ⋯\n",
       "     │\u001b[90m String7 \u001b[0m\u001b[90m Float64?     \u001b[0m\u001b[90m Float64?     \u001b[0m\u001b[90m Float64?     \u001b[0m\u001b[90m Float64?     \u001b[0m\u001b[90m Float6\u001b[0m ⋯\n",
       "─────┼──────────────────────────────────────────────────────────────────────────\n",
       "   1 │ A             21.3167       15.8457       18.2258       18.3964       1 ⋯\n",
       "   2 │ AA             7.8094        3.5214 \u001b[90m missing      \u001b[0m      13.5119       1\n",
       "   3 │ AACG    \u001b[90m missing      \u001b[0m\u001b[90m missing      \u001b[0m\u001b[90m missing      \u001b[0m\u001b[90m missing      \u001b[0m      1\n",
       "   4 │ AADI    \u001b[90m missing      \u001b[0m\u001b[90m missing      \u001b[0m\u001b[90m missing      \u001b[0m\u001b[90m missing      \u001b[0m\u001b[90m missin\u001b[0m\n",
       "   5 │ AAIC          20.3575       22.7822        9.081        25.0151       4 ⋯\n",
       "\u001b[36m                                                               9 columns omitted\u001b[0m"
      ]
     },
     "execution_count": 15,
     "metadata": {},
     "output_type": "execute_result"
    }
   ],
   "source": [
    "first(df, 5)"
   ]
  },
  {
   "cell_type": "code",
   "execution_count": 13,
   "metadata": {},
   "outputs": [
    {
     "data": {
      "text/latex": [
       "\\begin{tabular}\n",
       "{l | r | l}\n",
       "name & size & summary \\\\\n",
       "\\hline\n",
       "df & 509.211 KiB & 4639×14 DataFrame \\\\\n",
       "\\end{tabular}\n"
      ],
      "text/markdown": [
       "| name |        size | summary           |\n",
       "|:---- | -----------:|:----------------- |\n",
       "| df   | 509.211 KiB | 4639×14 DataFrame |\n"
      ],
      "text/plain": [
       "  name        size summary          \n",
       "  –––– ––––––––––– –––––––––––––––––\n",
       "  df   509.211 KiB 4639×14 DataFrame"
      ]
     },
     "execution_count": 13,
     "metadata": {},
     "output_type": "execute_result"
    }
   ],
   "source": [
    "varinfo(r\"df\")"
   ]
  },
  {
   "cell_type": "code",
   "execution_count": 5,
   "metadata": {},
   "outputs": [
    {
     "name": "stdout",
     "output_type": "stream",
     "text": [
      "search: \u001b[0m\u001b[1mm\u001b[22m\u001b[0m\u001b[1mi\u001b[22m\u001b[0m\u001b[1ms\u001b[22m\u001b[0m\u001b[1ms\u001b[22m\u001b[0m\u001b[1mi\u001b[22m\u001b[0m\u001b[1mn\u001b[22m\u001b[0m\u001b[1mg\u001b[22m \u001b[0m\u001b[1mm\u001b[22m\u001b[0m\u001b[1mi\u001b[22m\u001b[0m\u001b[1ms\u001b[22m\u001b[0m\u001b[1ms\u001b[22m\u001b[0m\u001b[1mi\u001b[22m\u001b[0m\u001b[1mn\u001b[22m\u001b[0m\u001b[1mg\u001b[22ms \u001b[0m\u001b[1mM\u001b[22m\u001b[0m\u001b[1mi\u001b[22m\u001b[0m\u001b[1ms\u001b[22m\u001b[0m\u001b[1ms\u001b[22m\u001b[0m\u001b[1mi\u001b[22m\u001b[0m\u001b[1mn\u001b[22m\u001b[0m\u001b[1mg\u001b[22m \u001b[0m\u001b[1mM\u001b[22m\u001b[0m\u001b[1mi\u001b[22m\u001b[0m\u001b[1ms\u001b[22m\u001b[0m\u001b[1ms\u001b[22m\u001b[0m\u001b[1mi\u001b[22m\u001b[0m\u001b[1mn\u001b[22m\u001b[0m\u001b[1mg\u001b[22ms \u001b[0m\u001b[1mM\u001b[22m\u001b[0m\u001b[1mi\u001b[22m\u001b[0m\u001b[1ms\u001b[22m\u001b[0m\u001b[1ms\u001b[22m\u001b[0m\u001b[1mi\u001b[22m\u001b[0m\u001b[1mn\u001b[22m\u001b[0m\u001b[1mg\u001b[22mException is\u001b[0m\u001b[1mm\u001b[22m\u001b[0m\u001b[1mi\u001b[22m\u001b[0m\u001b[1ms\u001b[22m\u001b[0m\u001b[1ms\u001b[22m\u001b[0m\u001b[1mi\u001b[22m\u001b[0m\u001b[1mn\u001b[22m\u001b[0m\u001b[1mg\u001b[22m\n",
      "\n"
     ]
    },
    {
     "data": {
      "text/latex": [
       "\\begin{verbatim}\n",
       "missing\n",
       "\\end{verbatim}\n",
       "The singleton instance of type \\href{@ref}{\\texttt{Missing}} representing a missing value.\n",
       "\n",
       "See also: \\href{@ref}{\\texttt{NaN}}, \\href{@ref}{\\texttt{skipmissing}}, \\href{@ref}{\\texttt{nonmissingtype}}.\n",
       "\n"
      ],
      "text/markdown": [
       "```\n",
       "missing\n",
       "```\n",
       "\n",
       "The singleton instance of type [`Missing`](@ref) representing a missing value.\n",
       "\n",
       "See also: [`NaN`](@ref), [`skipmissing`](@ref), [`nonmissingtype`](@ref).\n"
      ],
      "text/plain": [
       "  \u001b[39mmissing\u001b[0m\u001b[39m\u001b[0m\n",
       "\n",
       "\n",
       "  The singleton instance of type \u001b[36mMissing\u001b[39m representing a missing value.\n",
       "\n",
       "  See also: \u001b[36mNaN\u001b[39m, \u001b[36mskipmissing\u001b[39m, \u001b[36mnonmissingtype\u001b[39m."
      ]
     },
     "execution_count": 5,
     "metadata": {},
     "output_type": "execute_result"
    }
   ],
   "source": [
    "dropmissing()"
   ]
  },
  {
   "cell_type": "code",
   "execution_count": null,
   "metadata": {},
   "outputs": [],
   "source": []
  }
 ],
 "metadata": {
  "kernelspec": {
   "display_name": "Julia 1.8.1",
   "language": "julia",
   "name": "julia-1.8"
  },
  "language_info": {
   "file_extension": ".jl",
   "mimetype": "application/julia",
   "name": "julia",
   "version": "1.8.2"
  }
 },
 "nbformat": 4,
 "nbformat_minor": 2
}
