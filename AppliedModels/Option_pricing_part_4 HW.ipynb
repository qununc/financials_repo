{
 "cells": [
  {
   "cell_type": "markdown",
   "metadata": {},
   "source": [
    "# Ценообразование опционов. Часть 4."
   ]
  },
  {
   "cell_type": "markdown",
   "metadata": {},
   "source": [
    "# Экзотические опционы. Барьерные опционы."
   ]
  },
  {
   "cell_type": "markdown",
   "metadata": {},
   "source": [
    "## Цели и задачи:\n",
    "### 1. Изучить подходы к моделированию барьерных опционов \n",
    "### 2. Получить навык работы с классами  Python\n",
    "### 3. Получить дополнительные навыки работы с библиотеками NumPy и Pandas"
   ]
  },
  {
   "cell_type": "markdown",
   "metadata": {},
   "source": [
    "### Рекомендуемая литература:\n",
    "### 1.Levy G. Computational Finance. Numerical Methods for Pricing Financial Instruments\n",
    "### 2.Neftci N.S. An Introduction to the Mathematics of Financial Derivatives\n",
    "### 3.Hilpisch Y. Derivatives Analytics with Python: Data Analysis, Models, Simulation, Calibration and Hedging\n",
    "### 4.London J. Modelling Derivatives with C++\n",
    "### 5.Haug E.G. The Complete Guide to Option Pricing Formulas"
   ]
  },
  {
   "cell_type": "markdown",
   "metadata": {},
   "source": [
    "## 1.Загрузка библиотек"
   ]
  },
  {
   "cell_type": "code",
   "execution_count": 1,
   "metadata": {},
   "outputs": [],
   "source": [
    "import numpy as np\n",
    "import matplotlib as plt\n",
    "import math\n",
    "from tqdm import tqdm # progress bar\n",
    "from scipy import stats\n",
    "import itertools\n",
    "from scipy.linalg import cholesky"
   ]
  },
  {
   "cell_type": "markdown",
   "metadata": {},
   "source": [
    "## 2.Классы, необходимые для реализации моделей ценообразования"
   ]
  },
  {
   "cell_type": "markdown",
   "metadata": {},
   "source": [
    "### Геометрическое Броуновское движение (шаг)"
   ]
  },
  {
   "cell_type": "code",
   "execution_count": 2,
   "metadata": {},
   "outputs": [],
   "source": [
    "class GBM_step:\n",
    "    def __init__(self,S,drift,sigma,dt,div=0):\n",
    "        self._S=S\n",
    "        self._drift=drift\n",
    "        self._sigma=sigma\n",
    "        self._dt=dt\n",
    "        self._div=div\n",
    "        \n",
    "    def __random_normal__(mu=0,sigma=1):\n",
    "        return np.random.normal(0,1)\n",
    "            \n",
    "    def get_step(self):\n",
    "            # S_current*=np.exp((drift-0.5*sigma**2)*dt+sigma*math.sqrt(dt)*dW)   \n",
    "        return self._S*((self._drift-self._div)*self._dt+np.sqrt(self._dt)*self._sigma*self.__random_normal__())"
   ]
  },
  {
   "cell_type": "markdown",
   "metadata": {},
   "source": [
    "### Monte Carlo барьер"
   ]
  },
  {
   "cell_type": "code",
   "execution_count": 3,
   "metadata": {},
   "outputs": [],
   "source": [
    "class Barrier_MCS:\n",
    "    def __init__(self,S,K,H,r,days,dt,sigma,rebate=0,div=0,is_call=True,is_up=True,is_in=True,is_barrier_american=True,nsim=10000):\n",
    "        self._S=S\n",
    "        self._H=H\n",
    "        self._K=K\n",
    "        self._r=r\n",
    "        self._div=div\n",
    "        self._days=days\n",
    "        self._sigma=sigma\n",
    "        self._dt=dt\n",
    "        self._is_call=is_call \n",
    "        self._is_up=is_up\n",
    "        self._is_in=is_in\n",
    "        self._is_barrier_american=is_barrier_american\n",
    "        self._rebate=rebate\n",
    "        self._nsim=nsim     \n",
    "        \n",
    "    def __generate_payoff__(self):\n",
    "        path=[]\n",
    "        S_current=self._S\n",
    "        path.append(S_current)\n",
    "        for _ in range(self._days):  \n",
    "            step=GBM_step(S_current,self._r,self._sigma,self._dt,self._div)\n",
    "            S_current+=step.get_step() \n",
    "            path.append(S_current)     \n",
    "        if self._is_barrier_american:\n",
    "            S_min=min(path)\n",
    "            S_max=max(path)\n",
    "        else:S_min=S_max=path[-1]    \n",
    "        if (~self._is_in&(((S_max<=self._H)&self._is_up)|((S_min>=self._H)&~self._is_up)))|\\\n",
    "        (self._is_in&(((S_max>=self._H)&self._is_up)|((S_min<=self._H)&~self._is_up))):\n",
    "            return max(path[-1]-self._K,0) if self._is_call else max(self._K-path[-1],0)\n",
    "        else: \n",
    "            return self._rebate\n",
    "    \n",
    "    def __simulation__(self):\n",
    "        payoffs=[]\n",
    "        for _ in tqdm(range(self._nsim)):\n",
    "            payoffs.append(self.__generate_payoff__())\n",
    "        return payoffs \n",
    "    \n",
    "    def get_price(self):\n",
    "        payoffs=[]\n",
    "        payoffs=self.__simulation__()\n",
    "        return np.mean(payoffs)*np.exp(-self._r*days/250)"
   ]
  },
  {
   "cell_type": "markdown",
   "metadata": {},
   "source": [
    "### Барьер, модификация  Black-Scholes"
   ]
  },
  {
   "cell_type": "code",
   "execution_count": 4,
   "metadata": {},
   "outputs": [],
   "source": [
    "class Barrier:\n",
    "    def __init__(self,S,K,H,r,T,sigma,rebate=0,div=0,t=0,is_call=True,is_up=True,is_in=True):\n",
    "        self._S=S\n",
    "        self._H=H\n",
    "        self._K=K\n",
    "        self._r=r\n",
    "        self._div=div\n",
    "        self._T=T\n",
    "        self._sigma=sigma\n",
    "        self._t=t\n",
    "        self._is_call=is_call \n",
    "        self._is_up=is_up\n",
    "        self._is_in=is_in\n",
    "        self._rebate=rebate\n",
    "        self._eta=-1 if is_up else 1\n",
    "        self._phi=1 if is_call else -1\n",
    "        \n",
    "    def __N__(self,value):\n",
    "            return stats.norm.cdf(value)\n",
    "    \n",
    "    def __mu__(self):\n",
    "        return (self._div-self._sigma**2/2)/self._sigma**2\n",
    "    \n",
    "    def __zet__(self,Lambda):\n",
    "        return np.log(self._H/self._S)/(self._sigma*np.sqrt(self._T-self._t))+Lambda*self._sigma*np.sqrt(self._T-self._t)\n",
    "     \n",
    "    def __Lambda__(self,mu):\n",
    "        return np.sqrt(mu**2+2*self._r/self._sigma**2)                             \n",
    "    \n",
    "    def __value_x_y__(self,mu):\n",
    "        x_1=np.log(self._S/self._K)/(self._sigma*np.sqrt(self._T-self._t))+(1+mu)*self._sigma*np.sqrt(self._T-self._t)\n",
    "        x_2=np.log(self._S/self._H)/(self._sigma*np.sqrt(self._T-self._t))+(1+mu)*self._sigma*np.sqrt(self._T-self._t)\n",
    "        y_1=np.log(self._H**2/(self._K*self._S))/(self._sigma*np.sqrt(self._T-self._t))+(1+mu)*self._sigma*np.sqrt(self._T-self._t)\n",
    "        y_2=np.log(self._H/self._S)/(self._sigma*np.sqrt(self._T-self._t))+(1+mu)*self._sigma*np.sqrt(self._T-self._t)     \n",
    "        return x_1,x_2,y_1,y_2\n",
    "    \n",
    "    def __values__(self):\n",
    "        print(self._eta,self._phi)\n",
    "        mu=self.__mu__()\n",
    "        Lambda=self.__Lambda__(mu)\n",
    "        z=self.__zet__(Lambda)\n",
    "        x_1,x_2,y_1,y_2=self.__value_x_y__(mu)\n",
    "        \n",
    "        a=self._phi*self._S*np.exp((self._div-self._r)*(self._T-self._t))\n",
    "        b=self._phi*self._K*np.exp(-self._r*(self._T-self._t))\n",
    "        c=self._phi*x_1-self._phi*self._sigma*np.sqrt(self._T-self._t)\n",
    "        d=self._phi*x_2-self._phi*self._sigma*np.sqrt(self._T-self._t)\n",
    "        e=(self._H/self._S)**(2*(mu+1))\n",
    "        f=(self._H/self._S)**(2*mu)\n",
    "        g=self._eta*y_1-self._eta*self._sigma*np.sqrt(self._T-self._t)\n",
    "        h=self._eta*y_2-self._eta*self._sigma*np.sqrt(self._T-self._t)\n",
    "        i=self._eta*x_2-self._eta*self._sigma*np.sqrt(self._T-self._t)\n",
    "        j=self._eta*z-2*self._eta*Lambda*self._sigma*np.sqrt(self._T-self._t)\n",
    "        k=(self._H/self._S)**(mu+Lambda)\n",
    "        l=(self._H/self._S)**(mu-Lambda)\n",
    "        \n",
    "        A=a*self.__N__(self._phi*x_1)-b*self.__N__(c)\n",
    "        \n",
    "        B=a*self.__N__(self._phi*x_2)-b*self.__N__(d)\n",
    "        \n",
    "        C=a*e*self.__N__(self._eta*y_1)-b*f*self.__N__(g)\n",
    "        \n",
    "        D=a*e*self.__N__(self._eta*y_2)-b*f*self.__N__(h)\n",
    "        \n",
    "        E=(self._rebate*np.exp(-self._r*(self._T-self._t)))*(self.__N__(i)-f*self.__N__(h))\n",
    "        \n",
    "        F=self._rebate*(k*self.__N__(self._eta*z)+l*self.__N__(j))\n",
    "        \n",
    "        return A,B,C,D,E,F\n",
    "    \n",
    "    def __price__(self):\n",
    "        A,B,C,D,E,F=self.__values__()\n",
    "        price=0\n",
    "        if self._is_in:\n",
    "            if self._is_call:  \n",
    "                if self._is_up: # up-and-in call\n",
    "                    if self._K>self._H:\n",
    "                        price=A+E\n",
    "                    else: price=B-C+D+E    \n",
    "                else:    # down-and-in call\n",
    "                    if self._K>self._H:\n",
    "                        price=C+E\n",
    "                    else: price=A-B+D+E\n",
    "            else:\n",
    "                if self._is_up: # up-and-in put\n",
    "                    if self._K>self._H:\n",
    "                        price=A-B+D+E\n",
    "                    else: price=C+E\n",
    "                else:    # down-and-in put\n",
    "                    if self._K>self._H:\n",
    "                        price=B-C+D+E\n",
    "                    else: price=A+E\n",
    "        else:\n",
    "            if self._is_call:\n",
    "                if self._is_up: # up-and-out call\n",
    "                    if self._K>self._H:\n",
    "                        price=F\n",
    "                    else: price=A-B+C-D+F \n",
    "                else:# down-and-out call\n",
    "                    if self._K>self._H:\n",
    "                        price=A-C+F\n",
    "                    else: price=B-D+F\n",
    "            else:\n",
    "                if self._is_up: # up-and-out put\n",
    "                    if self._K>self._H:\n",
    "                        price=B-D+F\n",
    "                    else: price=A-C+F  \n",
    "                else:# down-and-out put\n",
    "                    if self._K>self._H:\n",
    "                        price=A-B+C-D+F\n",
    "                    else: price=F\n",
    "        return price\n",
    "      \n",
    "    \n",
    "    def get_price(self):\n",
    "        return self.__price__()"
   ]
  },
  {
   "cell_type": "markdown",
   "metadata": {},
   "source": [
    "## Реализация методов"
   ]
  },
  {
   "cell_type": "code",
   "execution_count": 5,
   "metadata": {},
   "outputs": [],
   "source": [
    "S_0=100\n",
    "K=110\n",
    "H=100\n",
    "sigma=0.3\n",
    "T=125/250\n",
    "r=0.08\n",
    "div=0.04\n",
    "rebate=3\n",
    "days=125\n",
    "dt=1/250"
   ]
  },
  {
   "cell_type": "code",
   "execution_count": 6,
   "metadata": {},
   "outputs": [],
   "source": [
    "is_call=True\n",
    "is_up=False\n",
    "is_in=True"
   ]
  },
  {
   "cell_type": "markdown",
   "metadata": {},
   "source": [
    "### Модификация Black Scholes"
   ]
  },
  {
   "cell_type": "code",
   "execution_count": 7,
   "metadata": {},
   "outputs": [],
   "source": [
    "call_do=Barrier(S_0,K,H,r,T,sigma,rebate=rebate,div=div,is_call=is_call,is_up=is_up,is_in=is_in)"
   ]
  },
  {
   "cell_type": "code",
   "execution_count": 8,
   "metadata": {},
   "outputs": [
    {
     "name": "stdout",
     "output_type": "stream",
     "text": [
      "1 1\n"
     ]
    },
    {
     "data": {
      "text/plain": [
       "5.3043012601780575"
      ]
     },
     "execution_count": 8,
     "metadata": {},
     "output_type": "execute_result"
    }
   ],
   "source": [
    "call_do.get_price()"
   ]
  },
  {
   "cell_type": "markdown",
   "metadata": {},
   "source": [
    "### Монте-Карло"
   ]
  },
  {
   "cell_type": "code",
   "execution_count": 9,
   "metadata": {},
   "outputs": [],
   "source": [
    "call_do=Barrier_MCS(S_0,K,H,r,days,dt,sigma,rebate=rebate,div=div,is_call=is_call,is_up=is_up,is_in=is_in,is_barrier_american=True,\\\n",
    "                    nsim=10000)"
   ]
  },
  {
   "cell_type": "code",
   "execution_count": 10,
   "metadata": {},
   "outputs": [
    {
     "name": "stderr",
     "output_type": "stream",
     "text": [
      "100%|██████████| 10000/10000 [00:06<00:00, 1565.84it/s]\n"
     ]
    },
    {
     "data": {
      "text/plain": [
       "5.464860691405411"
      ]
     },
     "execution_count": 10,
     "metadata": {},
     "output_type": "execute_result"
    }
   ],
   "source": [
    "call_do.get_price()"
   ]
  },
  {
   "cell_type": "code",
   "execution_count": null,
   "metadata": {},
   "outputs": [],
   "source": []
  }
 ],
 "metadata": {
  "kernelspec": {
   "display_name": "Python 3",
   "language": "python",
   "name": "python3"
  },
  "language_info": {
   "codemirror_mode": {
    "name": "ipython",
    "version": 3
   },
   "file_extension": ".py",
   "mimetype": "text/x-python",
   "name": "python",
   "nbconvert_exporter": "python",
   "pygments_lexer": "ipython3",
   "version": "3.8.3"
  }
 },
 "nbformat": 4,
 "nbformat_minor": 4
}
