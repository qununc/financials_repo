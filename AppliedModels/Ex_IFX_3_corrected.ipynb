{
 "cells": [
  {
   "cell_type": "markdown",
   "metadata": {},
   "source": [
    "## Задание 3. Валютные инструменты и стратегии"
   ]
  },
  {
   "cell_type": "markdown",
   "metadata": {},
   "source": [
    "## Цель задания:\n",
    "### 1. Получить навыки моделирования кросс-валютных ПФИ (quanto adjustment)\n",
    "### 2. Рассмотреть валютную стратегию triangular arbitrage (\"треугольный арбитраж\")\n",
    "### 3. Рассмотреть применение технических индикаторов на валютном рынке\n",
    "### 4. Получить представление о структурных продуктах на примере бивалютного депозита"
   ]
  },
  {
   "cell_type": "markdown",
   "metadata": {},
   "source": [
    "## 1.Загрузка библиотек"
   ]
  },
  {
   "cell_type": "code",
   "execution_count": 1,
   "metadata": {},
   "outputs": [],
   "source": [
    "import pandas as pd\n",
    "import numpy as np\n",
    "from scipy import stats"
   ]
  },
  {
   "cell_type": "code",
   "execution_count": 2,
   "metadata": {},
   "outputs": [],
   "source": [
    "from os import listdir\n",
    "from os.path import isfile,join # функции, необходимые для работы с файлами и директориями"
   ]
  },
  {
   "cell_type": "code",
   "execution_count": 3,
   "metadata": {},
   "outputs": [],
   "source": [
    "from __future__ import division"
   ]
  },
  {
   "cell_type": "code",
   "execution_count": 4,
   "metadata": {},
   "outputs": [],
   "source": [
    "import requests\n",
    "import lxml.html as lh"
   ]
  },
  {
   "cell_type": "code",
   "execution_count": 5,
   "metadata": {},
   "outputs": [],
   "source": [
    "import matplotlib.pyplot as plt # графическая библиотека"
   ]
  },
  {
   "cell_type": "code",
   "execution_count": 6,
   "metadata": {},
   "outputs": [],
   "source": [
    "from functools import reduce"
   ]
  },
  {
   "cell_type": "code",
   "execution_count": 7,
   "metadata": {},
   "outputs": [],
   "source": [
    "import warnings\n",
    "warnings.filterwarnings('ignore')"
   ]
  },
  {
   "cell_type": "markdown",
   "metadata": {},
   "source": [
    "## 2.Forward/Futures quanto"
   ]
  },
  {
   "cell_type": "markdown",
   "metadata": {},
   "source": [
    "### $F=S_0exp(r_f-q-\\sigma_{fw}\\sigma_{ind}\\rho)$"
   ]
  },
  {
   "cell_type": "markdown",
   "metadata": {},
   "source": [
    "### $F$ - форвардная цена\n",
    "### $S_0$ - цена спот\n",
    "### $r_f$ - процентная ставка в иностранной валюте\n",
    "### $\\sigma_{fw}$ - волатильность лог-доходности форварда\n",
    "### $\\sigma_{ind}$ - волатильность лог-доходности индекса\n",
    "### $\\rho$ - корреляция между лог-доходностью форварда и лог-доходностью индекса\n",
    "### $q$ - дивидендная ставка актива (индекса)"
   ]
  },
  {
   "cell_type": "markdown",
   "metadata": {},
   "source": [
    "### Расчет кросс-валютного форварда рассмотрим на примере форвардного контракта на британский индекс FTSE 100. По условиям контракта расчеты осуществляются в USD (классический форвард на FTSE 100 предусматривает расчеты в GBP)."
   ]
  },
  {
   "cell_type": "markdown",
   "metadata": {},
   "source": [
    "### Загрузка данных"
   ]
  },
  {
   "cell_type": "markdown",
   "metadata": {},
   "source": [
    "### Массив ставок LIBOR"
   ]
  },
  {
   "cell_type": "code",
   "execution_count": 8,
   "metadata": {},
   "outputs": [],
   "source": [
    "path='/Users/massimozharkovsky/Documents/ML/IFX/Rates_Forward/'"
   ]
  },
  {
   "cell_type": "code",
   "execution_count": 9,
   "metadata": {},
   "outputs": [],
   "source": [
    "files=[f for f in listdir(path) if (isfile(join(path,f))&(f.endswith('csv')&('1M' in f)))] \n",
    "# создание списка имен файлов "
   ]
  },
  {
   "cell_type": "code",
   "execution_count": 10,
   "metadata": {},
   "outputs": [
    {
     "data": {
      "text/plain": [
       "['USD1MTD156N.csv', 'GBP1MTD156N.csv']"
      ]
     },
     "execution_count": 10,
     "metadata": {},
     "output_type": "execute_result"
    }
   ],
   "source": [
    "files"
   ]
  },
  {
   "cell_type": "code",
   "execution_count": 11,
   "metadata": {},
   "outputs": [
    {
     "name": "stdout",
     "output_type": "stream",
     "text": [
      "/Users/massimozharkovsky/Documents/ML/IFX/Rates_Forward/USD1MTD156N.csv\n",
      "/Users/massimozharkovsky/Documents/ML/IFX/Rates_Forward/GBP1MTD156N.csv\n"
     ]
    }
   ],
   "source": [
    "# создание массива, содержащего даты и цены  для каждого актива\n",
    "df_list=[]\n",
    "for f in files:\n",
    "    fname=join(path,f)\n",
    "    print (fname)\n",
    "    df=pd.read_csv(fname,parse_dates=['DATE'])\n",
    "    df_list.append(df)"
   ]
  },
  {
   "cell_type": "code",
   "execution_count": 12,
   "metadata": {},
   "outputs": [],
   "source": [
    "port=reduce(lambda left,right: pd.merge(left,right,on=['DATE']),df_list)\n",
    "# объединение активов в один массив (dataframe)"
   ]
  },
  {
   "cell_type": "code",
   "execution_count": 13,
   "metadata": {},
   "outputs": [
    {
     "data": {
      "text/html": [
       "<div>\n",
       "<style scoped>\n",
       "    .dataframe tbody tr th:only-of-type {\n",
       "        vertical-align: middle;\n",
       "    }\n",
       "\n",
       "    .dataframe tbody tr th {\n",
       "        vertical-align: top;\n",
       "    }\n",
       "\n",
       "    .dataframe thead th {\n",
       "        text-align: right;\n",
       "    }\n",
       "</style>\n",
       "<table border=\"1\" class=\"dataframe\">\n",
       "  <thead>\n",
       "    <tr style=\"text-align: right;\">\n",
       "      <th></th>\n",
       "      <th>DATE</th>\n",
       "      <th>USD1MTD156N</th>\n",
       "      <th>GBP1MTD156N</th>\n",
       "    </tr>\n",
       "  </thead>\n",
       "  <tbody>\n",
       "    <tr>\n",
       "      <th>5184</th>\n",
       "      <td>2019-11-18</td>\n",
       "      <td>1.72363</td>\n",
       "      <td>0.71175</td>\n",
       "    </tr>\n",
       "    <tr>\n",
       "      <th>5185</th>\n",
       "      <td>2019-11-19</td>\n",
       "      <td>1.72163</td>\n",
       "      <td>0.71325</td>\n",
       "    </tr>\n",
       "    <tr>\n",
       "      <th>5186</th>\n",
       "      <td>2019-11-20</td>\n",
       "      <td>1.71563</td>\n",
       "      <td>0.71388</td>\n",
       "    </tr>\n",
       "    <tr>\n",
       "      <th>5187</th>\n",
       "      <td>2019-11-21</td>\n",
       "      <td>1.708</td>\n",
       "      <td>0.71713</td>\n",
       "    </tr>\n",
       "    <tr>\n",
       "      <th>5188</th>\n",
       "      <td>2019-11-22</td>\n",
       "      <td>1.70275</td>\n",
       "      <td>0.71338</td>\n",
       "    </tr>\n",
       "  </tbody>\n",
       "</table>\n",
       "</div>"
      ],
      "text/plain": [
       "           DATE USD1MTD156N GBP1MTD156N\n",
       "5184 2019-11-18     1.72363     0.71175\n",
       "5185 2019-11-19     1.72163     0.71325\n",
       "5186 2019-11-20     1.71563     0.71388\n",
       "5187 2019-11-21       1.708     0.71713\n",
       "5188 2019-11-22     1.70275     0.71338"
      ]
     },
     "execution_count": 13,
     "metadata": {},
     "output_type": "execute_result"
    }
   ],
   "source": [
    "port.tail()"
   ]
  },
  {
   "cell_type": "code",
   "execution_count": 14,
   "metadata": {},
   "outputs": [
    {
     "data": {
      "text/plain": [
       "DATE           datetime64[ns]\n",
       "USD1MTD156N            object\n",
       "GBP1MTD156N            object\n",
       "dtype: object"
      ]
     },
     "execution_count": 14,
     "metadata": {},
     "output_type": "execute_result"
    }
   ],
   "source": [
    "port.dtypes"
   ]
  },
  {
   "cell_type": "code",
   "execution_count": 15,
   "metadata": {},
   "outputs": [],
   "source": [
    "port.replace('.',np.NaN,inplace=True)"
   ]
  },
  {
   "cell_type": "code",
   "execution_count": 16,
   "metadata": {},
   "outputs": [],
   "source": [
    "port.iloc[:,1:]=port.iloc[:,1:].apply(pd.to_numeric,axis=1)"
   ]
  },
  {
   "cell_type": "markdown",
   "metadata": {},
   "source": [
    "### Курс GBP_USD"
   ]
  },
  {
   "cell_type": "code",
   "execution_count": 17,
   "metadata": {},
   "outputs": [],
   "source": [
    "GBP_USD=pd.read_csv('/Users/massimozharkovsky/Documents/ML/IFX/GBP_USD Historical Data.csv')"
   ]
  },
  {
   "cell_type": "code",
   "execution_count": 18,
   "metadata": {},
   "outputs": [
    {
     "data": {
      "text/plain": [
       "Date         object\n",
       "Price       float64\n",
       "Open        float64\n",
       "High        float64\n",
       "Low         float64\n",
       "Change %     object\n",
       "dtype: object"
      ]
     },
     "execution_count": 18,
     "metadata": {},
     "output_type": "execute_result"
    }
   ],
   "source": [
    "GBP_USD.dtypes"
   ]
  },
  {
   "cell_type": "code",
   "execution_count": 19,
   "metadata": {},
   "outputs": [],
   "source": [
    "GBP_USD['Date']=pd.to_datetime(GBP_USD['Date'],format='%b %d, %Y')"
   ]
  },
  {
   "cell_type": "code",
   "execution_count": 20,
   "metadata": {},
   "outputs": [
    {
     "data": {
      "text/html": [
       "<div>\n",
       "<style scoped>\n",
       "    .dataframe tbody tr th:only-of-type {\n",
       "        vertical-align: middle;\n",
       "    }\n",
       "\n",
       "    .dataframe tbody tr th {\n",
       "        vertical-align: top;\n",
       "    }\n",
       "\n",
       "    .dataframe thead th {\n",
       "        text-align: right;\n",
       "    }\n",
       "</style>\n",
       "<table border=\"1\" class=\"dataframe\">\n",
       "  <thead>\n",
       "    <tr style=\"text-align: right;\">\n",
       "      <th></th>\n",
       "      <th>Date</th>\n",
       "      <th>Price</th>\n",
       "      <th>Open</th>\n",
       "      <th>High</th>\n",
       "      <th>Low</th>\n",
       "      <th>Change %</th>\n",
       "    </tr>\n",
       "  </thead>\n",
       "  <tbody>\n",
       "    <tr>\n",
       "      <th>0</th>\n",
       "      <td>2019-12-13</td>\n",
       "      <td>1.3326</td>\n",
       "      <td>1.3473</td>\n",
       "      <td>1.3508</td>\n",
       "      <td>1.3306</td>\n",
       "      <td>1.23%</td>\n",
       "    </tr>\n",
       "    <tr>\n",
       "      <th>1</th>\n",
       "      <td>2019-12-12</td>\n",
       "      <td>1.3164</td>\n",
       "      <td>1.3202</td>\n",
       "      <td>1.3231</td>\n",
       "      <td>1.3052</td>\n",
       "      <td>-0.23%</td>\n",
       "    </tr>\n",
       "    <tr>\n",
       "      <th>2</th>\n",
       "      <td>2019-12-11</td>\n",
       "      <td>1.3195</td>\n",
       "      <td>1.3157</td>\n",
       "      <td>1.3215</td>\n",
       "      <td>1.3106</td>\n",
       "      <td>0.30%</td>\n",
       "    </tr>\n",
       "    <tr>\n",
       "      <th>3</th>\n",
       "      <td>2019-12-10</td>\n",
       "      <td>1.3156</td>\n",
       "      <td>1.3151</td>\n",
       "      <td>1.3217</td>\n",
       "      <td>1.3132</td>\n",
       "      <td>0.08%</td>\n",
       "    </tr>\n",
       "    <tr>\n",
       "      <th>4</th>\n",
       "      <td>2019-12-09</td>\n",
       "      <td>1.3145</td>\n",
       "      <td>1.3138</td>\n",
       "      <td>1.3182</td>\n",
       "      <td>1.3117</td>\n",
       "      <td>0.06%</td>\n",
       "    </tr>\n",
       "  </tbody>\n",
       "</table>\n",
       "</div>"
      ],
      "text/plain": [
       "        Date   Price    Open    High     Low Change %\n",
       "0 2019-12-13  1.3326  1.3473  1.3508  1.3306    1.23%\n",
       "1 2019-12-12  1.3164  1.3202  1.3231  1.3052   -0.23%\n",
       "2 2019-12-11  1.3195  1.3157  1.3215  1.3106    0.30%\n",
       "3 2019-12-10  1.3156  1.3151  1.3217  1.3132    0.08%\n",
       "4 2019-12-09  1.3145  1.3138  1.3182  1.3117    0.06%"
      ]
     },
     "execution_count": 20,
     "metadata": {},
     "output_type": "execute_result"
    }
   ],
   "source": [
    "GBP_USD.head()"
   ]
  },
  {
   "cell_type": "code",
   "execution_count": 21,
   "metadata": {},
   "outputs": [],
   "source": [
    "port=port.merge(GBP_USD[['Date','Price']],how='inner',left_on='DATE',right_on='Date')"
   ]
  },
  {
   "cell_type": "code",
   "execution_count": 22,
   "metadata": {},
   "outputs": [
    {
     "data": {
      "text/html": [
       "<div>\n",
       "<style scoped>\n",
       "    .dataframe tbody tr th:only-of-type {\n",
       "        vertical-align: middle;\n",
       "    }\n",
       "\n",
       "    .dataframe tbody tr th {\n",
       "        vertical-align: top;\n",
       "    }\n",
       "\n",
       "    .dataframe thead th {\n",
       "        text-align: right;\n",
       "    }\n",
       "</style>\n",
       "<table border=\"1\" class=\"dataframe\">\n",
       "  <thead>\n",
       "    <tr style=\"text-align: right;\">\n",
       "      <th></th>\n",
       "      <th>DATE</th>\n",
       "      <th>USD1MTD156N</th>\n",
       "      <th>GBP1MTD156N</th>\n",
       "      <th>Date</th>\n",
       "      <th>Price</th>\n",
       "    </tr>\n",
       "  </thead>\n",
       "  <tbody>\n",
       "    <tr>\n",
       "      <th>0</th>\n",
       "      <td>2001-01-02</td>\n",
       "      <td>6.54750</td>\n",
       "      <td>5.91828</td>\n",
       "      <td>2001-01-02</td>\n",
       "      <td>1.5005</td>\n",
       "    </tr>\n",
       "    <tr>\n",
       "      <th>1</th>\n",
       "      <td>2001-01-03</td>\n",
       "      <td>6.50750</td>\n",
       "      <td>5.93813</td>\n",
       "      <td>2001-01-03</td>\n",
       "      <td>1.4911</td>\n",
       "    </tr>\n",
       "    <tr>\n",
       "      <th>2</th>\n",
       "      <td>2001-01-04</td>\n",
       "      <td>6.05000</td>\n",
       "      <td>5.89375</td>\n",
       "      <td>2001-01-04</td>\n",
       "      <td>1.5016</td>\n",
       "    </tr>\n",
       "    <tr>\n",
       "      <th>3</th>\n",
       "      <td>2001-01-05</td>\n",
       "      <td>5.93625</td>\n",
       "      <td>5.86859</td>\n",
       "      <td>2001-01-05</td>\n",
       "      <td>1.5029</td>\n",
       "    </tr>\n",
       "    <tr>\n",
       "      <th>4</th>\n",
       "      <td>2001-01-08</td>\n",
       "      <td>5.88375</td>\n",
       "      <td>5.85672</td>\n",
       "      <td>2001-01-08</td>\n",
       "      <td>1.4963</td>\n",
       "    </tr>\n",
       "  </tbody>\n",
       "</table>\n",
       "</div>"
      ],
      "text/plain": [
       "        DATE  USD1MTD156N  GBP1MTD156N       Date   Price\n",
       "0 2001-01-02      6.54750      5.91828 2001-01-02  1.5005\n",
       "1 2001-01-03      6.50750      5.93813 2001-01-03  1.4911\n",
       "2 2001-01-04      6.05000      5.89375 2001-01-04  1.5016\n",
       "3 2001-01-05      5.93625      5.86859 2001-01-05  1.5029\n",
       "4 2001-01-08      5.88375      5.85672 2001-01-08  1.4963"
      ]
     },
     "execution_count": 22,
     "metadata": {},
     "output_type": "execute_result"
    }
   ],
   "source": [
    "port.head()"
   ]
  },
  {
   "cell_type": "code",
   "execution_count": 23,
   "metadata": {},
   "outputs": [],
   "source": [
    "port.drop('Date',axis=1,inplace=True)"
   ]
  },
  {
   "cell_type": "markdown",
   "metadata": {},
   "source": [
    "### Исторические значения индекса FTSE 100"
   ]
  },
  {
   "cell_type": "code",
   "execution_count": 24,
   "metadata": {},
   "outputs": [],
   "source": [
    "ftse=pd.read_csv('/Users/massimozharkovsky/Documents/ML/IFX/FTSE 100 Historical Data.csv')"
   ]
  },
  {
   "cell_type": "code",
   "execution_count": 25,
   "metadata": {},
   "outputs": [
    {
     "data": {
      "text/html": [
       "<div>\n",
       "<style scoped>\n",
       "    .dataframe tbody tr th:only-of-type {\n",
       "        vertical-align: middle;\n",
       "    }\n",
       "\n",
       "    .dataframe tbody tr th {\n",
       "        vertical-align: top;\n",
       "    }\n",
       "\n",
       "    .dataframe thead th {\n",
       "        text-align: right;\n",
       "    }\n",
       "</style>\n",
       "<table border=\"1\" class=\"dataframe\">\n",
       "  <thead>\n",
       "    <tr style=\"text-align: right;\">\n",
       "      <th></th>\n",
       "      <th>Date</th>\n",
       "      <th>Price</th>\n",
       "      <th>Open</th>\n",
       "      <th>High</th>\n",
       "      <th>Low</th>\n",
       "      <th>Vol.</th>\n",
       "      <th>Change %</th>\n",
       "    </tr>\n",
       "  </thead>\n",
       "  <tbody>\n",
       "    <tr>\n",
       "      <th>4783</th>\n",
       "      <td>Jan 09, 2001</td>\n",
       "      <td>6,088.10</td>\n",
       "      <td>6,149.60</td>\n",
       "      <td>6,195.90</td>\n",
       "      <td>6,066.40</td>\n",
       "      <td>-</td>\n",
       "      <td>-1.00%</td>\n",
       "    </tr>\n",
       "    <tr>\n",
       "      <th>4784</th>\n",
       "      <td>Jan 08, 2001</td>\n",
       "      <td>6,149.60</td>\n",
       "      <td>6,198.10</td>\n",
       "      <td>6,212.40</td>\n",
       "      <td>6,137.70</td>\n",
       "      <td>-</td>\n",
       "      <td>-0.78%</td>\n",
       "    </tr>\n",
       "    <tr>\n",
       "      <th>4785</th>\n",
       "      <td>Jan 05, 2001</td>\n",
       "      <td>6,198.10</td>\n",
       "      <td>6,185.60</td>\n",
       "      <td>6,239.60</td>\n",
       "      <td>6,155.00</td>\n",
       "      <td>-</td>\n",
       "      <td>0.20%</td>\n",
       "    </tr>\n",
       "    <tr>\n",
       "      <th>4786</th>\n",
       "      <td>Jan 04, 2001</td>\n",
       "      <td>6,185.60</td>\n",
       "      <td>6,039.90</td>\n",
       "      <td>6,195.30</td>\n",
       "      <td>6,039.90</td>\n",
       "      <td>-</td>\n",
       "      <td>2.41%</td>\n",
       "    </tr>\n",
       "    <tr>\n",
       "      <th>4787</th>\n",
       "      <td>Jan 03, 2001</td>\n",
       "      <td>6,039.90</td>\n",
       "      <td>6,174.70</td>\n",
       "      <td>6,174.70</td>\n",
       "      <td>6,029.30</td>\n",
       "      <td>-</td>\n",
       "      <td>-2.18%</td>\n",
       "    </tr>\n",
       "  </tbody>\n",
       "</table>\n",
       "</div>"
      ],
      "text/plain": [
       "              Date     Price      Open      High       Low Vol. Change %\n",
       "4783  Jan 09, 2001  6,088.10  6,149.60  6,195.90  6,066.40    -   -1.00%\n",
       "4784  Jan 08, 2001  6,149.60  6,198.10  6,212.40  6,137.70    -   -0.78%\n",
       "4785  Jan 05, 2001  6,198.10  6,185.60  6,239.60  6,155.00    -    0.20%\n",
       "4786  Jan 04, 2001  6,185.60  6,039.90  6,195.30  6,039.90    -    2.41%\n",
       "4787  Jan 03, 2001  6,039.90  6,174.70  6,174.70  6,029.30    -   -2.18%"
      ]
     },
     "execution_count": 25,
     "metadata": {},
     "output_type": "execute_result"
    }
   ],
   "source": [
    "ftse.tail()"
   ]
  },
  {
   "cell_type": "code",
   "execution_count": 26,
   "metadata": {},
   "outputs": [],
   "source": [
    "ftse['Date']=pd.to_datetime(ftse['Date'],format='%b %d, %Y')"
   ]
  },
  {
   "cell_type": "code",
   "execution_count": 27,
   "metadata": {},
   "outputs": [
    {
     "data": {
      "text/html": [
       "<div>\n",
       "<style scoped>\n",
       "    .dataframe tbody tr th:only-of-type {\n",
       "        vertical-align: middle;\n",
       "    }\n",
       "\n",
       "    .dataframe tbody tr th {\n",
       "        vertical-align: top;\n",
       "    }\n",
       "\n",
       "    .dataframe thead th {\n",
       "        text-align: right;\n",
       "    }\n",
       "</style>\n",
       "<table border=\"1\" class=\"dataframe\">\n",
       "  <thead>\n",
       "    <tr style=\"text-align: right;\">\n",
       "      <th></th>\n",
       "      <th>Date</th>\n",
       "      <th>Price</th>\n",
       "      <th>Open</th>\n",
       "      <th>High</th>\n",
       "      <th>Low</th>\n",
       "      <th>Vol.</th>\n",
       "      <th>Change %</th>\n",
       "    </tr>\n",
       "  </thead>\n",
       "  <tbody>\n",
       "    <tr>\n",
       "      <th>0</th>\n",
       "      <td>2019-12-13</td>\n",
       "      <td>7,413.35</td>\n",
       "      <td>7,332.55</td>\n",
       "      <td>7,417.55</td>\n",
       "      <td>7,290.83</td>\n",
       "      <td>-</td>\n",
       "      <td>1.92%</td>\n",
       "    </tr>\n",
       "    <tr>\n",
       "      <th>1</th>\n",
       "      <td>2019-12-12</td>\n",
       "      <td>7,273.47</td>\n",
       "      <td>7,216.25</td>\n",
       "      <td>7,307.36</td>\n",
       "      <td>7,216.08</td>\n",
       "      <td>727.08M</td>\n",
       "      <td>0.79%</td>\n",
       "    </tr>\n",
       "    <tr>\n",
       "      <th>2</th>\n",
       "      <td>2019-12-11</td>\n",
       "      <td>7,216.25</td>\n",
       "      <td>7,213.76</td>\n",
       "      <td>7,250.67</td>\n",
       "      <td>7,195.49</td>\n",
       "      <td>820.83M</td>\n",
       "      <td>0.03%</td>\n",
       "    </tr>\n",
       "    <tr>\n",
       "      <th>3</th>\n",
       "      <td>2019-12-10</td>\n",
       "      <td>7,213.76</td>\n",
       "      <td>7,233.90</td>\n",
       "      <td>7,234.40</td>\n",
       "      <td>7,137.84</td>\n",
       "      <td>703.52M</td>\n",
       "      <td>-0.28%</td>\n",
       "    </tr>\n",
       "    <tr>\n",
       "      <th>4</th>\n",
       "      <td>2019-12-09</td>\n",
       "      <td>7,233.90</td>\n",
       "      <td>7,239.66</td>\n",
       "      <td>7,255.73</td>\n",
       "      <td>7,217.80</td>\n",
       "      <td>619.39M</td>\n",
       "      <td>-0.08%</td>\n",
       "    </tr>\n",
       "  </tbody>\n",
       "</table>\n",
       "</div>"
      ],
      "text/plain": [
       "        Date     Price      Open      High       Low     Vol. Change %\n",
       "0 2019-12-13  7,413.35  7,332.55  7,417.55  7,290.83        -    1.92%\n",
       "1 2019-12-12  7,273.47  7,216.25  7,307.36  7,216.08  727.08M    0.79%\n",
       "2 2019-12-11  7,216.25  7,213.76  7,250.67  7,195.49  820.83M    0.03%\n",
       "3 2019-12-10  7,213.76  7,233.90  7,234.40  7,137.84  703.52M   -0.28%\n",
       "4 2019-12-09  7,233.90  7,239.66  7,255.73  7,217.80  619.39M   -0.08%"
      ]
     },
     "execution_count": 27,
     "metadata": {},
     "output_type": "execute_result"
    }
   ],
   "source": [
    "ftse.head()"
   ]
  },
  {
   "cell_type": "code",
   "execution_count": 28,
   "metadata": {},
   "outputs": [],
   "source": [
    "ftse.iloc[:,1:5]=ftse.iloc[:,1:5].applymap(lambda x:float(str(x).replace(',','')))"
   ]
  },
  {
   "cell_type": "code",
   "execution_count": 29,
   "metadata": {},
   "outputs": [
    {
     "data": {
      "text/plain": [
       "Date        datetime64[ns]\n",
       "Price              float64\n",
       "Open               float64\n",
       "High               float64\n",
       "Low                float64\n",
       "Vol.                object\n",
       "Change %            object\n",
       "dtype: object"
      ]
     },
     "execution_count": 29,
     "metadata": {},
     "output_type": "execute_result"
    }
   ],
   "source": [
    "ftse.dtypes"
   ]
  },
  {
   "cell_type": "code",
   "execution_count": 30,
   "metadata": {},
   "outputs": [
    {
     "data": {
      "text/html": [
       "<div>\n",
       "<style scoped>\n",
       "    .dataframe tbody tr th:only-of-type {\n",
       "        vertical-align: middle;\n",
       "    }\n",
       "\n",
       "    .dataframe tbody tr th {\n",
       "        vertical-align: top;\n",
       "    }\n",
       "\n",
       "    .dataframe thead th {\n",
       "        text-align: right;\n",
       "    }\n",
       "</style>\n",
       "<table border=\"1\" class=\"dataframe\">\n",
       "  <thead>\n",
       "    <tr style=\"text-align: right;\">\n",
       "      <th></th>\n",
       "      <th>Date</th>\n",
       "      <th>Price</th>\n",
       "      <th>Open</th>\n",
       "      <th>High</th>\n",
       "      <th>Low</th>\n",
       "      <th>Vol.</th>\n",
       "      <th>Change %</th>\n",
       "    </tr>\n",
       "  </thead>\n",
       "  <tbody>\n",
       "    <tr>\n",
       "      <th>4783</th>\n",
       "      <td>2001-01-09</td>\n",
       "      <td>6088.1</td>\n",
       "      <td>6149.6</td>\n",
       "      <td>6195.9</td>\n",
       "      <td>6066.4</td>\n",
       "      <td>-</td>\n",
       "      <td>-1.00%</td>\n",
       "    </tr>\n",
       "    <tr>\n",
       "      <th>4784</th>\n",
       "      <td>2001-01-08</td>\n",
       "      <td>6149.6</td>\n",
       "      <td>6198.1</td>\n",
       "      <td>6212.4</td>\n",
       "      <td>6137.7</td>\n",
       "      <td>-</td>\n",
       "      <td>-0.78%</td>\n",
       "    </tr>\n",
       "    <tr>\n",
       "      <th>4785</th>\n",
       "      <td>2001-01-05</td>\n",
       "      <td>6198.1</td>\n",
       "      <td>6185.6</td>\n",
       "      <td>6239.6</td>\n",
       "      <td>6155.0</td>\n",
       "      <td>-</td>\n",
       "      <td>0.20%</td>\n",
       "    </tr>\n",
       "    <tr>\n",
       "      <th>4786</th>\n",
       "      <td>2001-01-04</td>\n",
       "      <td>6185.6</td>\n",
       "      <td>6039.9</td>\n",
       "      <td>6195.3</td>\n",
       "      <td>6039.9</td>\n",
       "      <td>-</td>\n",
       "      <td>2.41%</td>\n",
       "    </tr>\n",
       "    <tr>\n",
       "      <th>4787</th>\n",
       "      <td>2001-01-03</td>\n",
       "      <td>6039.9</td>\n",
       "      <td>6174.7</td>\n",
       "      <td>6174.7</td>\n",
       "      <td>6029.3</td>\n",
       "      <td>-</td>\n",
       "      <td>-2.18%</td>\n",
       "    </tr>\n",
       "  </tbody>\n",
       "</table>\n",
       "</div>"
      ],
      "text/plain": [
       "           Date   Price    Open    High     Low Vol. Change %\n",
       "4783 2001-01-09  6088.1  6149.6  6195.9  6066.4    -   -1.00%\n",
       "4784 2001-01-08  6149.6  6198.1  6212.4  6137.7    -   -0.78%\n",
       "4785 2001-01-05  6198.1  6185.6  6239.6  6155.0    -    0.20%\n",
       "4786 2001-01-04  6185.6  6039.9  6195.3  6039.9    -    2.41%\n",
       "4787 2001-01-03  6039.9  6174.7  6174.7  6029.3    -   -2.18%"
      ]
     },
     "execution_count": 30,
     "metadata": {},
     "output_type": "execute_result"
    }
   ],
   "source": [
    "ftse.tail()"
   ]
  },
  {
   "cell_type": "code",
   "execution_count": 31,
   "metadata": {},
   "outputs": [],
   "source": [
    "port=port.merge(ftse[['Date','Price']],how='inner',left_on='DATE',right_on='Date')"
   ]
  },
  {
   "cell_type": "code",
   "execution_count": 32,
   "metadata": {},
   "outputs": [
    {
     "data": {
      "text/html": [
       "<div>\n",
       "<style scoped>\n",
       "    .dataframe tbody tr th:only-of-type {\n",
       "        vertical-align: middle;\n",
       "    }\n",
       "\n",
       "    .dataframe tbody tr th {\n",
       "        vertical-align: top;\n",
       "    }\n",
       "\n",
       "    .dataframe thead th {\n",
       "        text-align: right;\n",
       "    }\n",
       "</style>\n",
       "<table border=\"1\" class=\"dataframe\">\n",
       "  <thead>\n",
       "    <tr style=\"text-align: right;\">\n",
       "      <th></th>\n",
       "      <th>DATE</th>\n",
       "      <th>USD1MTD156N</th>\n",
       "      <th>GBP1MTD156N</th>\n",
       "      <th>Price_x</th>\n",
       "      <th>Date</th>\n",
       "      <th>Price_y</th>\n",
       "    </tr>\n",
       "  </thead>\n",
       "  <tbody>\n",
       "    <tr>\n",
       "      <th>4768</th>\n",
       "      <td>2019-11-18</td>\n",
       "      <td>1.72363</td>\n",
       "      <td>0.71175</td>\n",
       "      <td>1.2954</td>\n",
       "      <td>2019-11-18</td>\n",
       "      <td>7307.70</td>\n",
       "    </tr>\n",
       "    <tr>\n",
       "      <th>4769</th>\n",
       "      <td>2019-11-19</td>\n",
       "      <td>1.72163</td>\n",
       "      <td>0.71325</td>\n",
       "      <td>1.2926</td>\n",
       "      <td>2019-11-19</td>\n",
       "      <td>7323.80</td>\n",
       "    </tr>\n",
       "    <tr>\n",
       "      <th>4770</th>\n",
       "      <td>2019-11-20</td>\n",
       "      <td>1.71563</td>\n",
       "      <td>0.71388</td>\n",
       "      <td>1.2924</td>\n",
       "      <td>2019-11-20</td>\n",
       "      <td>7262.49</td>\n",
       "    </tr>\n",
       "    <tr>\n",
       "      <th>4771</th>\n",
       "      <td>2019-11-21</td>\n",
       "      <td>1.70800</td>\n",
       "      <td>0.71713</td>\n",
       "      <td>1.2914</td>\n",
       "      <td>2019-11-21</td>\n",
       "      <td>7238.55</td>\n",
       "    </tr>\n",
       "    <tr>\n",
       "      <th>4772</th>\n",
       "      <td>2019-11-22</td>\n",
       "      <td>1.70275</td>\n",
       "      <td>0.71338</td>\n",
       "      <td>1.2832</td>\n",
       "      <td>2019-11-22</td>\n",
       "      <td>7326.81</td>\n",
       "    </tr>\n",
       "  </tbody>\n",
       "</table>\n",
       "</div>"
      ],
      "text/plain": [
       "           DATE  USD1MTD156N  GBP1MTD156N  Price_x       Date  Price_y\n",
       "4768 2019-11-18      1.72363      0.71175   1.2954 2019-11-18  7307.70\n",
       "4769 2019-11-19      1.72163      0.71325   1.2926 2019-11-19  7323.80\n",
       "4770 2019-11-20      1.71563      0.71388   1.2924 2019-11-20  7262.49\n",
       "4771 2019-11-21      1.70800      0.71713   1.2914 2019-11-21  7238.55\n",
       "4772 2019-11-22      1.70275      0.71338   1.2832 2019-11-22  7326.81"
      ]
     },
     "execution_count": 32,
     "metadata": {},
     "output_type": "execute_result"
    }
   ],
   "source": [
    "port.tail()"
   ]
  },
  {
   "cell_type": "code",
   "execution_count": 33,
   "metadata": {},
   "outputs": [],
   "source": [
    "port.drop('Date',axis=1,inplace=True)"
   ]
  },
  {
   "cell_type": "code",
   "execution_count": 34,
   "metadata": {},
   "outputs": [],
   "source": [
    "port.rename({'Price_x':'GBP_USD','Price_y':'FTSE'},axis=1,inplace=True)"
   ]
  },
  {
   "cell_type": "code",
   "execution_count": 35,
   "metadata": {},
   "outputs": [
    {
     "data": {
      "text/html": [
       "<div>\n",
       "<style scoped>\n",
       "    .dataframe tbody tr th:only-of-type {\n",
       "        vertical-align: middle;\n",
       "    }\n",
       "\n",
       "    .dataframe tbody tr th {\n",
       "        vertical-align: top;\n",
       "    }\n",
       "\n",
       "    .dataframe thead th {\n",
       "        text-align: right;\n",
       "    }\n",
       "</style>\n",
       "<table border=\"1\" class=\"dataframe\">\n",
       "  <thead>\n",
       "    <tr style=\"text-align: right;\">\n",
       "      <th></th>\n",
       "      <th>DATE</th>\n",
       "      <th>USD1MTD156N</th>\n",
       "      <th>GBP1MTD156N</th>\n",
       "      <th>GBP_USD</th>\n",
       "      <th>FTSE</th>\n",
       "    </tr>\n",
       "  </thead>\n",
       "  <tbody>\n",
       "    <tr>\n",
       "      <th>0</th>\n",
       "      <td>2001-01-03</td>\n",
       "      <td>6.50750</td>\n",
       "      <td>5.93813</td>\n",
       "      <td>1.4911</td>\n",
       "      <td>6039.9</td>\n",
       "    </tr>\n",
       "    <tr>\n",
       "      <th>1</th>\n",
       "      <td>2001-01-04</td>\n",
       "      <td>6.05000</td>\n",
       "      <td>5.89375</td>\n",
       "      <td>1.5016</td>\n",
       "      <td>6185.6</td>\n",
       "    </tr>\n",
       "    <tr>\n",
       "      <th>2</th>\n",
       "      <td>2001-01-05</td>\n",
       "      <td>5.93625</td>\n",
       "      <td>5.86859</td>\n",
       "      <td>1.5029</td>\n",
       "      <td>6198.1</td>\n",
       "    </tr>\n",
       "    <tr>\n",
       "      <th>3</th>\n",
       "      <td>2001-01-08</td>\n",
       "      <td>5.88375</td>\n",
       "      <td>5.85672</td>\n",
       "      <td>1.4963</td>\n",
       "      <td>6149.6</td>\n",
       "    </tr>\n",
       "    <tr>\n",
       "      <th>4</th>\n",
       "      <td>2001-01-09</td>\n",
       "      <td>5.88125</td>\n",
       "      <td>5.86250</td>\n",
       "      <td>1.4905</td>\n",
       "      <td>6088.1</td>\n",
       "    </tr>\n",
       "  </tbody>\n",
       "</table>\n",
       "</div>"
      ],
      "text/plain": [
       "        DATE  USD1MTD156N  GBP1MTD156N  GBP_USD    FTSE\n",
       "0 2001-01-03      6.50750      5.93813   1.4911  6039.9\n",
       "1 2001-01-04      6.05000      5.89375   1.5016  6185.6\n",
       "2 2001-01-05      5.93625      5.86859   1.5029  6198.1\n",
       "3 2001-01-08      5.88375      5.85672   1.4963  6149.6\n",
       "4 2001-01-09      5.88125      5.86250   1.4905  6088.1"
      ]
     },
     "execution_count": 35,
     "metadata": {},
     "output_type": "execute_result"
    }
   ],
   "source": [
    "port.head()"
   ]
  },
  {
   "cell_type": "markdown",
   "metadata": {},
   "source": [
    "### Преобразование массива дневных данных в массив месячных данных"
   ]
  },
  {
   "cell_type": "code",
   "execution_count": 36,
   "metadata": {},
   "outputs": [],
   "source": [
    "port.index=pd.DatetimeIndex(port['DATE'])"
   ]
  },
  {
   "cell_type": "code",
   "execution_count": 37,
   "metadata": {},
   "outputs": [],
   "source": [
    "port_BM=port.resample('BM').last() ## берем данные, соответствующие последнему рабочему дню месяца"
   ]
  },
  {
   "cell_type": "code",
   "execution_count": 38,
   "metadata": {},
   "outputs": [],
   "source": [
    "base=360\n",
    "term=30"
   ]
  },
  {
   "cell_type": "code",
   "execution_count": 39,
   "metadata": {},
   "outputs": [
    {
     "data": {
      "text/html": [
       "<div>\n",
       "<style scoped>\n",
       "    .dataframe tbody tr th:only-of-type {\n",
       "        vertical-align: middle;\n",
       "    }\n",
       "\n",
       "    .dataframe tbody tr th {\n",
       "        vertical-align: top;\n",
       "    }\n",
       "\n",
       "    .dataframe thead th {\n",
       "        text-align: right;\n",
       "    }\n",
       "</style>\n",
       "<table border=\"1\" class=\"dataframe\">\n",
       "  <thead>\n",
       "    <tr style=\"text-align: right;\">\n",
       "      <th></th>\n",
       "      <th>DATE</th>\n",
       "      <th>USD1MTD156N</th>\n",
       "      <th>GBP1MTD156N</th>\n",
       "      <th>GBP_USD</th>\n",
       "      <th>FTSE</th>\n",
       "    </tr>\n",
       "    <tr>\n",
       "      <th>DATE</th>\n",
       "      <th></th>\n",
       "      <th></th>\n",
       "      <th></th>\n",
       "      <th></th>\n",
       "      <th></th>\n",
       "    </tr>\n",
       "  </thead>\n",
       "  <tbody>\n",
       "    <tr>\n",
       "      <th>2019-07-31</th>\n",
       "      <td>2019-07-31</td>\n",
       "      <td>2.22425</td>\n",
       "      <td>0.71325</td>\n",
       "      <td>1.2159</td>\n",
       "      <td>7586.78</td>\n",
       "    </tr>\n",
       "    <tr>\n",
       "      <th>2019-08-30</th>\n",
       "      <td>2019-08-30</td>\n",
       "      <td>2.08900</td>\n",
       "      <td>0.70800</td>\n",
       "      <td>1.2158</td>\n",
       "      <td>7207.18</td>\n",
       "    </tr>\n",
       "    <tr>\n",
       "      <th>2019-09-30</th>\n",
       "      <td>2019-09-30</td>\n",
       "      <td>2.01563</td>\n",
       "      <td>0.71525</td>\n",
       "      <td>1.2289</td>\n",
       "      <td>7408.21</td>\n",
       "    </tr>\n",
       "    <tr>\n",
       "      <th>2019-10-31</th>\n",
       "      <td>2019-10-31</td>\n",
       "      <td>1.78488</td>\n",
       "      <td>0.71325</td>\n",
       "      <td>1.2942</td>\n",
       "      <td>7248.38</td>\n",
       "    </tr>\n",
       "    <tr>\n",
       "      <th>2019-11-29</th>\n",
       "      <td>2019-11-22</td>\n",
       "      <td>1.70275</td>\n",
       "      <td>0.71338</td>\n",
       "      <td>1.2832</td>\n",
       "      <td>7326.81</td>\n",
       "    </tr>\n",
       "  </tbody>\n",
       "</table>\n",
       "</div>"
      ],
      "text/plain": [
       "                 DATE  USD1MTD156N  GBP1MTD156N  GBP_USD     FTSE\n",
       "DATE                                                             \n",
       "2019-07-31 2019-07-31      2.22425      0.71325   1.2159  7586.78\n",
       "2019-08-30 2019-08-30      2.08900      0.70800   1.2158  7207.18\n",
       "2019-09-30 2019-09-30      2.01563      0.71525   1.2289  7408.21\n",
       "2019-10-31 2019-10-31      1.78488      0.71325   1.2942  7248.38\n",
       "2019-11-29 2019-11-22      1.70275      0.71338   1.2832  7326.81"
      ]
     },
     "execution_count": 39,
     "metadata": {},
     "output_type": "execute_result"
    }
   ],
   "source": [
    "port_BM.tail()"
   ]
  },
  {
   "cell_type": "markdown",
   "metadata": {},
   "source": [
    "### Расчет одномесячного валютного форварда и логарифмических доходностей для форварда и индекса FTSE"
   ]
  },
  {
   "cell_type": "code",
   "execution_count": 40,
   "metadata": {},
   "outputs": [],
   "source": [
    "port_BM['1MForward']=port_BM['GBP_USD']*np.exp(((port_BM.USD1MTD156N-port_BM.GBP1MTD156N)/100)*(term/base))"
   ]
  },
  {
   "cell_type": "code",
   "execution_count": 41,
   "metadata": {},
   "outputs": [],
   "source": [
    "port_BM['Log_ret_1MForward']=np.log(port_BM['1MForward']/port_BM['1MForward'].shift(1))"
   ]
  },
  {
   "cell_type": "code",
   "execution_count": 42,
   "metadata": {},
   "outputs": [],
   "source": [
    "port_BM['Log_ret_FTSE']=np.log(port_BM['FTSE']/port_BM['FTSE'].shift(1))"
   ]
  },
  {
   "cell_type": "code",
   "execution_count": 43,
   "metadata": {},
   "outputs": [
    {
     "data": {
      "text/html": [
       "<div>\n",
       "<style scoped>\n",
       "    .dataframe tbody tr th:only-of-type {\n",
       "        vertical-align: middle;\n",
       "    }\n",
       "\n",
       "    .dataframe tbody tr th {\n",
       "        vertical-align: top;\n",
       "    }\n",
       "\n",
       "    .dataframe thead th {\n",
       "        text-align: right;\n",
       "    }\n",
       "</style>\n",
       "<table border=\"1\" class=\"dataframe\">\n",
       "  <thead>\n",
       "    <tr style=\"text-align: right;\">\n",
       "      <th></th>\n",
       "      <th>DATE</th>\n",
       "      <th>USD1MTD156N</th>\n",
       "      <th>GBP1MTD156N</th>\n",
       "      <th>GBP_USD</th>\n",
       "      <th>FTSE</th>\n",
       "      <th>1MForward</th>\n",
       "      <th>Log_ret_1MForward</th>\n",
       "      <th>Log_ret_FTSE</th>\n",
       "    </tr>\n",
       "    <tr>\n",
       "      <th>DATE</th>\n",
       "      <th></th>\n",
       "      <th></th>\n",
       "      <th></th>\n",
       "      <th></th>\n",
       "      <th></th>\n",
       "      <th></th>\n",
       "      <th></th>\n",
       "      <th></th>\n",
       "    </tr>\n",
       "  </thead>\n",
       "  <tbody>\n",
       "    <tr>\n",
       "      <th>2001-01-31</th>\n",
       "      <td>2001-01-31</td>\n",
       "      <td>5.5700</td>\n",
       "      <td>5.89953</td>\n",
       "      <td>1.4637</td>\n",
       "      <td>6297.5</td>\n",
       "      <td>1.463298</td>\n",
       "      <td>NaN</td>\n",
       "      <td>NaN</td>\n",
       "    </tr>\n",
       "    <tr>\n",
       "      <th>2001-02-28</th>\n",
       "      <td>2001-02-28</td>\n",
       "      <td>5.2075</td>\n",
       "      <td>5.72219</td>\n",
       "      <td>1.4446</td>\n",
       "      <td>5917.9</td>\n",
       "      <td>1.443981</td>\n",
       "      <td>-0.013289</td>\n",
       "      <td>-0.062171</td>\n",
       "    </tr>\n",
       "    <tr>\n",
       "      <th>2001-03-30</th>\n",
       "      <td>2001-03-30</td>\n",
       "      <td>5.0800</td>\n",
       "      <td>5.68844</td>\n",
       "      <td>1.4161</td>\n",
       "      <td>5633.7</td>\n",
       "      <td>1.415382</td>\n",
       "      <td>-0.020004</td>\n",
       "      <td>-0.049215</td>\n",
       "    </tr>\n",
       "    <tr>\n",
       "      <th>2001-04-30</th>\n",
       "      <td>2001-04-30</td>\n",
       "      <td>4.4325</td>\n",
       "      <td>5.42172</td>\n",
       "      <td>1.4324</td>\n",
       "      <td>5966.9</td>\n",
       "      <td>1.431220</td>\n",
       "      <td>0.011127</td>\n",
       "      <td>0.057461</td>\n",
       "    </tr>\n",
       "    <tr>\n",
       "      <th>2001-05-31</th>\n",
       "      <td>2001-05-31</td>\n",
       "      <td>4.0575</td>\n",
       "      <td>5.30563</td>\n",
       "      <td>1.4183</td>\n",
       "      <td>5796.1</td>\n",
       "      <td>1.416826</td>\n",
       "      <td>-0.010108</td>\n",
       "      <td>-0.029042</td>\n",
       "    </tr>\n",
       "  </tbody>\n",
       "</table>\n",
       "</div>"
      ],
      "text/plain": [
       "                 DATE  USD1MTD156N  GBP1MTD156N  GBP_USD    FTSE  1MForward  \\\n",
       "DATE                                                                          \n",
       "2001-01-31 2001-01-31       5.5700      5.89953   1.4637  6297.5   1.463298   \n",
       "2001-02-28 2001-02-28       5.2075      5.72219   1.4446  5917.9   1.443981   \n",
       "2001-03-30 2001-03-30       5.0800      5.68844   1.4161  5633.7   1.415382   \n",
       "2001-04-30 2001-04-30       4.4325      5.42172   1.4324  5966.9   1.431220   \n",
       "2001-05-31 2001-05-31       4.0575      5.30563   1.4183  5796.1   1.416826   \n",
       "\n",
       "            Log_ret_1MForward  Log_ret_FTSE  \n",
       "DATE                                         \n",
       "2001-01-31                NaN           NaN  \n",
       "2001-02-28          -0.013289     -0.062171  \n",
       "2001-03-30          -0.020004     -0.049215  \n",
       "2001-04-30           0.011127      0.057461  \n",
       "2001-05-31          -0.010108     -0.029042  "
      ]
     },
     "execution_count": 43,
     "metadata": {},
     "output_type": "execute_result"
    }
   ],
   "source": [
    "port_BM.head()"
   ]
  },
  {
   "cell_type": "markdown",
   "metadata": {},
   "source": [
    "### Расчет волатльности логарифмической доходности форварда и индекса, а также их корреляции"
   ]
  },
  {
   "cell_type": "code",
   "execution_count": 44,
   "metadata": {},
   "outputs": [],
   "source": [
    "sigma_index=np.std(port_BM['Log_ret_FTSE'])\n",
    "sigma_Forward=np.std(port_BM['Log_ret_1MForward'])"
   ]
  },
  {
   "cell_type": "code",
   "execution_count": 45,
   "metadata": {},
   "outputs": [
    {
     "data": {
      "text/plain": [
       "0.03881127423354874"
      ]
     },
     "execution_count": 45,
     "metadata": {},
     "output_type": "execute_result"
    }
   ],
   "source": [
    "sigma_index"
   ]
  },
  {
   "cell_type": "code",
   "execution_count": 46,
   "metadata": {},
   "outputs": [
    {
     "data": {
      "text/plain": [
       "0.025236323703846618"
      ]
     },
     "execution_count": 46,
     "metadata": {},
     "output_type": "execute_result"
    }
   ],
   "source": [
    "sigma_Forward"
   ]
  },
  {
   "cell_type": "code",
   "execution_count": 47,
   "metadata": {},
   "outputs": [
    {
     "data": {
      "text/plain": [
       "0.056489930411282"
      ]
     },
     "execution_count": 47,
     "metadata": {},
     "output_type": "execute_result"
    }
   ],
   "source": [
    "corr=np.corrcoef(port_BM['Log_ret_FTSE'][1:],port_BM['Log_ret_1MForward'][1:])[0,1]\n",
    "corr"
   ]
  },
  {
   "cell_type": "markdown",
   "metadata": {},
   "source": [
    "### Загрузка данных об усредненной дивидендной доходности по различным рынкам"
   ]
  },
  {
   "cell_type": "code",
   "execution_count": 48,
   "metadata": {},
   "outputs": [],
   "source": [
    "url='http://siblisresearch.com/data/global-dividend-yields/'"
   ]
  },
  {
   "cell_type": "code",
   "execution_count": 49,
   "metadata": {},
   "outputs": [],
   "source": [
    "page = requests.get(url)##  загрузка таблицы осуществляется непосредственно из html-страницы"
   ]
  },
  {
   "cell_type": "code",
   "execution_count": 50,
   "metadata": {},
   "outputs": [],
   "source": [
    "doc = lh.fromstring(page.content)"
   ]
  },
  {
   "cell_type": "markdown",
   "metadata": {},
   "source": [
    "### Создание dataframe с дивидендными доходностями и преобразование данных в корректный формат"
   ]
  },
  {
   "cell_type": "code",
   "execution_count": 51,
   "metadata": {},
   "outputs": [],
   "source": [
    "div=pd.read_html(url, header=None)"
   ]
  },
  {
   "cell_type": "code",
   "execution_count": 52,
   "metadata": {},
   "outputs": [],
   "source": [
    "div=div[0]"
   ]
  },
  {
   "cell_type": "code",
   "execution_count": 53,
   "metadata": {},
   "outputs": [
    {
     "data": {
      "text/html": [
       "<div>\n",
       "<style scoped>\n",
       "    .dataframe tbody tr th:only-of-type {\n",
       "        vertical-align: middle;\n",
       "    }\n",
       "\n",
       "    .dataframe tbody tr th {\n",
       "        vertical-align: top;\n",
       "    }\n",
       "\n",
       "    .dataframe thead th {\n",
       "        text-align: right;\n",
       "    }\n",
       "</style>\n",
       "<table border=\"1\" class=\"dataframe\">\n",
       "  <thead>\n",
       "    <tr style=\"text-align: right;\">\n",
       "      <th></th>\n",
       "      <th>Nation</th>\n",
       "      <th>6/30/2020</th>\n",
       "      <th>12/31/2019</th>\n",
       "      <th>6/30/2019</th>\n",
       "      <th>12/31/2018</th>\n",
       "      <th>6/30/2018</th>\n",
       "      <th>12/31/2017</th>\n",
       "      <th>6/30/2017</th>\n",
       "      <th>12/31/2016</th>\n",
       "      <th>6/30/2016</th>\n",
       "    </tr>\n",
       "  </thead>\n",
       "  <tbody>\n",
       "    <tr>\n",
       "      <th>0</th>\n",
       "      <td>Australia</td>\n",
       "      <td>4.39%</td>\n",
       "      <td>3.95%</td>\n",
       "      <td>3.89%</td>\n",
       "      <td>4.50%</td>\n",
       "      <td>4.03%</td>\n",
       "      <td>4.13%</td>\n",
       "      <td>4.19%</td>\n",
       "      <td>4.25%</td>\n",
       "      <td>4.63%</td>\n",
       "    </tr>\n",
       "    <tr>\n",
       "      <th>1</th>\n",
       "      <td>US</td>\n",
       "      <td>1.91%</td>\n",
       "      <td>1.80%</td>\n",
       "      <td>1.94%</td>\n",
       "      <td>1.98%</td>\n",
       "      <td>1.84%</td>\n",
       "      <td>1.83%</td>\n",
       "      <td>1.94%</td>\n",
       "      <td>2.03%</td>\n",
       "      <td>2.13%</td>\n",
       "    </tr>\n",
       "    <tr>\n",
       "      <th>2</th>\n",
       "      <td>UK</td>\n",
       "      <td>4.81%</td>\n",
       "      <td>4.36%</td>\n",
       "      <td>4.34%</td>\n",
       "      <td>4.46%</td>\n",
       "      <td>3.64%</td>\n",
       "      <td>3.59%</td>\n",
       "      <td>3.61%</td>\n",
       "      <td>3.47%</td>\n",
       "      <td>3.66%</td>\n",
       "    </tr>\n",
       "    <tr>\n",
       "      <th>3</th>\n",
       "      <td>Japan</td>\n",
       "      <td>2.07%</td>\n",
       "      <td>1.90%</td>\n",
       "      <td>2.10%</td>\n",
       "      <td>1.90%</td>\n",
       "      <td>1.61%</td>\n",
       "      <td>1.44%</td>\n",
       "      <td>1.68%</td>\n",
       "      <td>1.71%</td>\n",
       "      <td>1.97%</td>\n",
       "    </tr>\n",
       "    <tr>\n",
       "      <th>4</th>\n",
       "      <td>China</td>\n",
       "      <td>2.19%</td>\n",
       "      <td>2.24%</td>\n",
       "      <td>2.19%</td>\n",
       "      <td>2.70%</td>\n",
       "      <td>2.57%</td>\n",
       "      <td>1.77%</td>\n",
       "      <td>1.68%</td>\n",
       "      <td>1.83%</td>\n",
       "      <td>2.03%</td>\n",
       "    </tr>\n",
       "    <tr>\n",
       "      <th>5</th>\n",
       "      <td>Canada</td>\n",
       "      <td>3.35%</td>\n",
       "      <td>3.01%</td>\n",
       "      <td>3.10%</td>\n",
       "      <td>3.45%</td>\n",
       "      <td>2.92%</td>\n",
       "      <td>2.71%</td>\n",
       "      <td>2.85%</td>\n",
       "      <td>2.76%</td>\n",
       "      <td>2.99%</td>\n",
       "    </tr>\n",
       "    <tr>\n",
       "      <th>6</th>\n",
       "      <td>Germany</td>\n",
       "      <td>2.70%</td>\n",
       "      <td>2.54%</td>\n",
       "      <td>2.63%</td>\n",
       "      <td>2.71%</td>\n",
       "      <td>2.56%</td>\n",
       "      <td>2.71%</td>\n",
       "      <td>2.57%</td>\n",
       "      <td>2.47%</td>\n",
       "      <td>2.98%</td>\n",
       "    </tr>\n",
       "    <tr>\n",
       "      <th>7</th>\n",
       "      <td>Spain</td>\n",
       "      <td>4.23%</td>\n",
       "      <td>4.37%</td>\n",
       "      <td>4.62%</td>\n",
       "      <td>4.61%</td>\n",
       "      <td>3.71%</td>\n",
       "      <td>3.82%</td>\n",
       "      <td>3.67%</td>\n",
       "      <td>4.12%</td>\n",
       "      <td>4.89%</td>\n",
       "    </tr>\n",
       "    <tr>\n",
       "      <th>8</th>\n",
       "      <td>India</td>\n",
       "      <td>1.55%</td>\n",
       "      <td>1.24%</td>\n",
       "      <td>1.24%</td>\n",
       "      <td>1.24%</td>\n",
       "      <td>1.22%</td>\n",
       "      <td>1.08%</td>\n",
       "      <td>1.12%</td>\n",
       "      <td>1.35%</td>\n",
       "      <td>1.25%</td>\n",
       "    </tr>\n",
       "    <tr>\n",
       "      <th>9</th>\n",
       "      <td>France</td>\n",
       "      <td>2.28%</td>\n",
       "      <td>2.96%</td>\n",
       "      <td>3.30%</td>\n",
       "      <td>3.54%</td>\n",
       "      <td>3.31%</td>\n",
       "      <td>2.34%</td>\n",
       "      <td>3.24%</td>\n",
       "      <td>3.41%</td>\n",
       "      <td>4.05%</td>\n",
       "    </tr>\n",
       "  </tbody>\n",
       "</table>\n",
       "</div>"
      ],
      "text/plain": [
       "      Nation 6/30/2020 12/31/2019 6/30/2019 12/31/2018 6/30/2018 12/31/2017  \\\n",
       "0  Australia     4.39%      3.95%     3.89%      4.50%     4.03%      4.13%   \n",
       "1         US     1.91%      1.80%     1.94%      1.98%     1.84%      1.83%   \n",
       "2         UK     4.81%      4.36%     4.34%      4.46%     3.64%      3.59%   \n",
       "3      Japan     2.07%      1.90%     2.10%      1.90%     1.61%      1.44%   \n",
       "4      China     2.19%      2.24%     2.19%      2.70%     2.57%      1.77%   \n",
       "5     Canada     3.35%      3.01%     3.10%      3.45%     2.92%      2.71%   \n",
       "6    Germany     2.70%      2.54%     2.63%      2.71%     2.56%      2.71%   \n",
       "7      Spain     4.23%      4.37%     4.62%      4.61%     3.71%      3.82%   \n",
       "8      India     1.55%      1.24%     1.24%      1.24%     1.22%      1.08%   \n",
       "9     France     2.28%      2.96%     3.30%      3.54%     3.31%      2.34%   \n",
       "\n",
       "  6/30/2017 12/31/2016 6/30/2016  \n",
       "0     4.19%      4.25%     4.63%  \n",
       "1     1.94%      2.03%     2.13%  \n",
       "2     3.61%      3.47%     3.66%  \n",
       "3     1.68%      1.71%     1.97%  \n",
       "4     1.68%      1.83%     2.03%  \n",
       "5     2.85%      2.76%     2.99%  \n",
       "6     2.57%      2.47%     2.98%  \n",
       "7     3.67%      4.12%     4.89%  \n",
       "8     1.12%      1.35%     1.25%  \n",
       "9     3.24%      3.41%     4.05%  "
      ]
     },
     "execution_count": 53,
     "metadata": {},
     "output_type": "execute_result"
    }
   ],
   "source": [
    "div"
   ]
  },
  {
   "cell_type": "code",
   "execution_count": 54,
   "metadata": {},
   "outputs": [],
   "source": [
    "div.index=div['Nation']"
   ]
  },
  {
   "cell_type": "code",
   "execution_count": 55,
   "metadata": {},
   "outputs": [],
   "source": [
    "div=div.iloc[:,1:]"
   ]
  },
  {
   "cell_type": "code",
   "execution_count": 56,
   "metadata": {},
   "outputs": [],
   "source": [
    "div=div.transpose()"
   ]
  },
  {
   "cell_type": "code",
   "execution_count": 57,
   "metadata": {},
   "outputs": [
    {
     "data": {
      "text/html": [
       "<div>\n",
       "<style scoped>\n",
       "    .dataframe tbody tr th:only-of-type {\n",
       "        vertical-align: middle;\n",
       "    }\n",
       "\n",
       "    .dataframe tbody tr th {\n",
       "        vertical-align: top;\n",
       "    }\n",
       "\n",
       "    .dataframe thead th {\n",
       "        text-align: right;\n",
       "    }\n",
       "</style>\n",
       "<table border=\"1\" class=\"dataframe\">\n",
       "  <thead>\n",
       "    <tr style=\"text-align: right;\">\n",
       "      <th>Nation</th>\n",
       "      <th>Australia</th>\n",
       "      <th>US</th>\n",
       "      <th>UK</th>\n",
       "      <th>Japan</th>\n",
       "      <th>China</th>\n",
       "      <th>Canada</th>\n",
       "      <th>Germany</th>\n",
       "      <th>Spain</th>\n",
       "      <th>India</th>\n",
       "      <th>France</th>\n",
       "    </tr>\n",
       "  </thead>\n",
       "  <tbody>\n",
       "    <tr>\n",
       "      <th>6/30/2020</th>\n",
       "      <td>4.39%</td>\n",
       "      <td>1.91%</td>\n",
       "      <td>4.81%</td>\n",
       "      <td>2.07%</td>\n",
       "      <td>2.19%</td>\n",
       "      <td>3.35%</td>\n",
       "      <td>2.70%</td>\n",
       "      <td>4.23%</td>\n",
       "      <td>1.55%</td>\n",
       "      <td>2.28%</td>\n",
       "    </tr>\n",
       "    <tr>\n",
       "      <th>12/31/2019</th>\n",
       "      <td>3.95%</td>\n",
       "      <td>1.80%</td>\n",
       "      <td>4.36%</td>\n",
       "      <td>1.90%</td>\n",
       "      <td>2.24%</td>\n",
       "      <td>3.01%</td>\n",
       "      <td>2.54%</td>\n",
       "      <td>4.37%</td>\n",
       "      <td>1.24%</td>\n",
       "      <td>2.96%</td>\n",
       "    </tr>\n",
       "    <tr>\n",
       "      <th>6/30/2019</th>\n",
       "      <td>3.89%</td>\n",
       "      <td>1.94%</td>\n",
       "      <td>4.34%</td>\n",
       "      <td>2.10%</td>\n",
       "      <td>2.19%</td>\n",
       "      <td>3.10%</td>\n",
       "      <td>2.63%</td>\n",
       "      <td>4.62%</td>\n",
       "      <td>1.24%</td>\n",
       "      <td>3.30%</td>\n",
       "    </tr>\n",
       "    <tr>\n",
       "      <th>12/31/2018</th>\n",
       "      <td>4.50%</td>\n",
       "      <td>1.98%</td>\n",
       "      <td>4.46%</td>\n",
       "      <td>1.90%</td>\n",
       "      <td>2.70%</td>\n",
       "      <td>3.45%</td>\n",
       "      <td>2.71%</td>\n",
       "      <td>4.61%</td>\n",
       "      <td>1.24%</td>\n",
       "      <td>3.54%</td>\n",
       "    </tr>\n",
       "    <tr>\n",
       "      <th>6/30/2018</th>\n",
       "      <td>4.03%</td>\n",
       "      <td>1.84%</td>\n",
       "      <td>3.64%</td>\n",
       "      <td>1.61%</td>\n",
       "      <td>2.57%</td>\n",
       "      <td>2.92%</td>\n",
       "      <td>2.56%</td>\n",
       "      <td>3.71%</td>\n",
       "      <td>1.22%</td>\n",
       "      <td>3.31%</td>\n",
       "    </tr>\n",
       "    <tr>\n",
       "      <th>12/31/2017</th>\n",
       "      <td>4.13%</td>\n",
       "      <td>1.83%</td>\n",
       "      <td>3.59%</td>\n",
       "      <td>1.44%</td>\n",
       "      <td>1.77%</td>\n",
       "      <td>2.71%</td>\n",
       "      <td>2.71%</td>\n",
       "      <td>3.82%</td>\n",
       "      <td>1.08%</td>\n",
       "      <td>2.34%</td>\n",
       "    </tr>\n",
       "    <tr>\n",
       "      <th>6/30/2017</th>\n",
       "      <td>4.19%</td>\n",
       "      <td>1.94%</td>\n",
       "      <td>3.61%</td>\n",
       "      <td>1.68%</td>\n",
       "      <td>1.68%</td>\n",
       "      <td>2.85%</td>\n",
       "      <td>2.57%</td>\n",
       "      <td>3.67%</td>\n",
       "      <td>1.12%</td>\n",
       "      <td>3.24%</td>\n",
       "    </tr>\n",
       "    <tr>\n",
       "      <th>12/31/2016</th>\n",
       "      <td>4.25%</td>\n",
       "      <td>2.03%</td>\n",
       "      <td>3.47%</td>\n",
       "      <td>1.71%</td>\n",
       "      <td>1.83%</td>\n",
       "      <td>2.76%</td>\n",
       "      <td>2.47%</td>\n",
       "      <td>4.12%</td>\n",
       "      <td>1.35%</td>\n",
       "      <td>3.41%</td>\n",
       "    </tr>\n",
       "    <tr>\n",
       "      <th>6/30/2016</th>\n",
       "      <td>4.63%</td>\n",
       "      <td>2.13%</td>\n",
       "      <td>3.66%</td>\n",
       "      <td>1.97%</td>\n",
       "      <td>2.03%</td>\n",
       "      <td>2.99%</td>\n",
       "      <td>2.98%</td>\n",
       "      <td>4.89%</td>\n",
       "      <td>1.25%</td>\n",
       "      <td>4.05%</td>\n",
       "    </tr>\n",
       "  </tbody>\n",
       "</table>\n",
       "</div>"
      ],
      "text/plain": [
       "Nation     Australia     US     UK  Japan  China Canada Germany  Spain  India  \\\n",
       "6/30/2020      4.39%  1.91%  4.81%  2.07%  2.19%  3.35%   2.70%  4.23%  1.55%   \n",
       "12/31/2019     3.95%  1.80%  4.36%  1.90%  2.24%  3.01%   2.54%  4.37%  1.24%   \n",
       "6/30/2019      3.89%  1.94%  4.34%  2.10%  2.19%  3.10%   2.63%  4.62%  1.24%   \n",
       "12/31/2018     4.50%  1.98%  4.46%  1.90%  2.70%  3.45%   2.71%  4.61%  1.24%   \n",
       "6/30/2018      4.03%  1.84%  3.64%  1.61%  2.57%  2.92%   2.56%  3.71%  1.22%   \n",
       "12/31/2017     4.13%  1.83%  3.59%  1.44%  1.77%  2.71%   2.71%  3.82%  1.08%   \n",
       "6/30/2017      4.19%  1.94%  3.61%  1.68%  1.68%  2.85%   2.57%  3.67%  1.12%   \n",
       "12/31/2016     4.25%  2.03%  3.47%  1.71%  1.83%  2.76%   2.47%  4.12%  1.35%   \n",
       "6/30/2016      4.63%  2.13%  3.66%  1.97%  2.03%  2.99%   2.98%  4.89%  1.25%   \n",
       "\n",
       "Nation     France  \n",
       "6/30/2020   2.28%  \n",
       "12/31/2019  2.96%  \n",
       "6/30/2019   3.30%  \n",
       "12/31/2018  3.54%  \n",
       "6/30/2018   3.31%  \n",
       "12/31/2017  2.34%  \n",
       "6/30/2017   3.24%  \n",
       "12/31/2016  3.41%  \n",
       "6/30/2016   4.05%  "
      ]
     },
     "execution_count": 57,
     "metadata": {},
     "output_type": "execute_result"
    }
   ],
   "source": [
    "div"
   ]
  },
  {
   "cell_type": "code",
   "execution_count": 58,
   "metadata": {},
   "outputs": [],
   "source": [
    "div['Year']=div.index"
   ]
  },
  {
   "cell_type": "code",
   "execution_count": 59,
   "metadata": {},
   "outputs": [],
   "source": [
    "div['Year']=div['Year'].apply(lambda x:x[len(x)-4:len(x)])"
   ]
  },
  {
   "cell_type": "code",
   "execution_count": 60,
   "metadata": {},
   "outputs": [],
   "source": [
    "div=div.reset_index()"
   ]
  },
  {
   "cell_type": "code",
   "execution_count": 61,
   "metadata": {},
   "outputs": [],
   "source": [
    "div=div.iloc[:,1:]"
   ]
  },
  {
   "cell_type": "code",
   "execution_count": 62,
   "metadata": {},
   "outputs": [
    {
     "data": {
      "text/html": [
       "<div>\n",
       "<style scoped>\n",
       "    .dataframe tbody tr th:only-of-type {\n",
       "        vertical-align: middle;\n",
       "    }\n",
       "\n",
       "    .dataframe tbody tr th {\n",
       "        vertical-align: top;\n",
       "    }\n",
       "\n",
       "    .dataframe thead th {\n",
       "        text-align: right;\n",
       "    }\n",
       "</style>\n",
       "<table border=\"1\" class=\"dataframe\">\n",
       "  <thead>\n",
       "    <tr style=\"text-align: right;\">\n",
       "      <th>Nation</th>\n",
       "      <th>Australia</th>\n",
       "      <th>US</th>\n",
       "      <th>UK</th>\n",
       "      <th>Japan</th>\n",
       "      <th>China</th>\n",
       "      <th>Canada</th>\n",
       "      <th>Germany</th>\n",
       "      <th>Spain</th>\n",
       "      <th>India</th>\n",
       "      <th>France</th>\n",
       "      <th>Year</th>\n",
       "    </tr>\n",
       "  </thead>\n",
       "  <tbody>\n",
       "    <tr>\n",
       "      <th>0</th>\n",
       "      <td>4.39%</td>\n",
       "      <td>1.91%</td>\n",
       "      <td>4.81%</td>\n",
       "      <td>2.07%</td>\n",
       "      <td>2.19%</td>\n",
       "      <td>3.35%</td>\n",
       "      <td>2.70%</td>\n",
       "      <td>4.23%</td>\n",
       "      <td>1.55%</td>\n",
       "      <td>2.28%</td>\n",
       "      <td>2020</td>\n",
       "    </tr>\n",
       "    <tr>\n",
       "      <th>1</th>\n",
       "      <td>3.95%</td>\n",
       "      <td>1.80%</td>\n",
       "      <td>4.36%</td>\n",
       "      <td>1.90%</td>\n",
       "      <td>2.24%</td>\n",
       "      <td>3.01%</td>\n",
       "      <td>2.54%</td>\n",
       "      <td>4.37%</td>\n",
       "      <td>1.24%</td>\n",
       "      <td>2.96%</td>\n",
       "      <td>2019</td>\n",
       "    </tr>\n",
       "    <tr>\n",
       "      <th>2</th>\n",
       "      <td>3.89%</td>\n",
       "      <td>1.94%</td>\n",
       "      <td>4.34%</td>\n",
       "      <td>2.10%</td>\n",
       "      <td>2.19%</td>\n",
       "      <td>3.10%</td>\n",
       "      <td>2.63%</td>\n",
       "      <td>4.62%</td>\n",
       "      <td>1.24%</td>\n",
       "      <td>3.30%</td>\n",
       "      <td>2019</td>\n",
       "    </tr>\n",
       "    <tr>\n",
       "      <th>3</th>\n",
       "      <td>4.50%</td>\n",
       "      <td>1.98%</td>\n",
       "      <td>4.46%</td>\n",
       "      <td>1.90%</td>\n",
       "      <td>2.70%</td>\n",
       "      <td>3.45%</td>\n",
       "      <td>2.71%</td>\n",
       "      <td>4.61%</td>\n",
       "      <td>1.24%</td>\n",
       "      <td>3.54%</td>\n",
       "      <td>2018</td>\n",
       "    </tr>\n",
       "    <tr>\n",
       "      <th>4</th>\n",
       "      <td>4.03%</td>\n",
       "      <td>1.84%</td>\n",
       "      <td>3.64%</td>\n",
       "      <td>1.61%</td>\n",
       "      <td>2.57%</td>\n",
       "      <td>2.92%</td>\n",
       "      <td>2.56%</td>\n",
       "      <td>3.71%</td>\n",
       "      <td>1.22%</td>\n",
       "      <td>3.31%</td>\n",
       "      <td>2018</td>\n",
       "    </tr>\n",
       "    <tr>\n",
       "      <th>5</th>\n",
       "      <td>4.13%</td>\n",
       "      <td>1.83%</td>\n",
       "      <td>3.59%</td>\n",
       "      <td>1.44%</td>\n",
       "      <td>1.77%</td>\n",
       "      <td>2.71%</td>\n",
       "      <td>2.71%</td>\n",
       "      <td>3.82%</td>\n",
       "      <td>1.08%</td>\n",
       "      <td>2.34%</td>\n",
       "      <td>2017</td>\n",
       "    </tr>\n",
       "    <tr>\n",
       "      <th>6</th>\n",
       "      <td>4.19%</td>\n",
       "      <td>1.94%</td>\n",
       "      <td>3.61%</td>\n",
       "      <td>1.68%</td>\n",
       "      <td>1.68%</td>\n",
       "      <td>2.85%</td>\n",
       "      <td>2.57%</td>\n",
       "      <td>3.67%</td>\n",
       "      <td>1.12%</td>\n",
       "      <td>3.24%</td>\n",
       "      <td>2017</td>\n",
       "    </tr>\n",
       "    <tr>\n",
       "      <th>7</th>\n",
       "      <td>4.25%</td>\n",
       "      <td>2.03%</td>\n",
       "      <td>3.47%</td>\n",
       "      <td>1.71%</td>\n",
       "      <td>1.83%</td>\n",
       "      <td>2.76%</td>\n",
       "      <td>2.47%</td>\n",
       "      <td>4.12%</td>\n",
       "      <td>1.35%</td>\n",
       "      <td>3.41%</td>\n",
       "      <td>2016</td>\n",
       "    </tr>\n",
       "    <tr>\n",
       "      <th>8</th>\n",
       "      <td>4.63%</td>\n",
       "      <td>2.13%</td>\n",
       "      <td>3.66%</td>\n",
       "      <td>1.97%</td>\n",
       "      <td>2.03%</td>\n",
       "      <td>2.99%</td>\n",
       "      <td>2.98%</td>\n",
       "      <td>4.89%</td>\n",
       "      <td>1.25%</td>\n",
       "      <td>4.05%</td>\n",
       "      <td>2016</td>\n",
       "    </tr>\n",
       "  </tbody>\n",
       "</table>\n",
       "</div>"
      ],
      "text/plain": [
       "Nation Australia     US     UK  Japan  China Canada Germany  Spain  India  \\\n",
       "0          4.39%  1.91%  4.81%  2.07%  2.19%  3.35%   2.70%  4.23%  1.55%   \n",
       "1          3.95%  1.80%  4.36%  1.90%  2.24%  3.01%   2.54%  4.37%  1.24%   \n",
       "2          3.89%  1.94%  4.34%  2.10%  2.19%  3.10%   2.63%  4.62%  1.24%   \n",
       "3          4.50%  1.98%  4.46%  1.90%  2.70%  3.45%   2.71%  4.61%  1.24%   \n",
       "4          4.03%  1.84%  3.64%  1.61%  2.57%  2.92%   2.56%  3.71%  1.22%   \n",
       "5          4.13%  1.83%  3.59%  1.44%  1.77%  2.71%   2.71%  3.82%  1.08%   \n",
       "6          4.19%  1.94%  3.61%  1.68%  1.68%  2.85%   2.57%  3.67%  1.12%   \n",
       "7          4.25%  2.03%  3.47%  1.71%  1.83%  2.76%   2.47%  4.12%  1.35%   \n",
       "8          4.63%  2.13%  3.66%  1.97%  2.03%  2.99%   2.98%  4.89%  1.25%   \n",
       "\n",
       "Nation France  Year  \n",
       "0       2.28%  2020  \n",
       "1       2.96%  2019  \n",
       "2       3.30%  2019  \n",
       "3       3.54%  2018  \n",
       "4       3.31%  2018  \n",
       "5       2.34%  2017  \n",
       "6       3.24%  2017  \n",
       "7       3.41%  2016  \n",
       "8       4.05%  2016  "
      ]
     },
     "execution_count": 62,
     "metadata": {},
     "output_type": "execute_result"
    }
   ],
   "source": [
    "div"
   ]
  },
  {
   "cell_type": "code",
   "execution_count": 63,
   "metadata": {},
   "outputs": [],
   "source": [
    "div.iloc[:,:-1]=div.iloc[:,:-1].applymap(lambda x:float(str(x).replace('%','')))"
   ]
  },
  {
   "cell_type": "code",
   "execution_count": 64,
   "metadata": {},
   "outputs": [],
   "source": [
    "div.columns.name=None"
   ]
  },
  {
   "cell_type": "code",
   "execution_count": 65,
   "metadata": {},
   "outputs": [
    {
     "data": {
      "text/html": [
       "<div>\n",
       "<style scoped>\n",
       "    .dataframe tbody tr th:only-of-type {\n",
       "        vertical-align: middle;\n",
       "    }\n",
       "\n",
       "    .dataframe tbody tr th {\n",
       "        vertical-align: top;\n",
       "    }\n",
       "\n",
       "    .dataframe thead th {\n",
       "        text-align: right;\n",
       "    }\n",
       "</style>\n",
       "<table border=\"1\" class=\"dataframe\">\n",
       "  <thead>\n",
       "    <tr style=\"text-align: right;\">\n",
       "      <th></th>\n",
       "      <th>Australia</th>\n",
       "      <th>US</th>\n",
       "      <th>UK</th>\n",
       "      <th>Japan</th>\n",
       "      <th>China</th>\n",
       "      <th>Canada</th>\n",
       "      <th>Germany</th>\n",
       "      <th>Spain</th>\n",
       "      <th>India</th>\n",
       "      <th>France</th>\n",
       "      <th>Year</th>\n",
       "    </tr>\n",
       "  </thead>\n",
       "  <tbody>\n",
       "    <tr>\n",
       "      <th>0</th>\n",
       "      <td>4.39</td>\n",
       "      <td>1.91</td>\n",
       "      <td>4.81</td>\n",
       "      <td>2.07</td>\n",
       "      <td>2.19</td>\n",
       "      <td>3.35</td>\n",
       "      <td>2.7</td>\n",
       "      <td>4.23</td>\n",
       "      <td>1.55</td>\n",
       "      <td>2.28</td>\n",
       "      <td>2020</td>\n",
       "    </tr>\n",
       "    <tr>\n",
       "      <th>1</th>\n",
       "      <td>3.95</td>\n",
       "      <td>1.8</td>\n",
       "      <td>4.36</td>\n",
       "      <td>1.9</td>\n",
       "      <td>2.24</td>\n",
       "      <td>3.01</td>\n",
       "      <td>2.54</td>\n",
       "      <td>4.37</td>\n",
       "      <td>1.24</td>\n",
       "      <td>2.96</td>\n",
       "      <td>2019</td>\n",
       "    </tr>\n",
       "    <tr>\n",
       "      <th>2</th>\n",
       "      <td>3.89</td>\n",
       "      <td>1.94</td>\n",
       "      <td>4.34</td>\n",
       "      <td>2.1</td>\n",
       "      <td>2.19</td>\n",
       "      <td>3.1</td>\n",
       "      <td>2.63</td>\n",
       "      <td>4.62</td>\n",
       "      <td>1.24</td>\n",
       "      <td>3.3</td>\n",
       "      <td>2019</td>\n",
       "    </tr>\n",
       "    <tr>\n",
       "      <th>3</th>\n",
       "      <td>4.5</td>\n",
       "      <td>1.98</td>\n",
       "      <td>4.46</td>\n",
       "      <td>1.9</td>\n",
       "      <td>2.7</td>\n",
       "      <td>3.45</td>\n",
       "      <td>2.71</td>\n",
       "      <td>4.61</td>\n",
       "      <td>1.24</td>\n",
       "      <td>3.54</td>\n",
       "      <td>2018</td>\n",
       "    </tr>\n",
       "    <tr>\n",
       "      <th>4</th>\n",
       "      <td>4.03</td>\n",
       "      <td>1.84</td>\n",
       "      <td>3.64</td>\n",
       "      <td>1.61</td>\n",
       "      <td>2.57</td>\n",
       "      <td>2.92</td>\n",
       "      <td>2.56</td>\n",
       "      <td>3.71</td>\n",
       "      <td>1.22</td>\n",
       "      <td>3.31</td>\n",
       "      <td>2018</td>\n",
       "    </tr>\n",
       "    <tr>\n",
       "      <th>5</th>\n",
       "      <td>4.13</td>\n",
       "      <td>1.83</td>\n",
       "      <td>3.59</td>\n",
       "      <td>1.44</td>\n",
       "      <td>1.77</td>\n",
       "      <td>2.71</td>\n",
       "      <td>2.71</td>\n",
       "      <td>3.82</td>\n",
       "      <td>1.08</td>\n",
       "      <td>2.34</td>\n",
       "      <td>2017</td>\n",
       "    </tr>\n",
       "    <tr>\n",
       "      <th>6</th>\n",
       "      <td>4.19</td>\n",
       "      <td>1.94</td>\n",
       "      <td>3.61</td>\n",
       "      <td>1.68</td>\n",
       "      <td>1.68</td>\n",
       "      <td>2.85</td>\n",
       "      <td>2.57</td>\n",
       "      <td>3.67</td>\n",
       "      <td>1.12</td>\n",
       "      <td>3.24</td>\n",
       "      <td>2017</td>\n",
       "    </tr>\n",
       "    <tr>\n",
       "      <th>7</th>\n",
       "      <td>4.25</td>\n",
       "      <td>2.03</td>\n",
       "      <td>3.47</td>\n",
       "      <td>1.71</td>\n",
       "      <td>1.83</td>\n",
       "      <td>2.76</td>\n",
       "      <td>2.47</td>\n",
       "      <td>4.12</td>\n",
       "      <td>1.35</td>\n",
       "      <td>3.41</td>\n",
       "      <td>2016</td>\n",
       "    </tr>\n",
       "    <tr>\n",
       "      <th>8</th>\n",
       "      <td>4.63</td>\n",
       "      <td>2.13</td>\n",
       "      <td>3.66</td>\n",
       "      <td>1.97</td>\n",
       "      <td>2.03</td>\n",
       "      <td>2.99</td>\n",
       "      <td>2.98</td>\n",
       "      <td>4.89</td>\n",
       "      <td>1.25</td>\n",
       "      <td>4.05</td>\n",
       "      <td>2016</td>\n",
       "    </tr>\n",
       "  </tbody>\n",
       "</table>\n",
       "</div>"
      ],
      "text/plain": [
       "  Australia    US    UK Japan China Canada Germany Spain India France  Year\n",
       "0      4.39  1.91  4.81  2.07  2.19   3.35     2.7  4.23  1.55   2.28  2020\n",
       "1      3.95   1.8  4.36   1.9  2.24   3.01    2.54  4.37  1.24   2.96  2019\n",
       "2      3.89  1.94  4.34   2.1  2.19    3.1    2.63  4.62  1.24    3.3  2019\n",
       "3       4.5  1.98  4.46   1.9   2.7   3.45    2.71  4.61  1.24   3.54  2018\n",
       "4      4.03  1.84  3.64  1.61  2.57   2.92    2.56  3.71  1.22   3.31  2018\n",
       "5      4.13  1.83  3.59  1.44  1.77   2.71    2.71  3.82  1.08   2.34  2017\n",
       "6      4.19  1.94  3.61  1.68  1.68   2.85    2.57  3.67  1.12   3.24  2017\n",
       "7      4.25  2.03  3.47  1.71  1.83   2.76    2.47  4.12  1.35   3.41  2016\n",
       "8      4.63  2.13  3.66  1.97  2.03   2.99    2.98  4.89  1.25   4.05  2016"
      ]
     },
     "execution_count": 65,
     "metadata": {},
     "output_type": "execute_result"
    }
   ],
   "source": [
    "div"
   ]
  },
  {
   "cell_type": "markdown",
   "metadata": {},
   "source": [
    "### Рассчет одномесячного кросс-валютного форварда для индекса FTSE"
   ]
  },
  {
   "cell_type": "code",
   "execution_count": 66,
   "metadata": {},
   "outputs": [
    {
     "data": {
      "text/plain": [
       "226"
      ]
     },
     "execution_count": 66,
     "metadata": {},
     "output_type": "execute_result"
    }
   ],
   "source": [
    "n=port_BM.shape[0]-1\n",
    "n"
   ]
  },
  {
   "cell_type": "code",
   "execution_count": 67,
   "metadata": {},
   "outputs": [
    {
     "data": {
      "text/plain": [
       "7326.81"
      ]
     },
     "execution_count": 67,
     "metadata": {},
     "output_type": "execute_result"
    }
   ],
   "source": [
    "port_BM.FTSE[n]"
   ]
  },
  {
   "cell_type": "code",
   "execution_count": 68,
   "metadata": {},
   "outputs": [],
   "source": [
    "term=20"
   ]
  },
  {
   "cell_type": "code",
   "execution_count": 69,
   "metadata": {},
   "outputs": [
    {
     "data": {
      "text/plain": [
       "7305.466674031048"
      ]
     },
     "execution_count": 69,
     "metadata": {},
     "output_type": "execute_result"
    }
   ],
   "source": [
    "Forward_index=port_BM.FTSE[n]*np.exp((port_BM.GBP1MTD156N[n]-div.UK[1])/100*(term/250))\n",
    "Forward_index"
   ]
  },
  {
   "cell_type": "code",
   "execution_count": 70,
   "metadata": {},
   "outputs": [
    {
     "data": {
      "text/plain": [
       "7305.062478990836"
      ]
     },
     "execution_count": 70,
     "metadata": {},
     "output_type": "execute_result"
    }
   ],
   "source": [
    "Forward_index_quanto=port_BM.FTSE[n]*np.exp(((port_BM.GBP1MTD156N[n]-div.UK[1])*(term/250))/100-sigma_Forward*sigma_index*corr)\n",
    "Forward_index_quanto"
   ]
  },
  {
   "cell_type": "markdown",
   "metadata": {},
   "source": [
    "## 3.Стратегия Triangular arbitrage"
   ]
  },
  {
   "cell_type": "markdown",
   "metadata": {},
   "source": [
    "### Стратегия основана на сопоставлении курса и  кросса-курса  валютной пары, выраженного через произведение курсов каждой из валют пары по отношению к  третьей валюте:\n",
    "### $S^{a/b}=S^{a/с}S^{c/b}$"
   ]
  },
  {
   "cell_type": "markdown",
   "metadata": {},
   "source": [
    "### В качестве примера рассмотрим три валютиные пары: GBP_USD, EUR_GBP и EUR_USD. Кросс-курс будем считать для пары GBP_USD."
   ]
  },
  {
   "cell_type": "markdown",
   "metadata": {},
   "source": [
    "### Загрузка данных. Для проверки арбитражных возможностей возьмем цены открытия."
   ]
  },
  {
   "cell_type": "code",
   "execution_count": 71,
   "metadata": {},
   "outputs": [],
   "source": [
    "path='/Users/massimozharkovsky/Documents/ML/IFX/Triangular/'"
   ]
  },
  {
   "cell_type": "code",
   "execution_count": 72,
   "metadata": {},
   "outputs": [],
   "source": [
    "files=[f for f in listdir(path) if (isfile(join(path,f))&(f.endswith('csv')))] \n",
    "# создание списка имен файлов "
   ]
  },
  {
   "cell_type": "code",
   "execution_count": 73,
   "metadata": {},
   "outputs": [
    {
     "data": {
      "text/plain": [
       "['EUR_GBP Historical Data.csv',\n",
       " 'GBP_USD Historical Data.csv',\n",
       " 'EUR_USD Historical Data.csv']"
      ]
     },
     "execution_count": 73,
     "metadata": {},
     "output_type": "execute_result"
    }
   ],
   "source": [
    "files"
   ]
  },
  {
   "cell_type": "code",
   "execution_count": 74,
   "metadata": {},
   "outputs": [
    {
     "name": "stdout",
     "output_type": "stream",
     "text": [
      "/Users/massimozharkovsky/Documents/ML/IFX/Triangular/EUR_GBP Historical Data.csv\n",
      "/Users/massimozharkovsky/Documents/ML/IFX/Triangular/GBP_USD Historical Data.csv\n",
      "/Users/massimozharkovsky/Documents/ML/IFX/Triangular/EUR_USD Historical Data.csv\n"
     ]
    }
   ],
   "source": [
    "# создание массива, содержащего даты и цены  для каждого актива\n",
    "df_list=[]\n",
    "for f in files:\n",
    "    fname=join(path,f)\n",
    "    print (fname)\n",
    "    df=pd.read_csv(fname,usecols=['Date','Open'],parse_dates=['Date'])\n",
    "    new_col_name=f[0:7]\n",
    "    df.rename(columns={'Open':new_col_name},inplace=True)\n",
    "    df_list.append(df)"
   ]
  },
  {
   "cell_type": "code",
   "execution_count": 75,
   "metadata": {},
   "outputs": [],
   "source": [
    "port_cur=reduce(lambda left,right: pd.merge(left,right,on=['Date']),df_list)\n",
    "# объединение активов в один массив (dataframe)"
   ]
  },
  {
   "cell_type": "code",
   "execution_count": 76,
   "metadata": {},
   "outputs": [
    {
     "data": {
      "text/html": [
       "<div>\n",
       "<style scoped>\n",
       "    .dataframe tbody tr th:only-of-type {\n",
       "        vertical-align: middle;\n",
       "    }\n",
       "\n",
       "    .dataframe tbody tr th {\n",
       "        vertical-align: top;\n",
       "    }\n",
       "\n",
       "    .dataframe thead th {\n",
       "        text-align: right;\n",
       "    }\n",
       "</style>\n",
       "<table border=\"1\" class=\"dataframe\">\n",
       "  <thead>\n",
       "    <tr style=\"text-align: right;\">\n",
       "      <th></th>\n",
       "      <th>Date</th>\n",
       "      <th>EUR_GBP</th>\n",
       "      <th>GBP_USD</th>\n",
       "      <th>EUR_USD</th>\n",
       "    </tr>\n",
       "  </thead>\n",
       "  <tbody>\n",
       "    <tr>\n",
       "      <th>0</th>\n",
       "      <td>2019-10-22</td>\n",
       "      <td>0.8597</td>\n",
       "      <td>1.2972</td>\n",
       "      <td>1.1152</td>\n",
       "    </tr>\n",
       "    <tr>\n",
       "      <th>1</th>\n",
       "      <td>2019-10-21</td>\n",
       "      <td>0.8645</td>\n",
       "      <td>1.2903</td>\n",
       "      <td>1.1156</td>\n",
       "    </tr>\n",
       "    <tr>\n",
       "      <th>2</th>\n",
       "      <td>2019-10-18</td>\n",
       "      <td>0.8631</td>\n",
       "      <td>1.2890</td>\n",
       "      <td>1.1126</td>\n",
       "    </tr>\n",
       "    <tr>\n",
       "      <th>3</th>\n",
       "      <td>2019-10-17</td>\n",
       "      <td>0.8629</td>\n",
       "      <td>1.2832</td>\n",
       "      <td>1.1073</td>\n",
       "    </tr>\n",
       "    <tr>\n",
       "      <th>4</th>\n",
       "      <td>2019-10-16</td>\n",
       "      <td>0.8628</td>\n",
       "      <td>1.2787</td>\n",
       "      <td>1.1033</td>\n",
       "    </tr>\n",
       "  </tbody>\n",
       "</table>\n",
       "</div>"
      ],
      "text/plain": [
       "        Date  EUR_GBP  GBP_USD  EUR_USD\n",
       "0 2019-10-22   0.8597   1.2972   1.1152\n",
       "1 2019-10-21   0.8645   1.2903   1.1156\n",
       "2 2019-10-18   0.8631   1.2890   1.1126\n",
       "3 2019-10-17   0.8629   1.2832   1.1073\n",
       "4 2019-10-16   0.8628   1.2787   1.1033"
      ]
     },
     "execution_count": 76,
     "metadata": {},
     "output_type": "execute_result"
    }
   ],
   "source": [
    "port_cur.head()"
   ]
  },
  {
   "cell_type": "code",
   "execution_count": 77,
   "metadata": {},
   "outputs": [],
   "source": [
    "port_cur.sort_values(by='Date',ascending=True,inplace=True)"
   ]
  },
  {
   "cell_type": "code",
   "execution_count": 78,
   "metadata": {},
   "outputs": [],
   "source": [
    "port_cur.reset_index(inplace=True,drop=True)"
   ]
  },
  {
   "cell_type": "code",
   "execution_count": 79,
   "metadata": {},
   "outputs": [
    {
     "data": {
      "text/html": [
       "<div>\n",
       "<style scoped>\n",
       "    .dataframe tbody tr th:only-of-type {\n",
       "        vertical-align: middle;\n",
       "    }\n",
       "\n",
       "    .dataframe tbody tr th {\n",
       "        vertical-align: top;\n",
       "    }\n",
       "\n",
       "    .dataframe thead th {\n",
       "        text-align: right;\n",
       "    }\n",
       "</style>\n",
       "<table border=\"1\" class=\"dataframe\">\n",
       "  <thead>\n",
       "    <tr style=\"text-align: right;\">\n",
       "      <th></th>\n",
       "      <th>Date</th>\n",
       "      <th>EUR_GBP</th>\n",
       "      <th>GBP_USD</th>\n",
       "      <th>EUR_USD</th>\n",
       "    </tr>\n",
       "  </thead>\n",
       "  <tbody>\n",
       "    <tr>\n",
       "      <th>0</th>\n",
       "      <td>2014-09-22</td>\n",
       "      <td>0.7873</td>\n",
       "      <td>1.6288</td>\n",
       "      <td>1.2827</td>\n",
       "    </tr>\n",
       "    <tr>\n",
       "      <th>1</th>\n",
       "      <td>2014-09-23</td>\n",
       "      <td>0.7853</td>\n",
       "      <td>1.6362</td>\n",
       "      <td>1.2851</td>\n",
       "    </tr>\n",
       "    <tr>\n",
       "      <th>2</th>\n",
       "      <td>2014-09-24</td>\n",
       "      <td>0.7838</td>\n",
       "      <td>1.6390</td>\n",
       "      <td>1.2846</td>\n",
       "    </tr>\n",
       "    <tr>\n",
       "      <th>3</th>\n",
       "      <td>2014-09-25</td>\n",
       "      <td>0.7820</td>\n",
       "      <td>1.6341</td>\n",
       "      <td>1.2780</td>\n",
       "    </tr>\n",
       "    <tr>\n",
       "      <th>4</th>\n",
       "      <td>2014-09-26</td>\n",
       "      <td>0.7811</td>\n",
       "      <td>1.6319</td>\n",
       "      <td>1.2752</td>\n",
       "    </tr>\n",
       "  </tbody>\n",
       "</table>\n",
       "</div>"
      ],
      "text/plain": [
       "        Date  EUR_GBP  GBP_USD  EUR_USD\n",
       "0 2014-09-22   0.7873   1.6288   1.2827\n",
       "1 2014-09-23   0.7853   1.6362   1.2851\n",
       "2 2014-09-24   0.7838   1.6390   1.2846\n",
       "3 2014-09-25   0.7820   1.6341   1.2780\n",
       "4 2014-09-26   0.7811   1.6319   1.2752"
      ]
     },
     "execution_count": 79,
     "metadata": {},
     "output_type": "execute_result"
    }
   ],
   "source": [
    "port_cur.head()"
   ]
  },
  {
   "cell_type": "code",
   "execution_count": 80,
   "metadata": {},
   "outputs": [
    {
     "data": {
      "text/plain": [
       "Date       datetime64[ns]\n",
       "EUR_GBP           float64\n",
       "GBP_USD           float64\n",
       "EUR_USD           float64\n",
       "dtype: object"
      ]
     },
     "execution_count": 80,
     "metadata": {},
     "output_type": "execute_result"
    }
   ],
   "source": [
    "port_cur.dtypes"
   ]
  },
  {
   "cell_type": "markdown",
   "metadata": {},
   "source": [
    "### Реализацию стратегии рассмотрим на данных за 2018 г."
   ]
  },
  {
   "cell_type": "code",
   "execution_count": 81,
   "metadata": {},
   "outputs": [],
   "source": [
    "port_cur=port_cur[(port_cur.Date<'2019-01-01')&(port_cur.Date>'2017-12-31')]"
   ]
  },
  {
   "cell_type": "code",
   "execution_count": 82,
   "metadata": {},
   "outputs": [
    {
     "data": {
      "text/html": [
       "<div>\n",
       "<style scoped>\n",
       "    .dataframe tbody tr th:only-of-type {\n",
       "        vertical-align: middle;\n",
       "    }\n",
       "\n",
       "    .dataframe tbody tr th {\n",
       "        vertical-align: top;\n",
       "    }\n",
       "\n",
       "    .dataframe thead th {\n",
       "        text-align: right;\n",
       "    }\n",
       "</style>\n",
       "<table border=\"1\" class=\"dataframe\">\n",
       "  <thead>\n",
       "    <tr style=\"text-align: right;\">\n",
       "      <th></th>\n",
       "      <th>Date</th>\n",
       "      <th>EUR_GBP</th>\n",
       "      <th>GBP_USD</th>\n",
       "      <th>EUR_USD</th>\n",
       "    </tr>\n",
       "  </thead>\n",
       "  <tbody>\n",
       "    <tr>\n",
       "      <th>855</th>\n",
       "      <td>2018-01-01</td>\n",
       "      <td>0.8881</td>\n",
       "      <td>1.3515</td>\n",
       "      <td>1.2003</td>\n",
       "    </tr>\n",
       "    <tr>\n",
       "      <th>856</th>\n",
       "      <td>2018-01-02</td>\n",
       "      <td>0.8891</td>\n",
       "      <td>1.3507</td>\n",
       "      <td>1.2013</td>\n",
       "    </tr>\n",
       "    <tr>\n",
       "      <th>857</th>\n",
       "      <td>2018-01-03</td>\n",
       "      <td>0.8873</td>\n",
       "      <td>1.3588</td>\n",
       "      <td>1.2058</td>\n",
       "    </tr>\n",
       "    <tr>\n",
       "      <th>858</th>\n",
       "      <td>2018-01-04</td>\n",
       "      <td>0.8889</td>\n",
       "      <td>1.3515</td>\n",
       "      <td>1.2015</td>\n",
       "    </tr>\n",
       "    <tr>\n",
       "      <th>859</th>\n",
       "      <td>2018-01-05</td>\n",
       "      <td>0.8906</td>\n",
       "      <td>1.3552</td>\n",
       "      <td>1.2068</td>\n",
       "    </tr>\n",
       "  </tbody>\n",
       "</table>\n",
       "</div>"
      ],
      "text/plain": [
       "          Date  EUR_GBP  GBP_USD  EUR_USD\n",
       "855 2018-01-01   0.8881   1.3515   1.2003\n",
       "856 2018-01-02   0.8891   1.3507   1.2013\n",
       "857 2018-01-03   0.8873   1.3588   1.2058\n",
       "858 2018-01-04   0.8889   1.3515   1.2015\n",
       "859 2018-01-05   0.8906   1.3552   1.2068"
      ]
     },
     "execution_count": 82,
     "metadata": {},
     "output_type": "execute_result"
    }
   ],
   "source": [
    "port_cur.head()"
   ]
  },
  {
   "cell_type": "code",
   "execution_count": 83,
   "metadata": {},
   "outputs": [],
   "source": [
    "port_cur=port_cur.reset_index()"
   ]
  },
  {
   "cell_type": "code",
   "execution_count": 84,
   "metadata": {},
   "outputs": [],
   "source": [
    "port_cur.drop('index',axis=1,inplace=True)"
   ]
  },
  {
   "cell_type": "code",
   "execution_count": 85,
   "metadata": {},
   "outputs": [
    {
     "data": {
      "text/html": [
       "<div>\n",
       "<style scoped>\n",
       "    .dataframe tbody tr th:only-of-type {\n",
       "        vertical-align: middle;\n",
       "    }\n",
       "\n",
       "    .dataframe tbody tr th {\n",
       "        vertical-align: top;\n",
       "    }\n",
       "\n",
       "    .dataframe thead th {\n",
       "        text-align: right;\n",
       "    }\n",
       "</style>\n",
       "<table border=\"1\" class=\"dataframe\">\n",
       "  <thead>\n",
       "    <tr style=\"text-align: right;\">\n",
       "      <th></th>\n",
       "      <th>Date</th>\n",
       "      <th>EUR_GBP</th>\n",
       "      <th>GBP_USD</th>\n",
       "      <th>EUR_USD</th>\n",
       "    </tr>\n",
       "  </thead>\n",
       "  <tbody>\n",
       "    <tr>\n",
       "      <th>256</th>\n",
       "      <td>2018-12-25</td>\n",
       "      <td>0.8959</td>\n",
       "      <td>1.2726</td>\n",
       "      <td>1.1400</td>\n",
       "    </tr>\n",
       "    <tr>\n",
       "      <th>257</th>\n",
       "      <td>2018-12-26</td>\n",
       "      <td>0.8956</td>\n",
       "      <td>1.2675</td>\n",
       "      <td>1.1363</td>\n",
       "    </tr>\n",
       "    <tr>\n",
       "      <th>258</th>\n",
       "      <td>2018-12-27</td>\n",
       "      <td>0.8986</td>\n",
       "      <td>1.2632</td>\n",
       "      <td>1.1353</td>\n",
       "    </tr>\n",
       "    <tr>\n",
       "      <th>259</th>\n",
       "      <td>2018-12-28</td>\n",
       "      <td>0.9041</td>\n",
       "      <td>1.2644</td>\n",
       "      <td>1.1429</td>\n",
       "    </tr>\n",
       "    <tr>\n",
       "      <th>260</th>\n",
       "      <td>2018-12-31</td>\n",
       "      <td>0.9023</td>\n",
       "      <td>1.2683</td>\n",
       "      <td>1.1443</td>\n",
       "    </tr>\n",
       "  </tbody>\n",
       "</table>\n",
       "</div>"
      ],
      "text/plain": [
       "          Date  EUR_GBP  GBP_USD  EUR_USD\n",
       "256 2018-12-25   0.8959   1.2726   1.1400\n",
       "257 2018-12-26   0.8956   1.2675   1.1363\n",
       "258 2018-12-27   0.8986   1.2632   1.1353\n",
       "259 2018-12-28   0.9041   1.2644   1.1429\n",
       "260 2018-12-31   0.9023   1.2683   1.1443"
      ]
     },
     "execution_count": 85,
     "metadata": {},
     "output_type": "execute_result"
    }
   ],
   "source": [
    "port_cur.tail()"
   ]
  },
  {
   "cell_type": "code",
   "execution_count": 86,
   "metadata": {},
   "outputs": [
    {
     "data": {
      "text/plain": [
       "1.3515369890778064"
      ]
     },
     "execution_count": 86,
     "metadata": {},
     "output_type": "execute_result"
    }
   ],
   "source": [
    "port_cur.EUR_USD[0]/port_cur.EUR_GBP[0]## кросс-курс"
   ]
  },
  {
   "cell_type": "code",
   "execution_count": 87,
   "metadata": {},
   "outputs": [],
   "source": [
    "port_cur['Cross_rate']=port_cur.EUR_USD/port_cur.EUR_GBP## расчет массива кросс-курсов"
   ]
  },
  {
   "cell_type": "markdown",
   "metadata": {},
   "source": [
    "### Идентификация арбитражных возможностей путем сравнения кросс-курса GBP/USD, выраженного через EUR, и курса GBP/USD"
   ]
  },
  {
   "cell_type": "code",
   "execution_count": 88,
   "metadata": {},
   "outputs": [],
   "source": [
    "delta=0.0002"
   ]
  },
  {
   "cell_type": "code",
   "execution_count": 89,
   "metadata": {},
   "outputs": [],
   "source": [
    "port_cur['Buy'] = np.where( (port_cur['Cross_rate']-port_cur['GBP_USD'])>delta, 1, 0)\n",
    "port_cur['Sell'] = np.where( (port_cur['GBP_USD']-port_cur['Cross_rate'])>delta, 1, 0)"
   ]
  },
  {
   "cell_type": "code",
   "execution_count": 90,
   "metadata": {},
   "outputs": [
    {
     "data": {
      "text/html": [
       "<div>\n",
       "<style scoped>\n",
       "    .dataframe tbody tr th:only-of-type {\n",
       "        vertical-align: middle;\n",
       "    }\n",
       "\n",
       "    .dataframe tbody tr th {\n",
       "        vertical-align: top;\n",
       "    }\n",
       "\n",
       "    .dataframe thead th {\n",
       "        text-align: right;\n",
       "    }\n",
       "</style>\n",
       "<table border=\"1\" class=\"dataframe\">\n",
       "  <thead>\n",
       "    <tr style=\"text-align: right;\">\n",
       "      <th></th>\n",
       "      <th>Date</th>\n",
       "      <th>EUR_GBP</th>\n",
       "      <th>GBP_USD</th>\n",
       "      <th>EUR_USD</th>\n",
       "      <th>Cross_rate</th>\n",
       "      <th>Buy</th>\n",
       "      <th>Sell</th>\n",
       "    </tr>\n",
       "  </thead>\n",
       "  <tbody>\n",
       "    <tr>\n",
       "      <th>0</th>\n",
       "      <td>2018-01-01</td>\n",
       "      <td>0.8881</td>\n",
       "      <td>1.3515</td>\n",
       "      <td>1.2003</td>\n",
       "      <td>1.351537</td>\n",
       "      <td>0</td>\n",
       "      <td>0</td>\n",
       "    </tr>\n",
       "    <tr>\n",
       "      <th>1</th>\n",
       "      <td>2018-01-02</td>\n",
       "      <td>0.8891</td>\n",
       "      <td>1.3507</td>\n",
       "      <td>1.2013</td>\n",
       "      <td>1.351142</td>\n",
       "      <td>1</td>\n",
       "      <td>0</td>\n",
       "    </tr>\n",
       "    <tr>\n",
       "      <th>2</th>\n",
       "      <td>2018-01-03</td>\n",
       "      <td>0.8873</td>\n",
       "      <td>1.3588</td>\n",
       "      <td>1.2058</td>\n",
       "      <td>1.358954</td>\n",
       "      <td>0</td>\n",
       "      <td>0</td>\n",
       "    </tr>\n",
       "    <tr>\n",
       "      <th>3</th>\n",
       "      <td>2018-01-04</td>\n",
       "      <td>0.8889</td>\n",
       "      <td>1.3515</td>\n",
       "      <td>1.2015</td>\n",
       "      <td>1.351671</td>\n",
       "      <td>0</td>\n",
       "      <td>0</td>\n",
       "    </tr>\n",
       "    <tr>\n",
       "      <th>4</th>\n",
       "      <td>2018-01-05</td>\n",
       "      <td>0.8906</td>\n",
       "      <td>1.3552</td>\n",
       "      <td>1.2068</td>\n",
       "      <td>1.355042</td>\n",
       "      <td>0</td>\n",
       "      <td>0</td>\n",
       "    </tr>\n",
       "    <tr>\n",
       "      <th>5</th>\n",
       "      <td>2018-01-08</td>\n",
       "      <td>0.8865</td>\n",
       "      <td>1.3572</td>\n",
       "      <td>1.2029</td>\n",
       "      <td>1.356909</td>\n",
       "      <td>0</td>\n",
       "      <td>1</td>\n",
       "    </tr>\n",
       "    <tr>\n",
       "      <th>6</th>\n",
       "      <td>2018-01-09</td>\n",
       "      <td>0.8817</td>\n",
       "      <td>1.3570</td>\n",
       "      <td>1.1967</td>\n",
       "      <td>1.357264</td>\n",
       "      <td>1</td>\n",
       "      <td>0</td>\n",
       "    </tr>\n",
       "    <tr>\n",
       "      <th>7</th>\n",
       "      <td>2018-01-10</td>\n",
       "      <td>0.8816</td>\n",
       "      <td>1.3541</td>\n",
       "      <td>1.1938</td>\n",
       "      <td>1.354129</td>\n",
       "      <td>0</td>\n",
       "      <td>0</td>\n",
       "    </tr>\n",
       "    <tr>\n",
       "      <th>8</th>\n",
       "      <td>2018-01-11</td>\n",
       "      <td>0.8844</td>\n",
       "      <td>1.3506</td>\n",
       "      <td>1.1946</td>\n",
       "      <td>1.350746</td>\n",
       "      <td>0</td>\n",
       "      <td>0</td>\n",
       "    </tr>\n",
       "    <tr>\n",
       "      <th>9</th>\n",
       "      <td>2018-01-12</td>\n",
       "      <td>0.8890</td>\n",
       "      <td>1.3538</td>\n",
       "      <td>1.2033</td>\n",
       "      <td>1.353543</td>\n",
       "      <td>0</td>\n",
       "      <td>1</td>\n",
       "    </tr>\n",
       "  </tbody>\n",
       "</table>\n",
       "</div>"
      ],
      "text/plain": [
       "        Date  EUR_GBP  GBP_USD  EUR_USD  Cross_rate  Buy  Sell\n",
       "0 2018-01-01   0.8881   1.3515   1.2003    1.351537    0     0\n",
       "1 2018-01-02   0.8891   1.3507   1.2013    1.351142    1     0\n",
       "2 2018-01-03   0.8873   1.3588   1.2058    1.358954    0     0\n",
       "3 2018-01-04   0.8889   1.3515   1.2015    1.351671    0     0\n",
       "4 2018-01-05   0.8906   1.3552   1.2068    1.355042    0     0\n",
       "5 2018-01-08   0.8865   1.3572   1.2029    1.356909    0     1\n",
       "6 2018-01-09   0.8817   1.3570   1.1967    1.357264    1     0\n",
       "7 2018-01-10   0.8816   1.3541   1.1938    1.354129    0     0\n",
       "8 2018-01-11   0.8844   1.3506   1.1946    1.350746    0     0\n",
       "9 2018-01-12   0.8890   1.3538   1.2033    1.353543    0     1"
      ]
     },
     "execution_count": 90,
     "metadata": {},
     "output_type": "execute_result"
    }
   ],
   "source": [
    "port_cur.head(10)"
   ]
  },
  {
   "cell_type": "markdown",
   "metadata": {},
   "source": [
    "### Визуализация стратегии"
   ]
  },
  {
   "cell_type": "code",
   "execution_count": 91,
   "metadata": {},
   "outputs": [
    {
     "data": {
      "image/png": "[encoded data removed]",
      "text/plain": [
       "<Figure size 1080x720 with 1 Axes>"
      ]
     },
     "metadata": {
      "needs_background": "light"
     },
     "output_type": "display_data"
    }
   ],
   "source": [
    "plt.figure(figsize=(15,10))\n",
    "_=port_cur['GBP_USD'].plot()\n",
    "_=port_cur['Cross_rate'].plot()\n",
    "_=plt.scatter(port_cur[port_cur['Buy'] ==1 ].index,port_cur[port_cur['Buy'] ==1]['GBP_USD'], label='Buy', color='red', s=30, marker=\"^\")\n",
    "_=plt.scatter(port_cur[port_cur['Sell'] ==1 ].index,port_cur[port_cur['Sell'] ==1]['GBP_USD'], label='Sell', color='black', s=30, marker=\"^\")\n",
    "_=plt.legend()"
   ]
  },
  {
   "cell_type": "code",
   "execution_count": 92,
   "metadata": {},
   "outputs": [
    {
     "data": {
      "text/plain": [
       "118"
      ]
     },
     "execution_count": 92,
     "metadata": {},
     "output_type": "execute_result"
    }
   ],
   "source": [
    "sum(port_cur['Buy'])+sum(port_cur['Sell'])"
   ]
  },
  {
   "cell_type": "markdown",
   "metadata": {},
   "source": [
    "### Примеры реализации стратегии"
   ]
  },
  {
   "cell_type": "markdown",
   "metadata": {},
   "source": [
    "### Кросс курс GBP/USD < GBP/USD,  сигнал на продажу (относительно основной пары)"
   ]
  },
  {
   "cell_type": "code",
   "execution_count": 93,
   "metadata": {},
   "outputs": [
    {
     "data": {
      "text/plain": [
       "Date          2018-01-08 00:00:00\n",
       "EUR_GBP                    0.8865\n",
       "GBP_USD                    1.3572\n",
       "EUR_USD                    1.2029\n",
       "Cross_rate                1.35691\n",
       "Buy                             0\n",
       "Sell                            1\n",
       "Name: 5, dtype: object"
      ]
     },
     "execution_count": 93,
     "metadata": {},
     "output_type": "execute_result"
    }
   ],
   "source": [
    "port_cur.iloc[5,:]"
   ]
  },
  {
   "cell_type": "code",
   "execution_count": 94,
   "metadata": {},
   "outputs": [],
   "source": [
    "GBP=1000000"
   ]
  },
  {
   "cell_type": "markdown",
   "metadata": {},
   "source": [
    "### 1.Продаем фунт, покупаем доллар"
   ]
  },
  {
   "cell_type": "code",
   "execution_count": 95,
   "metadata": {},
   "outputs": [
    {
     "data": {
      "text/plain": [
       "1357200.0"
      ]
     },
     "execution_count": 95,
     "metadata": {},
     "output_type": "execute_result"
    }
   ],
   "source": [
    "USD=GBP*port_cur.iloc[5,2]\n",
    "USD"
   ]
  },
  {
   "cell_type": "markdown",
   "metadata": {},
   "source": [
    "### 2.Продаем доллар, покупаем евро"
   ]
  },
  {
   "cell_type": "code",
   "execution_count": 96,
   "metadata": {},
   "outputs": [
    {
     "data": {
      "text/plain": [
       "1128273.3394297115"
      ]
     },
     "execution_count": 96,
     "metadata": {},
     "output_type": "execute_result"
    }
   ],
   "source": [
    "EUR=USD/port_cur.iloc[5,3]\n",
    "EUR"
   ]
  },
  {
   "cell_type": "markdown",
   "metadata": {},
   "source": [
    "### 3.Продаем евро, покупаем фунт"
   ]
  },
  {
   "cell_type": "code",
   "execution_count": 97,
   "metadata": {},
   "outputs": [
    {
     "data": {
      "text/plain": [
       "1000214.3154044391"
      ]
     },
     "execution_count": 97,
     "metadata": {},
     "output_type": "execute_result"
    }
   ],
   "source": [
    "GBP_cr=EUR*port_cur.iloc[5,1]\n",
    "GBP_cr"
   ]
  },
  {
   "cell_type": "code",
   "execution_count": 98,
   "metadata": {},
   "outputs": [
    {
     "data": {
      "text/plain": [
       "214.31540443911217"
      ]
     },
     "execution_count": 98,
     "metadata": {},
     "output_type": "execute_result"
    }
   ],
   "source": [
    "GBP_cr-GBP # результат стратегии"
   ]
  },
  {
   "cell_type": "code",
   "execution_count": 99,
   "metadata": {},
   "outputs": [
    {
     "data": {
      "text/plain": [
       "7.822512262027594"
      ]
     },
     "execution_count": 99,
     "metadata": {},
     "output_type": "execute_result"
    }
   ],
   "source": [
    "(GBP_cr-GBP)/GBP*365*100"
   ]
  },
  {
   "cell_type": "markdown",
   "metadata": {},
   "source": [
    "### Кросс курс GBP/USD > GBP/USD,  сигнал на покупку (относительно основной пары)"
   ]
  },
  {
   "cell_type": "code",
   "execution_count": 100,
   "metadata": {},
   "outputs": [
    {
     "data": {
      "text/plain": [
       "Date          2018-01-09 00:00:00\n",
       "EUR_GBP                    0.8817\n",
       "GBP_USD                     1.357\n",
       "EUR_USD                    1.1967\n",
       "Cross_rate                1.35726\n",
       "Buy                             1\n",
       "Sell                            0\n",
       "Name: 6, dtype: object"
      ]
     },
     "execution_count": 100,
     "metadata": {},
     "output_type": "execute_result"
    }
   ],
   "source": [
    "port_cur.iloc[6,:]"
   ]
  },
  {
   "cell_type": "code",
   "execution_count": 101,
   "metadata": {},
   "outputs": [],
   "source": [
    "USD=1000000"
   ]
  },
  {
   "cell_type": "markdown",
   "metadata": {},
   "source": [
    "### 1.Продаем доллар, покупаем фунт"
   ]
  },
  {
   "cell_type": "code",
   "execution_count": 102,
   "metadata": {},
   "outputs": [
    {
     "data": {
      "text/plain": [
       "736919.6757553427"
      ]
     },
     "execution_count": 102,
     "metadata": {},
     "output_type": "execute_result"
    }
   ],
   "source": [
    "GBP=USD/port_cur.iloc[6,2]\n",
    "GBP"
   ]
  },
  {
   "cell_type": "markdown",
   "metadata": {},
   "source": [
    "### 2.Продаем фунт, покупаем евро"
   ]
  },
  {
   "cell_type": "code",
   "execution_count": 103,
   "metadata": {},
   "outputs": [
    {
     "data": {
      "text/plain": [
       "835794.1201716487"
      ]
     },
     "execution_count": 103,
     "metadata": {},
     "output_type": "execute_result"
    }
   ],
   "source": [
    "EUR=GBP/port_cur.iloc[6,1]\n",
    "EUR"
   ]
  },
  {
   "cell_type": "markdown",
   "metadata": {},
   "source": [
    "### 3.Продаем евро, покупаем доллар"
   ]
  },
  {
   "cell_type": "code",
   "execution_count": 104,
   "metadata": {},
   "outputs": [
    {
     "data": {
      "text/plain": [
       "1000194.8236094121"
      ]
     },
     "execution_count": 104,
     "metadata": {},
     "output_type": "execute_result"
    }
   ],
   "source": [
    "USD_cr=EUR*port_cur.iloc[6,3]\n",
    "USD_cr"
   ]
  },
  {
   "cell_type": "code",
   "execution_count": 105,
   "metadata": {},
   "outputs": [
    {
     "data": {
      "text/plain": [
       "194.8236094120657"
      ]
     },
     "execution_count": 105,
     "metadata": {},
     "output_type": "execute_result"
    }
   ],
   "source": [
    "USD_cr-USD # результат стратегии"
   ]
  },
  {
   "cell_type": "code",
   "execution_count": 106,
   "metadata": {},
   "outputs": [
    {
     "data": {
      "text/plain": [
       "7.1110617435403976"
      ]
     },
     "execution_count": 106,
     "metadata": {},
     "output_type": "execute_result"
    }
   ],
   "source": [
    "(USD_cr-USD)/USD*365*100"
   ]
  },
  {
   "cell_type": "markdown",
   "metadata": {},
   "source": [
    "## 4.Технический анализ"
   ]
  },
  {
   "cell_type": "markdown",
   "metadata": {},
   "source": [
    "### График EWMA и торговые сигналы"
   ]
  },
  {
   "cell_type": "code",
   "execution_count": 107,
   "metadata": {},
   "outputs": [],
   "source": [
    "# длина короткого и длинного окон\n",
    "window_1=12\n",
    "window_2=26"
   ]
  },
  {
   "cell_type": "code",
   "execution_count": 108,
   "metadata": {},
   "outputs": [],
   "source": [
    "df_ewm=pd.DataFrame(zip(port_cur['GBP_USD'].ewm(span=12).mean(),port_cur['GBP_USD'].ewm(span=26).mean()),\\\n",
    "          columns=['EWMA_12','EWMA_26'])\n",
    "# вспомогательный массив для EWMA "
   ]
  },
  {
   "cell_type": "code",
   "execution_count": 109,
   "metadata": {},
   "outputs": [],
   "source": [
    "df_ewm['Buy'] = np.where( (df_ewm['EWMA_12']> df_ewm['EWMA_26']), 1, 0)\n",
    "df_ewm['Sell'] = np.where( (df_ewm['EWMA_12']< df_ewm['EWMA_26']), 1, 0)"
   ]
  },
  {
   "cell_type": "code",
   "execution_count": 110,
   "metadata": {},
   "outputs": [],
   "source": [
    "# сигналы покупки и продажи\n",
    "df_ewm['Buy_ind'] = np.where( (df_ewm['Buy'] > df_ewm['Buy'].shift(1)),1,0)\n",
    "df_ewm['Sell_ind'] = np.where( (df_ewm['Sell'] > df_ewm['Sell'].shift(1)),1,0)"
   ]
  },
  {
   "cell_type": "code",
   "execution_count": 111,
   "metadata": {},
   "outputs": [
    {
     "data": {
      "text/html": [
       "<div>\n",
       "<style scoped>\n",
       "    .dataframe tbody tr th:only-of-type {\n",
       "        vertical-align: middle;\n",
       "    }\n",
       "\n",
       "    .dataframe tbody tr th {\n",
       "        vertical-align: top;\n",
       "    }\n",
       "\n",
       "    .dataframe thead th {\n",
       "        text-align: right;\n",
       "    }\n",
       "</style>\n",
       "<table border=\"1\" class=\"dataframe\">\n",
       "  <thead>\n",
       "    <tr style=\"text-align: right;\">\n",
       "      <th></th>\n",
       "      <th>EWMA_12</th>\n",
       "      <th>EWMA_26</th>\n",
       "      <th>Buy</th>\n",
       "      <th>Sell</th>\n",
       "      <th>Buy_ind</th>\n",
       "      <th>Sell_ind</th>\n",
       "    </tr>\n",
       "  </thead>\n",
       "  <tbody>\n",
       "    <tr>\n",
       "      <th>0</th>\n",
       "      <td>1.351500</td>\n",
       "      <td>1.351500</td>\n",
       "      <td>0</td>\n",
       "      <td>0</td>\n",
       "      <td>0</td>\n",
       "      <td>0</td>\n",
       "    </tr>\n",
       "    <tr>\n",
       "      <th>1</th>\n",
       "      <td>1.351067</td>\n",
       "      <td>1.351085</td>\n",
       "      <td>0</td>\n",
       "      <td>1</td>\n",
       "      <td>0</td>\n",
       "      <td>1</td>\n",
       "    </tr>\n",
       "    <tr>\n",
       "      <th>2</th>\n",
       "      <td>1.354085</td>\n",
       "      <td>1.353857</td>\n",
       "      <td>1</td>\n",
       "      <td>0</td>\n",
       "      <td>1</td>\n",
       "      <td>0</td>\n",
       "    </tr>\n",
       "    <tr>\n",
       "      <th>3</th>\n",
       "      <td>1.353269</td>\n",
       "      <td>1.353198</td>\n",
       "      <td>1</td>\n",
       "      <td>0</td>\n",
       "      <td>0</td>\n",
       "      <td>0</td>\n",
       "    </tr>\n",
       "    <tr>\n",
       "      <th>4</th>\n",
       "      <td>1.353794</td>\n",
       "      <td>1.353662</td>\n",
       "      <td>1</td>\n",
       "      <td>0</td>\n",
       "      <td>0</td>\n",
       "      <td>0</td>\n",
       "    </tr>\n",
       "  </tbody>\n",
       "</table>\n",
       "</div>"
      ],
      "text/plain": [
       "    EWMA_12   EWMA_26  Buy  Sell  Buy_ind  Sell_ind\n",
       "0  1.351500  1.351500    0     0        0         0\n",
       "1  1.351067  1.351085    0     1        0         1\n",
       "2  1.354085  1.353857    1     0        1         0\n",
       "3  1.353269  1.353198    1     0        0         0\n",
       "4  1.353794  1.353662    1     0        0         0"
      ]
     },
     "execution_count": 111,
     "metadata": {},
     "output_type": "execute_result"
    }
   ],
   "source": [
    "df_ewm.head()"
   ]
  },
  {
   "cell_type": "code",
   "execution_count": 112,
   "metadata": {},
   "outputs": [],
   "source": [
    "df_ewm['GBP_USD']=port_cur['GBP_USD']"
   ]
  },
  {
   "cell_type": "code",
   "execution_count": 113,
   "metadata": {},
   "outputs": [
    {
     "data": {
      "image/png": "[encoded data removed]",
      "text/plain": [
       "<Figure size 1080x720 with 1 Axes>"
      ]
     },
     "metadata": {
      "needs_background": "light"
     },
     "output_type": "display_data"
    }
   ],
   "source": [
    "plt.figure(figsize=(15,10))\n",
    "_=df_ewm['EWMA_12'].plot(label='EWMA_'+str(window_1))\n",
    "_=df_ewm['EWMA_26'].plot(label='EWMA_'+str(window_2))\n",
    "_=plt.scatter(df_ewm[df_ewm['Buy_ind'] ==1 ].index,df_ewm[df_ewm['Buy_ind'] ==1]['GBP_USD'], label='Buy', color='red', s=30, marker=\"^\")\n",
    "_=plt.scatter(df_ewm[df_ewm['Sell_ind'] ==1 ].index,df_ewm[df_ewm['Sell_ind'] ==1]['GBP_USD'], label='Sell', color='black', s=30, marker=\"^\")\n",
    "_=df_ewm['GBP_USD'].plot()\n",
    "_=plt.legend()"
   ]
  },
  {
   "cell_type": "markdown",
   "metadata": {},
   "source": [
    "## 4.Бивалютный депозит"
   ]
  },
  {
   "cell_type": "markdown",
   "metadata": {},
   "source": [
    "### Данное задание выполняется по аналогии с Заданием 2. Используется тот же массив данных и модель Garman–Kohlhagen. В примере рассматривается бивалютный депозит USD и конверсия в GBP."
   ]
  },
  {
   "cell_type": "markdown",
   "metadata": {},
   "source": [
    "### Загрузка данных"
   ]
  },
  {
   "cell_type": "code",
   "execution_count": 114,
   "metadata": {},
   "outputs": [],
   "source": [
    "option=pd.read_csv('/Users/massimozharkovsky/Documents/ML/IFX/GBP_USD_option.csv')"
   ]
  },
  {
   "cell_type": "code",
   "execution_count": 115,
   "metadata": {},
   "outputs": [
    {
     "data": {
      "text/html": [
       "<div>\n",
       "<style scoped>\n",
       "    .dataframe tbody tr th:only-of-type {\n",
       "        vertical-align: middle;\n",
       "    }\n",
       "\n",
       "    .dataframe tbody tr th {\n",
       "        vertical-align: top;\n",
       "    }\n",
       "\n",
       "    .dataframe thead th {\n",
       "        text-align: right;\n",
       "    }\n",
       "</style>\n",
       "<table border=\"1\" class=\"dataframe\">\n",
       "  <thead>\n",
       "    <tr style=\"text-align: right;\">\n",
       "      <th></th>\n",
       "      <th>Put_delta</th>\n",
       "      <th>Put</th>\n",
       "      <th>Strikes</th>\n",
       "      <th>Call</th>\n",
       "      <th>Call_delta</th>\n",
       "      <th>Imp_vol</th>\n",
       "      <th>Skew</th>\n",
       "      <th>Vega</th>\n",
       "    </tr>\n",
       "  </thead>\n",
       "  <tbody>\n",
       "    <tr>\n",
       "      <th>0</th>\n",
       "      <td>-0.23</td>\n",
       "      <td>0.00965</td>\n",
       "      <td>1.27</td>\n",
       "      <td>0.05735</td>\n",
       "      <td>0.77</td>\n",
       "      <td>0.1052</td>\n",
       "      <td>0.0148</td>\n",
       "      <td>0.0021</td>\n",
       "    </tr>\n",
       "    <tr>\n",
       "      <th>1</th>\n",
       "      <td>-0.27</td>\n",
       "      <td>0.01160</td>\n",
       "      <td>1.28</td>\n",
       "      <td>0.04933</td>\n",
       "      <td>0.72</td>\n",
       "      <td>0.1021</td>\n",
       "      <td>0.0117</td>\n",
       "      <td>0.0022</td>\n",
       "    </tr>\n",
       "    <tr>\n",
       "      <th>2</th>\n",
       "      <td>-0.32</td>\n",
       "      <td>0.01416</td>\n",
       "      <td>1.29</td>\n",
       "      <td>0.04183</td>\n",
       "      <td>0.68</td>\n",
       "      <td>0.0991</td>\n",
       "      <td>0.0086</td>\n",
       "      <td>0.0024</td>\n",
       "    </tr>\n",
       "    <tr>\n",
       "      <th>3</th>\n",
       "      <td>-0.38</td>\n",
       "      <td>0.01704</td>\n",
       "      <td>1.30</td>\n",
       "      <td>0.03495</td>\n",
       "      <td>0.62</td>\n",
       "      <td>0.0962</td>\n",
       "      <td>0.0058</td>\n",
       "      <td>0.0025</td>\n",
       "    </tr>\n",
       "    <tr>\n",
       "      <th>4</th>\n",
       "      <td>-0.44</td>\n",
       "      <td>0.02064</td>\n",
       "      <td>1.31</td>\n",
       "      <td>0.02859</td>\n",
       "      <td>0.56</td>\n",
       "      <td>0.0936</td>\n",
       "      <td>0.0032</td>\n",
       "      <td>0.0026</td>\n",
       "    </tr>\n",
       "    <tr>\n",
       "      <th>5</th>\n",
       "      <td>-0.50</td>\n",
       "      <td>0.02492</td>\n",
       "      <td>1.32</td>\n",
       "      <td>0.02282</td>\n",
       "      <td>0.49</td>\n",
       "      <td>0.0913</td>\n",
       "      <td>0.0009</td>\n",
       "      <td>0.0026</td>\n",
       "    </tr>\n",
       "    <tr>\n",
       "      <th>6</th>\n",
       "      <td>-0.57</td>\n",
       "      <td>0.03005</td>\n",
       "      <td>1.33</td>\n",
       "      <td>0.01799</td>\n",
       "      <td>0.43</td>\n",
       "      <td>0.0893</td>\n",
       "      <td>-0.0011</td>\n",
       "      <td>0.0026</td>\n",
       "    </tr>\n",
       "    <tr>\n",
       "      <th>7</th>\n",
       "      <td>-0.64</td>\n",
       "      <td>0.03574</td>\n",
       "      <td>1.34</td>\n",
       "      <td>0.01371</td>\n",
       "      <td>0.36</td>\n",
       "      <td>0.0876</td>\n",
       "      <td>-0.0028</td>\n",
       "      <td>0.0024</td>\n",
       "    </tr>\n",
       "    <tr>\n",
       "      <th>8</th>\n",
       "      <td>-0.70</td>\n",
       "      <td>0.04235</td>\n",
       "      <td>1.35</td>\n",
       "      <td>0.01036</td>\n",
       "      <td>0.29</td>\n",
       "      <td>0.0861</td>\n",
       "      <td>-0.0043</td>\n",
       "      <td>0.0022</td>\n",
       "    </tr>\n",
       "    <tr>\n",
       "      <th>9</th>\n",
       "      <td>-0.76</td>\n",
       "      <td>0.04958</td>\n",
       "      <td>1.36</td>\n",
       "      <td>0.00752</td>\n",
       "      <td>0.24</td>\n",
       "      <td>0.0851</td>\n",
       "      <td>-0.0054</td>\n",
       "      <td>0.0021</td>\n",
       "    </tr>\n",
       "  </tbody>\n",
       "</table>\n",
       "</div>"
      ],
      "text/plain": [
       "   Put_delta      Put  Strikes     Call  Call_delta  Imp_vol    Skew    Vega\n",
       "0      -0.23  0.00965     1.27  0.05735        0.77   0.1052  0.0148  0.0021\n",
       "1      -0.27  0.01160     1.28  0.04933        0.72   0.1021  0.0117  0.0022\n",
       "2      -0.32  0.01416     1.29  0.04183        0.68   0.0991  0.0086  0.0024\n",
       "3      -0.38  0.01704     1.30  0.03495        0.62   0.0962  0.0058  0.0025\n",
       "4      -0.44  0.02064     1.31  0.02859        0.56   0.0936  0.0032  0.0026\n",
       "5      -0.50  0.02492     1.32  0.02282        0.49   0.0913  0.0009  0.0026\n",
       "6      -0.57  0.03005     1.33  0.01799        0.43   0.0893 -0.0011  0.0026\n",
       "7      -0.64  0.03574     1.34  0.01371        0.36   0.0876 -0.0028  0.0024\n",
       "8      -0.70  0.04235     1.35  0.01036        0.29   0.0861 -0.0043  0.0022\n",
       "9      -0.76  0.04958     1.36  0.00752        0.24   0.0851 -0.0054  0.0021"
      ]
     },
     "execution_count": 115,
     "metadata": {},
     "output_type": "execute_result"
    }
   ],
   "source": [
    "option"
   ]
  },
  {
   "cell_type": "code",
   "execution_count": 116,
   "metadata": {},
   "outputs": [],
   "source": [
    "libor_option=pd.read_csv('/Users/massimozharkovsky/Documents/ML/IFX/LIBOR_option.csv')"
   ]
  },
  {
   "cell_type": "code",
   "execution_count": 117,
   "metadata": {},
   "outputs": [
    {
     "data": {
      "text/html": [
       "<div>\n",
       "<style scoped>\n",
       "    .dataframe tbody tr th:only-of-type {\n",
       "        vertical-align: middle;\n",
       "    }\n",
       "\n",
       "    .dataframe tbody tr th {\n",
       "        vertical-align: top;\n",
       "    }\n",
       "\n",
       "    .dataframe thead th {\n",
       "        text-align: right;\n",
       "    }\n",
       "</style>\n",
       "<table border=\"1\" class=\"dataframe\">\n",
       "  <thead>\n",
       "    <tr style=\"text-align: right;\">\n",
       "      <th></th>\n",
       "      <th>Term</th>\n",
       "      <th>USD</th>\n",
       "      <th>GBP</th>\n",
       "    </tr>\n",
       "  </thead>\n",
       "  <tbody>\n",
       "    <tr>\n",
       "      <th>0</th>\n",
       "      <td>1 M</td>\n",
       "      <td>1.7151</td>\n",
       "      <td>0.7066</td>\n",
       "    </tr>\n",
       "    <tr>\n",
       "      <th>1</th>\n",
       "      <td>2 M</td>\n",
       "      <td>1.8218</td>\n",
       "      <td>0.7509</td>\n",
       "    </tr>\n",
       "    <tr>\n",
       "      <th>2</th>\n",
       "      <td>3 M</td>\n",
       "      <td>1.8905</td>\n",
       "      <td>0.7821</td>\n",
       "    </tr>\n",
       "    <tr>\n",
       "      <th>3</th>\n",
       "      <td>4 M</td>\n",
       "      <td>1.8892</td>\n",
       "      <td>0.8082</td>\n",
       "    </tr>\n",
       "    <tr>\n",
       "      <th>4</th>\n",
       "      <td>5 M</td>\n",
       "      <td>1.8880</td>\n",
       "      <td>0.8343</td>\n",
       "    </tr>\n",
       "    <tr>\n",
       "      <th>5</th>\n",
       "      <td>6 M</td>\n",
       "      <td>1.8868</td>\n",
       "      <td>0.8604</td>\n",
       "    </tr>\n",
       "    <tr>\n",
       "      <th>6</th>\n",
       "      <td>7 M</td>\n",
       "      <td>1.8928</td>\n",
       "      <td>0.8782</td>\n",
       "    </tr>\n",
       "    <tr>\n",
       "      <th>7</th>\n",
       "      <td>8 M</td>\n",
       "      <td>1.8989</td>\n",
       "      <td>0.8960</td>\n",
       "    </tr>\n",
       "    <tr>\n",
       "      <th>8</th>\n",
       "      <td>9 M</td>\n",
       "      <td>1.9049</td>\n",
       "      <td>0.9138</td>\n",
       "    </tr>\n",
       "    <tr>\n",
       "      <th>9</th>\n",
       "      <td>10 M</td>\n",
       "      <td>1.9110</td>\n",
       "      <td>0.9315</td>\n",
       "    </tr>\n",
       "    <tr>\n",
       "      <th>10</th>\n",
       "      <td>11 M</td>\n",
       "      <td>1.9171</td>\n",
       "      <td>0.9493</td>\n",
       "    </tr>\n",
       "    <tr>\n",
       "      <th>11</th>\n",
       "      <td>12 M</td>\n",
       "      <td>1.9231</td>\n",
       "      <td>0.9671</td>\n",
       "    </tr>\n",
       "  </tbody>\n",
       "</table>\n",
       "</div>"
      ],
      "text/plain": [
       "    Term     USD     GBP\n",
       "0    1 M  1.7151  0.7066\n",
       "1    2 M  1.8218  0.7509\n",
       "2    3 M  1.8905  0.7821\n",
       "3    4 M  1.8892  0.8082\n",
       "4    5 M  1.8880  0.8343\n",
       "5    6 M  1.8868  0.8604\n",
       "6    7 M  1.8928  0.8782\n",
       "7    8 M  1.8989  0.8960\n",
       "8    9 M  1.9049  0.9138\n",
       "9   10 M  1.9110  0.9315\n",
       "10  11 M  1.9171  0.9493\n",
       "11  12 M  1.9231  0.9671"
      ]
     },
     "execution_count": 117,
     "metadata": {},
     "output_type": "execute_result"
    }
   ],
   "source": [
    "libor_option"
   ]
  },
  {
   "cell_type": "markdown",
   "metadata": {},
   "source": [
    "### Класс, содержащий методы для моделирования валютного опциона"
   ]
  },
  {
   "cell_type": "code",
   "execution_count": 118,
   "metadata": {},
   "outputs": [],
   "source": [
    "class GK:\n",
    "        def __init__(self,Spot,K,r_dom,r_for,T,sigma,t=0,is_call=True):\n",
    "            self._Spot=Spot\n",
    "            self._K=K\n",
    "            self._r_dom=r_dom\n",
    "            self._r_for=r_for\n",
    "            self._T=T\n",
    "            self._sigma=sigma\n",
    "            self._t=t\n",
    "            self._is_call=is_call  \n",
    "       \n",
    "        def __d_values__(self):\n",
    "            self._d1=(np.log(self._Spot/self._K)+(self._r_dom-self._r_for+0.5*self._sigma**2)*(self._T-self._t))/(self._sigma*np.sqrt(self._T-self._t))\n",
    "            self._d2=self._d1-self._sigma*np.sqrt(self._T-self._t)\n",
    "            \n",
    "        def __N_d__(self,d_value):\n",
    "            return stats.norm.cdf(d_value)\n",
    "        \n",
    "        def __price__(self):\n",
    "            return (np.exp(-self._r_for*\\\n",
    "            (self._T-self._t))*self._Spot*self.__N_d__(self._d1)-np.exp(-self._r_dom*\\\n",
    "            (self._T-self._t))*self._K*self.__N_d__(self._d2)) if self._is_call \\\n",
    "            else (np.exp(-self._r_dom*(self._T-self._t))*self._K*self.__N_d__(-self._d2)- np.exp(-self._r_for*\\\n",
    "            (self._T-self._t))*self._Spot*self.__N_d__(-self._d1))\n",
    "            \n",
    "        def get_price(self):\n",
    "            self.__d_values__()\n",
    "            price=self.__price__()\n",
    "            return price\n",
    "        \n",
    "        def get_delta(self):\n",
    "            self.__d_values__()\n",
    "            return self.__N_d__(self._d1) if self._is_call else  self.__N_d__(self._d1)-1\n",
    "        \n",
    "        def get_vega(self):\n",
    "            self.__d_values__()\n",
    "            return self._Spot*stats.norm.pdf(self._d1)*np.sqrt(self._T-self._t)*np.exp(-self._r_for*\\\n",
    "            (self._T-self._t))/100"
   ]
  },
  {
   "cell_type": "markdown",
   "metadata": {},
   "source": [
    "### Расчет доходности бивалютного депозита"
   ]
  },
  {
   "cell_type": "markdown",
   "metadata": {},
   "source": [
    "### В качестве примера рассмотрим бивалютный депозит на три месяца, курс конверсии (страйк) - 1.27"
   ]
  },
  {
   "cell_type": "code",
   "execution_count": 119,
   "metadata": {},
   "outputs": [],
   "source": [
    "Spot=1.3140\n",
    "days=60\n",
    "T=days/250"
   ]
  },
  {
   "cell_type": "code",
   "execution_count": 120,
   "metadata": {},
   "outputs": [],
   "source": [
    "dual_deposit=option[['Strikes','Imp_vol']]"
   ]
  },
  {
   "cell_type": "code",
   "execution_count": 121,
   "metadata": {},
   "outputs": [],
   "source": [
    "dual_deposit=dual_deposit[dual_deposit['Strikes']<Spot]"
   ]
  },
  {
   "cell_type": "code",
   "execution_count": 122,
   "metadata": {},
   "outputs": [],
   "source": [
    "dual_deposit['Put']=option.apply(lambda row: GK(Spot,row['Strikes'],libor_option.iloc[2,1]/100,libor_option.iloc[2,2]/100,T,row['Imp_vol'],is_call=False).get_price(),axis=1)"
   ]
  },
  {
   "cell_type": "code",
   "execution_count": 123,
   "metadata": {},
   "outputs": [],
   "source": [
    "days_d=90\n",
    "T_d=days/360"
   ]
  },
  {
   "cell_type": "markdown",
   "metadata": {},
   "source": [
    "### Доход по бивалютному депозиту определяется как сумма дохода по классическому депозиту и премии по проданному опциону"
   ]
  },
  {
   "cell_type": "code",
   "execution_count": 124,
   "metadata": {},
   "outputs": [],
   "source": [
    "dual_deposit['Deposit']=(libor_option.iloc[2,1]/100*T_d+dual_deposit['Put']*(1/Spot))*100*(1/T_d)"
   ]
  },
  {
   "cell_type": "code",
   "execution_count": 125,
   "metadata": {},
   "outputs": [
    {
     "data": {
      "text/html": [
       "<div>\n",
       "<style scoped>\n",
       "    .dataframe tbody tr th:only-of-type {\n",
       "        vertical-align: middle;\n",
       "    }\n",
       "\n",
       "    .dataframe tbody tr th {\n",
       "        vertical-align: top;\n",
       "    }\n",
       "\n",
       "    .dataframe thead th {\n",
       "        text-align: right;\n",
       "    }\n",
       "</style>\n",
       "<table border=\"1\" class=\"dataframe\">\n",
       "  <thead>\n",
       "    <tr style=\"text-align: right;\">\n",
       "      <th></th>\n",
       "      <th>Strikes</th>\n",
       "      <th>Imp_vol</th>\n",
       "      <th>Put</th>\n",
       "      <th>Deposit</th>\n",
       "    </tr>\n",
       "  </thead>\n",
       "  <tbody>\n",
       "    <tr>\n",
       "      <th>0</th>\n",
       "      <td>1.27</td>\n",
       "      <td>0.1052</td>\n",
       "      <td>0.009281</td>\n",
       "      <td>6.128599</td>\n",
       "    </tr>\n",
       "    <tr>\n",
       "      <th>1</th>\n",
       "      <td>1.28</td>\n",
       "      <td>0.1021</td>\n",
       "      <td>0.011313</td>\n",
       "      <td>7.056098</td>\n",
       "    </tr>\n",
       "    <tr>\n",
       "      <th>2</th>\n",
       "      <td>1.29</td>\n",
       "      <td>0.0991</td>\n",
       "      <td>0.013782</td>\n",
       "      <td>8.183627</td>\n",
       "    </tr>\n",
       "    <tr>\n",
       "      <th>3</th>\n",
       "      <td>1.30</td>\n",
       "      <td>0.0962</td>\n",
       "      <td>0.016761</td>\n",
       "      <td>9.544103</td>\n",
       "    </tr>\n",
       "    <tr>\n",
       "      <th>4</th>\n",
       "      <td>1.31</td>\n",
       "      <td>0.0936</td>\n",
       "      <td>0.020374</td>\n",
       "      <td>11.193677</td>\n",
       "    </tr>\n",
       "  </tbody>\n",
       "</table>\n",
       "</div>"
      ],
      "text/plain": [
       "   Strikes  Imp_vol       Put    Deposit\n",
       "0     1.27   0.1052  0.009281   6.128599\n",
       "1     1.28   0.1021  0.011313   7.056098\n",
       "2     1.29   0.0991  0.013782   8.183627\n",
       "3     1.30   0.0962  0.016761   9.544103\n",
       "4     1.31   0.0936  0.020374  11.193677"
      ]
     },
     "execution_count": 125,
     "metadata": {},
     "output_type": "execute_result"
    }
   ],
   "source": [
    "dual_deposit"
   ]
  },
  {
   "cell_type": "code",
   "execution_count": 126,
   "metadata": {},
   "outputs": [
    {
     "data": {
      "text/plain": [
       "1.27"
      ]
     },
     "execution_count": 126,
     "metadata": {},
     "output_type": "execute_result"
    }
   ],
   "source": [
    "Strike=dual_deposit.iloc[0,0]\n",
    "Strike"
   ]
  },
  {
   "cell_type": "markdown",
   "metadata": {},
   "source": [
    "### Визуализация результатов"
   ]
  },
  {
   "cell_type": "code",
   "execution_count": 127,
   "metadata": {},
   "outputs": [],
   "source": [
    "result=(-np.maximum((Strike-np.arange(1.20,1.40,0.01)),0)+dual_deposit.iloc[0,3]/100*T_d)*(1/T_d)*100"
   ]
  },
  {
   "cell_type": "code",
   "execution_count": 128,
   "metadata": {},
   "outputs": [],
   "source": [
    "dual_deposit_result=pd.DataFrame(zip(np.arange(1.20,1.40,0.01),result),columns=['Spot','Yield'])"
   ]
  },
  {
   "cell_type": "code",
   "execution_count": 129,
   "metadata": {},
   "outputs": [
    {
     "data": {
      "text/html": [
       "<div>\n",
       "<style scoped>\n",
       "    .dataframe tbody tr th:only-of-type {\n",
       "        vertical-align: middle;\n",
       "    }\n",
       "\n",
       "    .dataframe tbody tr th {\n",
       "        vertical-align: top;\n",
       "    }\n",
       "\n",
       "    .dataframe thead th {\n",
       "        text-align: right;\n",
       "    }\n",
       "</style>\n",
       "<table border=\"1\" class=\"dataframe\">\n",
       "  <thead>\n",
       "    <tr style=\"text-align: right;\">\n",
       "      <th></th>\n",
       "      <th>Spot</th>\n",
       "      <th>Yield</th>\n",
       "    </tr>\n",
       "  </thead>\n",
       "  <tbody>\n",
       "    <tr>\n",
       "      <th>0</th>\n",
       "      <td>1.20</td>\n",
       "      <td>-35.871401</td>\n",
       "    </tr>\n",
       "    <tr>\n",
       "      <th>1</th>\n",
       "      <td>1.21</td>\n",
       "      <td>-29.871401</td>\n",
       "    </tr>\n",
       "    <tr>\n",
       "      <th>2</th>\n",
       "      <td>1.22</td>\n",
       "      <td>-23.871401</td>\n",
       "    </tr>\n",
       "    <tr>\n",
       "      <th>3</th>\n",
       "      <td>1.23</td>\n",
       "      <td>-17.871401</td>\n",
       "    </tr>\n",
       "    <tr>\n",
       "      <th>4</th>\n",
       "      <td>1.24</td>\n",
       "      <td>-11.871401</td>\n",
       "    </tr>\n",
       "    <tr>\n",
       "      <th>5</th>\n",
       "      <td>1.25</td>\n",
       "      <td>-5.871401</td>\n",
       "    </tr>\n",
       "    <tr>\n",
       "      <th>6</th>\n",
       "      <td>1.26</td>\n",
       "      <td>0.128599</td>\n",
       "    </tr>\n",
       "    <tr>\n",
       "      <th>7</th>\n",
       "      <td>1.27</td>\n",
       "      <td>6.128599</td>\n",
       "    </tr>\n",
       "    <tr>\n",
       "      <th>8</th>\n",
       "      <td>1.28</td>\n",
       "      <td>6.128599</td>\n",
       "    </tr>\n",
       "    <tr>\n",
       "      <th>9</th>\n",
       "      <td>1.29</td>\n",
       "      <td>6.128599</td>\n",
       "    </tr>\n",
       "    <tr>\n",
       "      <th>10</th>\n",
       "      <td>1.30</td>\n",
       "      <td>6.128599</td>\n",
       "    </tr>\n",
       "    <tr>\n",
       "      <th>11</th>\n",
       "      <td>1.31</td>\n",
       "      <td>6.128599</td>\n",
       "    </tr>\n",
       "    <tr>\n",
       "      <th>12</th>\n",
       "      <td>1.32</td>\n",
       "      <td>6.128599</td>\n",
       "    </tr>\n",
       "    <tr>\n",
       "      <th>13</th>\n",
       "      <td>1.33</td>\n",
       "      <td>6.128599</td>\n",
       "    </tr>\n",
       "    <tr>\n",
       "      <th>14</th>\n",
       "      <td>1.34</td>\n",
       "      <td>6.128599</td>\n",
       "    </tr>\n",
       "    <tr>\n",
       "      <th>15</th>\n",
       "      <td>1.35</td>\n",
       "      <td>6.128599</td>\n",
       "    </tr>\n",
       "    <tr>\n",
       "      <th>16</th>\n",
       "      <td>1.36</td>\n",
       "      <td>6.128599</td>\n",
       "    </tr>\n",
       "    <tr>\n",
       "      <th>17</th>\n",
       "      <td>1.37</td>\n",
       "      <td>6.128599</td>\n",
       "    </tr>\n",
       "    <tr>\n",
       "      <th>18</th>\n",
       "      <td>1.38</td>\n",
       "      <td>6.128599</td>\n",
       "    </tr>\n",
       "    <tr>\n",
       "      <th>19</th>\n",
       "      <td>1.39</td>\n",
       "      <td>6.128599</td>\n",
       "    </tr>\n",
       "  </tbody>\n",
       "</table>\n",
       "</div>"
      ],
      "text/plain": [
       "    Spot      Yield\n",
       "0   1.20 -35.871401\n",
       "1   1.21 -29.871401\n",
       "2   1.22 -23.871401\n",
       "3   1.23 -17.871401\n",
       "4   1.24 -11.871401\n",
       "5   1.25  -5.871401\n",
       "6   1.26   0.128599\n",
       "7   1.27   6.128599\n",
       "8   1.28   6.128599\n",
       "9   1.29   6.128599\n",
       "10  1.30   6.128599\n",
       "11  1.31   6.128599\n",
       "12  1.32   6.128599\n",
       "13  1.33   6.128599\n",
       "14  1.34   6.128599\n",
       "15  1.35   6.128599\n",
       "16  1.36   6.128599\n",
       "17  1.37   6.128599\n",
       "18  1.38   6.128599\n",
       "19  1.39   6.128599"
      ]
     },
     "execution_count": 129,
     "metadata": {},
     "output_type": "execute_result"
    }
   ],
   "source": [
    "dual_deposit_result"
   ]
  },
  {
   "cell_type": "code",
   "execution_count": 130,
   "metadata": {},
   "outputs": [
    {
     "data": {
      "image/png": "[encoded data removed]",
      "text/plain": [
       "<Figure size 720x432 with 1 Axes>"
      ]
     },
     "metadata": {
      "needs_background": "light"
     },
     "output_type": "display_data"
    }
   ],
   "source": [
    "fig=plt.figure(figsize=(10,6))\n",
    "plt.plot(dual_deposit_result.Spot,dual_deposit_result.Yield)\n",
    "ax=plt.gca()\n",
    "ax.spines['left'].set_position('center')\n",
    "ax.spines['right'].set_color('none')\n",
    "ax.spines['bottom'].set_position('center')\n",
    "ax.spines['top'].set_color('none')\n",
    "ax.xaxis.set_ticks_position('bottom')\n",
    "ax.yaxis.set_ticks_position('left')\n",
    "ax.yaxis.set_ticks_position('left')\n",
    "_=plt.title('Dual Currency Deposit',fontsize=18)\n",
    "#plt.savefig('/home/maxime/Documentos/IFX/DCD',format='png',bbox_inches='tight')"
   ]
  },
  {
   "cell_type": "markdown",
   "metadata": {},
   "source": [
    "## 6.Задание"
   ]
  },
  {
   "cell_type": "markdown",
   "metadata": {},
   "source": [
    "### 1. Построить модель кросс-валютного форварда для валютной пары и индекса\n",
    "### 2. Реализовать стратегию triangular arbitrage \n",
    "### 3. Получить ценовые сигналы на основании индикатора EWMA и визуализировать результат\n",
    "### 4. Рассчитать доходность бивалютного депозита на примере любой валютной пары"
   ]
  }
 ],
 "metadata": {
  "kernelspec": {
   "display_name": "Python 3",
   "language": "python",
   "name": "python3"
  },
  "language_info": {
   "codemirror_mode": {
    "name": "ipython",
    "version": 3
   },
   "file_extension": ".py",
   "mimetype": "text/x-python",
   "name": "python",
   "nbconvert_exporter": "python",
   "pygments_lexer": "ipython3",
   "version": "3.8.3"
  }
 },
 "nbformat": 4,
 "nbformat_minor": 2
}
