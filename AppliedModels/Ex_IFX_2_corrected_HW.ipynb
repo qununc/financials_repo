{
 "cells": [
  {
   "cell_type": "markdown",
   "metadata": {},
   "source": [
    "## Задание 2. Изучение свойств и харктеристик валютных ПФИ и инструментов денежного рынка\n"
   ]
  },
  {
   "cell_type": "markdown",
   "metadata": {},
   "source": [
    "## 1. Загрузка библиотек\n"
   ]
  },
  {
   "cell_type": "code",
   "execution_count": 97,
   "metadata": {},
   "outputs": [],
   "source": [
    "import pandas as pd\n",
    "import numpy as np\n",
    "from scipy import stats\n",
    "import matplotlib.pyplot as plt\n",
    "from collections import OrderedDict\n",
    "import matplotlib.pyplot as plt\n",
    "import warnings\n",
    "\n",
    "warnings.filterwarnings('ignore')"
   ]
  },
  {
   "cell_type": "markdown",
   "metadata": {},
   "source": [
    "## 2. Полезные функции\n"
   ]
  },
  {
   "cell_type": "code",
   "execution_count": 98,
   "metadata": {},
   "outputs": [],
   "source": [
    "# создание массива процентных ставок\n",
    "def rates_y(term, s_t, f, start_r, step_r):\n",
    "    end = int(term * f)\n",
    "    rates = [start_r + step_r * i for i in range(0, end)]\n",
    "    return OrderedDict(\n",
    "        zip([i for i in np.arange(s_t, term * f, 1 / freq)], rates))\n",
    "\n",
    "\n",
    "# расчет форвардных курсов\n",
    "def forward_ex_rate(rates_A, rates_B, ex_rate, freq):\n",
    "    n = len(rates_A)\n",
    "    l = []\n",
    "    for key in rates_A:\n",
    "        l.append(ex_rate * (((1 + rates_B[key] / freq) /\n",
    "                             (1 + rates_A[key] / freq))**(key * freq)))\n",
    "    #l.append(ex_rate*(np.exp((rates_B[key]-rates_A[key])*key)))\n",
    "    return OrderedDict(zip(rates_A.keys(), l))\n"
   ]
  },
  {
   "cell_type": "code",
   "execution_count": 99,
   "metadata": {},
   "outputs": [],
   "source": [
    "step_rate = 0.000  ## шаг изменения процентных ставок (везде принимаем равным 0)\n",
    "freq = 2  ##частота выплаты купона и начисления процентов для дисконтирования (везде принимаем равной 0.5, 2 раза в год)\n",
    "start_time = 0.5  ## время первой выплаты в годах (везде принимаем равной 0.5, через 6 месяцев)\n"
   ]
  },
  {
   "cell_type": "markdown",
   "metadata": {},
   "source": [
    "## 3. Interest Rate Swap (Процентный своп)\n"
   ]
  },
  {
   "cell_type": "markdown",
   "metadata": {},
   "source": [
    "### Класс, содержащий методы для моделирования свопа\n"
   ]
  },
  {
   "cell_type": "code",
   "execution_count": 100,
   "metadata": {},
   "outputs": [],
   "source": [
    "class Swap:\n",
    "\n",
    "    def __init__(self, nominal, m, rates):  # инициализация нового свопа\n",
    "        self._rates = rates\n",
    "        self._term = list(rates.keys())[len(rates) - 1]\n",
    "        self._nominal = nominal\n",
    "        self._m = m  # частота выплат\n",
    "        self._new = True\n",
    "\n",
    "    def __discount__(self):  # расчет ставок дисконтирования\n",
    "        l = []\n",
    "        for key in self._rates:\n",
    "            l.append(1 / (1 + self._rates[key] / self._m)**(self._m * key))\n",
    "        self._DF = OrderedDict(zip(self._rates.keys(), l))\n",
    "\n",
    "    def __coupon_rate__(\n",
    "            self):  # расчет фиксированной ставки (купона облигации)\n",
    "        self.__discount__()\n",
    "        c = (self._nominal - self._nominal * self._DF[self._term]) / sum(\n",
    "            self._DF.values())\n",
    "        self._coupon = OrderedDict(\n",
    "            zip(self._DF.keys(), np.repeat(c, len(self._DF))))\n",
    "        self._new = False\n",
    "\n",
    "    def __bond_value__(self, c):  # расчет цены облигации\n",
    "        self.__discount__()\n",
    "        self._bond = (self._nominal * self._DF[self._term] +\n",
    "                      (sum([c[key] * self._DF[key] for key in self._DF])))\n",
    "\n",
    "    def __float_leg__(self):  # расчет стоимости плавающей части\n",
    "        self.__discount__()\n",
    "        self._Float = (self._nominal + self._nominal *\n",
    "                       list(list(self._rates.values()))[0] / self._m) * list(\n",
    "                           self._DF.values())[0]\n",
    "\n",
    "    def __forward_rates__(self):  # расчет форвардных ставок\n",
    "        n = len(self._rates)\n",
    "        l = []\n",
    "        l.append(list(self._rates.values())[0])\n",
    "        for i in range(1, n):\n",
    "            l.append((\n",
    "                (1 +\n",
    "                 list(self._rates.values())[i])**list(self._rates.keys())[i] /\n",
    "                (1 + list(self._rates.values())[i - 1])**list(self._rates.keys(\n",
    "                ))[i - 1])**(1 / (list(self._rates.keys())[i] -\n",
    "                                  list(self._rates.keys())[i - 1])) - 1)\n",
    "        self._forward = OrderedDict(zip(self._rates.keys(), l))\n",
    "\n",
    "    def __fix_leg__(self):  # расчет стоимости фиксированной части\n",
    "        if self._new == True:\n",
    "            self.__coupon_rate__()\n",
    "        self.__bond_value__(self._coupon)\n",
    "        self._Fix = self._bond\n",
    "\n",
    "    def get_fix_leg(self):  # получить стоимости фиксированной части\n",
    "        self.__fix_leg__()\n",
    "        return self._Fix\n",
    "\n",
    "    def get_float_leg(self):  # получить стоимости плавающей части\n",
    "        self.__float_leg__()\n",
    "        return self._Float\n",
    "\n",
    "    def get_fix_rate(self):  # получить фиксированную ставку\n",
    "        if self._new == True:\n",
    "            self.__coupon_rate__()\n",
    "        return self._coupon\n",
    "\n",
    "    def get_swap_value(self):  # получить стоимости свопа\n",
    "        self.__fix_leg__()\n",
    "        self.__float_leg__()\n",
    "        return np.round(self._Float - self._Fix, 4)\n",
    "\n",
    "    def get_forward_rates(self):  # получить форвардные ставки\n",
    "        self.__forward_rates__()\n",
    "        return self._forward\n",
    "\n",
    "    def get_float_check(\n",
    "            self\n",
    "    ):  # проверка стоимости плавающей части через форвардные ставки\n",
    "        self.__forward_rates__()\n",
    "        for key in self._forward:\n",
    "            self._forward[key] = 100 * self._forward[key] / self._m\n",
    "        self.__bond_value__(self._forward)\n",
    "        return self._bond\n",
    "\n",
    "    def set_rates(self, rates):  # ввод ставок для действующего свопа\n",
    "        #self._rates=rates\n",
    "        self._term = list(rates.keys())[len(rates) - 1]\n",
    "        self._rates = rates\n",
    "\n",
    "    def get_term(self):  # получить величину срока свопа\n",
    "        return self._term\n"
   ]
  },
  {
   "cell_type": "markdown",
   "metadata": {},
   "source": [
    "### Заключение своп-соглашения\n"
   ]
  },
  {
   "cell_type": "code",
   "execution_count": 101,
   "metadata": {},
   "outputs": [],
   "source": [
    "T = 4  ## срок действия договора\n",
    "start_rate = .0475  ## начальная ставка для массива процентных ставок\n",
    "N = 100  ## номинал контракта\n"
   ]
  },
  {
   "cell_type": "code",
   "execution_count": 102,
   "metadata": {},
   "outputs": [],
   "source": [
    "disc_rates_y = rates_y(T, start_time, freq, start_rate,\n",
    "                       step_rate)  ## создание массива процентных ставок\n"
   ]
  },
  {
   "cell_type": "code",
   "execution_count": 103,
   "metadata": {},
   "outputs": [
    {
     "data": {
      "text/plain": [
       "OrderedDict([(0.5, 0.0475),\n",
       "             (1.0, 0.0475),\n",
       "             (1.5, 0.0475),\n",
       "             (2.0, 0.0475),\n",
       "             (2.5, 0.0475),\n",
       "             (3.0, 0.0475),\n",
       "             (3.5, 0.0475),\n",
       "             (4.0, 0.0475)])"
      ]
     },
     "execution_count": 103,
     "metadata": {},
     "output_type": "execute_result"
    }
   ],
   "source": [
    "disc_rates_y"
   ]
  },
  {
   "cell_type": "code",
   "execution_count": 104,
   "metadata": {},
   "outputs": [
    {
     "data": {
      "text/plain": [
       "8"
      ]
     },
     "execution_count": 104,
     "metadata": {},
     "output_type": "execute_result"
    }
   ],
   "source": [
    "len(disc_rates_y)"
   ]
  },
  {
   "cell_type": "code",
   "execution_count": 105,
   "metadata": {},
   "outputs": [
    {
     "data": {
      "text/plain": [
       "[0.5, 1.0, 1.5, 2.0, 2.5, 3.0, 3.5, 4.0]"
      ]
     },
     "execution_count": 105,
     "metadata": {},
     "output_type": "execute_result"
    }
   ],
   "source": [
    "list(disc_rates_y.keys())"
   ]
  },
  {
   "cell_type": "code",
   "execution_count": 106,
   "metadata": {},
   "outputs": [],
   "source": [
    "swap = Swap(N, freq, disc_rates_y)  ## создание свопа\n"
   ]
  },
  {
   "cell_type": "code",
   "execution_count": 107,
   "metadata": {},
   "outputs": [
    {
     "data": {
      "text/plain": [
       "100.0"
      ]
     },
     "execution_count": 107,
     "metadata": {},
     "output_type": "execute_result"
    }
   ],
   "source": [
    "swap.get_fix_leg()  ## приведенная стоимость фиксированной части\n"
   ]
  },
  {
   "cell_type": "code",
   "execution_count": 108,
   "metadata": {},
   "outputs": [
    {
     "data": {
      "text/plain": [
       "100.00000000000001"
      ]
     },
     "execution_count": 108,
     "metadata": {},
     "output_type": "execute_result"
    }
   ],
   "source": [
    "swap.get_float_leg()  ## приведенная стоимость плавающей части\n"
   ]
  },
  {
   "cell_type": "code",
   "execution_count": 109,
   "metadata": {},
   "outputs": [
    {
     "data": {
      "text/plain": [
       "OrderedDict([(0.5, 0.0475),\n",
       "             (1.0, 0.0475000000000001),\n",
       "             (1.5, 0.0475000000000001),\n",
       "             (2.0, 0.0475000000000001),\n",
       "             (2.5, 0.0475000000000001),\n",
       "             (3.0, 0.0475000000000001),\n",
       "             (3.5, 0.0475000000000001),\n",
       "             (4.0, 0.0475000000000001)])"
      ]
     },
     "execution_count": 109,
     "metadata": {},
     "output_type": "execute_result"
    }
   ],
   "source": [
    "swap.get_forward_rates()  ## расчет форвардных ставок\n"
   ]
  },
  {
   "cell_type": "code",
   "execution_count": 110,
   "metadata": {},
   "outputs": [
    {
     "data": {
      "text/plain": [
       "4.0"
      ]
     },
     "execution_count": 110,
     "metadata": {},
     "output_type": "execute_result"
    }
   ],
   "source": [
    "swap.get_term()"
   ]
  },
  {
   "cell_type": "code",
   "execution_count": 111,
   "metadata": {},
   "outputs": [
    {
     "data": {
      "text/plain": [
       "OrderedDict([(0.5, 2.3749999999999956),\n",
       "             (1.0, 2.3749999999999956),\n",
       "             (1.5, 2.3749999999999956),\n",
       "             (2.0, 2.3749999999999956),\n",
       "             (2.5, 2.3749999999999956),\n",
       "             (3.0, 2.3749999999999956),\n",
       "             (3.5, 2.3749999999999956),\n",
       "             (4.0, 2.3749999999999956)])"
      ]
     },
     "execution_count": 111,
     "metadata": {},
     "output_type": "execute_result"
    }
   ],
   "source": [
    "swap.get_fix_rate()  ## фиксированная ставка свопа с учетом процентного периода\n"
   ]
  },
  {
   "cell_type": "code",
   "execution_count": 112,
   "metadata": {},
   "outputs": [
    {
     "data": {
      "text/plain": [
       "4.75"
      ]
     },
     "execution_count": 112,
     "metadata": {},
     "output_type": "execute_result"
    }
   ],
   "source": [
    "round(list(swap.get_fix_rate().values())[0] * freq,\n",
    "      2)  ## фиксированная ставка свопа в годовом выражении\n"
   ]
  },
  {
   "cell_type": "markdown",
   "metadata": {},
   "source": [
    "### Для данного примера фиксированная ставка свопа соответствует рыночной ставке (ytm), т.к. структура ставок плоская, а фиксированная часть свопа соответствует облигации, имеющей номинальную стоимость\n"
   ]
  },
  {
   "cell_type": "code",
   "execution_count": 113,
   "metadata": {},
   "outputs": [
    {
     "data": {
      "text/plain": [
       "0.0"
      ]
     },
     "execution_count": 113,
     "metadata": {},
     "output_type": "execute_result"
    }
   ],
   "source": [
    "swap.get_swap_value()  ## текущая стоимость свопа\n"
   ]
  },
  {
   "cell_type": "code",
   "execution_count": 114,
   "metadata": {},
   "outputs": [
    {
     "data": {
      "text/plain": [
       "100.00000000000006"
      ]
     },
     "execution_count": 114,
     "metadata": {},
     "output_type": "execute_result"
    }
   ],
   "source": [
    "swap.get_float_check()"
   ]
  },
  {
   "cell_type": "markdown",
   "metadata": {},
   "source": [
    "### Моделирование будущих денежных потоков по свопу\n"
   ]
  },
  {
   "cell_type": "markdown",
   "metadata": {},
   "source": [
    "### Будущие процентные ставки будем определять с помощью случайных чисел\n"
   ]
  },
  {
   "cell_type": "code",
   "execution_count": 115,
   "metadata": {},
   "outputs": [
    {
     "data": {
      "text/plain": [
       "8"
      ]
     },
     "execution_count": 115,
     "metadata": {},
     "output_type": "execute_result"
    }
   ],
   "source": [
    "T * freq  ## количестов процентных периодов\n"
   ]
  },
  {
   "cell_type": "code",
   "execution_count": 116,
   "metadata": {},
   "outputs": [],
   "source": [
    "random = np.random.uniform(\n",
    "    list(swap.get_fix_rate().values())[0] - 0.05,\n",
    "    list(swap.get_fix_rate().values())[0] + 0.05, int(T * freq))\n"
   ]
  },
  {
   "cell_type": "code",
   "execution_count": 117,
   "metadata": {},
   "outputs": [
    {
     "data": {
      "text/plain": [
       "array([2.35787861, 2.37940788, 2.3712841 , 2.38448824, 2.35181536,\n",
       "       2.41204809, 2.36714426, 2.36014941])"
      ]
     },
     "execution_count": 117,
     "metadata": {},
     "output_type": "execute_result"
    }
   ],
   "source": [
    "random"
   ]
  },
  {
   "cell_type": "code",
   "execution_count": 118,
   "metadata": {},
   "outputs": [],
   "source": [
    "swap_df = pd.DataFrame({\n",
    "    'Fix_leg': list(swap.get_fix_rate().values()),\n",
    "    'Float_leg': random\n",
    "})\n"
   ]
  },
  {
   "cell_type": "code",
   "execution_count": 119,
   "metadata": {},
   "outputs": [
    {
     "data": {
      "text/html": [
       "<div>\n",
       "<style scoped>\n",
       "    .dataframe tbody tr th:only-of-type {\n",
       "        vertical-align: middle;\n",
       "    }\n",
       "\n",
       "    .dataframe tbody tr th {\n",
       "        vertical-align: top;\n",
       "    }\n",
       "\n",
       "    .dataframe thead th {\n",
       "        text-align: right;\n",
       "    }\n",
       "</style>\n",
       "<table border=\"1\" class=\"dataframe\">\n",
       "  <thead>\n",
       "    <tr style=\"text-align: right;\">\n",
       "      <th></th>\n",
       "      <th>Fix_leg</th>\n",
       "      <th>Float_leg</th>\n",
       "    </tr>\n",
       "  </thead>\n",
       "  <tbody>\n",
       "    <tr>\n",
       "      <th>0</th>\n",
       "      <td>2.375</td>\n",
       "      <td>2.357879</td>\n",
       "    </tr>\n",
       "    <tr>\n",
       "      <th>1</th>\n",
       "      <td>2.375</td>\n",
       "      <td>2.379408</td>\n",
       "    </tr>\n",
       "    <tr>\n",
       "      <th>2</th>\n",
       "      <td>2.375</td>\n",
       "      <td>2.371284</td>\n",
       "    </tr>\n",
       "    <tr>\n",
       "      <th>3</th>\n",
       "      <td>2.375</td>\n",
       "      <td>2.384488</td>\n",
       "    </tr>\n",
       "    <tr>\n",
       "      <th>4</th>\n",
       "      <td>2.375</td>\n",
       "      <td>2.351815</td>\n",
       "    </tr>\n",
       "    <tr>\n",
       "      <th>5</th>\n",
       "      <td>2.375</td>\n",
       "      <td>2.412048</td>\n",
       "    </tr>\n",
       "    <tr>\n",
       "      <th>6</th>\n",
       "      <td>2.375</td>\n",
       "      <td>2.367144</td>\n",
       "    </tr>\n",
       "    <tr>\n",
       "      <th>7</th>\n",
       "      <td>2.375</td>\n",
       "      <td>2.360149</td>\n",
       "    </tr>\n",
       "  </tbody>\n",
       "</table>\n",
       "</div>"
      ],
      "text/plain": [
       "   Fix_leg  Float_leg\n",
       "0    2.375   2.357879\n",
       "1    2.375   2.379408\n",
       "2    2.375   2.371284\n",
       "3    2.375   2.384488\n",
       "4    2.375   2.351815\n",
       "5    2.375   2.412048\n",
       "6    2.375   2.367144\n",
       "7    2.375   2.360149"
      ]
     },
     "execution_count": 119,
     "metadata": {},
     "output_type": "execute_result"
    }
   ],
   "source": [
    "swap_df"
   ]
  },
  {
   "cell_type": "code",
   "execution_count": 120,
   "metadata": {},
   "outputs": [],
   "source": [
    "swap_df['Difference'] = swap_df['Float_leg'] - swap_df['Fix_leg']\n"
   ]
  },
  {
   "cell_type": "code",
   "execution_count": 121,
   "metadata": {},
   "outputs": [
    {
     "data": {
      "text/html": [
       "<div>\n",
       "<style scoped>\n",
       "    .dataframe tbody tr th:only-of-type {\n",
       "        vertical-align: middle;\n",
       "    }\n",
       "\n",
       "    .dataframe tbody tr th {\n",
       "        vertical-align: top;\n",
       "    }\n",
       "\n",
       "    .dataframe thead th {\n",
       "        text-align: right;\n",
       "    }\n",
       "</style>\n",
       "<table border=\"1\" class=\"dataframe\">\n",
       "  <thead>\n",
       "    <tr style=\"text-align: right;\">\n",
       "      <th></th>\n",
       "      <th>Fix_leg</th>\n",
       "      <th>Float_leg</th>\n",
       "      <th>Difference</th>\n",
       "    </tr>\n",
       "  </thead>\n",
       "  <tbody>\n",
       "    <tr>\n",
       "      <th>0</th>\n",
       "      <td>2.375</td>\n",
       "      <td>2.357879</td>\n",
       "      <td>-0.017121</td>\n",
       "    </tr>\n",
       "    <tr>\n",
       "      <th>1</th>\n",
       "      <td>2.375</td>\n",
       "      <td>2.379408</td>\n",
       "      <td>0.004408</td>\n",
       "    </tr>\n",
       "    <tr>\n",
       "      <th>2</th>\n",
       "      <td>2.375</td>\n",
       "      <td>2.371284</td>\n",
       "      <td>-0.003716</td>\n",
       "    </tr>\n",
       "    <tr>\n",
       "      <th>3</th>\n",
       "      <td>2.375</td>\n",
       "      <td>2.384488</td>\n",
       "      <td>0.009488</td>\n",
       "    </tr>\n",
       "    <tr>\n",
       "      <th>4</th>\n",
       "      <td>2.375</td>\n",
       "      <td>2.351815</td>\n",
       "      <td>-0.023185</td>\n",
       "    </tr>\n",
       "    <tr>\n",
       "      <th>5</th>\n",
       "      <td>2.375</td>\n",
       "      <td>2.412048</td>\n",
       "      <td>0.037048</td>\n",
       "    </tr>\n",
       "    <tr>\n",
       "      <th>6</th>\n",
       "      <td>2.375</td>\n",
       "      <td>2.367144</td>\n",
       "      <td>-0.007856</td>\n",
       "    </tr>\n",
       "    <tr>\n",
       "      <th>7</th>\n",
       "      <td>2.375</td>\n",
       "      <td>2.360149</td>\n",
       "      <td>-0.014851</td>\n",
       "    </tr>\n",
       "  </tbody>\n",
       "</table>\n",
       "</div>"
      ],
      "text/plain": [
       "   Fix_leg  Float_leg  Difference\n",
       "0    2.375   2.357879   -0.017121\n",
       "1    2.375   2.379408    0.004408\n",
       "2    2.375   2.371284   -0.003716\n",
       "3    2.375   2.384488    0.009488\n",
       "4    2.375   2.351815   -0.023185\n",
       "5    2.375   2.412048    0.037048\n",
       "6    2.375   2.367144   -0.007856\n",
       "7    2.375   2.360149   -0.014851"
      ]
     },
     "execution_count": 121,
     "metadata": {},
     "output_type": "execute_result"
    }
   ],
   "source": [
    "swap_df"
   ]
  },
  {
   "cell_type": "code",
   "execution_count": 122,
   "metadata": {},
   "outputs": [],
   "source": [
    "swap_df.index = swap.get_fix_rate().keys()\n"
   ]
  },
  {
   "cell_type": "code",
   "execution_count": 123,
   "metadata": {},
   "outputs": [
    {
     "data": {
      "image/png": "[encoded data removed]",
      "text/plain": [
       "<Figure size 1000x600 with 1 Axes>"
      ]
     },
     "metadata": {},
     "output_type": "display_data"
    }
   ],
   "source": [
    "plt.figure(figsize=(10, 6))\n",
    "plt.plot(swap_df.index, swap_df.Float_leg)\n",
    "plt.plot(swap_df.index, swap_df.Fix_leg)\n",
    "plt.show()"
   ]
  },
  {
   "cell_type": "markdown",
   "metadata": {},
   "source": [
    "### Переоценка свопа - ставки упали\n"
   ]
  },
  {
   "cell_type": "code",
   "execution_count": 124,
   "metadata": {},
   "outputs": [],
   "source": [
    "T = 2  ## новый срок до истечения контракта\n",
    "start_rate = .0455\n"
   ]
  },
  {
   "cell_type": "code",
   "execution_count": 125,
   "metadata": {},
   "outputs": [
    {
     "data": {
      "text/plain": [
       "OrderedDict([(0.5, 0.0455), (1.0, 0.0455), (1.5, 0.0455), (2.0, 0.0455)])"
      ]
     },
     "execution_count": 125,
     "metadata": {},
     "output_type": "execute_result"
    }
   ],
   "source": [
    "disc_rates_y = rates_y(T, start_time, freq, start_rate, step_rate)\n",
    "disc_rates_y"
   ]
  },
  {
   "cell_type": "code",
   "execution_count": 126,
   "metadata": {},
   "outputs": [],
   "source": [
    "swap.set_rates(disc_rates_y)"
   ]
  },
  {
   "cell_type": "code",
   "execution_count": 127,
   "metadata": {},
   "outputs": [
    {
     "data": {
      "text/plain": [
       "OrderedDict([(0.5, 2.3749999999999956),\n",
       "             (1.0, 2.3749999999999956),\n",
       "             (1.5, 2.3749999999999956),\n",
       "             (2.0, 2.3749999999999956),\n",
       "             (2.5, 2.3749999999999956),\n",
       "             (3.0, 2.3749999999999956),\n",
       "             (3.5, 2.3749999999999956),\n",
       "             (4.0, 2.3749999999999956)])"
      ]
     },
     "execution_count": 127,
     "metadata": {},
     "output_type": "execute_result"
    }
   ],
   "source": [
    "swap.get_fix_rate()"
   ]
  },
  {
   "cell_type": "code",
   "execution_count": 128,
   "metadata": {},
   "outputs": [
    {
     "data": {
      "text/plain": [
       "100.37824536458622"
      ]
     },
     "execution_count": 128,
     "metadata": {},
     "output_type": "execute_result"
    }
   ],
   "source": [
    "swap.get_fix_leg()"
   ]
  },
  {
   "cell_type": "code",
   "execution_count": 129,
   "metadata": {},
   "outputs": [
    {
     "data": {
      "text/plain": [
       "100.0"
      ]
     },
     "execution_count": 129,
     "metadata": {},
     "output_type": "execute_result"
    }
   ],
   "source": [
    "swap.get_float_leg()"
   ]
  },
  {
   "cell_type": "code",
   "execution_count": 130,
   "metadata": {},
   "outputs": [
    {
     "data": {
      "text/plain": [
       "-0.3782"
      ]
     },
     "execution_count": 130,
     "metadata": {},
     "output_type": "execute_result"
    }
   ],
   "source": [
    "swap.get_swap_value()"
   ]
  },
  {
   "cell_type": "code",
   "execution_count": 131,
   "metadata": {},
   "outputs": [
    {
     "data": {
      "text/plain": [
       "OrderedDict([(0.5, 0.0455),\n",
       "             (1.0, 0.045500000000000096),\n",
       "             (1.5, 0.045500000000000096),\n",
       "             (2.0, 0.045500000000000096)])"
      ]
     },
     "execution_count": 131,
     "metadata": {},
     "output_type": "execute_result"
    }
   ],
   "source": [
    "swap.get_forward_rates()"
   ]
  },
  {
   "cell_type": "code",
   "execution_count": 132,
   "metadata": {},
   "outputs": [
    {
     "data": {
      "text/plain": [
       "100.0"
      ]
     },
     "execution_count": 132,
     "metadata": {},
     "output_type": "execute_result"
    }
   ],
   "source": [
    "swap.get_float_check()"
   ]
  },
  {
   "cell_type": "markdown",
   "metadata": {},
   "source": [
    "### Переоценка свопа - ставки выросли\n"
   ]
  },
  {
   "cell_type": "code",
   "execution_count": 133,
   "metadata": {},
   "outputs": [],
   "source": [
    "T = 1.5  ## новый срок до истечения контракта\n",
    "start_rate = .055\n"
   ]
  },
  {
   "cell_type": "code",
   "execution_count": 134,
   "metadata": {},
   "outputs": [
    {
     "data": {
      "text/plain": [
       "OrderedDict([(0.5, 0.055), (1.0, 0.055), (1.5, 0.055)])"
      ]
     },
     "execution_count": 134,
     "metadata": {},
     "output_type": "execute_result"
    }
   ],
   "source": [
    "disc_rates_y = rates_y(T, start_time, freq, start_rate, step_rate)\n",
    "disc_rates_y"
   ]
  },
  {
   "cell_type": "code",
   "execution_count": 135,
   "metadata": {},
   "outputs": [],
   "source": [
    "swap.set_rates(disc_rates_y)"
   ]
  },
  {
   "cell_type": "code",
   "execution_count": 136,
   "metadata": {},
   "outputs": [
    {
     "data": {
      "text/plain": [
       "OrderedDict([(0.5, 2.3749999999999956),\n",
       "             (1.0, 2.3749999999999956),\n",
       "             (1.5, 2.3749999999999956),\n",
       "             (2.0, 2.3749999999999956),\n",
       "             (2.5, 2.3749999999999956),\n",
       "             (3.0, 2.3749999999999956),\n",
       "             (3.5, 2.3749999999999956),\n",
       "             (4.0, 2.3749999999999956)])"
      ]
     },
     "execution_count": 136,
     "metadata": {},
     "output_type": "execute_result"
    }
   ],
   "source": [
    "swap.get_fix_rate()"
   ]
  },
  {
   "cell_type": "code",
   "execution_count": 137,
   "metadata": {},
   "outputs": [
    {
     "data": {
      "text/plain": [
       "98.93415170059409"
      ]
     },
     "execution_count": 137,
     "metadata": {},
     "output_type": "execute_result"
    }
   ],
   "source": [
    "swap.get_fix_leg()"
   ]
  },
  {
   "cell_type": "code",
   "execution_count": 138,
   "metadata": {},
   "outputs": [
    {
     "data": {
      "text/plain": [
       "99.99999999999999"
      ]
     },
     "execution_count": 138,
     "metadata": {},
     "output_type": "execute_result"
    }
   ],
   "source": [
    "swap.get_float_leg()"
   ]
  },
  {
   "cell_type": "code",
   "execution_count": 139,
   "metadata": {},
   "outputs": [
    {
     "data": {
      "text/plain": [
       "1.0658"
      ]
     },
     "execution_count": 139,
     "metadata": {},
     "output_type": "execute_result"
    }
   ],
   "source": [
    "swap.get_swap_value()"
   ]
  },
  {
   "cell_type": "code",
   "execution_count": 140,
   "metadata": {},
   "outputs": [
    {
     "data": {
      "text/plain": [
       "OrderedDict([(0.5, 0.055),\n",
       "             (1.0, 0.05500000000000016),\n",
       "             (1.5, 0.054999999999999494)])"
      ]
     },
     "execution_count": 140,
     "metadata": {},
     "output_type": "execute_result"
    }
   ],
   "source": [
    "swap.get_forward_rates()"
   ]
  },
  {
   "cell_type": "code",
   "execution_count": 141,
   "metadata": {},
   "outputs": [
    {
     "data": {
      "text/plain": [
       "99.99999999999996"
      ]
     },
     "execution_count": 141,
     "metadata": {},
     "output_type": "execute_result"
    }
   ],
   "source": [
    "swap.get_float_check()"
   ]
  },
  {
   "cell_type": "markdown",
   "metadata": {},
   "source": [
    "## 4.Currency swap (Валютный своп)\n"
   ]
  },
  {
   "cell_type": "markdown",
   "metadata": {},
   "source": [
    "### Заключение своп-соглашения\n"
   ]
  },
  {
   "cell_type": "code",
   "execution_count": 142,
   "metadata": {},
   "outputs": [],
   "source": [
    "T = 5  #срок\n"
   ]
  },
  {
   "cell_type": "code",
   "execution_count": 143,
   "metadata": {},
   "outputs": [],
   "source": [
    "Ex_rate = 1.45  # обменный курс\n"
   ]
  },
  {
   "cell_type": "markdown",
   "metadata": {},
   "source": [
    "### Валюта A\n"
   ]
  },
  {
   "cell_type": "code",
   "execution_count": 144,
   "metadata": {},
   "outputs": [],
   "source": [
    "N_A = 100\n",
    "start_rate_A = .04\n"
   ]
  },
  {
   "cell_type": "code",
   "execution_count": 145,
   "metadata": {},
   "outputs": [],
   "source": [
    "disc_rates_A = rates_y(T, start_time, freq, start_rate_A, step_rate)\n"
   ]
  },
  {
   "cell_type": "code",
   "execution_count": 146,
   "metadata": {},
   "outputs": [],
   "source": [
    "swap_A = Swap(N_A, freq, disc_rates_A)\n"
   ]
  },
  {
   "cell_type": "code",
   "execution_count": 147,
   "metadata": {},
   "outputs": [
    {
     "data": {
      "text/plain": [
       "OrderedDict([(0.5, 2.000000000000002),\n",
       "             (1.0, 2.000000000000002),\n",
       "             (1.5, 2.000000000000002),\n",
       "             (2.0, 2.000000000000002),\n",
       "             (2.5, 2.000000000000002),\n",
       "             (3.0, 2.000000000000002),\n",
       "             (3.5, 2.000000000000002),\n",
       "             (4.0, 2.000000000000002),\n",
       "             (4.5, 2.000000000000002),\n",
       "             (5.0, 2.000000000000002)])"
      ]
     },
     "execution_count": 147,
     "metadata": {},
     "output_type": "execute_result"
    }
   ],
   "source": [
    "swap_A.get_fix_rate()  ## купон\n"
   ]
  },
  {
   "cell_type": "code",
   "execution_count": 148,
   "metadata": {},
   "outputs": [
    {
     "data": {
      "text/plain": [
       "100.0"
      ]
     },
     "execution_count": 148,
     "metadata": {},
     "output_type": "execute_result"
    }
   ],
   "source": [
    "swap_A.get_fix_leg()"
   ]
  },
  {
   "cell_type": "markdown",
   "metadata": {},
   "source": [
    "### Валюта B\n"
   ]
  },
  {
   "cell_type": "code",
   "execution_count": 149,
   "metadata": {},
   "outputs": [],
   "source": [
    "N_B = N_A * Ex_rate\n",
    "start_rate_B = .05\n"
   ]
  },
  {
   "cell_type": "code",
   "execution_count": 150,
   "metadata": {},
   "outputs": [],
   "source": [
    "disc_rates_B = rates_y(T, start_time, freq, start_rate_B, step_rate)\n"
   ]
  },
  {
   "cell_type": "code",
   "execution_count": 151,
   "metadata": {},
   "outputs": [],
   "source": [
    "swap_B = Swap(N_B, freq, disc_rates_B)\n"
   ]
  },
  {
   "cell_type": "code",
   "execution_count": 152,
   "metadata": {},
   "outputs": [
    {
     "data": {
      "text/plain": [
       "OrderedDict([(0.5, 3.6249999999999867),\n",
       "             (1.0, 3.6249999999999867),\n",
       "             (1.5, 3.6249999999999867),\n",
       "             (2.0, 3.6249999999999867),\n",
       "             (2.5, 3.6249999999999867),\n",
       "             (3.0, 3.6249999999999867),\n",
       "             (3.5, 3.6249999999999867),\n",
       "             (4.0, 3.6249999999999867),\n",
       "             (4.5, 3.6249999999999867),\n",
       "             (5.0, 3.6249999999999867)])"
      ]
     },
     "execution_count": 152,
     "metadata": {},
     "output_type": "execute_result"
    }
   ],
   "source": [
    "swap_B.get_fix_rate()  ## ставка свопа\n"
   ]
  },
  {
   "cell_type": "code",
   "execution_count": 153,
   "metadata": {},
   "outputs": [
    {
     "data": {
      "text/plain": [
       "145.0"
      ]
     },
     "execution_count": 153,
     "metadata": {},
     "output_type": "execute_result"
    }
   ],
   "source": [
    "swap_B.get_fix_leg()"
   ]
  },
  {
   "cell_type": "markdown",
   "metadata": {},
   "source": [
    "### Оценка свопа через форвардные курсы\n"
   ]
  },
  {
   "cell_type": "code",
   "execution_count": 154,
   "metadata": {},
   "outputs": [
    {
     "data": {
      "text/plain": [
       "OrderedDict([(0.5, 1.4571078431372548),\n",
       "             (1.0, 1.4642505286428298),\n",
       "             (1.5, 1.4714282273126473),\n",
       "             (2.0, 1.4786411107798663),\n",
       "             (2.5, 1.4858893515189833),\n",
       "             (3.0, 1.4931731228499585),\n",
       "             (3.5, 1.5004925989423603),\n",
       "             (4.0, 1.5078479548195287),\n",
       "             (4.5, 1.5152393663627617),\n",
       "             (5.0, 1.5226670103155204)])"
      ]
     },
     "execution_count": 154,
     "metadata": {},
     "output_type": "execute_result"
    }
   ],
   "source": [
    "forward_er = forward_ex_rate(disc_rates_A, disc_rates_B, Ex_rate, freq)\n",
    "forward_er"
   ]
  },
  {
   "cell_type": "code",
   "execution_count": 155,
   "metadata": {},
   "outputs": [],
   "source": [
    "coupon_B = swap_B.get_fix_rate()  ## ставка свопа\n"
   ]
  },
  {
   "cell_type": "code",
   "execution_count": 156,
   "metadata": {},
   "outputs": [],
   "source": [
    "## Расчет ставок дисконтирования\n",
    "l = []\n",
    "for key in disc_rates_A:\n",
    "    l.append(1 / (1 + disc_rates_A[key] / freq)**(freq * key))\n",
    "disc_f_A = OrderedDict(zip(disc_rates_A.keys(), l))\n"
   ]
  },
  {
   "cell_type": "code",
   "execution_count": 157,
   "metadata": {},
   "outputs": [
    {
     "data": {
      "text/plain": [
       "99.99999999999991"
      ]
     },
     "execution_count": 157,
     "metadata": {},
     "output_type": "execute_result"
    }
   ],
   "source": [
    "sum([coupon_B[key] / forward_er[key] * disc_f_A[key]\n",
    "     for key in coupon_B]) + N_B / forward_er[T] * disc_f_A[T]\n"
   ]
  },
  {
   "cell_type": "markdown",
   "metadata": {},
   "source": [
    "### Переоценка валютного свопа\n"
   ]
  },
  {
   "cell_type": "markdown",
   "metadata": {},
   "source": [
    "### Переоценка валютного свопа связана с изменением процентных ставок в обеих странах, а также с измением валютного курса\n"
   ]
  },
  {
   "cell_type": "code",
   "execution_count": 158,
   "metadata": {},
   "outputs": [],
   "source": [
    "T = 2.5  #новый срок\n"
   ]
  },
  {
   "cell_type": "code",
   "execution_count": 159,
   "metadata": {},
   "outputs": [],
   "source": [
    "swap_reval = []\n",
    "for r_d_delta in [-0.005, 0, 0.005]:\n",
    "    rates_A = rates_y(T, start_time, freq, start_rate_A + r_d_delta, step_rate)\n",
    "    swap_A.set_rates(rates_A)\n",
    "    for r_f_delta in [-0.005, 0, 0.005]:\n",
    "        rates_B = rates_y(T, start_time, freq, start_rate_B + r_f_delta,\n",
    "                          step_rate)\n",
    "        swap_B.set_rates(rates_B)\n",
    "        for ex_r_delta in [-.1, 0, 0.1]:\n",
    "            ex_rates = Ex_rate * (1 + ex_r_delta)\n",
    "            reval = swap_A.get_fix_leg() - swap_B.get_fix_leg() / ex_rates\n",
    "            swap_reval.append(\n",
    "                [r_d_delta, r_f_delta, ex_r_delta,\n",
    "                 np.round(reval, 4)])\n"
   ]
  },
  {
   "cell_type": "code",
   "execution_count": 160,
   "metadata": {},
   "outputs": [],
   "source": [
    "swap_reval_df = pd.DataFrame(swap_reval)\n"
   ]
  },
  {
   "cell_type": "code",
   "execution_count": 161,
   "metadata": {},
   "outputs": [],
   "source": [
    "swap_reval_df.columns = [\n",
    "    'Change_domestic', 'Change_foreign', 'Change_ex_rate', 'Swap_reval'\n",
    "]\n"
   ]
  },
  {
   "cell_type": "code",
   "execution_count": 162,
   "metadata": {},
   "outputs": [
    {
     "data": {
      "text/html": [
       "<div>\n",
       "<style scoped>\n",
       "    .dataframe tbody tr th:only-of-type {\n",
       "        vertical-align: middle;\n",
       "    }\n",
       "\n",
       "    .dataframe tbody tr th {\n",
       "        vertical-align: top;\n",
       "    }\n",
       "\n",
       "    .dataframe thead th {\n",
       "        text-align: right;\n",
       "    }\n",
       "</style>\n",
       "<table border=\"1\" class=\"dataframe\">\n",
       "  <thead>\n",
       "    <tr style=\"text-align: right;\">\n",
       "      <th></th>\n",
       "      <th>Change_domestic</th>\n",
       "      <th>Change_foreign</th>\n",
       "      <th>Change_ex_rate</th>\n",
       "      <th>Swap_reval</th>\n",
       "    </tr>\n",
       "  </thead>\n",
       "  <tbody>\n",
       "    <tr>\n",
       "      <th>0</th>\n",
       "      <td>-0.005</td>\n",
       "      <td>-0.005</td>\n",
       "      <td>-0.1</td>\n",
       "      <td>-11.2240</td>\n",
       "    </tr>\n",
       "    <tr>\n",
       "      <th>1</th>\n",
       "      <td>-0.005</td>\n",
       "      <td>-0.005</td>\n",
       "      <td>0.0</td>\n",
       "      <td>0.0171</td>\n",
       "    </tr>\n",
       "    <tr>\n",
       "      <th>2</th>\n",
       "      <td>-0.005</td>\n",
       "      <td>-0.005</td>\n",
       "      <td>0.1</td>\n",
       "      <td>9.2144</td>\n",
       "    </tr>\n",
       "    <tr>\n",
       "      <th>3</th>\n",
       "      <td>-0.005</td>\n",
       "      <td>0.000</td>\n",
       "      <td>-0.1</td>\n",
       "      <td>-9.9241</td>\n",
       "    </tr>\n",
       "    <tr>\n",
       "      <th>4</th>\n",
       "      <td>-0.005</td>\n",
       "      <td>0.000</td>\n",
       "      <td>0.0</td>\n",
       "      <td>1.1870</td>\n",
       "    </tr>\n",
       "    <tr>\n",
       "      <th>5</th>\n",
       "      <td>-0.005</td>\n",
       "      <td>0.000</td>\n",
       "      <td>0.1</td>\n",
       "      <td>10.2779</td>\n",
       "    </tr>\n",
       "    <tr>\n",
       "      <th>6</th>\n",
       "      <td>-0.005</td>\n",
       "      <td>0.005</td>\n",
       "      <td>-0.1</td>\n",
       "      <td>-8.6429</td>\n",
       "    </tr>\n",
       "    <tr>\n",
       "      <th>7</th>\n",
       "      <td>-0.005</td>\n",
       "      <td>0.005</td>\n",
       "      <td>0.0</td>\n",
       "      <td>2.3401</td>\n",
       "    </tr>\n",
       "    <tr>\n",
       "      <th>8</th>\n",
       "      <td>-0.005</td>\n",
       "      <td>0.005</td>\n",
       "      <td>0.1</td>\n",
       "      <td>11.3262</td>\n",
       "    </tr>\n",
       "    <tr>\n",
       "      <th>9</th>\n",
       "      <td>0.000</td>\n",
       "      <td>-0.005</td>\n",
       "      <td>-0.1</td>\n",
       "      <td>-12.4110</td>\n",
       "    </tr>\n",
       "    <tr>\n",
       "      <th>10</th>\n",
       "      <td>0.000</td>\n",
       "      <td>-0.005</td>\n",
       "      <td>0.0</td>\n",
       "      <td>-1.1699</td>\n",
       "    </tr>\n",
       "    <tr>\n",
       "      <th>11</th>\n",
       "      <td>0.000</td>\n",
       "      <td>-0.005</td>\n",
       "      <td>0.1</td>\n",
       "      <td>8.0274</td>\n",
       "    </tr>\n",
       "    <tr>\n",
       "      <th>12</th>\n",
       "      <td>0.000</td>\n",
       "      <td>0.000</td>\n",
       "      <td>-0.1</td>\n",
       "      <td>-11.1111</td>\n",
       "    </tr>\n",
       "    <tr>\n",
       "      <th>13</th>\n",
       "      <td>0.000</td>\n",
       "      <td>0.000</td>\n",
       "      <td>0.0</td>\n",
       "      <td>0.0000</td>\n",
       "    </tr>\n",
       "    <tr>\n",
       "      <th>14</th>\n",
       "      <td>0.000</td>\n",
       "      <td>0.000</td>\n",
       "      <td>0.1</td>\n",
       "      <td>9.0909</td>\n",
       "    </tr>\n",
       "    <tr>\n",
       "      <th>15</th>\n",
       "      <td>0.000</td>\n",
       "      <td>0.005</td>\n",
       "      <td>-0.1</td>\n",
       "      <td>-9.8298</td>\n",
       "    </tr>\n",
       "    <tr>\n",
       "      <th>16</th>\n",
       "      <td>0.000</td>\n",
       "      <td>0.005</td>\n",
       "      <td>0.0</td>\n",
       "      <td>1.1531</td>\n",
       "    </tr>\n",
       "    <tr>\n",
       "      <th>17</th>\n",
       "      <td>0.000</td>\n",
       "      <td>0.005</td>\n",
       "      <td>0.1</td>\n",
       "      <td>10.1392</td>\n",
       "    </tr>\n",
       "    <tr>\n",
       "      <th>18</th>\n",
       "      <td>0.005</td>\n",
       "      <td>-0.005</td>\n",
       "      <td>-0.1</td>\n",
       "      <td>-13.5808</td>\n",
       "    </tr>\n",
       "    <tr>\n",
       "      <th>19</th>\n",
       "      <td>0.005</td>\n",
       "      <td>-0.005</td>\n",
       "      <td>0.0</td>\n",
       "      <td>-2.3397</td>\n",
       "    </tr>\n",
       "    <tr>\n",
       "      <th>20</th>\n",
       "      <td>0.005</td>\n",
       "      <td>-0.005</td>\n",
       "      <td>0.1</td>\n",
       "      <td>6.8575</td>\n",
       "    </tr>\n",
       "    <tr>\n",
       "      <th>21</th>\n",
       "      <td>0.005</td>\n",
       "      <td>0.000</td>\n",
       "      <td>-0.1</td>\n",
       "      <td>-12.2810</td>\n",
       "    </tr>\n",
       "    <tr>\n",
       "      <th>22</th>\n",
       "      <td>0.005</td>\n",
       "      <td>0.000</td>\n",
       "      <td>0.0</td>\n",
       "      <td>-1.1699</td>\n",
       "    </tr>\n",
       "    <tr>\n",
       "      <th>23</th>\n",
       "      <td>0.005</td>\n",
       "      <td>0.000</td>\n",
       "      <td>0.1</td>\n",
       "      <td>7.9210</td>\n",
       "    </tr>\n",
       "    <tr>\n",
       "      <th>24</th>\n",
       "      <td>0.005</td>\n",
       "      <td>0.005</td>\n",
       "      <td>-0.1</td>\n",
       "      <td>-10.9997</td>\n",
       "    </tr>\n",
       "    <tr>\n",
       "      <th>25</th>\n",
       "      <td>0.005</td>\n",
       "      <td>0.005</td>\n",
       "      <td>0.0</td>\n",
       "      <td>-0.0167</td>\n",
       "    </tr>\n",
       "    <tr>\n",
       "      <th>26</th>\n",
       "      <td>0.005</td>\n",
       "      <td>0.005</td>\n",
       "      <td>0.1</td>\n",
       "      <td>8.9694</td>\n",
       "    </tr>\n",
       "  </tbody>\n",
       "</table>\n",
       "</div>"
      ],
      "text/plain": [
       "    Change_domestic  Change_foreign  Change_ex_rate  Swap_reval\n",
       "0            -0.005          -0.005            -0.1    -11.2240\n",
       "1            -0.005          -0.005             0.0      0.0171\n",
       "2            -0.005          -0.005             0.1      9.2144\n",
       "3            -0.005           0.000            -0.1     -9.9241\n",
       "4            -0.005           0.000             0.0      1.1870\n",
       "5            -0.005           0.000             0.1     10.2779\n",
       "6            -0.005           0.005            -0.1     -8.6429\n",
       "7            -0.005           0.005             0.0      2.3401\n",
       "8            -0.005           0.005             0.1     11.3262\n",
       "9             0.000          -0.005            -0.1    -12.4110\n",
       "10            0.000          -0.005             0.0     -1.1699\n",
       "11            0.000          -0.005             0.1      8.0274\n",
       "12            0.000           0.000            -0.1    -11.1111\n",
       "13            0.000           0.000             0.0      0.0000\n",
       "14            0.000           0.000             0.1      9.0909\n",
       "15            0.000           0.005            -0.1     -9.8298\n",
       "16            0.000           0.005             0.0      1.1531\n",
       "17            0.000           0.005             0.1     10.1392\n",
       "18            0.005          -0.005            -0.1    -13.5808\n",
       "19            0.005          -0.005             0.0     -2.3397\n",
       "20            0.005          -0.005             0.1      6.8575\n",
       "21            0.005           0.000            -0.1    -12.2810\n",
       "22            0.005           0.000             0.0     -1.1699\n",
       "23            0.005           0.000             0.1      7.9210\n",
       "24            0.005           0.005            -0.1    -10.9997\n",
       "25            0.005           0.005             0.0     -0.0167\n",
       "26            0.005           0.005             0.1      8.9694"
      ]
     },
     "execution_count": 162,
     "metadata": {},
     "output_type": "execute_result"
    }
   ],
   "source": [
    "swap_reval_df"
   ]
  },
  {
   "cell_type": "markdown",
   "metadata": {},
   "source": [
    "## 5.Валютный опцион\n"
   ]
  },
  {
   "cell_type": "markdown",
   "metadata": {},
   "source": [
    "### Для моделирования валютного опциона будем использовать формулу Garman–Kohlhagen (вариант формулы Блэка-Шоулза)\n"
   ]
  },
  {
   "cell_type": "markdown",
   "metadata": {},
   "source": [
    "### Класс, содержащий методы для моделирования валютного опциона\n"
   ]
  },
  {
   "cell_type": "code",
   "execution_count": 163,
   "metadata": {},
   "outputs": [],
   "source": [
    "class GK:\n",
    "\n",
    "    def __init__(self, Spot, K, r_dom, r_for, T, sigma, t=0, is_call=True):\n",
    "        self._Spot = Spot\n",
    "        self._K = K\n",
    "        self._r_dom = r_dom\n",
    "        self._r_for = r_for\n",
    "        self._T = T\n",
    "        self._sigma = sigma\n",
    "        self._t = t\n",
    "        self._is_call = is_call\n",
    "\n",
    "    def __d_values__(self):\n",
    "        self._d1 = (np.log(self._Spot / self._K) +\n",
    "                    (self._r_dom - self._r_for + 0.5 * self._sigma**2) *\n",
    "                    (self._T - self._t)) / (self._sigma *\n",
    "                                            np.sqrt(self._T - self._t))\n",
    "        self._d2 = self._d1 - self._sigma * np.sqrt(self._T - self._t)\n",
    "\n",
    "    def __N_d__(self, d_value):\n",
    "        return stats.norm.cdf(d_value)\n",
    "\n",
    "    def __price__(self):\n",
    "        return (np.exp(-self._r_for*\\\n",
    "        (self._T-self._t))*self._Spot*self.__N_d__(self._d1)-np.exp(-self._r_dom*\\\n",
    "        (self._T-self._t))*self._K*self.__N_d__(self._d2)) if self._is_call \\\n",
    "        else (np.exp(-self._r_dom*(self._T-self._t))*self._K*self.__N_d__(-self._d2)- np.exp(-self._r_for*\\\n",
    "        (self._T-self._t))*self._Spot*self.__N_d__(-self._d1))\n",
    "\n",
    "    def get_price(self):\n",
    "        self.__d_values__()\n",
    "        price = self.__price__()\n",
    "        return price\n",
    "\n",
    "    def get_delta(self):\n",
    "        self.__d_values__()\n",
    "        return self.__N_d__(\n",
    "            self._d1) if self._is_call else self.__N_d__(self._d1) - 1\n",
    "\n",
    "    def get_vega(self):\n",
    "        self.__d_values__()\n",
    "        return self._Spot*stats.norm.pdf(self._d1)*np.sqrt(self._T-self._t)*np.exp(-self._r_for*\\\n",
    "        (self._T-self._t))/100\n"
   ]
  },
  {
   "cell_type": "markdown",
   "metadata": {},
   "source": [
    "### Для примера рассмотрим опцион GBP/USD с датой до экспирации через два месяца\n"
   ]
  },
  {
   "cell_type": "code",
   "execution_count": 164,
   "metadata": {},
   "outputs": [],
   "source": [
    "Spot = 1.3140  ## спот-курс\n",
    "K = 1.3150  ## страйк\n",
    "r_dom = 1.88838 / 100  ## ставка USD\n",
    "r_for = 0.78340 / 100  ## ставка GBP\n",
    "sigma = 10.82 / 100  ## волатильность\n",
    "days = 40  ## дней до экспирации\n",
    "T = days / 250  ## дней до экспирации в годах\n"
   ]
  },
  {
   "cell_type": "code",
   "execution_count": 165,
   "metadata": {},
   "outputs": [
    {
     "data": {
      "text/plain": [
       "0.02331293707347004"
      ]
     },
     "execution_count": 165,
     "metadata": {},
     "output_type": "execute_result"
    }
   ],
   "source": [
    "GK(Spot, K, r_dom, r_for, T, sigma).get_price()\n"
   ]
  },
  {
   "cell_type": "code",
   "execution_count": 166,
   "metadata": {},
   "outputs": [
    {
     "data": {
      "text/plain": [
       "0.5179113686550204"
      ]
     },
     "execution_count": 166,
     "metadata": {},
     "output_type": "execute_result"
    }
   ],
   "source": [
    "GK(Spot, K, r_dom, r_for, T, sigma).get_delta()\n"
   ]
  },
  {
   "cell_type": "code",
   "execution_count": 167,
   "metadata": {},
   "outputs": [
    {
     "data": {
      "text/plain": [
       "0.00209210294408488"
      ]
     },
     "execution_count": 167,
     "metadata": {},
     "output_type": "execute_result"
    }
   ],
   "source": [
    "GK(Spot, K, r_dom, r_for, T, sigma).get_vega()\n"
   ]
  },
  {
   "cell_type": "markdown",
   "metadata": {},
   "source": [
    "### Загрузка данных о процентных ставках\n"
   ]
  },
  {
   "cell_type": "code",
   "execution_count": 168,
   "metadata": {},
   "outputs": [],
   "source": [
    "libor_option = pd.read_csv('./ap_data/LIBOR_option.csv')\n"
   ]
  },
  {
   "cell_type": "code",
   "execution_count": 169,
   "metadata": {},
   "outputs": [
    {
     "data": {
      "text/html": [
       "<div>\n",
       "<style scoped>\n",
       "    .dataframe tbody tr th:only-of-type {\n",
       "        vertical-align: middle;\n",
       "    }\n",
       "\n",
       "    .dataframe tbody tr th {\n",
       "        vertical-align: top;\n",
       "    }\n",
       "\n",
       "    .dataframe thead th {\n",
       "        text-align: right;\n",
       "    }\n",
       "</style>\n",
       "<table border=\"1\" class=\"dataframe\">\n",
       "  <thead>\n",
       "    <tr style=\"text-align: right;\">\n",
       "      <th></th>\n",
       "      <th>Term</th>\n",
       "      <th>USD</th>\n",
       "      <th>GBP</th>\n",
       "    </tr>\n",
       "  </thead>\n",
       "  <tbody>\n",
       "    <tr>\n",
       "      <th>0</th>\n",
       "      <td>1 M</td>\n",
       "      <td>1.7151</td>\n",
       "      <td>0.7066</td>\n",
       "    </tr>\n",
       "    <tr>\n",
       "      <th>1</th>\n",
       "      <td>2 M</td>\n",
       "      <td>1.8218</td>\n",
       "      <td>0.7509</td>\n",
       "    </tr>\n",
       "    <tr>\n",
       "      <th>2</th>\n",
       "      <td>3 M</td>\n",
       "      <td>1.8905</td>\n",
       "      <td>0.7821</td>\n",
       "    </tr>\n",
       "    <tr>\n",
       "      <th>3</th>\n",
       "      <td>4 M</td>\n",
       "      <td>1.8892</td>\n",
       "      <td>0.8082</td>\n",
       "    </tr>\n",
       "    <tr>\n",
       "      <th>4</th>\n",
       "      <td>5 M</td>\n",
       "      <td>1.8880</td>\n",
       "      <td>0.8343</td>\n",
       "    </tr>\n",
       "    <tr>\n",
       "      <th>5</th>\n",
       "      <td>6 M</td>\n",
       "      <td>1.8868</td>\n",
       "      <td>0.8604</td>\n",
       "    </tr>\n",
       "    <tr>\n",
       "      <th>6</th>\n",
       "      <td>7 M</td>\n",
       "      <td>1.8928</td>\n",
       "      <td>0.8782</td>\n",
       "    </tr>\n",
       "    <tr>\n",
       "      <th>7</th>\n",
       "      <td>8 M</td>\n",
       "      <td>1.8989</td>\n",
       "      <td>0.8960</td>\n",
       "    </tr>\n",
       "    <tr>\n",
       "      <th>8</th>\n",
       "      <td>9 M</td>\n",
       "      <td>1.9049</td>\n",
       "      <td>0.9138</td>\n",
       "    </tr>\n",
       "    <tr>\n",
       "      <th>9</th>\n",
       "      <td>10 M</td>\n",
       "      <td>1.9110</td>\n",
       "      <td>0.9315</td>\n",
       "    </tr>\n",
       "    <tr>\n",
       "      <th>10</th>\n",
       "      <td>11 M</td>\n",
       "      <td>1.9171</td>\n",
       "      <td>0.9493</td>\n",
       "    </tr>\n",
       "    <tr>\n",
       "      <th>11</th>\n",
       "      <td>12 M</td>\n",
       "      <td>1.9231</td>\n",
       "      <td>0.9671</td>\n",
       "    </tr>\n",
       "  </tbody>\n",
       "</table>\n",
       "</div>"
      ],
      "text/plain": [
       "    Term     USD     GBP\n",
       "0    1 M  1.7151  0.7066\n",
       "1    2 M  1.8218  0.7509\n",
       "2    3 M  1.8905  0.7821\n",
       "3    4 M  1.8892  0.8082\n",
       "4    5 M  1.8880  0.8343\n",
       "5    6 M  1.8868  0.8604\n",
       "6    7 M  1.8928  0.8782\n",
       "7    8 M  1.8989  0.8960\n",
       "8    9 M  1.9049  0.9138\n",
       "9   10 M  1.9110  0.9315\n",
       "10  11 M  1.9171  0.9493\n",
       "11  12 M  1.9231  0.9671"
      ]
     },
     "execution_count": 169,
     "metadata": {},
     "output_type": "execute_result"
    }
   ],
   "source": [
    "libor_option"
   ]
  },
  {
   "cell_type": "code",
   "execution_count": 170,
   "metadata": {},
   "outputs": [
    {
     "data": {
      "text/plain": [
       "Term     object\n",
       "USD     float64\n",
       "GBP     float64\n",
       "dtype: object"
      ]
     },
     "execution_count": 170,
     "metadata": {},
     "output_type": "execute_result"
    }
   ],
   "source": [
    "libor_option.dtypes"
   ]
  },
  {
   "cell_type": "markdown",
   "metadata": {},
   "source": [
    "### Загрузка данных о рынке опционов, сайт www.investing.com\n"
   ]
  },
  {
   "cell_type": "code",
   "execution_count": 171,
   "metadata": {},
   "outputs": [],
   "source": [
    "option = pd.read_csv('./ap_data/GBP_USD_option.csv')\n"
   ]
  },
  {
   "cell_type": "code",
   "execution_count": 172,
   "metadata": {},
   "outputs": [
    {
     "data": {
      "text/html": [
       "<div>\n",
       "<style scoped>\n",
       "    .dataframe tbody tr th:only-of-type {\n",
       "        vertical-align: middle;\n",
       "    }\n",
       "\n",
       "    .dataframe tbody tr th {\n",
       "        vertical-align: top;\n",
       "    }\n",
       "\n",
       "    .dataframe thead th {\n",
       "        text-align: right;\n",
       "    }\n",
       "</style>\n",
       "<table border=\"1\" class=\"dataframe\">\n",
       "  <thead>\n",
       "    <tr style=\"text-align: right;\">\n",
       "      <th></th>\n",
       "      <th>Put_delta</th>\n",
       "      <th>Put</th>\n",
       "      <th>Strikes</th>\n",
       "      <th>Call</th>\n",
       "      <th>Call_delta</th>\n",
       "      <th>Imp_vol</th>\n",
       "      <th>Skew</th>\n",
       "      <th>Vega</th>\n",
       "    </tr>\n",
       "  </thead>\n",
       "  <tbody>\n",
       "    <tr>\n",
       "      <th>0</th>\n",
       "      <td>-0.23</td>\n",
       "      <td>0.00965</td>\n",
       "      <td>1.27</td>\n",
       "      <td>0.05735</td>\n",
       "      <td>0.77</td>\n",
       "      <td>0.1052</td>\n",
       "      <td>0.0148</td>\n",
       "      <td>0.0021</td>\n",
       "    </tr>\n",
       "    <tr>\n",
       "      <th>1</th>\n",
       "      <td>-0.27</td>\n",
       "      <td>0.01160</td>\n",
       "      <td>1.28</td>\n",
       "      <td>0.04933</td>\n",
       "      <td>0.72</td>\n",
       "      <td>0.1021</td>\n",
       "      <td>0.0117</td>\n",
       "      <td>0.0022</td>\n",
       "    </tr>\n",
       "    <tr>\n",
       "      <th>2</th>\n",
       "      <td>-0.32</td>\n",
       "      <td>0.01416</td>\n",
       "      <td>1.29</td>\n",
       "      <td>0.04183</td>\n",
       "      <td>0.68</td>\n",
       "      <td>0.0991</td>\n",
       "      <td>0.0086</td>\n",
       "      <td>0.0024</td>\n",
       "    </tr>\n",
       "    <tr>\n",
       "      <th>3</th>\n",
       "      <td>-0.38</td>\n",
       "      <td>0.01704</td>\n",
       "      <td>1.30</td>\n",
       "      <td>0.03495</td>\n",
       "      <td>0.62</td>\n",
       "      <td>0.0962</td>\n",
       "      <td>0.0058</td>\n",
       "      <td>0.0025</td>\n",
       "    </tr>\n",
       "    <tr>\n",
       "      <th>4</th>\n",
       "      <td>-0.44</td>\n",
       "      <td>0.02064</td>\n",
       "      <td>1.31</td>\n",
       "      <td>0.02859</td>\n",
       "      <td>0.56</td>\n",
       "      <td>0.0936</td>\n",
       "      <td>0.0032</td>\n",
       "      <td>0.0026</td>\n",
       "    </tr>\n",
       "    <tr>\n",
       "      <th>5</th>\n",
       "      <td>-0.50</td>\n",
       "      <td>0.02492</td>\n",
       "      <td>1.32</td>\n",
       "      <td>0.02282</td>\n",
       "      <td>0.49</td>\n",
       "      <td>0.0913</td>\n",
       "      <td>0.0009</td>\n",
       "      <td>0.0026</td>\n",
       "    </tr>\n",
       "    <tr>\n",
       "      <th>6</th>\n",
       "      <td>-0.57</td>\n",
       "      <td>0.03005</td>\n",
       "      <td>1.33</td>\n",
       "      <td>0.01799</td>\n",
       "      <td>0.43</td>\n",
       "      <td>0.0893</td>\n",
       "      <td>-0.0011</td>\n",
       "      <td>0.0026</td>\n",
       "    </tr>\n",
       "    <tr>\n",
       "      <th>7</th>\n",
       "      <td>-0.64</td>\n",
       "      <td>0.03574</td>\n",
       "      <td>1.34</td>\n",
       "      <td>0.01371</td>\n",
       "      <td>0.36</td>\n",
       "      <td>0.0876</td>\n",
       "      <td>-0.0028</td>\n",
       "      <td>0.0024</td>\n",
       "    </tr>\n",
       "    <tr>\n",
       "      <th>8</th>\n",
       "      <td>-0.70</td>\n",
       "      <td>0.04235</td>\n",
       "      <td>1.35</td>\n",
       "      <td>0.01036</td>\n",
       "      <td>0.29</td>\n",
       "      <td>0.0861</td>\n",
       "      <td>-0.0043</td>\n",
       "      <td>0.0022</td>\n",
       "    </tr>\n",
       "    <tr>\n",
       "      <th>9</th>\n",
       "      <td>-0.76</td>\n",
       "      <td>0.04958</td>\n",
       "      <td>1.36</td>\n",
       "      <td>0.00752</td>\n",
       "      <td>0.24</td>\n",
       "      <td>0.0851</td>\n",
       "      <td>-0.0054</td>\n",
       "      <td>0.0021</td>\n",
       "    </tr>\n",
       "  </tbody>\n",
       "</table>\n",
       "</div>"
      ],
      "text/plain": [
       "   Put_delta      Put  Strikes     Call  Call_delta  Imp_vol    Skew    Vega\n",
       "0      -0.23  0.00965     1.27  0.05735        0.77   0.1052  0.0148  0.0021\n",
       "1      -0.27  0.01160     1.28  0.04933        0.72   0.1021  0.0117  0.0022\n",
       "2      -0.32  0.01416     1.29  0.04183        0.68   0.0991  0.0086  0.0024\n",
       "3      -0.38  0.01704     1.30  0.03495        0.62   0.0962  0.0058  0.0025\n",
       "4      -0.44  0.02064     1.31  0.02859        0.56   0.0936  0.0032  0.0026\n",
       "5      -0.50  0.02492     1.32  0.02282        0.49   0.0913  0.0009  0.0026\n",
       "6      -0.57  0.03005     1.33  0.01799        0.43   0.0893 -0.0011  0.0026\n",
       "7      -0.64  0.03574     1.34  0.01371        0.36   0.0876 -0.0028  0.0024\n",
       "8      -0.70  0.04235     1.35  0.01036        0.29   0.0861 -0.0043  0.0022\n",
       "9      -0.76  0.04958     1.36  0.00752        0.24   0.0851 -0.0054  0.0021"
      ]
     },
     "execution_count": 172,
     "metadata": {},
     "output_type": "execute_result"
    }
   ],
   "source": [
    "option"
   ]
  },
  {
   "cell_type": "code",
   "execution_count": 173,
   "metadata": {},
   "outputs": [
    {
     "data": {
      "text/plain": [
       "Put_delta     float64\n",
       "Put           float64\n",
       "Strikes       float64\n",
       "Call          float64\n",
       "Call_delta    float64\n",
       "Imp_vol       float64\n",
       "Skew          float64\n",
       "Vega          float64\n",
       "dtype: object"
      ]
     },
     "execution_count": 173,
     "metadata": {},
     "output_type": "execute_result"
    }
   ],
   "source": [
    "option.dtypes"
   ]
  },
  {
   "cell_type": "markdown",
   "metadata": {},
   "source": [
    "### Моделирование цен и показателей чувствительности опционов для серии страйков\n"
   ]
  },
  {
   "cell_type": "code",
   "execution_count": 174,
   "metadata": {},
   "outputs": [],
   "source": [
    "option_GK = option[['Strikes', 'Imp_vol']]\n"
   ]
  },
  {
   "cell_type": "code",
   "execution_count": 175,
   "metadata": {},
   "outputs": [],
   "source": [
    "Spot = 1.3140\n",
    "days = 60\n",
    "T = days / 250\n"
   ]
  },
  {
   "cell_type": "code",
   "execution_count": 176,
   "metadata": {},
   "outputs": [],
   "source": [
    "option_GK['Call'] = option.apply(lambda row: GK(Spot, row[\n",
    "    'Strikes'], libor_option.iloc[2, 1] / 100, libor_option.iloc[2, 2] / 100,\n",
    "                                                T, row['Imp_vol']).get_price(),\n",
    "                                 axis=1)\n"
   ]
  },
  {
   "cell_type": "code",
   "execution_count": 177,
   "metadata": {},
   "outputs": [],
   "source": [
    "option_GK['Call_delta'] = option.apply(lambda row: GK(\n",
    "    Spot, row['Strikes'], libor_option.iloc[2, 1] / 100, libor_option.iloc[\n",
    "        2, 2] / 100, T, row['Imp_vol']).get_delta(),\n",
    "                                       axis=1)\n"
   ]
  },
  {
   "cell_type": "code",
   "execution_count": 178,
   "metadata": {},
   "outputs": [],
   "source": [
    "option_GK['Put'] = option.apply(lambda row: GK(Spot,\n",
    "                                               row['Strikes'],\n",
    "                                               libor_option.iloc[2, 1] / 100,\n",
    "                                               libor_option.iloc[2, 2] / 100,\n",
    "                                               T,\n",
    "                                               row['Imp_vol'],\n",
    "                                               is_call=False).get_price(),\n",
    "                                axis=1)\n"
   ]
  },
  {
   "cell_type": "code",
   "execution_count": 179,
   "metadata": {},
   "outputs": [],
   "source": [
    "option_GK['Put_delta'] = option.apply(\n",
    "    lambda row: GK(Spot,\n",
    "                   row['Strikes'],\n",
    "                   libor_option.iloc[2, 1] / 100,\n",
    "                   libor_option.iloc[2, 2] / 100,\n",
    "                   T,\n",
    "                   row['Imp_vol'],\n",
    "                   is_call=False).get_delta(),\n",
    "    axis=1)\n"
   ]
  },
  {
   "cell_type": "code",
   "execution_count": 180,
   "metadata": {},
   "outputs": [],
   "source": [
    "option_GK['Vega'] = option.apply(lambda row: GK(Spot,\n",
    "                                                row['Strikes'],\n",
    "                                                libor_option.iloc[2, 1] / 100,\n",
    "                                                libor_option.iloc[2, 2] / 100,\n",
    "                                                T,\n",
    "                                                row['Imp_vol'],\n",
    "                                                is_call=False).get_vega(),\n",
    "                                 axis=1)\n"
   ]
  },
  {
   "cell_type": "code",
   "execution_count": 181,
   "metadata": {},
   "outputs": [
    {
     "data": {
      "text/html": [
       "<div>\n",
       "<style scoped>\n",
       "    .dataframe tbody tr th:only-of-type {\n",
       "        vertical-align: middle;\n",
       "    }\n",
       "\n",
       "    .dataframe tbody tr th {\n",
       "        vertical-align: top;\n",
       "    }\n",
       "\n",
       "    .dataframe thead th {\n",
       "        text-align: right;\n",
       "    }\n",
       "</style>\n",
       "<table border=\"1\" class=\"dataframe\">\n",
       "  <thead>\n",
       "    <tr style=\"text-align: right;\">\n",
       "      <th></th>\n",
       "      <th>Strikes</th>\n",
       "      <th>Imp_vol</th>\n",
       "      <th>Call</th>\n",
       "      <th>Call_delta</th>\n",
       "      <th>Put</th>\n",
       "      <th>Put_delta</th>\n",
       "      <th>Vega</th>\n",
       "    </tr>\n",
       "  </thead>\n",
       "  <tbody>\n",
       "    <tr>\n",
       "      <th>0</th>\n",
       "      <td>1.27</td>\n",
       "      <td>0.1052</td>\n",
       "      <td>0.056567</td>\n",
       "      <td>0.769818</td>\n",
       "      <td>0.009281</td>\n",
       "      <td>-0.230182</td>\n",
       "      <td>0.001952</td>\n",
       "    </tr>\n",
       "    <tr>\n",
       "      <th>1</th>\n",
       "      <td>1.28</td>\n",
       "      <td>0.1021</td>\n",
       "      <td>0.048643</td>\n",
       "      <td>0.726518</td>\n",
       "      <td>0.011313</td>\n",
       "      <td>-0.273482</td>\n",
       "      <td>0.002138</td>\n",
       "    </tr>\n",
       "    <tr>\n",
       "      <th>2</th>\n",
       "      <td>1.29</td>\n",
       "      <td>0.0991</td>\n",
       "      <td>0.041158</td>\n",
       "      <td>0.676797</td>\n",
       "      <td>0.013782</td>\n",
       "      <td>-0.323203</td>\n",
       "      <td>0.002307</td>\n",
       "    </tr>\n",
       "    <tr>\n",
       "      <th>3</th>\n",
       "      <td>1.30</td>\n",
       "      <td>0.0962</td>\n",
       "      <td>0.034182</td>\n",
       "      <td>0.620691</td>\n",
       "      <td>0.016761</td>\n",
       "      <td>-0.379309</td>\n",
       "      <td>0.002445</td>\n",
       "    </tr>\n",
       "    <tr>\n",
       "      <th>4</th>\n",
       "      <td>1.31</td>\n",
       "      <td>0.0936</td>\n",
       "      <td>0.027840</td>\n",
       "      <td>0.558603</td>\n",
       "      <td>0.020374</td>\n",
       "      <td>-0.441397</td>\n",
       "      <td>0.002536</td>\n",
       "    </tr>\n",
       "    <tr>\n",
       "      <th>5</th>\n",
       "      <td>1.32</td>\n",
       "      <td>0.0913</td>\n",
       "      <td>0.022200</td>\n",
       "      <td>0.492014</td>\n",
       "      <td>0.024688</td>\n",
       "      <td>-0.507986</td>\n",
       "      <td>0.002563</td>\n",
       "    </tr>\n",
       "    <tr>\n",
       "      <th>6</th>\n",
       "      <td>1.33</td>\n",
       "      <td>0.0893</td>\n",
       "      <td>0.017309</td>\n",
       "      <td>0.423098</td>\n",
       "      <td>0.029752</td>\n",
       "      <td>-0.576902</td>\n",
       "      <td>0.002516</td>\n",
       "    </tr>\n",
       "    <tr>\n",
       "      <th>7</th>\n",
       "      <td>1.34</td>\n",
       "      <td>0.0876</td>\n",
       "      <td>0.013185</td>\n",
       "      <td>0.354528</td>\n",
       "      <td>0.035583</td>\n",
       "      <td>-0.645472</td>\n",
       "      <td>0.002391</td>\n",
       "    </tr>\n",
       "    <tr>\n",
       "      <th>8</th>\n",
       "      <td>1.35</td>\n",
       "      <td>0.0861</td>\n",
       "      <td>0.009791</td>\n",
       "      <td>0.288889</td>\n",
       "      <td>0.042144</td>\n",
       "      <td>-0.711111</td>\n",
       "      <td>0.002195</td>\n",
       "    </tr>\n",
       "    <tr>\n",
       "      <th>9</th>\n",
       "      <td>1.36</td>\n",
       "      <td>0.0851</td>\n",
       "      <td>0.007142</td>\n",
       "      <td>0.229441</td>\n",
       "      <td>0.049449</td>\n",
       "      <td>-0.770559</td>\n",
       "      <td>0.001948</td>\n",
       "    </tr>\n",
       "  </tbody>\n",
       "</table>\n",
       "</div>"
      ],
      "text/plain": [
       "   Strikes  Imp_vol      Call  Call_delta       Put  Put_delta      Vega\n",
       "0     1.27   0.1052  0.056567    0.769818  0.009281  -0.230182  0.001952\n",
       "1     1.28   0.1021  0.048643    0.726518  0.011313  -0.273482  0.002138\n",
       "2     1.29   0.0991  0.041158    0.676797  0.013782  -0.323203  0.002307\n",
       "3     1.30   0.0962  0.034182    0.620691  0.016761  -0.379309  0.002445\n",
       "4     1.31   0.0936  0.027840    0.558603  0.020374  -0.441397  0.002536\n",
       "5     1.32   0.0913  0.022200    0.492014  0.024688  -0.507986  0.002563\n",
       "6     1.33   0.0893  0.017309    0.423098  0.029752  -0.576902  0.002516\n",
       "7     1.34   0.0876  0.013185    0.354528  0.035583  -0.645472  0.002391\n",
       "8     1.35   0.0861  0.009791    0.288889  0.042144  -0.711111  0.002195\n",
       "9     1.36   0.0851  0.007142    0.229441  0.049449  -0.770559  0.001948"
      ]
     },
     "execution_count": 181,
     "metadata": {},
     "output_type": "execute_result"
    }
   ],
   "source": [
    "option_GK"
   ]
  },
  {
   "cell_type": "markdown",
   "metadata": {},
   "source": [
    "## 6. Стратегия risk-riversal\n"
   ]
  },
  {
   "cell_type": "markdown",
   "metadata": {},
   "source": [
    "### Стратегия состоит в одновременной покупке опциона колл и продаже опциона пут со страйками вне денег\n"
   ]
  },
  {
   "cell_type": "code",
   "execution_count": 182,
   "metadata": {},
   "outputs": [],
   "source": [
    "Strike_call = 1.32\n",
    "Strike_put = 1.28\n"
   ]
  },
  {
   "cell_type": "code",
   "execution_count": 183,
   "metadata": {},
   "outputs": [],
   "source": [
    "risk_reversal_setup=pd.DataFrame(zip(['Call','Put'],[Strike_call,Strike_put],\n",
    "                                     [GK(Spot,Strike_call,libor_option.iloc[2,1]/100,libor_option.iloc[2,2]/100,T,option.iloc[5,5]).get_price(),\\\n",
    "GK(Spot,Strike_put,libor_option.iloc[2,1]/100,libor_option.iloc[2,2]/100,T,option.iloc[5,5]).get_price()],['Buy','Sell']),\\\n",
    "                               columns=['Type','Strike','Price','Buy/Sell'])"
   ]
  },
  {
   "cell_type": "code",
   "execution_count": 184,
   "metadata": {},
   "outputs": [
    {
     "data": {
      "text/html": [
       "<div>\n",
       "<style scoped>\n",
       "    .dataframe tbody tr th:only-of-type {\n",
       "        vertical-align: middle;\n",
       "    }\n",
       "\n",
       "    .dataframe tbody tr th {\n",
       "        vertical-align: top;\n",
       "    }\n",
       "\n",
       "    .dataframe thead th {\n",
       "        text-align: right;\n",
       "    }\n",
       "</style>\n",
       "<table border=\"1\" class=\"dataframe\">\n",
       "  <thead>\n",
       "    <tr style=\"text-align: right;\">\n",
       "      <th></th>\n",
       "      <th>Type</th>\n",
       "      <th>Strike</th>\n",
       "      <th>Price</th>\n",
       "      <th>Buy/Sell</th>\n",
       "    </tr>\n",
       "  </thead>\n",
       "  <tbody>\n",
       "    <tr>\n",
       "      <th>0</th>\n",
       "      <td>Call</td>\n",
       "      <td>1.32</td>\n",
       "      <td>0.022200</td>\n",
       "      <td>Buy</td>\n",
       "    </tr>\n",
       "    <tr>\n",
       "      <th>1</th>\n",
       "      <td>Put</td>\n",
       "      <td>1.28</td>\n",
       "      <td>0.046379</td>\n",
       "      <td>Sell</td>\n",
       "    </tr>\n",
       "  </tbody>\n",
       "</table>\n",
       "</div>"
      ],
      "text/plain": [
       "   Type  Strike     Price Buy/Sell\n",
       "0  Call    1.32  0.022200      Buy\n",
       "1   Put    1.28  0.046379     Sell"
      ]
     },
     "execution_count": 184,
     "metadata": {},
     "output_type": "execute_result"
    }
   ],
   "source": [
    "risk_reversal_setup"
   ]
  },
  {
   "cell_type": "code",
   "execution_count": 185,
   "metadata": {},
   "outputs": [],
   "source": [
    "risk_reversal_result=pd.DataFrame(zip(np.arange(1.20,1.40,.01),np.maximum(np.arange(1.20,1.40,.01)-risk_reversal_setup.iloc[0,1],0)-risk_reversal_setup.iloc[0,2],\\\n",
    "-np.maximum(risk_reversal_setup.iloc[1,1]-(np.arange(1.20,1.40,.01)),0)+risk_reversal_setup.iloc[1,2]),columns=['Spot','Call','Put'])"
   ]
  },
  {
   "cell_type": "code",
   "execution_count": 186,
   "metadata": {},
   "outputs": [],
   "source": [
    "risk_reversal_result[\n",
    "    'Result'] = risk_reversal_result['Call'] + risk_reversal_result['Put']\n"
   ]
  },
  {
   "cell_type": "code",
   "execution_count": 187,
   "metadata": {},
   "outputs": [
    {
     "data": {
      "text/html": [
       "<div>\n",
       "<style scoped>\n",
       "    .dataframe tbody tr th:only-of-type {\n",
       "        vertical-align: middle;\n",
       "    }\n",
       "\n",
       "    .dataframe tbody tr th {\n",
       "        vertical-align: top;\n",
       "    }\n",
       "\n",
       "    .dataframe thead th {\n",
       "        text-align: right;\n",
       "    }\n",
       "</style>\n",
       "<table border=\"1\" class=\"dataframe\">\n",
       "  <thead>\n",
       "    <tr style=\"text-align: right;\">\n",
       "      <th></th>\n",
       "      <th>Spot</th>\n",
       "      <th>Call</th>\n",
       "      <th>Put</th>\n",
       "      <th>Result</th>\n",
       "    </tr>\n",
       "  </thead>\n",
       "  <tbody>\n",
       "    <tr>\n",
       "      <th>0</th>\n",
       "      <td>1.20</td>\n",
       "      <td>-0.0222</td>\n",
       "      <td>-0.033621</td>\n",
       "      <td>-0.055821</td>\n",
       "    </tr>\n",
       "    <tr>\n",
       "      <th>1</th>\n",
       "      <td>1.21</td>\n",
       "      <td>-0.0222</td>\n",
       "      <td>-0.023621</td>\n",
       "      <td>-0.045821</td>\n",
       "    </tr>\n",
       "    <tr>\n",
       "      <th>2</th>\n",
       "      <td>1.22</td>\n",
       "      <td>-0.0222</td>\n",
       "      <td>-0.013621</td>\n",
       "      <td>-0.035821</td>\n",
       "    </tr>\n",
       "    <tr>\n",
       "      <th>3</th>\n",
       "      <td>1.23</td>\n",
       "      <td>-0.0222</td>\n",
       "      <td>-0.003621</td>\n",
       "      <td>-0.025821</td>\n",
       "    </tr>\n",
       "    <tr>\n",
       "      <th>4</th>\n",
       "      <td>1.24</td>\n",
       "      <td>-0.0222</td>\n",
       "      <td>0.006379</td>\n",
       "      <td>-0.015821</td>\n",
       "    </tr>\n",
       "    <tr>\n",
       "      <th>5</th>\n",
       "      <td>1.25</td>\n",
       "      <td>-0.0222</td>\n",
       "      <td>0.016379</td>\n",
       "      <td>-0.005821</td>\n",
       "    </tr>\n",
       "    <tr>\n",
       "      <th>6</th>\n",
       "      <td>1.26</td>\n",
       "      <td>-0.0222</td>\n",
       "      <td>0.026379</td>\n",
       "      <td>0.004179</td>\n",
       "    </tr>\n",
       "    <tr>\n",
       "      <th>7</th>\n",
       "      <td>1.27</td>\n",
       "      <td>-0.0222</td>\n",
       "      <td>0.036379</td>\n",
       "      <td>0.014179</td>\n",
       "    </tr>\n",
       "    <tr>\n",
       "      <th>8</th>\n",
       "      <td>1.28</td>\n",
       "      <td>-0.0222</td>\n",
       "      <td>0.046379</td>\n",
       "      <td>0.024179</td>\n",
       "    </tr>\n",
       "    <tr>\n",
       "      <th>9</th>\n",
       "      <td>1.29</td>\n",
       "      <td>-0.0222</td>\n",
       "      <td>0.046379</td>\n",
       "      <td>0.024179</td>\n",
       "    </tr>\n",
       "    <tr>\n",
       "      <th>10</th>\n",
       "      <td>1.30</td>\n",
       "      <td>-0.0222</td>\n",
       "      <td>0.046379</td>\n",
       "      <td>0.024179</td>\n",
       "    </tr>\n",
       "    <tr>\n",
       "      <th>11</th>\n",
       "      <td>1.31</td>\n",
       "      <td>-0.0222</td>\n",
       "      <td>0.046379</td>\n",
       "      <td>0.024179</td>\n",
       "    </tr>\n",
       "    <tr>\n",
       "      <th>12</th>\n",
       "      <td>1.32</td>\n",
       "      <td>-0.0222</td>\n",
       "      <td>0.046379</td>\n",
       "      <td>0.024179</td>\n",
       "    </tr>\n",
       "    <tr>\n",
       "      <th>13</th>\n",
       "      <td>1.33</td>\n",
       "      <td>-0.0122</td>\n",
       "      <td>0.046379</td>\n",
       "      <td>0.034179</td>\n",
       "    </tr>\n",
       "    <tr>\n",
       "      <th>14</th>\n",
       "      <td>1.34</td>\n",
       "      <td>-0.0022</td>\n",
       "      <td>0.046379</td>\n",
       "      <td>0.044179</td>\n",
       "    </tr>\n",
       "    <tr>\n",
       "      <th>15</th>\n",
       "      <td>1.35</td>\n",
       "      <td>0.0078</td>\n",
       "      <td>0.046379</td>\n",
       "      <td>0.054179</td>\n",
       "    </tr>\n",
       "    <tr>\n",
       "      <th>16</th>\n",
       "      <td>1.36</td>\n",
       "      <td>0.0178</td>\n",
       "      <td>0.046379</td>\n",
       "      <td>0.064179</td>\n",
       "    </tr>\n",
       "    <tr>\n",
       "      <th>17</th>\n",
       "      <td>1.37</td>\n",
       "      <td>0.0278</td>\n",
       "      <td>0.046379</td>\n",
       "      <td>0.074179</td>\n",
       "    </tr>\n",
       "    <tr>\n",
       "      <th>18</th>\n",
       "      <td>1.38</td>\n",
       "      <td>0.0378</td>\n",
       "      <td>0.046379</td>\n",
       "      <td>0.084179</td>\n",
       "    </tr>\n",
       "    <tr>\n",
       "      <th>19</th>\n",
       "      <td>1.39</td>\n",
       "      <td>0.0478</td>\n",
       "      <td>0.046379</td>\n",
       "      <td>0.094179</td>\n",
       "    </tr>\n",
       "  </tbody>\n",
       "</table>\n",
       "</div>"
      ],
      "text/plain": [
       "    Spot    Call       Put    Result\n",
       "0   1.20 -0.0222 -0.033621 -0.055821\n",
       "1   1.21 -0.0222 -0.023621 -0.045821\n",
       "2   1.22 -0.0222 -0.013621 -0.035821\n",
       "3   1.23 -0.0222 -0.003621 -0.025821\n",
       "4   1.24 -0.0222  0.006379 -0.015821\n",
       "5   1.25 -0.0222  0.016379 -0.005821\n",
       "6   1.26 -0.0222  0.026379  0.004179\n",
       "7   1.27 -0.0222  0.036379  0.014179\n",
       "8   1.28 -0.0222  0.046379  0.024179\n",
       "9   1.29 -0.0222  0.046379  0.024179\n",
       "10  1.30 -0.0222  0.046379  0.024179\n",
       "11  1.31 -0.0222  0.046379  0.024179\n",
       "12  1.32 -0.0222  0.046379  0.024179\n",
       "13  1.33 -0.0122  0.046379  0.034179\n",
       "14  1.34 -0.0022  0.046379  0.044179\n",
       "15  1.35  0.0078  0.046379  0.054179\n",
       "16  1.36  0.0178  0.046379  0.064179\n",
       "17  1.37  0.0278  0.046379  0.074179\n",
       "18  1.38  0.0378  0.046379  0.084179\n",
       "19  1.39  0.0478  0.046379  0.094179"
      ]
     },
     "execution_count": 187,
     "metadata": {},
     "output_type": "execute_result"
    }
   ],
   "source": [
    "risk_reversal_result"
   ]
  },
  {
   "cell_type": "code",
   "execution_count": 188,
   "metadata": {},
   "outputs": [
    {
     "data": {
      "image/png": "[encoded data removed]",
      "text/plain": [
       "<Figure size 1000x600 with 1 Axes>"
      ]
     },
     "metadata": {},
     "output_type": "display_data"
    }
   ],
   "source": [
    "fig = plt.figure(figsize=(10, 6))\n",
    "plt.plot(risk_reversal_result.Spot, risk_reversal_result.Result)\n",
    "ax = plt.gca()\n",
    "ax.spines['left'].set_position('center')\n",
    "ax.spines['right'].set_color('none')\n",
    "ax.spines['bottom'].set_position('center')\n",
    "ax.spines['top'].set_color('none')\n",
    "ax.xaxis.set_ticks_position('bottom')\n",
    "ax.yaxis.set_ticks_position('left')\n",
    "ax.yaxis.set_ticks_position('left')\n",
    "_ = plt.title('Risk reversal', fontsize=18)\n"
   ]
  },
  {
   "cell_type": "markdown",
   "metadata": {},
   "source": [
    "## 7.Задание\n"
   ]
  },
  {
   "cell_type": "markdown",
   "metadata": {},
   "source": [
    "### 1. Построить модель процентного свопа, взяв за основу процентные ставки для какой-либо валюты\n",
    "\n",
    "### 2. Построить модель валютного свопа, взяв за основу процентные ставки для двух валюты и валютный курс для выбранной пары\n",
    "\n",
    "### 3. Построить модель валютного опциона, взяв за основу какую-либо валютную пару и сравнить полученные результаты с рыночными данными\n",
    "\n",
    "### 4. Смоделировать стратегию risk-reversal (опционально)\n"
   ]
  },
  {
   "cell_type": "code",
   "execution_count": null,
   "metadata": {},
   "outputs": [],
   "source": []
  }
 ],
 "metadata": {
  "kernelspec": {
   "display_name": "Python 3.10.8 ('venv': venv)",
   "language": "python",
   "name": "python3"
  },
  "language_info": {
   "codemirror_mode": {
    "name": "ipython",
    "version": 3
   },
   "file_extension": ".py",
   "mimetype": "text/x-python",
   "name": "python",
   "nbconvert_exporter": "python",
   "pygments_lexer": "ipython3",
   "version": "3.10.8"
  },
  "vscode": {
   "interpreter": {
    "hash": "58047d06385e4029f2d8729d84d2d4d0057492a2f895b6498307dc24e9eb6975"
   }
  }
 },
 "nbformat": 4,
 "nbformat_minor": 2
}
