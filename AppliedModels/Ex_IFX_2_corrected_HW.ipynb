{
 "cells": [
  {
   "cell_type": "markdown",
   "metadata": {},
   "source": [
    "# Задание 2. Изучение свойств и харктеристик валютных ПФИ и инструментов денежного рынка\n",
    "> выполнил Литвинов А. А., гр. МФИН211"
   ]
  },
  {
   "cell_type": "markdown",
   "metadata": {},
   "source": [
    "## 1. Загрузка библиотек\n"
   ]
  },
  {
   "cell_type": "code",
   "execution_count": 1,
   "metadata": {},
   "outputs": [],
   "source": [
    "import pandas as pd\n",
    "import numpy as np\n",
    "from scipy import stats\n",
    "import matplotlib.pyplot as plt\n",
    "from collections import OrderedDict\n",
    "import matplotlib.pyplot as plt\n",
    "import warnings\n",
    "\n",
    "warnings.filterwarnings('ignore')"
   ]
  },
  {
   "cell_type": "markdown",
   "metadata": {},
   "source": [
    "## 2. Полезные функции\n"
   ]
  },
  {
   "cell_type": "code",
   "execution_count": 2,
   "metadata": {},
   "outputs": [],
   "source": [
    "# создание массива процентных ставок\n",
    "def rates_y(term, s_t, f, start_r, step_r):\n",
    "    end = int(term * f)\n",
    "    rates = [start_r + step_r * i for i in range(0, end)]\n",
    "    return OrderedDict(\n",
    "        zip([i for i in np.arange(s_t, term * f, 1 / freq)], rates))\n",
    "\n",
    "\n",
    "# расчет форвардных курсов\n",
    "def forward_ex_rate(rates_A, rates_B, ex_rate, freq):\n",
    "    n = len(rates_A)\n",
    "    l = []\n",
    "    for key in rates_A:\n",
    "        l.append(ex_rate * (((1 + rates_B[key] / freq) /\n",
    "                             (1 + rates_A[key] / freq))**(key * freq)))\n",
    "    #l.append(ex_rate*(np.exp((rates_B[key]-rates_A[key])*key)))\n",
    "    return OrderedDict(zip(rates_A.keys(), l))\n"
   ]
  },
  {
   "cell_type": "code",
   "execution_count": 3,
   "metadata": {},
   "outputs": [],
   "source": [
    "step_rate = 0.000  ## шаг изменения процентных ставок (везде принимаем равным 0)\n",
    "freq = 2  ##частота выплаты купона и начисления процентов для дисконтирования (везде принимаем равной 0.5, 2 раза в год)\n",
    "start_time = 0.5  ## время первой выплаты в годах (везде принимаем равной 0.5, через 6 месяцев)\n"
   ]
  },
  {
   "cell_type": "markdown",
   "metadata": {},
   "source": [
    "## 3. Interest Rate Swap (Процентный своп)\n"
   ]
  },
  {
   "cell_type": "markdown",
   "metadata": {},
   "source": [
    "Класс, содержащий методы для моделирования свопа:\n"
   ]
  },
  {
   "cell_type": "code",
   "execution_count": 4,
   "metadata": {},
   "outputs": [],
   "source": [
    "class Swap:\n",
    "\n",
    "    def __init__(self, nominal, m, rates):  # инициализация нового свопа\n",
    "        self._rates = rates\n",
    "        self._term = list(rates.keys())[len(rates) - 1]\n",
    "        self._nominal = nominal\n",
    "        self._m = m  # частота выплат\n",
    "        self._new = True\n",
    "\n",
    "    def __discount__(self):  # расчет ставок дисконтирования\n",
    "        l = []\n",
    "        for key in self._rates:\n",
    "            l.append(1 / (1 + self._rates[key] / self._m)**(self._m * key))\n",
    "        self._DF = OrderedDict(zip(self._rates.keys(), l))\n",
    "\n",
    "    def __coupon_rate__(\n",
    "            self):  # расчет фиксированной ставки (купона облигации)\n",
    "        self.__discount__()\n",
    "        c = (self._nominal - self._nominal * self._DF[self._term]) / sum(\n",
    "            self._DF.values())\n",
    "        self._coupon = OrderedDict(\n",
    "            zip(self._DF.keys(), np.repeat(c, len(self._DF))))\n",
    "        self._new = False\n",
    "\n",
    "    def __bond_value__(self, c):  # расчет цены облигации\n",
    "        self.__discount__()\n",
    "        self._bond = (self._nominal * self._DF[self._term] +\n",
    "                      (sum([c[key] * self._DF[key] for key in self._DF])))\n",
    "\n",
    "    def __float_leg__(self):  # расчет стоимости плавающей части\n",
    "        self.__discount__()\n",
    "        self._Float = (self._nominal + self._nominal *\n",
    "                       list(list(self._rates.values()))[0] / self._m) * list(\n",
    "                           self._DF.values())[0]\n",
    "\n",
    "    def __forward_rates__(self):  # расчет форвардных ставок\n",
    "        n = len(self._rates)\n",
    "        l = []\n",
    "        l.append(list(self._rates.values())[0])\n",
    "        for i in range(1, n):\n",
    "            l.append((\n",
    "                (1 +\n",
    "                 list(self._rates.values())[i])**list(self._rates.keys())[i] /\n",
    "                (1 + list(self._rates.values())[i - 1])**list(self._rates.keys(\n",
    "                ))[i - 1])**(1 / (list(self._rates.keys())[i] -\n",
    "                                  list(self._rates.keys())[i - 1])) - 1)\n",
    "        self._forward = OrderedDict(zip(self._rates.keys(), l))\n",
    "\n",
    "    def __fix_leg__(self):  # расчет стоимости фиксированной части\n",
    "        if self._new == True:\n",
    "            self.__coupon_rate__()\n",
    "        self.__bond_value__(self._coupon)\n",
    "        self._Fix = self._bond\n",
    "\n",
    "    def get_fix_leg(self):  # получить стоимости фиксированной части\n",
    "        self.__fix_leg__()\n",
    "        return self._Fix\n",
    "\n",
    "    def get_float_leg(self):  # получить стоимости плавающей части\n",
    "        self.__float_leg__()\n",
    "        return self._Float\n",
    "\n",
    "    def get_fix_rate(self):  # получить фиксированную ставку\n",
    "        if self._new == True:\n",
    "            self.__coupon_rate__()\n",
    "        return self._coupon\n",
    "\n",
    "    def get_swap_value(self):  # получить стоимости свопа\n",
    "        self.__fix_leg__()\n",
    "        self.__float_leg__()\n",
    "        return np.round(self._Float - self._Fix, 4)\n",
    "\n",
    "    def get_forward_rates(self):  # получить форвардные ставки\n",
    "        self.__forward_rates__()\n",
    "        return self._forward\n",
    "\n",
    "    def get_float_check(\n",
    "            self\n",
    "    ):  # проверка стоимости плавающей части через форвардные ставки\n",
    "        self.__forward_rates__()\n",
    "        for key in self._forward:\n",
    "            self._forward[key] = 100 * self._forward[key] / self._m\n",
    "        self.__bond_value__(self._forward)\n",
    "        return self._bond\n",
    "\n",
    "    def set_rates(self, rates):  # ввод ставок для действующего свопа\n",
    "        #self._rates=rates\n",
    "        self._term = list(rates.keys())[len(rates) - 1]\n",
    "        self._rates = rates\n",
    "\n",
    "    def get_term(self):  # получить величину срока свопа\n",
    "        return self._term\n"
   ]
  },
  {
   "cell_type": "markdown",
   "metadata": {},
   "source": [
    "### Заключение своп-соглашения\n"
   ]
  },
  {
   "cell_type": "code",
   "execution_count": 5,
   "metadata": {},
   "outputs": [],
   "source": [
    "T = 4  ## срок действия договора\n",
    "start_rate = 4.93086 / 100  ## начальная ставка для массива процентных ставок \"USD LIBOR - 6 months\"\n",
    "N = 100  ## номинал контракта\n"
   ]
  },
  {
   "cell_type": "code",
   "execution_count": 6,
   "metadata": {},
   "outputs": [],
   "source": [
    "disc_rates_y = rates_y(T, start_time, freq, start_rate,\n",
    "                       step_rate)  ## создание массива процентных ставок\n"
   ]
  },
  {
   "cell_type": "code",
   "execution_count": 7,
   "metadata": {},
   "outputs": [
    {
     "data": {
      "text/plain": [
       "OrderedDict([(0.5, 0.0493086),\n",
       "             (1.0, 0.0493086),\n",
       "             (1.5, 0.0493086),\n",
       "             (2.0, 0.0493086),\n",
       "             (2.5, 0.0493086),\n",
       "             (3.0, 0.0493086),\n",
       "             (3.5, 0.0493086),\n",
       "             (4.0, 0.0493086)])"
      ]
     },
     "execution_count": 7,
     "metadata": {},
     "output_type": "execute_result"
    }
   ],
   "source": [
    "disc_rates_y"
   ]
  },
  {
   "cell_type": "code",
   "execution_count": 8,
   "metadata": {},
   "outputs": [
    {
     "data": {
      "text/plain": [
       "8"
      ]
     },
     "execution_count": 8,
     "metadata": {},
     "output_type": "execute_result"
    }
   ],
   "source": [
    "len(disc_rates_y)"
   ]
  },
  {
   "cell_type": "code",
   "execution_count": 9,
   "metadata": {},
   "outputs": [
    {
     "data": {
      "text/plain": [
       "[0.5, 1.0, 1.5, 2.0, 2.5, 3.0, 3.5, 4.0]"
      ]
     },
     "execution_count": 9,
     "metadata": {},
     "output_type": "execute_result"
    }
   ],
   "source": [
    "list(disc_rates_y.keys())"
   ]
  },
  {
   "cell_type": "code",
   "execution_count": 10,
   "metadata": {},
   "outputs": [],
   "source": [
    "swap = Swap(N, freq, disc_rates_y)  ## создание свопа\n"
   ]
  },
  {
   "cell_type": "code",
   "execution_count": 11,
   "metadata": {},
   "outputs": [
    {
     "data": {
      "text/plain": [
       "100.0"
      ]
     },
     "execution_count": 11,
     "metadata": {},
     "output_type": "execute_result"
    }
   ],
   "source": [
    "swap.get_fix_leg()  ## приведенная стоимость фиксированной части\n"
   ]
  },
  {
   "cell_type": "code",
   "execution_count": 12,
   "metadata": {},
   "outputs": [
    {
     "data": {
      "text/plain": [
       "100.0"
      ]
     },
     "execution_count": 12,
     "metadata": {},
     "output_type": "execute_result"
    }
   ],
   "source": [
    "swap.get_float_leg()  ## приведенная стоимость плавающей части\n"
   ]
  },
  {
   "cell_type": "code",
   "execution_count": 13,
   "metadata": {},
   "outputs": [
    {
     "data": {
      "text/plain": [
       "OrderedDict([(0.5, 0.0493086),\n",
       "             (1.0, 0.049308600000000036),\n",
       "             (1.5, 0.049308600000000036),\n",
       "             (2.0, 0.049308600000000036),\n",
       "             (2.5, 0.049308600000000036),\n",
       "             (3.0, 0.04930859999999959),\n",
       "             (3.5, 0.04930860000000048),\n",
       "             (4.0, 0.049308600000000036)])"
      ]
     },
     "execution_count": 13,
     "metadata": {},
     "output_type": "execute_result"
    }
   ],
   "source": [
    "swap.get_forward_rates()  ## расчет форвардных ставок\n"
   ]
  },
  {
   "cell_type": "code",
   "execution_count": 14,
   "metadata": {},
   "outputs": [
    {
     "data": {
      "text/plain": [
       "4.0"
      ]
     },
     "execution_count": 14,
     "metadata": {},
     "output_type": "execute_result"
    }
   ],
   "source": [
    "swap.get_term()"
   ]
  },
  {
   "cell_type": "code",
   "execution_count": 15,
   "metadata": {},
   "outputs": [
    {
     "data": {
      "text/plain": [
       "OrderedDict([(0.5, 2.465429999999991),\n",
       "             (1.0, 2.465429999999991),\n",
       "             (1.5, 2.465429999999991),\n",
       "             (2.0, 2.465429999999991),\n",
       "             (2.5, 2.465429999999991),\n",
       "             (3.0, 2.465429999999991),\n",
       "             (3.5, 2.465429999999991),\n",
       "             (4.0, 2.465429999999991)])"
      ]
     },
     "execution_count": 15,
     "metadata": {},
     "output_type": "execute_result"
    }
   ],
   "source": [
    "swap.get_fix_rate()  ## фиксированная ставка свопа с учетом процентного периода\n"
   ]
  },
  {
   "cell_type": "code",
   "execution_count": 16,
   "metadata": {},
   "outputs": [
    {
     "data": {
      "text/plain": [
       "4.93"
      ]
     },
     "execution_count": 16,
     "metadata": {},
     "output_type": "execute_result"
    }
   ],
   "source": [
    "round(list(swap.get_fix_rate().values())[0] * freq,\n",
    "      2)  ## фиксированная ставка свопа в годовом выражении\n"
   ]
  },
  {
   "cell_type": "markdown",
   "metadata": {},
   "source": [
    "Для данного примера фиксированная ставка свопа соответствует рыночной ставке (ytm), т.к. структура ставок плоская, а фиксированная часть свопа соответствует облигации, имеющей номинальную стоимость\n"
   ]
  },
  {
   "cell_type": "code",
   "execution_count": 17,
   "metadata": {},
   "outputs": [
    {
     "data": {
      "text/plain": [
       "0.0"
      ]
     },
     "execution_count": 17,
     "metadata": {},
     "output_type": "execute_result"
    }
   ],
   "source": [
    "swap.get_swap_value()  ## текущая стоимость свопа\n"
   ]
  },
  {
   "cell_type": "code",
   "execution_count": 18,
   "metadata": {},
   "outputs": [
    {
     "data": {
      "text/plain": [
       "100.00000000000009"
      ]
     },
     "execution_count": 18,
     "metadata": {},
     "output_type": "execute_result"
    }
   ],
   "source": [
    "swap.get_float_check()"
   ]
  },
  {
   "cell_type": "markdown",
   "metadata": {},
   "source": [
    "### Моделирование будущих денежных потоков по свопу\n"
   ]
  },
  {
   "cell_type": "markdown",
   "metadata": {},
   "source": [
    "Будущие процентные ставки будем определять с помощью случайных чисел\n"
   ]
  },
  {
   "cell_type": "code",
   "execution_count": 19,
   "metadata": {},
   "outputs": [
    {
     "data": {
      "text/plain": [
       "8"
      ]
     },
     "execution_count": 19,
     "metadata": {},
     "output_type": "execute_result"
    }
   ],
   "source": [
    "T * freq  ## количестов процентных периодов\n"
   ]
  },
  {
   "cell_type": "code",
   "execution_count": 20,
   "metadata": {},
   "outputs": [],
   "source": [
    "random = np.random.uniform(\n",
    "    list(swap.get_fix_rate().values())[0] - 0.05,\n",
    "    list(swap.get_fix_rate().values())[0] + 0.05, int(T * freq))\n"
   ]
  },
  {
   "cell_type": "code",
   "execution_count": 21,
   "metadata": {},
   "outputs": [
    {
     "data": {
      "text/plain": [
       "array([2.42349045, 2.479717  , 2.42315968, 2.43265854, 2.49243421,\n",
       "       2.45234751, 2.48931922, 2.41938225])"
      ]
     },
     "execution_count": 21,
     "metadata": {},
     "output_type": "execute_result"
    }
   ],
   "source": [
    "random"
   ]
  },
  {
   "cell_type": "code",
   "execution_count": 22,
   "metadata": {},
   "outputs": [
    {
     "data": {
      "text/html": [
       "<div>\n",
       "<style scoped>\n",
       "    .dataframe tbody tr th:only-of-type {\n",
       "        vertical-align: middle;\n",
       "    }\n",
       "\n",
       "    .dataframe tbody tr th {\n",
       "        vertical-align: top;\n",
       "    }\n",
       "\n",
       "    .dataframe thead th {\n",
       "        text-align: right;\n",
       "    }\n",
       "</style>\n",
       "<table border=\"1\" class=\"dataframe\">\n",
       "  <thead>\n",
       "    <tr style=\"text-align: right;\">\n",
       "      <th></th>\n",
       "      <th>Fix_leg</th>\n",
       "      <th>Float_leg</th>\n",
       "    </tr>\n",
       "  </thead>\n",
       "  <tbody>\n",
       "    <tr>\n",
       "      <th>0</th>\n",
       "      <td>2.46543</td>\n",
       "      <td>2.423490</td>\n",
       "    </tr>\n",
       "    <tr>\n",
       "      <th>1</th>\n",
       "      <td>2.46543</td>\n",
       "      <td>2.479717</td>\n",
       "    </tr>\n",
       "    <tr>\n",
       "      <th>2</th>\n",
       "      <td>2.46543</td>\n",
       "      <td>2.423160</td>\n",
       "    </tr>\n",
       "    <tr>\n",
       "      <th>3</th>\n",
       "      <td>2.46543</td>\n",
       "      <td>2.432659</td>\n",
       "    </tr>\n",
       "    <tr>\n",
       "      <th>4</th>\n",
       "      <td>2.46543</td>\n",
       "      <td>2.492434</td>\n",
       "    </tr>\n",
       "    <tr>\n",
       "      <th>5</th>\n",
       "      <td>2.46543</td>\n",
       "      <td>2.452348</td>\n",
       "    </tr>\n",
       "    <tr>\n",
       "      <th>6</th>\n",
       "      <td>2.46543</td>\n",
       "      <td>2.489319</td>\n",
       "    </tr>\n",
       "    <tr>\n",
       "      <th>7</th>\n",
       "      <td>2.46543</td>\n",
       "      <td>2.419382</td>\n",
       "    </tr>\n",
       "  </tbody>\n",
       "</table>\n",
       "</div>"
      ],
      "text/plain": [
       "   Fix_leg  Float_leg\n",
       "0  2.46543   2.423490\n",
       "1  2.46543   2.479717\n",
       "2  2.46543   2.423160\n",
       "3  2.46543   2.432659\n",
       "4  2.46543   2.492434\n",
       "5  2.46543   2.452348\n",
       "6  2.46543   2.489319\n",
       "7  2.46543   2.419382"
      ]
     },
     "execution_count": 22,
     "metadata": {},
     "output_type": "execute_result"
    }
   ],
   "source": [
    "swap_df = pd.DataFrame({\n",
    "    'Fix_leg': list(swap.get_fix_rate().values()),\n",
    "    'Float_leg': random\n",
    "})\n",
    "\n",
    "swap_df"
   ]
  },
  {
   "cell_type": "code",
   "execution_count": 23,
   "metadata": {},
   "outputs": [
    {
     "data": {
      "text/html": [
       "<div>\n",
       "<style scoped>\n",
       "    .dataframe tbody tr th:only-of-type {\n",
       "        vertical-align: middle;\n",
       "    }\n",
       "\n",
       "    .dataframe tbody tr th {\n",
       "        vertical-align: top;\n",
       "    }\n",
       "\n",
       "    .dataframe thead th {\n",
       "        text-align: right;\n",
       "    }\n",
       "</style>\n",
       "<table border=\"1\" class=\"dataframe\">\n",
       "  <thead>\n",
       "    <tr style=\"text-align: right;\">\n",
       "      <th></th>\n",
       "      <th>Fix_leg</th>\n",
       "      <th>Float_leg</th>\n",
       "      <th>Difference</th>\n",
       "    </tr>\n",
       "  </thead>\n",
       "  <tbody>\n",
       "    <tr>\n",
       "      <th>0</th>\n",
       "      <td>2.46543</td>\n",
       "      <td>2.423490</td>\n",
       "      <td>-0.041940</td>\n",
       "    </tr>\n",
       "    <tr>\n",
       "      <th>1</th>\n",
       "      <td>2.46543</td>\n",
       "      <td>2.479717</td>\n",
       "      <td>0.014287</td>\n",
       "    </tr>\n",
       "    <tr>\n",
       "      <th>2</th>\n",
       "      <td>2.46543</td>\n",
       "      <td>2.423160</td>\n",
       "      <td>-0.042270</td>\n",
       "    </tr>\n",
       "    <tr>\n",
       "      <th>3</th>\n",
       "      <td>2.46543</td>\n",
       "      <td>2.432659</td>\n",
       "      <td>-0.032771</td>\n",
       "    </tr>\n",
       "    <tr>\n",
       "      <th>4</th>\n",
       "      <td>2.46543</td>\n",
       "      <td>2.492434</td>\n",
       "      <td>0.027004</td>\n",
       "    </tr>\n",
       "    <tr>\n",
       "      <th>5</th>\n",
       "      <td>2.46543</td>\n",
       "      <td>2.452348</td>\n",
       "      <td>-0.013082</td>\n",
       "    </tr>\n",
       "    <tr>\n",
       "      <th>6</th>\n",
       "      <td>2.46543</td>\n",
       "      <td>2.489319</td>\n",
       "      <td>0.023889</td>\n",
       "    </tr>\n",
       "    <tr>\n",
       "      <th>7</th>\n",
       "      <td>2.46543</td>\n",
       "      <td>2.419382</td>\n",
       "      <td>-0.046048</td>\n",
       "    </tr>\n",
       "  </tbody>\n",
       "</table>\n",
       "</div>"
      ],
      "text/plain": [
       "   Fix_leg  Float_leg  Difference\n",
       "0  2.46543   2.423490   -0.041940\n",
       "1  2.46543   2.479717    0.014287\n",
       "2  2.46543   2.423160   -0.042270\n",
       "3  2.46543   2.432659   -0.032771\n",
       "4  2.46543   2.492434    0.027004\n",
       "5  2.46543   2.452348   -0.013082\n",
       "6  2.46543   2.489319    0.023889\n",
       "7  2.46543   2.419382   -0.046048"
      ]
     },
     "execution_count": 23,
     "metadata": {},
     "output_type": "execute_result"
    }
   ],
   "source": [
    "swap_df['Difference'] = swap_df['Float_leg'] - swap_df['Fix_leg']\n",
    "swap_df\n"
   ]
  },
  {
   "cell_type": "code",
   "execution_count": 24,
   "metadata": {},
   "outputs": [],
   "source": [
    "swap_df.index = swap.get_fix_rate().keys()\n"
   ]
  },
  {
   "cell_type": "code",
   "execution_count": 25,
   "metadata": {},
   "outputs": [
    {
     "data": {
      "image/png": "[encoded data removed]",
      "text/plain": [
       "<Figure size 1000x500 with 1 Axes>"
      ]
     },
     "metadata": {},
     "output_type": "display_data"
    }
   ],
   "source": [
    "plt.figure(figsize=(10, 5))\n",
    "plt.plot(swap_df.index, swap_df.Float_leg, label='Float leg')\n",
    "plt.plot(swap_df.index, swap_df.Fix_leg, label='Fix leg')\n",
    "plt.legend()\n",
    "plt.grid()\n",
    "plt.show()"
   ]
  },
  {
   "cell_type": "markdown",
   "metadata": {},
   "source": [
    "### Переоценка свопа - ставки упали\n"
   ]
  },
  {
   "cell_type": "code",
   "execution_count": 26,
   "metadata": {},
   "outputs": [],
   "source": [
    "T = 2  ## новый срок до истечения контракта\n",
    "start_rate = 4.43957 / 100\n"
   ]
  },
  {
   "cell_type": "code",
   "execution_count": 27,
   "metadata": {},
   "outputs": [
    {
     "data": {
      "text/plain": [
       "OrderedDict([(0.5, 0.044395699999999996),\n",
       "             (1.0, 0.044395699999999996),\n",
       "             (1.5, 0.044395699999999996),\n",
       "             (2.0, 0.044395699999999996)])"
      ]
     },
     "execution_count": 27,
     "metadata": {},
     "output_type": "execute_result"
    }
   ],
   "source": [
    "disc_rates_y = rates_y(T, start_time, freq, start_rate, step_rate)\n",
    "disc_rates_y"
   ]
  },
  {
   "cell_type": "code",
   "execution_count": 28,
   "metadata": {},
   "outputs": [],
   "source": [
    "swap.set_rates(disc_rates_y)"
   ]
  },
  {
   "cell_type": "code",
   "execution_count": 29,
   "metadata": {},
   "outputs": [
    {
     "data": {
      "text/plain": [
       "OrderedDict([(0.5, 2.465429999999991),\n",
       "             (1.0, 2.465429999999991),\n",
       "             (1.5, 2.465429999999991),\n",
       "             (2.0, 2.465429999999991),\n",
       "             (2.5, 2.465429999999991),\n",
       "             (3.0, 2.465429999999991),\n",
       "             (3.5, 2.465429999999991),\n",
       "             (4.0, 2.465429999999991)])"
      ]
     },
     "execution_count": 29,
     "metadata": {},
     "output_type": "execute_result"
    }
   ],
   "source": [
    "swap.get_fix_rate()"
   ]
  },
  {
   "cell_type": "code",
   "execution_count": 30,
   "metadata": {},
   "outputs": [
    {
     "data": {
      "text/plain": [
       "100.93038208904727"
      ]
     },
     "execution_count": 30,
     "metadata": {},
     "output_type": "execute_result"
    }
   ],
   "source": [
    "swap.get_fix_leg()"
   ]
  },
  {
   "cell_type": "code",
   "execution_count": 31,
   "metadata": {},
   "outputs": [
    {
     "data": {
      "text/plain": [
       "100.0"
      ]
     },
     "execution_count": 31,
     "metadata": {},
     "output_type": "execute_result"
    }
   ],
   "source": [
    "swap.get_float_leg()"
   ]
  },
  {
   "cell_type": "code",
   "execution_count": 32,
   "metadata": {},
   "outputs": [
    {
     "data": {
      "text/plain": [
       "-0.9304"
      ]
     },
     "execution_count": 32,
     "metadata": {},
     "output_type": "execute_result"
    }
   ],
   "source": [
    "swap.get_swap_value()"
   ]
  },
  {
   "cell_type": "code",
   "execution_count": 33,
   "metadata": {},
   "outputs": [
    {
     "data": {
      "text/plain": [
       "OrderedDict([(0.5, 0.044395699999999996),\n",
       "             (1.0, 0.04439569999999993),\n",
       "             (1.5, 0.04439569999999993),\n",
       "             (2.0, 0.04439569999999993)])"
      ]
     },
     "execution_count": 33,
     "metadata": {},
     "output_type": "execute_result"
    }
   ],
   "source": [
    "swap.get_forward_rates()"
   ]
  },
  {
   "cell_type": "code",
   "execution_count": 34,
   "metadata": {},
   "outputs": [
    {
     "data": {
      "text/plain": [
       "100.0"
      ]
     },
     "execution_count": 34,
     "metadata": {},
     "output_type": "execute_result"
    }
   ],
   "source": [
    "swap.get_float_check()"
   ]
  },
  {
   "cell_type": "markdown",
   "metadata": {},
   "source": [
    "### Переоценка свопа - ставки выросли\n"
   ]
  },
  {
   "cell_type": "code",
   "execution_count": 35,
   "metadata": {},
   "outputs": [],
   "source": [
    "T = 1.5  ## новый срок до истечения контракта\n",
    "start_rate = 5.36900 / 100\n"
   ]
  },
  {
   "cell_type": "code",
   "execution_count": 36,
   "metadata": {},
   "outputs": [
    {
     "data": {
      "text/plain": [
       "OrderedDict([(0.5, 0.053689999999999995),\n",
       "             (1.0, 0.053689999999999995),\n",
       "             (1.5, 0.053689999999999995)])"
      ]
     },
     "execution_count": 36,
     "metadata": {},
     "output_type": "execute_result"
    }
   ],
   "source": [
    "disc_rates_y = rates_y(T, start_time, freq, start_rate, step_rate)\n",
    "disc_rates_y"
   ]
  },
  {
   "cell_type": "code",
   "execution_count": 37,
   "metadata": {},
   "outputs": [],
   "source": [
    "swap.set_rates(disc_rates_y)"
   ]
  },
  {
   "cell_type": "code",
   "execution_count": 38,
   "metadata": {},
   "outputs": [
    {
     "data": {
      "text/plain": [
       "OrderedDict([(0.5, 2.465429999999991),\n",
       "             (1.0, 2.465429999999991),\n",
       "             (1.5, 2.465429999999991),\n",
       "             (2.0, 2.465429999999991),\n",
       "             (2.5, 2.465429999999991),\n",
       "             (3.0, 2.465429999999991),\n",
       "             (3.5, 2.465429999999991),\n",
       "             (4.0, 2.465429999999991)])"
      ]
     },
     "execution_count": 38,
     "metadata": {},
     "output_type": "execute_result"
    }
   ],
   "source": [
    "swap.get_fix_rate()"
   ]
  },
  {
   "cell_type": "code",
   "execution_count": 39,
   "metadata": {},
   "outputs": [
    {
     "data": {
      "text/plain": [
       "99.37655813335441"
      ]
     },
     "execution_count": 39,
     "metadata": {},
     "output_type": "execute_result"
    }
   ],
   "source": [
    "swap.get_fix_leg()"
   ]
  },
  {
   "cell_type": "code",
   "execution_count": 40,
   "metadata": {},
   "outputs": [
    {
     "data": {
      "text/plain": [
       "100.0"
      ]
     },
     "execution_count": 40,
     "metadata": {},
     "output_type": "execute_result"
    }
   ],
   "source": [
    "swap.get_float_leg()"
   ]
  },
  {
   "cell_type": "code",
   "execution_count": 41,
   "metadata": {},
   "outputs": [
    {
     "data": {
      "text/plain": [
       "0.6234"
      ]
     },
     "execution_count": 41,
     "metadata": {},
     "output_type": "execute_result"
    }
   ],
   "source": [
    "swap.get_swap_value()"
   ]
  },
  {
   "cell_type": "code",
   "execution_count": 42,
   "metadata": {},
   "outputs": [
    {
     "data": {
      "text/plain": [
       "OrderedDict([(0.5, 0.053689999999999995),\n",
       "             (1.0, 0.05368999999999979),\n",
       "             (1.5, 0.05368999999999979)])"
      ]
     },
     "execution_count": 42,
     "metadata": {},
     "output_type": "execute_result"
    }
   ],
   "source": [
    "swap.get_forward_rates()"
   ]
  },
  {
   "cell_type": "code",
   "execution_count": 43,
   "metadata": {},
   "outputs": [
    {
     "data": {
      "text/plain": [
       "99.99999999999999"
      ]
     },
     "execution_count": 43,
     "metadata": {},
     "output_type": "execute_result"
    }
   ],
   "source": [
    "swap.get_float_check()"
   ]
  },
  {
   "cell_type": "markdown",
   "metadata": {},
   "source": [
    "## 4. Currency swap (Валютный своп)\n"
   ]
  },
  {
   "cell_type": "markdown",
   "metadata": {},
   "source": [
    "### Заключение своп-соглашения USD/JPY\n"
   ]
  },
  {
   "cell_type": "code",
   "execution_count": 44,
   "metadata": {},
   "outputs": [],
   "source": [
    "T = 5  #срок\n"
   ]
  },
  {
   "cell_type": "code",
   "execution_count": 45,
   "metadata": {},
   "outputs": [],
   "source": [
    "Ex_rate = 147.46  # обменный курс\n"
   ]
  },
  {
   "cell_type": "markdown",
   "metadata": {},
   "source": [
    "### Валюта A\n",
    "$USD$\n"
   ]
  },
  {
   "cell_type": "code",
   "execution_count": 46,
   "metadata": {},
   "outputs": [],
   "source": [
    "N_A = 100\n",
    "start_rate_A = 4.93086 / 100\n"
   ]
  },
  {
   "cell_type": "code",
   "execution_count": 47,
   "metadata": {},
   "outputs": [],
   "source": [
    "disc_rates_A = rates_y(T, start_time, freq, start_rate_A, step_rate)\n"
   ]
  },
  {
   "cell_type": "code",
   "execution_count": 48,
   "metadata": {},
   "outputs": [],
   "source": [
    "swap_A = Swap(N_A, freq, disc_rates_A)\n"
   ]
  },
  {
   "cell_type": "code",
   "execution_count": 49,
   "metadata": {},
   "outputs": [
    {
     "data": {
      "text/plain": [
       "OrderedDict([(0.5, 2.4654299999999902),\n",
       "             (1.0, 2.4654299999999902),\n",
       "             (1.5, 2.4654299999999902),\n",
       "             (2.0, 2.4654299999999902),\n",
       "             (2.5, 2.4654299999999902),\n",
       "             (3.0, 2.4654299999999902),\n",
       "             (3.5, 2.4654299999999902),\n",
       "             (4.0, 2.4654299999999902),\n",
       "             (4.5, 2.4654299999999902),\n",
       "             (5.0, 2.4654299999999902)])"
      ]
     },
     "execution_count": 49,
     "metadata": {},
     "output_type": "execute_result"
    }
   ],
   "source": [
    "swap_A.get_fix_rate()  ## купон\n"
   ]
  },
  {
   "cell_type": "code",
   "execution_count": 50,
   "metadata": {},
   "outputs": [
    {
     "data": {
      "text/plain": [
       "100.0"
      ]
     },
     "execution_count": 50,
     "metadata": {},
     "output_type": "execute_result"
    }
   ],
   "source": [
    "swap_A.get_fix_leg()"
   ]
  },
  {
   "cell_type": "markdown",
   "metadata": {},
   "source": [
    "### Валюта B\n",
    "$JPY$"
   ]
  },
  {
   "cell_type": "code",
   "execution_count": 51,
   "metadata": {},
   "outputs": [],
   "source": [
    "N_B = N_A * Ex_rate\n",
    "start_rate_B = 0.03836 / 100\n"
   ]
  },
  {
   "cell_type": "code",
   "execution_count": 52,
   "metadata": {},
   "outputs": [],
   "source": [
    "disc_rates_B = rates_y(T, start_time, freq, start_rate_B, step_rate)\n"
   ]
  },
  {
   "cell_type": "code",
   "execution_count": 53,
   "metadata": {},
   "outputs": [],
   "source": [
    "swap_B = Swap(N_B, freq, disc_rates_B)\n"
   ]
  },
  {
   "cell_type": "code",
   "execution_count": 54,
   "metadata": {},
   "outputs": [
    {
     "data": {
      "text/plain": [
       "OrderedDict([(0.5, 2.8282828000011495),\n",
       "             (1.0, 2.8282828000011495),\n",
       "             (1.5, 2.8282828000011495),\n",
       "             (2.0, 2.8282828000011495),\n",
       "             (2.5, 2.8282828000011495),\n",
       "             (3.0, 2.8282828000011495),\n",
       "             (3.5, 2.8282828000011495),\n",
       "             (4.0, 2.8282828000011495),\n",
       "             (4.5, 2.8282828000011495),\n",
       "             (5.0, 2.8282828000011495)])"
      ]
     },
     "execution_count": 54,
     "metadata": {},
     "output_type": "execute_result"
    }
   ],
   "source": [
    "swap_B.get_fix_rate()  ## ставка свопа\n"
   ]
  },
  {
   "cell_type": "code",
   "execution_count": 55,
   "metadata": {},
   "outputs": [
    {
     "data": {
      "text/plain": [
       "14746.0"
      ]
     },
     "execution_count": 55,
     "metadata": {},
     "output_type": "execute_result"
    }
   ],
   "source": [
    "swap_B.get_fix_leg()"
   ]
  },
  {
   "cell_type": "markdown",
   "metadata": {},
   "source": [
    "### Оценка свопа через форвардные курсы\n"
   ]
  },
  {
   "cell_type": "code",
   "execution_count": 56,
   "metadata": {},
   "outputs": [
    {
     "data": {
      "text/plain": [
       "OrderedDict([(0.5, 143.93955388466142),\n",
       "             (1.0, 140.5031545674444),\n",
       "             (1.5, 137.14879552302708),\n",
       "             (2.0, 133.87451812968376),\n",
       "             (2.5, 130.6784105256388),\n",
       "             (3.0, 127.55860649272407),\n",
       "             (3.5, 124.51328436668776),\n",
       "             (4.0, 121.5406659735184),\n",
       "             (4.5, 118.63901559116294),\n",
       "             (5.0, 115.80663893603271)])"
      ]
     },
     "execution_count": 56,
     "metadata": {},
     "output_type": "execute_result"
    }
   ],
   "source": [
    "forward_er = forward_ex_rate(disc_rates_A, disc_rates_B, Ex_rate, freq)\n",
    "forward_er"
   ]
  },
  {
   "cell_type": "code",
   "execution_count": 57,
   "metadata": {},
   "outputs": [],
   "source": [
    "coupon_B = swap_B.get_fix_rate()  ## ставка свопа\n"
   ]
  },
  {
   "cell_type": "code",
   "execution_count": 58,
   "metadata": {},
   "outputs": [],
   "source": [
    "## Расчет ставок дисконтирования\n",
    "l = []\n",
    "for key in disc_rates_A:\n",
    "    l.append(1 / (1 + disc_rates_A[key] / freq)**(freq * key))\n",
    "disc_f_A = OrderedDict(zip(disc_rates_A.keys(), l))\n"
   ]
  },
  {
   "cell_type": "code",
   "execution_count": 59,
   "metadata": {},
   "outputs": [
    {
     "data": {
      "text/plain": [
       "100.0"
      ]
     },
     "execution_count": 59,
     "metadata": {},
     "output_type": "execute_result"
    }
   ],
   "source": [
    "sum([coupon_B[key] / forward_er[key] * disc_f_A[key]\n",
    "     for key in coupon_B]) + N_B / forward_er[T] * disc_f_A[T]\n"
   ]
  },
  {
   "cell_type": "markdown",
   "metadata": {},
   "source": [
    "### Переоценка валютного свопа\n"
   ]
  },
  {
   "cell_type": "markdown",
   "metadata": {},
   "source": [
    "Переоценка валютного свопа связана с изменением процентных ставок в обеих странах, а также с измением валютного курса\n"
   ]
  },
  {
   "cell_type": "code",
   "execution_count": 60,
   "metadata": {},
   "outputs": [],
   "source": [
    "T = 2.5  #новый срок\n"
   ]
  },
  {
   "cell_type": "code",
   "execution_count": 61,
   "metadata": {},
   "outputs": [],
   "source": [
    "swap_reval = []\n",
    "for r_d_delta in [-0.005, 0, 0.005]:\n",
    "    rates_A = rates_y(T, start_time, freq, start_rate_A + r_d_delta, step_rate)\n",
    "    swap_A.set_rates(rates_A)\n",
    "    for r_f_delta in [-0.005, 0, 0.005]:\n",
    "        rates_B = rates_y(T, start_time, freq, start_rate_B + r_f_delta,\n",
    "                          step_rate)\n",
    "        swap_B.set_rates(rates_B)\n",
    "        for ex_r_delta in [-.1, 0, 0.1]:\n",
    "            ex_rates = Ex_rate * (1 + ex_r_delta)\n",
    "            reval = swap_A.get_fix_leg() - swap_B.get_fix_leg() / ex_rates\n",
    "            swap_reval.append(\n",
    "                [r_d_delta, r_f_delta, ex_r_delta,\n",
    "                 np.round(reval, 4)])\n"
   ]
  },
  {
   "cell_type": "code",
   "execution_count": 62,
   "metadata": {},
   "outputs": [],
   "source": [
    "swap_reval_df = pd.DataFrame(swap_reval)\n"
   ]
  },
  {
   "cell_type": "code",
   "execution_count": 63,
   "metadata": {},
   "outputs": [],
   "source": [
    "swap_reval_df.columns = [\n",
    "    'Change_domestic', 'Change_foreign', 'Change_ex_rate', 'Swap_reval'\n",
    "]\n"
   ]
  },
  {
   "cell_type": "code",
   "execution_count": 64,
   "metadata": {},
   "outputs": [
    {
     "data": {
      "text/html": [
       "<div>\n",
       "<style scoped>\n",
       "    .dataframe tbody tr th:only-of-type {\n",
       "        vertical-align: middle;\n",
       "    }\n",
       "\n",
       "    .dataframe tbody tr th {\n",
       "        vertical-align: top;\n",
       "    }\n",
       "\n",
       "    .dataframe thead th {\n",
       "        text-align: right;\n",
       "    }\n",
       "</style>\n",
       "<table border=\"1\" class=\"dataframe\">\n",
       "  <thead>\n",
       "    <tr style=\"text-align: right;\">\n",
       "      <th></th>\n",
       "      <th>Change_domestic</th>\n",
       "      <th>Change_foreign</th>\n",
       "      <th>Change_ex_rate</th>\n",
       "      <th>Swap_reval</th>\n",
       "    </tr>\n",
       "  </thead>\n",
       "  <tbody>\n",
       "    <tr>\n",
       "      <th>0</th>\n",
       "      <td>-0.005</td>\n",
       "      <td>-0.005</td>\n",
       "      <td>-0.1</td>\n",
       "      <td>-11.3386</td>\n",
       "    </tr>\n",
       "    <tr>\n",
       "      <th>1</th>\n",
       "      <td>-0.005</td>\n",
       "      <td>-0.005</td>\n",
       "      <td>0.0</td>\n",
       "      <td>-0.0877</td>\n",
       "    </tr>\n",
       "    <tr>\n",
       "      <th>2</th>\n",
       "      <td>-0.005</td>\n",
       "      <td>-0.005</td>\n",
       "      <td>0.1</td>\n",
       "      <td>9.1177</td>\n",
       "    </tr>\n",
       "    <tr>\n",
       "      <th>3</th>\n",
       "      <td>-0.005</td>\n",
       "      <td>0.000</td>\n",
       "      <td>-0.1</td>\n",
       "      <td>-9.9401</td>\n",
       "    </tr>\n",
       "    <tr>\n",
       "      <th>4</th>\n",
       "      <td>-0.005</td>\n",
       "      <td>0.000</td>\n",
       "      <td>0.0</td>\n",
       "      <td>1.1710</td>\n",
       "    </tr>\n",
       "    <tr>\n",
       "      <th>5</th>\n",
       "      <td>-0.005</td>\n",
       "      <td>0.000</td>\n",
       "      <td>0.1</td>\n",
       "      <td>10.2619</td>\n",
       "    </tr>\n",
       "    <tr>\n",
       "      <th>6</th>\n",
       "      <td>-0.005</td>\n",
       "      <td>0.005</td>\n",
       "      <td>-0.1</td>\n",
       "      <td>-8.5623</td>\n",
       "    </tr>\n",
       "    <tr>\n",
       "      <th>7</th>\n",
       "      <td>-0.005</td>\n",
       "      <td>0.005</td>\n",
       "      <td>0.0</td>\n",
       "      <td>2.4110</td>\n",
       "    </tr>\n",
       "    <tr>\n",
       "      <th>8</th>\n",
       "      <td>-0.005</td>\n",
       "      <td>0.005</td>\n",
       "      <td>0.1</td>\n",
       "      <td>11.3892</td>\n",
       "    </tr>\n",
       "    <tr>\n",
       "      <th>9</th>\n",
       "      <td>0.000</td>\n",
       "      <td>-0.005</td>\n",
       "      <td>-0.1</td>\n",
       "      <td>-12.5097</td>\n",
       "    </tr>\n",
       "    <tr>\n",
       "      <th>10</th>\n",
       "      <td>0.000</td>\n",
       "      <td>-0.005</td>\n",
       "      <td>0.0</td>\n",
       "      <td>-1.2587</td>\n",
       "    </tr>\n",
       "    <tr>\n",
       "      <th>11</th>\n",
       "      <td>0.000</td>\n",
       "      <td>-0.005</td>\n",
       "      <td>0.1</td>\n",
       "      <td>7.9466</td>\n",
       "    </tr>\n",
       "    <tr>\n",
       "      <th>12</th>\n",
       "      <td>0.000</td>\n",
       "      <td>0.000</td>\n",
       "      <td>-0.1</td>\n",
       "      <td>-11.1111</td>\n",
       "    </tr>\n",
       "    <tr>\n",
       "      <th>13</th>\n",
       "      <td>0.000</td>\n",
       "      <td>0.000</td>\n",
       "      <td>0.0</td>\n",
       "      <td>0.0000</td>\n",
       "    </tr>\n",
       "    <tr>\n",
       "      <th>14</th>\n",
       "      <td>0.000</td>\n",
       "      <td>0.000</td>\n",
       "      <td>0.1</td>\n",
       "      <td>9.0909</td>\n",
       "    </tr>\n",
       "    <tr>\n",
       "      <th>15</th>\n",
       "      <td>0.000</td>\n",
       "      <td>0.005</td>\n",
       "      <td>-0.1</td>\n",
       "      <td>-9.7334</td>\n",
       "    </tr>\n",
       "    <tr>\n",
       "      <th>16</th>\n",
       "      <td>0.000</td>\n",
       "      <td>0.005</td>\n",
       "      <td>0.0</td>\n",
       "      <td>1.2400</td>\n",
       "    </tr>\n",
       "    <tr>\n",
       "      <th>17</th>\n",
       "      <td>0.000</td>\n",
       "      <td>0.005</td>\n",
       "      <td>0.1</td>\n",
       "      <td>10.2182</td>\n",
       "    </tr>\n",
       "    <tr>\n",
       "      <th>18</th>\n",
       "      <td>0.005</td>\n",
       "      <td>-0.005</td>\n",
       "      <td>-0.1</td>\n",
       "      <td>-13.6640</td>\n",
       "    </tr>\n",
       "    <tr>\n",
       "      <th>19</th>\n",
       "      <td>0.005</td>\n",
       "      <td>-0.005</td>\n",
       "      <td>0.0</td>\n",
       "      <td>-2.4130</td>\n",
       "    </tr>\n",
       "    <tr>\n",
       "      <th>20</th>\n",
       "      <td>0.005</td>\n",
       "      <td>-0.005</td>\n",
       "      <td>0.1</td>\n",
       "      <td>6.7923</td>\n",
       "    </tr>\n",
       "    <tr>\n",
       "      <th>21</th>\n",
       "      <td>0.005</td>\n",
       "      <td>0.000</td>\n",
       "      <td>-0.1</td>\n",
       "      <td>-12.2654</td>\n",
       "    </tr>\n",
       "    <tr>\n",
       "      <th>22</th>\n",
       "      <td>0.005</td>\n",
       "      <td>0.000</td>\n",
       "      <td>0.0</td>\n",
       "      <td>-1.1543</td>\n",
       "    </tr>\n",
       "    <tr>\n",
       "      <th>23</th>\n",
       "      <td>0.005</td>\n",
       "      <td>0.000</td>\n",
       "      <td>0.1</td>\n",
       "      <td>7.9366</td>\n",
       "    </tr>\n",
       "    <tr>\n",
       "      <th>24</th>\n",
       "      <td>0.005</td>\n",
       "      <td>0.005</td>\n",
       "      <td>-0.1</td>\n",
       "      <td>-10.8877</td>\n",
       "    </tr>\n",
       "    <tr>\n",
       "      <th>25</th>\n",
       "      <td>0.005</td>\n",
       "      <td>0.005</td>\n",
       "      <td>0.0</td>\n",
       "      <td>0.0857</td>\n",
       "    </tr>\n",
       "    <tr>\n",
       "      <th>26</th>\n",
       "      <td>0.005</td>\n",
       "      <td>0.005</td>\n",
       "      <td>0.1</td>\n",
       "      <td>9.0639</td>\n",
       "    </tr>\n",
       "  </tbody>\n",
       "</table>\n",
       "</div>"
      ],
      "text/plain": [
       "    Change_domestic  Change_foreign  Change_ex_rate  Swap_reval\n",
       "0            -0.005          -0.005            -0.1    -11.3386\n",
       "1            -0.005          -0.005             0.0     -0.0877\n",
       "2            -0.005          -0.005             0.1      9.1177\n",
       "3            -0.005           0.000            -0.1     -9.9401\n",
       "4            -0.005           0.000             0.0      1.1710\n",
       "5            -0.005           0.000             0.1     10.2619\n",
       "6            -0.005           0.005            -0.1     -8.5623\n",
       "7            -0.005           0.005             0.0      2.4110\n",
       "8            -0.005           0.005             0.1     11.3892\n",
       "9             0.000          -0.005            -0.1    -12.5097\n",
       "10            0.000          -0.005             0.0     -1.2587\n",
       "11            0.000          -0.005             0.1      7.9466\n",
       "12            0.000           0.000            -0.1    -11.1111\n",
       "13            0.000           0.000             0.0      0.0000\n",
       "14            0.000           0.000             0.1      9.0909\n",
       "15            0.000           0.005            -0.1     -9.7334\n",
       "16            0.000           0.005             0.0      1.2400\n",
       "17            0.000           0.005             0.1     10.2182\n",
       "18            0.005          -0.005            -0.1    -13.6640\n",
       "19            0.005          -0.005             0.0     -2.4130\n",
       "20            0.005          -0.005             0.1      6.7923\n",
       "21            0.005           0.000            -0.1    -12.2654\n",
       "22            0.005           0.000             0.0     -1.1543\n",
       "23            0.005           0.000             0.1      7.9366\n",
       "24            0.005           0.005            -0.1    -10.8877\n",
       "25            0.005           0.005             0.0      0.0857\n",
       "26            0.005           0.005             0.1      9.0639"
      ]
     },
     "execution_count": 64,
     "metadata": {},
     "output_type": "execute_result"
    }
   ],
   "source": [
    "swap_reval_df"
   ]
  },
  {
   "cell_type": "markdown",
   "metadata": {},
   "source": [
    "## 5.Валютный опцион\n"
   ]
  },
  {
   "cell_type": "markdown",
   "metadata": {},
   "source": [
    "Для моделирования валютного опциона будем использовать формулу Garman–Kohlhagen (вариант формулы Блэка-Шоулза).\n",
    "\n",
    "Класс, содержащий методы для моделирования валютного опциона:\n"
   ]
  },
  {
   "cell_type": "code",
   "execution_count": 65,
   "metadata": {},
   "outputs": [],
   "source": [
    "class GK:\n",
    "\n",
    "    def __init__(self, Spot, K, r_dom, r_for, T, sigma, t=0, is_call=True):\n",
    "        self._Spot = Spot\n",
    "        self._K = K\n",
    "        self._r_dom = r_dom\n",
    "        self._r_for = r_for\n",
    "        self._T = T\n",
    "        self._sigma = sigma\n",
    "        self._t = t\n",
    "        self._is_call = is_call\n",
    "\n",
    "    def __d_values__(self):\n",
    "        self._d1 = (np.log(self._Spot / self._K) +\n",
    "                    (self._r_dom - self._r_for + 0.5 * self._sigma**2) *\n",
    "                    (self._T - self._t)) / (self._sigma *\n",
    "                                            np.sqrt(self._T - self._t))\n",
    "        self._d2 = self._d1 - self._sigma * np.sqrt(self._T - self._t)\n",
    "\n",
    "    def __N_d__(self, d_value):\n",
    "        return stats.norm.cdf(d_value)\n",
    "\n",
    "    def __price__(self):\n",
    "        return (np.exp(-self._r_for*\\\n",
    "        (self._T-self._t))*self._Spot*self.__N_d__(self._d1)-np.exp(-self._r_dom*\\\n",
    "        (self._T-self._t))*self._K*self.__N_d__(self._d2)) if self._is_call \\\n",
    "        else (np.exp(-self._r_dom*(self._T-self._t))*self._K*self.__N_d__(-self._d2)- np.exp(-self._r_for*\\\n",
    "        (self._T-self._t))*self._Spot*self.__N_d__(-self._d1))\n",
    "\n",
    "    def get_price(self):\n",
    "        self.__d_values__()\n",
    "        price = self.__price__()\n",
    "        return price\n",
    "\n",
    "    def get_delta(self):\n",
    "        self.__d_values__()\n",
    "        return self.__N_d__(\n",
    "            self._d1) if self._is_call else self.__N_d__(self._d1) - 1\n",
    "\n",
    "    def get_vega(self):\n",
    "        self.__d_values__()\n",
    "        return self._Spot*stats.norm.pdf(self._d1)*np.sqrt(self._T-self._t)*np.exp(-self._r_for*\\\n",
    "        (self._T-self._t))/100\n"
   ]
  },
  {
   "cell_type": "markdown",
   "metadata": {},
   "source": [
    "Рассмотрим опцион USD/JPY с датой до экспирации через шесть месяцев.\n",
    "\n",
    "Данные  взяты с сайта [Investing.com](https://www.investing.com/currencies/forex-options)"
   ]
  },
  {
   "cell_type": "code",
   "execution_count": 66,
   "metadata": {},
   "outputs": [],
   "source": [
    "Spot = 147.45  ## спот-курс\n",
    "K = 144.00  ## страйк\n",
    "r_dom = 4.93086 / 100  ## ставка USD\n",
    "r_for = 0.03836 / 100  ## ставка GBP\n",
    "sigma = 12.14 / 100  ## волатильность\n",
    "days = 180  ## дней до экспирации\n",
    "T = days / 250  ## дней до экспирации в годах\n"
   ]
  },
  {
   "cell_type": "code",
   "execution_count": 67,
   "metadata": {},
   "outputs": [
    {
     "data": {
      "text/plain": [
       "11.033010847907832"
      ]
     },
     "execution_count": 67,
     "metadata": {},
     "output_type": "execute_result"
    }
   ],
   "source": [
    "GK(Spot, K, r_dom, r_for, T, sigma).get_price()\n"
   ]
  },
  {
   "cell_type": "code",
   "execution_count": 68,
   "metadata": {},
   "outputs": [
    {
     "data": {
      "text/plain": [
       "0.7334580490045051"
      ]
     },
     "execution_count": 68,
     "metadata": {},
     "output_type": "execute_result"
    }
   ],
   "source": [
    "GK(Spot, K, r_dom, r_for, T, sigma).get_delta()\n"
   ]
  },
  {
   "cell_type": "code",
   "execution_count": 69,
   "metadata": {},
   "outputs": [
    {
     "data": {
      "text/plain": [
       "0.41090116377358654"
      ]
     },
     "execution_count": 69,
     "metadata": {},
     "output_type": "execute_result"
    }
   ],
   "source": [
    "GK(Spot, K, r_dom, r_for, T, sigma).get_vega()\n"
   ]
  },
  {
   "cell_type": "markdown",
   "metadata": {},
   "source": [
    "### Загрузка данных о процентных ставках\n"
   ]
  },
  {
   "cell_type": "code",
   "execution_count": 70,
   "metadata": {},
   "outputs": [],
   "source": [
    "libor_option = pd.read_csv('https://github.com/qununc/financials_repo/blob/main/AppliedModels/ap_data/LIBOR_option_USD_JPY.csv?raw=true')"
   ]
  },
  {
   "cell_type": "code",
   "execution_count": 71,
   "metadata": {},
   "outputs": [
    {
     "data": {
      "text/plain": [
       "Term     object\n",
       "USD     float64\n",
       "JPY     float64\n",
       "dtype: object"
      ]
     },
     "execution_count": 71,
     "metadata": {},
     "output_type": "execute_result"
    }
   ],
   "source": [
    "libor_option.dtypes"
   ]
  },
  {
   "cell_type": "markdown",
   "metadata": {},
   "source": [
    "### Загрузка данных о рынке опционов, сайт www.investing.com\n"
   ]
  },
  {
   "cell_type": "code",
   "execution_count": 72,
   "metadata": {},
   "outputs": [],
   "source": [
    "option = pd.read_csv('https://github.com/qununc/financials_repo/blob/844a415b14e37fc34d9ba59d471d8fb3641c8696/AppliedModels/ap_data/USD_JPY_option.csv?raw=true')\n",
    "option.Put = option.Put * 100\n",
    "option.Call = option.Call * 100\n"
   ]
  },
  {
   "cell_type": "code",
   "execution_count": 73,
   "metadata": {},
   "outputs": [
    {
     "data": {
      "text/html": [
       "<div>\n",
       "<style scoped>\n",
       "    .dataframe tbody tr th:only-of-type {\n",
       "        vertical-align: middle;\n",
       "    }\n",
       "\n",
       "    .dataframe tbody tr th {\n",
       "        vertical-align: top;\n",
       "    }\n",
       "\n",
       "    .dataframe thead th {\n",
       "        text-align: right;\n",
       "    }\n",
       "</style>\n",
       "<table border=\"1\" class=\"dataframe\">\n",
       "  <thead>\n",
       "    <tr style=\"text-align: right;\">\n",
       "      <th></th>\n",
       "      <th>Put_delta</th>\n",
       "      <th>Put</th>\n",
       "      <th>Strikes</th>\n",
       "      <th>Call</th>\n",
       "      <th>Call_delta</th>\n",
       "      <th>Imp_vol</th>\n",
       "      <th>Skew</th>\n",
       "      <th>Vega</th>\n",
       "    </tr>\n",
       "  </thead>\n",
       "  <tbody>\n",
       "    <tr>\n",
       "      <th>0</th>\n",
       "      <td>-0.23</td>\n",
       "      <td>0.965</td>\n",
       "      <td>135.0</td>\n",
       "      <td>5.735</td>\n",
       "      <td>0.77</td>\n",
       "      <td>0.1052</td>\n",
       "      <td>0.0148</td>\n",
       "      <td>0.0021</td>\n",
       "    </tr>\n",
       "    <tr>\n",
       "      <th>1</th>\n",
       "      <td>-0.27</td>\n",
       "      <td>1.160</td>\n",
       "      <td>137.0</td>\n",
       "      <td>4.933</td>\n",
       "      <td>0.72</td>\n",
       "      <td>0.1021</td>\n",
       "      <td>0.0117</td>\n",
       "      <td>0.0022</td>\n",
       "    </tr>\n",
       "    <tr>\n",
       "      <th>2</th>\n",
       "      <td>-0.32</td>\n",
       "      <td>1.416</td>\n",
       "      <td>138.0</td>\n",
       "      <td>4.183</td>\n",
       "      <td>0.68</td>\n",
       "      <td>0.0991</td>\n",
       "      <td>0.0086</td>\n",
       "      <td>0.0024</td>\n",
       "    </tr>\n",
       "    <tr>\n",
       "      <th>3</th>\n",
       "      <td>-0.38</td>\n",
       "      <td>1.704</td>\n",
       "      <td>141.0</td>\n",
       "      <td>3.495</td>\n",
       "      <td>0.62</td>\n",
       "      <td>0.0962</td>\n",
       "      <td>0.0058</td>\n",
       "      <td>0.0025</td>\n",
       "    </tr>\n",
       "    <tr>\n",
       "      <th>4</th>\n",
       "      <td>-0.44</td>\n",
       "      <td>2.064</td>\n",
       "      <td>142.0</td>\n",
       "      <td>2.859</td>\n",
       "      <td>0.56</td>\n",
       "      <td>0.0936</td>\n",
       "      <td>0.0032</td>\n",
       "      <td>0.0026</td>\n",
       "    </tr>\n",
       "    <tr>\n",
       "      <th>5</th>\n",
       "      <td>-0.50</td>\n",
       "      <td>2.492</td>\n",
       "      <td>144.0</td>\n",
       "      <td>2.282</td>\n",
       "      <td>0.49</td>\n",
       "      <td>0.0913</td>\n",
       "      <td>0.0009</td>\n",
       "      <td>0.0026</td>\n",
       "    </tr>\n",
       "    <tr>\n",
       "      <th>6</th>\n",
       "      <td>-0.57</td>\n",
       "      <td>3.005</td>\n",
       "      <td>147.0</td>\n",
       "      <td>1.799</td>\n",
       "      <td>0.43</td>\n",
       "      <td>0.0893</td>\n",
       "      <td>-0.0011</td>\n",
       "      <td>0.0026</td>\n",
       "    </tr>\n",
       "    <tr>\n",
       "      <th>7</th>\n",
       "      <td>-0.64</td>\n",
       "      <td>3.574</td>\n",
       "      <td>148.0</td>\n",
       "      <td>1.371</td>\n",
       "      <td>0.36</td>\n",
       "      <td>0.0876</td>\n",
       "      <td>-0.0028</td>\n",
       "      <td>0.0024</td>\n",
       "    </tr>\n",
       "    <tr>\n",
       "      <th>8</th>\n",
       "      <td>-0.70</td>\n",
       "      <td>4.235</td>\n",
       "      <td>150.0</td>\n",
       "      <td>1.036</td>\n",
       "      <td>0.29</td>\n",
       "      <td>0.0861</td>\n",
       "      <td>-0.0043</td>\n",
       "      <td>0.0022</td>\n",
       "    </tr>\n",
       "    <tr>\n",
       "      <th>9</th>\n",
       "      <td>-0.76</td>\n",
       "      <td>4.958</td>\n",
       "      <td>153.0</td>\n",
       "      <td>0.752</td>\n",
       "      <td>0.24</td>\n",
       "      <td>0.0851</td>\n",
       "      <td>-0.0054</td>\n",
       "      <td>0.0021</td>\n",
       "    </tr>\n",
       "  </tbody>\n",
       "</table>\n",
       "</div>"
      ],
      "text/plain": [
       "   Put_delta    Put  Strikes   Call  Call_delta  Imp_vol    Skew    Vega\n",
       "0      -0.23  0.965    135.0  5.735        0.77   0.1052  0.0148  0.0021\n",
       "1      -0.27  1.160    137.0  4.933        0.72   0.1021  0.0117  0.0022\n",
       "2      -0.32  1.416    138.0  4.183        0.68   0.0991  0.0086  0.0024\n",
       "3      -0.38  1.704    141.0  3.495        0.62   0.0962  0.0058  0.0025\n",
       "4      -0.44  2.064    142.0  2.859        0.56   0.0936  0.0032  0.0026\n",
       "5      -0.50  2.492    144.0  2.282        0.49   0.0913  0.0009  0.0026\n",
       "6      -0.57  3.005    147.0  1.799        0.43   0.0893 -0.0011  0.0026\n",
       "7      -0.64  3.574    148.0  1.371        0.36   0.0876 -0.0028  0.0024\n",
       "8      -0.70  4.235    150.0  1.036        0.29   0.0861 -0.0043  0.0022\n",
       "9      -0.76  4.958    153.0  0.752        0.24   0.0851 -0.0054  0.0021"
      ]
     },
     "execution_count": 73,
     "metadata": {},
     "output_type": "execute_result"
    }
   ],
   "source": [
    "option"
   ]
  },
  {
   "cell_type": "code",
   "execution_count": 74,
   "metadata": {},
   "outputs": [
    {
     "data": {
      "text/plain": [
       "Put_delta     float64\n",
       "Put           float64\n",
       "Strikes       float64\n",
       "Call          float64\n",
       "Call_delta    float64\n",
       "Imp_vol       float64\n",
       "Skew          float64\n",
       "Vega          float64\n",
       "dtype: object"
      ]
     },
     "execution_count": 74,
     "metadata": {},
     "output_type": "execute_result"
    }
   ],
   "source": [
    "option.dtypes"
   ]
  },
  {
   "cell_type": "markdown",
   "metadata": {},
   "source": [
    "### Моделирование цен и показателей чувствительности опционов для серии страйков\n"
   ]
  },
  {
   "cell_type": "code",
   "execution_count": 75,
   "metadata": {},
   "outputs": [],
   "source": [
    "option_GK = option[['Strikes', 'Imp_vol']]\n"
   ]
  },
  {
   "cell_type": "code",
   "execution_count": 76,
   "metadata": {},
   "outputs": [],
   "source": [
    "Spot = 147.46\n",
    "days = 180\n",
    "T = days / 250\n"
   ]
  },
  {
   "cell_type": "code",
   "execution_count": 77,
   "metadata": {},
   "outputs": [],
   "source": [
    "option_GK['Call'] = option.apply(lambda row: GK(Spot, row[\n",
    "    'Strikes'], libor_option.iloc[2, 1] / 100, libor_option.iloc[2, 2] / 100,\n",
    "                                                T, row['Imp_vol']).get_price(),\n",
    "                                 axis=1)\n"
   ]
  },
  {
   "cell_type": "code",
   "execution_count": 78,
   "metadata": {},
   "outputs": [],
   "source": [
    "option_GK['Call_delta'] = option.apply(lambda row: GK(\n",
    "    Spot, row['Strikes'], libor_option.iloc[2, 1] / 100, libor_option.iloc[\n",
    "        2, 2] / 100, T, row['Imp_vol']).get_delta(),\n",
    "                                       axis=1)\n"
   ]
  },
  {
   "cell_type": "code",
   "execution_count": 79,
   "metadata": {},
   "outputs": [],
   "source": [
    "option_GK['Put'] = option.apply(lambda row: GK(Spot,\n",
    "                                               row['Strikes'],\n",
    "                                               libor_option.iloc[2, 1] / 100,\n",
    "                                               libor_option.iloc[2, 2] / 100,\n",
    "                                               T,\n",
    "                                               row['Imp_vol'],\n",
    "                                               is_call=False).get_price(),\n",
    "                                axis=1)\n"
   ]
  },
  {
   "cell_type": "code",
   "execution_count": 80,
   "metadata": {},
   "outputs": [],
   "source": [
    "option_GK['Put_delta'] = option.apply(\n",
    "    lambda row: GK(Spot,\n",
    "                   row['Strikes'],\n",
    "                   libor_option.iloc[2, 1] / 100,\n",
    "                   libor_option.iloc[2, 2] / 100,\n",
    "                   T,\n",
    "                   row['Imp_vol'],\n",
    "                   is_call=False).get_delta(),\n",
    "    axis=1)\n"
   ]
  },
  {
   "cell_type": "code",
   "execution_count": 81,
   "metadata": {},
   "outputs": [],
   "source": [
    "option_GK['Vega'] = option.apply(lambda row: GK(Spot,\n",
    "                                                row['Strikes'],\n",
    "                                                libor_option.iloc[2, 1] / 100,\n",
    "                                                libor_option.iloc[2, 2] / 100,\n",
    "                                                T,\n",
    "                                                row['Imp_vol'],\n",
    "                                                is_call=False).get_vega(),\n",
    "                                 axis=1\n",
    "                                 )\n"
   ]
  },
  {
   "cell_type": "code",
   "execution_count": 82,
   "metadata": {},
   "outputs": [
    {
     "data": {
      "text/html": [
       "<div>\n",
       "<style scoped>\n",
       "    .dataframe tbody tr th:only-of-type {\n",
       "        vertical-align: middle;\n",
       "    }\n",
       "\n",
       "    .dataframe tbody tr th {\n",
       "        vertical-align: top;\n",
       "    }\n",
       "\n",
       "    .dataframe thead th {\n",
       "        text-align: right;\n",
       "    }\n",
       "</style>\n",
       "<table border=\"1\" class=\"dataframe\">\n",
       "  <thead>\n",
       "    <tr style=\"text-align: right;\">\n",
       "      <th></th>\n",
       "      <th>Strikes</th>\n",
       "      <th>Imp_vol</th>\n",
       "      <th>Call</th>\n",
       "      <th>Call_delta</th>\n",
       "      <th>Put</th>\n",
       "      <th>Put_delta</th>\n",
       "      <th>Vega</th>\n",
       "    </tr>\n",
       "  </thead>\n",
       "  <tbody>\n",
       "    <tr>\n",
       "      <th>0</th>\n",
       "      <td>135.0</td>\n",
       "      <td>0.1052</td>\n",
       "      <td>13.672010</td>\n",
       "      <td>0.852480</td>\n",
       "      <td>1.043542</td>\n",
       "      <td>-0.147520</td>\n",
       "      <td>0.288638</td>\n",
       "    </tr>\n",
       "    <tr>\n",
       "      <th>1</th>\n",
       "      <td>137.0</td>\n",
       "      <td>0.1021</td>\n",
       "      <td>11.951388</td>\n",
       "      <td>0.817665</td>\n",
       "      <td>1.321427</td>\n",
       "      <td>-0.182335</td>\n",
       "      <td>0.331139</td>\n",
       "    </tr>\n",
       "    <tr>\n",
       "      <th>2</th>\n",
       "      <td>138.0</td>\n",
       "      <td>0.0991</td>\n",
       "      <td>11.064523</td>\n",
       "      <td>0.800909</td>\n",
       "      <td>1.433816</td>\n",
       "      <td>-0.199091</td>\n",
       "      <td>0.349501</td>\n",
       "    </tr>\n",
       "    <tr>\n",
       "      <th>3</th>\n",
       "      <td>141.0</td>\n",
       "      <td>0.0962</td>\n",
       "      <td>8.737290</td>\n",
       "      <td>0.727204</td>\n",
       "      <td>2.104343</td>\n",
       "      <td>-0.272796</td>\n",
       "      <td>0.416037</td>\n",
       "    </tr>\n",
       "    <tr>\n",
       "      <th>4</th>\n",
       "      <td>142.0</td>\n",
       "      <td>0.0936</td>\n",
       "      <td>7.940479</td>\n",
       "      <td>0.701926</td>\n",
       "      <td>2.306786</td>\n",
       "      <td>-0.298074</td>\n",
       "      <td>0.433976</td>\n",
       "    </tr>\n",
       "    <tr>\n",
       "      <th>5</th>\n",
       "      <td>144.0</td>\n",
       "      <td>0.0913</td>\n",
       "      <td>6.551177</td>\n",
       "      <td>0.640870</td>\n",
       "      <td>2.915991</td>\n",
       "      <td>-0.359130</td>\n",
       "      <td>0.467934</td>\n",
       "    </tr>\n",
       "    <tr>\n",
       "      <th>6</th>\n",
       "      <td>147.0</td>\n",
       "      <td>0.0893</td>\n",
       "      <td>4.774928</td>\n",
       "      <td>0.537855</td>\n",
       "      <td>4.137503</td>\n",
       "      <td>-0.462145</td>\n",
       "      <td>0.497152</td>\n",
       "    </tr>\n",
       "    <tr>\n",
       "      <th>7</th>\n",
       "      <td>148.0</td>\n",
       "      <td>0.0876</td>\n",
       "      <td>4.200577</td>\n",
       "      <td>0.501680</td>\n",
       "      <td>4.562405</td>\n",
       "      <td>-0.498320</td>\n",
       "      <td>0.499397</td>\n",
       "    </tr>\n",
       "    <tr>\n",
       "      <th>8</th>\n",
       "      <td>150.0</td>\n",
       "      <td>0.0861</td>\n",
       "      <td>3.254934</td>\n",
       "      <td>0.428289</td>\n",
       "      <td>5.615270</td>\n",
       "      <td>-0.571711</td>\n",
       "      <td>0.491312</td>\n",
       "    </tr>\n",
       "    <tr>\n",
       "      <th>9</th>\n",
       "      <td>153.0</td>\n",
       "      <td>0.0851</td>\n",
       "      <td>2.164295</td>\n",
       "      <td>0.323496</td>\n",
       "      <td>7.522391</td>\n",
       "      <td>-0.676504</td>\n",
       "      <td>0.449688</td>\n",
       "    </tr>\n",
       "  </tbody>\n",
       "</table>\n",
       "</div>"
      ],
      "text/plain": [
       "   Strikes  Imp_vol       Call  Call_delta       Put  Put_delta      Vega\n",
       "0    135.0   0.1052  13.672010    0.852480  1.043542  -0.147520  0.288638\n",
       "1    137.0   0.1021  11.951388    0.817665  1.321427  -0.182335  0.331139\n",
       "2    138.0   0.0991  11.064523    0.800909  1.433816  -0.199091  0.349501\n",
       "3    141.0   0.0962   8.737290    0.727204  2.104343  -0.272796  0.416037\n",
       "4    142.0   0.0936   7.940479    0.701926  2.306786  -0.298074  0.433976\n",
       "5    144.0   0.0913   6.551177    0.640870  2.915991  -0.359130  0.467934\n",
       "6    147.0   0.0893   4.774928    0.537855  4.137503  -0.462145  0.497152\n",
       "7    148.0   0.0876   4.200577    0.501680  4.562405  -0.498320  0.499397\n",
       "8    150.0   0.0861   3.254934    0.428289  5.615270  -0.571711  0.491312\n",
       "9    153.0   0.0851   2.164295    0.323496  7.522391  -0.676504  0.449688"
      ]
     },
     "execution_count": 82,
     "metadata": {},
     "output_type": "execute_result"
    }
   ],
   "source": [
    "option_GK"
   ]
  },
  {
   "cell_type": "markdown",
   "metadata": {},
   "source": [
    "## 6. Стратегия risk-riversal\n"
   ]
  },
  {
   "cell_type": "markdown",
   "metadata": {},
   "source": [
    "Стратегия состоит в одновременной покупке опциона колл и продаже опциона пут со страйками вне денег\n"
   ]
  },
  {
   "cell_type": "code",
   "execution_count": 83,
   "metadata": {},
   "outputs": [],
   "source": [
    "Strike_call = 144. + 0.51\n",
    "Strike_put = 144. - 0.47\n"
   ]
  },
  {
   "cell_type": "code",
   "execution_count": 84,
   "metadata": {},
   "outputs": [],
   "source": [
    "risk_reversal_setup=pd.DataFrame(zip(['Call','Put'],[Strike_call,Strike_put],\n",
    "                                     [GK(Spot,Strike_call,libor_option.iloc[2,1]/100,libor_option.iloc[2,2]/100,T,option.iloc[5,5]).get_price(),\\\n",
    "GK(Spot,Strike_put,libor_option.iloc[2,1]/100,libor_option.iloc[2,2]/100,T,option.iloc[5,5]).get_price()],['Buy','Sell']),\\\n",
    "                               columns=['Type','Strike','Price','Buy/Sell'])"
   ]
  },
  {
   "cell_type": "code",
   "execution_count": 85,
   "metadata": {},
   "outputs": [
    {
     "data": {
      "text/html": [
       "<div>\n",
       "<style scoped>\n",
       "    .dataframe tbody tr th:only-of-type {\n",
       "        vertical-align: middle;\n",
       "    }\n",
       "\n",
       "    .dataframe tbody tr th {\n",
       "        vertical-align: top;\n",
       "    }\n",
       "\n",
       "    .dataframe thead th {\n",
       "        text-align: right;\n",
       "    }\n",
       "</style>\n",
       "<table border=\"1\" class=\"dataframe\">\n",
       "  <thead>\n",
       "    <tr style=\"text-align: right;\">\n",
       "      <th></th>\n",
       "      <th>Type</th>\n",
       "      <th>Strike</th>\n",
       "      <th>Price</th>\n",
       "      <th>Buy/Sell</th>\n",
       "    </tr>\n",
       "  </thead>\n",
       "  <tbody>\n",
       "    <tr>\n",
       "      <th>0</th>\n",
       "      <td>Call</td>\n",
       "      <td>144.51</td>\n",
       "      <td>6.244006</td>\n",
       "      <td>Buy</td>\n",
       "    </tr>\n",
       "    <tr>\n",
       "      <th>1</th>\n",
       "      <td>Put</td>\n",
       "      <td>143.53</td>\n",
       "      <td>6.842162</td>\n",
       "      <td>Sell</td>\n",
       "    </tr>\n",
       "  </tbody>\n",
       "</table>\n",
       "</div>"
      ],
      "text/plain": [
       "   Type  Strike     Price Buy/Sell\n",
       "0  Call  144.51  6.244006      Buy\n",
       "1   Put  143.53  6.842162     Sell"
      ]
     },
     "execution_count": 85,
     "metadata": {},
     "output_type": "execute_result"
    }
   ],
   "source": [
    "risk_reversal_setup"
   ]
  },
  {
   "cell_type": "code",
   "execution_count": 86,
   "metadata": {},
   "outputs": [],
   "source": [
    "risk_reversal_result=pd.DataFrame(zip(np.arange(1.20,1.40,.01),np.maximum(np.arange(1.20,1.40,.01)-risk_reversal_setup.iloc[0,1],0)-risk_reversal_setup.iloc[0,2],\\\n",
    "-np.maximum(risk_reversal_setup.iloc[1,1]-(np.arange(1.20,1.40,.01)),0)+risk_reversal_setup.iloc[1,2]),columns=['Spot','Call','Put'])"
   ]
  },
  {
   "cell_type": "code",
   "execution_count": 87,
   "metadata": {},
   "outputs": [],
   "source": [
    "risk_reversal_result[\n",
    "    'Result'] = risk_reversal_result['Call'] + risk_reversal_result['Put']\n"
   ]
  },
  {
   "cell_type": "code",
   "execution_count": 88,
   "metadata": {},
   "outputs": [
    {
     "data": {
      "text/html": [
       "<div>\n",
       "<style scoped>\n",
       "    .dataframe tbody tr th:only-of-type {\n",
       "        vertical-align: middle;\n",
       "    }\n",
       "\n",
       "    .dataframe tbody tr th {\n",
       "        vertical-align: top;\n",
       "    }\n",
       "\n",
       "    .dataframe thead th {\n",
       "        text-align: right;\n",
       "    }\n",
       "</style>\n",
       "<table border=\"1\" class=\"dataframe\">\n",
       "  <thead>\n",
       "    <tr style=\"text-align: right;\">\n",
       "      <th></th>\n",
       "      <th>Spot</th>\n",
       "      <th>Call</th>\n",
       "      <th>Put</th>\n",
       "      <th>Result</th>\n",
       "    </tr>\n",
       "  </thead>\n",
       "  <tbody>\n",
       "    <tr>\n",
       "      <th>0</th>\n",
       "      <td>1.20</td>\n",
       "      <td>-6.244006</td>\n",
       "      <td>-135.487838</td>\n",
       "      <td>-141.731844</td>\n",
       "    </tr>\n",
       "    <tr>\n",
       "      <th>1</th>\n",
       "      <td>1.21</td>\n",
       "      <td>-6.244006</td>\n",
       "      <td>-135.477838</td>\n",
       "      <td>-141.721844</td>\n",
       "    </tr>\n",
       "    <tr>\n",
       "      <th>2</th>\n",
       "      <td>1.22</td>\n",
       "      <td>-6.244006</td>\n",
       "      <td>-135.467838</td>\n",
       "      <td>-141.711844</td>\n",
       "    </tr>\n",
       "    <tr>\n",
       "      <th>3</th>\n",
       "      <td>1.23</td>\n",
       "      <td>-6.244006</td>\n",
       "      <td>-135.457838</td>\n",
       "      <td>-141.701844</td>\n",
       "    </tr>\n",
       "    <tr>\n",
       "      <th>4</th>\n",
       "      <td>1.24</td>\n",
       "      <td>-6.244006</td>\n",
       "      <td>-135.447838</td>\n",
       "      <td>-141.691844</td>\n",
       "    </tr>\n",
       "    <tr>\n",
       "      <th>5</th>\n",
       "      <td>1.25</td>\n",
       "      <td>-6.244006</td>\n",
       "      <td>-135.437838</td>\n",
       "      <td>-141.681844</td>\n",
       "    </tr>\n",
       "    <tr>\n",
       "      <th>6</th>\n",
       "      <td>1.26</td>\n",
       "      <td>-6.244006</td>\n",
       "      <td>-135.427838</td>\n",
       "      <td>-141.671844</td>\n",
       "    </tr>\n",
       "    <tr>\n",
       "      <th>7</th>\n",
       "      <td>1.27</td>\n",
       "      <td>-6.244006</td>\n",
       "      <td>-135.417838</td>\n",
       "      <td>-141.661844</td>\n",
       "    </tr>\n",
       "    <tr>\n",
       "      <th>8</th>\n",
       "      <td>1.28</td>\n",
       "      <td>-6.244006</td>\n",
       "      <td>-135.407838</td>\n",
       "      <td>-141.651844</td>\n",
       "    </tr>\n",
       "    <tr>\n",
       "      <th>9</th>\n",
       "      <td>1.29</td>\n",
       "      <td>-6.244006</td>\n",
       "      <td>-135.397838</td>\n",
       "      <td>-141.641844</td>\n",
       "    </tr>\n",
       "    <tr>\n",
       "      <th>10</th>\n",
       "      <td>1.30</td>\n",
       "      <td>-6.244006</td>\n",
       "      <td>-135.387838</td>\n",
       "      <td>-141.631844</td>\n",
       "    </tr>\n",
       "    <tr>\n",
       "      <th>11</th>\n",
       "      <td>1.31</td>\n",
       "      <td>-6.244006</td>\n",
       "      <td>-135.377838</td>\n",
       "      <td>-141.621844</td>\n",
       "    </tr>\n",
       "    <tr>\n",
       "      <th>12</th>\n",
       "      <td>1.32</td>\n",
       "      <td>-6.244006</td>\n",
       "      <td>-135.367838</td>\n",
       "      <td>-141.611844</td>\n",
       "    </tr>\n",
       "    <tr>\n",
       "      <th>13</th>\n",
       "      <td>1.33</td>\n",
       "      <td>-6.244006</td>\n",
       "      <td>-135.357838</td>\n",
       "      <td>-141.601844</td>\n",
       "    </tr>\n",
       "    <tr>\n",
       "      <th>14</th>\n",
       "      <td>1.34</td>\n",
       "      <td>-6.244006</td>\n",
       "      <td>-135.347838</td>\n",
       "      <td>-141.591844</td>\n",
       "    </tr>\n",
       "    <tr>\n",
       "      <th>15</th>\n",
       "      <td>1.35</td>\n",
       "      <td>-6.244006</td>\n",
       "      <td>-135.337838</td>\n",
       "      <td>-141.581844</td>\n",
       "    </tr>\n",
       "    <tr>\n",
       "      <th>16</th>\n",
       "      <td>1.36</td>\n",
       "      <td>-6.244006</td>\n",
       "      <td>-135.327838</td>\n",
       "      <td>-141.571844</td>\n",
       "    </tr>\n",
       "    <tr>\n",
       "      <th>17</th>\n",
       "      <td>1.37</td>\n",
       "      <td>-6.244006</td>\n",
       "      <td>-135.317838</td>\n",
       "      <td>-141.561844</td>\n",
       "    </tr>\n",
       "    <tr>\n",
       "      <th>18</th>\n",
       "      <td>1.38</td>\n",
       "      <td>-6.244006</td>\n",
       "      <td>-135.307838</td>\n",
       "      <td>-141.551844</td>\n",
       "    </tr>\n",
       "    <tr>\n",
       "      <th>19</th>\n",
       "      <td>1.39</td>\n",
       "      <td>-6.244006</td>\n",
       "      <td>-135.297838</td>\n",
       "      <td>-141.541844</td>\n",
       "    </tr>\n",
       "  </tbody>\n",
       "</table>\n",
       "</div>"
      ],
      "text/plain": [
       "    Spot      Call         Put      Result\n",
       "0   1.20 -6.244006 -135.487838 -141.731844\n",
       "1   1.21 -6.244006 -135.477838 -141.721844\n",
       "2   1.22 -6.244006 -135.467838 -141.711844\n",
       "3   1.23 -6.244006 -135.457838 -141.701844\n",
       "4   1.24 -6.244006 -135.447838 -141.691844\n",
       "5   1.25 -6.244006 -135.437838 -141.681844\n",
       "6   1.26 -6.244006 -135.427838 -141.671844\n",
       "7   1.27 -6.244006 -135.417838 -141.661844\n",
       "8   1.28 -6.244006 -135.407838 -141.651844\n",
       "9   1.29 -6.244006 -135.397838 -141.641844\n",
       "10  1.30 -6.244006 -135.387838 -141.631844\n",
       "11  1.31 -6.244006 -135.377838 -141.621844\n",
       "12  1.32 -6.244006 -135.367838 -141.611844\n",
       "13  1.33 -6.244006 -135.357838 -141.601844\n",
       "14  1.34 -6.244006 -135.347838 -141.591844\n",
       "15  1.35 -6.244006 -135.337838 -141.581844\n",
       "16  1.36 -6.244006 -135.327838 -141.571844\n",
       "17  1.37 -6.244006 -135.317838 -141.561844\n",
       "18  1.38 -6.244006 -135.307838 -141.551844\n",
       "19  1.39 -6.244006 -135.297838 -141.541844"
      ]
     },
     "execution_count": 88,
     "metadata": {},
     "output_type": "execute_result"
    }
   ],
   "source": [
    "risk_reversal_result"
   ]
  },
  {
   "cell_type": "code",
   "execution_count": 89,
   "metadata": {},
   "outputs": [
    {
     "data": {
      "image/png": "[encoded data removed]",
      "text/plain": [
       "<Figure size 1000x600 with 1 Axes>"
      ]
     },
     "metadata": {},
     "output_type": "display_data"
    }
   ],
   "source": [
    "fig = plt.figure(figsize=(10, 6))\n",
    "plt.plot(risk_reversal_result.Spot, risk_reversal_result.Result)\n",
    "ax = plt.gca()\n",
    "ax.spines['left'].set_position('center')\n",
    "ax.spines['right'].set_color('none')\n",
    "ax.spines['bottom'].set_position('center')\n",
    "ax.spines['top'].set_color('none')\n",
    "ax.xaxis.set_ticks_position('bottom')\n",
    "ax.yaxis.set_ticks_position('left')\n",
    "ax.yaxis.set_ticks_position('left')\n",
    "_ = plt.title('Risk reversal', fontsize=18)\n"
   ]
  },
  {
   "cell_type": "markdown",
   "metadata": {},
   "source": [
    "# Выводы:\n"
   ]
  },
  {
   "cell_type": "markdown",
   "metadata": {},
   "source": [
    "1. Построена модель процентного свопа, за основу процентные ставки для USD.\n",
    "2. Построена модель валютного свопа, за основу взяты процентные ставки для двух валют -- USD и JPY --  и их валютный курс.\n",
    "3. Построена модель валютного опциона, за основу взята валютная пара USD/JPY.\n",
    "4. Смоделирована стратегия risk-reversal.\n"
   ]
  }
 ],
 "metadata": {
  "kernelspec": {
   "display_name": "Python 3.10.8 ('venv': venv)",
   "language": "python",
   "name": "python3"
  },
  "language_info": {
   "codemirror_mode": {
    "name": "ipython",
    "version": 3
   },
   "file_extension": ".py",
   "mimetype": "text/x-python",
   "name": "python",
   "nbconvert_exporter": "python",
   "pygments_lexer": "ipython3",
   "version": "3.10.8"
  },
  "vscode": {
   "interpreter": {
    "hash": "58047d06385e4029f2d8729d84d2d4d0057492a2f895b6498307dc24e9eb6975"
   }
  }
 },
 "nbformat": 4,
 "nbformat_minor": 2
}
