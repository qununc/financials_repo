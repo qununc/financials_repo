{
 "cells": [
  {
   "cell_type": "markdown",
   "metadata": {},
   "source": [
    "# Методы ценообразования опционов.Часть 3."
   ]
  },
  {
   "cell_type": "markdown",
   "metadata": {},
   "source": [
    "* <font size='5'>Black-Scholes</font>\n",
    "* <font size='5'>Finite-difference methods (методы конечных разностей)</font>"
   ]
  },
  {
   "cell_type": "markdown",
   "metadata": {},
   "source": [
    "## Цели и задачи:\n",
    "### 1. Изучить подходы к моделированию опционов методом Finite Difference (метод конечных разностей)\n",
    "### 2. Получить навык работы с классами  Python\n",
    "### 3. Получить дополнительные навыки работы с библиотеками NumPy и Pandas"
   ]
  },
  {
   "cell_type": "markdown",
   "metadata": {},
   "source": [
    "### Рекомендуемая литература:\n",
    "### 1.Levy G. Computational Finance. Numerical Methods for Pricing Financial Instruments\n",
    "### 2.Neftci N.S. An Introduction to the Mathematics of Financial Derivatives\n",
    "### 3.Hilpisch Y. Derivatives Analytics with Python: Data Analysis, Models, Simulation, Calibration and Hedging\n",
    "### 4.London J. Modelling Derivatives with C++\n",
    "### 5.Haug E.G. The Complete Guide to Option Pricing Formulas"
   ]
  },
  {
   "cell_type": "markdown",
   "metadata": {},
   "source": [
    "## 1.Загрузка библиотек"
   ]
  },
  {
   "cell_type": "code",
   "execution_count": 1,
   "metadata": {},
   "outputs": [],
   "source": [
    "import numpy as np\n",
    "import pandas as pd\n",
    "import matplotlib.pyplot as plt\n",
    "import math\n",
    "import scipy.linalg \n",
    "from scipy import stats\n",
    "from scipy.sparse import diags\n",
    "from scipy.linalg import lu"
   ]
  },
  {
   "cell_type": "markdown",
   "metadata": {},
   "source": [
    "## 2.Классы, необходимые для реализации моделей ценообразования опционов"
   ]
  },
  {
   "cell_type": "markdown",
   "metadata": {},
   "source": [
    "### Black-Scholes "
   ]
  },
  {
   "cell_type": "code",
   "execution_count": 2,
   "metadata": {},
   "outputs": [],
   "source": [
    "class BSM:\n",
    "        def __init__(self,S_0,K,r,T,sigma,div=0,t=0,is_call=True):\n",
    "            self._S_0=S_0\n",
    "            self._K=K\n",
    "            self._r=r\n",
    "            self._div=div\n",
    "            self._T=T\n",
    "            self._sigma=sigma\n",
    "            self._t=t\n",
    "            self._is_call=is_call  \n",
    "       \n",
    "        def __d_values__(self):\n",
    "            self._d1=(np.log(self._S_0/self._K)+(self._r-self._div+0.5*self._sigma**2)*(self._T-self._t))/(self._sigma*np.sqrt(self._T-self._t))\n",
    "            self._d2=self._d1-self._sigma*np.sqrt(self._T-self._t)\n",
    "            \n",
    "        def __N_d__(self,d_value):\n",
    "            return stats.norm.cdf(d_value)\n",
    "        \n",
    "        def __price__(self):\n",
    "            return (np.exp(-self._div*\\\n",
    "            (self._T-self._t))*self._S_0*self.__N_d__(self._d1)-np.exp(-self._r*\\\n",
    "            (self._T-self._t))*self._K*self.__N_d__(self._d2)) if self._is_call \\\n",
    "            else (np.exp(-self._r*(self._T-self._t))*self._K*self.__N_d__(-self._d2)- np.exp(-self._div*\\\n",
    "            (self._T-self._t))*self._S_0*self.__N_d__(-self._d1))\n",
    "            \n",
    "        def get_price(self):\n",
    "            self.__d_values__()\n",
    "            price=self.__price__()\n",
    "            return price\n",
    "        \n",
    "        def get_delta(self):\n",
    "            self.__d_values__()\n",
    "            return self.__N_d__(self._d1) if self._is_call else  self.__N_d__(self._d1)-1\n",
    "        \n",
    "        def get_vega(self):\n",
    "            self.__d_values__()\n",
    "            return (self._S_0*stats.norm.pdf(self._d1)*np.sqrt(self._T-self._t)*np.exp(-self._div*\\\n",
    "            (self._T-self._t)))/100"
   ]
  },
  {
   "cell_type": "markdown",
   "metadata": {},
   "source": [
    "### Finite difference methods"
   ]
  },
  {
   "cell_type": "code",
   "execution_count": 3,
   "metadata": {},
   "outputs": [],
   "source": [
    "class FDM_n:\n",
    "    def __init__(self,S_0,S_max,K,r,T,sigma,nas,nts,theta,q=0,t=0,is_call=True,is_european=True):\n",
    "        self._S_0=S_0\n",
    "        self._S_max=S_max\n",
    "        self._K=K\n",
    "        self._r=r\n",
    "        self._q=q\n",
    "        self._T=(T-t)/250\n",
    "        self._sigma=sigma\n",
    "        self._t=t\n",
    "        self._nas=nas\n",
    "        self._nts=nts\n",
    "        self._theta=theta\n",
    "        self._is_call=is_call\n",
    "        self._is_european=is_european\n",
    "    \n",
    "    def __get_index__(self):\n",
    "        return math.floor(self._S_0/self._S_max*self._nas)\n",
    "        \n",
    "    def __get_S_array__(self):\n",
    "        index_1=self.__get_index__()\n",
    "        index_2=self._nas-index_1\n",
    "        ds=self._S_0/index_1\n",
    "       # print(index_1,index_2,ds)\n",
    "        S_array=np.empty(self._nas)\n",
    "        S_array[0]=0\n",
    "        S_array[index_1]=self._S_0\n",
    "        S_array[1:(index_1)]=np.arange(1,index_1)*ds\n",
    "        S_array[(index_1+1):self._nas]=self._S_0+np.arange(1,index_2)*ds\n",
    "       # print(S_array)\n",
    "        return S_array       \n",
    "           \n",
    "    def __get_params__(self):\n",
    "       # print(self._q)\n",
    "        start=1\n",
    "        end=self._nas-1\n",
    "        array=np.arange(start,end)*(self._r-self._q)\n",
    "        delta_t=self._T/self._nts\n",
    "        array_sq=np.square(np.arange(start,end))*self._sigma**2\n",
    "        A=(1-self._theta)*(delta_t/2)*(-array+array_sq)\n",
    "        B=1-(1-self._theta)*delta_t*(self._r+array_sq)\n",
    "        C=(1-self._theta)*(delta_t/2)*(array+array_sq)\n",
    "        a=self._theta*(delta_t/2)*(array-array_sq)\n",
    "        b=1+self._theta*delta_t*(self._r+array_sq)\n",
    "        c=-self._theta*(delta_t/2)*(array+array_sq) \n",
    "        return (self.__get_matrix__(a,b,c), self.__get_matrix__(A,B,C),A[0],c[end-2])\n",
    "    \n",
    "    def __opt_value__(self,S,value=0):\n",
    "       # print((S - self._K)-value>0)\n",
    "        if self._is_call:        \n",
    "            return np.maximum(S - self._K,value)\n",
    "        else:\n",
    "            return np.maximum(self._K-S,value)\n",
    "    \n",
    "    def __get_matrix__(self,a,b,c):\n",
    "            diag_matrix=diags(diagonals=[b,a[1:],c[:-1]],offsets=[0,-1,1]).toarray()\n",
    "            return diag_matrix\n",
    "\n",
    "    def __get_rhs__(self, B, opt_val_array,a_1,c_end,val_min,val_max):\n",
    "        rhs=B.dot(opt_val_array)\n",
    "        #print(c_end,val_max)\n",
    "        rhs[0]+=-a_1*val_min\n",
    "        rhs[-1]+=-c_end*val_max\n",
    "       # print(rhs[-1])\n",
    "        return rhs\n",
    "    \n",
    "    def __LU_decomposition__(self, matrix_A):\n",
    "        _, l, u = lu(matrix_A)\n",
    "        return (l,u)\n",
    "    \n",
    "    def __iterations__(self):\n",
    "        A,B,a_1,c_end=self.__get_params__()\n",
    "        c_end/=self._theta\n",
    "        a_1/=self._theta\n",
    "        S_array=self.__get_S_array__()\n",
    "        opt_val_array=self.__opt_value__(S_array)\n",
    "        val_min=opt_val_array[0]\n",
    "        val_max=opt_val_array[-1]\n",
    "        start=1\n",
    "        end=self._nas-1\n",
    "        RHS=self.__get_rhs__(B,opt_val_array[start:end],a_1,c_end,val_min,val_max)\n",
    "        #print(RHS)\n",
    "        vals=np.empty([self._nas,self._nts+1])\n",
    "        vals[:,0]=S_array\n",
    "        vals[:,1]=opt_val_array\n",
    "        L,U=self.__LU_decomposition__(A)\n",
    "        for j in range(2,self._nts+1):   \n",
    "            y=np.linalg.solve(L,RHS)\n",
    "            opt_val_array[start:end]=np.linalg.solve(U,y)\n",
    "            if self._is_european==False:\n",
    "               # print('A')\n",
    "                opt_val_array=self.__opt_value__(S_array,opt_val_array)            \n",
    "            RHS=self.__get_rhs__(B,opt_val_array[start:end],a_1,c_end,val_min,val_max) \n",
    "           # print(RHS)\n",
    "            vals[:,j]=opt_val_array   \n",
    "        return np.round(vals,4)  \n",
    "    \n",
    "    def get_price(self):\n",
    "        vals=self.__iterations__()\n",
    "        df=pd.DataFrame(vals)\n",
    "        columns=['S']\n",
    "        columns.extend(list(range(self._nts-1,-1,-1)))\n",
    "        df.columns=columns\n",
    "        return df"
   ]
  },
  {
   "cell_type": "markdown",
   "metadata": {},
   "source": [
    "### Finite difference Greeks"
   ]
  },
  {
   "cell_type": "code",
   "execution_count": 4,
   "metadata": {},
   "outputs": [],
   "source": [
    "class Greeks_FD:\n",
    "        def __init__(self,S_0,grid,dt,t=0):\n",
    "            self._S_0=S_0\n",
    "            self._grid=grid\n",
    "            self._t=t\n",
    "            self._dt=dt\n",
    "        \n",
    "        def __get_index__(self):\n",
    "            index=self._grid.index[self._grid.S==self._S_0].tolist()[0]\n",
    "            return index\n",
    "        \n",
    "        def __get_ds__(self):\n",
    "            return self._grid.loc[1,'S']-self._grid.loc[0,'S']\n",
    "        \n",
    "        def __delta__(self):\n",
    "            index=self.__get_index__()\n",
    "            n=self._grid.shape[0]\n",
    "            ds=self.__get_ds__()\n",
    "            #print('ds',ds)\n",
    "            if  ((index-2<0)&(index+2>n)):\n",
    "                print('Index is near the boundaries')\n",
    "            else:\n",
    "                delta=(-self._grid.loc[index+2,self._t]+8*self._grid.loc[index+1,self._t]-8*self._grid.loc[index-1,self._t]+\\\n",
    "                      self._grid.loc[index-2,self._t])/(12*ds)\n",
    "                return delta\n",
    "            \n",
    "        def __gamma__(self):\n",
    "            index=self.__get_index__()\n",
    "            n=self._grid.shape[0]# количество шагов актива\n",
    "            if  ((index-2<0)&(index+2>n)):\n",
    "                print('Index is near the boundaries')\n",
    "            else:\n",
    "                ds=self.__get_ds__()\n",
    "                gamma=(-self._grid.iloc[index+2,self._t]+16*self._grid.iloc[index+1,self._t]-30*self._grid.iloc[index,self._t]+\n",
    "                      16*self._grid.iloc[index-1,self._t]-self._grid.iloc[index-2,self._t])/(12*ds**2)\n",
    "                return gamma\n",
    "                \n",
    "        def __theta__(self):\n",
    "            index=self.__get_index__()\n",
    "            n=self._grid.shape[1] # количество шагов времени\n",
    "            if  (self._t+3>n):\n",
    "                print('Index is near the boundaries')\n",
    "            else:\n",
    "                theta=(-self._grid.loc[index,self._t]+8*self._grid.loc[index,self._t+1]-8*self._grid.loc[index,self._t+2]+\n",
    "                       self._grid.loc[index,self._t+3])/(12*self._dt)\n",
    "                return theta    \n",
    "        \n",
    "        def  get_delta(self):  \n",
    "            return self.__delta__()\n",
    "        \n",
    "        def get_gamma(self):\n",
    "            return self.__gamma__()\n",
    "        \n",
    "        def get_theta(self):\n",
    "            return self.__theta__()"
   ]
  },
  {
   "cell_type": "markdown",
   "metadata": {},
   "source": [
    "### Функция, формирующая dataframe c ценами опционов"
   ]
  },
  {
   "cell_type": "code",
   "execution_count": 36,
   "metadata": {},
   "outputs": [],
   "source": [
    "def to_df(S_0,K,r,days,sigma,nas,nts,div,is_european):\n",
    "    Imp={}\n",
    "    #print('d',div)\n",
    "    for theta in (.5,1):\n",
    "        call={}\n",
    "        put={}\n",
    "        k=0\n",
    "        for ns in nas:\n",
    "            for nt in nts: \n",
    "                grid_call=FDM_n(S_0,2*K,K,r,days,sigma,ns,nt,theta,q=div,is_call=True,is_european=is_european).get_price()\n",
    "                call[k]=(grid_call.loc[grid_call.S==S_0,0].tolist(),(ns,nt))\n",
    "                grid_put=(FDM_n(S_0,2*K,K,r,days,sigma,ns,nt,theta,q=div,is_call=False,is_european=is_european).get_price())\n",
    "                put[k]=(grid_put.loc[grid_call.S==S_0,0].tolist(),(ns,nt))\n",
    "                k+=1\n",
    "        Imp[theta]={'call':call,'put':put}\n",
    "    option_FD=pd.DataFrame([Imp[0.5]['call'],Imp[0.5]['put'],Imp[1]['call'],Imp[1]['put']]).transpose()\n",
    "    option_FD.columns=['CN_call','CN_put','FI_call','FI_put']\n",
    "    option_FD['NAS']=option_FD['CN_call'].apply(lambda x:x[1][0])\n",
    "    option_FD['NTS']=option_FD['CN_call'].apply(lambda x:x[1][1])\n",
    "    option_FD.iloc[:,0:4]=option_FD.iloc[:,0:4].applymap(lambda x:x[0][0])\n",
    "    cols = option_FD.columns.tolist()\n",
    "    cols=cols[-2:]+cols[:-2]\n",
    "    return option_FD[cols]"
   ]
  },
  {
   "cell_type": "code",
   "execution_count": 6,
   "metadata": {},
   "outputs": [],
   "source": [
    "def get_Greeks(grid,S_0,dt):\n",
    "    return {'delta':Greeks_FD(S_0,grid,dt).get_delta(), \n",
    "            'gamma':Greeks_FD(S_0,grid,dt).get_gamma(),'theta':Greeks_FD(S_0,grid,dt).get_theta()}"
   ]
  },
  {
   "cell_type": "markdown",
   "metadata": {},
   "source": [
    "## 3.Реализация методов"
   ]
  },
  {
   "cell_type": "code",
   "execution_count": 7,
   "metadata": {},
   "outputs": [],
   "source": [
    "K=105\n",
    "S_0=105\n",
    "r=0.014\n",
    "sigma=0.2# годовое значение\n",
    "days=250\n",
    "div=0.01"
   ]
  },
  {
   "cell_type": "markdown",
   "metadata": {},
   "source": [
    "### 3.1. Black-Scholes"
   ]
  },
  {
   "cell_type": "code",
   "execution_count": 8,
   "metadata": {},
   "outputs": [],
   "source": [
    "option_call=BSM(S_0,K,r,days/250,sigma,div=div,is_call=True).get_price()"
   ]
  },
  {
   "cell_type": "code",
   "execution_count": 9,
   "metadata": {},
   "outputs": [
    {
     "data": {
      "text/plain": [
       "8.473238459246168"
      ]
     },
     "execution_count": 9,
     "metadata": {},
     "output_type": "execute_result"
    }
   ],
   "source": [
    "option_call"
   ]
  },
  {
   "cell_type": "code",
   "execution_count": 10,
   "metadata": {},
   "outputs": [
    {
     "data": {
      "text/plain": [
       "0.5674949316750384"
      ]
     },
     "execution_count": 10,
     "metadata": {},
     "output_type": "execute_result"
    }
   ],
   "source": [
    "BSM(S_0,K,r,days/250,sigma,is_call=True).get_delta()"
   ]
  },
  {
   "cell_type": "code",
   "execution_count": 11,
   "metadata": {},
   "outputs": [],
   "source": [
    "option_put=BSM(S_0,K,r,days/250,sigma,div=div,is_call=False).get_price()"
   ]
  },
  {
   "cell_type": "code",
   "execution_count": 12,
   "metadata": {},
   "outputs": [
    {
     "data": {
      "text/plain": [
       "8.058248063184017"
      ]
     },
     "execution_count": 12,
     "metadata": {},
     "output_type": "execute_result"
    }
   ],
   "source": [
    "option_put"
   ]
  },
  {
   "cell_type": "code",
   "execution_count": 13,
   "metadata": {},
   "outputs": [
    {
     "data": {
      "text/plain": [
       "-0.4325050683249616"
      ]
     },
     "execution_count": 13,
     "metadata": {},
     "output_type": "execute_result"
    }
   ],
   "source": [
    "BSM(S_0,K,r,days/250,sigma,is_call=False).get_delta()"
   ]
  },
  {
   "cell_type": "markdown",
   "metadata": {},
   "source": [
    "### Проверка паритет пут-колл для европейского опциона (BS)"
   ]
  },
  {
   "cell_type": "code",
   "execution_count": 14,
   "metadata": {},
   "outputs": [
    {
     "data": {
      "text/plain": [
       "112.01348060684666"
      ]
     },
     "execution_count": 14,
     "metadata": {},
     "output_type": "execute_result"
    }
   ],
   "source": [
    "K*np.exp(-r*(days/250-0))+option_call"
   ]
  },
  {
   "cell_type": "code",
   "execution_count": 15,
   "metadata": {},
   "outputs": [
    {
     "data": {
      "text/plain": [
       "112.01348060684666"
      ]
     },
     "execution_count": 15,
     "metadata": {},
     "output_type": "execute_result"
    }
   ],
   "source": [
    "np.exp(-div*(days/250-0))*S_0+option_put"
   ]
  },
  {
   "cell_type": "markdown",
   "metadata": {},
   "source": [
    "### 3.2. Finite difference methods"
   ]
  },
  {
   "cell_type": "markdown",
   "metadata": {},
   "source": [
    "### Для моделирования используется так называемый $\\theta$-метод. Данный метод (алгоритм) обобщает различные спецификации модели. Класс, рассматриваемый в примере, реализован для $\\theta>0$  и основан на решении системы линейных уравнений. Алгоритм явного метода (explicit), $\\theta=0$, реализуется с помощью простого цикла."
   ]
  },
  {
   "cell_type": "markdown",
   "metadata": {},
   "source": [
    "* $\\theta=0$ - Explicit\n",
    "* $\\theta=1$ - Fully Implicit\n",
    "* $\\theta=0.5$ - Crank-Nikolson"
   ]
  },
  {
   "cell_type": "markdown",
   "metadata": {},
   "source": [
    "### Модель FD строится для массива шагов цен актива и времени"
   ]
  },
  {
   "cell_type": "code",
   "execution_count": 16,
   "metadata": {},
   "outputs": [],
   "source": [
    "nas_tuple=(20,50,100)\n",
    "nts_tuple=(20,50,100)"
   ]
  },
  {
   "cell_type": "markdown",
   "metadata": {},
   "source": [
    "### Европейский опцион"
   ]
  },
  {
   "cell_type": "code",
   "execution_count": 35,
   "metadata": {},
   "outputs": [
    {
     "data": {
      "text/html": [
       "<div>\n",
       "<style scoped>\n",
       "    .dataframe tbody tr th:only-of-type {\n",
       "        vertical-align: middle;\n",
       "    }\n",
       "\n",
       "    .dataframe tbody tr th {\n",
       "        vertical-align: top;\n",
       "    }\n",
       "\n",
       "    .dataframe thead th {\n",
       "        text-align: right;\n",
       "    }\n",
       "</style>\n",
       "<table border=\"1\" class=\"dataframe\">\n",
       "  <thead>\n",
       "    <tr style=\"text-align: right;\">\n",
       "      <th></th>\n",
       "      <th>NAS</th>\n",
       "      <th>NTS</th>\n",
       "      <th>CN_call</th>\n",
       "      <th>CN_put</th>\n",
       "      <th>FI_call</th>\n",
       "      <th>FI_put</th>\n",
       "    </tr>\n",
       "  </thead>\n",
       "  <tbody>\n",
       "    <tr>\n",
       "      <th>0</th>\n",
       "      <td>20</td>\n",
       "      <td>20</td>\n",
       "      <td>([7.9827], (20, 20))</td>\n",
       "      <td>([7.5881], (20, 20))</td>\n",
       "      <td>([7.9181], (20, 20))</td>\n",
       "      <td>([7.5237], (20, 20))</td>\n",
       "    </tr>\n",
       "    <tr>\n",
       "      <th>1</th>\n",
       "      <td>20</td>\n",
       "      <td>50</td>\n",
       "      <td>([8.1162], (20, 50))</td>\n",
       "      <td>([7.7093], (20, 50))</td>\n",
       "      <td>([8.0912], (20, 50))</td>\n",
       "      <td>([7.6843], (20, 50))</td>\n",
       "    </tr>\n",
       "    <tr>\n",
       "      <th>2</th>\n",
       "      <td>20</td>\n",
       "      <td>100</td>\n",
       "      <td>([8.1604], (20, 100))</td>\n",
       "      <td>([7.7494], (20, 100))</td>\n",
       "      <td>([8.148], (20, 100))</td>\n",
       "      <td>([7.737], (20, 100))</td>\n",
       "    </tr>\n",
       "    <tr>\n",
       "      <th>3</th>\n",
       "      <td>50</td>\n",
       "      <td>20</td>\n",
       "      <td>([8.2177], (50, 20))</td>\n",
       "      <td>([7.8232], (50, 20))</td>\n",
       "      <td>([8.1604], (50, 20))</td>\n",
       "      <td>([7.7661], (50, 20))</td>\n",
       "    </tr>\n",
       "    <tr>\n",
       "      <th>4</th>\n",
       "      <td>50</td>\n",
       "      <td>50</td>\n",
       "      <td>([8.3469], (50, 50))</td>\n",
       "      <td>([7.9401], (50, 50))</td>\n",
       "      <td>([8.3245], (50, 50))</td>\n",
       "      <td>([7.9177], (50, 50))</td>\n",
       "    </tr>\n",
       "    <tr>\n",
       "      <th>5</th>\n",
       "      <td>50</td>\n",
       "      <td>100</td>\n",
       "      <td>([8.3896], (50, 100))</td>\n",
       "      <td>([7.9787], (50, 100))</td>\n",
       "      <td>([8.3785], (50, 100))</td>\n",
       "      <td>([7.9676], (50, 100))</td>\n",
       "    </tr>\n",
       "    <tr>\n",
       "      <th>6</th>\n",
       "      <td>100</td>\n",
       "      <td>20</td>\n",
       "      <td>([8.2494], (100, 20))</td>\n",
       "      <td>([7.8549], (100, 20))</td>\n",
       "      <td>([8.1928], (100, 20))</td>\n",
       "      <td>([7.7985], (100, 20))</td>\n",
       "    </tr>\n",
       "    <tr>\n",
       "      <th>7</th>\n",
       "      <td>100</td>\n",
       "      <td>50</td>\n",
       "      <td>([8.3781], (100, 50))</td>\n",
       "      <td>([7.9713], (100, 50))</td>\n",
       "      <td>([8.3559], (100, 50))</td>\n",
       "      <td>([7.9492], (100, 50))</td>\n",
       "    </tr>\n",
       "    <tr>\n",
       "      <th>8</th>\n",
       "      <td>100</td>\n",
       "      <td>100</td>\n",
       "      <td>([8.4207], (100, 100))</td>\n",
       "      <td>([8.0097], (100, 100))</td>\n",
       "      <td>([8.4097], (100, 100))</td>\n",
       "      <td>([7.9988], (100, 100))</td>\n",
       "    </tr>\n",
       "  </tbody>\n",
       "</table>\n",
       "</div>"
      ],
      "text/plain": [
       "   NAS  NTS                 CN_call                  CN_put  \\\n",
       "0   20   20    ([7.9827], (20, 20))    ([7.5881], (20, 20))   \n",
       "1   20   50    ([8.1162], (20, 50))    ([7.7093], (20, 50))   \n",
       "2   20  100   ([8.1604], (20, 100))   ([7.7494], (20, 100))   \n",
       "3   50   20    ([8.2177], (50, 20))    ([7.8232], (50, 20))   \n",
       "4   50   50    ([8.3469], (50, 50))    ([7.9401], (50, 50))   \n",
       "5   50  100   ([8.3896], (50, 100))   ([7.9787], (50, 100))   \n",
       "6  100   20   ([8.2494], (100, 20))   ([7.8549], (100, 20))   \n",
       "7  100   50   ([8.3781], (100, 50))   ([7.9713], (100, 50))   \n",
       "8  100  100  ([8.4207], (100, 100))  ([8.0097], (100, 100))   \n",
       "\n",
       "                  FI_call                  FI_put  \n",
       "0    ([7.9181], (20, 20))    ([7.5237], (20, 20))  \n",
       "1    ([8.0912], (20, 50))    ([7.6843], (20, 50))  \n",
       "2    ([8.148], (20, 100))    ([7.737], (20, 100))  \n",
       "3    ([8.1604], (50, 20))    ([7.7661], (50, 20))  \n",
       "4    ([8.3245], (50, 50))    ([7.9177], (50, 50))  \n",
       "5   ([8.3785], (50, 100))   ([7.9676], (50, 100))  \n",
       "6   ([8.1928], (100, 20))   ([7.7985], (100, 20))  \n",
       "7   ([8.3559], (100, 50))   ([7.9492], (100, 50))  \n",
       "8  ([8.4097], (100, 100))  ([7.9988], (100, 100))  "
      ]
     },
     "execution_count": 35,
     "metadata": {},
     "output_type": "execute_result"
    }
   ],
   "source": [
    "to_df(S_0,K,r,days,sigma,nas_tuple,nts_tuple,div=div,is_european=True)"
   ]
  },
  {
   "cell_type": "markdown",
   "metadata": {},
   "source": [
    "### Американский опцион"
   ]
  },
  {
   "cell_type": "code",
   "execution_count": 18,
   "metadata": {},
   "outputs": [
    {
     "name": "stderr",
     "output_type": "stream",
     "text": [
      "C:\\Users\\drouni\\AppData\\Local\\Temp\\ipykernel_13324\\3562230186.py:20: FutureWarning: In a future version, `df.iloc[:, i] = newvals` will attempt to set the values inplace instead of always setting a new array. To retain the old behavior, use either `df[df.columns[i]] = newvals` or, if columns are non-unique, `df.isetitem(i, newvals)`\n",
      "  option_FD.iloc[:,0:4]=option_FD.iloc[:,0:4].applymap(lambda x:x[0][0])\n"
     ]
    },
    {
     "data": {
      "text/html": [
       "<div>\n",
       "<style scoped>\n",
       "    .dataframe tbody tr th:only-of-type {\n",
       "        vertical-align: middle;\n",
       "    }\n",
       "\n",
       "    .dataframe tbody tr th {\n",
       "        vertical-align: top;\n",
       "    }\n",
       "\n",
       "    .dataframe thead th {\n",
       "        text-align: right;\n",
       "    }\n",
       "</style>\n",
       "<table border=\"1\" class=\"dataframe\">\n",
       "  <thead>\n",
       "    <tr style=\"text-align: right;\">\n",
       "      <th></th>\n",
       "      <th>NAS</th>\n",
       "      <th>NTS</th>\n",
       "      <th>CN_call</th>\n",
       "      <th>CN_put</th>\n",
       "      <th>FI_call</th>\n",
       "      <th>FI_put</th>\n",
       "    </tr>\n",
       "  </thead>\n",
       "  <tbody>\n",
       "    <tr>\n",
       "      <th>0</th>\n",
       "      <td>20</td>\n",
       "      <td>20</td>\n",
       "      <td>7.9834</td>\n",
       "      <td>7.6185</td>\n",
       "      <td>7.9188</td>\n",
       "      <td>7.5510</td>\n",
       "    </tr>\n",
       "    <tr>\n",
       "      <th>1</th>\n",
       "      <td>20</td>\n",
       "      <td>50</td>\n",
       "      <td>8.1171</td>\n",
       "      <td>7.7431</td>\n",
       "      <td>8.0920</td>\n",
       "      <td>7.7160</td>\n",
       "    </tr>\n",
       "    <tr>\n",
       "      <th>2</th>\n",
       "      <td>20</td>\n",
       "      <td>100</td>\n",
       "      <td>8.1613</td>\n",
       "      <td>7.7841</td>\n",
       "      <td>8.1489</td>\n",
       "      <td>7.7706</td>\n",
       "    </tr>\n",
       "    <tr>\n",
       "      <th>3</th>\n",
       "      <td>50</td>\n",
       "      <td>20</td>\n",
       "      <td>8.2184</td>\n",
       "      <td>7.8590</td>\n",
       "      <td>8.1612</td>\n",
       "      <td>7.7958</td>\n",
       "    </tr>\n",
       "    <tr>\n",
       "      <th>4</th>\n",
       "      <td>50</td>\n",
       "      <td>50</td>\n",
       "      <td>8.3477</td>\n",
       "      <td>7.9795</td>\n",
       "      <td>8.3253</td>\n",
       "      <td>7.9540</td>\n",
       "    </tr>\n",
       "    <tr>\n",
       "      <th>5</th>\n",
       "      <td>50</td>\n",
       "      <td>100</td>\n",
       "      <td>8.3905</td>\n",
       "      <td>8.0193</td>\n",
       "      <td>8.3794</td>\n",
       "      <td>8.0064</td>\n",
       "    </tr>\n",
       "    <tr>\n",
       "      <th>6</th>\n",
       "      <td>100</td>\n",
       "      <td>20</td>\n",
       "      <td>8.2501</td>\n",
       "      <td>7.8920</td>\n",
       "      <td>8.1936</td>\n",
       "      <td>7.8289</td>\n",
       "    </tr>\n",
       "    <tr>\n",
       "      <th>7</th>\n",
       "      <td>100</td>\n",
       "      <td>50</td>\n",
       "      <td>8.3789</td>\n",
       "      <td>8.0123</td>\n",
       "      <td>8.3568</td>\n",
       "      <td>7.9865</td>\n",
       "    </tr>\n",
       "    <tr>\n",
       "      <th>8</th>\n",
       "      <td>100</td>\n",
       "      <td>100</td>\n",
       "      <td>8.4215</td>\n",
       "      <td>8.0521</td>\n",
       "      <td>8.4106</td>\n",
       "      <td>8.0390</td>\n",
       "    </tr>\n",
       "  </tbody>\n",
       "</table>\n",
       "</div>"
      ],
      "text/plain": [
       "   NAS  NTS  CN_call  CN_put  FI_call  FI_put\n",
       "0   20   20   7.9834  7.6185   7.9188  7.5510\n",
       "1   20   50   8.1171  7.7431   8.0920  7.7160\n",
       "2   20  100   8.1613  7.7841   8.1489  7.7706\n",
       "3   50   20   8.2184  7.8590   8.1612  7.7958\n",
       "4   50   50   8.3477  7.9795   8.3253  7.9540\n",
       "5   50  100   8.3905  8.0193   8.3794  8.0064\n",
       "6  100   20   8.2501  7.8920   8.1936  7.8289\n",
       "7  100   50   8.3789  8.0123   8.3568  7.9865\n",
       "8  100  100   8.4215  8.0521   8.4106  8.0390"
      ]
     },
     "execution_count": 18,
     "metadata": {},
     "output_type": "execute_result"
    }
   ],
   "source": [
    "to_df(S_0,K,r,days,sigma,nas_tuple,nts_tuple,div=div,is_european=False)"
   ]
  },
  {
   "cell_type": "markdown",
   "metadata": {},
   "source": [
    "### Представление сетки (grid) в виде dataframe"
   ]
  },
  {
   "cell_type": "code",
   "execution_count": 19,
   "metadata": {},
   "outputs": [],
   "source": [
    "nas=50\n",
    "nts=50\n",
    "theta=1"
   ]
  },
  {
   "cell_type": "code",
   "execution_count": 20,
   "metadata": {},
   "outputs": [],
   "source": [
    "grid_call=FDM_n(S_0,2*K,K,r,days,sigma,nas,nts,theta,q=div,is_call=True).get_price()"
   ]
  },
  {
   "cell_type": "code",
   "execution_count": 21,
   "metadata": {},
   "outputs": [
    {
     "data": {
      "text/html": [
       "<div>\n",
       "<style scoped>\n",
       "    .dataframe tbody tr th:only-of-type {\n",
       "        vertical-align: middle;\n",
       "    }\n",
       "\n",
       "    .dataframe tbody tr th {\n",
       "        vertical-align: top;\n",
       "    }\n",
       "\n",
       "    .dataframe thead th {\n",
       "        text-align: right;\n",
       "    }\n",
       "</style>\n",
       "<table border=\"1\" class=\"dataframe\">\n",
       "  <thead>\n",
       "    <tr style=\"text-align: right;\">\n",
       "      <th></th>\n",
       "      <th>S</th>\n",
       "      <th>49</th>\n",
       "      <th>48</th>\n",
       "      <th>47</th>\n",
       "      <th>46</th>\n",
       "      <th>4</th>\n",
       "      <th>3</th>\n",
       "      <th>2</th>\n",
       "      <th>1</th>\n",
       "      <th>0</th>\n",
       "    </tr>\n",
       "  </thead>\n",
       "  <tbody>\n",
       "    <tr>\n",
       "      <th>0</th>\n",
       "      <td>0.0</td>\n",
       "      <td>0.0</td>\n",
       "      <td>0.0000</td>\n",
       "      <td>0.0000</td>\n",
       "      <td>0.0000</td>\n",
       "      <td>0.0000</td>\n",
       "      <td>0.0000</td>\n",
       "      <td>0.0000</td>\n",
       "      <td>0.0000</td>\n",
       "      <td>0.0000</td>\n",
       "    </tr>\n",
       "    <tr>\n",
       "      <th>1</th>\n",
       "      <td>4.2</td>\n",
       "      <td>0.0</td>\n",
       "      <td>0.0000</td>\n",
       "      <td>0.0000</td>\n",
       "      <td>0.0000</td>\n",
       "      <td>0.0000</td>\n",
       "      <td>0.0000</td>\n",
       "      <td>0.0000</td>\n",
       "      <td>0.0000</td>\n",
       "      <td>0.0000</td>\n",
       "    </tr>\n",
       "    <tr>\n",
       "      <th>2</th>\n",
       "      <td>8.4</td>\n",
       "      <td>0.0</td>\n",
       "      <td>0.0000</td>\n",
       "      <td>0.0000</td>\n",
       "      <td>0.0000</td>\n",
       "      <td>0.0000</td>\n",
       "      <td>0.0000</td>\n",
       "      <td>0.0000</td>\n",
       "      <td>0.0000</td>\n",
       "      <td>0.0000</td>\n",
       "    </tr>\n",
       "    <tr>\n",
       "      <th>3</th>\n",
       "      <td>12.6</td>\n",
       "      <td>0.0</td>\n",
       "      <td>0.0000</td>\n",
       "      <td>0.0000</td>\n",
       "      <td>0.0000</td>\n",
       "      <td>0.0000</td>\n",
       "      <td>0.0000</td>\n",
       "      <td>0.0000</td>\n",
       "      <td>0.0000</td>\n",
       "      <td>0.0000</td>\n",
       "    </tr>\n",
       "    <tr>\n",
       "      <th>4</th>\n",
       "      <td>16.8</td>\n",
       "      <td>0.0</td>\n",
       "      <td>0.0000</td>\n",
       "      <td>0.0000</td>\n",
       "      <td>0.0000</td>\n",
       "      <td>0.0000</td>\n",
       "      <td>0.0000</td>\n",
       "      <td>0.0000</td>\n",
       "      <td>0.0000</td>\n",
       "      <td>0.0000</td>\n",
       "    </tr>\n",
       "    <tr>\n",
       "      <th>45</th>\n",
       "      <td>189.0</td>\n",
       "      <td>84.0</td>\n",
       "      <td>83.9918</td>\n",
       "      <td>83.9839</td>\n",
       "      <td>83.9765</td>\n",
       "      <td>83.8663</td>\n",
       "      <td>83.8663</td>\n",
       "      <td>83.8664</td>\n",
       "      <td>83.8666</td>\n",
       "      <td>83.8670</td>\n",
       "    </tr>\n",
       "    <tr>\n",
       "      <th>46</th>\n",
       "      <td>193.2</td>\n",
       "      <td>88.2</td>\n",
       "      <td>88.1913</td>\n",
       "      <td>88.1834</td>\n",
       "      <td>88.1763</td>\n",
       "      <td>88.0834</td>\n",
       "      <td>88.0833</td>\n",
       "      <td>88.0832</td>\n",
       "      <td>88.0833</td>\n",
       "      <td>88.0835</td>\n",
       "    </tr>\n",
       "    <tr>\n",
       "      <th>47</th>\n",
       "      <td>197.4</td>\n",
       "      <td>92.4</td>\n",
       "      <td>92.3915</td>\n",
       "      <td>92.3844</td>\n",
       "      <td>92.3784</td>\n",
       "      <td>92.3111</td>\n",
       "      <td>92.3109</td>\n",
       "      <td>92.3109</td>\n",
       "      <td>92.3109</td>\n",
       "      <td>92.3109</td>\n",
       "    </tr>\n",
       "    <tr>\n",
       "      <th>48</th>\n",
       "      <td>201.6</td>\n",
       "      <td>96.6</td>\n",
       "      <td>96.5934</td>\n",
       "      <td>96.5888</td>\n",
       "      <td>96.5852</td>\n",
       "      <td>96.5498</td>\n",
       "      <td>96.5497</td>\n",
       "      <td>96.5496</td>\n",
       "      <td>96.5496</td>\n",
       "      <td>96.5496</td>\n",
       "    </tr>\n",
       "    <tr>\n",
       "      <th>49</th>\n",
       "      <td>205.8</td>\n",
       "      <td>100.8</td>\n",
       "      <td>100.8000</td>\n",
       "      <td>100.8000</td>\n",
       "      <td>100.8000</td>\n",
       "      <td>100.8000</td>\n",
       "      <td>100.8000</td>\n",
       "      <td>100.8000</td>\n",
       "      <td>100.8000</td>\n",
       "      <td>100.8000</td>\n",
       "    </tr>\n",
       "  </tbody>\n",
       "</table>\n",
       "</div>"
      ],
      "text/plain": [
       "        S     49        48        47        46         4         3         2  \\\n",
       "0     0.0    0.0    0.0000    0.0000    0.0000    0.0000    0.0000    0.0000   \n",
       "1     4.2    0.0    0.0000    0.0000    0.0000    0.0000    0.0000    0.0000   \n",
       "2     8.4    0.0    0.0000    0.0000    0.0000    0.0000    0.0000    0.0000   \n",
       "3    12.6    0.0    0.0000    0.0000    0.0000    0.0000    0.0000    0.0000   \n",
       "4    16.8    0.0    0.0000    0.0000    0.0000    0.0000    0.0000    0.0000   \n",
       "45  189.0   84.0   83.9918   83.9839   83.9765   83.8663   83.8663   83.8664   \n",
       "46  193.2   88.2   88.1913   88.1834   88.1763   88.0834   88.0833   88.0832   \n",
       "47  197.4   92.4   92.3915   92.3844   92.3784   92.3111   92.3109   92.3109   \n",
       "48  201.6   96.6   96.5934   96.5888   96.5852   96.5498   96.5497   96.5496   \n",
       "49  205.8  100.8  100.8000  100.8000  100.8000  100.8000  100.8000  100.8000   \n",
       "\n",
       "           1         0  \n",
       "0     0.0000    0.0000  \n",
       "1     0.0000    0.0000  \n",
       "2     0.0000    0.0000  \n",
       "3     0.0000    0.0000  \n",
       "4     0.0000    0.0000  \n",
       "45   83.8666   83.8670  \n",
       "46   88.0833   88.0835  \n",
       "47   92.3109   92.3109  \n",
       "48   96.5496   96.5496  \n",
       "49  100.8000  100.8000  "
      ]
     },
     "execution_count": 21,
     "metadata": {},
     "output_type": "execute_result"
    }
   ],
   "source": [
    "grid_call.iloc[[*range(5), *range(-5, 0)],[*range(5), *range(-5, 0)]]"
   ]
  },
  {
   "cell_type": "markdown",
   "metadata": {},
   "source": [
    "### Пример расчета цен опциона для цены актива, соответствующей текущей цене"
   ]
  },
  {
   "cell_type": "code",
   "execution_count": 22,
   "metadata": {},
   "outputs": [
    {
     "data": {
      "text/plain": [
       "8.3245"
      ]
     },
     "execution_count": 22,
     "metadata": {},
     "output_type": "execute_result"
    }
   ],
   "source": [
    "call=grid_call.loc[grid_call.S==S_0,0].tolist()\n",
    "call=call[0]\n",
    "call"
   ]
  },
  {
   "cell_type": "code",
   "execution_count": 23,
   "metadata": {},
   "outputs": [],
   "source": [
    "grid_put=FDM_n(S_0,2*K,K,r,days,sigma,nas,nts,theta,q=div,is_call=False).get_price()"
   ]
  },
  {
   "cell_type": "code",
   "execution_count": 24,
   "metadata": {},
   "outputs": [
    {
     "data": {
      "text/plain": [
       "7.9177"
      ]
     },
     "execution_count": 24,
     "metadata": {},
     "output_type": "execute_result"
    }
   ],
   "source": [
    "put=grid_put.loc[grid_put.S==S_0,0].tolist()\n",
    "put=put[0]\n",
    "put"
   ]
  },
  {
   "cell_type": "markdown",
   "metadata": {},
   "source": [
    "### Проверка паритет пут-колл для европейского опциона (FD)"
   ]
  },
  {
   "cell_type": "code",
   "execution_count": 25,
   "metadata": {},
   "outputs": [
    {
     "data": {
      "text/plain": [
       "111.8647421476005"
      ]
     },
     "execution_count": 25,
     "metadata": {},
     "output_type": "execute_result"
    }
   ],
   "source": [
    "K*np.exp(-r*(days/250-0))+call"
   ]
  },
  {
   "cell_type": "code",
   "execution_count": 26,
   "metadata": {},
   "outputs": [
    {
     "data": {
      "text/plain": [
       "111.87293254366264"
      ]
     },
     "execution_count": 26,
     "metadata": {},
     "output_type": "execute_result"
    }
   ],
   "source": [
    "np.exp(-div*(days/250-0))*S_0+put"
   ]
  },
  {
   "cell_type": "markdown",
   "metadata": {},
   "source": [
    "### 3.3. Расчет показателей чувствительности опциона методов FD"
   ]
  },
  {
   "cell_type": "code",
   "execution_count": 27,
   "metadata": {},
   "outputs": [
    {
     "data": {
      "text/plain": [
       "0.02"
      ]
     },
     "execution_count": 27,
     "metadata": {},
     "output_type": "execute_result"
    }
   ],
   "source": [
    "dt=days/250/nts\n",
    "dt"
   ]
  },
  {
   "cell_type": "code",
   "execution_count": 28,
   "metadata": {},
   "outputs": [
    {
     "data": {
      "text/plain": [
       "{'delta': 0.5420099206349204,\n",
       " 'gamma': -4.0280200439914974e-16,\n",
       " 'theta': 1.8225000000000084}"
      ]
     },
     "execution_count": 28,
     "metadata": {},
     "output_type": "execute_result"
    }
   ],
   "source": [
    "get_Greeks(grid_call,S_0,dt)"
   ]
  },
  {
   "cell_type": "code",
   "execution_count": 29,
   "metadata": {},
   "outputs": [
    {
     "data": {
      "text/plain": [
       "{'delta': -0.4482380952380952,\n",
       " 'gamma': -4.0280200439914974e-16,\n",
       " 'theta': 1.6520833333333171}"
      ]
     },
     "execution_count": 29,
     "metadata": {},
     "output_type": "execute_result"
    }
   ],
   "source": [
    "get_Greeks(grid_put,S_0,dt)"
   ]
  },
  {
   "cell_type": "code",
   "execution_count": 30,
   "metadata": {},
   "outputs": [
    {
     "data": {
      "text/html": [
       "<div>\n",
       "<style scoped>\n",
       "    .dataframe tbody tr th:only-of-type {\n",
       "        vertical-align: middle;\n",
       "    }\n",
       "\n",
       "    .dataframe tbody tr th {\n",
       "        vertical-align: top;\n",
       "    }\n",
       "\n",
       "    .dataframe thead th {\n",
       "        text-align: right;\n",
       "    }\n",
       "</style>\n",
       "<table border=\"1\" class=\"dataframe\">\n",
       "  <thead>\n",
       "    <tr style=\"text-align: right;\">\n",
       "      <th></th>\n",
       "      <th>Put</th>\n",
       "      <th>Call</th>\n",
       "    </tr>\n",
       "  </thead>\n",
       "  <tbody>\n",
       "    <tr>\n",
       "      <th>delta</th>\n",
       "      <td>0.5420</td>\n",
       "      <td>-0.4482</td>\n",
       "    </tr>\n",
       "    <tr>\n",
       "      <th>gamma</th>\n",
       "      <td>-0.0000</td>\n",
       "      <td>-0.0000</td>\n",
       "    </tr>\n",
       "    <tr>\n",
       "      <th>theta</th>\n",
       "      <td>1.8225</td>\n",
       "      <td>1.6521</td>\n",
       "    </tr>\n",
       "  </tbody>\n",
       "</table>\n",
       "</div>"
      ],
      "text/plain": [
       "          Put    Call\n",
       "delta  0.5420 -0.4482\n",
       "gamma -0.0000 -0.0000\n",
       "theta  1.8225  1.6521"
      ]
     },
     "execution_count": 30,
     "metadata": {},
     "output_type": "execute_result"
    }
   ],
   "source": [
    "df_Greeks=pd.DataFrame([get_Greeks(grid_call,S_0,dt),get_Greeks(grid_put,S_0,dt)]).transpose()\n",
    "df_Greeks.columns=['Put','Call']\n",
    "df_Greeks=df_Greeks.applymap(lambda x:np.round(x,4))\n",
    "df_Greeks"
   ]
  },
  {
   "cell_type": "markdown",
   "metadata": {},
   "source": [
    "## 4.Визуализация Finite difference "
   ]
  },
  {
   "cell_type": "code",
   "execution_count": 31,
   "metadata": {},
   "outputs": [],
   "source": [
    "index=grid_call.index[grid_call.S==S_0].tolist()[0]\n",
    "y=list(grid_call.iloc[index-5:index+5,0])\n",
    "n_y=len(y)\n",
    "x=list(grid_call.columns[40:])[::-1]\n",
    "n_x=len(x)\n",
    "x,y=np.meshgrid(x,y)\n",
    "labels=np.round(grid_call.iloc[index-5:index+5,40:].to_numpy(),2)"
   ]
  },
  {
   "cell_type": "code",
   "execution_count": 32,
   "metadata": {},
   "outputs": [
    {
     "data": {
      "text/plain": [
       "[10, 9, 8, 7, 6, 5, 4, 3, 2, 1, 0]"
      ]
     },
     "execution_count": 32,
     "metadata": {},
     "output_type": "execute_result"
    }
   ],
   "source": [
    "list(grid_call.columns[40:])"
   ]
  },
  {
   "cell_type": "code",
   "execution_count": 33,
   "metadata": {},
   "outputs": [
    {
     "data": {
      "image/png": "[encoded data removed]",
      "text/plain": [
       "<Figure size 1500x1500 with 1 Axes>"
      ]
     },
     "metadata": {},
     "output_type": "display_data"
    }
   ],
   "source": [
    "plt.figure(figsize=(15,15))\n",
    "plt.scatter(x,y)\n",
    "for i in range(n_y):\n",
    "    for j in range(n_x):\n",
    "        plt.annotate(labels[i,j],(x[i,j],y[i,j]),fontsize=13)\n",
    "        if y[i,j]==S_0:\n",
    "            plt.axhline(y[i,j],color='green',linestyle='solid')\n",
    "        else:  \n",
    "            plt.axhline(y[i,j],color='black',linestyle='dotted')\n",
    "        plt.axvline(x[i,j],color='black',linestyle='dotted')\n",
    "plt.xlabel(xlabel='Time steps',fontsize=13)    \n",
    "plt.ylabel(ylabel='Asset price',fontsize=13)\n",
    "plt.xticks(list(grid_call.columns[40:]),list(grid_call.columns[40:])[::-1],fontsize=13)\n",
    "plt.yticks(fontsize=13)\n",
    "plt.title('Finite difference grid (call)',fontsize=15)\n",
    "plt.show()"
   ]
  },
  {
   "cell_type": "code",
   "execution_count": null,
   "metadata": {},
   "outputs": [],
   "source": []
  }
 ],
 "metadata": {
  "kernelspec": {
   "display_name": "Python 3.11.0 ('venv': venv)",
   "language": "python",
   "name": "python3"
  },
  "language_info": {
   "codemirror_mode": {
    "name": "ipython",
    "version": 3
   },
   "file_extension": ".py",
   "mimetype": "text/x-python",
   "name": "python",
   "nbconvert_exporter": "python",
   "pygments_lexer": "ipython3",
   "version": "3.11.0"
  },
  "vscode": {
   "interpreter": {
    "hash": "58047d06385e4029f2d8729d84d2d4d0057492a2f895b6498307dc24e9eb6975"
   }
  }
 },
 "nbformat": 4,
 "nbformat_minor": 4
}
