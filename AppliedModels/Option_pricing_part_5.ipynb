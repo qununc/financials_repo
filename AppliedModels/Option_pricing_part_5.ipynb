{
 "cells": [
  {
   "cell_type": "markdown",
   "metadata": {},
   "source": [
    "# Ценообразование опционов. Часть 5."
   ]
  },
  {
   "cell_type": "markdown",
   "metadata": {},
   "source": [
    "### Экзотические опционы и структурные продукты. Опцион на худший из активов с барьером"
   ]
  },
  {
   "cell_type": "markdown",
   "metadata": {},
   "source": [
    "## Цели и задачи:\n",
    "### 1. Изучить подходы к моделированию опционов и структурных продуктов на несколько активов (корзину активов)\n",
    "### 2. Получить навык работы с классами Python\n",
    "### 3. Получить дополнительные навыки работы с библиотеками NumPy и Pandas"
   ]
  },
  {
   "cell_type": "markdown",
   "metadata": {},
   "source": [
    " ### В данном ноутбуке рассматриваются подходы к ценообразованию струтурных продуктов. Полученные премии опционов могут оличичаться от фактических котировок, публикуемых  в соответствии с рыночной практикой."
   ]
  },
  {
   "cell_type": "markdown",
   "metadata": {},
   "source": [
    "### Рекомендуемая литература:\n",
    "### 1.Levy G. Computational Finance. Numerical Methods for Pricing Financial Instruments\n",
    "### 2.Neftci N.S. An Introduction to the Mathematics of Financial Derivatives\n",
    "### 3.Hilpisch Y. Derivatives Analytics with Python: Data Analysis, Models, Simulation, Calibration and Hedging\n",
    "### 4.London J. Modelling Derivatives with C++\n",
    "### 5.Haug E.G. The Complete Guide to Option Pricing Formulas\n",
    "### 6.De Weert F. Exotic Options Trading"
   ]
  },
  {
   "cell_type": "markdown",
   "metadata": {},
   "source": [
    "## 1.Загрузка библиотек"
   ]
  },
  {
   "cell_type": "code",
   "execution_count": 3,
   "metadata": {},
   "outputs": [],
   "source": [
    "import numpy as np\n",
    "import pandas as pd\n",
    "import matplotlib as plt\n",
    "import math\n",
    "from tqdm import tqdm # progress bar\n",
    "from scipy import stats\n",
    "import itertools\n",
    "from scipy.linalg import cholesky"
   ]
  },
  {
   "cell_type": "markdown",
   "metadata": {},
   "source": [
    "## 2.Классы, необходимые для реализации моделей ценообразования"
   ]
  },
  {
   "cell_type": "markdown",
   "metadata": {},
   "source": [
    "### Броуновское движение - коррелированные случайные величины(шаг)"
   ]
  },
  {
   "cell_type": "code",
   "execution_count": 4,
   "metadata": {},
   "outputs": [],
   "source": [
    "class GBM_step_correlated:\n",
    "    def __init__(self,S,drift,dt,corr_matrix,sigma,div):\n",
    "        self._S=S\n",
    "        self._drift=drift\n",
    "        self._corr_matrix=corr_matrix\n",
    "        self._dt=dt\n",
    "        self._sigma=sigma\n",
    "        self._div=div\n",
    "    \n",
    "    def __random_normal_correlated__(self,mu=0,sigma=1):\n",
    "        rvs=np.random.normal(mu,sigma,(self._corr_matrix.shape[0],1))\n",
    "        c = cholesky(self._corr_matrix, lower=True)\n",
    "        return np.dot(c,rvs)\n",
    "            \n",
    "    def get_step(self):\n",
    "        return self._S*((self._drift-self._div)*self._dt+np.sqrt(self._dt)*sigma*self.__random_normal_correlated__())"
   ]
  },
  {
   "cell_type": "markdown",
   "metadata": {},
   "source": [
    "### Класс для опциона worst-of with barrier (\"опцион на худший из активов с барьером\")"
   ]
  },
  {
   "cell_type": "code",
   "execution_count": 5,
   "metadata": {},
   "outputs": [],
   "source": [
    "class Worst_of_with_barrier:\n",
    "        def __init__(self,S,K,H,corr_matrix,sigma,div,r,drift,days,dt,rebate=0,nsim=10000):\n",
    "            self._S=S\n",
    "            self._H=H\n",
    "            self._K=K\n",
    "            self._r=r\n",
    "            self._drift=drift\n",
    "            self._div=div\n",
    "            self._days=days\n",
    "            self._corr_matrix=corr_matrix\n",
    "            self._sigma=sigma\n",
    "            self._dt=dt\n",
    "            self._rebate=rebate\n",
    "            self._nsim=nsim  \n",
    "    \n",
    "        def __generate_path__(self):\n",
    "            path=[]\n",
    "            S_current=self._S\n",
    "            path.append(S_current)\n",
    "            for _ in range(self._days): \n",
    "                step=GBM_step_correlated(S_current,self._drift,self._dt,self._corr_matrix,self._sigma,self._div)\n",
    "                S_current=S_current+step.get_step() \n",
    "                #print(S_current)\n",
    "                path.append(S_current)   \n",
    "            return np.array(path)\n",
    "            \n",
    "        def __generate_payoff__(self): \n",
    "            payoff=0\n",
    "            path=self.__generate_path__()\n",
    "            if min(np.min(path,axis=0)/self._S)<self._H:\n",
    "                payoff=max(0,self._K-min((path[-1,:]*np.exp(-self._r*days/250))/self._S))\n",
    "               # print(path[-1,:])\n",
    "              #  print(np.min(path,axis=0))\n",
    "            return payoff\n",
    "                 \n",
    "        def __simulation__(self):\n",
    "            payoffs=[]\n",
    "            for _ in tqdm(range(self._nsim)):\n",
    "                payoffs.append(self.__generate_payoff__())\n",
    "            return payoffs \n",
    "        \n",
    "        def get_price(self):\n",
    "            payoffs=[]\n",
    "            payoffs=self.__simulation__()\n",
    "            return np.mean(payoffs)"
   ]
  },
  {
   "cell_type": "markdown",
   "metadata": {},
   "source": [
    "## 3.Реализация опциона worst-of put with barrier"
   ]
  },
  {
   "cell_type": "markdown",
   "metadata": {},
   "source": [
    "### Платежная функция опциона пут на худший из n активов опредедяется следующим образом:"
   ]
  },
  {
   "cell_type": "markdown",
   "metadata": {},
   "source": [
    "### $Payoff=max[0,K-min(R_1(t),R_2(t),R_n(t))]$"
   ]
  },
  {
   "cell_type": "markdown",
   "metadata": {},
   "source": [
    "### К этому необходимо добавить условия барьера. В общем случае задача не имеет аналитического решения, вследствие чего используется численное моделирование методом Монте-Карло."
   ]
  },
  {
   "cell_type": "markdown",
   "metadata": {},
   "source": [
    "### В качестве примера рассмотрим опцион пут с барьером на худший из трех активов: Intel, Oracle, Microsoft"
   ]
  },
  {
   "cell_type": "markdown",
   "metadata": {},
   "source": [
    "### 3.1.Ковариационная и кореляционная матрицы"
   ]
  },
  {
   "cell_type": "markdown",
   "metadata": {},
   "source": [
    "### Ковариационная матрица необходима для получения волатильности каждого актива"
   ]
  },
  {
   "cell_type": "code",
   "execution_count": 6,
   "metadata": {},
   "outputs": [],
   "source": [
    "cov_matrix=pd.read_csv('/Users/massimozharkovsky/Documents/ML/cov_matrix')"
   ]
  },
  {
   "cell_type": "code",
   "execution_count": 7,
   "metadata": {},
   "outputs": [
    {
     "data": {
      "text/html": [
       "<div>\n",
       "<style scoped>\n",
       "    .dataframe tbody tr th:only-of-type {\n",
       "        vertical-align: middle;\n",
       "    }\n",
       "\n",
       "    .dataframe tbody tr th {\n",
       "        vertical-align: top;\n",
       "    }\n",
       "\n",
       "    .dataframe thead th {\n",
       "        text-align: right;\n",
       "    }\n",
       "</style>\n",
       "<table border=\"1\" class=\"dataframe\">\n",
       "  <thead>\n",
       "    <tr style=\"text-align: right;\">\n",
       "      <th></th>\n",
       "      <th>ORCL</th>\n",
       "      <th>MSFT</th>\n",
       "      <th>IBM</th>\n",
       "    </tr>\n",
       "  </thead>\n",
       "  <tbody>\n",
       "    <tr>\n",
       "      <th>0</th>\n",
       "      <td>0.000350</td>\n",
       "      <td>0.000259</td>\n",
       "      <td>0.000215</td>\n",
       "    </tr>\n",
       "    <tr>\n",
       "      <th>1</th>\n",
       "      <td>0.000259</td>\n",
       "      <td>0.000414</td>\n",
       "      <td>0.000239</td>\n",
       "    </tr>\n",
       "    <tr>\n",
       "      <th>2</th>\n",
       "      <td>0.000215</td>\n",
       "      <td>0.000239</td>\n",
       "      <td>0.000363</td>\n",
       "    </tr>\n",
       "  </tbody>\n",
       "</table>\n",
       "</div>"
      ],
      "text/plain": [
       "       ORCL      MSFT       IBM\n",
       "0  0.000350  0.000259  0.000215\n",
       "1  0.000259  0.000414  0.000239\n",
       "2  0.000215  0.000239  0.000363"
      ]
     },
     "execution_count": 7,
     "metadata": {},
     "output_type": "execute_result"
    }
   ],
   "source": [
    "cov_matrix"
   ]
  },
  {
   "cell_type": "code",
   "execution_count": 8,
   "metadata": {},
   "outputs": [],
   "source": [
    "cov_matrix=cov_matrix.to_numpy()"
   ]
  },
  {
   "cell_type": "code",
   "execution_count": 9,
   "metadata": {},
   "outputs": [
    {
     "data": {
      "text/plain": [
       "array([[0.0003497 , 0.00025914, 0.00021505],\n",
       "       [0.00025914, 0.00041374, 0.00023863],\n",
       "       [0.00021505, 0.00023863, 0.0003627 ]])"
      ]
     },
     "execution_count": 9,
     "metadata": {},
     "output_type": "execute_result"
    }
   ],
   "source": [
    "cov_matrix"
   ]
  },
  {
   "cell_type": "code",
   "execution_count": 10,
   "metadata": {},
   "outputs": [],
   "source": [
    "sigma=(np.diagonal(cov_matrix).reshape(cov_matrix.shape[0],1)*250)**.5"
   ]
  },
  {
   "cell_type": "code",
   "execution_count": 11,
   "metadata": {},
   "outputs": [
    {
     "data": {
      "text/plain": [
       "array([[0.29567856],\n",
       "       [0.32161169],\n",
       "       [0.30112291]])"
      ]
     },
     "execution_count": 11,
     "metadata": {},
     "output_type": "execute_result"
    }
   ],
   "source": [
    "sigma"
   ]
  },
  {
   "cell_type": "markdown",
   "metadata": {},
   "source": [
    "### Кореляционая матрица используется в качестве входного параметра для моделирования коррелированных случайных величин"
   ]
  },
  {
   "cell_type": "code",
   "execution_count": 12,
   "metadata": {},
   "outputs": [],
   "source": [
    "corr_matrix=pd.read_csv('/Users/massimozharkovsky/Documents/ML/cor_matrix')"
   ]
  },
  {
   "cell_type": "code",
   "execution_count": 13,
   "metadata": {},
   "outputs": [],
   "source": [
    "corr_matrix=corr_matrix.to_numpy()"
   ]
  },
  {
   "cell_type": "code",
   "execution_count": 14,
   "metadata": {},
   "outputs": [
    {
     "data": {
      "text/plain": [
       "array([[1.        , 0.68126557, 0.60382747],\n",
       "       [0.68126557, 1.        , 0.61601169],\n",
       "       [0.60382747, 0.61601169, 1.        ]])"
      ]
     },
     "execution_count": 14,
     "metadata": {},
     "output_type": "execute_result"
    }
   ],
   "source": [
    "corr_matrix"
   ]
  },
  {
   "cell_type": "markdown",
   "metadata": {},
   "source": [
    "### 3.2.Параметры опциона"
   ]
  },
  {
   "cell_type": "code",
   "execution_count": 15,
   "metadata": {},
   "outputs": [],
   "source": [
    "S=np.array([124.4,72.16,227.4]).reshape(3,1)\n",
    "div=np.array([0.01,0.01,0.01]).reshape(3,1)\n",
    "H=.59 #барьер\n",
    "K=1   #страйк \n",
    "dt=1/250\n",
    "rebate=0\n",
    "days=250\n",
    "r=.01\n",
    "drift=np.repeat(r,3).reshape(3,1)"
   ]
  },
  {
   "cell_type": "code",
   "execution_count": 16,
   "metadata": {},
   "outputs": [
    {
     "data": {
      "text/plain": [
       "array([[0.01],\n",
       "       [0.01],\n",
       "       [0.01]])"
      ]
     },
     "execution_count": 16,
     "metadata": {},
     "output_type": "execute_result"
    }
   ],
   "source": [
    "drift"
   ]
  },
  {
   "cell_type": "code",
   "execution_count": 17,
   "metadata": {},
   "outputs": [],
   "source": [
    "wod=Worst_of_with_barrier(S,K,H,corr_matrix,sigma,div,r,drift,days,dt,rebate=rebate,nsim=10000)"
   ]
  },
  {
   "cell_type": "code",
   "execution_count": 18,
   "metadata": {},
   "outputs": [
    {
     "name": "stderr",
     "output_type": "stream",
     "text": [
      "100%|██████████| 10000/10000 [00:43<00:00, 232.47it/s]\n",
      "/Users/massimozharkovsky/opt/anaconda3/lib/python3.8/site-packages/numpy/core/_methods.py:164: VisibleDeprecationWarning: Creating an ndarray from ragged nested sequences (which is a list-or-tuple of lists-or-tuples-or ndarrays with different lengths or shapes) is deprecated. If you meant to do this, you must specify 'dtype=object' when creating the ndarray.\n",
      "  arr = asanyarray(a)\n"
     ]
    },
    {
     "data": {
      "text/plain": [
       "array([0.08725403])"
      ]
     },
     "execution_count": 18,
     "metadata": {},
     "output_type": "execute_result"
    }
   ],
   "source": [
    "wod.get_price()"
   ]
  },
  {
   "cell_type": "markdown",
   "metadata": {},
   "source": [
    "### Для получения полной стоимости инструмента к полученной премии необходимо добавить ставку по депозиту (безрисковая ставка плюс премия за кредитный риск конкретного финансового института)."
   ]
  },
  {
   "cell_type": "code",
   "execution_count": null,
   "metadata": {},
   "outputs": [],
   "source": []
  }
 ],
 "metadata": {
  "kernelspec": {
   "display_name": "Python 3.11.0 ('venv': venv)",
   "language": "python",
   "name": "python3"
  },
  "language_info": {
   "codemirror_mode": {
    "name": "ipython",
    "version": 3
   },
   "file_extension": ".py",
   "mimetype": "text/x-python",
   "name": "python",
   "nbconvert_exporter": "python",
   "pygments_lexer": "ipython3",
   "version": "3.11.0"
  },
  "vscode": {
   "interpreter": {
    "hash": "58047d06385e4029f2d8729d84d2d4d0057492a2f895b6498307dc24e9eb6975"
   }
  }
 },
 "nbformat": 4,
 "nbformat_minor": 4
}
