{
 "cells": [
  {
   "cell_type": "markdown",
   "metadata": {},
   "source": [
    "# Изучение свойств опционов. Часть 1.\n",
    "> выполнил Литвинов А. А., гр. МФИН211"
   ]
  },
  {
   "cell_type": "markdown",
   "metadata": {},
   "source": [
    "## 1. Загрузка библиотек"
   ]
  },
  {
   "cell_type": "code",
   "execution_count": 1,
   "metadata": {},
   "outputs": [],
   "source": [
    "import numpy as np\n",
    "import pandas as pd\n",
    "from scipy import stats\n",
    "from datetime import datetime, timedelta\n",
    "from __future__ import division\n",
    "import networkx as nx  # библиотеке визуализации графов\n",
    "import matplotlib.pyplot as plt  # графическая библиотека\n",
    "%matplotlib inline"
   ]
  },
  {
   "cell_type": "markdown",
   "metadata": {},
   "source": [
    "## 2. Загрузка и подготовка данных"
   ]
  },
  {
   "cell_type": "markdown",
   "metadata": {},
   "source": [
    "### Данные по опционам"
   ]
  },
  {
   "cell_type": "code",
   "execution_count": 2,
   "metadata": {},
   "outputs": [],
   "source": [
    "cboe_options = pd.read_csv(\"ap_data\\\\UnderlyingOptionsEODCalcs_2019-02-04.csv\", parse_dates=True)"
   ]
  },
  {
   "cell_type": "code",
   "execution_count": 3,
   "metadata": {},
   "outputs": [
    {
     "data": {
      "text/plain": [
       "Index(['underlying_symbol', 'quote_date', 'root', 'expiration', 'strike',\n",
       "       'option_type', 'open', 'high', 'low', 'close', 'trade_volume',\n",
       "       'bid_size_1545', 'bid_1545', 'ask_size_1545', 'ask_1545',\n",
       "       'underlying_bid_1545', 'underlying_ask_1545',\n",
       "       'implied_underlying_price_1545', 'active_underlying_price_1545',\n",
       "       'implied_volatility_1545', 'delta_1545', 'gamma_1545', 'theta_1545',\n",
       "       'vega_1545', 'rho_1545', 'bid_size_eod', 'bid_eod', 'ask_size_eod',\n",
       "       'ask_eod', 'underlying_bid_eod', 'underlying_ask_eod', 'vwap',\n",
       "       'open_interest', 'delivery_code'],\n",
       "      dtype='object')"
      ]
     },
     "execution_count": 3,
     "metadata": {},
     "output_type": "execute_result"
    }
   ],
   "source": [
    "cboe_options.columns"
   ]
  },
  {
   "cell_type": "code",
   "execution_count": 8,
   "metadata": {},
   "outputs": [
    {
     "data": {
      "text/html": [
       "<div>\n",
       "<style scoped>\n",
       "    .dataframe tbody tr th:only-of-type {\n",
       "        vertical-align: middle;\n",
       "    }\n",
       "\n",
       "    .dataframe tbody tr th {\n",
       "        vertical-align: top;\n",
       "    }\n",
       "\n",
       "    .dataframe thead th {\n",
       "        text-align: right;\n",
       "    }\n",
       "</style>\n",
       "<table border=\"1\" class=\"dataframe\">\n",
       "  <thead>\n",
       "    <tr style=\"text-align: right;\">\n",
       "      <th></th>\n",
       "      <th>underlying_symbol</th>\n",
       "      <th>quote_date</th>\n",
       "      <th>root</th>\n",
       "      <th>expiration</th>\n",
       "      <th>strike</th>\n",
       "      <th>option_type</th>\n",
       "      <th>open</th>\n",
       "      <th>high</th>\n",
       "      <th>low</th>\n",
       "      <th>close</th>\n",
       "      <th>...</th>\n",
       "      <th>rho_1545</th>\n",
       "      <th>bid_size_eod</th>\n",
       "      <th>bid_eod</th>\n",
       "      <th>ask_size_eod</th>\n",
       "      <th>ask_eod</th>\n",
       "      <th>underlying_bid_eod</th>\n",
       "      <th>underlying_ask_eod</th>\n",
       "      <th>vwap</th>\n",
       "      <th>open_interest</th>\n",
       "      <th>delivery_code</th>\n",
       "    </tr>\n",
       "  </thead>\n",
       "  <tbody>\n",
       "    <tr>\n",
       "      <th>0</th>\n",
       "      <td>AAPL</td>\n",
       "      <td>2019-02-04</td>\n",
       "      <td>AAPL</td>\n",
       "      <td>2019-02-08</td>\n",
       "      <td>100.0</td>\n",
       "      <td>C</td>\n",
       "      <td>0.0</td>\n",
       "      <td>0.0</td>\n",
       "      <td>0.0</td>\n",
       "      <td>0.0</td>\n",
       "      <td>...</td>\n",
       "      <td>0.9958</td>\n",
       "      <td>15</td>\n",
       "      <td>71.05</td>\n",
       "      <td>42</td>\n",
       "      <td>71.40</td>\n",
       "      <td>171.26</td>\n",
       "      <td>171.27</td>\n",
       "      <td>0.0</td>\n",
       "      <td>12</td>\n",
       "      <td>NaN</td>\n",
       "    </tr>\n",
       "    <tr>\n",
       "      <th>1</th>\n",
       "      <td>AAPL</td>\n",
       "      <td>2019-02-04</td>\n",
       "      <td>AAPL</td>\n",
       "      <td>2019-02-08</td>\n",
       "      <td>100.0</td>\n",
       "      <td>P</td>\n",
       "      <td>0.0</td>\n",
       "      <td>0.0</td>\n",
       "      <td>0.0</td>\n",
       "      <td>0.0</td>\n",
       "      <td>...</td>\n",
       "      <td>-0.0012</td>\n",
       "      <td>0</td>\n",
       "      <td>0.00</td>\n",
       "      <td>102</td>\n",
       "      <td>0.01</td>\n",
       "      <td>171.26</td>\n",
       "      <td>171.27</td>\n",
       "      <td>0.0</td>\n",
       "      <td>464</td>\n",
       "      <td>NaN</td>\n",
       "    </tr>\n",
       "    <tr>\n",
       "      <th>2</th>\n",
       "      <td>AAPL</td>\n",
       "      <td>2019-02-04</td>\n",
       "      <td>AAPL</td>\n",
       "      <td>2019-02-08</td>\n",
       "      <td>105.0</td>\n",
       "      <td>C</td>\n",
       "      <td>0.0</td>\n",
       "      <td>0.0</td>\n",
       "      <td>0.0</td>\n",
       "      <td>0.0</td>\n",
       "      <td>...</td>\n",
       "      <td>1.0550</td>\n",
       "      <td>15</td>\n",
       "      <td>66.05</td>\n",
       "      <td>138</td>\n",
       "      <td>66.50</td>\n",
       "      <td>171.26</td>\n",
       "      <td>171.27</td>\n",
       "      <td>0.0</td>\n",
       "      <td>10</td>\n",
       "      <td>NaN</td>\n",
       "    </tr>\n",
       "    <tr>\n",
       "      <th>3</th>\n",
       "      <td>AAPL</td>\n",
       "      <td>2019-02-04</td>\n",
       "      <td>AAPL</td>\n",
       "      <td>2019-02-08</td>\n",
       "      <td>105.0</td>\n",
       "      <td>P</td>\n",
       "      <td>0.0</td>\n",
       "      <td>0.0</td>\n",
       "      <td>0.0</td>\n",
       "      <td>0.0</td>\n",
       "      <td>...</td>\n",
       "      <td>-0.0013</td>\n",
       "      <td>0</td>\n",
       "      <td>0.00</td>\n",
       "      <td>92</td>\n",
       "      <td>0.01</td>\n",
       "      <td>171.26</td>\n",
       "      <td>171.27</td>\n",
       "      <td>0.0</td>\n",
       "      <td>115</td>\n",
       "      <td>NaN</td>\n",
       "    </tr>\n",
       "    <tr>\n",
       "      <th>4</th>\n",
       "      <td>AAPL</td>\n",
       "      <td>2019-02-04</td>\n",
       "      <td>AAPL</td>\n",
       "      <td>2019-02-08</td>\n",
       "      <td>110.0</td>\n",
       "      <td>C</td>\n",
       "      <td>0.0</td>\n",
       "      <td>0.0</td>\n",
       "      <td>0.0</td>\n",
       "      <td>0.0</td>\n",
       "      <td>...</td>\n",
       "      <td>1.1147</td>\n",
       "      <td>10</td>\n",
       "      <td>61.10</td>\n",
       "      <td>131</td>\n",
       "      <td>61.50</td>\n",
       "      <td>171.26</td>\n",
       "      <td>171.27</td>\n",
       "      <td>0.0</td>\n",
       "      <td>4</td>\n",
       "      <td>NaN</td>\n",
       "    </tr>\n",
       "  </tbody>\n",
       "</table>\n",
       "<p>5 rows × 34 columns</p>\n",
       "</div>"
      ],
      "text/plain": [
       "  underlying_symbol  quote_date  root  expiration  strike option_type  open  \\\n",
       "0              AAPL  2019-02-04  AAPL  2019-02-08   100.0           C   0.0   \n",
       "1              AAPL  2019-02-04  AAPL  2019-02-08   100.0           P   0.0   \n",
       "2              AAPL  2019-02-04  AAPL  2019-02-08   105.0           C   0.0   \n",
       "3              AAPL  2019-02-04  AAPL  2019-02-08   105.0           P   0.0   \n",
       "4              AAPL  2019-02-04  AAPL  2019-02-08   110.0           C   0.0   \n",
       "\n",
       "   high  low  close  ...  rho_1545  bid_size_eod  bid_eod  ask_size_eod  \\\n",
       "0   0.0  0.0    0.0  ...    0.9958            15    71.05            42   \n",
       "1   0.0  0.0    0.0  ...   -0.0012             0     0.00           102   \n",
       "2   0.0  0.0    0.0  ...    1.0550            15    66.05           138   \n",
       "3   0.0  0.0    0.0  ...   -0.0013             0     0.00            92   \n",
       "4   0.0  0.0    0.0  ...    1.1147            10    61.10           131   \n",
       "\n",
       "   ask_eod  underlying_bid_eod  underlying_ask_eod  vwap  open_interest  \\\n",
       "0    71.40              171.26              171.27   0.0             12   \n",
       "1     0.01              171.26              171.27   0.0            464   \n",
       "2    66.50              171.26              171.27   0.0             10   \n",
       "3     0.01              171.26              171.27   0.0            115   \n",
       "4    61.50              171.26              171.27   0.0              4   \n",
       "\n",
       "   delivery_code  \n",
       "0            NaN  \n",
       "1            NaN  \n",
       "2            NaN  \n",
       "3            NaN  \n",
       "4            NaN  \n",
       "\n",
       "[5 rows x 34 columns]"
      ]
     },
     "execution_count": 8,
     "metadata": {},
     "output_type": "execute_result"
    }
   ],
   "source": [
    "cboe_options.head()"
   ]
  },
  {
   "cell_type": "code",
   "execution_count": null,
   "metadata": {},
   "outputs": [],
   "source": [
    "cboe_options.info()"
   ]
  },
  {
   "cell_type": "code",
   "execution_count": 10,
   "metadata": {},
   "outputs": [],
   "source": [
    "cboe_options[\"expiration\"] = cboe_options[\"expiration\"].apply(\n",
    "    lambda x: datetime.strptime(x, \"%Y-%m-%d\")\n",
    ")\n",
    "### преобразование поля даты в необходимый формат"
   ]
  },
  {
   "cell_type": "code",
   "execution_count": 11,
   "metadata": {},
   "outputs": [],
   "source": [
    "cboe_options[\"quote_date\"] = cboe_options[\"quote_date\"].apply(\n",
    "    lambda x: datetime.strptime(x, \"%Y-%m-%d\")\n",
    ")"
   ]
  },
  {
   "cell_type": "markdown",
   "metadata": {},
   "source": [
    "### Базовый актив"
   ]
  },
  {
   "cell_type": "code",
   "execution_count": 4,
   "metadata": {},
   "outputs": [],
   "source": [
    "import yfinance as yf\n",
    "\n",
    "# Input Start and End Date\n",
    "start = datetime(2013, 12, 9)\n",
    "end = datetime(2022, 9, 2)\n",
    "\n",
    "xom = yf.download('XOM', interval='1d', start=start, end=end, progress=False, show_errors=False)\\\n",
    "    .dropna(axis=0)\n",
    "xom.to_csv(\"ap_data\\\\XOM.csv\")"
   ]
  },
  {
   "cell_type": "code",
   "execution_count": 6,
   "metadata": {},
   "outputs": [],
   "source": [
    "xom = pd.read_csv(\"ap_data\\\\XOM.csv\")"
   ]
  },
  {
   "cell_type": "markdown",
   "metadata": {},
   "source": [
    "# dz"
   ]
  },
  {
   "cell_type": "markdown",
   "metadata": {},
   "source": [
    "## 1. Загрузка библиотек"
   ]
  },
  {
   "cell_type": "code",
   "execution_count": null,
   "metadata": {},
   "outputs": [],
   "source": [
    "import numpy as np\n",
    "import pandas as pd\n",
    "from scipy import stats"
   ]
  },
  {
   "cell_type": "code",
   "execution_count": null,
   "metadata": {},
   "outputs": [],
   "source": [
    "from datetime import datetime, timedelta"
   ]
  },
  {
   "cell_type": "code",
   "execution_count": null,
   "metadata": {},
   "outputs": [],
   "source": [
    "from __future__ import division"
   ]
  },
  {
   "cell_type": "code",
   "execution_count": null,
   "metadata": {},
   "outputs": [],
   "source": [
    "import networkx as nx  # библиотеке визуализации графов"
   ]
  },
  {
   "cell_type": "code",
   "execution_count": null,
   "metadata": {},
   "outputs": [],
   "source": [
    "import matplotlib.pyplot as plt  # графическая библиотека\n",
    "\n",
    "%matplotlib inline"
   ]
  },
  {
   "cell_type": "markdown",
   "metadata": {},
   "source": [
    "## 2. Загрузка и подготовка данных"
   ]
  },
  {
   "cell_type": "markdown",
   "metadata": {},
   "source": [
    "### Данные по опционам"
   ]
  },
  {
   "cell_type": "code",
   "execution_count": null,
   "metadata": {},
   "outputs": [],
   "source": [
    "cboe_options = pd.read_csv(\"UnderlyingOptionsEODCalcs_2019-02-04.csv\", parse_dates=True)"
   ]
  },
  {
   "cell_type": "code",
   "execution_count": null,
   "metadata": {},
   "outputs": [
    {
     "data": {
      "text/plain": [
       "Index(['underlying_symbol', 'quote_date', 'root', 'expiration', 'strike',\n",
       "       'option_type', 'open', 'high', 'low', 'close', 'trade_volume',\n",
       "       'bid_size_1545', 'bid_1545', 'ask_size_1545', 'ask_1545',\n",
       "       'underlying_bid_1545', 'underlying_ask_1545',\n",
       "       'implied_underlying_price_1545', 'active_underlying_price_1545',\n",
       "       'implied_volatility_1545', 'delta_1545', 'gamma_1545', 'theta_1545',\n",
       "       'vega_1545', 'rho_1545', 'bid_size_eod', 'bid_eod', 'ask_size_eod',\n",
       "       'ask_eod', 'underlying_bid_eod', 'underlying_ask_eod', 'vwap',\n",
       "       'open_interest', 'delivery_code'],\n",
       "      dtype='object')"
      ]
     },
     "metadata": {},
     "output_type": "display_data"
    }
   ],
   "source": [
    "cboe_options.columns"
   ]
  },
  {
   "cell_type": "code",
   "execution_count": null,
   "metadata": {},
   "outputs": [
    {
     "data": {
      "text/html": [
       "<div>\n",
       "<style scoped>\n",
       "    .dataframe tbody tr th:only-of-type {\n",
       "        vertical-align: middle;\n",
       "    }\n",
       "\n",
       "    .dataframe tbody tr th {\n",
       "        vertical-align: top;\n",
       "    }\n",
       "\n",
       "    .dataframe thead th {\n",
       "        text-align: right;\n",
       "    }\n",
       "</style>\n",
       "<table border=\"1\" class=\"dataframe\">\n",
       "  <thead>\n",
       "    <tr style=\"text-align: right;\">\n",
       "      <th></th>\n",
       "      <th>underlying_symbol</th>\n",
       "      <th>quote_date</th>\n",
       "      <th>root</th>\n",
       "      <th>expiration</th>\n",
       "      <th>strike</th>\n",
       "      <th>option_type</th>\n",
       "      <th>open</th>\n",
       "      <th>high</th>\n",
       "      <th>low</th>\n",
       "      <th>close</th>\n",
       "      <th>...</th>\n",
       "      <th>rho_1545</th>\n",
       "      <th>bid_size_eod</th>\n",
       "      <th>bid_eod</th>\n",
       "      <th>ask_size_eod</th>\n",
       "      <th>ask_eod</th>\n",
       "      <th>underlying_bid_eod</th>\n",
       "      <th>underlying_ask_eod</th>\n",
       "      <th>vwap</th>\n",
       "      <th>open_interest</th>\n",
       "      <th>delivery_code</th>\n",
       "    </tr>\n",
       "  </thead>\n",
       "  <tbody>\n",
       "    <tr>\n",
       "      <th>0</th>\n",
       "      <td>AAPL</td>\n",
       "      <td>2019-02-04</td>\n",
       "      <td>AAPL</td>\n",
       "      <td>2019-02-08</td>\n",
       "      <td>100.0</td>\n",
       "      <td>C</td>\n",
       "      <td>0.0</td>\n",
       "      <td>0.0</td>\n",
       "      <td>0.0</td>\n",
       "      <td>0.0</td>\n",
       "      <td>...</td>\n",
       "      <td>0.9958</td>\n",
       "      <td>15</td>\n",
       "      <td>71.05</td>\n",
       "      <td>42</td>\n",
       "      <td>71.40</td>\n",
       "      <td>171.26</td>\n",
       "      <td>171.27</td>\n",
       "      <td>0.0</td>\n",
       "      <td>12</td>\n",
       "      <td>NaN</td>\n",
       "    </tr>\n",
       "    <tr>\n",
       "      <th>1</th>\n",
       "      <td>AAPL</td>\n",
       "      <td>2019-02-04</td>\n",
       "      <td>AAPL</td>\n",
       "      <td>2019-02-08</td>\n",
       "      <td>100.0</td>\n",
       "      <td>P</td>\n",
       "      <td>0.0</td>\n",
       "      <td>0.0</td>\n",
       "      <td>0.0</td>\n",
       "      <td>0.0</td>\n",
       "      <td>...</td>\n",
       "      <td>-0.0012</td>\n",
       "      <td>0</td>\n",
       "      <td>0.00</td>\n",
       "      <td>102</td>\n",
       "      <td>0.01</td>\n",
       "      <td>171.26</td>\n",
       "      <td>171.27</td>\n",
       "      <td>0.0</td>\n",
       "      <td>464</td>\n",
       "      <td>NaN</td>\n",
       "    </tr>\n",
       "    <tr>\n",
       "      <th>2</th>\n",
       "      <td>AAPL</td>\n",
       "      <td>2019-02-04</td>\n",
       "      <td>AAPL</td>\n",
       "      <td>2019-02-08</td>\n",
       "      <td>105.0</td>\n",
       "      <td>C</td>\n",
       "      <td>0.0</td>\n",
       "      <td>0.0</td>\n",
       "      <td>0.0</td>\n",
       "      <td>0.0</td>\n",
       "      <td>...</td>\n",
       "      <td>1.0550</td>\n",
       "      <td>15</td>\n",
       "      <td>66.05</td>\n",
       "      <td>138</td>\n",
       "      <td>66.50</td>\n",
       "      <td>171.26</td>\n",
       "      <td>171.27</td>\n",
       "      <td>0.0</td>\n",
       "      <td>10</td>\n",
       "      <td>NaN</td>\n",
       "    </tr>\n",
       "    <tr>\n",
       "      <th>3</th>\n",
       "      <td>AAPL</td>\n",
       "      <td>2019-02-04</td>\n",
       "      <td>AAPL</td>\n",
       "      <td>2019-02-08</td>\n",
       "      <td>105.0</td>\n",
       "      <td>P</td>\n",
       "      <td>0.0</td>\n",
       "      <td>0.0</td>\n",
       "      <td>0.0</td>\n",
       "      <td>0.0</td>\n",
       "      <td>...</td>\n",
       "      <td>-0.0013</td>\n",
       "      <td>0</td>\n",
       "      <td>0.00</td>\n",
       "      <td>92</td>\n",
       "      <td>0.01</td>\n",
       "      <td>171.26</td>\n",
       "      <td>171.27</td>\n",
       "      <td>0.0</td>\n",
       "      <td>115</td>\n",
       "      <td>NaN</td>\n",
       "    </tr>\n",
       "    <tr>\n",
       "      <th>4</th>\n",
       "      <td>AAPL</td>\n",
       "      <td>2019-02-04</td>\n",
       "      <td>AAPL</td>\n",
       "      <td>2019-02-08</td>\n",
       "      <td>110.0</td>\n",
       "      <td>C</td>\n",
       "      <td>0.0</td>\n",
       "      <td>0.0</td>\n",
       "      <td>0.0</td>\n",
       "      <td>0.0</td>\n",
       "      <td>...</td>\n",
       "      <td>1.1147</td>\n",
       "      <td>10</td>\n",
       "      <td>61.10</td>\n",
       "      <td>131</td>\n",
       "      <td>61.50</td>\n",
       "      <td>171.26</td>\n",
       "      <td>171.27</td>\n",
       "      <td>0.0</td>\n",
       "      <td>4</td>\n",
       "      <td>NaN</td>\n",
       "    </tr>\n",
       "  </tbody>\n",
       "</table>\n",
       "<p>5 rows × 34 columns</p>\n",
       "</div>"
      ],
      "text/plain": [
       "  underlying_symbol  quote_date  root  expiration  strike option_type  open  \\\n",
       "0              AAPL  2019-02-04  AAPL  2019-02-08   100.0           C   0.0   \n",
       "1              AAPL  2019-02-04  AAPL  2019-02-08   100.0           P   0.0   \n",
       "2              AAPL  2019-02-04  AAPL  2019-02-08   105.0           C   0.0   \n",
       "3              AAPL  2019-02-04  AAPL  2019-02-08   105.0           P   0.0   \n",
       "4              AAPL  2019-02-04  AAPL  2019-02-08   110.0           C   0.0   \n",
       "\n",
       "   high  low  close  ...  rho_1545  bid_size_eod  bid_eod  ask_size_eod  \\\n",
       "0   0.0  0.0    0.0  ...    0.9958            15    71.05            42   \n",
       "1   0.0  0.0    0.0  ...   -0.0012             0     0.00           102   \n",
       "2   0.0  0.0    0.0  ...    1.0550            15    66.05           138   \n",
       "3   0.0  0.0    0.0  ...   -0.0013             0     0.00            92   \n",
       "4   0.0  0.0    0.0  ...    1.1147            10    61.10           131   \n",
       "\n",
       "   ask_eod  underlying_bid_eod  underlying_ask_eod  vwap  open_interest  \\\n",
       "0    71.40              171.26              171.27   0.0             12   \n",
       "1     0.01              171.26              171.27   0.0            464   \n",
       "2    66.50              171.26              171.27   0.0             10   \n",
       "3     0.01              171.26              171.27   0.0            115   \n",
       "4    61.50              171.26              171.27   0.0              4   \n",
       "\n",
       "   delivery_code  \n",
       "0            NaN  \n",
       "1            NaN  \n",
       "2            NaN  \n",
       "3            NaN  \n",
       "4            NaN  \n",
       "\n",
       "[5 rows x 34 columns]"
      ]
     },
     "metadata": {},
     "output_type": "display_data"
    }
   ],
   "source": [
    "cboe_options.head()"
   ]
  },
  {
   "cell_type": "code",
   "execution_count": null,
   "metadata": {},
   "outputs": [
    {
     "data": {
      "text/plain": [
       "array(['AAPL', 'MSFT', 'XOM'], dtype=object)"
      ]
     },
     "metadata": {},
     "output_type": "display_data"
    }
   ],
   "source": [
    "cboe_options.root.unique()"
   ]
  },
  {
   "cell_type": "code",
   "execution_count": null,
   "metadata": {},
   "outputs": [
    {
     "name": "stdout",
     "output_type": "stream",
     "text": [
      "<class 'pandas.core.frame.DataFrame'>\n",
      "RangeIndex: 3260 entries, 0 to 3259\n",
      "Data columns (total 34 columns):\n",
      " #   Column                         Non-Null Count  Dtype  \n",
      "---  ------                         --------------  -----  \n",
      " 0   underlying_symbol              3260 non-null   object \n",
      " 1   quote_date                     3260 non-null   object \n",
      " 2   root                           3260 non-null   object \n",
      " 3   expiration                     3260 non-null   object \n",
      " 4   strike                         3260 non-null   float64\n",
      " 5   option_type                    3260 non-null   object \n",
      " 6   open                           3260 non-null   float64\n",
      " 7   high                           3260 non-null   float64\n",
      " 8   low                            3260 non-null   float64\n",
      " 9   close                          3260 non-null   float64\n",
      " 10  trade_volume                   3260 non-null   int64  \n",
      " 11  bid_size_1545                  3260 non-null   int64  \n",
      " 12  bid_1545                       3260 non-null   float64\n",
      " 13  ask_size_1545                  3260 non-null   int64  \n",
      " 14  ask_1545                       3260 non-null   float64\n",
      " 15  underlying_bid_1545            3260 non-null   float64\n",
      " 16  underlying_ask_1545            3260 non-null   float64\n",
      " 17  implied_underlying_price_1545  3260 non-null   float64\n",
      " 18  active_underlying_price_1545   3260 non-null   float64\n",
      " 19  implied_volatility_1545        3260 non-null   float64\n",
      " 20  delta_1545                     3260 non-null   float64\n",
      " 21  gamma_1545                     3260 non-null   float64\n",
      " 22  theta_1545                     3260 non-null   float64\n",
      " 23  vega_1545                      3260 non-null   float64\n",
      " 24  rho_1545                       3260 non-null   float64\n",
      " 25  bid_size_eod                   3260 non-null   int64  \n",
      " 26  bid_eod                        3260 non-null   float64\n",
      " 27  ask_size_eod                   3260 non-null   int64  \n",
      " 28  ask_eod                        3260 non-null   float64\n",
      " 29  underlying_bid_eod             3260 non-null   float64\n",
      " 30  underlying_ask_eod             3260 non-null   float64\n",
      " 31  vwap                           3260 non-null   float64\n",
      " 32  open_interest                  3260 non-null   int64  \n",
      " 33  delivery_code                  0 non-null      float64\n",
      "dtypes: float64(23), int64(6), object(5)\n",
      "memory usage: 866.1+ KB\n"
     ]
    }
   ],
   "source": [
    "cboe_options.info()"
   ]
  },
  {
   "cell_type": "code",
   "execution_count": null,
   "metadata": {},
   "outputs": [],
   "source": [
    "cboe_options[\"expiration\"] = cboe_options[\"expiration\"].apply(\n",
    "    lambda x: datetime.strptime(x, \"%Y-%m-%d\")\n",
    ")\n",
    "### преобразование поля даты в необходимый формат"
   ]
  },
  {
   "cell_type": "code",
   "execution_count": null,
   "metadata": {},
   "outputs": [],
   "source": [
    "cboe_options[\"quote_date\"] = cboe_options[\"quote_date\"].apply(\n",
    "    lambda x: datetime.strptime(x, \"%Y-%m-%d\")\n",
    ")"
   ]
  },
  {
   "cell_type": "markdown",
   "metadata": {},
   "source": [
    "### Базовый актив"
   ]
  },
  {
   "cell_type": "code",
   "execution_count": null,
   "metadata": {},
   "outputs": [],
   "source": [
    "import yfinance as yf"
   ]
  },
  {
   "cell_type": "code",
   "execution_count": null,
   "metadata": {},
   "outputs": [],
   "source": [
    "# Input Start and End Date\n",
    "# start = datetime(2013,12,9)\n",
    "# end = datetime(2022,9,6)\n",
    "\n",
    "# xom = yf.download('XOM', interval='1d', start=start, end=end, progress=False, show_errors=False)\\\n",
    "#     .dropna(axis=0)\n",
    "# xom.to_csv(\"XOM.csv\")   \n"
   ]
  },
  {
   "cell_type": "code",
   "execution_count": null,
   "metadata": {},
   "outputs": [
    {
     "data": {
      "text/html": [
       "<div>\n",
       "<style scoped>\n",
       "    .dataframe tbody tr th:only-of-type {\n",
       "        vertical-align: middle;\n",
       "    }\n",
       "\n",
       "    .dataframe tbody tr th {\n",
       "        vertical-align: top;\n",
       "    }\n",
       "\n",
       "    .dataframe thead th {\n",
       "        text-align: right;\n",
       "    }\n",
       "</style>\n",
       "<table border=\"1\" class=\"dataframe\">\n",
       "  <thead>\n",
       "    <tr style=\"text-align: right;\">\n",
       "      <th></th>\n",
       "      <th>Date</th>\n",
       "      <th>Open</th>\n",
       "      <th>High</th>\n",
       "      <th>Low</th>\n",
       "      <th>Close</th>\n",
       "      <th>Adj Close</th>\n",
       "      <th>Volume</th>\n",
       "    </tr>\n",
       "  </thead>\n",
       "  <tbody>\n",
       "    <tr>\n",
       "      <th>0</th>\n",
       "      <td>2013-12-09 00:00:00-05:00</td>\n",
       "      <td>95.949997</td>\n",
       "      <td>96.250000</td>\n",
       "      <td>95.599998</td>\n",
       "      <td>95.839996</td>\n",
       "      <td>64.983673</td>\n",
       "      <td>15516700</td>\n",
       "    </tr>\n",
       "    <tr>\n",
       "      <th>1</th>\n",
       "      <td>2013-12-10 00:00:00-05:00</td>\n",
       "      <td>95.900002</td>\n",
       "      <td>95.980003</td>\n",
       "      <td>95.389999</td>\n",
       "      <td>95.709999</td>\n",
       "      <td>64.895523</td>\n",
       "      <td>9868100</td>\n",
       "    </tr>\n",
       "    <tr>\n",
       "      <th>2</th>\n",
       "      <td>2013-12-11 00:00:00-05:00</td>\n",
       "      <td>95.379997</td>\n",
       "      <td>95.540001</td>\n",
       "      <td>94.160004</td>\n",
       "      <td>94.260002</td>\n",
       "      <td>63.912369</td>\n",
       "      <td>12811800</td>\n",
       "    </tr>\n",
       "    <tr>\n",
       "      <th>3</th>\n",
       "      <td>2013-12-12 00:00:00-05:00</td>\n",
       "      <td>94.500000</td>\n",
       "      <td>95.879997</td>\n",
       "      <td>94.279999</td>\n",
       "      <td>95.360001</td>\n",
       "      <td>64.658203</td>\n",
       "      <td>15562600</td>\n",
       "    </tr>\n",
       "    <tr>\n",
       "      <th>4</th>\n",
       "      <td>2013-12-13 00:00:00-05:00</td>\n",
       "      <td>95.129997</td>\n",
       "      <td>95.919998</td>\n",
       "      <td>94.660004</td>\n",
       "      <td>95.309998</td>\n",
       "      <td>64.624306</td>\n",
       "      <td>10629500</td>\n",
       "    </tr>\n",
       "  </tbody>\n",
       "</table>\n",
       "</div>"
      ],
      "text/plain": [
       "                        Date       Open       High        Low      Close  \\\n",
       "0  2013-12-09 00:00:00-05:00  95.949997  96.250000  95.599998  95.839996   \n",
       "1  2013-12-10 00:00:00-05:00  95.900002  95.980003  95.389999  95.709999   \n",
       "2  2013-12-11 00:00:00-05:00  95.379997  95.540001  94.160004  94.260002   \n",
       "3  2013-12-12 00:00:00-05:00  94.500000  95.879997  94.279999  95.360001   \n",
       "4  2013-12-13 00:00:00-05:00  95.129997  95.919998  94.660004  95.309998   \n",
       "\n",
       "   Adj Close    Volume  \n",
       "0  64.983673  15516700  \n",
       "1  64.895523   9868100  \n",
       "2  63.912369  12811800  \n",
       "3  64.658203  15562600  \n",
       "4  64.624306  10629500  "
      ]
     },
     "metadata": {},
     "output_type": "display_data"
    }
   ],
   "source": [
    "xom = pd.read_csv(\"XOM.csv\")\n",
    "xom.head()"
   ]
  },
  {
   "cell_type": "code",
   "execution_count": null,
   "metadata": {},
   "outputs": [
    {
     "name": "stdout",
     "output_type": "stream",
     "text": [
      "<class 'pandas.core.frame.DataFrame'>\n",
      "RangeIndex: 2200 entries, 0 to 2199\n",
      "Data columns (total 7 columns):\n",
      " #   Column     Non-Null Count  Dtype  \n",
      "---  ------     --------------  -----  \n",
      " 0   Date       2200 non-null   object \n",
      " 1   Open       2200 non-null   float64\n",
      " 2   High       2200 non-null   float64\n",
      " 3   Low        2200 non-null   float64\n",
      " 4   Close      2200 non-null   float64\n",
      " 5   Adj Close  2200 non-null   float64\n",
      " 6   Volume     2200 non-null   int64  \n",
      "dtypes: float64(5), int64(1), object(1)\n",
      "memory usage: 120.4+ KB\n"
     ]
    }
   ],
   "source": [
    "xom.info()"
   ]
  },
  {
   "cell_type": "code",
   "execution_count": null,
   "metadata": {},
   "outputs": [
    {
     "ename": "TypeError",
     "evalue": "strptime() argument 1 must be str, not Timestamp",
     "output_type": "error",
     "traceback": [
      "\u001b[1;31m---------------------------------------------------------------------------\u001b[0m\n",
      "\u001b[1;31mTypeError\u001b[0m                                 Traceback (most recent call last)\n",
      "Cell \u001b[1;32mIn [114], line 1\u001b[0m\n",
      "\u001b[1;32m----> 1\u001b[0m msft[\u001b[39m\"\u001b[39m\u001b[39mDate\u001b[39m\u001b[39m\"\u001b[39m] \u001b[39m=\u001b[39m msft[\u001b[39m\"\u001b[39;49m\u001b[39mDate\u001b[39;49m\u001b[39m\"\u001b[39;49m]\u001b[39m.\u001b[39;49mapply(\u001b[39mlambda\u001b[39;49;00m x: datetime\u001b[39m.\u001b[39;49mstrptime(x, \u001b[39m\"\u001b[39;49m\u001b[39m%\u001b[39;49m\u001b[39mY-\u001b[39;49m\u001b[39m%\u001b[39;49m\u001b[39mm-\u001b[39;49m\u001b[39m%d\u001b[39;49;00m\u001b[39m\"\u001b[39;49m))\n",
      "\n",
      "File \u001b[1;32mc:\\Users\\drouni\\workdir\\fineng\\venv\\lib\\site-packages\\pandas\\core\\series.py:4771\u001b[0m, in \u001b[0;36mSeries.apply\u001b[1;34m(self, func, convert_dtype, args, **kwargs)\u001b[0m\n",
      "\u001b[0;32m   4661\u001b[0m \u001b[39mdef\u001b[39;00m \u001b[39mapply\u001b[39m(\n",
      "\u001b[0;32m   4662\u001b[0m     \u001b[39mself\u001b[39m,\n",
      "\u001b[0;32m   4663\u001b[0m     func: AggFuncType,\n",
      "\u001b[1;32m   (...)\u001b[0m\n",
      "\u001b[0;32m   4666\u001b[0m     \u001b[39m*\u001b[39m\u001b[39m*\u001b[39mkwargs,\n",
      "\u001b[0;32m   4667\u001b[0m ) \u001b[39m-\u001b[39m\u001b[39m>\u001b[39m DataFrame \u001b[39m|\u001b[39m Series:\n",
      "\u001b[0;32m   4668\u001b[0m     \u001b[39m\"\"\"\u001b[39;00m\n",
      "\u001b[0;32m   4669\u001b[0m \u001b[39m    Invoke function on values of Series.\u001b[39;00m\n",
      "\u001b[0;32m   4670\u001b[0m \n",
      "\u001b[1;32m   (...)\u001b[0m\n",
      "\u001b[0;32m   4769\u001b[0m \u001b[39m    dtype: float64\u001b[39;00m\n",
      "\u001b[0;32m   4770\u001b[0m \u001b[39m    \"\"\"\u001b[39;00m\n",
      "\u001b[1;32m-> 4771\u001b[0m     \u001b[39mreturn\u001b[39;00m SeriesApply(\u001b[39mself\u001b[39;49m, func, convert_dtype, args, kwargs)\u001b[39m.\u001b[39;49mapply()\n",
      "\n",
      "File \u001b[1;32mc:\\Users\\drouni\\workdir\\fineng\\venv\\lib\\site-packages\\pandas\\core\\apply.py:1105\u001b[0m, in \u001b[0;36mSeriesApply.apply\u001b[1;34m(self)\u001b[0m\n",
      "\u001b[0;32m   1102\u001b[0m     \u001b[39mreturn\u001b[39;00m \u001b[39mself\u001b[39m\u001b[39m.\u001b[39mapply_str()\n",
      "\u001b[0;32m   1104\u001b[0m \u001b[39m# self.f is Callable\u001b[39;00m\n",
      "\u001b[1;32m-> 1105\u001b[0m \u001b[39mreturn\u001b[39;00m \u001b[39mself\u001b[39;49m\u001b[39m.\u001b[39;49mapply_standard()\n",
      "\n",
      "File \u001b[1;32mc:\\Users\\drouni\\workdir\\fineng\\venv\\lib\\site-packages\\pandas\\core\\apply.py:1156\u001b[0m, in \u001b[0;36mSeriesApply.apply_standard\u001b[1;34m(self)\u001b[0m\n",
      "\u001b[0;32m   1154\u001b[0m     \u001b[39melse\u001b[39;00m:\n",
      "\u001b[0;32m   1155\u001b[0m         values \u001b[39m=\u001b[39m obj\u001b[39m.\u001b[39mastype(\u001b[39mobject\u001b[39m)\u001b[39m.\u001b[39m_values\n",
      "\u001b[1;32m-> 1156\u001b[0m         mapped \u001b[39m=\u001b[39m lib\u001b[39m.\u001b[39;49mmap_infer(\n",
      "\u001b[0;32m   1157\u001b[0m             values,\n",
      "\u001b[0;32m   1158\u001b[0m             f,\n",
      "\u001b[0;32m   1159\u001b[0m             convert\u001b[39m=\u001b[39;49m\u001b[39mself\u001b[39;49m\u001b[39m.\u001b[39;49mconvert_dtype,\n",
      "\u001b[0;32m   1160\u001b[0m         )\n",
      "\u001b[0;32m   1162\u001b[0m \u001b[39mif\u001b[39;00m \u001b[39mlen\u001b[39m(mapped) \u001b[39mand\u001b[39;00m \u001b[39misinstance\u001b[39m(mapped[\u001b[39m0\u001b[39m], ABCSeries):\n",
      "\u001b[0;32m   1163\u001b[0m     \u001b[39m# GH#43986 Need to do list(mapped) in order to get treated as nested\u001b[39;00m\n",
      "\u001b[0;32m   1164\u001b[0m     \u001b[39m#  See also GH#25959 regarding EA support\u001b[39;00m\n",
      "\u001b[0;32m   1165\u001b[0m     \u001b[39mreturn\u001b[39;00m obj\u001b[39m.\u001b[39m_constructor_expanddim(\u001b[39mlist\u001b[39m(mapped), index\u001b[39m=\u001b[39mobj\u001b[39m.\u001b[39mindex)\n",
      "\n",
      "File \u001b[1;32mc:\\Users\\drouni\\workdir\\fineng\\venv\\lib\\site-packages\\pandas\\_libs\\lib.pyx:2918\u001b[0m, in \u001b[0;36mpandas._libs.lib.map_infer\u001b[1;34m()\u001b[0m\n",
      "\n",
      "Cell \u001b[1;32mIn [114], line 1\u001b[0m, in \u001b[0;36m<lambda>\u001b[1;34m(x)\u001b[0m\n",
      "\u001b[1;32m----> 1\u001b[0m msft[\u001b[39m\"\u001b[39m\u001b[39mDate\u001b[39m\u001b[39m\"\u001b[39m] \u001b[39m=\u001b[39m msft[\u001b[39m\"\u001b[39m\u001b[39mDate\u001b[39m\u001b[39m\"\u001b[39m]\u001b[39m.\u001b[39mapply(\u001b[39mlambda\u001b[39;00m x: datetime\u001b[39m.\u001b[39;49mstrptime(x, \u001b[39m\"\u001b[39;49m\u001b[39m%\u001b[39;49m\u001b[39mY-\u001b[39;49m\u001b[39m%\u001b[39;49m\u001b[39mm-\u001b[39;49m\u001b[39m%d\u001b[39;49;00m\u001b[39m\"\u001b[39;49m))\n",
      "\n",
      "\u001b[1;31mTypeError\u001b[0m: strptime() argument 1 must be str, not Timestamp"
     ]
    }
   ],
   "source": [
    "msft[\"Date\"] = msft[\"Date\"].apply(lambda x: datetime.strptime(x, \"%Y-%m-%d\"))"
   ]
  },
  {
   "cell_type": "markdown",
   "metadata": {},
   "source": [
    "## 3. Выбор опционов для анализа "
   ]
  },
  {
   "cell_type": "code",
   "execution_count": null,
   "metadata": {},
   "outputs": [
    {
     "data": {
      "text/plain": [
       "datetime.datetime(2019, 2, 4, 0, 0)"
      ]
     },
     "metadata": {},
     "output_type": "display_data"
    }
   ],
   "source": [
    "date = \"2019-02-04\"  # дата расчетов\n",
    "quote_date = datetime.strptime(date, \"%Y-%m-%d\")  # дата расчетов\n",
    "quote_date"
   ]
  },
  {
   "cell_type": "code",
   "execution_count": null,
   "metadata": {},
   "outputs": [
    {
     "data": {
      "text/plain": [
       "datetime.datetime(2019, 2, 15, 0, 0)"
      ]
     },
     "metadata": {},
     "output_type": "display_data"
    }
   ],
   "source": [
    "expiration_date = \"2019-02-15\"  # дата экспирации\n",
    "expiration_date = datetime.strptime(expiration_date, \"%Y-%m-%d\")\n",
    "expiration_date"
   ]
  },
  {
   "cell_type": "code",
   "execution_count": null,
   "metadata": {},
   "outputs": [
    {
     "name": "stdout",
     "output_type": "stream",
     "text": [
      "105.739998\n"
     ]
    }
   ],
   "source": [
    "# цена спот в дату расчета\n",
    "S_0 = float(msft[msft.Date == quote_date][\"Close\"])\n",
    "print(S_0)"
   ]
  },
  {
   "cell_type": "code",
   "execution_count": null,
   "metadata": {},
   "outputs": [
    {
     "data": {
      "text/plain": [
       "0.044"
      ]
     },
     "metadata": {},
     "output_type": "display_data"
    }
   ],
   "source": [
    "# количество дней до экспирации\n",
    "days = (expiration_date - quote_date).days\n",
    "T = days / 250\n",
    "T"
   ]
  },
  {
   "cell_type": "code",
   "execution_count": null,
   "metadata": {},
   "outputs": [],
   "source": [
    "div_y = 0.0172  # непрерывная дивидендная ставка (можно взять с сайта yahoo)"
   ]
  },
  {
   "cell_type": "code",
   "execution_count": null,
   "metadata": {},
   "outputs": [],
   "source": [
    "# полный набор страйков\n",
    "strikes = np.array(\n",
    "    cboe_options[\n",
    "        (cboe_options.quote_date == quote_date)\n",
    "        & (cboe_options.underlying_symbol == \"MSFT\")\n",
    "        & (cboe_options.expiration == expiration_date)\n",
    "    ][\"strike\"].unique()\n",
    ")"
   ]
  },
  {
   "cell_type": "code",
   "execution_count": null,
   "metadata": {},
   "outputs": [
    {
     "data": {
      "text/plain": [
       "array([ 50. ,  55. ,  60. ,  65. ,  70. ,  75. ,  75.5,  76. ,  76.5,\n",
       "        77. ,  77.5,  78. ,  78.5,  79. ,  79.5,  80. ,  80.5,  81. ,\n",
       "        81.5,  82. ,  82.5,  83. ,  83.5,  84. ,  84.5,  85. ,  85.5,\n",
       "        86. ,  86.5,  87. ,  87.5,  88. ,  88.5,  89. ,  89.5,  90. ,\n",
       "        90.5,  91. ,  91.5,  92. ,  92.5,  93. ,  94. ,  95. ,  96. ,\n",
       "        97. ,  97.5,  98. ,  99. ,  99.5, 100. , 101. , 102. , 103. ,\n",
       "       104. , 105. , 106. , 107. , 108. , 109. , 110. , 111. , 112. ,\n",
       "       113. , 114. , 115. , 116. , 117. , 118. , 119. , 120. , 125. ,\n",
       "       130. , 135. , 140. , 145. , 150. ])"
      ]
     },
     "metadata": {},
     "output_type": "display_data"
    }
   ],
   "source": [
    "strikes"
   ]
  },
  {
   "cell_type": "code",
   "execution_count": null,
   "metadata": {},
   "outputs": [
    {
     "data": {
      "text/plain": [
       "56"
      ]
     },
     "metadata": {},
     "output_type": "display_data"
    }
   ],
   "source": [
    "# страйк ATM\n",
    "index_ATM = np.argmin(np.abs(strikes - S_0))\n",
    "index_ATM"
   ]
  },
  {
   "cell_type": "code",
   "execution_count": null,
   "metadata": {},
   "outputs": [],
   "source": [
    "# вспомогательный индекс для построения списка страйков\n",
    "strike_range_index = 5"
   ]
  },
  {
   "cell_type": "code",
   "execution_count": null,
   "metadata": {},
   "outputs": [
    {
     "name": "stdout",
     "output_type": "stream",
     "text": [
      "51 61\n"
     ]
    }
   ],
   "source": [
    "# максимальный и минимальный индексы для  списка страйков\n",
    "index_min = max(0, index_ATM - strike_range_index)\n",
    "index_max = min(len(strikes) - 1, index_ATM + strike_range_index)\n",
    "print(index_min, index_max)"
   ]
  },
  {
   "cell_type": "code",
   "execution_count": null,
   "metadata": {},
   "outputs": [
    {
     "data": {
      "text/plain": [
       "110.0"
      ]
     },
     "metadata": {},
     "output_type": "display_data"
    }
   ],
   "source": [
    "# создание списка страйков\n",
    "strikes_range = strikes[index_min:index_max]\n",
    "max(strikes_range)"
   ]
  },
  {
   "cell_type": "code",
   "execution_count": null,
   "metadata": {},
   "outputs": [],
   "source": [
    "# массив данных по выбранным опционам колл\n",
    "cboe_MSFT_call = cboe_options[\n",
    "    (cboe_options.quote_date == quote_date)\n",
    "    & (cboe_options.underlying_symbol == \"MSFT\")\n",
    "    & (cboe_options.option_type == \"C\")\n",
    "    & (cboe_options.expiration == expiration_date)\n",
    "    & (cboe_options.strike <= max(strikes_range))\n",
    "    & (cboe_options.strike >= min(strikes_range))\n",
    "][\n",
    "    [\n",
    "        \"strike\",\n",
    "        \"high\",\n",
    "        \"low\",\n",
    "        \"close\",\n",
    "        \"delta_1545\",\n",
    "        \"gamma_1545\",\n",
    "        \"vega_1545\",\n",
    "        \"implied_volatility_1545\",\n",
    "    ]\n",
    "]"
   ]
  },
  {
   "cell_type": "code",
   "execution_count": null,
   "metadata": {},
   "outputs": [
    {
     "data": {
      "text/html": [
       "<div>\n",
       "<style scoped>\n",
       "    .dataframe tbody tr th:only-of-type {\n",
       "        vertical-align: middle;\n",
       "    }\n",
       "\n",
       "    .dataframe tbody tr th {\n",
       "        vertical-align: top;\n",
       "    }\n",
       "\n",
       "    .dataframe thead th {\n",
       "        text-align: right;\n",
       "    }\n",
       "</style>\n",
       "<table border=\"1\" class=\"dataframe\">\n",
       "  <thead>\n",
       "    <tr style=\"text-align: right;\">\n",
       "      <th></th>\n",
       "      <th>strike</th>\n",
       "      <th>high</th>\n",
       "      <th>low</th>\n",
       "      <th>close</th>\n",
       "      <th>delta_1545</th>\n",
       "      <th>gamma_1545</th>\n",
       "      <th>vega_1545</th>\n",
       "      <th>implied_volatility_1545</th>\n",
       "    </tr>\n",
       "  </thead>\n",
       "  <tbody>\n",
       "    <tr>\n",
       "      <th>1654</th>\n",
       "      <td>101.0</td>\n",
       "      <td>5.00</td>\n",
       "      <td>3.85</td>\n",
       "      <td>4.95</td>\n",
       "      <td>0.8507</td>\n",
       "      <td>0.0521</td>\n",
       "      <td>0.0426</td>\n",
       "      <td>0.2437</td>\n",
       "    </tr>\n",
       "    <tr>\n",
       "      <th>1656</th>\n",
       "      <td>102.0</td>\n",
       "      <td>4.25</td>\n",
       "      <td>2.44</td>\n",
       "      <td>4.25</td>\n",
       "      <td>0.7973</td>\n",
       "      <td>0.0653</td>\n",
       "      <td>0.0517</td>\n",
       "      <td>0.2359</td>\n",
       "    </tr>\n",
       "    <tr>\n",
       "      <th>1658</th>\n",
       "      <td>103.0</td>\n",
       "      <td>3.40</td>\n",
       "      <td>1.85</td>\n",
       "      <td>3.30</td>\n",
       "      <td>0.7307</td>\n",
       "      <td>0.0793</td>\n",
       "      <td>0.0605</td>\n",
       "      <td>0.2274</td>\n",
       "    </tr>\n",
       "    <tr>\n",
       "      <th>1660</th>\n",
       "      <td>104.0</td>\n",
       "      <td>2.67</td>\n",
       "      <td>1.25</td>\n",
       "      <td>2.55</td>\n",
       "      <td>0.6500</td>\n",
       "      <td>0.0929</td>\n",
       "      <td>0.0679</td>\n",
       "      <td>0.2177</td>\n",
       "    </tr>\n",
       "    <tr>\n",
       "      <th>1662</th>\n",
       "      <td>105.0</td>\n",
       "      <td>2.04</td>\n",
       "      <td>0.61</td>\n",
       "      <td>2.02</td>\n",
       "      <td>0.5538</td>\n",
       "      <td>0.1023</td>\n",
       "      <td>0.0724</td>\n",
       "      <td>0.2110</td>\n",
       "    </tr>\n",
       "    <tr>\n",
       "      <th>1664</th>\n",
       "      <td>106.0</td>\n",
       "      <td>1.48</td>\n",
       "      <td>0.60</td>\n",
       "      <td>1.39</td>\n",
       "      <td>0.4490</td>\n",
       "      <td>0.1056</td>\n",
       "      <td>0.0725</td>\n",
       "      <td>0.2045</td>\n",
       "    </tr>\n",
       "    <tr>\n",
       "      <th>1666</th>\n",
       "      <td>107.0</td>\n",
       "      <td>1.01</td>\n",
       "      <td>0.39</td>\n",
       "      <td>0.92</td>\n",
       "      <td>0.3438</td>\n",
       "      <td>0.1005</td>\n",
       "      <td>0.0674</td>\n",
       "      <td>0.1998</td>\n",
       "    </tr>\n",
       "    <tr>\n",
       "      <th>1668</th>\n",
       "      <td>108.0</td>\n",
       "      <td>0.66</td>\n",
       "      <td>0.29</td>\n",
       "      <td>0.59</td>\n",
       "      <td>0.2464</td>\n",
       "      <td>0.0881</td>\n",
       "      <td>0.0578</td>\n",
       "      <td>0.1954</td>\n",
       "    </tr>\n",
       "    <tr>\n",
       "      <th>1670</th>\n",
       "      <td>109.0</td>\n",
       "      <td>0.40</td>\n",
       "      <td>0.18</td>\n",
       "      <td>0.38</td>\n",
       "      <td>0.1669</td>\n",
       "      <td>0.0705</td>\n",
       "      <td>0.0458</td>\n",
       "      <td>0.1936</td>\n",
       "    </tr>\n",
       "    <tr>\n",
       "      <th>1672</th>\n",
       "      <td>110.0</td>\n",
       "      <td>0.30</td>\n",
       "      <td>0.09</td>\n",
       "      <td>0.20</td>\n",
       "      <td>0.1056</td>\n",
       "      <td>0.0520</td>\n",
       "      <td>0.0334</td>\n",
       "      <td>0.1917</td>\n",
       "    </tr>\n",
       "  </tbody>\n",
       "</table>\n",
       "</div>"
      ],
      "text/plain": [
       "      strike  high   low  close  delta_1545  gamma_1545  vega_1545  \\\n",
       "1654   101.0  5.00  3.85   4.95      0.8507      0.0521     0.0426   \n",
       "1656   102.0  4.25  2.44   4.25      0.7973      0.0653     0.0517   \n",
       "1658   103.0  3.40  1.85   3.30      0.7307      0.0793     0.0605   \n",
       "1660   104.0  2.67  1.25   2.55      0.6500      0.0929     0.0679   \n",
       "1662   105.0  2.04  0.61   2.02      0.5538      0.1023     0.0724   \n",
       "1664   106.0  1.48  0.60   1.39      0.4490      0.1056     0.0725   \n",
       "1666   107.0  1.01  0.39   0.92      0.3438      0.1005     0.0674   \n",
       "1668   108.0  0.66  0.29   0.59      0.2464      0.0881     0.0578   \n",
       "1670   109.0  0.40  0.18   0.38      0.1669      0.0705     0.0458   \n",
       "1672   110.0  0.30  0.09   0.20      0.1056      0.0520     0.0334   \n",
       "\n",
       "      implied_volatility_1545  \n",
       "1654                   0.2437  \n",
       "1656                   0.2359  \n",
       "1658                   0.2274  \n",
       "1660                   0.2177  \n",
       "1662                   0.2110  \n",
       "1664                   0.2045  \n",
       "1666                   0.1998  \n",
       "1668                   0.1954  \n",
       "1670                   0.1936  \n",
       "1672                   0.1917  "
      ]
     },
     "metadata": {},
     "output_type": "display_data"
    }
   ],
   "source": [
    "cboe_MSFT_call"
   ]
  },
  {
   "cell_type": "code",
   "execution_count": null,
   "metadata": {},
   "outputs": [],
   "source": [
    "# массив данных по выбранным опционам пут\n",
    "cboe_MSFT_put = cboe_options[\n",
    "    (cboe_options.quote_date == quote_date)\n",
    "    & (cboe_options.underlying_symbol == \"MSFT\")\n",
    "    & (cboe_options.option_type == \"P\")\n",
    "    & (cboe_options.expiration == expiration_date)\n",
    "    & (cboe_options.strike <= max(strikes_range))\n",
    "    & (cboe_options.strike >= min(strikes_range))\n",
    "][\n",
    "    [\n",
    "        \"strike\",\n",
    "        \"high\",\n",
    "        \"low\",\n",
    "        \"close\",\n",
    "        \"delta_1545\",\n",
    "        \"gamma_1545\",\n",
    "        \"vega_1545\",\n",
    "        \"implied_volatility_1545\",\n",
    "    ]\n",
    "]"
   ]
  },
  {
   "cell_type": "code",
   "execution_count": null,
   "metadata": {},
   "outputs": [
    {
     "data": {
      "text/html": [
       "<div>\n",
       "<style scoped>\n",
       "    .dataframe tbody tr th:only-of-type {\n",
       "        vertical-align: middle;\n",
       "    }\n",
       "\n",
       "    .dataframe tbody tr th {\n",
       "        vertical-align: top;\n",
       "    }\n",
       "\n",
       "    .dataframe thead th {\n",
       "        text-align: right;\n",
       "    }\n",
       "</style>\n",
       "<table border=\"1\" class=\"dataframe\">\n",
       "  <thead>\n",
       "    <tr style=\"text-align: right;\">\n",
       "      <th></th>\n",
       "      <th>strike</th>\n",
       "      <th>high</th>\n",
       "      <th>low</th>\n",
       "      <th>close</th>\n",
       "      <th>delta_1545</th>\n",
       "      <th>gamma_1545</th>\n",
       "      <th>vega_1545</th>\n",
       "      <th>implied_volatility_1545</th>\n",
       "    </tr>\n",
       "  </thead>\n",
       "  <tbody>\n",
       "    <tr>\n",
       "      <th>1655</th>\n",
       "      <td>101.0</td>\n",
       "      <td>0.65</td>\n",
       "      <td>0.30</td>\n",
       "      <td>0.30</td>\n",
       "      <td>-0.1432</td>\n",
       "      <td>0.0520</td>\n",
       "      <td>0.0414</td>\n",
       "      <td>0.2374</td>\n",
       "    </tr>\n",
       "    <tr>\n",
       "      <th>1657</th>\n",
       "      <td>102.0</td>\n",
       "      <td>1.12</td>\n",
       "      <td>0.40</td>\n",
       "      <td>0.40</td>\n",
       "      <td>-0.1960</td>\n",
       "      <td>0.0659</td>\n",
       "      <td>0.0507</td>\n",
       "      <td>0.2289</td>\n",
       "    </tr>\n",
       "    <tr>\n",
       "      <th>1659</th>\n",
       "      <td>103.0</td>\n",
       "      <td>1.70</td>\n",
       "      <td>0.57</td>\n",
       "      <td>0.57</td>\n",
       "      <td>-0.2629</td>\n",
       "      <td>0.0810</td>\n",
       "      <td>0.0598</td>\n",
       "      <td>0.2199</td>\n",
       "    </tr>\n",
       "    <tr>\n",
       "      <th>1661</th>\n",
       "      <td>104.0</td>\n",
       "      <td>1.88</td>\n",
       "      <td>0.83</td>\n",
       "      <td>0.83</td>\n",
       "      <td>-0.3474</td>\n",
       "      <td>0.0945</td>\n",
       "      <td>0.0677</td>\n",
       "      <td>0.2133</td>\n",
       "    </tr>\n",
       "    <tr>\n",
       "      <th>1663</th>\n",
       "      <td>105.0</td>\n",
       "      <td>2.83</td>\n",
       "      <td>1.16</td>\n",
       "      <td>1.20</td>\n",
       "      <td>-0.4452</td>\n",
       "      <td>0.1046</td>\n",
       "      <td>0.0724</td>\n",
       "      <td>0.2062</td>\n",
       "    </tr>\n",
       "    <tr>\n",
       "      <th>1665</th>\n",
       "      <td>106.0</td>\n",
       "      <td>3.00</td>\n",
       "      <td>1.60</td>\n",
       "      <td>1.68</td>\n",
       "      <td>-0.5521</td>\n",
       "      <td>0.1074</td>\n",
       "      <td>0.0725</td>\n",
       "      <td>0.2010</td>\n",
       "    </tr>\n",
       "    <tr>\n",
       "      <th>1667</th>\n",
       "      <td>107.0</td>\n",
       "      <td>3.15</td>\n",
       "      <td>2.19</td>\n",
       "      <td>2.23</td>\n",
       "      <td>-0.6582</td>\n",
       "      <td>0.1015</td>\n",
       "      <td>0.0673</td>\n",
       "      <td>0.1974</td>\n",
       "    </tr>\n",
       "    <tr>\n",
       "      <th>1669</th>\n",
       "      <td>108.0</td>\n",
       "      <td>4.60</td>\n",
       "      <td>2.90</td>\n",
       "      <td>2.90</td>\n",
       "      <td>-0.7575</td>\n",
       "      <td>0.0888</td>\n",
       "      <td>0.0573</td>\n",
       "      <td>0.1921</td>\n",
       "    </tr>\n",
       "    <tr>\n",
       "      <th>1671</th>\n",
       "      <td>109.0</td>\n",
       "      <td>3.80</td>\n",
       "      <td>3.80</td>\n",
       "      <td>3.80</td>\n",
       "      <td>-0.8386</td>\n",
       "      <td>0.0705</td>\n",
       "      <td>0.0448</td>\n",
       "      <td>0.1894</td>\n",
       "    </tr>\n",
       "    <tr>\n",
       "      <th>1673</th>\n",
       "      <td>110.0</td>\n",
       "      <td>6.45</td>\n",
       "      <td>4.40</td>\n",
       "      <td>4.49</td>\n",
       "      <td>-0.9115</td>\n",
       "      <td>0.0492</td>\n",
       "      <td>0.0294</td>\n",
       "      <td>0.1779</td>\n",
       "    </tr>\n",
       "  </tbody>\n",
       "</table>\n",
       "</div>"
      ],
      "text/plain": [
       "      strike  high   low  close  delta_1545  gamma_1545  vega_1545  \\\n",
       "1655   101.0  0.65  0.30   0.30     -0.1432      0.0520     0.0414   \n",
       "1657   102.0  1.12  0.40   0.40     -0.1960      0.0659     0.0507   \n",
       "1659   103.0  1.70  0.57   0.57     -0.2629      0.0810     0.0598   \n",
       "1661   104.0  1.88  0.83   0.83     -0.3474      0.0945     0.0677   \n",
       "1663   105.0  2.83  1.16   1.20     -0.4452      0.1046     0.0724   \n",
       "1665   106.0  3.00  1.60   1.68     -0.5521      0.1074     0.0725   \n",
       "1667   107.0  3.15  2.19   2.23     -0.6582      0.1015     0.0673   \n",
       "1669   108.0  4.60  2.90   2.90     -0.7575      0.0888     0.0573   \n",
       "1671   109.0  3.80  3.80   3.80     -0.8386      0.0705     0.0448   \n",
       "1673   110.0  6.45  4.40   4.49     -0.9115      0.0492     0.0294   \n",
       "\n",
       "      implied_volatility_1545  \n",
       "1655                   0.2374  \n",
       "1657                   0.2289  \n",
       "1659                   0.2199  \n",
       "1661                   0.2133  \n",
       "1663                   0.2062  \n",
       "1665                   0.2010  \n",
       "1667                   0.1974  \n",
       "1669                   0.1921  \n",
       "1671                   0.1894  \n",
       "1673                   0.1779  "
      ]
     },
     "metadata": {},
     "output_type": "display_data"
    }
   ],
   "source": [
    "cboe_MSFT_put"
   ]
  },
  {
   "cell_type": "markdown",
   "metadata": {},
   "source": [
    "## 4. Модель CRR"
   ]
  },
  {
   "cell_type": "markdown",
   "metadata": {},
   "source": [
    "### Алгоритм  модели биномиального дерева CRR и соответствующие формулы приведены в лекционных материалах. Программная реализация модели осуществляется с помощью создания класса. Класс объединяет методы (функции) и переменные или, иначе, реализует механизм инкапсуляции, являющийся важнейшим элементом объектно-ориентированного программирования."
   ]
  },
  {
   "cell_type": "code",
   "execution_count": null,
   "metadata": {},
   "outputs": [],
   "source": [
    "class CRR:\n",
    "    def __init__(\n",
    "        self, S_0, K, r, T, N, sigma, div=0, t=0, is_call=True, is_european=True\n",
    "    ):\n",
    "        self._S_0 = S_0\n",
    "        self._K = K\n",
    "        self._r = r\n",
    "        self._div = div\n",
    "        self._T = T\n",
    "        self._N = N\n",
    "        self._sigma = sigma\n",
    "        self._t = t\n",
    "        self._is_call = is_call\n",
    "        self._is_european = is_european\n",
    "\n",
    "    def __set_up__(self):\n",
    "        self._dt = T / N\n",
    "        self._df = np.exp(-(self._r - self._div) * self._dt)\n",
    "        self._u = np.exp(self._sigma * np.sqrt(self._dt))\n",
    "        self._d = 1 / self._u\n",
    "        self._p = (np.exp((self._r - self._div) * self._dt) - self._d) / (\n",
    "            self._u - self._d\n",
    "        )\n",
    "        self._q = 1 - self._p\n",
    "\n",
    "    def __path_gen__(self):\n",
    "        self._S = [np.array([self._S_0])]\n",
    "        for i in range(self._N):\n",
    "            prev = self._S[-1]\n",
    "            st = np.concatenate((prev * self._u, [prev[-1] * self._d]))\n",
    "            self._S.append(st)\n",
    "\n",
    "    def __initialize_payoffs__(self):\n",
    "        final_state = self._S[N]\n",
    "        return (\n",
    "            np.maximum(0, (final_state - self._K))\n",
    "            if self._is_call\n",
    "            else np.maximum(0, (self._K - final_state))\n",
    "        )\n",
    "\n",
    "    def __check_early_ex__(self, i, payoffs):\n",
    "        early_payoffs = (\n",
    "            (self._S[i] - self._K) if self._is_call else (self._K - self._S[i])\n",
    "        )\n",
    "        return np.maximum(early_payoffs, payoffs)\n",
    "\n",
    "    def __traverse_tree__(self, payoffs):\n",
    "        for i in reversed(range(self._N)):\n",
    "            payoffs = (payoffs[:-1] * self._p + payoffs[1:] * self._q) * self._df\n",
    "            # print(payoffs)\n",
    "            if not self._is_european:\n",
    "                payoffs = self.__check_early_ex__(i, payoffs)\n",
    "        return payoffs\n",
    "\n",
    "    def get_price(self):\n",
    "        self.__set_up__()\n",
    "        self.__path_gen__()\n",
    "        payoffs_init = self.__initialize_payoffs__()\n",
    "        payoffs = self.__traverse_tree__(payoffs_init)\n",
    "        return payoffs[0]\n",
    "\n",
    "    def get_path(self):\n",
    "        self.__set_up__()\n",
    "        self.__path_gen__()\n",
    "        return self._S\n",
    "\n",
    "    def get_prob(self):\n",
    "        self.__set_up__()\n",
    "        return self._p, self._q\n",
    "\n",
    "    def get_param(self):\n",
    "        self.__set_up__()\n",
    "        return self._u, self._d"
   ]
  },
  {
   "cell_type": "markdown",
   "metadata": {},
   "source": [
    "### Реализация модели CRR "
   ]
  },
  {
   "cell_type": "code",
   "execution_count": null,
   "metadata": {},
   "outputs": [],
   "source": [
    "K = 108  # страйк\n",
    "r = 0.025  # процентная ставка\n",
    "N = 4  # количестов шагов для построения биномиального дерева\n",
    "sigma = 0.2  # волатильность"
   ]
  },
  {
   "cell_type": "code",
   "execution_count": null,
   "metadata": {},
   "outputs": [],
   "source": [
    "option_call = CRR(S_0, K, r, T, N, sigma, is_call=True, div=div_y, is_european=True)"
   ]
  },
  {
   "cell_type": "code",
   "execution_count": null,
   "metadata": {},
   "outputs": [
    {
     "data": {
      "text/plain": [
       "0.9861027305170306"
      ]
     },
     "metadata": {},
     "output_type": "display_data"
    }
   ],
   "source": [
    "option_call.get_price()"
   ]
  },
  {
   "cell_type": "code",
   "execution_count": null,
   "metadata": {},
   "outputs": [],
   "source": [
    "S = option_call.get_path()  # биномиальное дерево"
   ]
  },
  {
   "cell_type": "code",
   "execution_count": null,
   "metadata": {},
   "outputs": [
    {
     "data": {
      "text/plain": [
       "[array([105.739998]),\n",
       " array([107.98144522, 103.54507808]),\n",
       " array([110.27040602, 105.739998  , 101.39571967]),\n",
       " array([112.60788758, 107.98144522, 103.54507808,  99.29097701]),\n",
       " array([114.99491842, 110.27040602, 105.739998  , 101.39571967,\n",
       "         97.22992399])]"
      ]
     },
     "metadata": {},
     "output_type": "display_data"
    }
   ],
   "source": [
    "S"
   ]
  },
  {
   "cell_type": "markdown",
   "metadata": {},
   "source": [
    "### Визуализация дерева"
   ]
  },
  {
   "cell_type": "code",
   "execution_count": null,
   "metadata": {},
   "outputs": [],
   "source": [
    "G = nx.Graph()"
   ]
  },
  {
   "cell_type": "code",
   "execution_count": null,
   "metadata": {},
   "outputs": [],
   "source": [
    "for i in range(0, N + 1):\n",
    "    for j in range(1, i + 2):\n",
    "        if i < N:\n",
    "            G.add_edge((i, j), (i + 1, j))\n",
    "            G.add_edge((i, j), (i + 1, j + 1))"
   ]
  },
  {
   "cell_type": "code",
   "execution_count": null,
   "metadata": {},
   "outputs": [
    {
     "data": {
      "image/png": "[encoded data removed]",
      "text/plain": [
       "<Figure size 1000x600 with 1 Axes>"
      ]
     },
     "metadata": {},
     "output_type": "display_data"
    }
   ],
   "source": [
    "plt.figure(figsize=(10, 6))\n",
    "posG = {}\n",
    "labels = {}\n",
    "i = 0\n",
    "for node in G.nodes():\n",
    "    posG[node] = (node[0], N + 2 + node[0] - 2 * node[1])\n",
    "    i, j = node\n",
    "    labels[node] = round(S[i][j - 1], 2)\n",
    "nx.draw_networkx_nodes(G, posG)\n",
    "nx.draw_networkx_edges(G, posG)\n",
    "_ = nx.draw_networkx_labels(G, posG, labels)"
   ]
  },
  {
   "cell_type": "code",
   "execution_count": null,
   "metadata": {},
   "outputs": [
    {
     "data": {
      "text/plain": [
       "(0.4968012630484561, 0.5031987369515438)"
      ]
     },
     "metadata": {},
     "output_type": "display_data"
    }
   ],
   "source": [
    "option_call.get_prob()  # риск-нейтральные вероятности"
   ]
  },
  {
   "cell_type": "code",
   "execution_count": null,
   "metadata": {},
   "outputs": [
    {
     "data": {
      "text/plain": [
       "(1.0211977233170073, 0.9792422928165626)"
      ]
     },
     "metadata": {},
     "output_type": "display_data"
    }
   ],
   "source": [
    "option_call.get_param()  # параметры u и d"
   ]
  },
  {
   "cell_type": "code",
   "execution_count": null,
   "metadata": {},
   "outputs": [],
   "source": [
    "option_put = CRR(S_0, K, r, T, N, sigma, is_call=False, div=div_y, is_european=True)"
   ]
  },
  {
   "cell_type": "code",
   "execution_count": null,
   "metadata": {},
   "outputs": [
    {
     "data": {
      "text/plain": [
       "3.209045490246422"
      ]
     },
     "metadata": {},
     "output_type": "display_data"
    }
   ],
   "source": [
    "option_put.get_price()"
   ]
  },
  {
   "cell_type": "markdown",
   "metadata": {},
   "source": [
    "### Паритет пут-колл"
   ]
  },
  {
   "cell_type": "code",
   "execution_count": null,
   "metadata": {},
   "outputs": [
    {
     "data": {
      "text/plain": [
       "108.86736804656562"
      ]
     },
     "metadata": {},
     "output_type": "display_data"
    }
   ],
   "source": [
    "K * np.exp(-r * (T - 0)) + option_call.get_price()"
   ]
  },
  {
   "cell_type": "code",
   "execution_count": null,
   "metadata": {},
   "outputs": [
    {
     "data": {
      "text/plain": [
       "108.8690497332157"
      ]
     },
     "metadata": {},
     "output_type": "display_data"
    }
   ],
   "source": [
    "np.exp(-div_y * (T - 0)) * S_0 + option_put.get_price()"
   ]
  },
  {
   "cell_type": "markdown",
   "metadata": {},
   "source": [
    "## 5. Модель BSM (Black Scholes Merton)"
   ]
  },
  {
   "cell_type": "markdown",
   "metadata": {},
   "source": [
    "###  Модель Блэка-Шоулза и соответствующие формулы приведены в лекционных материалах. Программная реализация модели осуществляется с помощью создания класса. "
   ]
  },
  {
   "cell_type": "code",
   "execution_count": null,
   "metadata": {},
   "outputs": [],
   "source": [
    "class BSM:\n",
    "    def __init__(self, S_0, K, r, T, sigma, div=0, t=0, is_call=True):\n",
    "        self._S_0 = S_0\n",
    "        self._K = K\n",
    "        self._r = r\n",
    "        self._div = div\n",
    "        self._T = T\n",
    "        self._sigma = sigma\n",
    "        self._t = t\n",
    "        self._is_call = is_call\n",
    "\n",
    "    def __d_values__(self):\n",
    "        self._d1 = (\n",
    "            np.log(self._S_0 / self._K)\n",
    "            + (self._r - self._div + 0.5 * self._sigma**2) * (self._T - self._t)\n",
    "        ) / (self._sigma * np.sqrt(self._T - self._t))\n",
    "        self._d2 = self._d1 - self._sigma * np.sqrt(self._T - self._t)\n",
    "\n",
    "    def __N_d__(self, d_value):\n",
    "        return stats.norm.cdf(d_value)\n",
    "\n",
    "    def __price__(self):\n",
    "        return (\n",
    "            (\n",
    "                np.exp(-self._div * (self._T - self._t))\n",
    "                * self._S_0\n",
    "                * self.__N_d__(self._d1)\n",
    "                - np.exp(-self._r * (self._T - self._t))\n",
    "                * self._K\n",
    "                * self.__N_d__(self._d2)\n",
    "            )\n",
    "            if self._is_call\n",
    "            else (\n",
    "                np.exp(-self._r * (self._T - self._t))\n",
    "                * self._K\n",
    "                * self.__N_d__(-self._d2)\n",
    "                - np.exp(-self._div * (self._T - self._t))\n",
    "                * self._S_0\n",
    "                * self.__N_d__(-self._d1)\n",
    "            )\n",
    "        )\n",
    "\n",
    "    def get_price(self):\n",
    "        self.__d_values__()\n",
    "        price = self.__price__()\n",
    "        return price\n",
    "\n",
    "    def get_delta(self):\n",
    "        self.__d_values__()\n",
    "        return self.__N_d__(self._d1) if self._is_call else self.__N_d__(self._d1) - 1\n",
    "\n",
    "    def get_vega(self):\n",
    "        self.__d_values__()\n",
    "        return (\n",
    "            self._S_0\n",
    "            * stats.norm.pdf(self._d1)\n",
    "            * np.sqrt(self._T - self._t)\n",
    "            * np.exp(-self._div * (self._T - self._t))\n",
    "        ) / 100"
   ]
  },
  {
   "cell_type": "markdown",
   "metadata": {},
   "source": [
    "### Реализация модели BSM "
   ]
  },
  {
   "cell_type": "code",
   "execution_count": null,
   "metadata": {},
   "outputs": [],
   "source": [
    "K = 105\n",
    "r = 0.024\n",
    "sigma = 0.2  # годовое значение\n",
    "call = True"
   ]
  },
  {
   "cell_type": "code",
   "execution_count": null,
   "metadata": {},
   "outputs": [],
   "source": [
    "option_call = BSM(S_0, K, r, T, sigma, div=div_y, is_call=True)"
   ]
  },
  {
   "cell_type": "code",
   "execution_count": null,
   "metadata": {},
   "outputs": [
    {
     "data": {
      "text/plain": [
       "2.1739809537005854"
      ]
     },
     "metadata": {},
     "output_type": "display_data"
    }
   ],
   "source": [
    "option_call.get_price()"
   ]
  },
  {
   "cell_type": "code",
   "execution_count": null,
   "metadata": {},
   "outputs": [
    {
     "data": {
      "text/plain": [
       "0.5775029306678946"
      ]
     },
     "metadata": {},
     "output_type": "display_data"
    }
   ],
   "source": [
    "option_call.get_delta()  # дельта опциона"
   ]
  },
  {
   "cell_type": "code",
   "execution_count": null,
   "metadata": {},
   "outputs": [
    {
     "data": {
      "text/plain": [
       "0.08674546980516121"
      ]
     },
     "metadata": {},
     "output_type": "display_data"
    }
   ],
   "source": [
    "option_call.get_vega()  # вега опциона"
   ]
  },
  {
   "cell_type": "code",
   "execution_count": null,
   "metadata": {},
   "outputs": [],
   "source": [
    "option_put = BSM(S_0, K, r, T, sigma, div=div_y, is_call=False)"
   ]
  },
  {
   "cell_type": "code",
   "execution_count": null,
   "metadata": {},
   "outputs": [
    {
     "data": {
      "text/plain": [
       "1.403155234769038"
      ]
     },
     "metadata": {},
     "output_type": "display_data"
    }
   ],
   "source": [
    "option_put.get_price()"
   ]
  },
  {
   "cell_type": "code",
   "execution_count": null,
   "metadata": {},
   "outputs": [
    {
     "data": {
      "text/plain": [
       "-0.4224970693321054"
      ]
     },
     "metadata": {},
     "output_type": "display_data"
    }
   ],
   "source": [
    "option_put.get_delta()"
   ]
  },
  {
   "cell_type": "code",
   "execution_count": null,
   "metadata": {},
   "outputs": [
    {
     "data": {
      "text/plain": [
       "0.08674546980516121"
      ]
     },
     "metadata": {},
     "output_type": "display_data"
    }
   ],
   "source": [
    "option_put.get_vega()"
   ]
  },
  {
   "cell_type": "markdown",
   "metadata": {},
   "source": [
    "### Паритет пут-колл"
   ]
  },
  {
   "cell_type": "code",
   "execution_count": null,
   "metadata": {},
   "outputs": [
    {
     "data": {
      "text/plain": [
       "107.06315947773831"
      ]
     },
     "metadata": {},
     "output_type": "display_data"
    }
   ],
   "source": [
    "K * np.exp(-r * (T - 0)) + option_call.get_price()"
   ]
  },
  {
   "cell_type": "code",
   "execution_count": null,
   "metadata": {},
   "outputs": [
    {
     "data": {
      "text/plain": [
       "107.06315947773831"
      ]
     },
     "metadata": {},
     "output_type": "display_data"
    }
   ],
   "source": [
    "np.exp(-div_y * (T - 0)) * S_0 + option_put.get_price()"
   ]
  },
  {
   "cell_type": "markdown",
   "metadata": {},
   "source": [
    "## 5. Опиционные стратегии"
   ]
  },
  {
   "cell_type": "markdown",
   "metadata": {},
   "source": [
    "###  Bull spread"
   ]
  },
  {
   "cell_type": "code",
   "execution_count": null,
   "metadata": {},
   "outputs": [],
   "source": [
    "bull_spread_setup = pd.DataFrame(\n",
    "    zip(\n",
    "        [\"Call\", \"Call\"],\n",
    "        [104, 108],\n",
    "        [\n",
    "            CRR(\n",
    "                S_0, 104, r, T, N, sigma, is_call=True, div=div_y, is_european=False\n",
    "            ).get_price(),\n",
    "            CRR(\n",
    "                S_0, 108, r, T, N, sigma, is_call=True, div=div_y, is_european=False\n",
    "            ).get_price(),\n",
    "        ],\n",
    "        [\"Buy\", \"Sell\"],\n",
    "    ),\n",
    "    columns=[\"Type\", \"Strike\", \"Price\", \"Buy/Sell\"],\n",
    ")"
   ]
  },
  {
   "cell_type": "code",
   "execution_count": null,
   "metadata": {},
   "outputs": [
    {
     "data": {
      "text/html": [
       "<div>\n",
       "<style scoped>\n",
       "    .dataframe tbody tr th:only-of-type {\n",
       "        vertical-align: middle;\n",
       "    }\n",
       "\n",
       "    .dataframe tbody tr th {\n",
       "        vertical-align: top;\n",
       "    }\n",
       "\n",
       "    .dataframe thead th {\n",
       "        text-align: right;\n",
       "    }\n",
       "</style>\n",
       "<table border=\"1\" class=\"dataframe\">\n",
       "  <thead>\n",
       "    <tr style=\"text-align: right;\">\n",
       "      <th></th>\n",
       "      <th>Type</th>\n",
       "      <th>Strike</th>\n",
       "      <th>Price</th>\n",
       "      <th>Buy/Sell</th>\n",
       "    </tr>\n",
       "  </thead>\n",
       "  <tbody>\n",
       "    <tr>\n",
       "      <th>0</th>\n",
       "      <td>Call</td>\n",
       "      <td>104</td>\n",
       "      <td>2.865833</td>\n",
       "      <td>Buy</td>\n",
       "    </tr>\n",
       "    <tr>\n",
       "      <th>1</th>\n",
       "      <td>Call</td>\n",
       "      <td>108</td>\n",
       "      <td>0.984652</td>\n",
       "      <td>Sell</td>\n",
       "    </tr>\n",
       "  </tbody>\n",
       "</table>\n",
       "</div>"
      ],
      "text/plain": [
       "   Type  Strike     Price Buy/Sell\n",
       "0  Call     104  2.865833      Buy\n",
       "1  Call     108  0.984652     Sell"
      ]
     },
     "metadata": {},
     "output_type": "display_data"
    }
   ],
   "source": [
    "bull_spread_setup"
   ]
  },
  {
   "cell_type": "code",
   "execution_count": null,
   "metadata": {},
   "outputs": [],
   "source": [
    "bull_spread_result = pd.DataFrame(\n",
    "    zip(\n",
    "        range(100, 111),\n",
    "        np.maximum(range(100, 111) - bull_spread_setup.iloc[0, 1], 0)\n",
    "        - bull_spread_setup.iloc[0, 2],\n",
    "        -np.maximum((range(100, 111) - bull_spread_setup.iloc[1, 1]), 0)\n",
    "        + bull_spread_setup.iloc[1, 2],\n",
    "    ),\n",
    "    columns=[\"Spot\", \"Call1\", \"Call2\"],\n",
    ")"
   ]
  },
  {
   "cell_type": "code",
   "execution_count": null,
   "metadata": {},
   "outputs": [],
   "source": [
    "bull_spread_result[\"Result\"] = bull_spread_result[\"Call1\"] + bull_spread_result[\"Call2\"]"
   ]
  },
  {
   "cell_type": "code",
   "execution_count": null,
   "metadata": {},
   "outputs": [
    {
     "data": {
      "text/html": [
       "<div>\n",
       "<style scoped>\n",
       "    .dataframe tbody tr th:only-of-type {\n",
       "        vertical-align: middle;\n",
       "    }\n",
       "\n",
       "    .dataframe tbody tr th {\n",
       "        vertical-align: top;\n",
       "    }\n",
       "\n",
       "    .dataframe thead th {\n",
       "        text-align: right;\n",
       "    }\n",
       "</style>\n",
       "<table border=\"1\" class=\"dataframe\">\n",
       "  <thead>\n",
       "    <tr style=\"text-align: right;\">\n",
       "      <th></th>\n",
       "      <th>Spot</th>\n",
       "      <th>Call1</th>\n",
       "      <th>Call2</th>\n",
       "      <th>Result</th>\n",
       "    </tr>\n",
       "  </thead>\n",
       "  <tbody>\n",
       "    <tr>\n",
       "      <th>0</th>\n",
       "      <td>100</td>\n",
       "      <td>-2.865833</td>\n",
       "      <td>0.984652</td>\n",
       "      <td>-1.88118</td>\n",
       "    </tr>\n",
       "    <tr>\n",
       "      <th>1</th>\n",
       "      <td>101</td>\n",
       "      <td>-2.865833</td>\n",
       "      <td>0.984652</td>\n",
       "      <td>-1.88118</td>\n",
       "    </tr>\n",
       "    <tr>\n",
       "      <th>2</th>\n",
       "      <td>102</td>\n",
       "      <td>-2.865833</td>\n",
       "      <td>0.984652</td>\n",
       "      <td>-1.88118</td>\n",
       "    </tr>\n",
       "    <tr>\n",
       "      <th>3</th>\n",
       "      <td>103</td>\n",
       "      <td>-2.865833</td>\n",
       "      <td>0.984652</td>\n",
       "      <td>-1.88118</td>\n",
       "    </tr>\n",
       "    <tr>\n",
       "      <th>4</th>\n",
       "      <td>104</td>\n",
       "      <td>-2.865833</td>\n",
       "      <td>0.984652</td>\n",
       "      <td>-1.88118</td>\n",
       "    </tr>\n",
       "    <tr>\n",
       "      <th>5</th>\n",
       "      <td>105</td>\n",
       "      <td>-1.865833</td>\n",
       "      <td>0.984652</td>\n",
       "      <td>-0.88118</td>\n",
       "    </tr>\n",
       "    <tr>\n",
       "      <th>6</th>\n",
       "      <td>106</td>\n",
       "      <td>-0.865833</td>\n",
       "      <td>0.984652</td>\n",
       "      <td>0.11882</td>\n",
       "    </tr>\n",
       "    <tr>\n",
       "      <th>7</th>\n",
       "      <td>107</td>\n",
       "      <td>0.134167</td>\n",
       "      <td>0.984652</td>\n",
       "      <td>1.11882</td>\n",
       "    </tr>\n",
       "    <tr>\n",
       "      <th>8</th>\n",
       "      <td>108</td>\n",
       "      <td>1.134167</td>\n",
       "      <td>0.984652</td>\n",
       "      <td>2.11882</td>\n",
       "    </tr>\n",
       "    <tr>\n",
       "      <th>9</th>\n",
       "      <td>109</td>\n",
       "      <td>2.134167</td>\n",
       "      <td>-0.015348</td>\n",
       "      <td>2.11882</td>\n",
       "    </tr>\n",
       "    <tr>\n",
       "      <th>10</th>\n",
       "      <td>110</td>\n",
       "      <td>3.134167</td>\n",
       "      <td>-1.015348</td>\n",
       "      <td>2.11882</td>\n",
       "    </tr>\n",
       "  </tbody>\n",
       "</table>\n",
       "</div>"
      ],
      "text/plain": [
       "    Spot     Call1     Call2   Result\n",
       "0    100 -2.865833  0.984652 -1.88118\n",
       "1    101 -2.865833  0.984652 -1.88118\n",
       "2    102 -2.865833  0.984652 -1.88118\n",
       "3    103 -2.865833  0.984652 -1.88118\n",
       "4    104 -2.865833  0.984652 -1.88118\n",
       "5    105 -1.865833  0.984652 -0.88118\n",
       "6    106 -0.865833  0.984652  0.11882\n",
       "7    107  0.134167  0.984652  1.11882\n",
       "8    108  1.134167  0.984652  2.11882\n",
       "9    109  2.134167 -0.015348  2.11882\n",
       "10   110  3.134167 -1.015348  2.11882"
      ]
     },
     "metadata": {},
     "output_type": "display_data"
    }
   ],
   "source": [
    "bull_spread_result"
   ]
  },
  {
   "cell_type": "code",
   "execution_count": null,
   "metadata": {},
   "outputs": [
    {
     "data": {
      "image/png": "[encoded data removed]",
      "text/plain": [
       "<Figure size 1000x600 with 1 Axes>"
      ]
     },
     "metadata": {},
     "output_type": "display_data"
    }
   ],
   "source": [
    "plt.figure(figsize=(10, 6))\n",
    "plt.plot(bull_spread_result.Spot, bull_spread_result.Result)\n",
    "ax = plt.gca()\n",
    "ax.spines[\"left\"].set_position(\"center\")\n",
    "ax.spines[\"right\"].set_color(\"none\")\n",
    "ax.spines[\"bottom\"].set_position(\"center\")\n",
    "ax.spines[\"top\"].set_color(\"none\")\n",
    "ax.xaxis.set_ticks_position(\"bottom\")\n",
    "ax.yaxis.set_ticks_position(\"left\")\n",
    "ax.yaxis.set_ticks_position(\"left\")\n",
    "_ = plt.title(\"Bull spread\", fontsize=18)"
   ]
  },
  {
   "cell_type": "markdown",
   "metadata": {},
   "source": [
    "###  Long straddle"
   ]
  },
  {
   "cell_type": "code",
   "execution_count": null,
   "metadata": {},
   "outputs": [],
   "source": [
    "long_straddle_setup = pd.DataFrame(\n",
    "    zip(\n",
    "        [\"Call\", \"Put\"],\n",
    "        [106, 106],\n",
    "        [\n",
    "            CRR(\n",
    "                S_0, 106, r, T, N, sigma, is_call=True, div=div_y, is_european=False\n",
    "            ).get_price(),\n",
    "            CRR(\n",
    "                S_0, 106, r, T, N, sigma, is_call=False, div=div_y, is_european=False\n",
    "            ).get_price(),\n",
    "        ],\n",
    "        [\"Buy\", \"Buy\"],\n",
    "    ),\n",
    "    columns=[\"Type\", \"Strike\", \"Price\", \"Buy/Sell\"],\n",
    ")"
   ]
  },
  {
   "cell_type": "code",
   "execution_count": null,
   "metadata": {},
   "outputs": [
    {
     "data": {
      "text/html": [
       "<div>\n",
       "<style scoped>\n",
       "    .dataframe tbody tr th:only-of-type {\n",
       "        vertical-align: middle;\n",
       "    }\n",
       "\n",
       "    .dataframe tbody tr th {\n",
       "        vertical-align: top;\n",
       "    }\n",
       "\n",
       "    .dataframe thead th {\n",
       "        text-align: right;\n",
       "    }\n",
       "</style>\n",
       "<table border=\"1\" class=\"dataframe\">\n",
       "  <thead>\n",
       "    <tr style=\"text-align: right;\">\n",
       "      <th></th>\n",
       "      <th>Type</th>\n",
       "      <th>Strike</th>\n",
       "      <th>Price</th>\n",
       "      <th>Buy/Sell</th>\n",
       "    </tr>\n",
       "  </thead>\n",
       "  <tbody>\n",
       "    <tr>\n",
       "      <th>0</th>\n",
       "      <td>Call</td>\n",
       "      <td>106</td>\n",
       "      <td>1.599122</td>\n",
       "      <td>Buy</td>\n",
       "    </tr>\n",
       "    <tr>\n",
       "      <th>1</th>\n",
       "      <td>Put</td>\n",
       "      <td>106</td>\n",
       "      <td>1.833427</td>\n",
       "      <td>Buy</td>\n",
       "    </tr>\n",
       "  </tbody>\n",
       "</table>\n",
       "</div>"
      ],
      "text/plain": [
       "   Type  Strike     Price Buy/Sell\n",
       "0  Call     106  1.599122      Buy\n",
       "1   Put     106  1.833427      Buy"
      ]
     },
     "metadata": {},
     "output_type": "display_data"
    }
   ],
   "source": [
    "long_straddle_setup"
   ]
  },
  {
   "cell_type": "code",
   "execution_count": null,
   "metadata": {},
   "outputs": [],
   "source": [
    "long_straddle_result = pd.DataFrame(\n",
    "    zip(\n",
    "        range(100, 111),\n",
    "        np.maximum(range(100, 111) - long_straddle_setup.iloc[0, 1], 0)\n",
    "        - long_straddle_setup.iloc[0, 2],\n",
    "        np.maximum(long_straddle_setup.iloc[1, 1] - (range(100, 111)), 0)\n",
    "        - long_straddle_setup.iloc[1, 2],\n",
    "    ),\n",
    "    columns=[\"Spot\", \"Call\", \"Put\"],\n",
    ")"
   ]
  },
  {
   "cell_type": "code",
   "execution_count": null,
   "metadata": {},
   "outputs": [],
   "source": [
    "long_straddle_result[\"Result\"] = (\n",
    "    long_straddle_result[\"Call\"] + long_straddle_result[\"Put\"]\n",
    ")"
   ]
  },
  {
   "cell_type": "code",
   "execution_count": null,
   "metadata": {},
   "outputs": [
    {
     "data": {
      "text/html": [
       "<div>\n",
       "<style scoped>\n",
       "    .dataframe tbody tr th:only-of-type {\n",
       "        vertical-align: middle;\n",
       "    }\n",
       "\n",
       "    .dataframe tbody tr th {\n",
       "        vertical-align: top;\n",
       "    }\n",
       "\n",
       "    .dataframe thead th {\n",
       "        text-align: right;\n",
       "    }\n",
       "</style>\n",
       "<table border=\"1\" class=\"dataframe\">\n",
       "  <thead>\n",
       "    <tr style=\"text-align: right;\">\n",
       "      <th></th>\n",
       "      <th>Spot</th>\n",
       "      <th>Call</th>\n",
       "      <th>Put</th>\n",
       "      <th>Result</th>\n",
       "    </tr>\n",
       "  </thead>\n",
       "  <tbody>\n",
       "    <tr>\n",
       "      <th>0</th>\n",
       "      <td>100</td>\n",
       "      <td>-1.599122</td>\n",
       "      <td>4.166573</td>\n",
       "      <td>2.567451</td>\n",
       "    </tr>\n",
       "    <tr>\n",
       "      <th>1</th>\n",
       "      <td>101</td>\n",
       "      <td>-1.599122</td>\n",
       "      <td>3.166573</td>\n",
       "      <td>1.567451</td>\n",
       "    </tr>\n",
       "    <tr>\n",
       "      <th>2</th>\n",
       "      <td>102</td>\n",
       "      <td>-1.599122</td>\n",
       "      <td>2.166573</td>\n",
       "      <td>0.567451</td>\n",
       "    </tr>\n",
       "    <tr>\n",
       "      <th>3</th>\n",
       "      <td>103</td>\n",
       "      <td>-1.599122</td>\n",
       "      <td>1.166573</td>\n",
       "      <td>-0.432549</td>\n",
       "    </tr>\n",
       "    <tr>\n",
       "      <th>4</th>\n",
       "      <td>104</td>\n",
       "      <td>-1.599122</td>\n",
       "      <td>0.166573</td>\n",
       "      <td>-1.432549</td>\n",
       "    </tr>\n",
       "    <tr>\n",
       "      <th>5</th>\n",
       "      <td>105</td>\n",
       "      <td>-1.599122</td>\n",
       "      <td>-0.833427</td>\n",
       "      <td>-2.432549</td>\n",
       "    </tr>\n",
       "    <tr>\n",
       "      <th>6</th>\n",
       "      <td>106</td>\n",
       "      <td>-1.599122</td>\n",
       "      <td>-1.833427</td>\n",
       "      <td>-3.432549</td>\n",
       "    </tr>\n",
       "    <tr>\n",
       "      <th>7</th>\n",
       "      <td>107</td>\n",
       "      <td>-0.599122</td>\n",
       "      <td>-1.833427</td>\n",
       "      <td>-2.432549</td>\n",
       "    </tr>\n",
       "    <tr>\n",
       "      <th>8</th>\n",
       "      <td>108</td>\n",
       "      <td>0.400878</td>\n",
       "      <td>-1.833427</td>\n",
       "      <td>-1.432549</td>\n",
       "    </tr>\n",
       "    <tr>\n",
       "      <th>9</th>\n",
       "      <td>109</td>\n",
       "      <td>1.400878</td>\n",
       "      <td>-1.833427</td>\n",
       "      <td>-0.432549</td>\n",
       "    </tr>\n",
       "    <tr>\n",
       "      <th>10</th>\n",
       "      <td>110</td>\n",
       "      <td>2.400878</td>\n",
       "      <td>-1.833427</td>\n",
       "      <td>0.567451</td>\n",
       "    </tr>\n",
       "  </tbody>\n",
       "</table>\n",
       "</div>"
      ],
      "text/plain": [
       "    Spot      Call       Put    Result\n",
       "0    100 -1.599122  4.166573  2.567451\n",
       "1    101 -1.599122  3.166573  1.567451\n",
       "2    102 -1.599122  2.166573  0.567451\n",
       "3    103 -1.599122  1.166573 -0.432549\n",
       "4    104 -1.599122  0.166573 -1.432549\n",
       "5    105 -1.599122 -0.833427 -2.432549\n",
       "6    106 -1.599122 -1.833427 -3.432549\n",
       "7    107 -0.599122 -1.833427 -2.432549\n",
       "8    108  0.400878 -1.833427 -1.432549\n",
       "9    109  1.400878 -1.833427 -0.432549\n",
       "10   110  2.400878 -1.833427  0.567451"
      ]
     },
     "metadata": {},
     "output_type": "display_data"
    }
   ],
   "source": [
    "long_straddle_result"
   ]
  },
  {
   "cell_type": "code",
   "execution_count": null,
   "metadata": {},
   "outputs": [
    {
     "data": {
      "image/png": "[encoded data removed]",
      "text/plain": [
       "<Figure size 1000x600 with 1 Axes>"
      ]
     },
     "metadata": {},
     "output_type": "display_data"
    }
   ],
   "source": [
    "fig = plt.figure(figsize=(10, 6))\n",
    "plt.plot(long_straddle_result.Spot, long_straddle_result.Result)\n",
    "ax = plt.gca()\n",
    "ax.spines[\"left\"].set_position(\"center\")\n",
    "ax.spines[\"right\"].set_color(\"none\")\n",
    "ax.spines[\"bottom\"].set_position(\"center\")\n",
    "ax.spines[\"top\"].set_color(\"none\")\n",
    "ax.xaxis.set_ticks_position(\"bottom\")\n",
    "ax.yaxis.set_ticks_position(\"left\")\n",
    "_ = plt.title(\"Long Straddle\", fontsize=18)"
   ]
  },
  {
   "cell_type": "markdown",
   "metadata": {},
   "source": [
    "## 6. Сравнение теоретических и рыночных цен"
   ]
  },
  {
   "cell_type": "markdown",
   "metadata": {},
   "source": [
    "### В данном разделе задания рассчитаем теоретические цены опционов с помощью моделей CRR и BSM  и сравним их с рыночными ценами"
   ]
  },
  {
   "cell_type": "code",
   "execution_count": null,
   "metadata": {},
   "outputs": [],
   "source": [
    "N = 1000  # количество шагов для модели CRR"
   ]
  },
  {
   "cell_type": "markdown",
   "metadata": {},
   "source": [
    "### Call"
   ]
  },
  {
   "cell_type": "code",
   "execution_count": null,
   "metadata": {},
   "outputs": [],
   "source": [
    "cboe_MSFT_call[\"American_div_Bin\"] = cboe_MSFT_call.apply(\n",
    "    lambda row: np.round(\n",
    "        CRR(\n",
    "            S_0,\n",
    "            row[\"strike\"],\n",
    "            r,\n",
    "            T,\n",
    "            N,\n",
    "            row[\"implied_volatility_1545\"],\n",
    "            is_call=True,\n",
    "            div=div_y,\n",
    "            is_european=False,\n",
    "        ).get_price(),\n",
    "        4,\n",
    "    ),\n",
    "    axis=1,\n",
    ")"
   ]
  },
  {
   "cell_type": "code",
   "execution_count": null,
   "metadata": {},
   "outputs": [],
   "source": [
    "cboe_MSFT_call[\"European_div_Bin\"] = cboe_MSFT_call.apply(\n",
    "    lambda row: np.round(\n",
    "        CRR(\n",
    "            S_0,\n",
    "            row[\"strike\"],\n",
    "            r,\n",
    "            T,\n",
    "            N,\n",
    "            row[\"implied_volatility_1545\"],\n",
    "            is_call=True,\n",
    "            div=div_y,\n",
    "            is_european=True,\n",
    "        ).get_price(),\n",
    "        4,\n",
    "    ),\n",
    "    axis=1,\n",
    ")"
   ]
  },
  {
   "cell_type": "code",
   "execution_count": null,
   "metadata": {},
   "outputs": [],
   "source": [
    "cboe_MSFT_call[\"BSM_div\"] = cboe_MSFT_call.apply(\n",
    "    lambda row: np.round(\n",
    "        BSM(\n",
    "            S_0, row[\"strike\"], r, T, row[\"implied_volatility_1545\"], is_call=True\n",
    "        ).get_price(),\n",
    "        4,\n",
    "    ),\n",
    "    axis=1,\n",
    ")"
   ]
  },
  {
   "cell_type": "code",
   "execution_count": null,
   "metadata": {},
   "outputs": [
    {
     "data": {
      "text/html": [
       "<div>\n",
       "<style scoped>\n",
       "    .dataframe tbody tr th:only-of-type {\n",
       "        vertical-align: middle;\n",
       "    }\n",
       "\n",
       "    .dataframe tbody tr th {\n",
       "        vertical-align: top;\n",
       "    }\n",
       "\n",
       "    .dataframe thead th {\n",
       "        text-align: right;\n",
       "    }\n",
       "</style>\n",
       "<table border=\"1\" class=\"dataframe\">\n",
       "  <thead>\n",
       "    <tr style=\"text-align: right;\">\n",
       "      <th></th>\n",
       "      <th>strike</th>\n",
       "      <th>high</th>\n",
       "      <th>low</th>\n",
       "      <th>close</th>\n",
       "      <th>delta_1545</th>\n",
       "      <th>gamma_1545</th>\n",
       "      <th>vega_1545</th>\n",
       "      <th>implied_volatility_1545</th>\n",
       "      <th>American_div_Bin</th>\n",
       "      <th>European_div_Bin</th>\n",
       "      <th>BSM_div</th>\n",
       "    </tr>\n",
       "  </thead>\n",
       "  <tbody>\n",
       "    <tr>\n",
       "      <th>1654</th>\n",
       "      <td>101.0</td>\n",
       "      <td>5.00</td>\n",
       "      <td>3.85</td>\n",
       "      <td>4.95</td>\n",
       "      <td>0.8507</td>\n",
       "      <td>0.0521</td>\n",
       "      <td>0.0426</td>\n",
       "      <td>0.2437</td>\n",
       "      <td>5.2976</td>\n",
       "      <td>5.2976</td>\n",
       "      <td>5.3597</td>\n",
       "    </tr>\n",
       "    <tr>\n",
       "      <th>1656</th>\n",
       "      <td>102.0</td>\n",
       "      <td>4.25</td>\n",
       "      <td>2.44</td>\n",
       "      <td>4.25</td>\n",
       "      <td>0.7973</td>\n",
       "      <td>0.0653</td>\n",
       "      <td>0.0517</td>\n",
       "      <td>0.2359</td>\n",
       "      <td>4.4638</td>\n",
       "      <td>4.4638</td>\n",
       "      <td>4.5223</td>\n",
       "    </tr>\n",
       "    <tr>\n",
       "      <th>1658</th>\n",
       "      <td>103.0</td>\n",
       "      <td>3.40</td>\n",
       "      <td>1.85</td>\n",
       "      <td>3.30</td>\n",
       "      <td>0.7307</td>\n",
       "      <td>0.0793</td>\n",
       "      <td>0.0605</td>\n",
       "      <td>0.2274</td>\n",
       "      <td>3.6712</td>\n",
       "      <td>3.6712</td>\n",
       "      <td>3.7259</td>\n",
       "    </tr>\n",
       "    <tr>\n",
       "      <th>1660</th>\n",
       "      <td>104.0</td>\n",
       "      <td>2.67</td>\n",
       "      <td>1.25</td>\n",
       "      <td>2.55</td>\n",
       "      <td>0.6500</td>\n",
       "      <td>0.0929</td>\n",
       "      <td>0.0679</td>\n",
       "      <td>0.2177</td>\n",
       "      <td>2.9250</td>\n",
       "      <td>2.9250</td>\n",
       "      <td>2.9750</td>\n",
       "    </tr>\n",
       "    <tr>\n",
       "      <th>1662</th>\n",
       "      <td>105.0</td>\n",
       "      <td>2.04</td>\n",
       "      <td>0.61</td>\n",
       "      <td>2.02</td>\n",
       "      <td>0.5538</td>\n",
       "      <td>0.1023</td>\n",
       "      <td>0.0724</td>\n",
       "      <td>0.2110</td>\n",
       "      <td>2.2716</td>\n",
       "      <td>2.2716</td>\n",
       "      <td>2.3157</td>\n",
       "    </tr>\n",
       "    <tr>\n",
       "      <th>1664</th>\n",
       "      <td>106.0</td>\n",
       "      <td>1.48</td>\n",
       "      <td>0.60</td>\n",
       "      <td>1.39</td>\n",
       "      <td>0.4490</td>\n",
       "      <td>0.1056</td>\n",
       "      <td>0.0725</td>\n",
       "      <td>0.2045</td>\n",
       "      <td>1.6994</td>\n",
       "      <td>1.6994</td>\n",
       "      <td>1.7376</td>\n",
       "    </tr>\n",
       "    <tr>\n",
       "      <th>1666</th>\n",
       "      <td>107.0</td>\n",
       "      <td>1.01</td>\n",
       "      <td>0.39</td>\n",
       "      <td>0.92</td>\n",
       "      <td>0.3438</td>\n",
       "      <td>0.1005</td>\n",
       "      <td>0.0674</td>\n",
       "      <td>0.1998</td>\n",
       "      <td>1.2316</td>\n",
       "      <td>1.2316</td>\n",
       "      <td>1.2624</td>\n",
       "    </tr>\n",
       "    <tr>\n",
       "      <th>1668</th>\n",
       "      <td>108.0</td>\n",
       "      <td>0.66</td>\n",
       "      <td>0.29</td>\n",
       "      <td>0.59</td>\n",
       "      <td>0.2464</td>\n",
       "      <td>0.0881</td>\n",
       "      <td>0.0578</td>\n",
       "      <td>0.1954</td>\n",
       "      <td>0.8545</td>\n",
       "      <td>0.8545</td>\n",
       "      <td>0.8791</td>\n",
       "    </tr>\n",
       "    <tr>\n",
       "      <th>1670</th>\n",
       "      <td>109.0</td>\n",
       "      <td>0.40</td>\n",
       "      <td>0.18</td>\n",
       "      <td>0.38</td>\n",
       "      <td>0.1669</td>\n",
       "      <td>0.0705</td>\n",
       "      <td>0.0458</td>\n",
       "      <td>0.1936</td>\n",
       "      <td>0.5813</td>\n",
       "      <td>0.5813</td>\n",
       "      <td>0.5999</td>\n",
       "    </tr>\n",
       "    <tr>\n",
       "      <th>1672</th>\n",
       "      <td>110.0</td>\n",
       "      <td>0.30</td>\n",
       "      <td>0.09</td>\n",
       "      <td>0.20</td>\n",
       "      <td>0.1056</td>\n",
       "      <td>0.0520</td>\n",
       "      <td>0.0334</td>\n",
       "      <td>0.1917</td>\n",
       "      <td>0.3791</td>\n",
       "      <td>0.3791</td>\n",
       "      <td>0.3924</td>\n",
       "    </tr>\n",
       "  </tbody>\n",
       "</table>\n",
       "</div>"
      ],
      "text/plain": [
       "      strike  high   low  close  delta_1545  gamma_1545  vega_1545  \\\n",
       "1654   101.0  5.00  3.85   4.95      0.8507      0.0521     0.0426   \n",
       "1656   102.0  4.25  2.44   4.25      0.7973      0.0653     0.0517   \n",
       "1658   103.0  3.40  1.85   3.30      0.7307      0.0793     0.0605   \n",
       "1660   104.0  2.67  1.25   2.55      0.6500      0.0929     0.0679   \n",
       "1662   105.0  2.04  0.61   2.02      0.5538      0.1023     0.0724   \n",
       "1664   106.0  1.48  0.60   1.39      0.4490      0.1056     0.0725   \n",
       "1666   107.0  1.01  0.39   0.92      0.3438      0.1005     0.0674   \n",
       "1668   108.0  0.66  0.29   0.59      0.2464      0.0881     0.0578   \n",
       "1670   109.0  0.40  0.18   0.38      0.1669      0.0705     0.0458   \n",
       "1672   110.0  0.30  0.09   0.20      0.1056      0.0520     0.0334   \n",
       "\n",
       "      implied_volatility_1545  American_div_Bin  European_div_Bin  BSM_div  \n",
       "1654                   0.2437            5.2976            5.2976   5.3597  \n",
       "1656                   0.2359            4.4638            4.4638   4.5223  \n",
       "1658                   0.2274            3.6712            3.6712   3.7259  \n",
       "1660                   0.2177            2.9250            2.9250   2.9750  \n",
       "1662                   0.2110            2.2716            2.2716   2.3157  \n",
       "1664                   0.2045            1.6994            1.6994   1.7376  \n",
       "1666                   0.1998            1.2316            1.2316   1.2624  \n",
       "1668                   0.1954            0.8545            0.8545   0.8791  \n",
       "1670                   0.1936            0.5813            0.5813   0.5999  \n",
       "1672                   0.1917            0.3791            0.3791   0.3924  "
      ]
     },
     "metadata": {},
     "output_type": "display_data"
    }
   ],
   "source": [
    "cboe_MSFT_call"
   ]
  },
  {
   "cell_type": "markdown",
   "metadata": {},
   "source": [
    "### Put"
   ]
  },
  {
   "cell_type": "code",
   "execution_count": null,
   "metadata": {},
   "outputs": [],
   "source": [
    "cboe_MSFT_put[\"American_div_Bin\"] = cboe_MSFT_put.apply(\n",
    "    lambda row: np.round(\n",
    "        CRR(\n",
    "            S_0,\n",
    "            row[\"strike\"],\n",
    "            r,\n",
    "            T,\n",
    "            N,\n",
    "            row[\"implied_volatility_1545\"],\n",
    "            is_call=False,\n",
    "            div=div_y,\n",
    "            is_european=False,\n",
    "        ).get_price(),\n",
    "        4,\n",
    "    ),\n",
    "    axis=1,\n",
    ")"
   ]
  },
  {
   "cell_type": "code",
   "execution_count": null,
   "metadata": {},
   "outputs": [],
   "source": [
    "cboe_MSFT_put[\"European_div_Bin\"] = cboe_MSFT_put.apply(\n",
    "    lambda row: np.round(\n",
    "        CRR(\n",
    "            S_0,\n",
    "            row[\"strike\"],\n",
    "            r,\n",
    "            T,\n",
    "            N,\n",
    "            row[\"implied_volatility_1545\"],\n",
    "            is_call=False,\n",
    "            div=div_y,\n",
    "            is_european=True,\n",
    "        ).get_price(),\n",
    "        4,\n",
    "    ),\n",
    "    axis=1,\n",
    ")"
   ]
  },
  {
   "cell_type": "code",
   "execution_count": null,
   "metadata": {},
   "outputs": [],
   "source": [
    "cboe_MSFT_put[\"BSM_div\"] = cboe_MSFT_put.apply(\n",
    "    lambda row: np.round(\n",
    "        BSM(\n",
    "            S_0, row[\"strike\"], r, T, row[\"implied_volatility_1545\"], is_call=False\n",
    "        ).get_price(),\n",
    "        4,\n",
    "    ),\n",
    "    axis=1,\n",
    ")"
   ]
  },
  {
   "cell_type": "code",
   "execution_count": null,
   "metadata": {},
   "outputs": [
    {
     "data": {
      "text/html": [
       "<div>\n",
       "<style scoped>\n",
       "    .dataframe tbody tr th:only-of-type {\n",
       "        vertical-align: middle;\n",
       "    }\n",
       "\n",
       "    .dataframe tbody tr th {\n",
       "        vertical-align: top;\n",
       "    }\n",
       "\n",
       "    .dataframe thead th {\n",
       "        text-align: right;\n",
       "    }\n",
       "</style>\n",
       "<table border=\"1\" class=\"dataframe\">\n",
       "  <thead>\n",
       "    <tr style=\"text-align: right;\">\n",
       "      <th></th>\n",
       "      <th>strike</th>\n",
       "      <th>high</th>\n",
       "      <th>low</th>\n",
       "      <th>close</th>\n",
       "      <th>delta_1545</th>\n",
       "      <th>gamma_1545</th>\n",
       "      <th>vega_1545</th>\n",
       "      <th>implied_volatility_1545</th>\n",
       "      <th>American_div_Bin</th>\n",
       "      <th>European_div_Bin</th>\n",
       "      <th>BSM_div</th>\n",
       "    </tr>\n",
       "  </thead>\n",
       "  <tbody>\n",
       "    <tr>\n",
       "      <th>1655</th>\n",
       "      <td>101.0</td>\n",
       "      <td>0.65</td>\n",
       "      <td>0.30</td>\n",
       "      <td>0.30</td>\n",
       "      <td>-0.1432</td>\n",
       "      <td>0.0520</td>\n",
       "      <td>0.0414</td>\n",
       "      <td>0.2374</td>\n",
       "      <td>0.4921</td>\n",
       "      <td>0.4918</td>\n",
       "      <td>0.4777</td>\n",
       "    </tr>\n",
       "    <tr>\n",
       "      <th>1657</th>\n",
       "      <td>102.0</td>\n",
       "      <td>1.12</td>\n",
       "      <td>0.40</td>\n",
       "      <td>0.40</td>\n",
       "      <td>-0.1960</td>\n",
       "      <td>0.0659</td>\n",
       "      <td>0.0507</td>\n",
       "      <td>0.2289</td>\n",
       "      <td>0.6471</td>\n",
       "      <td>0.6468</td>\n",
       "      <td>0.6291</td>\n",
       "    </tr>\n",
       "    <tr>\n",
       "      <th>1659</th>\n",
       "      <td>103.0</td>\n",
       "      <td>1.70</td>\n",
       "      <td>0.57</td>\n",
       "      <td>0.57</td>\n",
       "      <td>-0.2629</td>\n",
       "      <td>0.0810</td>\n",
       "      <td>0.0598</td>\n",
       "      <td>0.2199</td>\n",
       "      <td>0.8444</td>\n",
       "      <td>0.8439</td>\n",
       "      <td>0.8219</td>\n",
       "    </tr>\n",
       "    <tr>\n",
       "      <th>1661</th>\n",
       "      <td>104.0</td>\n",
       "      <td>1.88</td>\n",
       "      <td>0.83</td>\n",
       "      <td>0.83</td>\n",
       "      <td>-0.3474</td>\n",
       "      <td>0.0945</td>\n",
       "      <td>0.0677</td>\n",
       "      <td>0.2133</td>\n",
       "      <td>1.1184</td>\n",
       "      <td>1.1176</td>\n",
       "      <td>1.0895</td>\n",
       "    </tr>\n",
       "    <tr>\n",
       "      <th>1663</th>\n",
       "      <td>105.0</td>\n",
       "      <td>2.83</td>\n",
       "      <td>1.16</td>\n",
       "      <td>1.20</td>\n",
       "      <td>-0.4452</td>\n",
       "      <td>0.1046</td>\n",
       "      <td>0.0724</td>\n",
       "      <td>0.2062</td>\n",
       "      <td>1.4596</td>\n",
       "      <td>1.4585</td>\n",
       "      <td>1.4233</td>\n",
       "    </tr>\n",
       "    <tr>\n",
       "      <th>1665</th>\n",
       "      <td>106.0</td>\n",
       "      <td>3.00</td>\n",
       "      <td>1.60</td>\n",
       "      <td>1.68</td>\n",
       "      <td>-0.5521</td>\n",
       "      <td>0.1074</td>\n",
       "      <td>0.0725</td>\n",
       "      <td>0.2010</td>\n",
       "      <td>1.8982</td>\n",
       "      <td>1.8966</td>\n",
       "      <td>1.8547</td>\n",
       "    </tr>\n",
       "    <tr>\n",
       "      <th>1667</th>\n",
       "      <td>107.0</td>\n",
       "      <td>3.15</td>\n",
       "      <td>2.19</td>\n",
       "      <td>2.23</td>\n",
       "      <td>-0.6582</td>\n",
       "      <td>0.1015</td>\n",
       "      <td>0.0673</td>\n",
       "      <td>0.1974</td>\n",
       "      <td>2.4413</td>\n",
       "      <td>2.4390</td>\n",
       "      <td>2.3889</td>\n",
       "    </tr>\n",
       "    <tr>\n",
       "      <th>1669</th>\n",
       "      <td>108.0</td>\n",
       "      <td>4.60</td>\n",
       "      <td>2.90</td>\n",
       "      <td>2.90</td>\n",
       "      <td>-0.7575</td>\n",
       "      <td>0.0888</td>\n",
       "      <td>0.0573</td>\n",
       "      <td>0.1921</td>\n",
       "      <td>3.0598</td>\n",
       "      <td>3.0565</td>\n",
       "      <td>2.9990</td>\n",
       "    </tr>\n",
       "    <tr>\n",
       "      <th>1671</th>\n",
       "      <td>109.0</td>\n",
       "      <td>3.80</td>\n",
       "      <td>3.80</td>\n",
       "      <td>3.80</td>\n",
       "      <td>-0.8386</td>\n",
       "      <td>0.0705</td>\n",
       "      <td>0.0448</td>\n",
       "      <td>0.1894</td>\n",
       "      <td>3.7845</td>\n",
       "      <td>3.7800</td>\n",
       "      <td>3.7160</td>\n",
       "    </tr>\n",
       "    <tr>\n",
       "      <th>1673</th>\n",
       "      <td>110.0</td>\n",
       "      <td>6.45</td>\n",
       "      <td>4.40</td>\n",
       "      <td>4.49</td>\n",
       "      <td>-0.9115</td>\n",
       "      <td>0.0492</td>\n",
       "      <td>0.0294</td>\n",
       "      <td>0.1779</td>\n",
       "      <td>4.5380</td>\n",
       "      <td>4.5314</td>\n",
       "      <td>4.4602</td>\n",
       "    </tr>\n",
       "  </tbody>\n",
       "</table>\n",
       "</div>"
      ],
      "text/plain": [
       "      strike  high   low  close  delta_1545  gamma_1545  vega_1545  \\\n",
       "1655   101.0  0.65  0.30   0.30     -0.1432      0.0520     0.0414   \n",
       "1657   102.0  1.12  0.40   0.40     -0.1960      0.0659     0.0507   \n",
       "1659   103.0  1.70  0.57   0.57     -0.2629      0.0810     0.0598   \n",
       "1661   104.0  1.88  0.83   0.83     -0.3474      0.0945     0.0677   \n",
       "1663   105.0  2.83  1.16   1.20     -0.4452      0.1046     0.0724   \n",
       "1665   106.0  3.00  1.60   1.68     -0.5521      0.1074     0.0725   \n",
       "1667   107.0  3.15  2.19   2.23     -0.6582      0.1015     0.0673   \n",
       "1669   108.0  4.60  2.90   2.90     -0.7575      0.0888     0.0573   \n",
       "1671   109.0  3.80  3.80   3.80     -0.8386      0.0705     0.0448   \n",
       "1673   110.0  6.45  4.40   4.49     -0.9115      0.0492     0.0294   \n",
       "\n",
       "      implied_volatility_1545  American_div_Bin  European_div_Bin  BSM_div  \n",
       "1655                   0.2374            0.4921            0.4918   0.4777  \n",
       "1657                   0.2289            0.6471            0.6468   0.6291  \n",
       "1659                   0.2199            0.8444            0.8439   0.8219  \n",
       "1661                   0.2133            1.1184            1.1176   1.0895  \n",
       "1663                   0.2062            1.4596            1.4585   1.4233  \n",
       "1665                   0.2010            1.8982            1.8966   1.8547  \n",
       "1667                   0.1974            2.4413            2.4390   2.3889  \n",
       "1669                   0.1921            3.0598            3.0565   2.9990  \n",
       "1671                   0.1894            3.7845            3.7800   3.7160  \n",
       "1673                   0.1779            4.5380            4.5314   4.4602  "
      ]
     },
     "metadata": {},
     "output_type": "display_data"
    }
   ],
   "source": [
    "cboe_MSFT_put"
   ]
  },
  {
   "cell_type": "markdown",
   "metadata": {},
   "source": [
    "## 7. Показатель чувствительности $\\Delta$"
   ]
  },
  {
   "cell_type": "markdown",
   "metadata": {},
   "source": [
    "###  Delta - hedging. Расчет показателя $\\Delta$ приведен в лекционных материалах."
   ]
  },
  {
   "cell_type": "markdown",
   "metadata": {},
   "source": [
    "### $C=\\Delta S-B$\n",
    "### $P=\\Delta S+B$"
   ]
  },
  {
   "cell_type": "markdown",
   "metadata": {},
   "source": [
    "### На каждом шаге мы ребалансируем портфель с учетом равенства:\n",
    "### $dP=\\Delta dS$ (для опциона колл расчет аналогичный)\n",
    "### Ребалансировка учитывает проценты по денежной позиции"
   ]
  },
  {
   "cell_type": "markdown",
   "metadata": {},
   "source": [
    "### В данном задании будем моделировать динамику актива с помощью геометрического броуновского движения"
   ]
  },
  {
   "cell_type": "code",
   "execution_count": null,
   "metadata": {},
   "outputs": [],
   "source": [
    "### $S_{i+1}=S_iexp((r-0.5\\sigma^2)\\Delta_t+\\sigma\\sqrt{\\Delta_t}Z_t)$"
   ]
  },
  {
   "cell_type": "code",
   "execution_count": null,
   "metadata": {},
   "outputs": [],
   "source": [
    "def GBM(n_step, S_0, r, sigma, dt):\n",
    "    S = np.zeros(n_step)\n",
    "    S[0] = S_0\n",
    "    rand = np.random.standard_normal(n_step)\n",
    "    for i in range(1, n_step):\n",
    "        S[i] = S[i - 1] * np.exp(\n",
    "            (r - 0.5 * sigma**2) * dt + sigma * np.sqrt(dt) * rand[i]\n",
    "        )\n",
    "    return S"
   ]
  },
  {
   "cell_type": "markdown",
   "metadata": {},
   "source": [
    "### Реализуем пошаговый процесс репикации опциона (создания портфеля, воспроизводящего стоимость опциона)"
   ]
  },
  {
   "cell_type": "code",
   "execution_count": null,
   "metadata": {},
   "outputs": [],
   "source": [
    "r = 0.0024\n",
    "T = 20 / 250\n",
    "sigma = 0.2  # годовое значение\n",
    "n_step = int(T * 250)\n",
    "dt = 1 / 250"
   ]
  },
  {
   "cell_type": "code",
   "execution_count": null,
   "metadata": {},
   "outputs": [],
   "source": [
    "S = np.zeros(n_step)  # массив цен акци\n",
    "Delta = np.zeros(n_step)  # массив дельт\n",
    "Option_theor = np.zeros(n_step)  # массив теоретических цен\n",
    "S_Delta = np.zeros(n_step)  # произведение цен и дельт\n",
    "Bond = np.zeros(n_step)  # денежная позиция\n",
    "Replicate = np.zeros(n_step)  # репликация"
   ]
  },
  {
   "cell_type": "markdown",
   "metadata": {},
   "source": [
    "### Расчет первоначальных значений параметров"
   ]
  },
  {
   "cell_type": "code",
   "execution_count": null,
   "metadata": {},
   "outputs": [],
   "source": [
    "S[0] = S_0"
   ]
  },
  {
   "cell_type": "code",
   "execution_count": null,
   "metadata": {},
   "outputs": [],
   "source": [
    "option = BSM(S_0, K, r, T, sigma, t=0, is_call=False)"
   ]
  },
  {
   "cell_type": "code",
   "execution_count": null,
   "metadata": {},
   "outputs": [
    {
     "name": "stdout",
     "output_type": "stream",
     "text": [
      "2.01662896918166\n"
     ]
    }
   ],
   "source": [
    "Option_theor[0] = option.get_price()\n",
    "Replicate[0] = Option_theor[0]\n",
    "print(Option_theor[0])"
   ]
  },
  {
   "cell_type": "code",
   "execution_count": null,
   "metadata": {},
   "outputs": [
    {
     "name": "stdout",
     "output_type": "stream",
     "text": [
      "-0.43808486478258657\n"
     ]
    }
   ],
   "source": [
    "Delta[0] = option.get_delta()\n",
    "S_Delta[0] = S[0] * Delta[0]\n",
    "print(Delta[0])"
   ]
  },
  {
   "cell_type": "code",
   "execution_count": null,
   "metadata": {},
   "outputs": [
    {
     "name": "stdout",
     "output_type": "stream",
     "text": [
      "48.339721695122634\n"
     ]
    }
   ],
   "source": [
    "Bond[0] = Option_theor[0] - S_Delta[0]\n",
    "print(Bond[0])"
   ]
  },
  {
   "cell_type": "code",
   "execution_count": null,
   "metadata": {},
   "outputs": [],
   "source": [
    "S = GBM(n_step, S_0, r, sigma, dt)  # моделирование динамики"
   ]
  },
  {
   "cell_type": "code",
   "execution_count": null,
   "metadata": {},
   "outputs": [
    {
     "data": {
      "image/png": "[encoded data removed]",
      "text/plain": [
       "<Figure size 1000x600 with 1 Axes>"
      ]
     },
     "metadata": {},
     "output_type": "display_data"
    }
   ],
   "source": [
    "plt.figure(figsize=(10, 6))\n",
    "_ = plt.plot(S)\n",
    "_ = plt.title(\"Моделирование динамики акций MSFT\", fontsize=18)"
   ]
  },
  {
   "cell_type": "markdown",
   "metadata": {},
   "source": [
    "### Пошаговая репликация"
   ]
  },
  {
   "cell_type": "code",
   "execution_count": null,
   "metadata": {},
   "outputs": [],
   "source": [
    "for i in range(1, n_step):\n",
    "    option = BSM(S[i], K, r, T, sigma, is_call=False, t=i / 250)\n",
    "    Option_theor[i] = option.get_price()\n",
    "    Delta[i] = option.get_delta()\n",
    "    S_Delta[i] = S[i] * Delta[i]\n",
    "    Replicate[i] = (\n",
    "        Replicate[i - 1]\n",
    "        + (S[i] - S[i - 1]) * Delta[i - 1]\n",
    "        + Bond[i - 1] * (np.exp(r / 250) - 1)\n",
    "    )\n",
    "    Bond[i] = Option_theor[i] - S_Delta[i]"
   ]
  },
  {
   "cell_type": "code",
   "execution_count": null,
   "metadata": {},
   "outputs": [
    {
     "data": {
      "text/html": [
       "<div>\n",
       "<style scoped>\n",
       "    .dataframe tbody tr th:only-of-type {\n",
       "        vertical-align: middle;\n",
       "    }\n",
       "\n",
       "    .dataframe tbody tr th {\n",
       "        vertical-align: top;\n",
       "    }\n",
       "\n",
       "    .dataframe thead th {\n",
       "        text-align: right;\n",
       "    }\n",
       "</style>\n",
       "<table border=\"1\" class=\"dataframe\">\n",
       "  <thead>\n",
       "    <tr style=\"text-align: right;\">\n",
       "      <th></th>\n",
       "      <th>S</th>\n",
       "      <th>Theor_price</th>\n",
       "      <th>Replicate</th>\n",
       "      <th>Delta</th>\n",
       "      <th>Delta*Price</th>\n",
       "      <th>Bond</th>\n",
       "    </tr>\n",
       "  </thead>\n",
       "  <tbody>\n",
       "    <tr>\n",
       "      <th>0</th>\n",
       "      <td>105.739998</td>\n",
       "      <td>2.016629</td>\n",
       "      <td>2.016629</td>\n",
       "      <td>-0.438085</td>\n",
       "      <td>-46.323093</td>\n",
       "      <td>48.339722</td>\n",
       "    </tr>\n",
       "    <tr>\n",
       "      <th>1</th>\n",
       "      <td>106.724341</td>\n",
       "      <td>1.559399</td>\n",
       "      <td>1.585867</td>\n",
       "      <td>-0.372096</td>\n",
       "      <td>-39.711721</td>\n",
       "      <td>41.271120</td>\n",
       "    </tr>\n",
       "    <tr>\n",
       "      <th>2</th>\n",
       "      <td>105.858042</td>\n",
       "      <td>1.845628</td>\n",
       "      <td>1.908610</td>\n",
       "      <td>-0.427906</td>\n",
       "      <td>-45.297325</td>\n",
       "      <td>47.142953</td>\n",
       "    </tr>\n",
       "    <tr>\n",
       "      <th>3</th>\n",
       "      <td>104.683113</td>\n",
       "      <td>2.334090</td>\n",
       "      <td>2.411822</td>\n",
       "      <td>-0.511467</td>\n",
       "      <td>-53.541999</td>\n",
       "      <td>55.876089</td>\n",
       "    </tr>\n",
       "    <tr>\n",
       "      <th>4</th>\n",
       "      <td>106.915270</td>\n",
       "      <td>1.309953</td>\n",
       "      <td>1.270683</td>\n",
       "      <td>-0.349897</td>\n",
       "      <td>-37.409346</td>\n",
       "      <td>38.719300</td>\n",
       "    </tr>\n",
       "  </tbody>\n",
       "</table>\n",
       "</div>"
      ],
      "text/plain": [
       "            S  Theor_price  Replicate     Delta  Delta*Price       Bond\n",
       "0  105.739998     2.016629   2.016629 -0.438085   -46.323093  48.339722\n",
       "1  106.724341     1.559399   1.585867 -0.372096   -39.711721  41.271120\n",
       "2  105.858042     1.845628   1.908610 -0.427906   -45.297325  47.142953\n",
       "3  104.683113     2.334090   2.411822 -0.511467   -53.541999  55.876089\n",
       "4  106.915270     1.309953   1.270683 -0.349897   -37.409346  38.719300"
      ]
     },
     "metadata": {},
     "output_type": "display_data"
    }
   ],
   "source": [
    "pd.DataFrame(\n",
    "    zip(S, Option_theor, Replicate, Delta, S_Delta, Bond),\n",
    "    columns=[\"S\", \"Theor_price\", \"Replicate\", \"Delta\", \"Delta*Price\", \"Bond\"],\n",
    ").head()"
   ]
  },
  {
   "cell_type": "markdown",
   "metadata": {},
   "source": [
    "## 8. Показатель чувствительности Vega"
   ]
  },
  {
   "cell_type": "markdown",
   "metadata": {},
   "source": [
    "### Расчет показателя vega приведен в лекционных материалах"
   ]
  },
  {
   "cell_type": "code",
   "execution_count": null,
   "metadata": {},
   "outputs": [
    {
     "data": {
      "text/plain": [
       "array([101., 102., 103., 104., 105., 106., 107., 108., 109., 110.])"
      ]
     },
     "metadata": {},
     "output_type": "display_data"
    }
   ],
   "source": [
    "strikes_range"
   ]
  },
  {
   "cell_type": "code",
   "execution_count": null,
   "metadata": {},
   "outputs": [],
   "source": [
    "prices_market = np.array(cboe_MSFT_call.close)"
   ]
  },
  {
   "cell_type": "code",
   "execution_count": null,
   "metadata": {},
   "outputs": [
    {
     "data": {
      "text/plain": [
       "array([4.95, 4.25, 3.3 , 2.55, 2.02, 1.39, 0.92, 0.59, 0.38, 0.2 ])"
      ]
     },
     "metadata": {},
     "output_type": "display_data"
    }
   ],
   "source": [
    "prices_market"
   ]
  },
  {
   "cell_type": "markdown",
   "metadata": {},
   "source": [
    "### Нахождение оптимального значения IV методом Ньютона-Рафсона"
   ]
  },
  {
   "cell_type": "markdown",
   "metadata": {},
   "source": [
    "### $\\sigma_{i+1}=\\sigma_{i}-\\frac{c(\\sigma_{i})-c_m}{Vega}$"
   ]
  },
  {
   "cell_type": "markdown",
   "metadata": {},
   "source": [
    "### Для корректной реализации алгоритма необходимо, чтобы рыночная стоимость была не меньше внутренней стоимости"
   ]
  },
  {
   "cell_type": "code",
   "execution_count": null,
   "metadata": {},
   "outputs": [],
   "source": [
    "# Newton-Raphson\n",
    "T = days / 250\n",
    "sigma_list = []\n",
    "tol = 0.001\n",
    "for strike, price in zip(strikes_range, prices_market):\n",
    "    if (strike + price) > S_0:\n",
    "        sigma = 0.3\n",
    "        diff = 1000\n",
    "        while diff > tol:\n",
    "            option = BSM(S_0, strike, r, T, sigma, div=div_y)\n",
    "            Price_theor = option.get_price()\n",
    "            Vega = option.get_vega() * 100\n",
    "            #      print(Price_theor)\n",
    "            sigma_prev = sigma\n",
    "            sigma = sigma_prev - (Price_theor - price) / Vega\n",
    "            diff = abs(price - Price_theor)\n",
    "        sigma_list.append((strike, sigma))"
   ]
  },
  {
   "cell_type": "markdown",
   "metadata": {},
   "source": [
    "### Массив значений IV для каждого страйка"
   ]
  },
  {
   "cell_type": "code",
   "execution_count": null,
   "metadata": {},
   "outputs": [
    {
     "data": {
      "text/plain": [
       "[(101.0, 0.19338713126991527),\n",
       " (102.0, 0.21508479772770933),\n",
       " (103.0, 0.1864732858506528),\n",
       " (104.0, 0.1796249780645575),\n",
       " (105.0, 0.18868751657554997),\n",
       " (106.0, 0.1749088787268799),\n",
       " (107.0, 0.16759797351457117),\n",
       " (108.0, 0.16447691989576138),\n",
       " (109.0, 0.16572616344109453),\n",
       " (110.0, 0.15896822216384468)]"
      ]
     },
     "metadata": {},
     "output_type": "display_data"
    }
   ],
   "source": [
    "sigma_list"
   ]
  },
  {
   "cell_type": "code",
   "execution_count": null,
   "metadata": {},
   "outputs": [
    {
     "data": {
      "image/png": "[encoded data removed]",
      "text/plain": [
       "<Figure size 1000x600 with 1 Axes>"
      ]
     },
     "metadata": {},
     "output_type": "display_data"
    }
   ],
   "source": [
    "plt.figure(figsize=(10, 6))\n",
    "_ = plt.plot(cboe_MSFT_call.strike, cboe_MSFT_call.implied_volatility_1545)\n",
    "_ = plt.xlabel(\"Strike\", fontsize=18)\n",
    "_ = plt.ylabel(\"IV\", fontsize=18)\n",
    "_ = plt.title(\"Implied Volatility\", fontsize=18)"
   ]
  },
  {
   "cell_type": "code",
   "execution_count": 24,
   "metadata": {},
   "outputs": [
    {
     "data": {
      "text/html": [
       "<div>\n",
       "<style scoped>\n",
       "    .dataframe tbody tr th:only-of-type {\n",
       "        vertical-align: middle;\n",
       "    }\n",
       "\n",
       "    .dataframe tbody tr th {\n",
       "        vertical-align: top;\n",
       "    }\n",
       "\n",
       "    .dataframe thead th {\n",
       "        text-align: right;\n",
       "    }\n",
       "</style>\n",
       "<table border=\"1\" class=\"dataframe\">\n",
       "  <thead>\n",
       "    <tr style=\"text-align: right;\">\n",
       "      <th></th>\n",
       "      <th>Date</th>\n",
       "      <th>Open</th>\n",
       "      <th>High</th>\n",
       "      <th>Low</th>\n",
       "      <th>Close</th>\n",
       "      <th>Adj Close</th>\n",
       "      <th>Volume</th>\n",
       "    </tr>\n",
       "  </thead>\n",
       "  <tbody>\n",
       "    <tr>\n",
       "      <th>0</th>\n",
       "      <td>2013-12-09 00:00:00-05:00</td>\n",
       "      <td>95.949997</td>\n",
       "      <td>96.250000</td>\n",
       "      <td>95.599998</td>\n",
       "      <td>95.839996</td>\n",
       "      <td>64.983673</td>\n",
       "      <td>15516700</td>\n",
       "    </tr>\n",
       "    <tr>\n",
       "      <th>2199</th>\n",
       "      <td>2022-09-02 00:00:00-04:00</td>\n",
       "      <td>96.349998</td>\n",
       "      <td>96.790001</td>\n",
       "      <td>95.110001</td>\n",
       "      <td>95.589996</td>\n",
       "      <td>95.589996</td>\n",
       "      <td>18202600</td>\n",
       "    </tr>\n",
       "  </tbody>\n",
       "</table>\n",
       "</div>"
      ],
      "text/plain": [
       "                           Date       Open       High        Low      Close  \\\n",
       "0     2013-12-09 00:00:00-05:00  95.949997  96.250000  95.599998  95.839996   \n",
       "2199  2022-09-02 00:00:00-04:00  96.349998  96.790001  95.110001  95.589996   \n",
       "\n",
       "      Adj Close    Volume  \n",
       "0     64.983673  15516700  \n",
       "2199  95.589996  18202600  "
      ]
     },
     "execution_count": 24,
     "metadata": {},
     "output_type": "execute_result"
    }
   ],
   "source": [
    "xom.iloc[[0, -1], :]"
   ]
  },
  {
   "cell_type": "code",
   "execution_count": 29,
   "metadata": {},
   "outputs": [
    {
     "data": {
      "text/plain": [
       "str"
      ]
     },
     "execution_count": 29,
     "metadata": {},
     "output_type": "execute_result"
    }
   ],
   "source": [
    "type(xom.Date[0])"
   ]
  },
  {
   "cell_type": "code",
   "execution_count": 34,
   "metadata": {},
   "outputs": [
    {
     "name": "stdout",
     "output_type": "stream",
     "text": [
      "<class 'pandas.core.frame.DataFrame'>\n",
      "RangeIndex: 2200 entries, 0 to 2199\n",
      "Data columns (total 7 columns):\n",
      " #   Column     Non-Null Count  Dtype         \n",
      "---  ------     --------------  -----         \n",
      " 0   Date       2200 non-null   datetime64[ns]\n",
      " 1   Open       2200 non-null   float64       \n",
      " 2   High       2200 non-null   float64       \n",
      " 3   Low        2200 non-null   float64       \n",
      " 4   Close      2200 non-null   float64       \n",
      " 5   Adj Close  2200 non-null   float64       \n",
      " 6   Volume     2200 non-null   int64         \n",
      "dtypes: datetime64[ns](1), float64(5), int64(1)\n",
      "memory usage: 120.4 KB\n"
     ]
    }
   ],
   "source": [
    "xom.info()"
   ]
  },
  {
   "cell_type": "code",
   "execution_count": 33,
   "metadata": {},
   "outputs": [],
   "source": [
    "xom[\"Date\"] = xom[\"Date\"].apply(lambda x: x.split()[0])\n",
    "xom[\"Date\"] = xom[\"Date\"].apply(lambda x: datetime.strptime(x, \"%Y-%m-%d\"))"
   ]
  },
  {
   "cell_type": "code",
   "execution_count": 36,
   "metadata": {},
   "outputs": [
    {
     "data": {
      "text/html": [
       "<div>\n",
       "<style scoped>\n",
       "    .dataframe tbody tr th:only-of-type {\n",
       "        vertical-align: middle;\n",
       "    }\n",
       "\n",
       "    .dataframe tbody tr th {\n",
       "        vertical-align: top;\n",
       "    }\n",
       "\n",
       "    .dataframe thead th {\n",
       "        text-align: right;\n",
       "    }\n",
       "</style>\n",
       "<table border=\"1\" class=\"dataframe\">\n",
       "  <thead>\n",
       "    <tr style=\"text-align: right;\">\n",
       "      <th></th>\n",
       "      <th>Date</th>\n",
       "      <th>Open</th>\n",
       "      <th>High</th>\n",
       "      <th>Low</th>\n",
       "      <th>Close</th>\n",
       "      <th>Adj Close</th>\n",
       "      <th>Volume</th>\n",
       "    </tr>\n",
       "  </thead>\n",
       "  <tbody>\n",
       "    <tr>\n",
       "      <th>1632</th>\n",
       "      <td>2020-06-04</td>\n",
       "      <td>48.880001</td>\n",
       "      <td>49.150002</td>\n",
       "      <td>48.160000</td>\n",
       "      <td>49.099998</td>\n",
       "      <td>42.945118</td>\n",
       "      <td>18731400</td>\n",
       "    </tr>\n",
       "    <tr>\n",
       "      <th>546</th>\n",
       "      <td>2016-02-10</td>\n",
       "      <td>79.769997</td>\n",
       "      <td>81.449997</td>\n",
       "      <td>79.279999</td>\n",
       "      <td>79.349998</td>\n",
       "      <td>57.745667</td>\n",
       "      <td>16610900</td>\n",
       "    </tr>\n",
       "    <tr>\n",
       "      <th>2192</th>\n",
       "      <td>2022-08-24</td>\n",
       "      <td>98.010002</td>\n",
       "      <td>98.970001</td>\n",
       "      <td>97.360001</td>\n",
       "      <td>98.580002</td>\n",
       "      <td>98.580002</td>\n",
       "      <td>17050300</td>\n",
       "    </tr>\n",
       "  </tbody>\n",
       "</table>\n",
       "</div>"
      ],
      "text/plain": [
       "           Date       Open       High        Low      Close  Adj Close  \\\n",
       "1632 2020-06-04  48.880001  49.150002  48.160000  49.099998  42.945118   \n",
       "546  2016-02-10  79.769997  81.449997  79.279999  79.349998  57.745667   \n",
       "2192 2022-08-24  98.010002  98.970001  97.360001  98.580002  98.580002   \n",
       "\n",
       "        Volume  \n",
       "1632  18731400  \n",
       "546   16610900  \n",
       "2192  17050300  "
      ]
     },
     "execution_count": 36,
     "metadata": {},
     "output_type": "execute_result"
    }
   ],
   "source": [
    "xom.sample(3)"
   ]
  },
  {
   "cell_type": "markdown",
   "metadata": {},
   "source": [
    "## 3. Выбор опционов для анализа "
   ]
  },
  {
   "cell_type": "code",
   "execution_count": 37,
   "metadata": {},
   "outputs": [
    {
     "data": {
      "text/plain": [
       "datetime.datetime(2019, 2, 4, 0, 0)"
      ]
     },
     "execution_count": 37,
     "metadata": {},
     "output_type": "execute_result"
    }
   ],
   "source": [
    "date = \"2019-02-04\"  # дата расчетов\n",
    "quote_date = datetime.strptime(date, \"%Y-%m-%d\")  # дата расчетов\n",
    "quote_date"
   ]
  },
  {
   "cell_type": "code",
   "execution_count": 38,
   "metadata": {},
   "outputs": [
    {
     "data": {
      "text/plain": [
       "datetime.datetime(2019, 2, 15, 0, 0)"
      ]
     },
     "execution_count": 38,
     "metadata": {},
     "output_type": "execute_result"
    }
   ],
   "source": [
    "expiration_date = \"2019-02-15\"  # дата экспирации\n",
    "expiration_date = datetime.strptime(expiration_date, \"%Y-%m-%d\")\n",
    "expiration_date"
   ]
  },
  {
   "cell_type": "code",
   "execution_count": 39,
   "metadata": {},
   "outputs": [
    {
     "name": "stdout",
     "output_type": "stream",
     "text": [
      "74.81999969482422\n"
     ]
    }
   ],
   "source": [
    "# цена спот в дату расчета\n",
    "S_0 = float(xom[xom.Date == quote_date][\"Close\"])\n",
    "print(S_0)"
   ]
  },
  {
   "cell_type": "code",
   "execution_count": 40,
   "metadata": {},
   "outputs": [
    {
     "data": {
      "text/plain": [
       "0.044"
      ]
     },
     "execution_count": 40,
     "metadata": {},
     "output_type": "execute_result"
    }
   ],
   "source": [
    "# количество дней до экспирации\n",
    "days = (expiration_date - quote_date).days\n",
    "T = days / 250\n",
    "T"
   ]
  },
  {
   "cell_type": "code",
   "execution_count": 41,
   "metadata": {},
   "outputs": [],
   "source": [
    "div_y = 0.0172  # непрерывная дивидендная ставка (можно взять с сайта yahoo)"
   ]
  },
  {
   "cell_type": "code",
   "execution_count": 42,
   "metadata": {},
   "outputs": [],
   "source": [
    "# полный набор страйков\n",
    "strikes = np.array(\n",
    "    cboe_options[\n",
    "        (cboe_options.quote_date == quote_date)\n",
    "        & (cboe_options.underlying_symbol == \"XOM\")\n",
    "        & (cboe_options.expiration == expiration_date)\n",
    "    ][\"strike\"].unique()\n",
    ")"
   ]
  },
  {
   "cell_type": "code",
   "execution_count": 43,
   "metadata": {},
   "outputs": [
    {
     "data": {
      "text/plain": [
       "array([ 40. ,  45. ,  47.5,  50. ,  55. ,  60. ,  61. ,  62. ,  62.5,\n",
       "        63. ,  64. ,  65. ,  65.5,  66. ,  66.5,  67. ,  67.5,  68. ,\n",
       "        68.5,  69. ,  69.5,  70. ,  70.5,  71. ,  71.5,  72. ,  72.5,\n",
       "        73. ,  73.5,  74. ,  74.5,  75. ,  75.5,  76. ,  76.5,  77. ,\n",
       "        77.5,  78. ,  78.5,  79. ,  80. ,  81. ,  82. ,  82.5,  83. ,\n",
       "        84. ,  85. ,  87.5,  90. ,  95. , 100. , 105. , 110. , 115. ])"
      ]
     },
     "execution_count": 43,
     "metadata": {},
     "output_type": "execute_result"
    }
   ],
   "source": [
    "strikes"
   ]
  },
  {
   "cell_type": "code",
   "execution_count": 44,
   "metadata": {},
   "outputs": [
    {
     "data": {
      "text/plain": [
       "31"
      ]
     },
     "execution_count": 44,
     "metadata": {},
     "output_type": "execute_result"
    }
   ],
   "source": [
    "# страйк ATM\n",
    "index_ATM = np.argmin(np.abs(strikes - S_0))\n",
    "index_ATM"
   ]
  },
  {
   "cell_type": "code",
   "execution_count": 45,
   "metadata": {},
   "outputs": [],
   "source": [
    "# вспомогательный индекс для построения списка страйков\n",
    "strike_range_index = 5"
   ]
  },
  {
   "cell_type": "code",
   "execution_count": 46,
   "metadata": {},
   "outputs": [
    {
     "name": "stdout",
     "output_type": "stream",
     "text": [
      "26 36\n"
     ]
    }
   ],
   "source": [
    "# максимальный и минимальный индексы для  списка страйков\n",
    "index_min = max(0, index_ATM - strike_range_index)\n",
    "index_max = min(len(strikes) - 1, index_ATM + strike_range_index)\n",
    "print(index_min, index_max)"
   ]
  },
  {
   "cell_type": "code",
   "execution_count": 47,
   "metadata": {},
   "outputs": [
    {
     "data": {
      "text/plain": [
       "77.0"
      ]
     },
     "execution_count": 47,
     "metadata": {},
     "output_type": "execute_result"
    }
   ],
   "source": [
    "# создание списка страйков\n",
    "strikes_range = strikes[index_min:index_max]\n",
    "max(strikes_range)"
   ]
  },
  {
   "cell_type": "code",
   "execution_count": 48,
   "metadata": {},
   "outputs": [],
   "source": [
    "# массив данных по выбранным опционам колл\n",
    "cboe_XOM_call = cboe_options[\n",
    "    (cboe_options.quote_date == quote_date)\n",
    "    & (cboe_options.underlying_symbol == \"XOM\")\n",
    "    & (cboe_options.option_type == \"C\")\n",
    "    & (cboe_options.expiration == expiration_date)\n",
    "    & (cboe_options.strike <= max(strikes_range))\n",
    "    & (cboe_options.strike >= min(strikes_range))\n",
    "][\n",
    "    [\n",
    "        \"strike\",\n",
    "        \"high\",\n",
    "        \"low\",\n",
    "        \"close\",\n",
    "        \"delta_1545\",\n",
    "        \"gamma_1545\",\n",
    "        \"vega_1545\",\n",
    "        \"implied_volatility_1545\",\n",
    "    ]\n",
    "]"
   ]
  },
  {
   "cell_type": "code",
   "execution_count": 49,
   "metadata": {},
   "outputs": [
    {
     "data": {
      "text/html": [
       "<div>\n",
       "<style scoped>\n",
       "    .dataframe tbody tr th:only-of-type {\n",
       "        vertical-align: middle;\n",
       "    }\n",
       "\n",
       "    .dataframe tbody tr th {\n",
       "        vertical-align: top;\n",
       "    }\n",
       "\n",
       "    .dataframe thead th {\n",
       "        text-align: right;\n",
       "    }\n",
       "</style>\n",
       "<table border=\"1\" class=\"dataframe\">\n",
       "  <thead>\n",
       "    <tr style=\"text-align: right;\">\n",
       "      <th></th>\n",
       "      <th>strike</th>\n",
       "      <th>high</th>\n",
       "      <th>low</th>\n",
       "      <th>close</th>\n",
       "      <th>delta_1545</th>\n",
       "      <th>gamma_1545</th>\n",
       "      <th>vega_1545</th>\n",
       "      <th>implied_volatility_1545</th>\n",
       "    </tr>\n",
       "  </thead>\n",
       "  <tbody>\n",
       "    <tr>\n",
       "      <th>2640</th>\n",
       "      <td>72.5</td>\n",
       "      <td>2.91</td>\n",
       "      <td>2.10</td>\n",
       "      <td>2.36</td>\n",
       "      <td>0.7241</td>\n",
       "      <td>0.1100</td>\n",
       "      <td>0.0426</td>\n",
       "      <td>0.2294</td>\n",
       "    </tr>\n",
       "    <tr>\n",
       "      <th>2642</th>\n",
       "      <td>73.0</td>\n",
       "      <td>2.15</td>\n",
       "      <td>1.80</td>\n",
       "      <td>1.80</td>\n",
       "      <td>0.6797</td>\n",
       "      <td>0.1305</td>\n",
       "      <td>0.0458</td>\n",
       "      <td>0.2076</td>\n",
       "    </tr>\n",
       "    <tr>\n",
       "      <th>2644</th>\n",
       "      <td>73.5</td>\n",
       "      <td>1.71</td>\n",
       "      <td>1.28</td>\n",
       "      <td>1.44</td>\n",
       "      <td>0.6165</td>\n",
       "      <td>0.1484</td>\n",
       "      <td>0.0490</td>\n",
       "      <td>0.1955</td>\n",
       "    </tr>\n",
       "    <tr>\n",
       "      <th>2646</th>\n",
       "      <td>74.0</td>\n",
       "      <td>1.58</td>\n",
       "      <td>0.97</td>\n",
       "      <td>1.10</td>\n",
       "      <td>0.5410</td>\n",
       "      <td>0.1630</td>\n",
       "      <td>0.0511</td>\n",
       "      <td>0.1856</td>\n",
       "    </tr>\n",
       "    <tr>\n",
       "      <th>2648</th>\n",
       "      <td>74.5</td>\n",
       "      <td>1.53</td>\n",
       "      <td>0.68</td>\n",
       "      <td>0.81</td>\n",
       "      <td>0.4557</td>\n",
       "      <td>0.1724</td>\n",
       "      <td>0.0512</td>\n",
       "      <td>0.1756</td>\n",
       "    </tr>\n",
       "    <tr>\n",
       "      <th>2650</th>\n",
       "      <td>75.0</td>\n",
       "      <td>1.27</td>\n",
       "      <td>0.48</td>\n",
       "      <td>0.58</td>\n",
       "      <td>0.3664</td>\n",
       "      <td>0.1698</td>\n",
       "      <td>0.0487</td>\n",
       "      <td>0.1696</td>\n",
       "    </tr>\n",
       "    <tr>\n",
       "      <th>2652</th>\n",
       "      <td>75.5</td>\n",
       "      <td>0.71</td>\n",
       "      <td>0.32</td>\n",
       "      <td>0.36</td>\n",
       "      <td>0.2807</td>\n",
       "      <td>0.1562</td>\n",
       "      <td>0.0436</td>\n",
       "      <td>0.1653</td>\n",
       "    </tr>\n",
       "    <tr>\n",
       "      <th>2654</th>\n",
       "      <td>76.0</td>\n",
       "      <td>0.65</td>\n",
       "      <td>0.22</td>\n",
       "      <td>0.24</td>\n",
       "      <td>0.2054</td>\n",
       "      <td>0.1340</td>\n",
       "      <td>0.0369</td>\n",
       "      <td>0.1628</td>\n",
       "    </tr>\n",
       "    <tr>\n",
       "      <th>2656</th>\n",
       "      <td>76.5</td>\n",
       "      <td>0.60</td>\n",
       "      <td>0.15</td>\n",
       "      <td>0.15</td>\n",
       "      <td>0.1453</td>\n",
       "      <td>0.1079</td>\n",
       "      <td>0.0296</td>\n",
       "      <td>0.1623</td>\n",
       "    </tr>\n",
       "    <tr>\n",
       "      <th>2658</th>\n",
       "      <td>77.0</td>\n",
       "      <td>0.17</td>\n",
       "      <td>0.10</td>\n",
       "      <td>0.10</td>\n",
       "      <td>0.0992</td>\n",
       "      <td>0.0824</td>\n",
       "      <td>0.0226</td>\n",
       "      <td>0.1624</td>\n",
       "    </tr>\n",
       "  </tbody>\n",
       "</table>\n",
       "</div>"
      ],
      "text/plain": [
       "      strike  high   low  close  delta_1545  gamma_1545  vega_1545  \\\n",
       "2640    72.5  2.91  2.10   2.36      0.7241      0.1100     0.0426   \n",
       "2642    73.0  2.15  1.80   1.80      0.6797      0.1305     0.0458   \n",
       "2644    73.5  1.71  1.28   1.44      0.6165      0.1484     0.0490   \n",
       "2646    74.0  1.58  0.97   1.10      0.5410      0.1630     0.0511   \n",
       "2648    74.5  1.53  0.68   0.81      0.4557      0.1724     0.0512   \n",
       "2650    75.0  1.27  0.48   0.58      0.3664      0.1698     0.0487   \n",
       "2652    75.5  0.71  0.32   0.36      0.2807      0.1562     0.0436   \n",
       "2654    76.0  0.65  0.22   0.24      0.2054      0.1340     0.0369   \n",
       "2656    76.5  0.60  0.15   0.15      0.1453      0.1079     0.0296   \n",
       "2658    77.0  0.17  0.10   0.10      0.0992      0.0824     0.0226   \n",
       "\n",
       "      implied_volatility_1545  \n",
       "2640                   0.2294  \n",
       "2642                   0.2076  \n",
       "2644                   0.1955  \n",
       "2646                   0.1856  \n",
       "2648                   0.1756  \n",
       "2650                   0.1696  \n",
       "2652                   0.1653  \n",
       "2654                   0.1628  \n",
       "2656                   0.1623  \n",
       "2658                   0.1624  "
      ]
     },
     "execution_count": 49,
     "metadata": {},
     "output_type": "execute_result"
    }
   ],
   "source": [
    "cboe_XOM_call"
   ]
  },
  {
   "cell_type": "code",
   "execution_count": 50,
   "metadata": {},
   "outputs": [],
   "source": [
    "# массив данных по выбранным опционам пут\n",
    "cboe_XOM_put = cboe_options[\n",
    "    (cboe_options.quote_date == quote_date)\n",
    "    & (cboe_options.underlying_symbol == \"XOM\")\n",
    "    & (cboe_options.option_type == \"P\")\n",
    "    & (cboe_options.expiration == expiration_date)\n",
    "    & (cboe_options.strike <= max(strikes_range))\n",
    "    & (cboe_options.strike >= min(strikes_range))\n",
    "][\n",
    "    [\n",
    "        \"strike\",\n",
    "        \"high\",\n",
    "        \"low\",\n",
    "        \"close\",\n",
    "        \"delta_1545\",\n",
    "        \"gamma_1545\",\n",
    "        \"vega_1545\",\n",
    "        \"implied_volatility_1545\",\n",
    "    ]\n",
    "]"
   ]
  },
  {
   "cell_type": "code",
   "execution_count": 51,
   "metadata": {},
   "outputs": [
    {
     "data": {
      "text/html": [
       "<div>\n",
       "<style scoped>\n",
       "    .dataframe tbody tr th:only-of-type {\n",
       "        vertical-align: middle;\n",
       "    }\n",
       "\n",
       "    .dataframe tbody tr th {\n",
       "        vertical-align: top;\n",
       "    }\n",
       "\n",
       "    .dataframe thead th {\n",
       "        text-align: right;\n",
       "    }\n",
       "</style>\n",
       "<table border=\"1\" class=\"dataframe\">\n",
       "  <thead>\n",
       "    <tr style=\"text-align: right;\">\n",
       "      <th></th>\n",
       "      <th>strike</th>\n",
       "      <th>high</th>\n",
       "      <th>low</th>\n",
       "      <th>close</th>\n",
       "      <th>delta_1545</th>\n",
       "      <th>gamma_1545</th>\n",
       "      <th>vega_1545</th>\n",
       "      <th>implied_volatility_1545</th>\n",
       "    </tr>\n",
       "  </thead>\n",
       "  <tbody>\n",
       "    <tr>\n",
       "      <th>2641</th>\n",
       "      <td>72.5</td>\n",
       "      <td>0.56</td>\n",
       "      <td>0.27</td>\n",
       "      <td>0.40</td>\n",
       "      <td>-0.2478</td>\n",
       "      <td>0.1171</td>\n",
       "      <td>0.0410</td>\n",
       "      <td>0.2069</td>\n",
       "    </tr>\n",
       "    <tr>\n",
       "      <th>2643</th>\n",
       "      <td>73.0</td>\n",
       "      <td>0.66</td>\n",
       "      <td>0.53</td>\n",
       "      <td>0.53</td>\n",
       "      <td>-0.3088</td>\n",
       "      <td>0.1327</td>\n",
       "      <td>0.0456</td>\n",
       "      <td>0.2033</td>\n",
       "    </tr>\n",
       "    <tr>\n",
       "      <th>2645</th>\n",
       "      <td>73.5</td>\n",
       "      <td>0.91</td>\n",
       "      <td>0.72</td>\n",
       "      <td>0.72</td>\n",
       "      <td>-0.3785</td>\n",
       "      <td>0.1445</td>\n",
       "      <td>0.0492</td>\n",
       "      <td>0.2013</td>\n",
       "    </tr>\n",
       "    <tr>\n",
       "      <th>2647</th>\n",
       "      <td>74.0</td>\n",
       "      <td>1.15</td>\n",
       "      <td>0.88</td>\n",
       "      <td>0.90</td>\n",
       "      <td>-0.4532</td>\n",
       "      <td>0.1512</td>\n",
       "      <td>0.0511</td>\n",
       "      <td>0.2001</td>\n",
       "    </tr>\n",
       "    <tr>\n",
       "      <th>2649</th>\n",
       "      <td>74.5</td>\n",
       "      <td>1.39</td>\n",
       "      <td>1.16</td>\n",
       "      <td>1.19</td>\n",
       "      <td>-0.5295</td>\n",
       "      <td>0.1508</td>\n",
       "      <td>0.0513</td>\n",
       "      <td>0.2012</td>\n",
       "    </tr>\n",
       "    <tr>\n",
       "      <th>2651</th>\n",
       "      <td>75.0</td>\n",
       "      <td>1.75</td>\n",
       "      <td>1.36</td>\n",
       "      <td>1.45</td>\n",
       "      <td>-0.6029</td>\n",
       "      <td>0.1446</td>\n",
       "      <td>0.0496</td>\n",
       "      <td>0.2027</td>\n",
       "    </tr>\n",
       "    <tr>\n",
       "      <th>2653</th>\n",
       "      <td>75.5</td>\n",
       "      <td>2.11</td>\n",
       "      <td>1.49</td>\n",
       "      <td>1.90</td>\n",
       "      <td>-0.6685</td>\n",
       "      <td>0.1325</td>\n",
       "      <td>0.0465</td>\n",
       "      <td>0.2075</td>\n",
       "    </tr>\n",
       "    <tr>\n",
       "      <th>2655</th>\n",
       "      <td>76.0</td>\n",
       "      <td>2.40</td>\n",
       "      <td>2.18</td>\n",
       "      <td>2.29</td>\n",
       "      <td>-0.7258</td>\n",
       "      <td>0.1184</td>\n",
       "      <td>0.0425</td>\n",
       "      <td>0.2124</td>\n",
       "    </tr>\n",
       "    <tr>\n",
       "      <th>2657</th>\n",
       "      <td>76.5</td>\n",
       "      <td>0.00</td>\n",
       "      <td>0.00</td>\n",
       "      <td>0.00</td>\n",
       "      <td>-0.7664</td>\n",
       "      <td>0.1021</td>\n",
       "      <td>0.0389</td>\n",
       "      <td>0.2254</td>\n",
       "    </tr>\n",
       "    <tr>\n",
       "      <th>2659</th>\n",
       "      <td>77.0</td>\n",
       "      <td>3.30</td>\n",
       "      <td>2.80</td>\n",
       "      <td>3.30</td>\n",
       "      <td>-0.7958</td>\n",
       "      <td>0.0878</td>\n",
       "      <td>0.0359</td>\n",
       "      <td>0.2416</td>\n",
       "    </tr>\n",
       "  </tbody>\n",
       "</table>\n",
       "</div>"
      ],
      "text/plain": [
       "      strike  high   low  close  delta_1545  gamma_1545  vega_1545  \\\n",
       "2641    72.5  0.56  0.27   0.40     -0.2478      0.1171     0.0410   \n",
       "2643    73.0  0.66  0.53   0.53     -0.3088      0.1327     0.0456   \n",
       "2645    73.5  0.91  0.72   0.72     -0.3785      0.1445     0.0492   \n",
       "2647    74.0  1.15  0.88   0.90     -0.4532      0.1512     0.0511   \n",
       "2649    74.5  1.39  1.16   1.19     -0.5295      0.1508     0.0513   \n",
       "2651    75.0  1.75  1.36   1.45     -0.6029      0.1446     0.0496   \n",
       "2653    75.5  2.11  1.49   1.90     -0.6685      0.1325     0.0465   \n",
       "2655    76.0  2.40  2.18   2.29     -0.7258      0.1184     0.0425   \n",
       "2657    76.5  0.00  0.00   0.00     -0.7664      0.1021     0.0389   \n",
       "2659    77.0  3.30  2.80   3.30     -0.7958      0.0878     0.0359   \n",
       "\n",
       "      implied_volatility_1545  \n",
       "2641                   0.2069  \n",
       "2643                   0.2033  \n",
       "2645                   0.2013  \n",
       "2647                   0.2001  \n",
       "2649                   0.2012  \n",
       "2651                   0.2027  \n",
       "2653                   0.2075  \n",
       "2655                   0.2124  \n",
       "2657                   0.2254  \n",
       "2659                   0.2416  "
      ]
     },
     "execution_count": 51,
     "metadata": {},
     "output_type": "execute_result"
    }
   ],
   "source": [
    "cboe_XOM_put"
   ]
  },
  {
   "cell_type": "markdown",
   "metadata": {},
   "source": [
    "## 4. Модель CRR"
   ]
  },
  {
   "cell_type": "markdown",
   "metadata": {},
   "source": [
    "### Алгоритм  модели биномиального дерева CRR и соответствующие формулы приведены в лекционных материалах. Программная реализация модели осуществляется с помощью создания класса. Класс объединяет методы (функции) и переменные или, иначе, реализует механизм инкапсуляции, являющийся важнейшим элементом объектно-ориентированного программирования."
   ]
  },
  {
   "cell_type": "code",
   "execution_count": 52,
   "metadata": {},
   "outputs": [],
   "source": [
    "class CRR:\n",
    "    def __init__(\n",
    "        self, S_0, K, r, T, N, sigma, div=0, t=0, is_call=True, is_european=True\n",
    "    ):\n",
    "        self._S_0 = S_0\n",
    "        self._K = K\n",
    "        self._r = r\n",
    "        self._div = div\n",
    "        self._T = T\n",
    "        self._N = N\n",
    "        self._sigma = sigma\n",
    "        self._t = t\n",
    "        self._is_call = is_call\n",
    "        self._is_european = is_european\n",
    "\n",
    "    def __set_up__(self):\n",
    "        self._dt = T / N\n",
    "        self._df = np.exp(-(self._r - self._div) * self._dt)\n",
    "        self._u = np.exp(self._sigma * np.sqrt(self._dt))\n",
    "        self._d = 1 / self._u\n",
    "        self._p = (np.exp((self._r - self._div) * self._dt) - self._d) / (\n",
    "            self._u - self._d\n",
    "        )\n",
    "        self._q = 1 - self._p\n",
    "\n",
    "    def __path_gen__(self):\n",
    "        self._S = [np.array([self._S_0])]\n",
    "        for i in range(self._N):\n",
    "            prev = self._S[-1]\n",
    "            st = np.concatenate((prev * self._u, [prev[-1] * self._d]))\n",
    "            self._S.append(st)\n",
    "\n",
    "    def __initialize_payoffs__(self):\n",
    "        final_state = self._S[N]\n",
    "        return (\n",
    "            np.maximum(0, (final_state - self._K))\n",
    "            if self._is_call\n",
    "            else np.maximum(0, (self._K - final_state))\n",
    "        )\n",
    "\n",
    "    def __check_early_ex__(self, i, payoffs):\n",
    "        early_payoffs = (\n",
    "            (self._S[i] - self._K) if self._is_call else (self._K - self._S[i])\n",
    "        )\n",
    "        return np.maximum(early_payoffs, payoffs)\n",
    "\n",
    "    def __traverse_tree__(self, payoffs):\n",
    "        for i in reversed(range(self._N)):\n",
    "            payoffs = (payoffs[:-1] * self._p + payoffs[1:] * self._q) * self._df\n",
    "            # print(payoffs)\n",
    "            if not self._is_european:\n",
    "                payoffs = self.__check_early_ex__(i, payoffs)\n",
    "        return payoffs\n",
    "\n",
    "    def get_price(self):\n",
    "        self.__set_up__()\n",
    "        self.__path_gen__()\n",
    "        payoffs_init = self.__initialize_payoffs__()\n",
    "        payoffs = self.__traverse_tree__(payoffs_init)\n",
    "        return payoffs[0]\n",
    "\n",
    "    def get_path(self):\n",
    "        self.__set_up__()\n",
    "        self.__path_gen__()\n",
    "        return self._S\n",
    "\n",
    "    def get_prob(self):\n",
    "        self.__set_up__()\n",
    "        return self._p, self._q\n",
    "\n",
    "    def get_param(self):\n",
    "        self.__set_up__()\n",
    "        return self._u, self._d"
   ]
  },
  {
   "cell_type": "markdown",
   "metadata": {},
   "source": [
    "### Реализация модели CRR "
   ]
  },
  {
   "cell_type": "code",
   "execution_count": 77,
   "metadata": {},
   "outputs": [],
   "source": [
    "K = 76.5  # страйк\n",
    "r = 0.025  # процентная ставка\n",
    "N = 4  # количестов шагов для построения биномиального дерева\n",
    "sigma = 0.16  # волатильность"
   ]
  },
  {
   "cell_type": "code",
   "execution_count": 78,
   "metadata": {},
   "outputs": [],
   "source": [
    "option_call = CRR(S_0, K, r, T, N, sigma, is_call=True, div=div_y, is_european=True)"
   ]
  },
  {
   "cell_type": "code",
   "execution_count": 79,
   "metadata": {},
   "outputs": [
    {
     "data": {
      "text/plain": [
       "0.43364423501594485"
      ]
     },
     "execution_count": 79,
     "metadata": {},
     "output_type": "execute_result"
    }
   ],
   "source": [
    "option_call.get_price()"
   ]
  },
  {
   "cell_type": "code",
   "execution_count": 80,
   "metadata": {},
   "outputs": [],
   "source": [
    "S = option_call.get_path()  # биномиальное дерево"
   ]
  },
  {
   "cell_type": "code",
   "execution_count": 81,
   "metadata": {},
   "outputs": [
    {
     "data": {
      "text/plain": [
       "[array([74.81999969]),\n",
       " array([76.08614357, 73.57492563]),\n",
       " array([77.3737138 , 74.81999969, 72.35057074]),\n",
       " array([78.68307299, 76.08614357, 73.57492563, 71.14659026]),\n",
       " array([80.01458985, 77.3737138 , 74.81999969, 72.35057074, 69.96264513])]"
      ]
     },
     "execution_count": 81,
     "metadata": {},
     "output_type": "execute_result"
    }
   ],
   "source": [
    "S"
   ]
  },
  {
   "cell_type": "markdown",
   "metadata": {},
   "source": [
    "### Визуализация дерева"
   ]
  },
  {
   "cell_type": "code",
   "execution_count": 73,
   "metadata": {},
   "outputs": [],
   "source": [
    "G = nx.Graph()"
   ]
  },
  {
   "cell_type": "code",
   "execution_count": 74,
   "metadata": {},
   "outputs": [],
   "source": [
    "for i in range(0, N + 1):\n",
    "    for j in range(1, i + 2):\n",
    "        if i < N:\n",
    "            G.add_edge((i, j), (i + 1, j))\n",
    "            G.add_edge((i, j), (i + 1, j + 1))"
   ]
  },
  {
   "cell_type": "code",
   "execution_count": 75,
   "metadata": {},
   "outputs": [
    {
     "data": {
      "image/png": "[encoded data removed]",
      "text/plain": [
       "<Figure size 1000x600 with 1 Axes>"
      ]
     },
     "metadata": {},
     "output_type": "display_data"
    }
   ],
   "source": [
    "plt.figure(figsize=(10, 6))\n",
    "posG = {}\n",
    "labels = {}\n",
    "i = 0\n",
    "for node in G.nodes():\n",
    "    posG[node] = (node[0], N + 2 + node[0] - 2 * node[1])\n",
    "    i, j = node\n",
    "    labels[node] = round(S[i][j - 1], 2)\n",
    "nx.draw_networkx_nodes(G, posG)\n",
    "nx.draw_networkx_edges(G, posG)\n",
    "_ = nx.draw_networkx_labels(G, posG, labels)"
   ]
  },
  {
   "cell_type": "code",
   "execution_count": 82,
   "metadata": {},
   "outputs": [
    {
     "data": {
      "text/plain": [
       "(0.49836132431098107, 0.501638675689019)"
      ]
     },
     "execution_count": 82,
     "metadata": {},
     "output_type": "execute_result"
    }
   ],
   "source": [
    "option_call.get_prob()  # риск-нейтральные вероятности"
   ]
  },
  {
   "cell_type": "code",
   "execution_count": 83,
   "metadata": {},
   "outputs": [
    {
     "data": {
      "text/plain": [
       "(1.0169225324714737, 0.9833590741368017)"
      ]
     },
     "execution_count": 83,
     "metadata": {},
     "output_type": "execute_result"
    }
   ],
   "source": [
    "option_call.get_param()  # параметры u и d"
   ]
  },
  {
   "cell_type": "code",
   "execution_count": 86,
   "metadata": {},
   "outputs": [],
   "source": [
    "option_put = CRR(S_0, K, r, T, N, sigma, is_call=False, div=div_y, is_european=True)"
   ]
  },
  {
   "cell_type": "code",
   "execution_count": 87,
   "metadata": {},
   "outputs": [
    {
     "data": {
      "text/plain": [
       "2.0873942450000493"
      ]
     },
     "execution_count": 87,
     "metadata": {},
     "output_type": "execute_result"
    }
   ],
   "source": [
    "option_put.get_price()"
   ]
  },
  {
   "cell_type": "markdown",
   "metadata": {},
   "source": [
    "### Паритет пут-колл"
   ]
  },
  {
   "cell_type": "code",
   "execution_count": 88,
   "metadata": {},
   "outputs": [
    {
     "data": {
      "text/plain": [
       "76.84954050055036"
      ]
     },
     "execution_count": 88,
     "metadata": {},
     "output_type": "execute_result"
    }
   ],
   "source": [
    "K * np.exp(-r * (T - 0)) + option_call.get_price()"
   ]
  },
  {
   "cell_type": "code",
   "execution_count": 89,
   "metadata": {},
   "outputs": [
    {
     "data": {
      "text/plain": [
       "76.85079158508783"
      ]
     },
     "execution_count": 89,
     "metadata": {},
     "output_type": "execute_result"
    }
   ],
   "source": [
    "np.exp(-div_y * (T - 0)) * S_0 + option_put.get_price()"
   ]
  },
  {
   "cell_type": "markdown",
   "metadata": {},
   "source": [
    "## 5. Модель BSM (Black Scholes Merton)"
   ]
  },
  {
   "cell_type": "markdown",
   "metadata": {},
   "source": [
    "###  Модель Блэка-Шоулза и соответствующие формулы приведены в лекционных материалах. Программная реализация модели осуществляется с помощью создания класса. "
   ]
  },
  {
   "cell_type": "code",
   "execution_count": 67,
   "metadata": {},
   "outputs": [],
   "source": [
    "class BSM:\n",
    "    def __init__(self, S_0, K, r, T, sigma, div=0, t=0, is_call=True):\n",
    "        self._S_0 = S_0\n",
    "        self._K = K\n",
    "        self._r = r\n",
    "        self._div = div\n",
    "        self._T = T\n",
    "        self._sigma = sigma\n",
    "        self._t = t\n",
    "        self._is_call = is_call\n",
    "\n",
    "    def __d_values__(self):\n",
    "        self._d1 = (\n",
    "            np.log(self._S_0 / self._K)\n",
    "            + (self._r - self._div + 0.5 * self._sigma**2) * (self._T - self._t)\n",
    "        ) / (self._sigma * np.sqrt(self._T - self._t))\n",
    "        self._d2 = self._d1 - self._sigma * np.sqrt(self._T - self._t)\n",
    "\n",
    "    def __N_d__(self, d_value):\n",
    "        return stats.norm.cdf(d_value)\n",
    "\n",
    "    def __price__(self):\n",
    "        return (\n",
    "            (\n",
    "                np.exp(-self._div * (self._T - self._t))\n",
    "                * self._S_0\n",
    "                * self.__N_d__(self._d1)\n",
    "                - np.exp(-self._r * (self._T - self._t))\n",
    "                * self._K\n",
    "                * self.__N_d__(self._d2)\n",
    "            )\n",
    "            if self._is_call\n",
    "            else (\n",
    "                np.exp(-self._r * (self._T - self._t))\n",
    "                * self._K\n",
    "                * self.__N_d__(-self._d2)\n",
    "                - np.exp(-self._div * (self._T - self._t))\n",
    "                * self._S_0\n",
    "                * self.__N_d__(-self._d1)\n",
    "            )\n",
    "        )\n",
    "\n",
    "    def get_price(self):\n",
    "        self.__d_values__()\n",
    "        price = self.__price__()\n",
    "        return price\n",
    "\n",
    "    def get_delta(self):\n",
    "        self.__d_values__()\n",
    "        return self.__N_d__(self._d1) if self._is_call else self.__N_d__(self._d1) - 1\n",
    "\n",
    "    def get_vega(self):\n",
    "        self.__d_values__()\n",
    "        return (\n",
    "            self._S_0\n",
    "            * stats.norm.pdf(self._d1)\n",
    "            * np.sqrt(self._T - self._t)\n",
    "            * np.exp(-self._div * (self._T - self._t))\n",
    "        ) / 100"
   ]
  },
  {
   "cell_type": "markdown",
   "metadata": {},
   "source": [
    "### Реализация модели BSM "
   ]
  },
  {
   "cell_type": "code",
   "execution_count": 90,
   "metadata": {},
   "outputs": [],
   "source": [
    "K = 76.5\n",
    "r = 0.024\n",
    "sigma = 0.2  # годовое значение\n",
    "call = True"
   ]
  },
  {
   "cell_type": "code",
   "execution_count": 91,
   "metadata": {},
   "outputs": [],
   "source": [
    "option_call = BSM(S_0, K, r, T, sigma, div=div_y, is_call=True)"
   ]
  },
  {
   "cell_type": "code",
   "execution_count": 92,
   "metadata": {},
   "outputs": [
    {
     "data": {
      "text/plain": [
       "0.6057340061092162"
      ]
     },
     "execution_count": 92,
     "metadata": {},
     "output_type": "execute_result"
    }
   ],
   "source": [
    "option_call.get_price()"
   ]
  },
  {
   "cell_type": "code",
   "execution_count": 93,
   "metadata": {},
   "outputs": [
    {
     "data": {
      "text/plain": [
       "0.3081168963970454"
      ]
     },
     "execution_count": 93,
     "metadata": {},
     "output_type": "execute_result"
    }
   ],
   "source": [
    "option_call.get_delta()  # дельта опциона"
   ]
  },
  {
   "cell_type": "code",
   "execution_count": 94,
   "metadata": {},
   "outputs": [
    {
     "data": {
      "text/plain": [
       "0.055179630738617286"
      ]
     },
     "execution_count": 94,
     "metadata": {},
     "output_type": "execute_result"
    }
   ],
   "source": [
    "option_call.get_vega()  # вега опциона"
   ]
  },
  {
   "cell_type": "code",
   "execution_count": 95,
   "metadata": {},
   "outputs": [],
   "source": [
    "option_put = BSM(S_0, K, r, T, sigma, div=div_y, is_call=False)"
   ]
  },
  {
   "cell_type": "code",
   "execution_count": 96,
   "metadata": {},
   "outputs": [
    {
     "data": {
      "text/plain": [
       "2.2615953049632083"
      ]
     },
     "execution_count": 96,
     "metadata": {},
     "output_type": "execute_result"
    }
   ],
   "source": [
    "option_put.get_price()"
   ]
  },
  {
   "cell_type": "code",
   "execution_count": 97,
   "metadata": {},
   "outputs": [
    {
     "data": {
      "text/plain": [
       "-0.6918831036029546"
      ]
     },
     "execution_count": 97,
     "metadata": {},
     "output_type": "execute_result"
    }
   ],
   "source": [
    "option_put.get_delta()"
   ]
  },
  {
   "cell_type": "code",
   "execution_count": 98,
   "metadata": {},
   "outputs": [
    {
     "data": {
      "text/plain": [
       "0.055179630738617286"
      ]
     },
     "execution_count": 98,
     "metadata": {},
     "output_type": "execute_result"
    }
   ],
   "source": [
    "option_put.get_vega()"
   ]
  },
  {
   "cell_type": "markdown",
   "metadata": {},
   "source": [
    "### Паритет пут-колл"
   ]
  },
  {
   "cell_type": "code",
   "execution_count": 99,
   "metadata": {},
   "outputs": [
    {
     "data": {
      "text/plain": [
       "77.02499264505099"
      ]
     },
     "execution_count": 99,
     "metadata": {},
     "output_type": "execute_result"
    }
   ],
   "source": [
    "K * np.exp(-r * (T - 0)) + option_call.get_price()"
   ]
  },
  {
   "cell_type": "code",
   "execution_count": 100,
   "metadata": {},
   "outputs": [
    {
     "data": {
      "text/plain": [
       "77.02499264505099"
      ]
     },
     "execution_count": 100,
     "metadata": {},
     "output_type": "execute_result"
    }
   ],
   "source": [
    "np.exp(-div_y * (T - 0)) * S_0 + option_put.get_price()"
   ]
  },
  {
   "cell_type": "markdown",
   "metadata": {},
   "source": [
    "## 5. Опиционные стратегии"
   ]
  },
  {
   "cell_type": "markdown",
   "metadata": {},
   "source": [
    "###  Bull spread"
   ]
  },
  {
   "cell_type": "code",
   "execution_count": 103,
   "metadata": {},
   "outputs": [],
   "source": [
    "bull_spread_setup = pd.DataFrame(\n",
    "    zip(\n",
    "        [\"Call\", \"Call\"],\n",
    "        [73, 76.5],\n",
    "        [\n",
    "            CRR(\n",
    "                S_0, 73, r, T, N, sigma, is_call=True, div=div_y, is_european=False\n",
    "            ).get_price(),\n",
    "            CRR(\n",
    "                S_0, 76.5, r, T, N, sigma, is_call=True, div=div_y, is_european=False\n",
    "            ).get_price(),\n",
    "        ],\n",
    "        [\"Buy\", \"Sell\"],\n",
    "    ),\n",
    "    columns=[\"Type\", \"Strike\", \"Price\", \"Buy/Sell\"],\n",
    ")"
   ]
  },
  {
   "cell_type": "code",
   "execution_count": 104,
   "metadata": {},
   "outputs": [
    {
     "data": {
      "text/html": [
       "<div>\n",
       "<style scoped>\n",
       "    .dataframe tbody tr th:only-of-type {\n",
       "        vertical-align: middle;\n",
       "    }\n",
       "\n",
       "    .dataframe tbody tr th {\n",
       "        vertical-align: top;\n",
       "    }\n",
       "\n",
       "    .dataframe thead th {\n",
       "        text-align: right;\n",
       "    }\n",
       "</style>\n",
       "<table border=\"1\" class=\"dataframe\">\n",
       "  <thead>\n",
       "    <tr style=\"text-align: right;\">\n",
       "      <th></th>\n",
       "      <th>Type</th>\n",
       "      <th>Strike</th>\n",
       "      <th>Price</th>\n",
       "      <th>Buy/Sell</th>\n",
       "    </tr>\n",
       "  </thead>\n",
       "  <tbody>\n",
       "    <tr>\n",
       "      <th>0</th>\n",
       "      <td>Call</td>\n",
       "      <td>73.0</td>\n",
       "      <td>2.429435</td>\n",
       "      <td>Buy</td>\n",
       "    </tr>\n",
       "    <tr>\n",
       "      <th>1</th>\n",
       "      <td>Call</td>\n",
       "      <td>76.5</td>\n",
       "      <td>0.671883</td>\n",
       "      <td>Sell</td>\n",
       "    </tr>\n",
       "  </tbody>\n",
       "</table>\n",
       "</div>"
      ],
      "text/plain": [
       "   Type  Strike     Price Buy/Sell\n",
       "0  Call    73.0  2.429435      Buy\n",
       "1  Call    76.5  0.671883     Sell"
      ]
     },
     "execution_count": 104,
     "metadata": {},
     "output_type": "execute_result"
    }
   ],
   "source": [
    "bull_spread_setup"
   ]
  },
  {
   "cell_type": "code",
   "execution_count": 105,
   "metadata": {},
   "outputs": [],
   "source": [
    "bull_spread_result = pd.DataFrame(\n",
    "    zip(\n",
    "        range(70, 81),\n",
    "        np.maximum(range(70, 81) - bull_spread_setup.iloc[0, 1], 0)\n",
    "        - bull_spread_setup.iloc[0, 2],\n",
    "        -np.maximum((range(70, 81) - bull_spread_setup.iloc[1, 1]), 0)\n",
    "        + bull_spread_setup.iloc[1, 2],\n",
    "    ),\n",
    "    columns=[\"Spot\", \"Call1\", \"Call2\"],\n",
    ")"
   ]
  },
  {
   "cell_type": "code",
   "execution_count": 106,
   "metadata": {},
   "outputs": [],
   "source": [
    "bull_spread_result[\"Result\"] = bull_spread_result[\"Call1\"] + bull_spread_result[\"Call2\"]"
   ]
  },
  {
   "cell_type": "code",
   "execution_count": 107,
   "metadata": {},
   "outputs": [
    {
     "data": {
      "text/html": [
       "<div>\n",
       "<style scoped>\n",
       "    .dataframe tbody tr th:only-of-type {\n",
       "        vertical-align: middle;\n",
       "    }\n",
       "\n",
       "    .dataframe tbody tr th {\n",
       "        vertical-align: top;\n",
       "    }\n",
       "\n",
       "    .dataframe thead th {\n",
       "        text-align: right;\n",
       "    }\n",
       "</style>\n",
       "<table border=\"1\" class=\"dataframe\">\n",
       "  <thead>\n",
       "    <tr style=\"text-align: right;\">\n",
       "      <th></th>\n",
       "      <th>Spot</th>\n",
       "      <th>Call1</th>\n",
       "      <th>Call2</th>\n",
       "      <th>Result</th>\n",
       "    </tr>\n",
       "  </thead>\n",
       "  <tbody>\n",
       "    <tr>\n",
       "      <th>0</th>\n",
       "      <td>70</td>\n",
       "      <td>-2.429435</td>\n",
       "      <td>0.671883</td>\n",
       "      <td>-1.757552</td>\n",
       "    </tr>\n",
       "    <tr>\n",
       "      <th>1</th>\n",
       "      <td>71</td>\n",
       "      <td>-2.429435</td>\n",
       "      <td>0.671883</td>\n",
       "      <td>-1.757552</td>\n",
       "    </tr>\n",
       "    <tr>\n",
       "      <th>2</th>\n",
       "      <td>72</td>\n",
       "      <td>-2.429435</td>\n",
       "      <td>0.671883</td>\n",
       "      <td>-1.757552</td>\n",
       "    </tr>\n",
       "    <tr>\n",
       "      <th>3</th>\n",
       "      <td>73</td>\n",
       "      <td>-2.429435</td>\n",
       "      <td>0.671883</td>\n",
       "      <td>-1.757552</td>\n",
       "    </tr>\n",
       "    <tr>\n",
       "      <th>4</th>\n",
       "      <td>74</td>\n",
       "      <td>-1.429435</td>\n",
       "      <td>0.671883</td>\n",
       "      <td>-0.757552</td>\n",
       "    </tr>\n",
       "    <tr>\n",
       "      <th>5</th>\n",
       "      <td>75</td>\n",
       "      <td>-0.429435</td>\n",
       "      <td>0.671883</td>\n",
       "      <td>0.242448</td>\n",
       "    </tr>\n",
       "    <tr>\n",
       "      <th>6</th>\n",
       "      <td>76</td>\n",
       "      <td>0.570565</td>\n",
       "      <td>0.671883</td>\n",
       "      <td>1.242448</td>\n",
       "    </tr>\n",
       "    <tr>\n",
       "      <th>7</th>\n",
       "      <td>77</td>\n",
       "      <td>1.570565</td>\n",
       "      <td>0.171883</td>\n",
       "      <td>1.742448</td>\n",
       "    </tr>\n",
       "    <tr>\n",
       "      <th>8</th>\n",
       "      <td>78</td>\n",
       "      <td>2.570565</td>\n",
       "      <td>-0.828117</td>\n",
       "      <td>1.742448</td>\n",
       "    </tr>\n",
       "    <tr>\n",
       "      <th>9</th>\n",
       "      <td>79</td>\n",
       "      <td>3.570565</td>\n",
       "      <td>-1.828117</td>\n",
       "      <td>1.742448</td>\n",
       "    </tr>\n",
       "    <tr>\n",
       "      <th>10</th>\n",
       "      <td>80</td>\n",
       "      <td>4.570565</td>\n",
       "      <td>-2.828117</td>\n",
       "      <td>1.742448</td>\n",
       "    </tr>\n",
       "  </tbody>\n",
       "</table>\n",
       "</div>"
      ],
      "text/plain": [
       "    Spot     Call1     Call2    Result\n",
       "0     70 -2.429435  0.671883 -1.757552\n",
       "1     71 -2.429435  0.671883 -1.757552\n",
       "2     72 -2.429435  0.671883 -1.757552\n",
       "3     73 -2.429435  0.671883 -1.757552\n",
       "4     74 -1.429435  0.671883 -0.757552\n",
       "5     75 -0.429435  0.671883  0.242448\n",
       "6     76  0.570565  0.671883  1.242448\n",
       "7     77  1.570565  0.171883  1.742448\n",
       "8     78  2.570565 -0.828117  1.742448\n",
       "9     79  3.570565 -1.828117  1.742448\n",
       "10    80  4.570565 -2.828117  1.742448"
      ]
     },
     "execution_count": 107,
     "metadata": {},
     "output_type": "execute_result"
    }
   ],
   "source": [
    "bull_spread_result"
   ]
  },
  {
   "cell_type": "code",
   "execution_count": 108,
   "metadata": {},
   "outputs": [
    {
     "data": {
      "image/png": "[encoded data removed]",
      "text/plain": [
       "<Figure size 1000x600 with 1 Axes>"
      ]
     },
     "metadata": {},
     "output_type": "display_data"
    }
   ],
   "source": [
    "plt.figure(figsize=(10, 6))\n",
    "plt.plot(bull_spread_result.Spot, bull_spread_result.Result)\n",
    "ax = plt.gca()\n",
    "ax.spines[\"left\"].set_position(\"center\")\n",
    "ax.spines[\"right\"].set_color(\"none\")\n",
    "ax.spines[\"bottom\"].set_position(\"center\")\n",
    "ax.spines[\"top\"].set_color(\"none\")\n",
    "ax.xaxis.set_ticks_position(\"bottom\")\n",
    "ax.yaxis.set_ticks_position(\"left\")\n",
    "ax.yaxis.set_ticks_position(\"left\")\n",
    "_ = plt.title(\"Bull spread\", fontsize=18)"
   ]
  },
  {
   "cell_type": "markdown",
   "metadata": {},
   "source": [
    "###  Long straddle"
   ]
  },
  {
   "cell_type": "code",
   "execution_count": 109,
   "metadata": {},
   "outputs": [],
   "source": [
    "long_straddle_setup = pd.DataFrame(\n",
    "    zip(\n",
    "        [\"Call\", \"Put\"],\n",
    "        [75, 75],\n",
    "        [\n",
    "            CRR(\n",
    "                S_0, 75, r, T, N, sigma, is_call=True, div=div_y, is_european=False\n",
    "            ).get_price(),\n",
    "            CRR(\n",
    "                S_0, 75, r, T, N, sigma, is_call=False, div=div_y, is_european=False\n",
    "            ).get_price(),\n",
    "        ],\n",
    "        [\"Buy\", \"Buy\"],\n",
    "    ),\n",
    "    columns=[\"Type\", \"Strike\", \"Price\", \"Buy/Sell\"],\n",
    ")"
   ]
  },
  {
   "cell_type": "code",
   "execution_count": 110,
   "metadata": {},
   "outputs": [
    {
     "data": {
      "text/html": [
       "<div>\n",
       "<style scoped>\n",
       "    .dataframe tbody tr th:only-of-type {\n",
       "        vertical-align: middle;\n",
       "    }\n",
       "\n",
       "    .dataframe tbody tr th {\n",
       "        vertical-align: top;\n",
       "    }\n",
       "\n",
       "    .dataframe thead th {\n",
       "        text-align: right;\n",
       "    }\n",
       "</style>\n",
       "<table border=\"1\" class=\"dataframe\">\n",
       "  <thead>\n",
       "    <tr style=\"text-align: right;\">\n",
       "      <th></th>\n",
       "      <th>Type</th>\n",
       "      <th>Strike</th>\n",
       "      <th>Price</th>\n",
       "      <th>Buy/Sell</th>\n",
       "    </tr>\n",
       "  </thead>\n",
       "  <tbody>\n",
       "    <tr>\n",
       "      <th>0</th>\n",
       "      <td>Call</td>\n",
       "      <td>75</td>\n",
       "      <td>1.132735</td>\n",
       "      <td>Buy</td>\n",
       "    </tr>\n",
       "    <tr>\n",
       "      <th>1</th>\n",
       "      <td>Put</td>\n",
       "      <td>75</td>\n",
       "      <td>1.294554</td>\n",
       "      <td>Buy</td>\n",
       "    </tr>\n",
       "  </tbody>\n",
       "</table>\n",
       "</div>"
      ],
      "text/plain": [
       "   Type  Strike     Price Buy/Sell\n",
       "0  Call      75  1.132735      Buy\n",
       "1   Put      75  1.294554      Buy"
      ]
     },
     "execution_count": 110,
     "metadata": {},
     "output_type": "execute_result"
    }
   ],
   "source": [
    "long_straddle_setup"
   ]
  },
  {
   "cell_type": "code",
   "execution_count": 115,
   "metadata": {},
   "outputs": [],
   "source": [
    "long_straddle_result = pd.DataFrame(\n",
    "    zip(\n",
    "        range(70, 81),\n",
    "        np.maximum(range(70, 81) - long_straddle_setup.iloc[0, 1], 0)\n",
    "        - long_straddle_setup.iloc[0, 2],\n",
    "        np.maximum(long_straddle_setup.iloc[1, 1] - (range(70, 81)), 0)\n",
    "        - long_straddle_setup.iloc[1, 2],\n",
    "    ),\n",
    "    columns=[\"Spot\", \"Call\", \"Put\"],\n",
    ")"
   ]
  },
  {
   "cell_type": "code",
   "execution_count": 116,
   "metadata": {},
   "outputs": [],
   "source": [
    "long_straddle_result[\"Result\"] = (\n",
    "    long_straddle_result[\"Call\"] + long_straddle_result[\"Put\"]\n",
    ")"
   ]
  },
  {
   "cell_type": "code",
   "execution_count": 117,
   "metadata": {},
   "outputs": [
    {
     "data": {
      "text/html": [
       "<div>\n",
       "<style scoped>\n",
       "    .dataframe tbody tr th:only-of-type {\n",
       "        vertical-align: middle;\n",
       "    }\n",
       "\n",
       "    .dataframe tbody tr th {\n",
       "        vertical-align: top;\n",
       "    }\n",
       "\n",
       "    .dataframe thead th {\n",
       "        text-align: right;\n",
       "    }\n",
       "</style>\n",
       "<table border=\"1\" class=\"dataframe\">\n",
       "  <thead>\n",
       "    <tr style=\"text-align: right;\">\n",
       "      <th></th>\n",
       "      <th>Spot</th>\n",
       "      <th>Call</th>\n",
       "      <th>Put</th>\n",
       "      <th>Result</th>\n",
       "    </tr>\n",
       "  </thead>\n",
       "  <tbody>\n",
       "    <tr>\n",
       "      <th>0</th>\n",
       "      <td>70</td>\n",
       "      <td>-1.132735</td>\n",
       "      <td>3.705446</td>\n",
       "      <td>2.572712</td>\n",
       "    </tr>\n",
       "    <tr>\n",
       "      <th>1</th>\n",
       "      <td>71</td>\n",
       "      <td>-1.132735</td>\n",
       "      <td>2.705446</td>\n",
       "      <td>1.572712</td>\n",
       "    </tr>\n",
       "    <tr>\n",
       "      <th>2</th>\n",
       "      <td>72</td>\n",
       "      <td>-1.132735</td>\n",
       "      <td>1.705446</td>\n",
       "      <td>0.572712</td>\n",
       "    </tr>\n",
       "    <tr>\n",
       "      <th>3</th>\n",
       "      <td>73</td>\n",
       "      <td>-1.132735</td>\n",
       "      <td>0.705446</td>\n",
       "      <td>-0.427288</td>\n",
       "    </tr>\n",
       "    <tr>\n",
       "      <th>4</th>\n",
       "      <td>74</td>\n",
       "      <td>-1.132735</td>\n",
       "      <td>-0.294554</td>\n",
       "      <td>-1.427288</td>\n",
       "    </tr>\n",
       "    <tr>\n",
       "      <th>5</th>\n",
       "      <td>75</td>\n",
       "      <td>-1.132735</td>\n",
       "      <td>-1.294554</td>\n",
       "      <td>-2.427288</td>\n",
       "    </tr>\n",
       "    <tr>\n",
       "      <th>6</th>\n",
       "      <td>76</td>\n",
       "      <td>-0.132735</td>\n",
       "      <td>-1.294554</td>\n",
       "      <td>-1.427288</td>\n",
       "    </tr>\n",
       "    <tr>\n",
       "      <th>7</th>\n",
       "      <td>77</td>\n",
       "      <td>0.867265</td>\n",
       "      <td>-1.294554</td>\n",
       "      <td>-0.427288</td>\n",
       "    </tr>\n",
       "    <tr>\n",
       "      <th>8</th>\n",
       "      <td>78</td>\n",
       "      <td>1.867265</td>\n",
       "      <td>-1.294554</td>\n",
       "      <td>0.572712</td>\n",
       "    </tr>\n",
       "    <tr>\n",
       "      <th>9</th>\n",
       "      <td>79</td>\n",
       "      <td>2.867265</td>\n",
       "      <td>-1.294554</td>\n",
       "      <td>1.572712</td>\n",
       "    </tr>\n",
       "    <tr>\n",
       "      <th>10</th>\n",
       "      <td>80</td>\n",
       "      <td>3.867265</td>\n",
       "      <td>-1.294554</td>\n",
       "      <td>2.572712</td>\n",
       "    </tr>\n",
       "  </tbody>\n",
       "</table>\n",
       "</div>"
      ],
      "text/plain": [
       "    Spot      Call       Put    Result\n",
       "0     70 -1.132735  3.705446  2.572712\n",
       "1     71 -1.132735  2.705446  1.572712\n",
       "2     72 -1.132735  1.705446  0.572712\n",
       "3     73 -1.132735  0.705446 -0.427288\n",
       "4     74 -1.132735 -0.294554 -1.427288\n",
       "5     75 -1.132735 -1.294554 -2.427288\n",
       "6     76 -0.132735 -1.294554 -1.427288\n",
       "7     77  0.867265 -1.294554 -0.427288\n",
       "8     78  1.867265 -1.294554  0.572712\n",
       "9     79  2.867265 -1.294554  1.572712\n",
       "10    80  3.867265 -1.294554  2.572712"
      ]
     },
     "execution_count": 117,
     "metadata": {},
     "output_type": "execute_result"
    }
   ],
   "source": [
    "long_straddle_result"
   ]
  },
  {
   "cell_type": "code",
   "execution_count": 118,
   "metadata": {},
   "outputs": [
    {
     "data": {
      "image/png": "[encoded data removed]",
      "text/plain": [
       "<Figure size 1000x600 with 1 Axes>"
      ]
     },
     "metadata": {},
     "output_type": "display_data"
    }
   ],
   "source": [
    "fig = plt.figure(figsize=(10, 6))\n",
    "plt.plot(long_straddle_result.Spot, long_straddle_result.Result)\n",
    "ax = plt.gca()\n",
    "ax.spines[\"left\"].set_position(\"center\")\n",
    "ax.spines[\"right\"].set_color(\"none\")\n",
    "ax.spines[\"bottom\"].set_position(\"center\")\n",
    "ax.spines[\"top\"].set_color(\"none\")\n",
    "ax.xaxis.set_ticks_position(\"bottom\")\n",
    "ax.yaxis.set_ticks_position(\"left\")\n",
    "_ = plt.title(\"Long Straddle\", fontsize=18)"
   ]
  },
  {
   "cell_type": "markdown",
   "metadata": {},
   "source": [
    "## 6. Сравнение теоретических и рыночных цен"
   ]
  },
  {
   "cell_type": "markdown",
   "metadata": {},
   "source": [
    "В данном разделе задания рассчитаем теоретические цены опционов с помощью моделей CRR и BSM  и сравним их с рыночными ценами"
   ]
  },
  {
   "cell_type": "code",
   "execution_count": 119,
   "metadata": {},
   "outputs": [],
   "source": [
    "N = 1000  # количество шагов для модели CRR"
   ]
  },
  {
   "cell_type": "markdown",
   "metadata": {},
   "source": [
    "### Call"
   ]
  },
  {
   "cell_type": "code",
   "execution_count": 120,
   "metadata": {},
   "outputs": [],
   "source": [
    "cboe_XOM_call[\"American_div_Bin\"] = cboe_XOM_call.apply(\n",
    "    lambda row: np.round(\n",
    "        CRR(\n",
    "            S_0,\n",
    "            row[\"strike\"],\n",
    "            r,\n",
    "            T,\n",
    "            N,\n",
    "            row[\"implied_volatility_1545\"],\n",
    "            is_call=True,\n",
    "            div=div_y,\n",
    "            is_european=False,\n",
    "        ).get_price(),\n",
    "        4,\n",
    "    ),\n",
    "    axis=1,\n",
    ")"
   ]
  },
  {
   "cell_type": "code",
   "execution_count": 121,
   "metadata": {},
   "outputs": [],
   "source": [
    "cboe_XOM_call[\"European_div_Bin\"] = cboe_XOM_call.apply(\n",
    "    lambda row: np.round(\n",
    "        CRR(\n",
    "            S_0,\n",
    "            row[\"strike\"],\n",
    "            r,\n",
    "            T,\n",
    "            N,\n",
    "            row[\"implied_volatility_1545\"],\n",
    "            is_call=True,\n",
    "            div=div_y,\n",
    "            is_european=True,\n",
    "        ).get_price(),\n",
    "        4,\n",
    "    ),\n",
    "    axis=1,\n",
    ")"
   ]
  },
  {
   "cell_type": "code",
   "execution_count": 122,
   "metadata": {},
   "outputs": [],
   "source": [
    "cboe_XOM_call[\"BSM_div\"] = cboe_XOM_call.apply(\n",
    "    lambda row: np.round(\n",
    "        BSM(\n",
    "            S_0, row[\"strike\"], r, T, row[\"implied_volatility_1545\"], is_call=True\n",
    "        ).get_price(),\n",
    "        4,\n",
    "    ),\n",
    "    axis=1,\n",
    ")"
   ]
  },
  {
   "cell_type": "code",
   "execution_count": 123,
   "metadata": {},
   "outputs": [
    {
     "data": {
      "text/html": [
       "<div>\n",
       "<style scoped>\n",
       "    .dataframe tbody tr th:only-of-type {\n",
       "        vertical-align: middle;\n",
       "    }\n",
       "\n",
       "    .dataframe tbody tr th {\n",
       "        vertical-align: top;\n",
       "    }\n",
       "\n",
       "    .dataframe thead th {\n",
       "        text-align: right;\n",
       "    }\n",
       "</style>\n",
       "<table border=\"1\" class=\"dataframe\">\n",
       "  <thead>\n",
       "    <tr style=\"text-align: right;\">\n",
       "      <th></th>\n",
       "      <th>strike</th>\n",
       "      <th>high</th>\n",
       "      <th>low</th>\n",
       "      <th>close</th>\n",
       "      <th>delta_1545</th>\n",
       "      <th>gamma_1545</th>\n",
       "      <th>vega_1545</th>\n",
       "      <th>implied_volatility_1545</th>\n",
       "      <th>American_div_Bin</th>\n",
       "      <th>European_div_Bin</th>\n",
       "      <th>BSM_div</th>\n",
       "    </tr>\n",
       "  </thead>\n",
       "  <tbody>\n",
       "    <tr>\n",
       "      <th>2640</th>\n",
       "      <td>72.5</td>\n",
       "      <td>2.91</td>\n",
       "      <td>2.10</td>\n",
       "      <td>2.36</td>\n",
       "      <td>0.7241</td>\n",
       "      <td>0.1100</td>\n",
       "      <td>0.0426</td>\n",
       "      <td>0.2294</td>\n",
       "      <td>2.8825</td>\n",
       "      <td>2.8825</td>\n",
       "      <td>2.9229</td>\n",
       "    </tr>\n",
       "    <tr>\n",
       "      <th>2642</th>\n",
       "      <td>73.0</td>\n",
       "      <td>2.15</td>\n",
       "      <td>1.80</td>\n",
       "      <td>1.80</td>\n",
       "      <td>0.6797</td>\n",
       "      <td>0.1305</td>\n",
       "      <td>0.0458</td>\n",
       "      <td>0.2076</td>\n",
       "      <td>2.4091</td>\n",
       "      <td>2.4091</td>\n",
       "      <td>2.4486</td>\n",
       "    </tr>\n",
       "    <tr>\n",
       "      <th>2644</th>\n",
       "      <td>73.5</td>\n",
       "      <td>1.71</td>\n",
       "      <td>1.28</td>\n",
       "      <td>1.44</td>\n",
       "      <td>0.6165</td>\n",
       "      <td>0.1484</td>\n",
       "      <td>0.0490</td>\n",
       "      <td>0.1955</td>\n",
       "      <td>2.0002</td>\n",
       "      <td>2.0002</td>\n",
       "      <td>2.0373</td>\n",
       "    </tr>\n",
       "    <tr>\n",
       "      <th>2646</th>\n",
       "      <td>74.0</td>\n",
       "      <td>1.58</td>\n",
       "      <td>0.97</td>\n",
       "      <td>1.10</td>\n",
       "      <td>0.5410</td>\n",
       "      <td>0.1630</td>\n",
       "      <td>0.0511</td>\n",
       "      <td>0.1856</td>\n",
       "      <td>1.6253</td>\n",
       "      <td>1.6253</td>\n",
       "      <td>1.6592</td>\n",
       "    </tr>\n",
       "    <tr>\n",
       "      <th>2648</th>\n",
       "      <td>74.5</td>\n",
       "      <td>1.53</td>\n",
       "      <td>0.68</td>\n",
       "      <td>0.81</td>\n",
       "      <td>0.4557</td>\n",
       "      <td>0.1724</td>\n",
       "      <td>0.0512</td>\n",
       "      <td>0.1756</td>\n",
       "      <td>1.2765</td>\n",
       "      <td>1.2765</td>\n",
       "      <td>1.3073</td>\n",
       "    </tr>\n",
       "    <tr>\n",
       "      <th>2650</th>\n",
       "      <td>75.0</td>\n",
       "      <td>1.27</td>\n",
       "      <td>0.48</td>\n",
       "      <td>0.58</td>\n",
       "      <td>0.3664</td>\n",
       "      <td>0.1698</td>\n",
       "      <td>0.0487</td>\n",
       "      <td>0.1696</td>\n",
       "      <td>0.9859</td>\n",
       "      <td>0.9859</td>\n",
       "      <td>1.0129</td>\n",
       "    </tr>\n",
       "    <tr>\n",
       "      <th>2652</th>\n",
       "      <td>75.5</td>\n",
       "      <td>0.71</td>\n",
       "      <td>0.32</td>\n",
       "      <td>0.36</td>\n",
       "      <td>0.2807</td>\n",
       "      <td>0.1562</td>\n",
       "      <td>0.0436</td>\n",
       "      <td>0.1653</td>\n",
       "      <td>0.7436</td>\n",
       "      <td>0.7436</td>\n",
       "      <td>0.7664</td>\n",
       "    </tr>\n",
       "    <tr>\n",
       "      <th>2654</th>\n",
       "      <td>76.0</td>\n",
       "      <td>0.65</td>\n",
       "      <td>0.22</td>\n",
       "      <td>0.24</td>\n",
       "      <td>0.2054</td>\n",
       "      <td>0.1340</td>\n",
       "      <td>0.0369</td>\n",
       "      <td>0.1628</td>\n",
       "      <td>0.5506</td>\n",
       "      <td>0.5506</td>\n",
       "      <td>0.5692</td>\n",
       "    </tr>\n",
       "    <tr>\n",
       "      <th>2656</th>\n",
       "      <td>76.5</td>\n",
       "      <td>0.60</td>\n",
       "      <td>0.15</td>\n",
       "      <td>0.15</td>\n",
       "      <td>0.1453</td>\n",
       "      <td>0.1079</td>\n",
       "      <td>0.0296</td>\n",
       "      <td>0.1623</td>\n",
       "      <td>0.4046</td>\n",
       "      <td>0.4046</td>\n",
       "      <td>0.4194</td>\n",
       "    </tr>\n",
       "    <tr>\n",
       "      <th>2658</th>\n",
       "      <td>77.0</td>\n",
       "      <td>0.17</td>\n",
       "      <td>0.10</td>\n",
       "      <td>0.10</td>\n",
       "      <td>0.0992</td>\n",
       "      <td>0.0824</td>\n",
       "      <td>0.0226</td>\n",
       "      <td>0.1624</td>\n",
       "      <td>0.2925</td>\n",
       "      <td>0.2925</td>\n",
       "      <td>0.3041</td>\n",
       "    </tr>\n",
       "  </tbody>\n",
       "</table>\n",
       "</div>"
      ],
      "text/plain": [
       "      strike  high   low  close  delta_1545  gamma_1545  vega_1545  \\\n",
       "2640    72.5  2.91  2.10   2.36      0.7241      0.1100     0.0426   \n",
       "2642    73.0  2.15  1.80   1.80      0.6797      0.1305     0.0458   \n",
       "2644    73.5  1.71  1.28   1.44      0.6165      0.1484     0.0490   \n",
       "2646    74.0  1.58  0.97   1.10      0.5410      0.1630     0.0511   \n",
       "2648    74.5  1.53  0.68   0.81      0.4557      0.1724     0.0512   \n",
       "2650    75.0  1.27  0.48   0.58      0.3664      0.1698     0.0487   \n",
       "2652    75.5  0.71  0.32   0.36      0.2807      0.1562     0.0436   \n",
       "2654    76.0  0.65  0.22   0.24      0.2054      0.1340     0.0369   \n",
       "2656    76.5  0.60  0.15   0.15      0.1453      0.1079     0.0296   \n",
       "2658    77.0  0.17  0.10   0.10      0.0992      0.0824     0.0226   \n",
       "\n",
       "      implied_volatility_1545  American_div_Bin  European_div_Bin  BSM_div  \n",
       "2640                   0.2294            2.8825            2.8825   2.9229  \n",
       "2642                   0.2076            2.4091            2.4091   2.4486  \n",
       "2644                   0.1955            2.0002            2.0002   2.0373  \n",
       "2646                   0.1856            1.6253            1.6253   1.6592  \n",
       "2648                   0.1756            1.2765            1.2765   1.3073  \n",
       "2650                   0.1696            0.9859            0.9859   1.0129  \n",
       "2652                   0.1653            0.7436            0.7436   0.7664  \n",
       "2654                   0.1628            0.5506            0.5506   0.5692  \n",
       "2656                   0.1623            0.4046            0.4046   0.4194  \n",
       "2658                   0.1624            0.2925            0.2925   0.3041  "
      ]
     },
     "execution_count": 123,
     "metadata": {},
     "output_type": "execute_result"
    }
   ],
   "source": [
    "cboe_XOM_call"
   ]
  },
  {
   "cell_type": "markdown",
   "metadata": {},
   "source": [
    "### Put"
   ]
  },
  {
   "cell_type": "code",
   "execution_count": 124,
   "metadata": {},
   "outputs": [],
   "source": [
    "cboe_XOM_put[\"American_div_Bin\"] = cboe_XOM_put.apply(\n",
    "    lambda row: np.round(\n",
    "        CRR(\n",
    "            S_0,\n",
    "            row[\"strike\"],\n",
    "            r,\n",
    "            T,\n",
    "            N,\n",
    "            row[\"implied_volatility_1545\"],\n",
    "            is_call=False,\n",
    "            div=div_y,\n",
    "            is_european=False,\n",
    "        ).get_price(),\n",
    "        4,\n",
    "    ),\n",
    "    axis=1,\n",
    ")"
   ]
  },
  {
   "cell_type": "code",
   "execution_count": 125,
   "metadata": {},
   "outputs": [],
   "source": [
    "cboe_XOM_put[\"European_div_Bin\"] = cboe_XOM_put.apply(\n",
    "    lambda row: np.round(\n",
    "        CRR(\n",
    "            S_0,\n",
    "            row[\"strike\"],\n",
    "            r,\n",
    "            T,\n",
    "            N,\n",
    "            row[\"implied_volatility_1545\"],\n",
    "            is_call=False,\n",
    "            div=div_y,\n",
    "            is_european=True,\n",
    "        ).get_price(),\n",
    "        4,\n",
    "    ),\n",
    "    axis=1,\n",
    ")"
   ]
  },
  {
   "cell_type": "code",
   "execution_count": 126,
   "metadata": {},
   "outputs": [],
   "source": [
    "cboe_XOM_put[\"BSM_div\"] = cboe_XOM_put.apply(\n",
    "    lambda row: np.round(\n",
    "        BSM(\n",
    "            S_0, row[\"strike\"], r, T, row[\"implied_volatility_1545\"], is_call=False\n",
    "        ).get_price(),\n",
    "        4,\n",
    "    ),\n",
    "    axis=1,\n",
    ")"
   ]
  },
  {
   "cell_type": "code",
   "execution_count": 127,
   "metadata": {},
   "outputs": [
    {
     "data": {
      "text/html": [
       "<div>\n",
       "<style scoped>\n",
       "    .dataframe tbody tr th:only-of-type {\n",
       "        vertical-align: middle;\n",
       "    }\n",
       "\n",
       "    .dataframe tbody tr th {\n",
       "        vertical-align: top;\n",
       "    }\n",
       "\n",
       "    .dataframe thead th {\n",
       "        text-align: right;\n",
       "    }\n",
       "</style>\n",
       "<table border=\"1\" class=\"dataframe\">\n",
       "  <thead>\n",
       "    <tr style=\"text-align: right;\">\n",
       "      <th></th>\n",
       "      <th>strike</th>\n",
       "      <th>high</th>\n",
       "      <th>low</th>\n",
       "      <th>close</th>\n",
       "      <th>delta_1545</th>\n",
       "      <th>gamma_1545</th>\n",
       "      <th>vega_1545</th>\n",
       "      <th>implied_volatility_1545</th>\n",
       "      <th>American_div_Bin</th>\n",
       "      <th>European_div_Bin</th>\n",
       "      <th>BSM_div</th>\n",
       "    </tr>\n",
       "  </thead>\n",
       "  <tbody>\n",
       "    <tr>\n",
       "      <th>2641</th>\n",
       "      <td>72.5</td>\n",
       "      <td>0.56</td>\n",
       "      <td>0.27</td>\n",
       "      <td>0.40</td>\n",
       "      <td>-0.2478</td>\n",
       "      <td>0.1171</td>\n",
       "      <td>0.0410</td>\n",
       "      <td>0.2069</td>\n",
       "      <td>0.4323</td>\n",
       "      <td>0.4320</td>\n",
       "      <td>0.4189</td>\n",
       "    </tr>\n",
       "    <tr>\n",
       "      <th>2643</th>\n",
       "      <td>73.0</td>\n",
       "      <td>0.66</td>\n",
       "      <td>0.53</td>\n",
       "      <td>0.53</td>\n",
       "      <td>-0.3088</td>\n",
       "      <td>0.1327</td>\n",
       "      <td>0.0456</td>\n",
       "      <td>0.2033</td>\n",
       "      <td>0.5453</td>\n",
       "      <td>0.5449</td>\n",
       "      <td>0.5293</td>\n",
       "    </tr>\n",
       "    <tr>\n",
       "      <th>2645</th>\n",
       "      <td>73.5</td>\n",
       "      <td>0.91</td>\n",
       "      <td>0.72</td>\n",
       "      <td>0.72</td>\n",
       "      <td>-0.3785</td>\n",
       "      <td>0.1445</td>\n",
       "      <td>0.0492</td>\n",
       "      <td>0.2013</td>\n",
       "      <td>0.6917</td>\n",
       "      <td>0.6912</td>\n",
       "      <td>0.6722</td>\n",
       "    </tr>\n",
       "    <tr>\n",
       "      <th>2647</th>\n",
       "      <td>74.0</td>\n",
       "      <td>1.15</td>\n",
       "      <td>0.88</td>\n",
       "      <td>0.90</td>\n",
       "      <td>-0.4532</td>\n",
       "      <td>0.1512</td>\n",
       "      <td>0.0511</td>\n",
       "      <td>0.2001</td>\n",
       "      <td>0.8703</td>\n",
       "      <td>0.8697</td>\n",
       "      <td>0.8474</td>\n",
       "    </tr>\n",
       "    <tr>\n",
       "      <th>2649</th>\n",
       "      <td>74.5</td>\n",
       "      <td>1.39</td>\n",
       "      <td>1.16</td>\n",
       "      <td>1.19</td>\n",
       "      <td>-0.5295</td>\n",
       "      <td>0.1508</td>\n",
       "      <td>0.0513</td>\n",
       "      <td>0.2012</td>\n",
       "      <td>1.0942</td>\n",
       "      <td>1.0933</td>\n",
       "      <td>1.0670</td>\n",
       "    </tr>\n",
       "    <tr>\n",
       "      <th>2651</th>\n",
       "      <td>75.0</td>\n",
       "      <td>1.75</td>\n",
       "      <td>1.36</td>\n",
       "      <td>1.45</td>\n",
       "      <td>-0.6029</td>\n",
       "      <td>0.1446</td>\n",
       "      <td>0.0496</td>\n",
       "      <td>0.2027</td>\n",
       "      <td>1.3518</td>\n",
       "      <td>1.3506</td>\n",
       "      <td>1.3210</td>\n",
       "    </tr>\n",
       "    <tr>\n",
       "      <th>2653</th>\n",
       "      <td>75.5</td>\n",
       "      <td>2.11</td>\n",
       "      <td>1.49</td>\n",
       "      <td>1.90</td>\n",
       "      <td>-0.6685</td>\n",
       "      <td>0.1325</td>\n",
       "      <td>0.0465</td>\n",
       "      <td>0.2075</td>\n",
       "      <td>1.6614</td>\n",
       "      <td>1.6600</td>\n",
       "      <td>1.6264</td>\n",
       "    </tr>\n",
       "    <tr>\n",
       "      <th>2655</th>\n",
       "      <td>76.0</td>\n",
       "      <td>2.40</td>\n",
       "      <td>2.18</td>\n",
       "      <td>2.29</td>\n",
       "      <td>-0.7258</td>\n",
       "      <td>0.1184</td>\n",
       "      <td>0.0425</td>\n",
       "      <td>0.2124</td>\n",
       "      <td>1.9995</td>\n",
       "      <td>1.9977</td>\n",
       "      <td>1.9606</td>\n",
       "    </tr>\n",
       "    <tr>\n",
       "      <th>2657</th>\n",
       "      <td>76.5</td>\n",
       "      <td>0.00</td>\n",
       "      <td>0.00</td>\n",
       "      <td>0.00</td>\n",
       "      <td>-0.7664</td>\n",
       "      <td>0.1021</td>\n",
       "      <td>0.0389</td>\n",
       "      <td>0.2254</td>\n",
       "      <td>2.4081</td>\n",
       "      <td>2.4060</td>\n",
       "      <td>2.3662</td>\n",
       "    </tr>\n",
       "    <tr>\n",
       "      <th>2659</th>\n",
       "      <td>77.0</td>\n",
       "      <td>3.30</td>\n",
       "      <td>2.80</td>\n",
       "      <td>3.30</td>\n",
       "      <td>-0.7958</td>\n",
       "      <td>0.0878</td>\n",
       "      <td>0.0359</td>\n",
       "      <td>0.2416</td>\n",
       "      <td>2.8500</td>\n",
       "      <td>2.8476</td>\n",
       "      <td>2.8061</td>\n",
       "    </tr>\n",
       "  </tbody>\n",
       "</table>\n",
       "</div>"
      ],
      "text/plain": [
       "      strike  high   low  close  delta_1545  gamma_1545  vega_1545  \\\n",
       "2641    72.5  0.56  0.27   0.40     -0.2478      0.1171     0.0410   \n",
       "2643    73.0  0.66  0.53   0.53     -0.3088      0.1327     0.0456   \n",
       "2645    73.5  0.91  0.72   0.72     -0.3785      0.1445     0.0492   \n",
       "2647    74.0  1.15  0.88   0.90     -0.4532      0.1512     0.0511   \n",
       "2649    74.5  1.39  1.16   1.19     -0.5295      0.1508     0.0513   \n",
       "2651    75.0  1.75  1.36   1.45     -0.6029      0.1446     0.0496   \n",
       "2653    75.5  2.11  1.49   1.90     -0.6685      0.1325     0.0465   \n",
       "2655    76.0  2.40  2.18   2.29     -0.7258      0.1184     0.0425   \n",
       "2657    76.5  0.00  0.00   0.00     -0.7664      0.1021     0.0389   \n",
       "2659    77.0  3.30  2.80   3.30     -0.7958      0.0878     0.0359   \n",
       "\n",
       "      implied_volatility_1545  American_div_Bin  European_div_Bin  BSM_div  \n",
       "2641                   0.2069            0.4323            0.4320   0.4189  \n",
       "2643                   0.2033            0.5453            0.5449   0.5293  \n",
       "2645                   0.2013            0.6917            0.6912   0.6722  \n",
       "2647                   0.2001            0.8703            0.8697   0.8474  \n",
       "2649                   0.2012            1.0942            1.0933   1.0670  \n",
       "2651                   0.2027            1.3518            1.3506   1.3210  \n",
       "2653                   0.2075            1.6614            1.6600   1.6264  \n",
       "2655                   0.2124            1.9995            1.9977   1.9606  \n",
       "2657                   0.2254            2.4081            2.4060   2.3662  \n",
       "2659                   0.2416            2.8500            2.8476   2.8061  "
      ]
     },
     "execution_count": 127,
     "metadata": {},
     "output_type": "execute_result"
    }
   ],
   "source": [
    "cboe_XOM_put"
   ]
  },
  {
   "cell_type": "markdown",
   "metadata": {},
   "source": [
    "## 7. Показатель чувствительности $\\Delta$"
   ]
  },
  {
   "cell_type": "markdown",
   "metadata": {},
   "source": [
    "Delta - hedging. Расчет показателя $\\Delta$ приведен в лекционных материалах."
   ]
  },
  {
   "cell_type": "markdown",
   "metadata": {},
   "source": [
    "$C=\\Delta S-B$\n",
    "$P=\\Delta S+B$"
   ]
  },
  {
   "cell_type": "markdown",
   "metadata": {},
   "source": [
    "На каждом шаге мы ребалансируем портфель с учетом равенства:\n",
    "$dP=\\Delta dS$ (для опциона колл расчет аналогичный)\n",
    "Ребалансировка учитывает проценты по денежной позиции"
   ]
  },
  {
   "cell_type": "markdown",
   "metadata": {},
   "source": [
    "В данном задании будем моделировать динамику актива с помощью геометрического броуновского движения"
   ]
  },
  {
   "cell_type": "markdown",
   "metadata": {},
   "source": [
    "$S_{i+1}=S_iexp((r-0.5\\sigma^2)\\Delta_t+\\sigma\\sqrt{\\Delta_t}Z_t)$"
   ]
  },
  {
   "cell_type": "code",
   "execution_count": 128,
   "metadata": {},
   "outputs": [],
   "source": [
    "def GBM(n_step, S_0, r, sigma, dt):\n",
    "    S = np.zeros(n_step)\n",
    "    S[0] = S_0\n",
    "    rand = np.random.standard_normal(n_step)\n",
    "    for i in range(1, n_step):\n",
    "        S[i] = S[i - 1] * np.exp(\n",
    "            (r - 0.5 * sigma**2) * dt + sigma * np.sqrt(dt) * rand[i]\n",
    "        )\n",
    "    return S"
   ]
  },
  {
   "cell_type": "markdown",
   "metadata": {},
   "source": [
    "### Реализуем пошаговый процесс репликации опциона (создания портфеля, воспроизводящего стоимость опциона)"
   ]
  },
  {
   "cell_type": "code",
   "execution_count": 129,
   "metadata": {},
   "outputs": [],
   "source": [
    "r = 0.0024\n",
    "T = 20 / 250\n",
    "sigma = 0.2  # годовое значение\n",
    "n_step = int(T * 250)\n",
    "dt = 1 / 250"
   ]
  },
  {
   "cell_type": "code",
   "execution_count": 130,
   "metadata": {},
   "outputs": [],
   "source": [
    "S = np.zeros(n_step)  # массив цен акци\n",
    "Delta = np.zeros(n_step)  # массив дельт\n",
    "Option_theor = np.zeros(n_step)  # массив теоретических цен\n",
    "S_Delta = np.zeros(n_step)  # произведение цен и дельт\n",
    "Bond = np.zeros(n_step)  # денежная позиция\n",
    "Replicate = np.zeros(n_step)  # репликация"
   ]
  },
  {
   "cell_type": "markdown",
   "metadata": {},
   "source": [
    "### Расчет первоначальных значений параметров"
   ]
  },
  {
   "cell_type": "code",
   "execution_count": 131,
   "metadata": {},
   "outputs": [],
   "source": [
    "S[0] = S_0"
   ]
  },
  {
   "cell_type": "code",
   "execution_count": 132,
   "metadata": {},
   "outputs": [],
   "source": [
    "option = BSM(S_0, K, r, T, sigma, t=0, is_call=False)"
   ]
  },
  {
   "cell_type": "code",
   "execution_count": 133,
   "metadata": {},
   "outputs": [
    {
     "name": "stdout",
     "output_type": "stream",
     "text": [
      "2.667335460068408\n"
     ]
    }
   ],
   "source": [
    "Option_theor[0] = option.get_price()\n",
    "Replicate[0] = Option_theor[0]\n",
    "print(Option_theor[0])"
   ]
  },
  {
   "cell_type": "code",
   "execution_count": 134,
   "metadata": {},
   "outputs": [
    {
     "name": "stdout",
     "output_type": "stream",
     "text": [
      "-0.6408992135521214\n"
     ]
    }
   ],
   "source": [
    "Delta[0] = option.get_delta()\n",
    "S_Delta[0] = S[0] * Delta[0]\n",
    "print(Delta[0])"
   ]
  },
  {
   "cell_type": "code",
   "execution_count": 135,
   "metadata": {},
   "outputs": [
    {
     "name": "stdout",
     "output_type": "stream",
     "text": [
      "50.619414422451214\n"
     ]
    }
   ],
   "source": [
    "Bond[0] = Option_theor[0] - S_Delta[0]\n",
    "print(Bond[0])"
   ]
  },
  {
   "cell_type": "code",
   "execution_count": 136,
   "metadata": {},
   "outputs": [],
   "source": [
    "S = GBM(n_step, S_0, r, sigma, dt)  # моделирование динамики"
   ]
  },
  {
   "cell_type": "code",
   "execution_count": 138,
   "metadata": {},
   "outputs": [
    {
     "data": {
      "image/png": "[encoded data removed]",
      "text/plain": [
       "<Figure size 1000x600 with 1 Axes>"
      ]
     },
     "metadata": {},
     "output_type": "display_data"
    }
   ],
   "source": [
    "plt.figure(figsize=(10, 6))\n",
    "_ = plt.plot(S)\n",
    "_ = plt.title(\"Моделирование динамики акций XOM\", fontsize=18)"
   ]
  },
  {
   "cell_type": "markdown",
   "metadata": {},
   "source": [
    "### Пошаговая репликация"
   ]
  },
  {
   "cell_type": "code",
   "execution_count": 139,
   "metadata": {},
   "outputs": [],
   "source": [
    "for i in range(1, n_step):\n",
    "    option = BSM(S[i], K, r, T, sigma, is_call=False, t=i / 250)\n",
    "    Option_theor[i] = option.get_price()\n",
    "    Delta[i] = option.get_delta()\n",
    "    S_Delta[i] = S[i] * Delta[i]\n",
    "    Replicate[i] = (\n",
    "        Replicate[i - 1]\n",
    "        + (S[i] - S[i - 1]) * Delta[i - 1]\n",
    "        + Bond[i - 1] * (np.exp(r / 250) - 1)\n",
    "    )\n",
    "    Bond[i] = Option_theor[i] - S_Delta[i]"
   ]
  },
  {
   "cell_type": "code",
   "execution_count": 140,
   "metadata": {},
   "outputs": [
    {
     "data": {
      "text/html": [
       "<div>\n",
       "<style scoped>\n",
       "    .dataframe tbody tr th:only-of-type {\n",
       "        vertical-align: middle;\n",
       "    }\n",
       "\n",
       "    .dataframe tbody tr th {\n",
       "        vertical-align: top;\n",
       "    }\n",
       "\n",
       "    .dataframe thead th {\n",
       "        text-align: right;\n",
       "    }\n",
       "</style>\n",
       "<table border=\"1\" class=\"dataframe\">\n",
       "  <thead>\n",
       "    <tr style=\"text-align: right;\">\n",
       "      <th></th>\n",
       "      <th>S</th>\n",
       "      <th>Theor_price</th>\n",
       "      <th>Replicate</th>\n",
       "      <th>Delta</th>\n",
       "      <th>Delta*Price</th>\n",
       "      <th>Bond</th>\n",
       "    </tr>\n",
       "  </thead>\n",
       "  <tbody>\n",
       "    <tr>\n",
       "      <th>0</th>\n",
       "      <td>74.820000</td>\n",
       "      <td>2.667335</td>\n",
       "      <td>2.667335</td>\n",
       "      <td>-0.640899</td>\n",
       "      <td>-47.952079</td>\n",
       "      <td>50.619414</td>\n",
       "    </tr>\n",
       "    <tr>\n",
       "      <th>1</th>\n",
       "      <td>74.844263</td>\n",
       "      <td>2.612220</td>\n",
       "      <td>2.652271</td>\n",
       "      <td>-0.642811</td>\n",
       "      <td>-48.110706</td>\n",
       "      <td>50.722926</td>\n",
       "    </tr>\n",
       "    <tr>\n",
       "      <th>2</th>\n",
       "      <td>76.054338</td>\n",
       "      <td>1.858042</td>\n",
       "      <td>1.874909</td>\n",
       "      <td>-0.531412</td>\n",
       "      <td>-40.416175</td>\n",
       "      <td>42.274217</td>\n",
       "    </tr>\n",
       "    <tr>\n",
       "      <th>3</th>\n",
       "      <td>77.624648</td>\n",
       "      <td>1.098239</td>\n",
       "      <td>1.040833</td>\n",
       "      <td>-0.378646</td>\n",
       "      <td>-29.392279</td>\n",
       "      <td>30.490518</td>\n",
       "    </tr>\n",
       "    <tr>\n",
       "      <th>4</th>\n",
       "      <td>75.882805</td>\n",
       "      <td>1.859292</td>\n",
       "      <td>1.700668</td>\n",
       "      <td>-0.552416</td>\n",
       "      <td>-41.918904</td>\n",
       "      <td>43.778196</td>\n",
       "    </tr>\n",
       "  </tbody>\n",
       "</table>\n",
       "</div>"
      ],
      "text/plain": [
       "           S  Theor_price  Replicate     Delta  Delta*Price       Bond\n",
       "0  74.820000     2.667335   2.667335 -0.640899   -47.952079  50.619414\n",
       "1  74.844263     2.612220   2.652271 -0.642811   -48.110706  50.722926\n",
       "2  76.054338     1.858042   1.874909 -0.531412   -40.416175  42.274217\n",
       "3  77.624648     1.098239   1.040833 -0.378646   -29.392279  30.490518\n",
       "4  75.882805     1.859292   1.700668 -0.552416   -41.918904  43.778196"
      ]
     },
     "execution_count": 140,
     "metadata": {},
     "output_type": "execute_result"
    }
   ],
   "source": [
    "pd.DataFrame(\n",
    "    zip(S, Option_theor, Replicate, Delta, S_Delta, Bond),\n",
    "    columns=[\"S\", \"Theor_price\", \"Replicate\", \"Delta\", \"Delta*Price\", \"Bond\"],\n",
    ").head()"
   ]
  },
  {
   "cell_type": "markdown",
   "metadata": {},
   "source": [
    "## 8. Показатель чувствительности Vega"
   ]
  },
  {
   "cell_type": "markdown",
   "metadata": {},
   "source": [
    "Расчет показателя vega приведен в лекционных материалах"
   ]
  },
  {
   "cell_type": "code",
   "execution_count": 141,
   "metadata": {},
   "outputs": [
    {
     "data": {
      "text/plain": [
       "array([72.5, 73. , 73.5, 74. , 74.5, 75. , 75.5, 76. , 76.5, 77. ])"
      ]
     },
     "execution_count": 141,
     "metadata": {},
     "output_type": "execute_result"
    }
   ],
   "source": [
    "strikes_range"
   ]
  },
  {
   "cell_type": "code",
   "execution_count": 142,
   "metadata": {},
   "outputs": [],
   "source": [
    "prices_market = np.array(cboe_XOM_call.close)"
   ]
  },
  {
   "cell_type": "code",
   "execution_count": 143,
   "metadata": {},
   "outputs": [
    {
     "data": {
      "text/plain": [
       "array([2.36, 1.8 , 1.44, 1.1 , 0.81, 0.58, 0.36, 0.24, 0.15, 0.1 ])"
      ]
     },
     "execution_count": 143,
     "metadata": {},
     "output_type": "execute_result"
    }
   ],
   "source": [
    "prices_market"
   ]
  },
  {
   "cell_type": "markdown",
   "metadata": {},
   "source": [
    "Нахождение оптимального значения IV методом Ньютона-Рафсона"
   ]
  },
  {
   "cell_type": "markdown",
   "metadata": {},
   "source": [
    "$\\sigma_{i+1}=\\sigma_{i}-\\frac{c(\\sigma_{i})-c_m}{Vega}$"
   ]
  },
  {
   "cell_type": "markdown",
   "metadata": {},
   "source": [
    "Для корректной реализации алгоритма необходимо, чтобы рыночная стоимость была не меньше внутренней стоимости"
   ]
  },
  {
   "cell_type": "code",
   "execution_count": 144,
   "metadata": {},
   "outputs": [],
   "source": [
    "# Newton-Raphson\n",
    "T = days / 250\n",
    "sigma_list = []\n",
    "tol = 0.001\n",
    "for strike, price in zip(strikes_range, prices_market):\n",
    "    if (strike + price) > S_0:\n",
    "        sigma = 0.3\n",
    "        diff = 1000\n",
    "        while diff > tol:\n",
    "            option = BSM(S_0, strike, r, T, sigma, div=div_y)\n",
    "            Price_theor = option.get_price()\n",
    "            Vega = option.get_vega() * 100\n",
    "            #      print(Price_theor)\n",
    "            sigma_prev = sigma\n",
    "            sigma = sigma_prev - (Price_theor - price) / Vega\n",
    "            diff = abs(price - Price_theor)\n",
    "        sigma_list.append((strike, sigma))"
   ]
  },
  {
   "cell_type": "markdown",
   "metadata": {},
   "source": [
    "### Массив значений IV для каждого страйка"
   ]
  },
  {
   "cell_type": "code",
   "execution_count": 145,
   "metadata": {},
   "outputs": [
    {
     "data": {
      "text/plain": [
       "[(72.5, 0.11659323715754646),\n",
       " (73.5, 0.09719123276052852),\n",
       " (74.0, 0.10315878270686203),\n",
       " (74.5, 0.10658085468102577),\n",
       " (75.0, 0.10985030466193309),\n",
       " (75.5, 0.10521414162790386),\n",
       " (76.0, 0.10881591660902135),\n",
       " (76.5, 0.11051648962903318),\n",
       " (77.0, 0.1153224265243674)]"
      ]
     },
     "execution_count": 145,
     "metadata": {},
     "output_type": "execute_result"
    }
   ],
   "source": [
    "sigma_list"
   ]
  },
  {
   "cell_type": "code",
   "execution_count": 146,
   "metadata": {},
   "outputs": [
    {
     "data": {
      "image/png": "[encoded data removed]",
      "text/plain": [
       "<Figure size 1000x600 with 1 Axes>"
      ]
     },
     "metadata": {},
     "output_type": "display_data"
    }
   ],
   "source": [
    "plt.figure(figsize=(10, 6))\n",
    "_ = plt.plot(cboe_XOM_call.strike, cboe_XOM_call.implied_volatility_1545)\n",
    "_ = plt.xlabel(\"Strike\", fontsize=18)\n",
    "_ = plt.ylabel(\"IV\", fontsize=18)\n",
    "_ = plt.title(\"Implied Volatility\", fontsize=18)"
   ]
  },
  {
   "cell_type": "markdown",
   "metadata": {},
   "source": [
    "# Выводы:"
   ]
  },
  {
   "cell_type": "markdown",
   "metadata": {},
   "source": [
    "1. Для анализа рынка опционов была выбрана компания *Exxon Mobil Corporation (**XOM**)*. Для этой компании была выбрана одна дата экспирации и сформирована цепочка страйков.\n",
    "2. Были рассчитаны теоретические стоимости опционов с помощью моделей CRR и BSM. \n",
    "3. Рассчитаны параметры для опционных стратегий *Bull spread* и *Long straddle*, по результатам построены графики.\n",
    "4. Проведено моделирование динамики акций *Exxon Mobil*.\n",
    "5. Рассчитан показатель чувствительности $\\Delta$, при помощи которого проведена процедура дельта-хеджирования.\n",
    "6. Найден показатель *Implied Volatility* для каждого графика и построен график зависимости показателя IV от страйка.\n"
   ]
  }
 ],
 "metadata": {
  "kernelspec": {
   "display_name": "Python 3 (ipykernel)",
   "language": "python",
   "name": "python3"
  },
  "language_info": {
   "codemirror_mode": {
    "name": "ipython",
    "version": 3
   },
   "file_extension": ".py",
   "mimetype": "text/x-python",
   "name": "python",
   "nbconvert_exporter": "python",
   "pygments_lexer": "ipython3",
   "version": "3.10.8"
  },
  "vscode": {
   "interpreter": {
    "hash": "58047d06385e4029f2d8729d84d2d4d0057492a2f895b6498307dc24e9eb6975"
   }
  }
 },
 "nbformat": 4,
 "nbformat_minor": 4
}
