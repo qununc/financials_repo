{
 "cells": [
  {
   "cell_type": "markdown",
   "metadata": {},
   "source": [
    "# Методы ценообразования опционов.Часть 3.\n",
    "> выполнил Литвинов А. А., гр. МФИН211"
   ]
  },
  {
   "cell_type": "markdown",
   "metadata": {},
   "source": [
    "* <font size='5'>Black-Scholes</font>\n",
    "* <font size='5'>Finite-difference methods (методы конечных разностей)</font>"
   ]
  },
  {
   "cell_type": "markdown",
   "metadata": {},
   "source": [
    "## 1.Загрузка библиотек"
   ]
  },
  {
   "cell_type": "code",
   "execution_count": 1,
   "metadata": {},
   "outputs": [],
   "source": [
    "import numpy as np\n",
    "import pandas as pd\n",
    "import matplotlib.pyplot as plt\n",
    "import math\n",
    "import scipy.linalg \n",
    "from scipy import stats\n",
    "from scipy.sparse import diags\n",
    "from scipy.linalg import lu"
   ]
  },
  {
   "cell_type": "markdown",
   "metadata": {},
   "source": [
    "## 2.Классы, необходимые для реализации моделей ценообразования опционов"
   ]
  },
  {
   "cell_type": "markdown",
   "metadata": {},
   "source": [
    "### Black-Scholes "
   ]
  },
  {
   "cell_type": "code",
   "execution_count": 2,
   "metadata": {},
   "outputs": [],
   "source": [
    "class BSM:\n",
    "        def __init__(self,S_0,K,r,T,sigma,div=0,t=0,is_call=True):\n",
    "            self._S_0=S_0\n",
    "            self._K=K\n",
    "            self._r=r\n",
    "            self._div=div\n",
    "            self._T=T\n",
    "            self._sigma=sigma\n",
    "            self._t=t\n",
    "            self._is_call=is_call  \n",
    "       \n",
    "        def __d_values__(self):\n",
    "            self._d1=(np.log(self._S_0/self._K)+(self._r-self._div+0.5*self._sigma**2)*(self._T-self._t))/(self._sigma*np.sqrt(self._T-self._t))\n",
    "            self._d2=self._d1-self._sigma*np.sqrt(self._T-self._t)\n",
    "            \n",
    "        def __N_d__(self,d_value):\n",
    "            return stats.norm.cdf(d_value)\n",
    "        \n",
    "        def __price__(self):\n",
    "            return (np.exp(-self._div*\\\n",
    "            (self._T-self._t))*self._S_0*self.__N_d__(self._d1)-np.exp(-self._r*\\\n",
    "            (self._T-self._t))*self._K*self.__N_d__(self._d2)) if self._is_call \\\n",
    "            else (np.exp(-self._r*(self._T-self._t))*self._K*self.__N_d__(-self._d2)- np.exp(-self._div*\\\n",
    "            (self._T-self._t))*self._S_0*self.__N_d__(-self._d1))\n",
    "            \n",
    "        def get_price(self):\n",
    "            self.__d_values__()\n",
    "            price=self.__price__()\n",
    "            return price\n",
    "        \n",
    "        def get_delta(self):\n",
    "            self.__d_values__()\n",
    "            return self.__N_d__(self._d1) if self._is_call else  self.__N_d__(self._d1)-1\n",
    "        \n",
    "        def get_vega(self):\n",
    "            self.__d_values__()\n",
    "            return (self._S_0*stats.norm.pdf(self._d1)*np.sqrt(self._T-self._t)*np.exp(-self._div*\\\n",
    "            (self._T-self._t)))/100"
   ]
  },
  {
   "cell_type": "markdown",
   "metadata": {},
   "source": [
    "### Finite difference methods"
   ]
  },
  {
   "cell_type": "code",
   "execution_count": 3,
   "metadata": {},
   "outputs": [],
   "source": [
    "class FDM_n:\n",
    "    def __init__(self,S_0,S_max,K,r,T,sigma,nas,nts,theta,q=0,t=0,is_call=True,is_european=True):\n",
    "        self._S_0=S_0\n",
    "        self._S_max=S_max\n",
    "        self._K=K\n",
    "        self._r=r\n",
    "        self._q=q\n",
    "        self._T=(T-t)/250\n",
    "        self._sigma=sigma\n",
    "        self._t=t\n",
    "        self._nas=nas\n",
    "        self._nts=nts\n",
    "        self._theta=theta\n",
    "        self._is_call=is_call\n",
    "        self._is_european=is_european\n",
    "    \n",
    "    def __get_index__(self):\n",
    "        return math.floor(self._S_0/self._S_max*self._nas)\n",
    "        \n",
    "    def __get_S_array__(self):\n",
    "        index_1=self.__get_index__()\n",
    "        index_2=self._nas-index_1\n",
    "        ds=self._S_0/index_1\n",
    "       # print(index_1,index_2,ds)\n",
    "        S_array=np.empty(self._nas)\n",
    "        S_array[0]=0\n",
    "        S_array[index_1]=self._S_0\n",
    "        S_array[1:(index_1)]=np.arange(1,index_1)*ds\n",
    "        S_array[(index_1+1):self._nas]=self._S_0+np.arange(1,index_2)*ds\n",
    "       # print(S_array)\n",
    "        return S_array       \n",
    "           \n",
    "    def __get_params__(self):\n",
    "       # print(self._q)\n",
    "        start=1\n",
    "        end=self._nas-1\n",
    "        array=np.arange(start,end)*(self._r-self._q)\n",
    "        delta_t=self._T/self._nts\n",
    "        array_sq=np.square(np.arange(start,end))*self._sigma**2\n",
    "        A=(1-self._theta)*(delta_t/2)*(-array+array_sq)\n",
    "        B=1-(1-self._theta)*delta_t*(self._r+array_sq)\n",
    "        C=(1-self._theta)*(delta_t/2)*(array+array_sq)\n",
    "        a=self._theta*(delta_t/2)*(array-array_sq)\n",
    "        b=1+self._theta*delta_t*(self._r+array_sq)\n",
    "        c=-self._theta*(delta_t/2)*(array+array_sq) \n",
    "        return (self.__get_matrix__(a,b,c), self.__get_matrix__(A,B,C),A[0],c[end-2])\n",
    "    \n",
    "    def __opt_value__(self,S,value=0):\n",
    "       # print((S - self._K)-value>0)\n",
    "        if self._is_call:        \n",
    "            return np.maximum(S - self._K,value)\n",
    "        else:\n",
    "            return np.maximum(self._K-S,value)\n",
    "    \n",
    "    def __get_matrix__(self,a,b,c):\n",
    "            diag_matrix=diags(diagonals=[b,a[1:],c[:-1]],offsets=[0,-1,1]).toarray()\n",
    "            return diag_matrix\n",
    "\n",
    "    def __get_rhs__(self, B, opt_val_array,a_1,c_end,val_min,val_max):\n",
    "        rhs=B.dot(opt_val_array)\n",
    "        #print(c_end,val_max)\n",
    "        rhs[0]+=-a_1*val_min\n",
    "        rhs[-1]+=-c_end*val_max\n",
    "       # print(rhs[-1])\n",
    "        return rhs\n",
    "    \n",
    "    def __LU_decomposition__(self, matrix_A):\n",
    "        _, l, u = lu(matrix_A)\n",
    "        return (l,u)\n",
    "    \n",
    "    def __iterations__(self):\n",
    "        A,B,a_1,c_end=self.__get_params__()\n",
    "        c_end/=self._theta\n",
    "        a_1/=self._theta\n",
    "        S_array=self.__get_S_array__()\n",
    "        opt_val_array=self.__opt_value__(S_array)\n",
    "        val_min=opt_val_array[0]\n",
    "        val_max=opt_val_array[-1]\n",
    "        start=1\n",
    "        end=self._nas-1\n",
    "        RHS=self.__get_rhs__(B,opt_val_array[start:end],a_1,c_end,val_min,val_max)\n",
    "        #print(RHS)\n",
    "        vals=np.empty([self._nas,self._nts+1])\n",
    "        vals[:,0]=S_array\n",
    "        vals[:,1]=opt_val_array\n",
    "        L,U=self.__LU_decomposition__(A)\n",
    "        for j in range(2,self._nts+1):   \n",
    "            y=np.linalg.solve(L,RHS)\n",
    "            opt_val_array[start:end]=np.linalg.solve(U,y)\n",
    "            if self._is_european==False:\n",
    "               # print('A')\n",
    "                opt_val_array=self.__opt_value__(S_array,opt_val_array)            \n",
    "            RHS=self.__get_rhs__(B,opt_val_array[start:end],a_1,c_end,val_min,val_max) \n",
    "           # print(RHS)\n",
    "            vals[:,j]=opt_val_array   \n",
    "        return np.round(vals,4)  \n",
    "    \n",
    "    def get_price(self):\n",
    "        vals=self.__iterations__()\n",
    "        df=pd.DataFrame(vals)\n",
    "        columns=['S']\n",
    "        columns.extend(list(range(self._nts-1,-1,-1)))\n",
    "        df.columns=columns\n",
    "        return df"
   ]
  },
  {
   "cell_type": "markdown",
   "metadata": {},
   "source": [
    "### Finite difference Greeks"
   ]
  },
  {
   "cell_type": "code",
   "execution_count": 4,
   "metadata": {},
   "outputs": [],
   "source": [
    "class Greeks_FD:\n",
    "        def __init__(self,S_0,grid,dt,t=0):\n",
    "            self._S_0=S_0\n",
    "            self._grid=grid\n",
    "            self._t=t\n",
    "            self._dt=dt\n",
    "        \n",
    "        def __get_index__(self):\n",
    "            index=self._grid.index[self._grid.S==self._S_0].tolist()[0]\n",
    "            return index\n",
    "        \n",
    "        def __get_ds__(self):\n",
    "            return self._grid.loc[1,'S']-self._grid.loc[0,'S']\n",
    "        \n",
    "        def __delta__(self):\n",
    "            index=self.__get_index__()\n",
    "            n=self._grid.shape[0]\n",
    "            ds=self.__get_ds__()\n",
    "            #print('ds',ds)\n",
    "            if  ((index-2<0)&(index+2>n)):\n",
    "                print('Index is near the boundaries')\n",
    "            else:\n",
    "                delta=(-self._grid.loc[index+2,self._t]+8*self._grid.loc[index+1,self._t]-8*self._grid.loc[index-1,self._t]+\\\n",
    "                      self._grid.loc[index-2,self._t])/(12*ds)\n",
    "                return delta\n",
    "            \n",
    "        def __gamma__(self):\n",
    "            index=self.__get_index__()\n",
    "            n=self._grid.shape[0]# количество шагов актива\n",
    "            if  ((index-2<0)&(index+2>n)):\n",
    "                print('Index is near the boundaries')\n",
    "            else:\n",
    "                ds=self.__get_ds__()\n",
    "                gamma=(-self._grid.iloc[index+2,self._t]+16*self._grid.iloc[index+1,self._t]-30*self._grid.iloc[index,self._t]+\n",
    "                      16*self._grid.iloc[index-1,self._t]-self._grid.iloc[index-2,self._t])/(12*ds**2)\n",
    "                return gamma\n",
    "                \n",
    "        def __theta__(self):\n",
    "            index=self.__get_index__()\n",
    "            n=self._grid.shape[1] # количество шагов времени\n",
    "            if  (self._t+3>n):\n",
    "                print('Index is near the boundaries')\n",
    "            else:\n",
    "                theta=(-self._grid.loc[index,self._t]+8*self._grid.loc[index,self._t+1]-8*self._grid.loc[index,self._t+2]+\n",
    "                       self._grid.loc[index,self._t+3])/(12*self._dt)\n",
    "                return theta    \n",
    "        \n",
    "        def  get_delta(self):  \n",
    "            return self.__delta__()\n",
    "        \n",
    "        def get_gamma(self):\n",
    "            return self.__gamma__()\n",
    "        \n",
    "        def get_theta(self):\n",
    "            return self.__theta__()"
   ]
  },
  {
   "cell_type": "markdown",
   "metadata": {},
   "source": [
    "### Функция, формирующая dataframe c ценами опционов"
   ]
  },
  {
   "cell_type": "code",
   "execution_count": 40,
   "metadata": {},
   "outputs": [],
   "source": [
    "def to_df(S_0,K,r,days,sigma,nas,nts,div,is_european):\n",
    "    Imp={}\n",
    "    #print('d',div)\n",
    "    for theta in (.5,1):\n",
    "        call={}\n",
    "        put={}\n",
    "        k=0\n",
    "        for ns in nas:\n",
    "            for nt in nts: \n",
    "                grid_call=FDM_n(S_0,2*K,K,r,days,sigma,ns,nt,theta,q=div,is_call=True,is_european=is_european).get_price()\n",
    "                call[k]=(grid_call.loc[grid_call.S==S_0,0].tolist(),(ns,nt))\n",
    "                grid_put=(FDM_n(S_0,2*K,K,r,days,sigma,ns,nt,theta,q=div,is_call=False,is_european=is_european).get_price())\n",
    "                put[k]=(grid_put.loc[grid_call.S==S_0,0].tolist(),(ns,nt))\n",
    "                k+=1\n",
    "        Imp[theta]={'call':call,'put':put}\n",
    "    option_FD=pd.DataFrame([Imp[0.5]['call'],Imp[0.5]['put'],Imp[1]['call'],Imp[1]['put']]).transpose()\n",
    "    option_FD.columns=['CN_call','CN_put','FI_call','FI_put']\n",
    "    option_FD['NAS']=option_FD['CN_call'].apply(lambda x:x[1][0])\n",
    "    option_FD['NTS']=option_FD['CN_call'].apply(lambda x:x[1][1])\n",
    "    # df[df.columns[i]]\n",
    "    option_FD[option_FD.columns[0:4]]=option_FD.iloc[:,0:4].applymap(lambda x:x[0][0])\n",
    "    cols = option_FD.columns.tolist()\n",
    "    cols=cols[-2:]+cols[:-2]\n",
    "    return option_FD[cols]"
   ]
  },
  {
   "cell_type": "code",
   "execution_count": 6,
   "metadata": {},
   "outputs": [],
   "source": [
    "def get_Greeks(grid,S_0,dt):\n",
    "    return {'delta':Greeks_FD(S_0,grid,dt).get_delta(), \n",
    "            'gamma':Greeks_FD(S_0,grid,dt).get_gamma(),'theta':Greeks_FD(S_0,grid,dt).get_theta()}"
   ]
  },
  {
   "cell_type": "markdown",
   "metadata": {},
   "source": [
    "## 3.Реализация методов"
   ]
  },
  {
   "cell_type": "code",
   "execution_count": 31,
   "metadata": {},
   "outputs": [],
   "source": [
    "K=76.5\n",
    "S_0=74.82\n",
    "r=0.014\n",
    "sigma=0.16 # годовое значение\n",
    "days=250\n",
    "div=0.01"
   ]
  },
  {
   "cell_type": "markdown",
   "metadata": {},
   "source": [
    "### 3.1. Black-Scholes"
   ]
  },
  {
   "cell_type": "code",
   "execution_count": 32,
   "metadata": {},
   "outputs": [
    {
     "data": {
      "text/plain": [
       "4.1169372535922015"
      ]
     },
     "execution_count": 32,
     "metadata": {},
     "output_type": "execute_result"
    }
   ],
   "source": [
    "option_call=BSM(S_0,K,r,days/250,sigma,div=div,is_call=True).get_price()\n",
    "option_call"
   ]
  },
  {
   "cell_type": "code",
   "execution_count": 33,
   "metadata": {},
   "outputs": [
    {
     "data": {
      "text/plain": [
       "0.5114542730303778"
      ]
     },
     "execution_count": 33,
     "metadata": {},
     "output_type": "execute_result"
    }
   ],
   "source": [
    "BSM(S_0,K,r,days/250,sigma,is_call=True).get_delta()"
   ]
  },
  {
   "cell_type": "code",
   "execution_count": 34,
   "metadata": {},
   "outputs": [
    {
     "data": {
      "text/plain": [
       "5.4778708285883795"
      ]
     },
     "execution_count": 34,
     "metadata": {},
     "output_type": "execute_result"
    }
   ],
   "source": [
    "option_put=BSM(S_0,K,r,days/250,sigma,div=div,is_call=False).get_price()\n",
    "option_put"
   ]
  },
  {
   "cell_type": "code",
   "execution_count": 35,
   "metadata": {},
   "outputs": [
    {
     "data": {
      "text/plain": [
       "-0.4885457269696222"
      ]
     },
     "execution_count": 35,
     "metadata": {},
     "output_type": "execute_result"
    }
   ],
   "source": [
    "BSM(S_0,K,r,days/250,sigma,is_call=False).get_delta()"
   ]
  },
  {
   "cell_type": "markdown",
   "metadata": {},
   "source": [
    "### Проверка паритет пут-колл для европейского опциона (BS)"
   ]
  },
  {
   "cell_type": "code",
   "execution_count": 36,
   "metadata": {},
   "outputs": [
    {
     "data": {
      "text/plain": [
       "79.55339938970113"
      ]
     },
     "execution_count": 36,
     "metadata": {},
     "output_type": "execute_result"
    }
   ],
   "source": [
    "K*np.exp(-r*(days/250-0))+option_call"
   ]
  },
  {
   "cell_type": "code",
   "execution_count": 37,
   "metadata": {},
   "outputs": [
    {
     "data": {
      "text/plain": [
       "79.55339938970113"
      ]
     },
     "execution_count": 37,
     "metadata": {},
     "output_type": "execute_result"
    }
   ],
   "source": [
    "np.exp(-div*(days/250-0))*S_0+option_put"
   ]
  },
  {
   "cell_type": "markdown",
   "metadata": {},
   "source": [
    "### 3.2. Finite difference methods"
   ]
  },
  {
   "cell_type": "markdown",
   "metadata": {},
   "source": [
    "### Для моделирования используется так называемый $\\theta$-метод. Данный метод (алгоритм) обобщает различные спецификации модели. Класс, рассматриваемый в примере, реализован для $\\theta>0$  и основан на решении системы линейных уравнений. Алгоритм явного метода (explicit), $\\theta=0$, реализуется с помощью простого цикла."
   ]
  },
  {
   "cell_type": "markdown",
   "metadata": {},
   "source": [
    "* $\\theta=0$ - Explicit\n",
    "* $\\theta=1$ - Fully Implicit\n",
    "* $\\theta=0.5$ - Crank-Nikolson"
   ]
  },
  {
   "cell_type": "markdown",
   "metadata": {},
   "source": [
    "### Модель FD строится для массива шагов цен актива и времени"
   ]
  },
  {
   "cell_type": "code",
   "execution_count": 38,
   "metadata": {},
   "outputs": [],
   "source": [
    "nas_tuple=(20,50,100)\n",
    "nts_tuple=(20,50,100)"
   ]
  },
  {
   "cell_type": "markdown",
   "metadata": {},
   "source": [
    "### Европейский опцион"
   ]
  },
  {
   "cell_type": "code",
   "execution_count": 41,
   "metadata": {},
   "outputs": [
    {
     "data": {
      "text/html": [
       "<div>\n",
       "<style scoped>\n",
       "    .dataframe tbody tr th:only-of-type {\n",
       "        vertical-align: middle;\n",
       "    }\n",
       "\n",
       "    .dataframe tbody tr th {\n",
       "        vertical-align: top;\n",
       "    }\n",
       "\n",
       "    .dataframe thead th {\n",
       "        text-align: right;\n",
       "    }\n",
       "</style>\n",
       "<table border=\"1\" class=\"dataframe\">\n",
       "  <thead>\n",
       "    <tr style=\"text-align: right;\">\n",
       "      <th></th>\n",
       "      <th>NAS</th>\n",
       "      <th>NTS</th>\n",
       "      <th>CN_call</th>\n",
       "      <th>CN_put</th>\n",
       "      <th>FI_call</th>\n",
       "      <th>FI_put</th>\n",
       "    </tr>\n",
       "  </thead>\n",
       "  <tbody>\n",
       "    <tr>\n",
       "      <th>0</th>\n",
       "      <td>20</td>\n",
       "      <td>20</td>\n",
       "      <td>3.8612</td>\n",
       "      <td>5.2379</td>\n",
       "      <td>3.8257</td>\n",
       "      <td>5.2026</td>\n",
       "    </tr>\n",
       "    <tr>\n",
       "      <th>1</th>\n",
       "      <td>20</td>\n",
       "      <td>50</td>\n",
       "      <td>3.9386</td>\n",
       "      <td>5.3058</td>\n",
       "      <td>3.9246</td>\n",
       "      <td>5.2919</td>\n",
       "    </tr>\n",
       "    <tr>\n",
       "      <th>2</th>\n",
       "      <td>20</td>\n",
       "      <td>100</td>\n",
       "      <td>3.9641</td>\n",
       "      <td>5.3282</td>\n",
       "      <td>3.9572</td>\n",
       "      <td>5.3213</td>\n",
       "    </tr>\n",
       "    <tr>\n",
       "      <th>3</th>\n",
       "      <td>50</td>\n",
       "      <td>20</td>\n",
       "      <td>3.9928</td>\n",
       "      <td>5.3695</td>\n",
       "      <td>3.9615</td>\n",
       "      <td>5.3384</td>\n",
       "    </tr>\n",
       "    <tr>\n",
       "      <th>4</th>\n",
       "      <td>50</td>\n",
       "      <td>50</td>\n",
       "      <td>4.0673</td>\n",
       "      <td>5.4345</td>\n",
       "      <td>4.0550</td>\n",
       "      <td>5.4223</td>\n",
       "    </tr>\n",
       "    <tr>\n",
       "      <th>5</th>\n",
       "      <td>50</td>\n",
       "      <td>100</td>\n",
       "      <td>4.0919</td>\n",
       "      <td>5.4560</td>\n",
       "      <td>4.0858</td>\n",
       "      <td>5.4499</td>\n",
       "    </tr>\n",
       "    <tr>\n",
       "      <th>6</th>\n",
       "      <td>100</td>\n",
       "      <td>20</td>\n",
       "      <td>3.9862</td>\n",
       "      <td>5.3629</td>\n",
       "      <td>3.9547</td>\n",
       "      <td>5.3316</td>\n",
       "    </tr>\n",
       "    <tr>\n",
       "      <th>7</th>\n",
       "      <td>100</td>\n",
       "      <td>50</td>\n",
       "      <td>4.0607</td>\n",
       "      <td>5.4280</td>\n",
       "      <td>4.0484</td>\n",
       "      <td>5.4157</td>\n",
       "    </tr>\n",
       "    <tr>\n",
       "      <th>8</th>\n",
       "      <td>100</td>\n",
       "      <td>100</td>\n",
       "      <td>4.0854</td>\n",
       "      <td>5.4495</td>\n",
       "      <td>4.0793</td>\n",
       "      <td>5.4434</td>\n",
       "    </tr>\n",
       "  </tbody>\n",
       "</table>\n",
       "</div>"
      ],
      "text/plain": [
       "   NAS  NTS  CN_call  CN_put  FI_call  FI_put\n",
       "0   20   20   3.8612  5.2379   3.8257  5.2026\n",
       "1   20   50   3.9386  5.3058   3.9246  5.2919\n",
       "2   20  100   3.9641  5.3282   3.9572  5.3213\n",
       "3   50   20   3.9928  5.3695   3.9615  5.3384\n",
       "4   50   50   4.0673  5.4345   4.0550  5.4223\n",
       "5   50  100   4.0919  5.4560   4.0858  5.4499\n",
       "6  100   20   3.9862  5.3629   3.9547  5.3316\n",
       "7  100   50   4.0607  5.4280   4.0484  5.4157\n",
       "8  100  100   4.0854  5.4495   4.0793  5.4434"
      ]
     },
     "execution_count": 41,
     "metadata": {},
     "output_type": "execute_result"
    }
   ],
   "source": [
    "to_df(S_0,K,r,days,sigma,nas_tuple,nts_tuple,div=div,is_european=True)"
   ]
  },
  {
   "cell_type": "markdown",
   "metadata": {},
   "source": [
    "### Американский опцион"
   ]
  },
  {
   "cell_type": "code",
   "execution_count": 42,
   "metadata": {},
   "outputs": [
    {
     "data": {
      "text/html": [
       "<div>\n",
       "<style scoped>\n",
       "    .dataframe tbody tr th:only-of-type {\n",
       "        vertical-align: middle;\n",
       "    }\n",
       "\n",
       "    .dataframe tbody tr th {\n",
       "        vertical-align: top;\n",
       "    }\n",
       "\n",
       "    .dataframe thead th {\n",
       "        text-align: right;\n",
       "    }\n",
       "</style>\n",
       "<table border=\"1\" class=\"dataframe\">\n",
       "  <thead>\n",
       "    <tr style=\"text-align: right;\">\n",
       "      <th></th>\n",
       "      <th>NAS</th>\n",
       "      <th>NTS</th>\n",
       "      <th>CN_call</th>\n",
       "      <th>CN_put</th>\n",
       "      <th>FI_call</th>\n",
       "      <th>FI_put</th>\n",
       "    </tr>\n",
       "  </thead>\n",
       "  <tbody>\n",
       "    <tr>\n",
       "      <th>0</th>\n",
       "      <td>20</td>\n",
       "      <td>20</td>\n",
       "      <td>3.8613</td>\n",
       "      <td>5.2612</td>\n",
       "      <td>3.8258</td>\n",
       "      <td>5.2236</td>\n",
       "    </tr>\n",
       "    <tr>\n",
       "      <th>1</th>\n",
       "      <td>20</td>\n",
       "      <td>50</td>\n",
       "      <td>3.9387</td>\n",
       "      <td>5.3312</td>\n",
       "      <td>3.9248</td>\n",
       "      <td>5.3162</td>\n",
       "    </tr>\n",
       "    <tr>\n",
       "      <th>2</th>\n",
       "      <td>20</td>\n",
       "      <td>100</td>\n",
       "      <td>3.9643</td>\n",
       "      <td>5.3543</td>\n",
       "      <td>3.9574</td>\n",
       "      <td>5.3468</td>\n",
       "    </tr>\n",
       "    <tr>\n",
       "      <th>3</th>\n",
       "      <td>50</td>\n",
       "      <td>20</td>\n",
       "      <td>3.9929</td>\n",
       "      <td>5.3991</td>\n",
       "      <td>3.9616</td>\n",
       "      <td>5.3636</td>\n",
       "    </tr>\n",
       "    <tr>\n",
       "      <th>4</th>\n",
       "      <td>50</td>\n",
       "      <td>50</td>\n",
       "      <td>4.0674</td>\n",
       "      <td>5.4666</td>\n",
       "      <td>4.0551</td>\n",
       "      <td>5.4523</td>\n",
       "    </tr>\n",
       "    <tr>\n",
       "      <th>5</th>\n",
       "      <td>50</td>\n",
       "      <td>100</td>\n",
       "      <td>4.0920</td>\n",
       "      <td>5.4889</td>\n",
       "      <td>4.0859</td>\n",
       "      <td>5.4817</td>\n",
       "    </tr>\n",
       "    <tr>\n",
       "      <th>6</th>\n",
       "      <td>100</td>\n",
       "      <td>20</td>\n",
       "      <td>3.9862</td>\n",
       "      <td>5.3954</td>\n",
       "      <td>3.9548</td>\n",
       "      <td>5.3588</td>\n",
       "    </tr>\n",
       "    <tr>\n",
       "      <th>7</th>\n",
       "      <td>100</td>\n",
       "      <td>50</td>\n",
       "      <td>4.0608</td>\n",
       "      <td>5.4634</td>\n",
       "      <td>4.0485</td>\n",
       "      <td>5.4483</td>\n",
       "    </tr>\n",
       "    <tr>\n",
       "      <th>8</th>\n",
       "      <td>100</td>\n",
       "      <td>100</td>\n",
       "      <td>4.0855</td>\n",
       "      <td>5.4859</td>\n",
       "      <td>4.0794</td>\n",
       "      <td>5.4782</td>\n",
       "    </tr>\n",
       "  </tbody>\n",
       "</table>\n",
       "</div>"
      ],
      "text/plain": [
       "   NAS  NTS  CN_call  CN_put  FI_call  FI_put\n",
       "0   20   20   3.8613  5.2612   3.8258  5.2236\n",
       "1   20   50   3.9387  5.3312   3.9248  5.3162\n",
       "2   20  100   3.9643  5.3543   3.9574  5.3468\n",
       "3   50   20   3.9929  5.3991   3.9616  5.3636\n",
       "4   50   50   4.0674  5.4666   4.0551  5.4523\n",
       "5   50  100   4.0920  5.4889   4.0859  5.4817\n",
       "6  100   20   3.9862  5.3954   3.9548  5.3588\n",
       "7  100   50   4.0608  5.4634   4.0485  5.4483\n",
       "8  100  100   4.0855  5.4859   4.0794  5.4782"
      ]
     },
     "execution_count": 42,
     "metadata": {},
     "output_type": "execute_result"
    }
   ],
   "source": [
    "to_df(S_0,K,r,days,sigma,nas_tuple,nts_tuple,div=div,is_european=False)"
   ]
  },
  {
   "cell_type": "markdown",
   "metadata": {},
   "source": [
    "### Представление сетки (grid) в виде dataframe"
   ]
  },
  {
   "cell_type": "code",
   "execution_count": 43,
   "metadata": {},
   "outputs": [],
   "source": [
    "nas=50\n",
    "nts=50\n",
    "theta=1"
   ]
  },
  {
   "cell_type": "code",
   "execution_count": 44,
   "metadata": {},
   "outputs": [],
   "source": [
    "grid_call=FDM_n(S_0,2*K,K,r,days,sigma,nas,nts,theta,q=div,is_call=True).get_price()"
   ]
  },
  {
   "cell_type": "code",
   "execution_count": 45,
   "metadata": {},
   "outputs": [
    {
     "data": {
      "text/html": [
       "<div>\n",
       "<style scoped>\n",
       "    .dataframe tbody tr th:only-of-type {\n",
       "        vertical-align: middle;\n",
       "    }\n",
       "\n",
       "    .dataframe tbody tr th {\n",
       "        vertical-align: top;\n",
       "    }\n",
       "\n",
       "    .dataframe thead th {\n",
       "        text-align: right;\n",
       "    }\n",
       "</style>\n",
       "<table border=\"1\" class=\"dataframe\">\n",
       "  <thead>\n",
       "    <tr style=\"text-align: right;\">\n",
       "      <th></th>\n",
       "      <th>S</th>\n",
       "      <th>49</th>\n",
       "      <th>48</th>\n",
       "      <th>47</th>\n",
       "      <th>46</th>\n",
       "      <th>4</th>\n",
       "      <th>3</th>\n",
       "      <th>2</th>\n",
       "      <th>1</th>\n",
       "      <th>0</th>\n",
       "    </tr>\n",
       "  </thead>\n",
       "  <tbody>\n",
       "    <tr>\n",
       "      <th>0</th>\n",
       "      <td>0.0000</td>\n",
       "      <td>0.0000</td>\n",
       "      <td>0.0000</td>\n",
       "      <td>0.0000</td>\n",
       "      <td>0.0000</td>\n",
       "      <td>0.0000</td>\n",
       "      <td>0.0000</td>\n",
       "      <td>0.0000</td>\n",
       "      <td>0.0000</td>\n",
       "      <td>0.0000</td>\n",
       "    </tr>\n",
       "    <tr>\n",
       "      <th>1</th>\n",
       "      <td>3.1175</td>\n",
       "      <td>0.0000</td>\n",
       "      <td>0.0000</td>\n",
       "      <td>0.0000</td>\n",
       "      <td>0.0000</td>\n",
       "      <td>0.0000</td>\n",
       "      <td>0.0000</td>\n",
       "      <td>0.0000</td>\n",
       "      <td>0.0000</td>\n",
       "      <td>0.0000</td>\n",
       "    </tr>\n",
       "    <tr>\n",
       "      <th>2</th>\n",
       "      <td>6.2350</td>\n",
       "      <td>0.0000</td>\n",
       "      <td>0.0000</td>\n",
       "      <td>0.0000</td>\n",
       "      <td>0.0000</td>\n",
       "      <td>0.0000</td>\n",
       "      <td>0.0000</td>\n",
       "      <td>0.0000</td>\n",
       "      <td>0.0000</td>\n",
       "      <td>0.0000</td>\n",
       "    </tr>\n",
       "    <tr>\n",
       "      <th>3</th>\n",
       "      <td>9.3525</td>\n",
       "      <td>0.0000</td>\n",
       "      <td>0.0000</td>\n",
       "      <td>0.0000</td>\n",
       "      <td>0.0000</td>\n",
       "      <td>0.0000</td>\n",
       "      <td>0.0000</td>\n",
       "      <td>0.0000</td>\n",
       "      <td>0.0000</td>\n",
       "      <td>0.0000</td>\n",
       "    </tr>\n",
       "    <tr>\n",
       "      <th>4</th>\n",
       "      <td>12.4700</td>\n",
       "      <td>0.0000</td>\n",
       "      <td>0.0000</td>\n",
       "      <td>0.0000</td>\n",
       "      <td>0.0000</td>\n",
       "      <td>0.0000</td>\n",
       "      <td>0.0000</td>\n",
       "      <td>0.0000</td>\n",
       "      <td>0.0000</td>\n",
       "      <td>0.0000</td>\n",
       "    </tr>\n",
       "    <tr>\n",
       "      <th>45</th>\n",
       "      <td>140.2875</td>\n",
       "      <td>63.7875</td>\n",
       "      <td>63.7809</td>\n",
       "      <td>63.7745</td>\n",
       "      <td>63.7682</td>\n",
       "      <td>63.6381</td>\n",
       "      <td>63.6365</td>\n",
       "      <td>63.6351</td>\n",
       "      <td>63.6336</td>\n",
       "      <td>63.6322</td>\n",
       "    </tr>\n",
       "    <tr>\n",
       "      <th>46</th>\n",
       "      <td>143.4050</td>\n",
       "      <td>66.9050</td>\n",
       "      <td>66.8980</td>\n",
       "      <td>66.8913</td>\n",
       "      <td>66.8850</td>\n",
       "      <td>66.7754</td>\n",
       "      <td>66.7742</td>\n",
       "      <td>66.7730</td>\n",
       "      <td>66.7718</td>\n",
       "      <td>66.7707</td>\n",
       "    </tr>\n",
       "    <tr>\n",
       "      <th>47</th>\n",
       "      <td>146.5225</td>\n",
       "      <td>70.0225</td>\n",
       "      <td>70.0154</td>\n",
       "      <td>70.0091</td>\n",
       "      <td>70.0036</td>\n",
       "      <td>69.9236</td>\n",
       "      <td>69.9227</td>\n",
       "      <td>69.9219</td>\n",
       "      <td>69.9211</td>\n",
       "      <td>69.9203</td>\n",
       "    </tr>\n",
       "    <tr>\n",
       "      <th>48</th>\n",
       "      <td>149.6400</td>\n",
       "      <td>73.1400</td>\n",
       "      <td>73.1342</td>\n",
       "      <td>73.1298</td>\n",
       "      <td>73.1263</td>\n",
       "      <td>73.0839</td>\n",
       "      <td>73.0834</td>\n",
       "      <td>73.0830</td>\n",
       "      <td>73.0826</td>\n",
       "      <td>73.0822</td>\n",
       "    </tr>\n",
       "    <tr>\n",
       "      <th>49</th>\n",
       "      <td>152.7575</td>\n",
       "      <td>76.2575</td>\n",
       "      <td>76.2575</td>\n",
       "      <td>76.2575</td>\n",
       "      <td>76.2575</td>\n",
       "      <td>76.2575</td>\n",
       "      <td>76.2575</td>\n",
       "      <td>76.2575</td>\n",
       "      <td>76.2575</td>\n",
       "      <td>76.2575</td>\n",
       "    </tr>\n",
       "  </tbody>\n",
       "</table>\n",
       "</div>"
      ],
      "text/plain": [
       "           S       49       48       47       46        4        3        2  \\\n",
       "0     0.0000   0.0000   0.0000   0.0000   0.0000   0.0000   0.0000   0.0000   \n",
       "1     3.1175   0.0000   0.0000   0.0000   0.0000   0.0000   0.0000   0.0000   \n",
       "2     6.2350   0.0000   0.0000   0.0000   0.0000   0.0000   0.0000   0.0000   \n",
       "3     9.3525   0.0000   0.0000   0.0000   0.0000   0.0000   0.0000   0.0000   \n",
       "4    12.4700   0.0000   0.0000   0.0000   0.0000   0.0000   0.0000   0.0000   \n",
       "45  140.2875  63.7875  63.7809  63.7745  63.7682  63.6381  63.6365  63.6351   \n",
       "46  143.4050  66.9050  66.8980  66.8913  66.8850  66.7754  66.7742  66.7730   \n",
       "47  146.5225  70.0225  70.0154  70.0091  70.0036  69.9236  69.9227  69.9219   \n",
       "48  149.6400  73.1400  73.1342  73.1298  73.1263  73.0839  73.0834  73.0830   \n",
       "49  152.7575  76.2575  76.2575  76.2575  76.2575  76.2575  76.2575  76.2575   \n",
       "\n",
       "          1        0  \n",
       "0    0.0000   0.0000  \n",
       "1    0.0000   0.0000  \n",
       "2    0.0000   0.0000  \n",
       "3    0.0000   0.0000  \n",
       "4    0.0000   0.0000  \n",
       "45  63.6336  63.6322  \n",
       "46  66.7718  66.7707  \n",
       "47  69.9211  69.9203  \n",
       "48  73.0826  73.0822  \n",
       "49  76.2575  76.2575  "
      ]
     },
     "execution_count": 45,
     "metadata": {},
     "output_type": "execute_result"
    }
   ],
   "source": [
    "grid_call.iloc[[*range(5), *range(-5, 0)],[*range(5), *range(-5, 0)]]"
   ]
  },
  {
   "cell_type": "markdown",
   "metadata": {},
   "source": [
    "### Пример расчета цен опциона для цены актива, соответствующей текущей цене"
   ]
  },
  {
   "cell_type": "code",
   "execution_count": 46,
   "metadata": {},
   "outputs": [
    {
     "data": {
      "text/plain": [
       "4.055"
      ]
     },
     "execution_count": 46,
     "metadata": {},
     "output_type": "execute_result"
    }
   ],
   "source": [
    "call=grid_call.loc[grid_call.S==S_0,0].tolist()\n",
    "call=call[0]\n",
    "call"
   ]
  },
  {
   "cell_type": "code",
   "execution_count": 47,
   "metadata": {},
   "outputs": [],
   "source": [
    "grid_put=FDM_n(S_0,2*K,K,r,days,sigma,nas,nts,theta,q=div,is_call=False).get_price()"
   ]
  },
  {
   "cell_type": "code",
   "execution_count": 48,
   "metadata": {},
   "outputs": [
    {
     "data": {
      "text/plain": [
       "5.4223"
      ]
     },
     "execution_count": 48,
     "metadata": {},
     "output_type": "execute_result"
    }
   ],
   "source": [
    "put=grid_put.loc[grid_put.S==S_0,0].tolist()\n",
    "put=put[0]\n",
    "put"
   ]
  },
  {
   "cell_type": "markdown",
   "metadata": {},
   "source": [
    "### Проверка паритет пут-колл для европейского опциона (FD)"
   ]
  },
  {
   "cell_type": "code",
   "execution_count": 49,
   "metadata": {},
   "outputs": [
    {
     "data": {
      "text/plain": [
       "79.49146213610894"
      ]
     },
     "execution_count": 49,
     "metadata": {},
     "output_type": "execute_result"
    }
   ],
   "source": [
    "K*np.exp(-r*(days/250-0))+call"
   ]
  },
  {
   "cell_type": "code",
   "execution_count": 50,
   "metadata": {},
   "outputs": [
    {
     "data": {
      "text/plain": [
       "79.49782856111275"
      ]
     },
     "execution_count": 50,
     "metadata": {},
     "output_type": "execute_result"
    }
   ],
   "source": [
    "np.exp(-div*(days/250-0))*S_0+put"
   ]
  },
  {
   "cell_type": "markdown",
   "metadata": {},
   "source": [
    "### 3.3. Расчет показателей чувствительности опциона методов FD"
   ]
  },
  {
   "cell_type": "code",
   "execution_count": 51,
   "metadata": {},
   "outputs": [
    {
     "data": {
      "text/plain": [
       "0.02"
      ]
     },
     "execution_count": 51,
     "metadata": {},
     "output_type": "execute_result"
    }
   ],
   "source": [
    "dt=days/250/nts\n",
    "dt"
   ]
  },
  {
   "cell_type": "code",
   "execution_count": 52,
   "metadata": {},
   "outputs": [
    {
     "data": {
      "text/plain": [
       "{'delta': 0.48034215450414325,\n",
       " 'gamma': 3.655504171410455e-16,\n",
       " 'theta': 1.0470833333333207}"
      ]
     },
     "execution_count": 52,
     "metadata": {},
     "output_type": "execute_result"
    }
   ],
   "source": [
    "get_Greeks(grid_call,S_0,dt)"
   ]
  },
  {
   "cell_type": "code",
   "execution_count": 53,
   "metadata": {},
   "outputs": [
    {
     "data": {
      "text/plain": [
       "{'delta': -0.5099064421277733,\n",
       " 'gamma': 3.655504171410455e-16,\n",
       " 'theta': 0.9191666666666747}"
      ]
     },
     "execution_count": 53,
     "metadata": {},
     "output_type": "execute_result"
    }
   ],
   "source": [
    "get_Greeks(grid_put,S_0,dt)"
   ]
  },
  {
   "cell_type": "code",
   "execution_count": 54,
   "metadata": {},
   "outputs": [
    {
     "data": {
      "text/html": [
       "<div>\n",
       "<style scoped>\n",
       "    .dataframe tbody tr th:only-of-type {\n",
       "        vertical-align: middle;\n",
       "    }\n",
       "\n",
       "    .dataframe tbody tr th {\n",
       "        vertical-align: top;\n",
       "    }\n",
       "\n",
       "    .dataframe thead th {\n",
       "        text-align: right;\n",
       "    }\n",
       "</style>\n",
       "<table border=\"1\" class=\"dataframe\">\n",
       "  <thead>\n",
       "    <tr style=\"text-align: right;\">\n",
       "      <th></th>\n",
       "      <th>Put</th>\n",
       "      <th>Call</th>\n",
       "    </tr>\n",
       "  </thead>\n",
       "  <tbody>\n",
       "    <tr>\n",
       "      <th>delta</th>\n",
       "      <td>0.4803</td>\n",
       "      <td>-0.5099</td>\n",
       "    </tr>\n",
       "    <tr>\n",
       "      <th>gamma</th>\n",
       "      <td>0.0000</td>\n",
       "      <td>0.0000</td>\n",
       "    </tr>\n",
       "    <tr>\n",
       "      <th>theta</th>\n",
       "      <td>1.0471</td>\n",
       "      <td>0.9192</td>\n",
       "    </tr>\n",
       "  </tbody>\n",
       "</table>\n",
       "</div>"
      ],
      "text/plain": [
       "          Put    Call\n",
       "delta  0.4803 -0.5099\n",
       "gamma  0.0000  0.0000\n",
       "theta  1.0471  0.9192"
      ]
     },
     "execution_count": 54,
     "metadata": {},
     "output_type": "execute_result"
    }
   ],
   "source": [
    "df_Greeks=pd.DataFrame([get_Greeks(grid_call,S_0,dt),get_Greeks(grid_put,S_0,dt)]).transpose()\n",
    "df_Greeks.columns=['Put','Call']\n",
    "df_Greeks=df_Greeks.applymap(lambda x:np.round(x,4))\n",
    "df_Greeks"
   ]
  },
  {
   "cell_type": "markdown",
   "metadata": {},
   "source": [
    "## 4.Визуализация Finite difference "
   ]
  },
  {
   "cell_type": "code",
   "execution_count": 55,
   "metadata": {},
   "outputs": [],
   "source": [
    "index=grid_call.index[grid_call.S==S_0].tolist()[0]\n",
    "y=list(grid_call.iloc[index-5:index+5,0])\n",
    "n_y=len(y)\n",
    "x=list(grid_call.columns[40:])[::-1]\n",
    "n_x=len(x)\n",
    "x,y=np.meshgrid(x,y)\n",
    "labels=np.round(grid_call.iloc[index-5:index+5,40:].to_numpy(),2)"
   ]
  },
  {
   "cell_type": "code",
   "execution_count": 56,
   "metadata": {},
   "outputs": [
    {
     "data": {
      "text/plain": [
       "[10, 9, 8, 7, 6, 5, 4, 3, 2, 1, 0]"
      ]
     },
     "execution_count": 56,
     "metadata": {},
     "output_type": "execute_result"
    }
   ],
   "source": [
    "list(grid_call.columns[40:])"
   ]
  },
  {
   "cell_type": "code",
   "execution_count": 58,
   "metadata": {},
   "outputs": [
    {
     "data": {
      "image/png": "[encoded data removed]",
      "text/plain": [
       "<Figure size 1500x1000 with 1 Axes>"
      ]
     },
     "metadata": {},
     "output_type": "display_data"
    }
   ],
   "source": [
    "plt.figure(figsize=(15,10))\n",
    "plt.scatter(x,y)\n",
    "for i in range(n_y):\n",
    "    for j in range(n_x):\n",
    "        plt.annotate(labels[i,j],(x[i,j],y[i,j]),fontsize=13)\n",
    "        if y[i,j]==S_0:\n",
    "            plt.axhline(y[i,j],color='green',linestyle='solid')\n",
    "        else:  \n",
    "            plt.axhline(y[i,j],color='black',linestyle='dotted')\n",
    "        plt.axvline(x[i,j],color='black',linestyle='dotted')\n",
    "plt.xlabel(xlabel='Time steps',fontsize=13)    \n",
    "plt.ylabel(ylabel='Asset price',fontsize=13)\n",
    "plt.xticks(list(grid_call.columns[40:]),list(grid_call.columns[40:])[::-1],fontsize=13)\n",
    "plt.yticks(fontsize=13)\n",
    "plt.title('Finite difference grid (call)',fontsize=15)\n",
    "plt.show()"
   ]
  }
 ],
 "metadata": {
  "kernelspec": {
   "display_name": "Python 3.11.0 ('venv': venv)",
   "language": "python",
   "name": "python3"
  },
  "language_info": {
   "codemirror_mode": {
    "name": "ipython",
    "version": 3
   },
   "file_extension": ".py",
   "mimetype": "text/x-python",
   "name": "python",
   "nbconvert_exporter": "python",
   "pygments_lexer": "ipython3",
   "version": "3.11.0"
  },
  "vscode": {
   "interpreter": {
    "hash": "58047d06385e4029f2d8729d84d2d4d0057492a2f895b6498307dc24e9eb6975"
   }
  }
 },
 "nbformat": 4,
 "nbformat_minor": 4
}
