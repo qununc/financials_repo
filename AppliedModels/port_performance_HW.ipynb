{
 "cells": [
  {
   "cell_type": "markdown",
   "metadata": {},
   "source": [
    "# Risk-adjusted performance"
   ]
  },
  {
   "cell_type": "markdown",
   "metadata": {},
   "source": [
    "## 1.Загрузка библиотек"
   ]
  },
  {
   "cell_type": "code",
   "execution_count": 9,
   "metadata": {},
   "outputs": [],
   "source": [
    "import pandas as pd\n",
    "import numpy as np\n",
    "from scipy import stats\n",
    "import matplotlib.pyplot as plt  # графическая библиотека\n",
    "import math\n",
    "import statsmodels.api as sm\n",
    "import datetime\n",
    "import collections"
   ]
  },
  {
   "cell_type": "markdown",
   "metadata": {},
   "source": [
    "## 2.Полезные функции"
   ]
  },
  {
   "cell_type": "code",
   "execution_count": 10,
   "metadata": {},
   "outputs": [],
   "source": [
    "### приведение доходностей к годовому выражению\n",
    "def annualised_return(array, t):\n",
    "    return (np.product(1 + np.array(array)))**(t /\n",
    "                                               np.array(array).shape[0]) - 1\n"
   ]
  },
  {
   "cell_type": "code",
   "execution_count": 11,
   "metadata": {},
   "outputs": [],
   "source": [
    "### вспомогательная функция для расчета биномиальных коэффициентов\n",
    "def binom_coeff(n, k):\n",
    "    return math.factorial(n) / (math.factorial(k) * math.factorial(n - k))\n"
   ]
  },
  {
   "cell_type": "code",
   "execution_count": 12,
   "metadata": {},
   "outputs": [],
   "source": [
    "### функция для расчета начальных моментов\n",
    "def non_central_moments(mu, sigma, skew, kurt, m=4):\n",
    "    cm = {}\n",
    "    cm[2] = (sigma**2)\n",
    "    cm[3] = (skew * sigma**3)\n",
    "    cm[4] = ((kurt + 3) * sigma**4)\n",
    "    ncm = {}\n",
    "    ncm[1] = mu\n",
    "    for n in range(2, m + 1):\n",
    "        #   print('n',n)\n",
    "        sum_ = 0\n",
    "        for k in range(1, n):\n",
    "            #       print('n,k',n,k)\n",
    "            #       print('bc',binom_coeff(n,k))\n",
    "            sum_ += ((-1)**(n - k + 1)) * binom_coeff(\n",
    "                n, k) * (ncm[1]**(n - k)) * ncm[k]\n",
    "        ncm[n] = ((-1)**(n + 1) * (ncm[1]**n) + sum_ + cm[n])\n",
    "    # print(((-1)**(n+1)*(ncm[1]**n)/sum_,cm[n]))\n",
    "    return ncm\n"
   ]
  },
  {
   "cell_type": "code",
   "execution_count": 13,
   "metadata": {},
   "outputs": [],
   "source": [
    "### функция для расчета кумулянтов\n",
    "def cumulants(ncm, t, m=4):\n",
    "    cum = {}\n",
    "    cum[1] = ncm[1]\n",
    "    for n in range(2, m + 1):\n",
    "        sum_ = 0\n",
    "        for k in range(1, n):\n",
    "            sum_ += binom_coeff(n - 1, k - 1) * cum[k] * ncm[n - k]\n",
    "        cum[n] = (ncm[n] - sum_)\n",
    "    cum[1] = cum[1]\n",
    "    for key in cum.keys():\n",
    "        cum[key] = cum[key] * t\n",
    "    return cum\n"
   ]
  },
  {
   "cell_type": "code",
   "execution_count": 14,
   "metadata": {},
   "outputs": [],
   "source": [
    "### функция для расчета начальных моментов с учетом времени\n",
    "def non_central_moments_t(cum, m=4):\n",
    "    ncm_t = {}\n",
    "    ncm_t[1] = cum[1]\n",
    "    for n in range(2, m + 1):\n",
    "        sum_ = 0\n",
    "        for k in range(1, n):\n",
    "            sum_ += binom_coeff(n - 1, k - 1) * cum[k] * ncm_t[n - k]\n",
    "        ncm_t[n] = cum[n] + sum_\n",
    "    #  print(ncm_t[n],sum_)\n",
    "    return ncm_t\n"
   ]
  },
  {
   "cell_type": "code",
   "execution_count": 15,
   "metadata": {},
   "outputs": [],
   "source": [
    "### функция для расчета центральных моментов с учетом времени\n",
    "def central_moments_t(ncm_t, m=4):\n",
    "    cm_t = {}\n",
    "    cm_t[1] = ncm_t[1]\n",
    "    for n in range(2, m + 1):\n",
    "        #  print('n',n)\n",
    "        sum_ = 0\n",
    "        for k in range(1, n):\n",
    "            #      print('n,k',n,k)\n",
    "            #     print('bc',binom_coeff(n,k))\n",
    "            sum_ += ((-1)**(n - k)) * binom_coeff(\n",
    "                n, k) * (ncm_t[1]**(n - k)) * ncm_t[k]\n",
    "        cm_t[n] = (-1)**(n) * (ncm_t[1]**n) + sum_ + ncm_t[n]\n",
    "    #  print((-1)**n*(ncm_t[1]**n),sum_,ncm_t[n])\n",
    "    #print(sum_)\n",
    "    return cm_t"
   ]
  },
  {
   "cell_type": "code",
   "execution_count": 16,
   "metadata": {},
   "outputs": [],
   "source": [
    "### функция для расчета асимметрии и эксцесса, приведенных к годовому выражению\n",
    "def statistics_annualised(mu, sigma, skew, kurt, t, m=4):\n",
    "    ncm = non_central_moments(mu, sigma, skew, kurt)\n",
    "    cum = cumulants(ncm, t)\n",
    "    ncm_t = non_central_moments_t(cum)\n",
    "    cm_t = central_moments_t(ncm_t)\n",
    "    return (cum[3] / (cum[2]**.5)**3, cum[4] / (cum[2]**.5)**4)\n"
   ]
  },
  {
   "cell_type": "markdown",
   "metadata": {},
   "source": [
    "## 3.Загрузка и обработка данных"
   ]
  },
  {
   "cell_type": "markdown",
   "metadata": {},
   "source": [
    "### Загрузка ESG-портфеля"
   ]
  },
  {
   "cell_type": "code",
   "execution_count": 17,
   "metadata": {},
   "outputs": [],
   "source": [
    "port = pd.read_csv('.\\\\ap_data\\\\port_esg.csv',\n",
    "                   index_col='Date',\n",
    "                   parse_dates=True)\n"
   ]
  },
  {
   "cell_type": "code",
   "execution_count": 18,
   "metadata": {},
   "outputs": [
    {
     "data": {
      "text/html": [
       "<div>\n",
       "<style scoped>\n",
       "    .dataframe tbody tr th:only-of-type {\n",
       "        vertical-align: middle;\n",
       "    }\n",
       "\n",
       "    .dataframe tbody tr th {\n",
       "        vertical-align: top;\n",
       "    }\n",
       "\n",
       "    .dataframe thead th {\n",
       "        text-align: right;\n",
       "    }\n",
       "</style>\n",
       "<table border=\"1\" class=\"dataframe\">\n",
       "  <thead>\n",
       "    <tr style=\"text-align: right;\">\n",
       "      <th></th>\n",
       "      <th>NVDA</th>\n",
       "      <th>MSFT</th>\n",
       "      <th>BBY</th>\n",
       "      <th>ADBE</th>\n",
       "      <th>POOL</th>\n",
       "      <th>CRM</th>\n",
       "      <th>CDNS</th>\n",
       "      <th>INTU</th>\n",
       "      <th>IDXX</th>\n",
       "      <th>LRCX</th>\n",
       "      <th>^GSPC</th>\n",
       "    </tr>\n",
       "    <tr>\n",
       "      <th>Date</th>\n",
       "      <th></th>\n",
       "      <th></th>\n",
       "      <th></th>\n",
       "      <th></th>\n",
       "      <th></th>\n",
       "      <th></th>\n",
       "      <th></th>\n",
       "      <th></th>\n",
       "      <th></th>\n",
       "      <th></th>\n",
       "      <th></th>\n",
       "    </tr>\n",
       "  </thead>\n",
       "  <tbody>\n",
       "    <tr>\n",
       "      <th>2017-12-29</th>\n",
       "      <td>48.375000</td>\n",
       "      <td>85.540001</td>\n",
       "      <td>68.470001</td>\n",
       "      <td>175.240005</td>\n",
       "      <td>129.649994</td>\n",
       "      <td>102.230003</td>\n",
       "      <td>41.820000</td>\n",
       "      <td>157.779999</td>\n",
       "      <td>156.380005</td>\n",
       "      <td>184.070007</td>\n",
       "      <td>2673.610107</td>\n",
       "    </tr>\n",
       "    <tr>\n",
       "      <th>2018-01-02</th>\n",
       "      <td>49.837502</td>\n",
       "      <td>85.949997</td>\n",
       "      <td>69.160004</td>\n",
       "      <td>177.699997</td>\n",
       "      <td>131.169998</td>\n",
       "      <td>104.410004</td>\n",
       "      <td>42.049999</td>\n",
       "      <td>158.720001</td>\n",
       "      <td>157.809998</td>\n",
       "      <td>189.279999</td>\n",
       "      <td>2695.810059</td>\n",
       "    </tr>\n",
       "    <tr>\n",
       "      <th>2018-01-03</th>\n",
       "      <td>53.117500</td>\n",
       "      <td>86.349998</td>\n",
       "      <td>68.400002</td>\n",
       "      <td>181.039993</td>\n",
       "      <td>131.029999</td>\n",
       "      <td>105.290001</td>\n",
       "      <td>42.930000</td>\n",
       "      <td>159.160004</td>\n",
       "      <td>162.050003</td>\n",
       "      <td>192.500000</td>\n",
       "      <td>2713.060059</td>\n",
       "    </tr>\n",
       "    <tr>\n",
       "      <th>2018-01-04</th>\n",
       "      <td>53.397499</td>\n",
       "      <td>87.110001</td>\n",
       "      <td>67.279999</td>\n",
       "      <td>183.220001</td>\n",
       "      <td>132.039993</td>\n",
       "      <td>106.680000</td>\n",
       "      <td>43.580002</td>\n",
       "      <td>162.009995</td>\n",
       "      <td>163.960007</td>\n",
       "      <td>193.380005</td>\n",
       "      <td>2723.989990</td>\n",
       "    </tr>\n",
       "    <tr>\n",
       "      <th>2018-01-05</th>\n",
       "      <td>53.849998</td>\n",
       "      <td>88.190002</td>\n",
       "      <td>68.870003</td>\n",
       "      <td>185.339996</td>\n",
       "      <td>132.199997</td>\n",
       "      <td>108.099998</td>\n",
       "      <td>43.990002</td>\n",
       "      <td>164.110001</td>\n",
       "      <td>166.600006</td>\n",
       "      <td>196.399994</td>\n",
       "      <td>2743.149902</td>\n",
       "    </tr>\n",
       "  </tbody>\n",
       "</table>\n",
       "</div>"
      ],
      "text/plain": [
       "                 NVDA       MSFT        BBY        ADBE        POOL  \\\n",
       "Date                                                                  \n",
       "2017-12-29  48.375000  85.540001  68.470001  175.240005  129.649994   \n",
       "2018-01-02  49.837502  85.949997  69.160004  177.699997  131.169998   \n",
       "2018-01-03  53.117500  86.349998  68.400002  181.039993  131.029999   \n",
       "2018-01-04  53.397499  87.110001  67.279999  183.220001  132.039993   \n",
       "2018-01-05  53.849998  88.190002  68.870003  185.339996  132.199997   \n",
       "\n",
       "                   CRM       CDNS        INTU        IDXX        LRCX  \\\n",
       "Date                                                                    \n",
       "2017-12-29  102.230003  41.820000  157.779999  156.380005  184.070007   \n",
       "2018-01-02  104.410004  42.049999  158.720001  157.809998  189.279999   \n",
       "2018-01-03  105.290001  42.930000  159.160004  162.050003  192.500000   \n",
       "2018-01-04  106.680000  43.580002  162.009995  163.960007  193.380005   \n",
       "2018-01-05  108.099998  43.990002  164.110001  166.600006  196.399994   \n",
       "\n",
       "                  ^GSPC  \n",
       "Date                     \n",
       "2017-12-29  2673.610107  \n",
       "2018-01-02  2695.810059  \n",
       "2018-01-03  2713.060059  \n",
       "2018-01-04  2723.989990  \n",
       "2018-01-05  2743.149902  "
      ]
     },
     "execution_count": 18,
     "metadata": {},
     "output_type": "execute_result"
    }
   ],
   "source": [
    "port.head()"
   ]
  },
  {
   "cell_type": "markdown",
   "metadata": {},
   "source": [
    "### Загрузка Fama-French factors. Для целей анализа используется недельный интервал."
   ]
  },
  {
   "cell_type": "code",
   "execution_count": 19,
   "metadata": {},
   "outputs": [],
   "source": [
    "ff = pd.read_csv(\n",
    "    '.\\\\ap_data\\\\F-F_Research_Data_Factors_weekly.csv',\n",
    "    skiprows=4)\n"
   ]
  },
  {
   "cell_type": "code",
   "execution_count": 20,
   "metadata": {},
   "outputs": [
    {
     "data": {
      "text/html": [
       "<div>\n",
       "<style scoped>\n",
       "    .dataframe tbody tr th:only-of-type {\n",
       "        vertical-align: middle;\n",
       "    }\n",
       "\n",
       "    .dataframe tbody tr th {\n",
       "        vertical-align: top;\n",
       "    }\n",
       "\n",
       "    .dataframe thead th {\n",
       "        text-align: right;\n",
       "    }\n",
       "</style>\n",
       "<table border=\"1\" class=\"dataframe\">\n",
       "  <thead>\n",
       "    <tr style=\"text-align: right;\">\n",
       "      <th></th>\n",
       "      <th>Unnamed: 0</th>\n",
       "      <th>Mkt-RF</th>\n",
       "      <th>SMB</th>\n",
       "      <th>HML</th>\n",
       "      <th>RF</th>\n",
       "    </tr>\n",
       "  </thead>\n",
       "  <tbody>\n",
       "    <tr>\n",
       "      <th>4991</th>\n",
       "      <td>20220304</td>\n",
       "      <td>-1.70</td>\n",
       "      <td>-0.38</td>\n",
       "      <td>2.10</td>\n",
       "      <td>0.0</td>\n",
       "    </tr>\n",
       "    <tr>\n",
       "      <th>4992</th>\n",
       "      <td>20220311</td>\n",
       "      <td>-2.86</td>\n",
       "      <td>1.52</td>\n",
       "      <td>2.20</td>\n",
       "      <td>0.0</td>\n",
       "    </tr>\n",
       "    <tr>\n",
       "      <th>4993</th>\n",
       "      <td>20220318</td>\n",
       "      <td>6.59</td>\n",
       "      <td>-0.10</td>\n",
       "      <td>-5.52</td>\n",
       "      <td>0.0</td>\n",
       "    </tr>\n",
       "    <tr>\n",
       "      <th>4994</th>\n",
       "      <td>20220325</td>\n",
       "      <td>1.55</td>\n",
       "      <td>-2.47</td>\n",
       "      <td>2.19</td>\n",
       "      <td>0.0</td>\n",
       "    </tr>\n",
       "    <tr>\n",
       "      <th>4995</th>\n",
       "      <td>Copyright 2022 Kenneth R. French</td>\n",
       "      <td>NaN</td>\n",
       "      <td>NaN</td>\n",
       "      <td>NaN</td>\n",
       "      <td>NaN</td>\n",
       "    </tr>\n",
       "  </tbody>\n",
       "</table>\n",
       "</div>"
      ],
      "text/plain": [
       "                            Unnamed: 0  Mkt-RF   SMB   HML   RF\n",
       "4991                          20220304   -1.70 -0.38  2.10  0.0\n",
       "4992                          20220311   -2.86  1.52  2.20  0.0\n",
       "4993                          20220318    6.59 -0.10 -5.52  0.0\n",
       "4994                          20220325    1.55 -2.47  2.19  0.0\n",
       "4995  Copyright 2022 Kenneth R. French     NaN   NaN   NaN  NaN"
      ]
     },
     "execution_count": 20,
     "metadata": {},
     "output_type": "execute_result"
    }
   ],
   "source": [
    "ff.tail()"
   ]
  },
  {
   "cell_type": "code",
   "execution_count": 21,
   "metadata": {},
   "outputs": [],
   "source": [
    "ff.rename({'Unnamed: 0': 'Date'}, axis=1, inplace=True)\n"
   ]
  },
  {
   "cell_type": "code",
   "execution_count": 22,
   "metadata": {},
   "outputs": [],
   "source": [
    "ff = ff.iloc[:-1, :]\n"
   ]
  },
  {
   "cell_type": "code",
   "execution_count": 23,
   "metadata": {},
   "outputs": [
    {
     "data": {
      "text/html": [
       "<div>\n",
       "<style scoped>\n",
       "    .dataframe tbody tr th:only-of-type {\n",
       "        vertical-align: middle;\n",
       "    }\n",
       "\n",
       "    .dataframe tbody tr th {\n",
       "        vertical-align: top;\n",
       "    }\n",
       "\n",
       "    .dataframe thead th {\n",
       "        text-align: right;\n",
       "    }\n",
       "</style>\n",
       "<table border=\"1\" class=\"dataframe\">\n",
       "  <thead>\n",
       "    <tr style=\"text-align: right;\">\n",
       "      <th></th>\n",
       "      <th>Date</th>\n",
       "      <th>Mkt-RF</th>\n",
       "      <th>SMB</th>\n",
       "      <th>HML</th>\n",
       "      <th>RF</th>\n",
       "    </tr>\n",
       "  </thead>\n",
       "  <tbody>\n",
       "    <tr>\n",
       "      <th>4990</th>\n",
       "      <td>20220225</td>\n",
       "      <td>0.91</td>\n",
       "      <td>0.38</td>\n",
       "      <td>-1.30</td>\n",
       "      <td>0.0</td>\n",
       "    </tr>\n",
       "    <tr>\n",
       "      <th>4991</th>\n",
       "      <td>20220304</td>\n",
       "      <td>-1.70</td>\n",
       "      <td>-0.38</td>\n",
       "      <td>2.10</td>\n",
       "      <td>0.0</td>\n",
       "    </tr>\n",
       "    <tr>\n",
       "      <th>4992</th>\n",
       "      <td>20220311</td>\n",
       "      <td>-2.86</td>\n",
       "      <td>1.52</td>\n",
       "      <td>2.20</td>\n",
       "      <td>0.0</td>\n",
       "    </tr>\n",
       "    <tr>\n",
       "      <th>4993</th>\n",
       "      <td>20220318</td>\n",
       "      <td>6.59</td>\n",
       "      <td>-0.10</td>\n",
       "      <td>-5.52</td>\n",
       "      <td>0.0</td>\n",
       "    </tr>\n",
       "    <tr>\n",
       "      <th>4994</th>\n",
       "      <td>20220325</td>\n",
       "      <td>1.55</td>\n",
       "      <td>-2.47</td>\n",
       "      <td>2.19</td>\n",
       "      <td>0.0</td>\n",
       "    </tr>\n",
       "  </tbody>\n",
       "</table>\n",
       "</div>"
      ],
      "text/plain": [
       "          Date  Mkt-RF   SMB   HML   RF\n",
       "4990  20220225    0.91  0.38 -1.30  0.0\n",
       "4991  20220304   -1.70 -0.38  2.10  0.0\n",
       "4992  20220311   -2.86  1.52  2.20  0.0\n",
       "4993  20220318    6.59 -0.10 -5.52  0.0\n",
       "4994  20220325    1.55 -2.47  2.19  0.0"
      ]
     },
     "execution_count": 23,
     "metadata": {},
     "output_type": "execute_result"
    }
   ],
   "source": [
    "ff.tail()"
   ]
  },
  {
   "cell_type": "code",
   "execution_count": 24,
   "metadata": {},
   "outputs": [],
   "source": [
    "ff.Date = pd.to_datetime(ff.Date, format='%Y%m%d')\n"
   ]
  },
  {
   "cell_type": "code",
   "execution_count": 25,
   "metadata": {},
   "outputs": [
    {
     "data": {
      "text/html": [
       "<div>\n",
       "<style scoped>\n",
       "    .dataframe tbody tr th:only-of-type {\n",
       "        vertical-align: middle;\n",
       "    }\n",
       "\n",
       "    .dataframe tbody tr th {\n",
       "        vertical-align: top;\n",
       "    }\n",
       "\n",
       "    .dataframe thead th {\n",
       "        text-align: right;\n",
       "    }\n",
       "</style>\n",
       "<table border=\"1\" class=\"dataframe\">\n",
       "  <thead>\n",
       "    <tr style=\"text-align: right;\">\n",
       "      <th></th>\n",
       "      <th>Date</th>\n",
       "      <th>Mkt-RF</th>\n",
       "      <th>SMB</th>\n",
       "      <th>HML</th>\n",
       "      <th>RF</th>\n",
       "    </tr>\n",
       "  </thead>\n",
       "  <tbody>\n",
       "    <tr>\n",
       "      <th>4990</th>\n",
       "      <td>2022-02-25</td>\n",
       "      <td>0.91</td>\n",
       "      <td>0.38</td>\n",
       "      <td>-1.30</td>\n",
       "      <td>0.0</td>\n",
       "    </tr>\n",
       "    <tr>\n",
       "      <th>4991</th>\n",
       "      <td>2022-03-04</td>\n",
       "      <td>-1.70</td>\n",
       "      <td>-0.38</td>\n",
       "      <td>2.10</td>\n",
       "      <td>0.0</td>\n",
       "    </tr>\n",
       "    <tr>\n",
       "      <th>4992</th>\n",
       "      <td>2022-03-11</td>\n",
       "      <td>-2.86</td>\n",
       "      <td>1.52</td>\n",
       "      <td>2.20</td>\n",
       "      <td>0.0</td>\n",
       "    </tr>\n",
       "    <tr>\n",
       "      <th>4993</th>\n",
       "      <td>2022-03-18</td>\n",
       "      <td>6.59</td>\n",
       "      <td>-0.10</td>\n",
       "      <td>-5.52</td>\n",
       "      <td>0.0</td>\n",
       "    </tr>\n",
       "    <tr>\n",
       "      <th>4994</th>\n",
       "      <td>2022-03-25</td>\n",
       "      <td>1.55</td>\n",
       "      <td>-2.47</td>\n",
       "      <td>2.19</td>\n",
       "      <td>0.0</td>\n",
       "    </tr>\n",
       "  </tbody>\n",
       "</table>\n",
       "</div>"
      ],
      "text/plain": [
       "           Date  Mkt-RF   SMB   HML   RF\n",
       "4990 2022-02-25    0.91  0.38 -1.30  0.0\n",
       "4991 2022-03-04   -1.70 -0.38  2.10  0.0\n",
       "4992 2022-03-11   -2.86  1.52  2.20  0.0\n",
       "4993 2022-03-18    6.59 -0.10 -5.52  0.0\n",
       "4994 2022-03-25    1.55 -2.47  2.19  0.0"
      ]
     },
     "execution_count": 25,
     "metadata": {},
     "output_type": "execute_result"
    }
   ],
   "source": [
    "ff.tail()"
   ]
  },
  {
   "cell_type": "code",
   "execution_count": 26,
   "metadata": {},
   "outputs": [
    {
     "data": {
      "text/plain": [
       "0         Friday\n",
       "1       Saturday\n",
       "2       Saturday\n",
       "3       Saturday\n",
       "4       Saturday\n",
       "          ...   \n",
       "4990      Friday\n",
       "4991      Friday\n",
       "4992      Friday\n",
       "4993      Friday\n",
       "4994      Friday\n",
       "Name: Date, Length: 4995, dtype: object"
      ]
     },
     "execution_count": 26,
     "metadata": {},
     "output_type": "execute_result"
    }
   ],
   "source": [
    "ff.Date.dt.day_name()"
   ]
  },
  {
   "cell_type": "code",
   "execution_count": 27,
   "metadata": {},
   "outputs": [
    {
     "data": {
      "text/plain": [
       "Date      datetime64[ns]\n",
       "Mkt-RF           float64\n",
       "SMB              float64\n",
       "HML              float64\n",
       "RF               float64\n",
       "dtype: object"
      ]
     },
     "execution_count": 27,
     "metadata": {},
     "output_type": "execute_result"
    }
   ],
   "source": [
    "ff.dtypes"
   ]
  },
  {
   "cell_type": "markdown",
   "metadata": {},
   "source": [
    "## 4. Формирование портфеля и расчет доходности"
   ]
  },
  {
   "cell_type": "markdown",
   "metadata": {},
   "source": [
    "### Массив весов. Все активы входят в портфель с одинаковыми весами."
   ]
  },
  {
   "cell_type": "code",
   "execution_count": 28,
   "metadata": {},
   "outputs": [
    {
     "data": {
      "text/plain": [
       "0.1"
      ]
     },
     "execution_count": 28,
     "metadata": {},
     "output_type": "execute_result"
    }
   ],
   "source": [
    "weight = 1 / (port.shape[1] - 1)\n",
    "weight"
   ]
  },
  {
   "cell_type": "code",
   "execution_count": 29,
   "metadata": {},
   "outputs": [],
   "source": [
    "weight_array = np.repeat(weight, port.shape[1] - 1)\n"
   ]
  },
  {
   "cell_type": "code",
   "execution_count": 30,
   "metadata": {},
   "outputs": [],
   "source": [
    "weight_array = np.expand_dims(weight_array, axis=1)\n"
   ]
  },
  {
   "cell_type": "code",
   "execution_count": 31,
   "metadata": {},
   "outputs": [
    {
     "data": {
      "text/plain": [
       "(10, 1)"
      ]
     },
     "execution_count": 31,
     "metadata": {},
     "output_type": "execute_result"
    }
   ],
   "source": [
    "weight_array.shape"
   ]
  },
  {
   "cell_type": "markdown",
   "metadata": {},
   "source": [
    "### Переход от дневных к недельным данным"
   ]
  },
  {
   "cell_type": "code",
   "execution_count": 32,
   "metadata": {},
   "outputs": [],
   "source": [
    "port_week = port.resample('W-FRI').last()\n"
   ]
  },
  {
   "cell_type": "code",
   "execution_count": 33,
   "metadata": {},
   "outputs": [
    {
     "data": {
      "text/html": [
       "<div>\n",
       "<style scoped>\n",
       "    .dataframe tbody tr th:only-of-type {\n",
       "        vertical-align: middle;\n",
       "    }\n",
       "\n",
       "    .dataframe tbody tr th {\n",
       "        vertical-align: top;\n",
       "    }\n",
       "\n",
       "    .dataframe thead th {\n",
       "        text-align: right;\n",
       "    }\n",
       "</style>\n",
       "<table border=\"1\" class=\"dataframe\">\n",
       "  <thead>\n",
       "    <tr style=\"text-align: right;\">\n",
       "      <th></th>\n",
       "      <th>NVDA</th>\n",
       "      <th>MSFT</th>\n",
       "      <th>BBY</th>\n",
       "      <th>ADBE</th>\n",
       "      <th>POOL</th>\n",
       "      <th>CRM</th>\n",
       "      <th>CDNS</th>\n",
       "      <th>INTU</th>\n",
       "      <th>IDXX</th>\n",
       "      <th>LRCX</th>\n",
       "      <th>^GSPC</th>\n",
       "    </tr>\n",
       "    <tr>\n",
       "      <th>Date</th>\n",
       "      <th></th>\n",
       "      <th></th>\n",
       "      <th></th>\n",
       "      <th></th>\n",
       "      <th></th>\n",
       "      <th></th>\n",
       "      <th></th>\n",
       "      <th></th>\n",
       "      <th></th>\n",
       "      <th></th>\n",
       "      <th></th>\n",
       "    </tr>\n",
       "  </thead>\n",
       "  <tbody>\n",
       "    <tr>\n",
       "      <th>2017-12-29</th>\n",
       "      <td>48.375000</td>\n",
       "      <td>85.540001</td>\n",
       "      <td>68.470001</td>\n",
       "      <td>175.240005</td>\n",
       "      <td>129.649994</td>\n",
       "      <td>102.230003</td>\n",
       "      <td>41.820000</td>\n",
       "      <td>157.779999</td>\n",
       "      <td>156.380005</td>\n",
       "      <td>184.070007</td>\n",
       "      <td>2673.610107</td>\n",
       "    </tr>\n",
       "    <tr>\n",
       "      <th>2018-01-05</th>\n",
       "      <td>53.849998</td>\n",
       "      <td>88.190002</td>\n",
       "      <td>68.870003</td>\n",
       "      <td>185.339996</td>\n",
       "      <td>132.199997</td>\n",
       "      <td>108.099998</td>\n",
       "      <td>43.990002</td>\n",
       "      <td>164.110001</td>\n",
       "      <td>166.600006</td>\n",
       "      <td>196.399994</td>\n",
       "      <td>2743.149902</td>\n",
       "    </tr>\n",
       "    <tr>\n",
       "      <th>2018-01-12</th>\n",
       "      <td>55.744999</td>\n",
       "      <td>89.599998</td>\n",
       "      <td>73.250000</td>\n",
       "      <td>195.050003</td>\n",
       "      <td>131.210007</td>\n",
       "      <td>110.239998</td>\n",
       "      <td>45.070000</td>\n",
       "      <td>164.509995</td>\n",
       "      <td>173.240005</td>\n",
       "      <td>188.509995</td>\n",
       "      <td>2786.239990</td>\n",
       "    </tr>\n",
       "    <tr>\n",
       "      <th>2018-01-19</th>\n",
       "      <td>57.527500</td>\n",
       "      <td>90.000000</td>\n",
       "      <td>76.860001</td>\n",
       "      <td>195.729996</td>\n",
       "      <td>130.550003</td>\n",
       "      <td>111.930000</td>\n",
       "      <td>45.599998</td>\n",
       "      <td>167.740005</td>\n",
       "      <td>180.630005</td>\n",
       "      <td>207.529999</td>\n",
       "      <td>2810.300049</td>\n",
       "    </tr>\n",
       "    <tr>\n",
       "      <th>2018-01-26</th>\n",
       "      <td>60.832500</td>\n",
       "      <td>94.059998</td>\n",
       "      <td>77.849998</td>\n",
       "      <td>201.300003</td>\n",
       "      <td>135.669998</td>\n",
       "      <td>113.699997</td>\n",
       "      <td>45.799999</td>\n",
       "      <td>170.440002</td>\n",
       "      <td>187.029999</td>\n",
       "      <td>202.570007</td>\n",
       "      <td>2872.870117</td>\n",
       "    </tr>\n",
       "  </tbody>\n",
       "</table>\n",
       "</div>"
      ],
      "text/plain": [
       "                 NVDA       MSFT        BBY        ADBE        POOL  \\\n",
       "Date                                                                  \n",
       "2017-12-29  48.375000  85.540001  68.470001  175.240005  129.649994   \n",
       "2018-01-05  53.849998  88.190002  68.870003  185.339996  132.199997   \n",
       "2018-01-12  55.744999  89.599998  73.250000  195.050003  131.210007   \n",
       "2018-01-19  57.527500  90.000000  76.860001  195.729996  130.550003   \n",
       "2018-01-26  60.832500  94.059998  77.849998  201.300003  135.669998   \n",
       "\n",
       "                   CRM       CDNS        INTU        IDXX        LRCX  \\\n",
       "Date                                                                    \n",
       "2017-12-29  102.230003  41.820000  157.779999  156.380005  184.070007   \n",
       "2018-01-05  108.099998  43.990002  164.110001  166.600006  196.399994   \n",
       "2018-01-12  110.239998  45.070000  164.509995  173.240005  188.509995   \n",
       "2018-01-19  111.930000  45.599998  167.740005  180.630005  207.529999   \n",
       "2018-01-26  113.699997  45.799999  170.440002  187.029999  202.570007   \n",
       "\n",
       "                  ^GSPC  \n",
       "Date                     \n",
       "2017-12-29  2673.610107  \n",
       "2018-01-05  2743.149902  \n",
       "2018-01-12  2786.239990  \n",
       "2018-01-19  2810.300049  \n",
       "2018-01-26  2872.870117  "
      ]
     },
     "execution_count": 33,
     "metadata": {},
     "output_type": "execute_result"
    }
   ],
   "source": [
    "port_week.head()"
   ]
  },
  {
   "cell_type": "markdown",
   "metadata": {},
   "source": [
    "### Расчет недельной доходности"
   ]
  },
  {
   "cell_type": "code",
   "execution_count": 34,
   "metadata": {},
   "outputs": [],
   "source": [
    "port_week_return = port_week.apply(lambda x: (x - x.shift(1)) / x.shift(1))\n"
   ]
  },
  {
   "cell_type": "code",
   "execution_count": 35,
   "metadata": {},
   "outputs": [],
   "source": [
    "port_week_return = port_week_return.iloc[1:, :]\n"
   ]
  },
  {
   "cell_type": "code",
   "execution_count": 36,
   "metadata": {},
   "outputs": [
    {
     "data": {
      "text/html": [
       "<div>\n",
       "<style scoped>\n",
       "    .dataframe tbody tr th:only-of-type {\n",
       "        vertical-align: middle;\n",
       "    }\n",
       "\n",
       "    .dataframe tbody tr th {\n",
       "        vertical-align: top;\n",
       "    }\n",
       "\n",
       "    .dataframe thead th {\n",
       "        text-align: right;\n",
       "    }\n",
       "</style>\n",
       "<table border=\"1\" class=\"dataframe\">\n",
       "  <thead>\n",
       "    <tr style=\"text-align: right;\">\n",
       "      <th></th>\n",
       "      <th>NVDA</th>\n",
       "      <th>MSFT</th>\n",
       "      <th>BBY</th>\n",
       "      <th>ADBE</th>\n",
       "      <th>POOL</th>\n",
       "      <th>CRM</th>\n",
       "      <th>CDNS</th>\n",
       "      <th>INTU</th>\n",
       "      <th>IDXX</th>\n",
       "      <th>LRCX</th>\n",
       "      <th>^GSPC</th>\n",
       "    </tr>\n",
       "    <tr>\n",
       "      <th>Date</th>\n",
       "      <th></th>\n",
       "      <th></th>\n",
       "      <th></th>\n",
       "      <th></th>\n",
       "      <th></th>\n",
       "      <th></th>\n",
       "      <th></th>\n",
       "      <th></th>\n",
       "      <th></th>\n",
       "      <th></th>\n",
       "      <th></th>\n",
       "    </tr>\n",
       "  </thead>\n",
       "  <tbody>\n",
       "    <tr>\n",
       "      <th>2018-01-05</th>\n",
       "      <td>0.113178</td>\n",
       "      <td>0.030980</td>\n",
       "      <td>0.005842</td>\n",
       "      <td>0.057635</td>\n",
       "      <td>0.019668</td>\n",
       "      <td>0.057419</td>\n",
       "      <td>0.051889</td>\n",
       "      <td>0.040119</td>\n",
       "      <td>0.065354</td>\n",
       "      <td>0.066985</td>\n",
       "      <td>0.026010</td>\n",
       "    </tr>\n",
       "    <tr>\n",
       "      <th>2018-01-12</th>\n",
       "      <td>0.035190</td>\n",
       "      <td>0.015988</td>\n",
       "      <td>0.063598</td>\n",
       "      <td>0.052390</td>\n",
       "      <td>-0.007489</td>\n",
       "      <td>0.019796</td>\n",
       "      <td>0.024551</td>\n",
       "      <td>0.002437</td>\n",
       "      <td>0.039856</td>\n",
       "      <td>-0.040173</td>\n",
       "      <td>0.015708</td>\n",
       "    </tr>\n",
       "    <tr>\n",
       "      <th>2018-01-19</th>\n",
       "      <td>0.031976</td>\n",
       "      <td>0.004464</td>\n",
       "      <td>0.049283</td>\n",
       "      <td>0.003486</td>\n",
       "      <td>-0.005030</td>\n",
       "      <td>0.015330</td>\n",
       "      <td>0.011759</td>\n",
       "      <td>0.019634</td>\n",
       "      <td>0.042658</td>\n",
       "      <td>0.100897</td>\n",
       "      <td>0.008635</td>\n",
       "    </tr>\n",
       "    <tr>\n",
       "      <th>2018-01-26</th>\n",
       "      <td>0.057451</td>\n",
       "      <td>0.045111</td>\n",
       "      <td>0.012881</td>\n",
       "      <td>0.028458</td>\n",
       "      <td>0.039219</td>\n",
       "      <td>0.015813</td>\n",
       "      <td>0.004386</td>\n",
       "      <td>0.016096</td>\n",
       "      <td>0.035432</td>\n",
       "      <td>-0.023900</td>\n",
       "      <td>0.022265</td>\n",
       "    </tr>\n",
       "    <tr>\n",
       "      <th>2018-02-02</th>\n",
       "      <td>-0.040316</td>\n",
       "      <td>-0.024240</td>\n",
       "      <td>-0.084907</td>\n",
       "      <td>-0.028117</td>\n",
       "      <td>-0.023439</td>\n",
       "      <td>-0.025682</td>\n",
       "      <td>-0.102620</td>\n",
       "      <td>-0.041188</td>\n",
       "      <td>-0.003582</td>\n",
       "      <td>-0.116059</td>\n",
       "      <td>-0.038547</td>\n",
       "    </tr>\n",
       "  </tbody>\n",
       "</table>\n",
       "</div>"
      ],
      "text/plain": [
       "                NVDA      MSFT       BBY      ADBE      POOL       CRM  \\\n",
       "Date                                                                     \n",
       "2018-01-05  0.113178  0.030980  0.005842  0.057635  0.019668  0.057419   \n",
       "2018-01-12  0.035190  0.015988  0.063598  0.052390 -0.007489  0.019796   \n",
       "2018-01-19  0.031976  0.004464  0.049283  0.003486 -0.005030  0.015330   \n",
       "2018-01-26  0.057451  0.045111  0.012881  0.028458  0.039219  0.015813   \n",
       "2018-02-02 -0.040316 -0.024240 -0.084907 -0.028117 -0.023439 -0.025682   \n",
       "\n",
       "                CDNS      INTU      IDXX      LRCX     ^GSPC  \n",
       "Date                                                          \n",
       "2018-01-05  0.051889  0.040119  0.065354  0.066985  0.026010  \n",
       "2018-01-12  0.024551  0.002437  0.039856 -0.040173  0.015708  \n",
       "2018-01-19  0.011759  0.019634  0.042658  0.100897  0.008635  \n",
       "2018-01-26  0.004386  0.016096  0.035432 -0.023900  0.022265  \n",
       "2018-02-02 -0.102620 -0.041188 -0.003582 -0.116059 -0.038547  "
      ]
     },
     "execution_count": 36,
     "metadata": {},
     "output_type": "execute_result"
    }
   ],
   "source": [
    "port_week_return.head()"
   ]
  },
  {
   "cell_type": "code",
   "execution_count": 37,
   "metadata": {},
   "outputs": [],
   "source": [
    "port_week_return['Return'] = np.dot(np.array(port_week_return.iloc[:, :-1]),\n",
    "                                    weight_array)\n"
   ]
  },
  {
   "cell_type": "code",
   "execution_count": 38,
   "metadata": {},
   "outputs": [
    {
     "data": {
      "text/html": [
       "<div>\n",
       "<style scoped>\n",
       "    .dataframe tbody tr th:only-of-type {\n",
       "        vertical-align: middle;\n",
       "    }\n",
       "\n",
       "    .dataframe tbody tr th {\n",
       "        vertical-align: top;\n",
       "    }\n",
       "\n",
       "    .dataframe thead th {\n",
       "        text-align: right;\n",
       "    }\n",
       "</style>\n",
       "<table border=\"1\" class=\"dataframe\">\n",
       "  <thead>\n",
       "    <tr style=\"text-align: right;\">\n",
       "      <th></th>\n",
       "      <th>NVDA</th>\n",
       "      <th>MSFT</th>\n",
       "      <th>BBY</th>\n",
       "      <th>ADBE</th>\n",
       "      <th>POOL</th>\n",
       "      <th>CRM</th>\n",
       "      <th>CDNS</th>\n",
       "      <th>INTU</th>\n",
       "      <th>IDXX</th>\n",
       "      <th>LRCX</th>\n",
       "      <th>^GSPC</th>\n",
       "      <th>Return</th>\n",
       "    </tr>\n",
       "    <tr>\n",
       "      <th>Date</th>\n",
       "      <th></th>\n",
       "      <th></th>\n",
       "      <th></th>\n",
       "      <th></th>\n",
       "      <th></th>\n",
       "      <th></th>\n",
       "      <th></th>\n",
       "      <th></th>\n",
       "      <th></th>\n",
       "      <th></th>\n",
       "      <th></th>\n",
       "      <th></th>\n",
       "    </tr>\n",
       "  </thead>\n",
       "  <tbody>\n",
       "    <tr>\n",
       "      <th>2018-01-05</th>\n",
       "      <td>0.113178</td>\n",
       "      <td>0.030980</td>\n",
       "      <td>0.005842</td>\n",
       "      <td>0.057635</td>\n",
       "      <td>0.019668</td>\n",
       "      <td>0.057419</td>\n",
       "      <td>0.051889</td>\n",
       "      <td>0.040119</td>\n",
       "      <td>0.065354</td>\n",
       "      <td>0.066985</td>\n",
       "      <td>0.026010</td>\n",
       "      <td>0.050907</td>\n",
       "    </tr>\n",
       "    <tr>\n",
       "      <th>2018-01-12</th>\n",
       "      <td>0.035190</td>\n",
       "      <td>0.015988</td>\n",
       "      <td>0.063598</td>\n",
       "      <td>0.052390</td>\n",
       "      <td>-0.007489</td>\n",
       "      <td>0.019796</td>\n",
       "      <td>0.024551</td>\n",
       "      <td>0.002437</td>\n",
       "      <td>0.039856</td>\n",
       "      <td>-0.040173</td>\n",
       "      <td>0.015708</td>\n",
       "      <td>0.020615</td>\n",
       "    </tr>\n",
       "    <tr>\n",
       "      <th>2018-01-19</th>\n",
       "      <td>0.031976</td>\n",
       "      <td>0.004464</td>\n",
       "      <td>0.049283</td>\n",
       "      <td>0.003486</td>\n",
       "      <td>-0.005030</td>\n",
       "      <td>0.015330</td>\n",
       "      <td>0.011759</td>\n",
       "      <td>0.019634</td>\n",
       "      <td>0.042658</td>\n",
       "      <td>0.100897</td>\n",
       "      <td>0.008635</td>\n",
       "      <td>0.027446</td>\n",
       "    </tr>\n",
       "    <tr>\n",
       "      <th>2018-01-26</th>\n",
       "      <td>0.057451</td>\n",
       "      <td>0.045111</td>\n",
       "      <td>0.012881</td>\n",
       "      <td>0.028458</td>\n",
       "      <td>0.039219</td>\n",
       "      <td>0.015813</td>\n",
       "      <td>0.004386</td>\n",
       "      <td>0.016096</td>\n",
       "      <td>0.035432</td>\n",
       "      <td>-0.023900</td>\n",
       "      <td>0.022265</td>\n",
       "      <td>0.023095</td>\n",
       "    </tr>\n",
       "    <tr>\n",
       "      <th>2018-02-02</th>\n",
       "      <td>-0.040316</td>\n",
       "      <td>-0.024240</td>\n",
       "      <td>-0.084907</td>\n",
       "      <td>-0.028117</td>\n",
       "      <td>-0.023439</td>\n",
       "      <td>-0.025682</td>\n",
       "      <td>-0.102620</td>\n",
       "      <td>-0.041188</td>\n",
       "      <td>-0.003582</td>\n",
       "      <td>-0.116059</td>\n",
       "      <td>-0.038547</td>\n",
       "      <td>-0.049015</td>\n",
       "    </tr>\n",
       "  </tbody>\n",
       "</table>\n",
       "</div>"
      ],
      "text/plain": [
       "                NVDA      MSFT       BBY      ADBE      POOL       CRM  \\\n",
       "Date                                                                     \n",
       "2018-01-05  0.113178  0.030980  0.005842  0.057635  0.019668  0.057419   \n",
       "2018-01-12  0.035190  0.015988  0.063598  0.052390 -0.007489  0.019796   \n",
       "2018-01-19  0.031976  0.004464  0.049283  0.003486 -0.005030  0.015330   \n",
       "2018-01-26  0.057451  0.045111  0.012881  0.028458  0.039219  0.015813   \n",
       "2018-02-02 -0.040316 -0.024240 -0.084907 -0.028117 -0.023439 -0.025682   \n",
       "\n",
       "                CDNS      INTU      IDXX      LRCX     ^GSPC    Return  \n",
       "Date                                                                    \n",
       "2018-01-05  0.051889  0.040119  0.065354  0.066985  0.026010  0.050907  \n",
       "2018-01-12  0.024551  0.002437  0.039856 -0.040173  0.015708  0.020615  \n",
       "2018-01-19  0.011759  0.019634  0.042658  0.100897  0.008635  0.027446  \n",
       "2018-01-26  0.004386  0.016096  0.035432 -0.023900  0.022265  0.023095  \n",
       "2018-02-02 -0.102620 -0.041188 -0.003582 -0.116059 -0.038547 -0.049015  "
      ]
     },
     "execution_count": 38,
     "metadata": {},
     "output_type": "execute_result"
    }
   ],
   "source": [
    "port_week_return.head()"
   ]
  },
  {
   "cell_type": "code",
   "execution_count": 40,
   "metadata": {},
   "outputs": [
    {
     "data": {
      "text/plain": [
       "array([0.02061459])"
      ]
     },
     "execution_count": 40,
     "metadata": {},
     "output_type": "execute_result"
    }
   ],
   "source": [
    "np.dot(np.array(port_week_return.iloc[1, :-2]), weight_array)\n"
   ]
  },
  {
   "cell_type": "markdown",
   "metadata": {},
   "source": [
    "### Добавление risk-free rate"
   ]
  },
  {
   "cell_type": "code",
   "execution_count": 41,
   "metadata": {},
   "outputs": [],
   "source": [
    "port_week_return = port_week_return.merge(ff[['Date', 'RF']],\n",
    "                                          left_index=True,\n",
    "                                          right_on='Date')\n"
   ]
  },
  {
   "cell_type": "code",
   "execution_count": 42,
   "metadata": {},
   "outputs": [],
   "source": [
    "port_week_return.index = port_week_return.Date\n"
   ]
  },
  {
   "cell_type": "code",
   "execution_count": 43,
   "metadata": {},
   "outputs": [],
   "source": [
    "port_week_return.drop('Date', axis=1, inplace=True)\n"
   ]
  },
  {
   "cell_type": "code",
   "execution_count": 44,
   "metadata": {},
   "outputs": [
    {
     "data": {
      "text/html": [
       "<div>\n",
       "<style scoped>\n",
       "    .dataframe tbody tr th:only-of-type {\n",
       "        vertical-align: middle;\n",
       "    }\n",
       "\n",
       "    .dataframe tbody tr th {\n",
       "        vertical-align: top;\n",
       "    }\n",
       "\n",
       "    .dataframe thead th {\n",
       "        text-align: right;\n",
       "    }\n",
       "</style>\n",
       "<table border=\"1\" class=\"dataframe\">\n",
       "  <thead>\n",
       "    <tr style=\"text-align: right;\">\n",
       "      <th></th>\n",
       "      <th>NVDA</th>\n",
       "      <th>MSFT</th>\n",
       "      <th>BBY</th>\n",
       "      <th>ADBE</th>\n",
       "      <th>POOL</th>\n",
       "      <th>CRM</th>\n",
       "      <th>CDNS</th>\n",
       "      <th>INTU</th>\n",
       "      <th>IDXX</th>\n",
       "      <th>LRCX</th>\n",
       "      <th>^GSPC</th>\n",
       "      <th>Return</th>\n",
       "      <th>RF</th>\n",
       "    </tr>\n",
       "    <tr>\n",
       "      <th>Date</th>\n",
       "      <th></th>\n",
       "      <th></th>\n",
       "      <th></th>\n",
       "      <th></th>\n",
       "      <th></th>\n",
       "      <th></th>\n",
       "      <th></th>\n",
       "      <th></th>\n",
       "      <th></th>\n",
       "      <th></th>\n",
       "      <th></th>\n",
       "      <th></th>\n",
       "      <th></th>\n",
       "    </tr>\n",
       "  </thead>\n",
       "  <tbody>\n",
       "    <tr>\n",
       "      <th>2021-11-26</th>\n",
       "      <td>-0.044930</td>\n",
       "      <td>-0.039142</td>\n",
       "      <td>-0.156909</td>\n",
       "      <td>-0.038163</td>\n",
       "      <td>-0.030867</td>\n",
       "      <td>-0.056314</td>\n",
       "      <td>-0.051882</td>\n",
       "      <td>-0.036731</td>\n",
       "      <td>-0.061412</td>\n",
       "      <td>-0.003910</td>\n",
       "      <td>-0.021997</td>\n",
       "      <td>-0.052026</td>\n",
       "      <td>0.001</td>\n",
       "    </tr>\n",
       "    <tr>\n",
       "      <th>2021-12-03</th>\n",
       "      <td>-0.025712</td>\n",
       "      <td>-0.020232</td>\n",
       "      <td>-0.077546</td>\n",
       "      <td>-0.068826</td>\n",
       "      <td>-0.025662</td>\n",
       "      <td>-0.091095</td>\n",
       "      <td>-0.002747</td>\n",
       "      <td>-0.028415</td>\n",
       "      <td>-0.034534</td>\n",
       "      <td>0.030359</td>\n",
       "      <td>-0.012230</td>\n",
       "      <td>-0.034441</td>\n",
       "      <td>0.002</td>\n",
       "    </tr>\n",
       "    <tr>\n",
       "      <th>2021-12-10</th>\n",
       "      <td>-0.016127</td>\n",
       "      <td>0.060463</td>\n",
       "      <td>-0.019363</td>\n",
       "      <td>0.061505</td>\n",
       "      <td>0.032725</td>\n",
       "      <td>0.029847</td>\n",
       "      <td>0.035250</td>\n",
       "      <td>0.046284</td>\n",
       "      <td>0.036417</td>\n",
       "      <td>0.067259</td>\n",
       "      <td>0.038249</td>\n",
       "      <td>0.033426</td>\n",
       "      <td>0.002</td>\n",
       "    </tr>\n",
       "    <tr>\n",
       "      <th>2021-12-17</th>\n",
       "      <td>-0.079376</td>\n",
       "      <td>-0.054709</td>\n",
       "      <td>-0.036505</td>\n",
       "      <td>-0.149454</td>\n",
       "      <td>-0.039153</td>\n",
       "      <td>-0.049243</td>\n",
       "      <td>-0.027099</td>\n",
       "      <td>-0.085080</td>\n",
       "      <td>0.014772</td>\n",
       "      <td>-0.052113</td>\n",
       "      <td>-0.019393</td>\n",
       "      <td>-0.055796</td>\n",
       "      <td>0.002</td>\n",
       "    </tr>\n",
       "    <tr>\n",
       "      <th>2021-12-31</th>\n",
       "      <td>-0.007726</td>\n",
       "      <td>0.004870</td>\n",
       "      <td>0.035889</td>\n",
       "      <td>-0.004494</td>\n",
       "      <td>0.029746</td>\n",
       "      <td>0.003911</td>\n",
       "      <td>-0.006027</td>\n",
       "      <td>0.011813</td>\n",
       "      <td>0.020837</td>\n",
       "      <td>0.029239</td>\n",
       "      <td>0.008547</td>\n",
       "      <td>0.011806</td>\n",
       "      <td>0.002</td>\n",
       "    </tr>\n",
       "  </tbody>\n",
       "</table>\n",
       "</div>"
      ],
      "text/plain": [
       "                NVDA      MSFT       BBY      ADBE      POOL       CRM  \\\n",
       "Date                                                                     \n",
       "2021-11-26 -0.044930 -0.039142 -0.156909 -0.038163 -0.030867 -0.056314   \n",
       "2021-12-03 -0.025712 -0.020232 -0.077546 -0.068826 -0.025662 -0.091095   \n",
       "2021-12-10 -0.016127  0.060463 -0.019363  0.061505  0.032725  0.029847   \n",
       "2021-12-17 -0.079376 -0.054709 -0.036505 -0.149454 -0.039153 -0.049243   \n",
       "2021-12-31 -0.007726  0.004870  0.035889 -0.004494  0.029746  0.003911   \n",
       "\n",
       "                CDNS      INTU      IDXX      LRCX     ^GSPC    Return     RF  \n",
       "Date                                                                           \n",
       "2021-11-26 -0.051882 -0.036731 -0.061412 -0.003910 -0.021997 -0.052026  0.001  \n",
       "2021-12-03 -0.002747 -0.028415 -0.034534  0.030359 -0.012230 -0.034441  0.002  \n",
       "2021-12-10  0.035250  0.046284  0.036417  0.067259  0.038249  0.033426  0.002  \n",
       "2021-12-17 -0.027099 -0.085080  0.014772 -0.052113 -0.019393 -0.055796  0.002  \n",
       "2021-12-31 -0.006027  0.011813  0.020837  0.029239  0.008547  0.011806  0.002  "
      ]
     },
     "execution_count": 44,
     "metadata": {},
     "output_type": "execute_result"
    }
   ],
   "source": [
    "port_week_return.tail()"
   ]
  },
  {
   "cell_type": "markdown",
   "metadata": {},
   "source": [
    "## 5. Расчет различных характеристик портфеля (risk-adjusted performance)"
   ]
  },
  {
   "cell_type": "markdown",
   "metadata": {},
   "source": [
    "## 5.1. Descriptive statitistics (описательная статистика)"
   ]
  },
  {
   "cell_type": "code",
   "execution_count": 45,
   "metadata": {},
   "outputs": [],
   "source": [
    "Port = port_week_return.Return  ## создание отдельного массива доходностей (портфель)\n"
   ]
  },
  {
   "cell_type": "code",
   "execution_count": 46,
   "metadata": {},
   "outputs": [],
   "source": [
    "Bench = port_week_return[\n",
    "    '^GSPC']  ## создание отдельного массива доходностей (benchmark)\n"
   ]
  },
  {
   "cell_type": "code",
   "execution_count": 47,
   "metadata": {},
   "outputs": [],
   "source": [
    "RF = port_week_return.RF / 100  ## создание отдельного массива безрисковых ставок\n"
   ]
  },
  {
   "cell_type": "code",
   "execution_count": 48,
   "metadata": {},
   "outputs": [],
   "source": [
    "t = 52  ## количество недель в году\n"
   ]
  },
  {
   "cell_type": "markdown",
   "metadata": {},
   "source": [
    "### Portfolio mean return"
   ]
  },
  {
   "cell_type": "code",
   "execution_count": 49,
   "metadata": {},
   "outputs": [
    {
     "data": {
      "text/plain": [
       "0.0062942248599641695"
      ]
     },
     "execution_count": 49,
     "metadata": {},
     "output_type": "execute_result"
    }
   ],
   "source": [
    "np.mean(Port)"
   ]
  },
  {
   "cell_type": "markdown",
   "metadata": {},
   "source": [
    "### Portfolio annualised return"
   ]
  },
  {
   "cell_type": "markdown",
   "metadata": {},
   "source": [
    "## $r=(\\prod_{i=1}^{i=n}(1+r_i))^\\frac{t}{n}-1$"
   ]
  },
  {
   "cell_type": "code",
   "execution_count": 50,
   "metadata": {},
   "outputs": [
    {
     "data": {
      "text/plain": [
       "0.34002973506319756"
      ]
     },
     "execution_count": 50,
     "metadata": {},
     "output_type": "execute_result"
    }
   ],
   "source": [
    "Port_annualised = annualised_return(Port, t)\n",
    "Port_annualised"
   ]
  },
  {
   "cell_type": "markdown",
   "metadata": {},
   "source": [
    "### Portfolio Volatility"
   ]
  },
  {
   "cell_type": "code",
   "execution_count": 51,
   "metadata": {},
   "outputs": [
    {
     "data": {
      "text/plain": [
       "0.03594213203263802"
      ]
     },
     "execution_count": 51,
     "metadata": {},
     "output_type": "execute_result"
    }
   ],
   "source": [
    "np.std(Port)"
   ]
  },
  {
   "cell_type": "markdown",
   "metadata": {},
   "source": [
    "### Portfolio annualised volatility "
   ]
  },
  {
   "cell_type": "markdown",
   "metadata": {},
   "source": [
    "## $\\sigma_T=\\sigma_t\\sqrt{t}$"
   ]
  },
  {
   "cell_type": "code",
   "execution_count": 52,
   "metadata": {},
   "outputs": [
    {
     "data": {
      "text/plain": [
       "0.25918239998634623"
      ]
     },
     "execution_count": 52,
     "metadata": {},
     "output_type": "execute_result"
    }
   ],
   "source": [
    "np.std(Port) * (t**.5)\n"
   ]
  },
  {
   "cell_type": "markdown",
   "metadata": {},
   "source": [
    "### Benchmark mean return"
   ]
  },
  {
   "cell_type": "code",
   "execution_count": 53,
   "metadata": {},
   "outputs": [
    {
     "data": {
      "text/plain": [
       "0.002149347600458347"
      ]
     },
     "execution_count": 53,
     "metadata": {},
     "output_type": "execute_result"
    }
   ],
   "source": [
    "np.mean(Bench)"
   ]
  },
  {
   "cell_type": "markdown",
   "metadata": {},
   "source": [
    "### Benchmark annualised return"
   ]
  },
  {
   "cell_type": "code",
   "execution_count": 54,
   "metadata": {},
   "outputs": [
    {
     "data": {
      "text/plain": [
       "0.09727437686769491"
      ]
     },
     "execution_count": 54,
     "metadata": {},
     "output_type": "execute_result"
    }
   ],
   "source": [
    "Bench_annualised = annualised_return(Bench, t)\n",
    "Bench_annualised"
   ]
  },
  {
   "cell_type": "markdown",
   "metadata": {},
   "source": [
    "### Benchmark Volatility"
   ]
  },
  {
   "cell_type": "code",
   "execution_count": 55,
   "metadata": {},
   "outputs": [
    {
     "data": {
      "text/plain": [
       "0.02658065708679129"
      ]
     },
     "execution_count": 55,
     "metadata": {},
     "output_type": "execute_result"
    }
   ],
   "source": [
    "np.std(Bench)"
   ]
  },
  {
   "cell_type": "markdown",
   "metadata": {},
   "source": [
    "### Annualised volatility"
   ]
  },
  {
   "cell_type": "code",
   "execution_count": 56,
   "metadata": {},
   "outputs": [
    {
     "data": {
      "text/plain": [
       "0.09727437686769491"
      ]
     },
     "execution_count": 56,
     "metadata": {},
     "output_type": "execute_result"
    }
   ],
   "source": [
    "Bench_annualised = annualised_return(Bench, t)\n",
    "Bench_annualised"
   ]
  },
  {
   "cell_type": "code",
   "execution_count": 57,
   "metadata": {},
   "outputs": [
    {
     "data": {
      "text/plain": [
       "0.1916758441239025"
      ]
     },
     "execution_count": 57,
     "metadata": {},
     "output_type": "execute_result"
    }
   ],
   "source": [
    "np.std(Bench) * t**.5\n"
   ]
  },
  {
   "cell_type": "markdown",
   "metadata": {},
   "source": [
    "### Risk-free annualised return"
   ]
  },
  {
   "cell_type": "code",
   "execution_count": 58,
   "metadata": {},
   "outputs": [
    {
     "data": {
      "text/plain": [
       "0.012160276511834045"
      ]
     },
     "execution_count": 58,
     "metadata": {},
     "output_type": "execute_result"
    }
   ],
   "source": [
    "RF_annualised = annualised_return(RF, t)\n",
    "RF_annualised"
   ]
  },
  {
   "cell_type": "markdown",
   "metadata": {},
   "source": [
    "### Skew and Kurtosis (Ассиметрия и эксцесс)"
   ]
  },
  {
   "cell_type": "markdown",
   "metadata": {},
   "source": [
    "### В дополнение к основным портфельным характеристикам, таким как риск и доходность, в инвестиционном анализе активно испольутся показатели ассиметрии (skew) и эксцесса (kurtosis). Данные показатели основаны на третьем и четвертом центральных моментах распределения. Ассиметрия показывает, в какую сторону смещено распределение, эксцесс - степень островершинности распределения."
   ]
  },
  {
   "cell_type": "code",
   "execution_count": 59,
   "metadata": {},
   "outputs": [
    {
     "data": {
      "text/plain": [
       "-0.3317403837885604"
      ]
     },
     "execution_count": 59,
     "metadata": {},
     "output_type": "execute_result"
    }
   ],
   "source": [
    "stats.skew(Port)"
   ]
  },
  {
   "cell_type": "code",
   "execution_count": 60,
   "metadata": {},
   "outputs": [
    {
     "data": {
      "text/plain": [
       "3.82288486362593"
      ]
     },
     "execution_count": 60,
     "metadata": {},
     "output_type": "execute_result"
    }
   ],
   "source": [
    "stats.kurtosis(Port, fisher=True)"
   ]
  },
  {
   "cell_type": "markdown",
   "metadata": {},
   "source": [
    "### Проверка нормальности распределения"
   ]
  },
  {
   "cell_type": "markdown",
   "metadata": {},
   "source": [
    "### Для проверки соответствия эмпирического распределения теоретическому закону используется большое количество тестов или, так назыаемых, критериев согласия. Непосредственно саму проверку гипотезы удобнее проводить путем сравнения p-value и уровня значимости $\\alpha$ (ошибки первого рода.)"
   ]
  },
  {
   "cell_type": "code",
   "execution_count": 61,
   "metadata": {},
   "outputs": [
    {
     "data": {
      "text/plain": [
       "NormaltestResult(statistic=27.773079077008504, pvalue=9.314348982501404e-07)"
      ]
     },
     "execution_count": 61,
     "metadata": {},
     "output_type": "execute_result"
    }
   ],
   "source": [
    "stats.normaltest(Port)"
   ]
  },
  {
   "cell_type": "markdown",
   "metadata": {},
   "source": [
    "### Hurst Index"
   ]
  },
  {
   "cell_type": "markdown",
   "metadata": {},
   "source": [
    "### Hurst Index дает оценку специфической харатеристики портфеля - mean reversion (возврат к средней). Значение индекса в диапазоне от 0 до 0.5 говорит о том, что доходность портфеля имеет тенденцию возврата к средней (после отрицательных или положительных всплесков доходности происходит возврат к долгосрочному среднему уровню). Значение индекса в диапазоне от 0.5 до 1 свидетельствует об устойчивости тренда в доходности портфеля (persistence). Значение индекса 0.5 говорит о случайном характере поведения доходности (отсутствие каких-либо устойчивых паттернов)."
   ]
  },
  {
   "cell_type": "markdown",
   "metadata": {},
   "source": [
    "## $H=\\frac{log(R/S)}{log(n)}$\n",
    "## $R/S=\\frac{[max(k^r)-min(k^r)]}{\\sigma}$"
   ]
  },
  {
   "cell_type": "code",
   "execution_count": 62,
   "metadata": {},
   "outputs": [],
   "source": [
    "RS = (max(np.cumsum(Port - np.mean(Port))) -\n",
    "      min(np.cumsum(Port - np.mean(Port)))) / np.std(Port)\n"
   ]
  },
  {
   "cell_type": "code",
   "execution_count": 63,
   "metadata": {},
   "outputs": [
    {
     "data": {
      "text/plain": [
       "0.5087920129420357"
      ]
     },
     "execution_count": 63,
     "metadata": {},
     "output_type": "execute_result"
    }
   ],
   "source": [
    "np.log(RS) / np.log(Port.shape[0])\n"
   ]
  },
  {
   "cell_type": "markdown",
   "metadata": {},
   "source": [
    "## 5.2. Классические риск-метрики (simple risk-measures)"
   ]
  },
  {
   "cell_type": "markdown",
   "metadata": {},
   "source": [
    "### Sharpe ratio"
   ]
  },
  {
   "cell_type": "markdown",
   "metadata": {},
   "source": [
    "## $SR=\\frac{\\mu-r_{f}}{\\sigma}$"
   ]
  },
  {
   "cell_type": "code",
   "execution_count": 64,
   "metadata": {},
   "outputs": [
    {
     "data": {
      "text/plain": [
       "1.2650143627369594"
      ]
     },
     "execution_count": 64,
     "metadata": {},
     "output_type": "execute_result"
    }
   ],
   "source": [
    "SR = (annualised_return(Port, t) - annualised_return(RF, t)) / (np.std(Port) *\n",
    "                                                                t**.5)\n",
    "SR"
   ]
  },
  {
   "cell_type": "markdown",
   "metadata": {},
   "source": [
    "### Annualised skews and kurtosis (асимметрия и эксцесс в годовом выражении)"
   ]
  },
  {
   "cell_type": "code",
   "execution_count": 65,
   "metadata": {},
   "outputs": [],
   "source": [
    "skew_an, kurt_an = statistics_annualised(np.mean(Port), np.std(Port),\n",
    "                                         stats.skew(Port),\n",
    "                                         stats.kurtosis(Port, fisher=True), t)\n"
   ]
  },
  {
   "cell_type": "code",
   "execution_count": 66,
   "metadata": {},
   "outputs": [
    {
     "data": {
      "text/plain": [
       "(-0.04600411399583682, 0.07351701660819097)"
      ]
     },
     "execution_count": 66,
     "metadata": {},
     "output_type": "execute_result"
    }
   ],
   "source": [
    "skew_an, kurt_an\n"
   ]
  },
  {
   "cell_type": "markdown",
   "metadata": {},
   "source": [
    "### Modified Sharpe ratio "
   ]
  },
  {
   "cell_type": "markdown",
   "metadata": {},
   "source": [
    "## $SR_{m}=SR[1+SR\\frac{S}{6}+SR^2\\frac{K}{24}]$\n",
    "### K-kurtosis, S-skew"
   ]
  },
  {
   "cell_type": "code",
   "execution_count": 67,
   "metadata": {},
   "outputs": [
    {
     "data": {
      "text/plain": [
       "1.2465435770883737"
      ]
     },
     "execution_count": 67,
     "metadata": {},
     "output_type": "execute_result"
    }
   ],
   "source": [
    "SR * (1 + (skew_an / 6) * SR - (kurt_an / 24) * SR**2)\n"
   ]
  },
  {
   "cell_type": "markdown",
   "metadata": {},
   "source": [
    "## 5.3. Drawdown (снижение стоимости портфеля или \"просадка\")"
   ]
  },
  {
   "cell_type": "markdown",
   "metadata": {},
   "source": [
    "### Drawdown характеризует насколько сильно падает портфель за период наблюдения. Существуют различные варианты измерения просадки. Просадка обычно рассматривается как  непрерывное падение стоимости портфеля. В данном примере рассматривается пример рассчета максимальной просадки."
   ]
  },
  {
   "cell_type": "markdown",
   "metadata": {},
   "source": [
    "### Largest individual drawdown"
   ]
  },
  {
   "cell_type": "code",
   "execution_count": 68,
   "metadata": {},
   "outputs": [
    {
     "name": "stderr",
     "output_type": "stream",
     "text": [
      "C:\\Users\\drouni\\AppData\\Local\\Temp\\ipykernel_19148\\4271539611.py:7: FutureWarning: iteritems is deprecated and will be removed in a future version. Use .items instead.\n",
      "  for index, value in Port.iteritems():\n"
     ]
    }
   ],
   "source": [
    "### losing streak\n",
    "min_drawdown = 1\n",
    "drawdown = 1\n",
    "losing_streak = False\n",
    "date_list = {}\n",
    "date_list_drawdown = {}\n",
    "for index, value in Port.iteritems():\n",
    "    if value < 0:\n",
    "        if losing_streak == False:\n",
    "            losing_streak = True\n",
    "        drawdown *= (1 + value)\n",
    "        date_list[index] = value\n",
    "    else:\n",
    "        if losing_streak == True:\n",
    "            losing_streak = False\n",
    "            if drawdown < min_drawdown:\n",
    "                min_drawdown = drawdown\n",
    "                #print(min_drawdown)\n",
    "                # print(date_list)\n",
    "                date_list_drawdown = date_list.copy()\n",
    "            drawdown = 1\n",
    "            date_list = {}\n"
   ]
  },
  {
   "cell_type": "code",
   "execution_count": 69,
   "metadata": {},
   "outputs": [
    {
     "data": {
      "text/plain": [
       "0.6810912682060632"
      ]
     },
     "execution_count": 69,
     "metadata": {},
     "output_type": "execute_result"
    }
   ],
   "source": [
    "min_drawdown"
   ]
  },
  {
   "cell_type": "code",
   "execution_count": 70,
   "metadata": {},
   "outputs": [],
   "source": [
    "date_list_drawdown = collections.OrderedDict(sorted(\n",
    "    date_list_drawdown.items()))\n"
   ]
  },
  {
   "cell_type": "code",
   "execution_count": 71,
   "metadata": {},
   "outputs": [
    {
     "data": {
      "text/plain": [
       "OrderedDict([(Timestamp('2020-02-21 00:00:00'), -0.023635606143990566),\n",
       "             (Timestamp('2020-02-28 00:00:00'), -0.0971482673160289),\n",
       "             (Timestamp('2020-03-06 00:00:00'), -0.0034260196170907307),\n",
       "             (Timestamp('2020-03-13 00:00:00'), -0.06537801721840247),\n",
       "             (Timestamp('2020-03-20 00:00:00'), -0.17047131599367424)])"
      ]
     },
     "execution_count": 71,
     "metadata": {},
     "output_type": "execute_result"
    }
   ],
   "source": [
    "date_list_drawdown"
   ]
  },
  {
   "cell_type": "code",
   "execution_count": 72,
   "metadata": {},
   "outputs": [
    {
     "data": {
      "text/plain": [
       "Timestamp('2020-03-20 00:00:00')"
      ]
     },
     "execution_count": 72,
     "metadata": {},
     "output_type": "execute_result"
    }
   ],
   "source": [
    "date_last_drawdown = list(date_list_drawdown.keys())[-1]\n",
    "date_last_drawdown"
   ]
  },
  {
   "cell_type": "code",
   "execution_count": 73,
   "metadata": {},
   "outputs": [
    {
     "data": {
      "text/plain": [
       "Timestamp('2020-02-21 00:00:00')"
      ]
     },
     "execution_count": 73,
     "metadata": {},
     "output_type": "execute_result"
    }
   ],
   "source": [
    "date_first_drawdown = list(date_list_drawdown.keys())[0]\n",
    "date_first_drawdown"
   ]
  },
  {
   "cell_type": "code",
   "execution_count": 74,
   "metadata": {},
   "outputs": [
    {
     "name": "stderr",
     "output_type": "stream",
     "text": [
      "C:\\Users\\drouni\\AppData\\Local\\Temp\\ipykernel_19148\\43669095.py:2: FutureWarning: iteritems is deprecated and will be removed in a future version. Use .items instead.\n",
      "  for index, value in Port[Port.index > date_last_drawdown].iteritems():\n"
     ]
    }
   ],
   "source": [
    "product = min_drawdown\n",
    "for index, value in Port[Port.index > date_last_drawdown].iteritems():\n",
    "    product *= (1 + value)\n",
    "    if product >= 1:\n",
    "        recovery_date = index\n",
    "        break"
   ]
  },
  {
   "cell_type": "code",
   "execution_count": 75,
   "metadata": {},
   "outputs": [
    {
     "data": {
      "text/plain": [
       "Timestamp('2020-07-31 00:00:00')"
      ]
     },
     "execution_count": 75,
     "metadata": {},
     "output_type": "execute_result"
    }
   ],
   "source": [
    "recovery_date"
   ]
  },
  {
   "cell_type": "markdown",
   "metadata": {},
   "source": [
    "### Recovery (восстановление после падения)"
   ]
  },
  {
   "cell_type": "markdown",
   "metadata": {},
   "source": [
    "### Помимо самой просадки инвесторам небезинтересно понимать, сколько времения потребуется управляющему для восстановления стоимости портфеля (recovery)."
   ]
  },
  {
   "cell_type": "code",
   "execution_count": 76,
   "metadata": {},
   "outputs": [
    {
     "data": {
      "text/plain": [
       "133"
      ]
     },
     "execution_count": 76,
     "metadata": {},
     "output_type": "execute_result"
    }
   ],
   "source": [
    "(recovery_date - Port.idxmin()).days"
   ]
  },
  {
   "cell_type": "code",
   "execution_count": 77,
   "metadata": {},
   "outputs": [
    {
     "data": {
      "text/plain": [
       "Timestamp('2020-07-30 00:00:00')"
      ]
     },
     "execution_count": 77,
     "metadata": {},
     "output_type": "execute_result"
    }
   ],
   "source": [
    "recovery_date - datetime.timedelta(1)\n"
   ]
  },
  {
   "cell_type": "code",
   "execution_count": 78,
   "metadata": {},
   "outputs": [],
   "source": [
    "df = Port[(Port.index >= date_first_drawdown)\n",
    "          & (Port.index <= recovery_date)] + 1\n"
   ]
  },
  {
   "cell_type": "code",
   "execution_count": 79,
   "metadata": {},
   "outputs": [
    {
     "data": {
      "image/png": "[encoded data removed]",
      "text/plain": [
       "<Figure size 1500x1000 with 1 Axes>"
      ]
     },
     "metadata": {},
     "output_type": "display_data"
    }
   ],
   "source": [
    "plt.figure(figsize=(15, 10))\n",
    "plt.plot(df.cumprod())\n",
    "plt.axhline(y=1, color='r', linestyle='-')\n",
    "plt.title(\"Losing streak and recovery\")\n",
    "plt.show()"
   ]
  },
  {
   "cell_type": "markdown",
   "metadata": {},
   "source": [
    "## 5.4. Portfolio and benchmark"
   ]
  },
  {
   "cell_type": "markdown",
   "metadata": {},
   "source": [
    "### Correlation "
   ]
  },
  {
   "cell_type": "code",
   "execution_count": 80,
   "metadata": {},
   "outputs": [
    {
     "data": {
      "text/plain": [
       "array([[1.        , 0.86941768],\n",
       "       [0.86941768, 1.        ]])"
      ]
     },
     "execution_count": 80,
     "metadata": {},
     "output_type": "execute_result"
    }
   ],
   "source": [
    "np.corrcoef(Port, Bench)\n"
   ]
  },
  {
   "cell_type": "markdown",
   "metadata": {},
   "source": [
    "## R-squared $R^2$"
   ]
  },
  {
   "cell_type": "code",
   "execution_count": 81,
   "metadata": {},
   "outputs": [
    {
     "data": {
      "text/plain": [
       "0.7558870999438287"
      ]
     },
     "execution_count": 81,
     "metadata": {},
     "output_type": "execute_result"
    }
   ],
   "source": [
    "np.corrcoef(Port, Bench)[0, 1]**2\n"
   ]
  },
  {
   "cell_type": "markdown",
   "metadata": {},
   "source": [
    "### Active return"
   ]
  },
  {
   "cell_type": "code",
   "execution_count": 82,
   "metadata": {},
   "outputs": [],
   "source": [
    "AR = Port - Bench\n"
   ]
  },
  {
   "cell_type": "code",
   "execution_count": 83,
   "metadata": {},
   "outputs": [
    {
     "data": {
      "text/plain": [
       "Date\n",
       "2018-01-05    0.024897\n",
       "2018-01-12    0.004906\n",
       "2018-01-19    0.018810\n",
       "2018-01-26    0.000830\n",
       "2018-02-02   -0.010468\n",
       "dtype: float64"
      ]
     },
     "execution_count": 83,
     "metadata": {},
     "output_type": "execute_result"
    }
   ],
   "source": [
    "AR.head()"
   ]
  },
  {
   "cell_type": "code",
   "execution_count": 84,
   "metadata": {},
   "outputs": [
    {
     "data": {
      "image/png": "[encoded data removed]",
      "text/plain": [
       "<Figure size 1500x1000 with 1 Axes>"
      ]
     },
     "metadata": {},
     "output_type": "display_data"
    }
   ],
   "source": [
    "plt.figure(figsize=(15, 10))\n",
    "plt.plot(AR)\n",
    "plt.axhline(y=0, color='r', linestyle='-')\n",
    "plt.title('Active return')\n",
    "plt.show()"
   ]
  },
  {
   "cell_type": "code",
   "execution_count": 85,
   "metadata": {},
   "outputs": [
    {
     "data": {
      "text/plain": [
       "0.004144877259505822"
      ]
     },
     "execution_count": 85,
     "metadata": {},
     "output_type": "execute_result"
    }
   ],
   "source": [
    "AR_mean = np.mean(AR)\n",
    "AR_mean"
   ]
  },
  {
   "cell_type": "markdown",
   "metadata": {},
   "source": [
    "### Ex-post tracking error"
   ]
  },
  {
   "cell_type": "markdown",
   "metadata": {},
   "source": [
    "## $\\sigma_a=\\sqrt{\\frac{\\sum_{j=1}^{j=n} (a_i-\\bar{a})^2}{n}}$\n",
    "### $a_i$ - active (excess) return\n",
    "### $\\bar{a}$ - mean active (excess) return"
   ]
  },
  {
   "cell_type": "code",
   "execution_count": 86,
   "metadata": {},
   "outputs": [
    {
     "data": {
      "text/plain": [
       "0.018361505905140105"
      ]
     },
     "execution_count": 86,
     "metadata": {},
     "output_type": "execute_result"
    }
   ],
   "source": [
    "TR = np.std(AR)\n",
    "TR"
   ]
  },
  {
   "cell_type": "markdown",
   "metadata": {},
   "source": [
    "### Anualised tracking error"
   ]
  },
  {
   "cell_type": "code",
   "execution_count": 87,
   "metadata": {},
   "outputs": [
    {
     "data": {
      "text/plain": [
       "0.13240670207143496"
      ]
     },
     "execution_count": 87,
     "metadata": {},
     "output_type": "execute_result"
    }
   ],
   "source": [
    "TR * t**0.5\n"
   ]
  },
  {
   "cell_type": "markdown",
   "metadata": {},
   "source": [
    "### Information Ratio"
   ]
  },
  {
   "cell_type": "markdown",
   "metadata": {},
   "source": [
    "## $IR=\\frac{\\bar{a}}{\\sigma_a}$"
   ]
  },
  {
   "cell_type": "code",
   "execution_count": 88,
   "metadata": {},
   "outputs": [
    {
     "data": {
      "text/plain": [
       "1.7310303553634139"
      ]
     },
     "execution_count": 88,
     "metadata": {},
     "output_type": "execute_result"
    }
   ],
   "source": [
    "IR = annualised_return(AR, t) / (TR * t**0.5)\n",
    "IR"
   ]
  },
  {
   "cell_type": "markdown",
   "metadata": {},
   "source": [
    "### Up capture indicator - Return"
   ]
  },
  {
   "cell_type": "markdown",
   "metadata": {},
   "source": [
    "## $\\frac{\\bar{r}^+}{\\bar{b}^+}$\n",
    "### $r^+$ - средняя положительная доходность портфеля\n",
    "### $b^+$ - средняя положительная доходность бенчмарка"
   ]
  },
  {
   "cell_type": "markdown",
   "metadata": {},
   "source": [
    "### Индикатор показывает, в какой степени портфель соответствует бенчмарку на растущем рынке (другими словами, насколько опережает или, наоборот, отстает доходность портфеля от доходности бенчмарка при положительном тренде). Чем выше показатель, тем эффективнее портфельный управляющий."
   ]
  },
  {
   "cell_type": "code",
   "execution_count": 89,
   "metadata": {},
   "outputs": [
    {
     "data": {
      "text/plain": [
       "1.6325083261146374"
      ]
     },
     "execution_count": 89,
     "metadata": {},
     "output_type": "execute_result"
    }
   ],
   "source": [
    "np.mean(Port[Port > 0]) / np.mean(Bench[Bench > 0])\n"
   ]
  },
  {
   "cell_type": "markdown",
   "metadata": {},
   "source": [
    "### Down capture indicator - Risk"
   ]
  },
  {
   "cell_type": "markdown",
   "metadata": {},
   "source": [
    "## $\\frac{\\bar{r}^-}{\\bar{b}^-}$\n",
    "### $r^-$ - средняя отрицательная доходность портфеля\n",
    "### $b^-$ - средняя отрицательная доходность бенчмарка"
   ]
  },
  {
   "cell_type": "markdown",
   "metadata": {},
   "source": [
    "### Индикатор показывает, в какой степени портфель соответствует бенчмарку на падающем рынке (другими словами, насколько опережает или, наоборот, отстает доходность портфеля от доходности бенчмарка при негативном тренде). Чем ниже показатель, тем эффективнее портфельный управляющий."
   ]
  },
  {
   "cell_type": "code",
   "execution_count": 90,
   "metadata": {},
   "outputs": [
    {
     "data": {
      "text/plain": [
       "1.2576427421288485"
      ]
     },
     "execution_count": 90,
     "metadata": {},
     "output_type": "execute_result"
    }
   ],
   "source": [
    "np.mean(Port[Port < 0]) / np.mean(Bench[Bench < 0])\n"
   ]
  },
  {
   "cell_type": "markdown",
   "metadata": {},
   "source": [
    "### Up number  ratio"
   ]
  },
  {
   "cell_type": "markdown",
   "metadata": {},
   "source": [
    "### Показывает процентное соотношение между количеством периодов с положительной доходностью портфеля (и одновременно пложительным значением бенчмарка) и общим количеством периодов с положительным значением бенчмарка. Должен стремиться к 100%. Модификация данного индикатора - Up percentage ratio - учитывает активный доход и показывет, в какой степени портфельный управляющий опережает рынок."
   ]
  },
  {
   "cell_type": "code",
   "execution_count": 91,
   "metadata": {},
   "outputs": [
    {
     "data": {
      "text/plain": [
       "Date\n",
       "2018-01-05     True\n",
       "2018-01-12     True\n",
       "2018-01-19     True\n",
       "2018-01-26     True\n",
       "2018-02-02    False\n",
       "              ...  \n",
       "2021-11-26    False\n",
       "2021-12-03    False\n",
       "2021-12-10     True\n",
       "2021-12-17    False\n",
       "2021-12-31     True\n",
       "Length: 201, dtype: bool"
      ]
     },
     "execution_count": 91,
     "metadata": {},
     "output_type": "execute_result"
    }
   ],
   "source": [
    "(Port > 0) & (Bench > 0)\n"
   ]
  },
  {
   "cell_type": "code",
   "execution_count": 92,
   "metadata": {},
   "outputs": [
    {
     "data": {
      "text/plain": [
       "0.8099173553719008"
      ]
     },
     "execution_count": 92,
     "metadata": {},
     "output_type": "execute_result"
    }
   ],
   "source": [
    "np.count_nonzero(((Port) > 0) & (Bench > 0)) / np.count_nonzero(Bench > 0)\n"
   ]
  },
  {
   "cell_type": "markdown",
   "metadata": {},
   "source": [
    "### Down number ratio"
   ]
  },
  {
   "cell_type": "markdown",
   "metadata": {},
   "source": [
    "### Аналогичен предыдущему, используется для характеристики управления портфелем на падающем рынке. Должен стремиться к 0."
   ]
  },
  {
   "cell_type": "code",
   "execution_count": 93,
   "metadata": {},
   "outputs": [
    {
     "data": {
      "text/plain": [
       "0.275"
      ]
     },
     "execution_count": 93,
     "metadata": {},
     "output_type": "execute_result"
    }
   ],
   "source": [
    "np.count_nonzero(((Port) > 0) & (Bench < 0)) / np.count_nonzero(Bench < 0)\n"
   ]
  },
  {
   "cell_type": "markdown",
   "metadata": {},
   "source": [
    "##  5.5. Beta and Jensen's Alpha"
   ]
  },
  {
   "cell_type": "code",
   "execution_count": 94,
   "metadata": {},
   "outputs": [
    {
     "data": {
      "image/png": "[encoded data removed]",
      "text/plain": [
       "<Figure size 1500x1000 with 1 Axes>"
      ]
     },
     "metadata": {},
     "output_type": "display_data"
    }
   ],
   "source": [
    "plt.figure(figsize=(15, 10))\n",
    "plt.scatter(Bench, Port)\n",
    "plt.axhline(y=0, color='black', linestyle='-')\n",
    "plt.axvline(x=0, color='black', linestyle='-')\n",
    "plt.show()"
   ]
  },
  {
   "cell_type": "markdown",
   "metadata": {},
   "source": [
    "## $r-r_f=\\alpha+\\beta(b-r_f)+\\epsilon$"
   ]
  },
  {
   "cell_type": "code",
   "execution_count": 95,
   "metadata": {},
   "outputs": [],
   "source": [
    "Y = Port - RF\n",
    "X = sm.add_constant(np.array(Bench - RF), prepend=True)\n"
   ]
  },
  {
   "cell_type": "code",
   "execution_count": 96,
   "metadata": {},
   "outputs": [
    {
     "data": {
      "text/html": [
       "<table class=\"simpletable\">\n",
       "<caption>OLS Regression Results</caption>\n",
       "<tr>\n",
       "  <th>Dep. Variable:</th>            <td>y</td>        <th>  R-squared:         </th> <td>   0.756</td>\n",
       "</tr>\n",
       "<tr>\n",
       "  <th>Model:</th>                   <td>OLS</td>       <th>  Adj. R-squared:    </th> <td>   0.755</td>\n",
       "</tr>\n",
       "<tr>\n",
       "  <th>Method:</th>             <td>Least Squares</td>  <th>  F-statistic:       </th> <td>   616.8</td>\n",
       "</tr>\n",
       "<tr>\n",
       "  <th>Date:</th>             <td>Fri, 28 Oct 2022</td> <th>  Prob (F-statistic):</th> <td>6.96e-63</td>\n",
       "</tr>\n",
       "<tr>\n",
       "  <th>Time:</th>                 <td>22:45:43</td>     <th>  Log-Likelihood:    </th> <td>  525.01</td>\n",
       "</tr>\n",
       "<tr>\n",
       "  <th>No. Observations:</th>      <td>   201</td>      <th>  AIC:               </th> <td>  -1046.</td>\n",
       "</tr>\n",
       "<tr>\n",
       "  <th>Df Residuals:</th>          <td>   199</td>      <th>  BIC:               </th> <td>  -1039.</td>\n",
       "</tr>\n",
       "<tr>\n",
       "  <th>Df Model:</th>              <td>     1</td>      <th>                     </th>     <td> </td>   \n",
       "</tr>\n",
       "<tr>\n",
       "  <th>Covariance Type:</th>      <td>nonrobust</td>    <th>                     </th>     <td> </td>   \n",
       "</tr>\n",
       "</table>\n",
       "<table class=\"simpletable\">\n",
       "<tr>\n",
       "    <td></td>       <th>coef</th>     <th>std err</th>      <th>t</th>      <th>P>|t|</th>  <th>[0.025</th>    <th>0.975]</th>  \n",
       "</tr>\n",
       "<tr>\n",
       "  <th>const</th> <td>    0.0038</td> <td>    0.001</td> <td>    3.018</td> <td> 0.003</td> <td>    0.001</td> <td>    0.006</td>\n",
       "</tr>\n",
       "<tr>\n",
       "  <th>x1</th>    <td>    1.1755</td> <td>    0.047</td> <td>   24.836</td> <td> 0.000</td> <td>    1.082</td> <td>    1.269</td>\n",
       "</tr>\n",
       "</table>\n",
       "<table class=\"simpletable\">\n",
       "<tr>\n",
       "  <th>Omnibus:</th>       <td>11.662</td> <th>  Durbin-Watson:     </th> <td>   2.172</td>\n",
       "</tr>\n",
       "<tr>\n",
       "  <th>Prob(Omnibus):</th> <td> 0.003</td> <th>  Jarque-Bera (JB):  </th> <td>  15.345</td>\n",
       "</tr>\n",
       "<tr>\n",
       "  <th>Skew:</th>          <td>-0.403</td> <th>  Prob(JB):          </th> <td>0.000465</td>\n",
       "</tr>\n",
       "<tr>\n",
       "  <th>Kurtosis:</th>      <td> 4.087</td> <th>  Cond. No.          </th> <td>    37.6</td>\n",
       "</tr>\n",
       "</table><br/><br/>Notes:<br/>[1] Standard Errors assume that the covariance matrix of the errors is correctly specified."
      ],
      "text/plain": [
       "<class 'statsmodels.iolib.summary.Summary'>\n",
       "\"\"\"\n",
       "                            OLS Regression Results                            \n",
       "==============================================================================\n",
       "Dep. Variable:                      y   R-squared:                       0.756\n",
       "Model:                            OLS   Adj. R-squared:                  0.755\n",
       "Method:                 Least Squares   F-statistic:                     616.8\n",
       "Date:                Fri, 28 Oct 2022   Prob (F-statistic):           6.96e-63\n",
       "Time:                        22:45:43   Log-Likelihood:                 525.01\n",
       "No. Observations:                 201   AIC:                            -1046.\n",
       "Df Residuals:                     199   BIC:                            -1039.\n",
       "Df Model:                           1                                         \n",
       "Covariance Type:            nonrobust                                         \n",
       "==============================================================================\n",
       "                 coef    std err          t      P>|t|      [0.025      0.975]\n",
       "------------------------------------------------------------------------------\n",
       "const          0.0038      0.001      3.018      0.003       0.001       0.006\n",
       "x1             1.1755      0.047     24.836      0.000       1.082       1.269\n",
       "==============================================================================\n",
       "Omnibus:                       11.662   Durbin-Watson:                   2.172\n",
       "Prob(Omnibus):                  0.003   Jarque-Bera (JB):               15.345\n",
       "Skew:                          -0.403   Prob(JB):                     0.000465\n",
       "Kurtosis:                       4.087   Cond. No.                         37.6\n",
       "==============================================================================\n",
       "\n",
       "Notes:\n",
       "[1] Standard Errors assume that the covariance matrix of the errors is correctly specified.\n",
       "\"\"\""
      ]
     },
     "execution_count": 96,
     "metadata": {},
     "output_type": "execute_result"
    }
   ],
   "source": [
    "sm.OLS(Y, X).fit().summary()\n"
   ]
  },
  {
   "cell_type": "code",
   "execution_count": 97,
   "metadata": {},
   "outputs": [
    {
     "data": {
      "text/plain": [
       "1.175522090022819"
      ]
     },
     "execution_count": 97,
     "metadata": {},
     "output_type": "execute_result"
    }
   ],
   "source": [
    "beta = list(sm.OLS(Y, X).fit().params)[1]\n",
    "beta"
   ]
  },
  {
   "cell_type": "code",
   "execution_count": 98,
   "metadata": {},
   "outputs": [
    {
     "data": {
      "text/plain": [
       "0.0038084259793075724"
      ]
     },
     "execution_count": 98,
     "metadata": {},
     "output_type": "execute_result"
    }
   ],
   "source": [
    "alpha = list(sm.OLS(Y, X).fit().params)[0]\n",
    "alpha"
   ]
  },
  {
   "cell_type": "markdown",
   "metadata": {},
   "source": [
    "### Annualised alpha"
   ]
  },
  {
   "cell_type": "code",
   "execution_count": 99,
   "metadata": {},
   "outputs": [
    {
     "data": {
      "text/plain": [
       "0.22781595341063"
      ]
     },
     "execution_count": 99,
     "metadata": {},
     "output_type": "execute_result"
    }
   ],
   "source": [
    "a_alpha = (annualised_return(Port, t) - annualised_return(\n",
    "    RF, t)) - beta * (annualised_return(Bench, t) - annualised_return(RF, t))\n",
    "a_alpha"
   ]
  },
  {
   "cell_type": "markdown",
   "metadata": {},
   "source": [
    "### Systematic and Specific Risks"
   ]
  },
  {
   "cell_type": "code",
   "execution_count": null,
   "metadata": {},
   "outputs": [],
   "source": []
  },
  {
   "cell_type": "markdown",
   "metadata": {},
   "source": [
    "## $\\sigma^2=\\sigma^2_S+\\sigma^2_\\epsilon=\\beta^2\\sigma^2_b+\\sigma^2_\\epsilon$\n",
    "### $\\sigma^2$ - Total risk\n",
    "### $\\sigma^2_S$ - Systematic risk\n",
    "### $\\sigma^2_\\epsilon$ - Specific risk"
   ]
  },
  {
   "cell_type": "markdown",
   "metadata": {},
   "source": [
    "### Specific risk"
   ]
  },
  {
   "cell_type": "code",
   "execution_count": 100,
   "metadata": {},
   "outputs": [],
   "source": [
    "spec_r = sm.OLS(Y, X).fit().mse_resid\n"
   ]
  },
  {
   "cell_type": "markdown",
   "metadata": {},
   "source": [
    "### Systematic risk"
   ]
  },
  {
   "cell_type": "code",
   "execution_count": 101,
   "metadata": {},
   "outputs": [
    {
     "data": {
      "text/plain": [
       "0.031265143609070976"
      ]
     },
     "execution_count": 101,
     "metadata": {},
     "output_type": "execute_result"
    }
   ],
   "source": [
    "syst_r = beta * np.std(Bench - RF)\n",
    "syst_r"
   ]
  },
  {
   "cell_type": "markdown",
   "metadata": {},
   "source": [
    "### Total risk"
   ]
  },
  {
   "cell_type": "code",
   "execution_count": 102,
   "metadata": {},
   "outputs": [
    {
     "data": {
      "text/plain": [
       "0.0012928608124136171"
      ]
     },
     "execution_count": 102,
     "metadata": {},
     "output_type": "execute_result"
    }
   ],
   "source": [
    "total_r = np.std(Port - RF)**2\n",
    "total_r"
   ]
  },
  {
   "cell_type": "code",
   "execution_count": 103,
   "metadata": {},
   "outputs": [
    {
     "data": {
      "text/plain": [
       "0.0012960301753032427"
      ]
     },
     "execution_count": 103,
     "metadata": {},
     "output_type": "execute_result"
    }
   ],
   "source": [
    "syst_r**2 + spec_r\n"
   ]
  },
  {
   "cell_type": "code",
   "execution_count": 104,
   "metadata": {},
   "outputs": [
    {
     "data": {
      "text/plain": [
       "0.0012928608124136167"
      ]
     },
     "execution_count": 104,
     "metadata": {},
     "output_type": "execute_result"
    }
   ],
   "source": [
    "syst_r**2 + spec_r * 199 / 201\n"
   ]
  },
  {
   "cell_type": "markdown",
   "metadata": {},
   "source": [
    "### Treynor ratio"
   ]
  },
  {
   "cell_type": "markdown",
   "metadata": {},
   "source": [
    "## $TR=\\frac{\\mu-r_{f}}{\\beta}$"
   ]
  },
  {
   "cell_type": "code",
   "execution_count": 105,
   "metadata": {},
   "outputs": [
    {
     "data": {
      "text/plain": [
       "0.278913906709315"
      ]
     },
     "execution_count": 105,
     "metadata": {},
     "output_type": "execute_result"
    }
   ],
   "source": [
    "(annualised_return(Port, t) - annualised_return(RF, t)) / beta\n"
   ]
  },
  {
   "cell_type": "markdown",
   "metadata": {},
   "source": [
    "### Modified Treynor ratio"
   ]
  },
  {
   "cell_type": "markdown",
   "metadata": {},
   "source": [
    "## $TR=\\frac{\\mu-r_{f}}{\\sigma_s}$\n",
    "### $\\sigma_s$ - systematic risk"
   ]
  },
  {
   "cell_type": "code",
   "execution_count": 106,
   "metadata": {},
   "outputs": [
    {
     "data": {
      "text/plain": [
       "1.4542493013044655"
      ]
     },
     "execution_count": 106,
     "metadata": {},
     "output_type": "execute_result"
    }
   ],
   "source": [
    "(annualised_return(Port, t) - annualised_return(RF, t)) / (syst_r * (t**.5))\n"
   ]
  },
  {
   "cell_type": "markdown",
   "metadata": {},
   "source": [
    "### Appraisal ratio"
   ]
  },
  {
   "cell_type": "markdown",
   "metadata": {},
   "source": [
    "# $\\frac{\\alpha}{\\sigma_\\epsilon}$\n",
    "### $\\sigma_\\epsilon$ - specific risk"
   ]
  },
  {
   "cell_type": "code",
   "execution_count": 107,
   "metadata": {},
   "outputs": [
    {
     "data": {
      "text/plain": [
       "1.7701637648188637"
      ]
     },
     "execution_count": 107,
     "metadata": {},
     "output_type": "execute_result"
    }
   ],
   "source": [
    "a_alpha / ((spec_r * t)**.5)\n"
   ]
  },
  {
   "cell_type": "markdown",
   "metadata": {},
   "source": [
    "## 5.6. Regression models"
   ]
  },
  {
   "cell_type": "markdown",
   "metadata": {},
   "source": [
    "### Market timing "
   ]
  },
  {
   "cell_type": "markdown",
   "metadata": {},
   "source": [
    "### Модель Teynor-Mazuy расширяет традиционный подход CAPM за счет включения в уравнение квадрата разности бенчмарка и безрисковой ставки. Положительное значение коэффициента $\\gamma$ говорит о хороших предсказательных способностях стратегии с точки зрения времени входа/выхода."
   ]
  },
  {
   "cell_type": "markdown",
   "metadata": {},
   "source": [
    "## $r-r_f=\\alpha+\\beta(b-r_f)+\\gamma(b-r_f)^2+\\epsilon$"
   ]
  },
  {
   "cell_type": "code",
   "execution_count": 108,
   "metadata": {},
   "outputs": [],
   "source": [
    "Y = np.array(Port - RF)\n",
    "X = sm.add_constant(np.array([Bench - RF, (Bench - RF)**2]).T, prepend=True)\n"
   ]
  },
  {
   "cell_type": "code",
   "execution_count": 109,
   "metadata": {},
   "outputs": [
    {
     "data": {
      "text/html": [
       "<table class=\"simpletable\">\n",
       "<caption>OLS Regression Results</caption>\n",
       "<tr>\n",
       "  <th>Dep. Variable:</th>            <td>y</td>        <th>  R-squared:         </th> <td>   0.765</td>\n",
       "</tr>\n",
       "<tr>\n",
       "  <th>Model:</th>                   <td>OLS</td>       <th>  Adj. R-squared:    </th> <td>   0.763</td>\n",
       "</tr>\n",
       "<tr>\n",
       "  <th>Method:</th>             <td>Least Squares</td>  <th>  F-statistic:       </th> <td>   322.8</td>\n",
       "</tr>\n",
       "<tr>\n",
       "  <th>Date:</th>             <td>Fri, 28 Oct 2022</td> <th>  Prob (F-statistic):</th> <td>4.80e-63</td>\n",
       "</tr>\n",
       "<tr>\n",
       "  <th>Time:</th>                 <td>22:45:46</td>     <th>  Log-Likelihood:    </th> <td>  528.88</td>\n",
       "</tr>\n",
       "<tr>\n",
       "  <th>No. Observations:</th>      <td>   201</td>      <th>  AIC:               </th> <td>  -1052.</td>\n",
       "</tr>\n",
       "<tr>\n",
       "  <th>Df Residuals:</th>          <td>   198</td>      <th>  BIC:               </th> <td>  -1042.</td>\n",
       "</tr>\n",
       "<tr>\n",
       "  <th>Df Model:</th>              <td>     2</td>      <th>                     </th>     <td> </td>   \n",
       "</tr>\n",
       "<tr>\n",
       "  <th>Covariance Type:</th>      <td>nonrobust</td>    <th>                     </th>     <td> </td>   \n",
       "</tr>\n",
       "</table>\n",
       "<table class=\"simpletable\">\n",
       "<tr>\n",
       "    <td></td>       <th>coef</th>     <th>std err</th>      <th>t</th>      <th>P>|t|</th>  <th>[0.025</th>    <th>0.975]</th>  \n",
       "</tr>\n",
       "<tr>\n",
       "  <th>const</th> <td>    0.0024</td> <td>    0.001</td> <td>    1.813</td> <td> 0.071</td> <td>   -0.000</td> <td>    0.005</td>\n",
       "</tr>\n",
       "<tr>\n",
       "  <th>x1</th>    <td>    1.2352</td> <td>    0.051</td> <td>   24.111</td> <td> 0.000</td> <td>    1.134</td> <td>    1.336</td>\n",
       "</tr>\n",
       "<tr>\n",
       "  <th>x2</th>    <td>    1.7865</td> <td>    0.641</td> <td>    2.788</td> <td> 0.006</td> <td>    0.523</td> <td>    3.050</td>\n",
       "</tr>\n",
       "</table>\n",
       "<table class=\"simpletable\">\n",
       "<tr>\n",
       "  <th>Omnibus:</th>       <td>16.726</td> <th>  Durbin-Watson:     </th> <td>   2.167</td>\n",
       "</tr>\n",
       "<tr>\n",
       "  <th>Prob(Omnibus):</th> <td> 0.000</td> <th>  Jarque-Bera (JB):  </th> <td>  23.705</td>\n",
       "</tr>\n",
       "<tr>\n",
       "  <th>Skew:</th>          <td>-0.525</td> <th>  Prob(JB):          </th> <td>7.12e-06</td>\n",
       "</tr>\n",
       "<tr>\n",
       "  <th>Kurtosis:</th>      <td> 4.314</td> <th>  Cond. No.          </th> <td>    518.</td>\n",
       "</tr>\n",
       "</table><br/><br/>Notes:<br/>[1] Standard Errors assume that the covariance matrix of the errors is correctly specified."
      ],
      "text/plain": [
       "<class 'statsmodels.iolib.summary.Summary'>\n",
       "\"\"\"\n",
       "                            OLS Regression Results                            \n",
       "==============================================================================\n",
       "Dep. Variable:                      y   R-squared:                       0.765\n",
       "Model:                            OLS   Adj. R-squared:                  0.763\n",
       "Method:                 Least Squares   F-statistic:                     322.8\n",
       "Date:                Fri, 28 Oct 2022   Prob (F-statistic):           4.80e-63\n",
       "Time:                        22:45:46   Log-Likelihood:                 528.88\n",
       "No. Observations:                 201   AIC:                            -1052.\n",
       "Df Residuals:                     198   BIC:                            -1042.\n",
       "Df Model:                           2                                         \n",
       "Covariance Type:            nonrobust                                         \n",
       "==============================================================================\n",
       "                 coef    std err          t      P>|t|      [0.025      0.975]\n",
       "------------------------------------------------------------------------------\n",
       "const          0.0024      0.001      1.813      0.071      -0.000       0.005\n",
       "x1             1.2352      0.051     24.111      0.000       1.134       1.336\n",
       "x2             1.7865      0.641      2.788      0.006       0.523       3.050\n",
       "==============================================================================\n",
       "Omnibus:                       16.726   Durbin-Watson:                   2.167\n",
       "Prob(Omnibus):                  0.000   Jarque-Bera (JB):               23.705\n",
       "Skew:                          -0.525   Prob(JB):                     7.12e-06\n",
       "Kurtosis:                       4.314   Cond. No.                         518.\n",
       "==============================================================================\n",
       "\n",
       "Notes:\n",
       "[1] Standard Errors assume that the covariance matrix of the errors is correctly specified.\n",
       "\"\"\""
      ]
     },
     "execution_count": 109,
     "metadata": {},
     "output_type": "execute_result"
    }
   ],
   "source": [
    "sm.OLS(Y, X).fit().summary()\n"
   ]
  },
  {
   "cell_type": "markdown",
   "metadata": {},
   "source": [
    "### Модель Henriksson-Merton также расширяет традиционный подход CAPM за счет добавления в уравнение второй перменной, соответствующей платежной функции опциона."
   ]
  },
  {
   "cell_type": "markdown",
   "metadata": {},
   "source": [
    "##  $r-r_f=\\alpha+\\beta(b-r_f)+\\gamma max(0,b-r_f)+\\epsilon$"
   ]
  },
  {
   "cell_type": "code",
   "execution_count": 110,
   "metadata": {},
   "outputs": [],
   "source": [
    "Y = Port - RF\n",
    "X = sm.add_constant(np.concatenate(\n",
    "    (np.array([Bench - RF]).T, np.maximum(0, np.array([Bench - RF])).T),\n",
    "    axis=1),\n",
    "                    prepend=True)\n"
   ]
  },
  {
   "cell_type": "code",
   "execution_count": 111,
   "metadata": {},
   "outputs": [
    {
     "data": {
      "text/html": [
       "<table class=\"simpletable\">\n",
       "<caption>OLS Regression Results</caption>\n",
       "<tr>\n",
       "  <th>Dep. Variable:</th>            <td>y</td>        <th>  R-squared:         </th> <td>   0.764</td>\n",
       "</tr>\n",
       "<tr>\n",
       "  <th>Model:</th>                   <td>OLS</td>       <th>  Adj. R-squared:    </th> <td>   0.762</td>\n",
       "</tr>\n",
       "<tr>\n",
       "  <th>Method:</th>             <td>Least Squares</td>  <th>  F-statistic:       </th> <td>   320.4</td>\n",
       "</tr>\n",
       "<tr>\n",
       "  <th>Date:</th>             <td>Fri, 28 Oct 2022</td> <th>  Prob (F-statistic):</th> <td>8.39e-63</td>\n",
       "</tr>\n",
       "<tr>\n",
       "  <th>Time:</th>                 <td>22:45:46</td>     <th>  Log-Likelihood:    </th> <td>  528.31</td>\n",
       "</tr>\n",
       "<tr>\n",
       "  <th>No. Observations:</th>      <td>   201</td>      <th>  AIC:               </th> <td>  -1051.</td>\n",
       "</tr>\n",
       "<tr>\n",
       "  <th>Df Residuals:</th>          <td>   198</td>      <th>  BIC:               </th> <td>  -1041.</td>\n",
       "</tr>\n",
       "<tr>\n",
       "  <th>Df Model:</th>              <td>     2</td>      <th>                     </th>     <td> </td>   \n",
       "</tr>\n",
       "<tr>\n",
       "  <th>Covariance Type:</th>      <td>nonrobust</td>    <th>                     </th>     <td> </td>   \n",
       "</tr>\n",
       "</table>\n",
       "<table class=\"simpletable\">\n",
       "<tr>\n",
       "    <td></td>       <th>coef</th>     <th>std err</th>      <th>t</th>      <th>P>|t|</th>  <th>[0.025</th>    <th>0.975]</th>  \n",
       "</tr>\n",
       "<tr>\n",
       "  <th>const</th> <td>    0.0006</td> <td>    0.002</td> <td>    0.314</td> <td> 0.754</td> <td>   -0.003</td> <td>    0.004</td>\n",
       "</tr>\n",
       "<tr>\n",
       "  <th>x1</th>    <td>    1.0393</td> <td>    0.071</td> <td>   14.720</td> <td> 0.000</td> <td>    0.900</td> <td>    1.178</td>\n",
       "</tr>\n",
       "<tr>\n",
       "  <th>x2</th>    <td>    0.3459</td> <td>    0.134</td> <td>    2.572</td> <td> 0.011</td> <td>    0.081</td> <td>    0.611</td>\n",
       "</tr>\n",
       "</table>\n",
       "<table class=\"simpletable\">\n",
       "<tr>\n",
       "  <th>Omnibus:</th>       <td>17.402</td> <th>  Durbin-Watson:     </th> <td>   2.152</td>\n",
       "</tr>\n",
       "<tr>\n",
       "  <th>Prob(Omnibus):</th> <td> 0.000</td> <th>  Jarque-Bera (JB):  </th> <td>  24.757</td>\n",
       "</tr>\n",
       "<tr>\n",
       "  <th>Skew:</th>          <td>-0.542</td> <th>  Prob(JB):          </th> <td>4.21e-06</td>\n",
       "</tr>\n",
       "<tr>\n",
       "  <th>Kurtosis:</th>      <td> 4.334</td> <th>  Cond. No.          </th> <td>    117.</td>\n",
       "</tr>\n",
       "</table><br/><br/>Notes:<br/>[1] Standard Errors assume that the covariance matrix of the errors is correctly specified."
      ],
      "text/plain": [
       "<class 'statsmodels.iolib.summary.Summary'>\n",
       "\"\"\"\n",
       "                            OLS Regression Results                            \n",
       "==============================================================================\n",
       "Dep. Variable:                      y   R-squared:                       0.764\n",
       "Model:                            OLS   Adj. R-squared:                  0.762\n",
       "Method:                 Least Squares   F-statistic:                     320.4\n",
       "Date:                Fri, 28 Oct 2022   Prob (F-statistic):           8.39e-63\n",
       "Time:                        22:45:46   Log-Likelihood:                 528.31\n",
       "No. Observations:                 201   AIC:                            -1051.\n",
       "Df Residuals:                     198   BIC:                            -1041.\n",
       "Df Model:                           2                                         \n",
       "Covariance Type:            nonrobust                                         \n",
       "==============================================================================\n",
       "                 coef    std err          t      P>|t|      [0.025      0.975]\n",
       "------------------------------------------------------------------------------\n",
       "const          0.0006      0.002      0.314      0.754      -0.003       0.004\n",
       "x1             1.0393      0.071     14.720      0.000       0.900       1.178\n",
       "x2             0.3459      0.134      2.572      0.011       0.081       0.611\n",
       "==============================================================================\n",
       "Omnibus:                       17.402   Durbin-Watson:                   2.152\n",
       "Prob(Omnibus):                  0.000   Jarque-Bera (JB):               24.757\n",
       "Skew:                          -0.542   Prob(JB):                     4.21e-06\n",
       "Kurtosis:                       4.334   Cond. No.                         117.\n",
       "==============================================================================\n",
       "\n",
       "Notes:\n",
       "[1] Standard Errors assume that the covariance matrix of the errors is correctly specified.\n",
       "\"\"\""
      ]
     },
     "execution_count": 111,
     "metadata": {},
     "output_type": "execute_result"
    }
   ],
   "source": [
    "sm.OLS(Y, X).fit().summary()\n"
   ]
  },
  {
   "cell_type": "markdown",
   "metadata": {},
   "source": [
    "### Bear beta $\\beta^{-}$"
   ]
  },
  {
   "cell_type": "code",
   "execution_count": 112,
   "metadata": {},
   "outputs": [],
   "source": [
    "df = pd.DataFrame({'Port': Port - RF, 'Bench': Bench - RF})\n"
   ]
  },
  {
   "cell_type": "code",
   "execution_count": 113,
   "metadata": {},
   "outputs": [
    {
     "data": {
      "text/html": [
       "<div>\n",
       "<style scoped>\n",
       "    .dataframe tbody tr th:only-of-type {\n",
       "        vertical-align: middle;\n",
       "    }\n",
       "\n",
       "    .dataframe tbody tr th {\n",
       "        vertical-align: top;\n",
       "    }\n",
       "\n",
       "    .dataframe thead th {\n",
       "        text-align: right;\n",
       "    }\n",
       "</style>\n",
       "<table border=\"1\" class=\"dataframe\">\n",
       "  <thead>\n",
       "    <tr style=\"text-align: right;\">\n",
       "      <th></th>\n",
       "      <th>Port</th>\n",
       "      <th>Bench</th>\n",
       "    </tr>\n",
       "    <tr>\n",
       "      <th>Date</th>\n",
       "      <th></th>\n",
       "      <th></th>\n",
       "    </tr>\n",
       "  </thead>\n",
       "  <tbody>\n",
       "    <tr>\n",
       "      <th>2018-02-02</th>\n",
       "      <td>-0.049295</td>\n",
       "      <td>-0.038827</td>\n",
       "    </tr>\n",
       "    <tr>\n",
       "      <th>2018-02-09</th>\n",
       "      <td>-0.042348</td>\n",
       "      <td>-0.051900</td>\n",
       "    </tr>\n",
       "    <tr>\n",
       "      <th>2018-03-02</th>\n",
       "      <td>-0.003613</td>\n",
       "      <td>-0.020692</td>\n",
       "    </tr>\n",
       "    <tr>\n",
       "      <th>2018-03-16</th>\n",
       "      <td>-0.009386</td>\n",
       "      <td>-0.012692</td>\n",
       "    </tr>\n",
       "    <tr>\n",
       "      <th>2018-03-23</th>\n",
       "      <td>-0.060176</td>\n",
       "      <td>-0.059792</td>\n",
       "    </tr>\n",
       "  </tbody>\n",
       "</table>\n",
       "</div>"
      ],
      "text/plain": [
       "                Port     Bench\n",
       "Date                          \n",
       "2018-02-02 -0.049295 -0.038827\n",
       "2018-02-09 -0.042348 -0.051900\n",
       "2018-03-02 -0.003613 -0.020692\n",
       "2018-03-16 -0.009386 -0.012692\n",
       "2018-03-23 -0.060176 -0.059792"
      ]
     },
     "execution_count": 113,
     "metadata": {},
     "output_type": "execute_result"
    }
   ],
   "source": [
    "df[(df.Bench < 0) & (df.Port < 0)].head()\n"
   ]
  },
  {
   "cell_type": "code",
   "execution_count": 114,
   "metadata": {},
   "outputs": [],
   "source": [
    "Y = df[(df.Bench < 0) & (df.Port < 0)]['Port']\n",
    "X = df[(df.Bench < 0) & (df.Port < 0)]['Bench']\n"
   ]
  },
  {
   "cell_type": "code",
   "execution_count": 115,
   "metadata": {},
   "outputs": [],
   "source": [
    "X = sm.add_constant(X, prepend=True)\n"
   ]
  },
  {
   "cell_type": "code",
   "execution_count": 116,
   "metadata": {},
   "outputs": [
    {
     "data": {
      "text/html": [
       "<table class=\"simpletable\">\n",
       "<caption>OLS Regression Results</caption>\n",
       "<tr>\n",
       "  <th>Dep. Variable:</th>          <td>Port</td>       <th>  R-squared:         </th> <td>   0.754</td>\n",
       "</tr>\n",
       "<tr>\n",
       "  <th>Model:</th>                   <td>OLS</td>       <th>  Adj. R-squared:    </th> <td>   0.749</td>\n",
       "</tr>\n",
       "<tr>\n",
       "  <th>Method:</th>             <td>Least Squares</td>  <th>  F-statistic:       </th> <td>   174.3</td>\n",
       "</tr>\n",
       "<tr>\n",
       "  <th>Date:</th>             <td>Fri, 28 Oct 2022</td> <th>  Prob (F-statistic):</th> <td>5.56e-19</td>\n",
       "</tr>\n",
       "<tr>\n",
       "  <th>Time:</th>                 <td>22:45:47</td>     <th>  Log-Likelihood:    </th> <td>  168.26</td>\n",
       "</tr>\n",
       "<tr>\n",
       "  <th>No. Observations:</th>      <td>    59</td>      <th>  AIC:               </th> <td>  -332.5</td>\n",
       "</tr>\n",
       "<tr>\n",
       "  <th>Df Residuals:</th>          <td>    57</td>      <th>  BIC:               </th> <td>  -328.4</td>\n",
       "</tr>\n",
       "<tr>\n",
       "  <th>Df Model:</th>              <td>     1</td>      <th>                     </th>     <td> </td>   \n",
       "</tr>\n",
       "<tr>\n",
       "  <th>Covariance Type:</th>      <td>nonrobust</td>    <th>                     </th>     <td> </td>   \n",
       "</tr>\n",
       "</table>\n",
       "<table class=\"simpletable\">\n",
       "<tr>\n",
       "    <td></td>       <th>coef</th>     <th>std err</th>      <th>t</th>      <th>P>|t|</th>  <th>[0.025</th>    <th>0.975]</th>  \n",
       "</tr>\n",
       "<tr>\n",
       "  <th>const</th> <td>   -0.0090</td> <td>    0.003</td> <td>   -3.552</td> <td> 0.001</td> <td>   -0.014</td> <td>   -0.004</td>\n",
       "</tr>\n",
       "<tr>\n",
       "  <th>Bench</th> <td>    0.9053</td> <td>    0.069</td> <td>   13.202</td> <td> 0.000</td> <td>    0.768</td> <td>    1.043</td>\n",
       "</tr>\n",
       "</table>\n",
       "<table class=\"simpletable\">\n",
       "<tr>\n",
       "  <th>Omnibus:</th>       <td> 0.305</td> <th>  Durbin-Watson:     </th> <td>   1.743</td>\n",
       "</tr>\n",
       "<tr>\n",
       "  <th>Prob(Omnibus):</th> <td> 0.859</td> <th>  Jarque-Bera (JB):  </th> <td>   0.428</td>\n",
       "</tr>\n",
       "<tr>\n",
       "  <th>Skew:</th>          <td>-0.153</td> <th>  Prob(JB):          </th> <td>   0.807</td>\n",
       "</tr>\n",
       "<tr>\n",
       "  <th>Kurtosis:</th>      <td> 2.716</td> <th>  Cond. No.          </th> <td>    37.1</td>\n",
       "</tr>\n",
       "</table><br/><br/>Notes:<br/>[1] Standard Errors assume that the covariance matrix of the errors is correctly specified."
      ],
      "text/plain": [
       "<class 'statsmodels.iolib.summary.Summary'>\n",
       "\"\"\"\n",
       "                            OLS Regression Results                            \n",
       "==============================================================================\n",
       "Dep. Variable:                   Port   R-squared:                       0.754\n",
       "Model:                            OLS   Adj. R-squared:                  0.749\n",
       "Method:                 Least Squares   F-statistic:                     174.3\n",
       "Date:                Fri, 28 Oct 2022   Prob (F-statistic):           5.56e-19\n",
       "Time:                        22:45:47   Log-Likelihood:                 168.26\n",
       "No. Observations:                  59   AIC:                            -332.5\n",
       "Df Residuals:                      57   BIC:                            -328.4\n",
       "Df Model:                           1                                         \n",
       "Covariance Type:            nonrobust                                         \n",
       "==============================================================================\n",
       "                 coef    std err          t      P>|t|      [0.025      0.975]\n",
       "------------------------------------------------------------------------------\n",
       "const         -0.0090      0.003     -3.552      0.001      -0.014      -0.004\n",
       "Bench          0.9053      0.069     13.202      0.000       0.768       1.043\n",
       "==============================================================================\n",
       "Omnibus:                        0.305   Durbin-Watson:                   1.743\n",
       "Prob(Omnibus):                  0.859   Jarque-Bera (JB):                0.428\n",
       "Skew:                          -0.153   Prob(JB):                        0.807\n",
       "Kurtosis:                       2.716   Cond. No.                         37.1\n",
       "==============================================================================\n",
       "\n",
       "Notes:\n",
       "[1] Standard Errors assume that the covariance matrix of the errors is correctly specified.\n",
       "\"\"\""
      ]
     },
     "execution_count": 116,
     "metadata": {},
     "output_type": "execute_result"
    }
   ],
   "source": [
    "sm.OLS(Y, X).fit().summary()\n"
   ]
  },
  {
   "cell_type": "code",
   "execution_count": 117,
   "metadata": {},
   "outputs": [],
   "source": [
    "beta_down = list(sm.OLS(Y, X).fit().params)[1]\n"
   ]
  },
  {
   "cell_type": "markdown",
   "metadata": {},
   "source": [
    "### Bull beta $\\beta^{+}$"
   ]
  },
  {
   "cell_type": "code",
   "execution_count": 118,
   "metadata": {},
   "outputs": [],
   "source": [
    "Y = df[(df.Bench > 0) & (df.Port > 0)]['Port']\n",
    "X = df[(df.Bench > 0) & (df.Port > 0)]['Bench']\n"
   ]
  },
  {
   "cell_type": "code",
   "execution_count": 119,
   "metadata": {},
   "outputs": [],
   "source": [
    "X = sm.add_constant(X, prepend=True)\n"
   ]
  },
  {
   "cell_type": "code",
   "execution_count": 120,
   "metadata": {},
   "outputs": [
    {
     "data": {
      "text/html": [
       "<table class=\"simpletable\">\n",
       "<caption>OLS Regression Results</caption>\n",
       "<tr>\n",
       "  <th>Dep. Variable:</th>          <td>Port</td>       <th>  R-squared:         </th> <td>   0.622</td>\n",
       "</tr>\n",
       "<tr>\n",
       "  <th>Model:</th>                   <td>OLS</td>       <th>  Adj. R-squared:    </th> <td>   0.618</td>\n",
       "</tr>\n",
       "<tr>\n",
       "  <th>Method:</th>             <td>Least Squares</td>  <th>  F-statistic:       </th> <td>   154.4</td>\n",
       "</tr>\n",
       "<tr>\n",
       "  <th>Date:</th>             <td>Fri, 28 Oct 2022</td> <th>  Prob (F-statistic):</th> <td>1.51e-21</td>\n",
       "</tr>\n",
       "<tr>\n",
       "  <th>Time:</th>                 <td>22:45:47</td>     <th>  Log-Likelihood:    </th> <td>  271.75</td>\n",
       "</tr>\n",
       "<tr>\n",
       "  <th>No. Observations:</th>      <td>    96</td>      <th>  AIC:               </th> <td>  -539.5</td>\n",
       "</tr>\n",
       "<tr>\n",
       "  <th>Df Residuals:</th>          <td>    94</td>      <th>  BIC:               </th> <td>  -534.4</td>\n",
       "</tr>\n",
       "<tr>\n",
       "  <th>Df Model:</th>              <td>     1</td>      <th>                     </th>     <td> </td>   \n",
       "</tr>\n",
       "<tr>\n",
       "  <th>Covariance Type:</th>      <td>nonrobust</td>    <th>                     </th>     <td> </td>   \n",
       "</tr>\n",
       "</table>\n",
       "<table class=\"simpletable\">\n",
       "<tr>\n",
       "    <td></td>       <th>coef</th>     <th>std err</th>      <th>t</th>      <th>P>|t|</th>  <th>[0.025</th>    <th>0.975]</th>  \n",
       "</tr>\n",
       "<tr>\n",
       "  <th>const</th> <td>    0.0085</td> <td>    0.002</td> <td>    3.516</td> <td> 0.001</td> <td>    0.004</td> <td>    0.013</td>\n",
       "</tr>\n",
       "<tr>\n",
       "  <th>Bench</th> <td>    1.2166</td> <td>    0.098</td> <td>   12.426</td> <td> 0.000</td> <td>    1.022</td> <td>    1.411</td>\n",
       "</tr>\n",
       "</table>\n",
       "<table class=\"simpletable\">\n",
       "<tr>\n",
       "  <th>Omnibus:</th>       <td> 3.847</td> <th>  Durbin-Watson:     </th> <td>   2.359</td>\n",
       "</tr>\n",
       "<tr>\n",
       "  <th>Prob(Omnibus):</th> <td> 0.146</td> <th>  Jarque-Bera (JB):  </th> <td>   3.381</td>\n",
       "</tr>\n",
       "<tr>\n",
       "  <th>Skew:</th>          <td>-0.294</td> <th>  Prob(JB):          </th> <td>   0.184</td>\n",
       "</tr>\n",
       "<tr>\n",
       "  <th>Kurtosis:</th>      <td> 3.708</td> <th>  Cond. No.          </th> <td>    66.6</td>\n",
       "</tr>\n",
       "</table><br/><br/>Notes:<br/>[1] Standard Errors assume that the covariance matrix of the errors is correctly specified."
      ],
      "text/plain": [
       "<class 'statsmodels.iolib.summary.Summary'>\n",
       "\"\"\"\n",
       "                            OLS Regression Results                            \n",
       "==============================================================================\n",
       "Dep. Variable:                   Port   R-squared:                       0.622\n",
       "Model:                            OLS   Adj. R-squared:                  0.618\n",
       "Method:                 Least Squares   F-statistic:                     154.4\n",
       "Date:                Fri, 28 Oct 2022   Prob (F-statistic):           1.51e-21\n",
       "Time:                        22:45:47   Log-Likelihood:                 271.75\n",
       "No. Observations:                  96   AIC:                            -539.5\n",
       "Df Residuals:                      94   BIC:                            -534.4\n",
       "Df Model:                           1                                         \n",
       "Covariance Type:            nonrobust                                         \n",
       "==============================================================================\n",
       "                 coef    std err          t      P>|t|      [0.025      0.975]\n",
       "------------------------------------------------------------------------------\n",
       "const          0.0085      0.002      3.516      0.001       0.004       0.013\n",
       "Bench          1.2166      0.098     12.426      0.000       1.022       1.411\n",
       "==============================================================================\n",
       "Omnibus:                        3.847   Durbin-Watson:                   2.359\n",
       "Prob(Omnibus):                  0.146   Jarque-Bera (JB):                3.381\n",
       "Skew:                          -0.294   Prob(JB):                        0.184\n",
       "Kurtosis:                       3.708   Cond. No.                         66.6\n",
       "==============================================================================\n",
       "\n",
       "Notes:\n",
       "[1] Standard Errors assume that the covariance matrix of the errors is correctly specified.\n",
       "\"\"\""
      ]
     },
     "execution_count": 120,
     "metadata": {},
     "output_type": "execute_result"
    }
   ],
   "source": [
    "sm.OLS(Y, X).fit().summary()\n"
   ]
  },
  {
   "cell_type": "code",
   "execution_count": 121,
   "metadata": {},
   "outputs": [],
   "source": [
    "beta_up = list(sm.OLS(Y, X).fit().params)[1]\n"
   ]
  },
  {
   "cell_type": "markdown",
   "metadata": {},
   "source": [
    "### $\\beta$-Timing ratio"
   ]
  },
  {
   "cell_type": "markdown",
   "metadata": {},
   "source": [
    "## $\\frac{\\beta^+}{\\beta^-}$"
   ]
  },
  {
   "cell_type": "code",
   "execution_count": 122,
   "metadata": {},
   "outputs": [
    {
     "data": {
      "text/plain": [
       "1.3438694342092934"
      ]
     },
     "execution_count": 122,
     "metadata": {},
     "output_type": "execute_result"
    }
   ],
   "source": [
    "beta_up / beta_down\n"
   ]
  },
  {
   "cell_type": "markdown",
   "metadata": {},
   "source": [
    "### Fama-French three factors model"
   ]
  },
  {
   "cell_type": "markdown",
   "metadata": {},
   "source": [
    "## $r-r_f=\\alpha+\\beta_3(b-r_f)+\\beta_sSMB+\\beta_vHML\\epsilon$\n",
    "### SMB - small-big (market capitalisation)\n",
    "### HML - high-low (book to market ratio)"
   ]
  },
  {
   "cell_type": "code",
   "execution_count": 123,
   "metadata": {},
   "outputs": [],
   "source": [
    "df = port_week_return.merge(ff[['Date', 'Mkt-RF', 'SMB', 'HML']],\n",
    "                            left_index=True,\n",
    "                            right_on='Date')\n"
   ]
  },
  {
   "cell_type": "code",
   "execution_count": 124,
   "metadata": {},
   "outputs": [
    {
     "data": {
      "text/html": [
       "<div>\n",
       "<style scoped>\n",
       "    .dataframe tbody tr th:only-of-type {\n",
       "        vertical-align: middle;\n",
       "    }\n",
       "\n",
       "    .dataframe tbody tr th {\n",
       "        vertical-align: top;\n",
       "    }\n",
       "\n",
       "    .dataframe thead th {\n",
       "        text-align: right;\n",
       "    }\n",
       "</style>\n",
       "<table border=\"1\" class=\"dataframe\">\n",
       "  <thead>\n",
       "    <tr style=\"text-align: right;\">\n",
       "      <th></th>\n",
       "      <th>NVDA</th>\n",
       "      <th>MSFT</th>\n",
       "      <th>BBY</th>\n",
       "      <th>ADBE</th>\n",
       "      <th>POOL</th>\n",
       "      <th>CRM</th>\n",
       "      <th>CDNS</th>\n",
       "      <th>INTU</th>\n",
       "      <th>IDXX</th>\n",
       "      <th>LRCX</th>\n",
       "      <th>^GSPC</th>\n",
       "      <th>Return</th>\n",
       "      <th>RF</th>\n",
       "      <th>Date</th>\n",
       "      <th>Mkt-RF</th>\n",
       "      <th>SMB</th>\n",
       "      <th>HML</th>\n",
       "    </tr>\n",
       "  </thead>\n",
       "  <tbody>\n",
       "    <tr>\n",
       "      <th>4774</th>\n",
       "      <td>0.113178</td>\n",
       "      <td>0.030980</td>\n",
       "      <td>0.005842</td>\n",
       "      <td>0.057635</td>\n",
       "      <td>0.019668</td>\n",
       "      <td>0.057419</td>\n",
       "      <td>0.051889</td>\n",
       "      <td>0.040119</td>\n",
       "      <td>0.065354</td>\n",
       "      <td>0.066985</td>\n",
       "      <td>0.026010</td>\n",
       "      <td>0.050907</td>\n",
       "      <td>0.028</td>\n",
       "      <td>2018-01-05</td>\n",
       "      <td>2.54</td>\n",
       "      <td>-0.67</td>\n",
       "      <td>-0.43</td>\n",
       "    </tr>\n",
       "    <tr>\n",
       "      <th>4775</th>\n",
       "      <td>0.035190</td>\n",
       "      <td>0.015988</td>\n",
       "      <td>0.063598</td>\n",
       "      <td>0.052390</td>\n",
       "      <td>-0.007489</td>\n",
       "      <td>0.019796</td>\n",
       "      <td>0.024551</td>\n",
       "      <td>0.002437</td>\n",
       "      <td>0.039856</td>\n",
       "      <td>-0.040173</td>\n",
       "      <td>0.015708</td>\n",
       "      <td>0.020615</td>\n",
       "      <td>0.028</td>\n",
       "      <td>2018-01-12</td>\n",
       "      <td>1.81</td>\n",
       "      <td>0.38</td>\n",
       "      <td>1.04</td>\n",
       "    </tr>\n",
       "    <tr>\n",
       "      <th>4776</th>\n",
       "      <td>0.031976</td>\n",
       "      <td>0.004464</td>\n",
       "      <td>0.049283</td>\n",
       "      <td>0.003486</td>\n",
       "      <td>-0.005030</td>\n",
       "      <td>0.015330</td>\n",
       "      <td>0.011759</td>\n",
       "      <td>0.019634</td>\n",
       "      <td>0.042658</td>\n",
       "      <td>0.100897</td>\n",
       "      <td>0.008635</td>\n",
       "      <td>0.027446</td>\n",
       "      <td>0.028</td>\n",
       "      <td>2018-01-19</td>\n",
       "      <td>0.84</td>\n",
       "      <td>-0.66</td>\n",
       "      <td>-0.41</td>\n",
       "    </tr>\n",
       "    <tr>\n",
       "      <th>4777</th>\n",
       "      <td>0.057451</td>\n",
       "      <td>0.045111</td>\n",
       "      <td>0.012881</td>\n",
       "      <td>0.028458</td>\n",
       "      <td>0.039219</td>\n",
       "      <td>0.015813</td>\n",
       "      <td>0.004386</td>\n",
       "      <td>0.016096</td>\n",
       "      <td>0.035432</td>\n",
       "      <td>-0.023900</td>\n",
       "      <td>0.022265</td>\n",
       "      <td>0.023095</td>\n",
       "      <td>0.028</td>\n",
       "      <td>2018-01-26</td>\n",
       "      <td>2.05</td>\n",
       "      <td>-1.50</td>\n",
       "      <td>-1.10</td>\n",
       "    </tr>\n",
       "    <tr>\n",
       "      <th>4778</th>\n",
       "      <td>-0.040316</td>\n",
       "      <td>-0.024240</td>\n",
       "      <td>-0.084907</td>\n",
       "      <td>-0.028117</td>\n",
       "      <td>-0.023439</td>\n",
       "      <td>-0.025682</td>\n",
       "      <td>-0.102620</td>\n",
       "      <td>-0.041188</td>\n",
       "      <td>-0.003582</td>\n",
       "      <td>-0.116059</td>\n",
       "      <td>-0.038547</td>\n",
       "      <td>-0.049015</td>\n",
       "      <td>0.028</td>\n",
       "      <td>2018-02-02</td>\n",
       "      <td>-3.81</td>\n",
       "      <td>-0.51</td>\n",
       "      <td>-0.14</td>\n",
       "    </tr>\n",
       "  </tbody>\n",
       "</table>\n",
       "</div>"
      ],
      "text/plain": [
       "          NVDA      MSFT       BBY      ADBE      POOL       CRM      CDNS  \\\n",
       "4774  0.113178  0.030980  0.005842  0.057635  0.019668  0.057419  0.051889   \n",
       "4775  0.035190  0.015988  0.063598  0.052390 -0.007489  0.019796  0.024551   \n",
       "4776  0.031976  0.004464  0.049283  0.003486 -0.005030  0.015330  0.011759   \n",
       "4777  0.057451  0.045111  0.012881  0.028458  0.039219  0.015813  0.004386   \n",
       "4778 -0.040316 -0.024240 -0.084907 -0.028117 -0.023439 -0.025682 -0.102620   \n",
       "\n",
       "          INTU      IDXX      LRCX     ^GSPC    Return     RF       Date  \\\n",
       "4774  0.040119  0.065354  0.066985  0.026010  0.050907  0.028 2018-01-05   \n",
       "4775  0.002437  0.039856 -0.040173  0.015708  0.020615  0.028 2018-01-12   \n",
       "4776  0.019634  0.042658  0.100897  0.008635  0.027446  0.028 2018-01-19   \n",
       "4777  0.016096  0.035432 -0.023900  0.022265  0.023095  0.028 2018-01-26   \n",
       "4778 -0.041188 -0.003582 -0.116059 -0.038547 -0.049015  0.028 2018-02-02   \n",
       "\n",
       "      Mkt-RF   SMB   HML  \n",
       "4774    2.54 -0.67 -0.43  \n",
       "4775    1.81  0.38  1.04  \n",
       "4776    0.84 -0.66 -0.41  \n",
       "4777    2.05 -1.50 -1.10  \n",
       "4778   -3.81 -0.51 -0.14  "
      ]
     },
     "execution_count": 124,
     "metadata": {},
     "output_type": "execute_result"
    }
   ],
   "source": [
    "df.head()"
   ]
  },
  {
   "cell_type": "code",
   "execution_count": 125,
   "metadata": {},
   "outputs": [],
   "source": [
    "Y = np.array(Port - RF)\n",
    "X = sm.add_constant(np.array([df['Mkt-RF'] / 100, df['SMB'], df['HML']]).T,\n",
    "                    prepend=True)\n"
   ]
  },
  {
   "cell_type": "code",
   "execution_count": 126,
   "metadata": {},
   "outputs": [
    {
     "data": {
      "text/html": [
       "<table class=\"simpletable\">\n",
       "<caption>OLS Regression Results</caption>\n",
       "<tr>\n",
       "  <th>Dep. Variable:</th>            <td>y</td>        <th>  R-squared:         </th> <td>   0.866</td>\n",
       "</tr>\n",
       "<tr>\n",
       "  <th>Model:</th>                   <td>OLS</td>       <th>  Adj. R-squared:    </th> <td>   0.864</td>\n",
       "</tr>\n",
       "<tr>\n",
       "  <th>Method:</th>             <td>Least Squares</td>  <th>  F-statistic:       </th> <td>   424.6</td>\n",
       "</tr>\n",
       "<tr>\n",
       "  <th>Date:</th>             <td>Fri, 28 Oct 2022</td> <th>  Prob (F-statistic):</th> <td>1.06e-85</td>\n",
       "</tr>\n",
       "<tr>\n",
       "  <th>Time:</th>                 <td>22:45:48</td>     <th>  Log-Likelihood:    </th> <td>  585.24</td>\n",
       "</tr>\n",
       "<tr>\n",
       "  <th>No. Observations:</th>      <td>   201</td>      <th>  AIC:               </th> <td>  -1162.</td>\n",
       "</tr>\n",
       "<tr>\n",
       "  <th>Df Residuals:</th>          <td>   197</td>      <th>  BIC:               </th> <td>  -1149.</td>\n",
       "</tr>\n",
       "<tr>\n",
       "  <th>Df Model:</th>              <td>     3</td>      <th>                     </th>     <td> </td>   \n",
       "</tr>\n",
       "<tr>\n",
       "  <th>Covariance Type:</th>      <td>nonrobust</td>    <th>                     </th>     <td> </td>   \n",
       "</tr>\n",
       "</table>\n",
       "<table class=\"simpletable\">\n",
       "<tr>\n",
       "    <td></td>       <th>coef</th>     <th>std err</th>      <th>t</th>      <th>P>|t|</th>  <th>[0.025</th>    <th>0.975]</th>  \n",
       "</tr>\n",
       "<tr>\n",
       "  <th>const</th> <td>    0.0025</td> <td>    0.001</td> <td>    2.635</td> <td> 0.009</td> <td>    0.001</td> <td>    0.004</td>\n",
       "</tr>\n",
       "<tr>\n",
       "  <th>x1</th>    <td>    1.2193</td> <td>    0.035</td> <td>   34.703</td> <td> 0.000</td> <td>    1.150</td> <td>    1.289</td>\n",
       "</tr>\n",
       "<tr>\n",
       "  <th>x2</th>    <td>   -0.0017</td> <td>    0.001</td> <td>   -2.599</td> <td> 0.010</td> <td>   -0.003</td> <td>   -0.000</td>\n",
       "</tr>\n",
       "<tr>\n",
       "  <th>x3</th>    <td>   -0.0046</td> <td>    0.000</td> <td>  -11.275</td> <td> 0.000</td> <td>   -0.005</td> <td>   -0.004</td>\n",
       "</tr>\n",
       "</table>\n",
       "<table class=\"simpletable\">\n",
       "<tr>\n",
       "  <th>Omnibus:</th>       <td> 2.376</td> <th>  Durbin-Watson:     </th> <td>   2.287</td>\n",
       "</tr>\n",
       "<tr>\n",
       "  <th>Prob(Omnibus):</th> <td> 0.305</td> <th>  Jarque-Bera (JB):  </th> <td>   1.979</td>\n",
       "</tr>\n",
       "<tr>\n",
       "  <th>Skew:</th>          <td>-0.194</td> <th>  Prob(JB):          </th> <td>   0.372</td>\n",
       "</tr>\n",
       "<tr>\n",
       "  <th>Kurtosis:</th>      <td> 3.292</td> <th>  Cond. No.          </th> <td>    88.1</td>\n",
       "</tr>\n",
       "</table><br/><br/>Notes:<br/>[1] Standard Errors assume that the covariance matrix of the errors is correctly specified."
      ],
      "text/plain": [
       "<class 'statsmodels.iolib.summary.Summary'>\n",
       "\"\"\"\n",
       "                            OLS Regression Results                            \n",
       "==============================================================================\n",
       "Dep. Variable:                      y   R-squared:                       0.866\n",
       "Model:                            OLS   Adj. R-squared:                  0.864\n",
       "Method:                 Least Squares   F-statistic:                     424.6\n",
       "Date:                Fri, 28 Oct 2022   Prob (F-statistic):           1.06e-85\n",
       "Time:                        22:45:48   Log-Likelihood:                 585.24\n",
       "No. Observations:                 201   AIC:                            -1162.\n",
       "Df Residuals:                     197   BIC:                            -1149.\n",
       "Df Model:                           3                                         \n",
       "Covariance Type:            nonrobust                                         \n",
       "==============================================================================\n",
       "                 coef    std err          t      P>|t|      [0.025      0.975]\n",
       "------------------------------------------------------------------------------\n",
       "const          0.0025      0.001      2.635      0.009       0.001       0.004\n",
       "x1             1.2193      0.035     34.703      0.000       1.150       1.289\n",
       "x2            -0.0017      0.001     -2.599      0.010      -0.003      -0.000\n",
       "x3            -0.0046      0.000    -11.275      0.000      -0.005      -0.004\n",
       "==============================================================================\n",
       "Omnibus:                        2.376   Durbin-Watson:                   2.287\n",
       "Prob(Omnibus):                  0.305   Jarque-Bera (JB):                1.979\n",
       "Skew:                          -0.194   Prob(JB):                        0.372\n",
       "Kurtosis:                       3.292   Cond. No.                         88.1\n",
       "==============================================================================\n",
       "\n",
       "Notes:\n",
       "[1] Standard Errors assume that the covariance matrix of the errors is correctly specified.\n",
       "\"\"\""
      ]
     },
     "execution_count": 126,
     "metadata": {},
     "output_type": "execute_result"
    }
   ],
   "source": [
    "sm.OLS(Y, X).fit().summary()\n"
   ]
  },
  {
   "cell_type": "markdown",
   "metadata": {},
   "source": [
    "## 5.7. Partial moments"
   ]
  },
  {
   "cell_type": "markdown",
   "metadata": {},
   "source": [
    "### Semivariance"
   ]
  },
  {
   "cell_type": "markdown",
   "metadata": {},
   "source": [
    "## $\\sigma^2_H=\\sum_{i=1}^n\\frac{min(r_i-\\bar{r},0)^2}{n}$"
   ]
  },
  {
   "cell_type": "code",
   "execution_count": 127,
   "metadata": {},
   "outputs": [
    {
     "data": {
      "text/plain": [
       "0.0062942248599641695"
      ]
     },
     "execution_count": 127,
     "metadata": {},
     "output_type": "execute_result"
    }
   ],
   "source": [
    "np.mean(Port)"
   ]
  },
  {
   "cell_type": "code",
   "execution_count": 128,
   "metadata": {},
   "outputs": [
    {
     "data": {
      "text/plain": [
       "0.0006995722705352997"
      ]
     },
     "execution_count": 128,
     "metadata": {},
     "output_type": "execute_result"
    }
   ],
   "source": [
    "SV = np.sum(np.minimum(Port - np.mean(Port), 0)**2) / Port.shape[0]\n",
    "SV\n"
   ]
  },
  {
   "cell_type": "code",
   "execution_count": 129,
   "metadata": {},
   "outputs": [
    {
     "data": {
      "text/plain": [
       "0.026449428548369427"
      ]
     },
     "execution_count": 129,
     "metadata": {},
     "output_type": "execute_result"
    }
   ],
   "source": [
    "SV**.5"
   ]
  },
  {
   "cell_type": "markdown",
   "metadata": {},
   "source": [
    "### Downside variance and risk"
   ]
  },
  {
   "cell_type": "markdown",
   "metadata": {},
   "source": [
    "### Target"
   ]
  },
  {
   "cell_type": "code",
   "execution_count": 130,
   "metadata": {},
   "outputs": [],
   "source": [
    "target = 0.0035  ## целевая недельная доходность (в среднем)\n"
   ]
  },
  {
   "cell_type": "code",
   "execution_count": 131,
   "metadata": {},
   "outputs": [
    {
     "data": {
      "text/plain": [
       "0.1992330664952071"
      ]
     },
     "execution_count": 131,
     "metadata": {},
     "output_type": "execute_result"
    }
   ],
   "source": [
    "((1 + target)**Port.shape[0])**(t / Port.shape[0]) - 1\n"
   ]
  },
  {
   "cell_type": "markdown",
   "metadata": {},
   "source": [
    "## $\\sigma^2_H=\\sum_{i=1}^n\\frac{min(r_i-r_T,0)^2}{n}$"
   ]
  },
  {
   "cell_type": "code",
   "execution_count": 132,
   "metadata": {},
   "outputs": [
    {
     "data": {
      "text/plain": [
       "0.0006296164124127375"
      ]
     },
     "execution_count": 132,
     "metadata": {},
     "output_type": "execute_result"
    }
   ],
   "source": [
    "DV = np.sum(np.minimum(Port - target, 0)**2) / Port.shape[0]\n",
    "DV"
   ]
  },
  {
   "cell_type": "code",
   "execution_count": 133,
   "metadata": {},
   "outputs": [
    {
     "data": {
      "text/plain": [
       "0.025092158384896614"
      ]
     },
     "execution_count": 133,
     "metadata": {},
     "output_type": "execute_result"
    }
   ],
   "source": [
    "DR = DV**.5\n",
    "DR"
   ]
  },
  {
   "cell_type": "markdown",
   "metadata": {},
   "source": [
    "### Downside potential"
   ]
  },
  {
   "cell_type": "markdown",
   "metadata": {},
   "source": [
    "## $\\sigma^2_H=\\sum_{i=1}^n\\frac{min(r_i-r_T,0)}{n}$ "
   ]
  },
  {
   "cell_type": "code",
   "execution_count": 134,
   "metadata": {},
   "outputs": [
    {
     "data": {
      "text/plain": [
       "-0.011883758825690588"
      ]
     },
     "execution_count": 134,
     "metadata": {},
     "output_type": "execute_result"
    }
   ],
   "source": [
    "DP = np.sum(np.minimum(Port - target, 0)) / Port.shape[0]\n",
    "DP"
   ]
  },
  {
   "cell_type": "markdown",
   "metadata": {},
   "source": [
    "### Sortino ratio"
   ]
  },
  {
   "cell_type": "markdown",
   "metadata": {},
   "source": [
    "## $TR=\\frac{\\mu-r_{f}}{\\sigma_d}$"
   ]
  },
  {
   "cell_type": "code",
   "execution_count": 135,
   "metadata": {},
   "outputs": [
    {
     "data": {
      "text/plain": [
       "1.8120128428665896"
      ]
     },
     "execution_count": 135,
     "metadata": {},
     "output_type": "execute_result"
    }
   ],
   "source": [
    "(annualised_return(Port, t) - annualised_return(RF, t)) / (DR * t**.5)\n"
   ]
  },
  {
   "cell_type": "markdown",
   "metadata": {},
   "source": [
    "### Upside variance and risk"
   ]
  },
  {
   "cell_type": "markdown",
   "metadata": {},
   "source": [
    "## $\\sigma^2_H=\\sum_{i=1}^n\\frac{max(r_i-r_T,0)^2}{n}$"
   ]
  },
  {
   "cell_type": "code",
   "execution_count": 136,
   "metadata": {},
   "outputs": [
    {
     "data": {
      "text/plain": [
       "0.0006700281352068879"
      ]
     },
     "execution_count": 136,
     "metadata": {},
     "output_type": "execute_result"
    }
   ],
   "source": [
    "UV = np.sum(np.maximum(Port - target, 0)**2) / Port.shape[0]\n",
    "UV"
   ]
  },
  {
   "cell_type": "code",
   "execution_count": 137,
   "metadata": {},
   "outputs": [
    {
     "data": {
      "text/plain": [
       "0.025884901684319526"
      ]
     },
     "execution_count": 137,
     "metadata": {},
     "output_type": "execute_result"
    }
   ],
   "source": [
    "UR = UV**.5\n",
    "UR"
   ]
  },
  {
   "cell_type": "markdown",
   "metadata": {},
   "source": [
    "### Upside potential"
   ]
  },
  {
   "cell_type": "markdown",
   "metadata": {},
   "source": [
    "## $\\sigma^2_H=\\sum_{i=1}^n\\frac{max(r_i-r_T,0)}{n}$"
   ]
  },
  {
   "cell_type": "code",
   "execution_count": 138,
   "metadata": {},
   "outputs": [
    {
     "data": {
      "text/plain": [
       "0.014677983685654757"
      ]
     },
     "execution_count": 138,
     "metadata": {},
     "output_type": "execute_result"
    }
   ],
   "source": [
    "UP = np.sum(np.maximum(Port - target, 0)) / Port.shape[0]\n",
    "UP"
   ]
  },
  {
   "cell_type": "markdown",
   "metadata": {},
   "source": [
    "### Omega ratio"
   ]
  },
  {
   "cell_type": "markdown",
   "metadata": {},
   "source": [
    "## $\\omega=\\frac{UP}{DP}$"
   ]
  },
  {
   "cell_type": "code",
   "execution_count": 139,
   "metadata": {},
   "outputs": [
    {
     "data": {
      "text/plain": [
       "1.2351297178737377"
      ]
     },
     "execution_count": 139,
     "metadata": {},
     "output_type": "execute_result"
    }
   ],
   "source": [
    "UP / -DP\n"
   ]
  },
  {
   "cell_type": "code",
   "execution_count": null,
   "metadata": {},
   "outputs": [],
   "source": []
  }
 ],
 "metadata": {
  "kernelspec": {
   "display_name": "Python 3.10.8 ('venv': venv)",
   "language": "python",
   "name": "python3"
  },
  "language_info": {
   "codemirror_mode": {
    "name": "ipython",
    "version": 3
   },
   "file_extension": ".py",
   "mimetype": "text/x-python",
   "name": "python",
   "nbconvert_exporter": "python",
   "pygments_lexer": "ipython3",
   "version": "3.10.8"
  },
  "vscode": {
   "interpreter": {
    "hash": "58047d06385e4029f2d8729d84d2d4d0057492a2f895b6498307dc24e9eb6975"
   }
  }
 },
 "nbformat": 4,
 "nbformat_minor": 4
}
