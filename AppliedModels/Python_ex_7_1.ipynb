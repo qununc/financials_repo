{
 "cells": [
  {
   "cell_type": "markdown",
   "metadata": {},
   "source": [
    "# Алгоритмы и структуры данных в Python"
   ]
  },
  {
   "cell_type": "code",
   "execution_count": 1,
   "metadata": {},
   "outputs": [],
   "source": [
    "import numpy as np # библиотека NumPy\n",
    "import pandas as pd # библиотека Pandas\n",
    "import matplotlib.pyplot as plt # графическая библиотека\n",
    "import datetime # библиотека работы с переменными типа дата  \n",
    "import math #библиотека математических функций"
   ]
  },
  {
   "cell_type": "markdown",
   "metadata": {},
   "source": [
    "## Тема 7. Алгоритмы"
   ]
  },
  {
   "cell_type": "markdown",
   "metadata": {},
   "source": [
    "### 7.1. Числа Фибоначчи и их применение в техническом анализе"
   ]
  },
  {
   "cell_type": "markdown",
   "metadata": {},
   "source": [
    "### Последовательность Фибоначчи - такая последовательнотсть, в которой первые два числа равны либо 1 и 1, либо 0 и 1, а каждое последующее число равно сумме двух предыдущих чисел. Считается, что с помощью данной последовательности можно описать некоторые реальные процессы в природе и жизни человека."
   ]
  },
  {
   "cell_type": "markdown",
   "metadata": {},
   "source": [
    "### Cуществует несколько вариантов получения последовательности Фибоначчи, в т.ч. с помощью рекурсии (хотя он считается не самым эффективным)"
   ]
  },
  {
   "cell_type": "markdown",
   "metadata": {},
   "source": [
    "### Генерация чисел Фибоначчи с помощью цикла"
   ]
  },
  {
   "cell_type": "code",
   "execution_count": 2,
   "metadata": {},
   "outputs": [],
   "source": [
    "def fib_1(nterms):\n",
    "    n_1, n_2=0,1\n",
    "    l=[]\n",
    "    l.append(n_1)\n",
    "    while nterms >0:\n",
    "        n_1,n_2 = n_2, n_1 + n_2\n",
    "        nterms -= 1\n",
    "        l.append(n_1)\n",
    "    return l\n",
    "\n",
    "### https://mortada.net/fibonacci-numbers-in-python.html        "
   ]
  },
  {
   "cell_type": "code",
   "execution_count": 3,
   "metadata": {},
   "outputs": [
    {
     "data": {
      "text/plain": [
       "[0, 1, 1, 2, 3, 5, 8, 13, 21, 34, 55]"
      ]
     },
     "execution_count": 3,
     "metadata": {},
     "output_type": "execute_result"
    }
   ],
   "source": [
    "fib_1(10)"
   ]
  },
  {
   "cell_type": "code",
   "execution_count": 4,
   "metadata": {},
   "outputs": [
    {
     "name": "stdout",
     "output_type": "stream",
     "text": [
      "1.07 µs ± 12.7 ns per loop (mean ± std. dev. of 7 runs, 1000000 loops each)\n"
     ]
    }
   ],
   "source": [
    "%timeit fib_1(10)"
   ]
  },
  {
   "cell_type": "markdown",
   "metadata": {},
   "source": [
    "### Генерация чисел Фибоначчи с помощью рекурсии"
   ]
  },
  {
   "cell_type": "markdown",
   "metadata": {},
   "source": [
    "### В процессе работы с числовыми последовательностями часто бывает удобно ораганизовать обращение к данным путем многократного повторения вызова одной и той же функции, но принимающей разные данные. Такой механизм получил название рекурсии. Рекурсивно заданная функция определяет своё значение через обращение к себе самой с другими аргументами."
   ]
  },
  {
   "cell_type": "code",
   "execution_count": 5,
   "metadata": {},
   "outputs": [],
   "source": [
    "def fib_2(n):\n",
    "    if n == 0:\n",
    "        return 0\n",
    "    elif n == 1:\n",
    "        return 1\n",
    "    else:\n",
    "        return fib_2(n-1) + fib_2(n-2)"
   ]
  },
  {
   "cell_type": "code",
   "execution_count": 6,
   "metadata": {},
   "outputs": [
    {
     "data": {
      "text/plain": [
       "[0, 1, 1, 2, 3, 5, 8, 13, 21, 34, 55]"
      ]
     },
     "execution_count": 6,
     "metadata": {},
     "output_type": "execute_result"
    }
   ],
   "source": [
    "[fib_2(i) for i in range(11)]"
   ]
  },
  {
   "cell_type": "code",
   "execution_count": 7,
   "metadata": {},
   "outputs": [
    {
     "name": "stdout",
     "output_type": "stream",
     "text": [
      "43.5 µs ± 368 ns per loop (mean ± std. dev. of 7 runs, 10000 loops each)\n"
     ]
    }
   ],
   "source": [
    "%timeit [fib_2(i) for i in range(11)]"
   ]
  },
  {
   "cell_type": "markdown",
   "metadata": {},
   "source": [
    "### Генерация чисел Фибоначчи с помощью Золотого сечения с использованием библиотеки NumPy"
   ]
  },
  {
   "cell_type": "markdown",
   "metadata": {},
   "source": [
    "### В естественной среде  можно часто встретить интересную пропорцию меджду частями различных объектов, называемую Золотым сечением. Оно выражается следующей формулой:"
   ]
  },
  {
   "cell_type": "markdown",
   "metadata": {},
   "source": [
    "### $\\Phi=\\frac{1+\\sqrt{5}}{2}$"
   ]
  },
  {
   "cell_type": "markdown",
   "metadata": {},
   "source": [
    "### Данная величина является иррациональной и приблизительно равна 1.618. Особенностью чисел Фибоначчи является то, что отношение каждого поселедующего числа к предыдущему стремится к данной величине."
   ]
  },
  {
   "cell_type": "code",
   "execution_count": 8,
   "metadata": {},
   "outputs": [],
   "source": [
    "l_f=[fib_2(i) for i in range(11)]"
   ]
  },
  {
   "cell_type": "code",
   "execution_count": 9,
   "metadata": {},
   "outputs": [
    {
     "data": {
      "text/plain": [
       "array([1.5       , 1.66666667, 1.6       , 1.625     , 1.61538462,\n",
       "       1.61904762, 1.61764706])"
      ]
     },
     "execution_count": 9,
     "metadata": {},
     "output_type": "execute_result"
    }
   ],
   "source": [
    "np.array(l_f[4:])/np.array(l_f[3:-1])"
   ]
  },
  {
   "cell_type": "code",
   "execution_count": 10,
   "metadata": {},
   "outputs": [],
   "source": [
    "ar=np.arange(11)"
   ]
  },
  {
   "cell_type": "markdown",
   "metadata": {},
   "source": [
    "### Этим свойством пользуются для генерации числового ряда Фибоначчи. В свою очередь цикл можно заменить операциями с массивами библиотеки NumPy (векторизация)."
   ]
  },
  {
   "cell_type": "code",
   "execution_count": 11,
   "metadata": {},
   "outputs": [],
   "source": [
    "golden_ratio = (1 + math.sqrt(5)) / 2"
   ]
  },
  {
   "cell_type": "code",
   "execution_count": 12,
   "metadata": {},
   "outputs": [
    {
     "data": {
      "text/plain": [
       "1.618033988749895"
      ]
     },
     "execution_count": 12,
     "metadata": {},
     "output_type": "execute_result"
    }
   ],
   "source": [
    "golden_ratio"
   ]
  },
  {
   "cell_type": "code",
   "execution_count": 13,
   "metadata": {},
   "outputs": [
    {
     "name": "stdout",
     "output_type": "stream",
     "text": [
      "4.4 µs ± 58.4 ns per loop (mean ± std. dev. of 7 runs, 100000 loops each)\n"
     ]
    }
   ],
   "source": [
    "%timeit val = ((golden_ratio**ar - (1 - golden_ratio)**ar) / math.sqrt(5))"
   ]
  },
  {
   "cell_type": "code",
   "execution_count": 14,
   "metadata": {},
   "outputs": [],
   "source": [
    "val = ((golden_ratio**ar - (1 - golden_ratio)**ar) / math.sqrt(5))"
   ]
  },
  {
   "cell_type": "code",
   "execution_count": 15,
   "metadata": {},
   "outputs": [
    {
     "data": {
      "text/plain": [
       "array([ 0.,  1.,  1.,  2.,  3.,  5.,  8., 13., 21., 34., 55.])"
      ]
     },
     "execution_count": 15,
     "metadata": {},
     "output_type": "execute_result"
    }
   ],
   "source": [
    "val"
   ]
  },
  {
   "cell_type": "markdown",
   "metadata": {},
   "source": [
    "### Свойства чисел Фибоначчи"
   ]
  },
  {
   "cell_type": "markdown",
   "metadata": {},
   "source": [
    "### Помимо свойства Золотого сечения, поседовательность Фибоначчи обладает еще рядом интересных свойств. Данные свойства непосредственным образом связаны с Золотым сечением."
   ]
  },
  {
   "cell_type": "markdown",
   "metadata": {},
   "source": [
    "### Отношение предыдущего числа к последующему. Данное отношение обратно Золотому сечению и примерно равно 0.618."
   ]
  },
  {
   "cell_type": "code",
   "execution_count": 16,
   "metadata": {},
   "outputs": [
    {
     "data": {
      "text/plain": [
       "array([ 2.,  3.,  5.,  8., 13., 21., 34.])"
      ]
     },
     "execution_count": 16,
     "metadata": {},
     "output_type": "execute_result"
    }
   ],
   "source": [
    "val[3:-1:]"
   ]
  },
  {
   "cell_type": "code",
   "execution_count": 17,
   "metadata": {},
   "outputs": [
    {
     "data": {
      "text/plain": [
       "array([ 3.,  5.,  8., 13., 21., 34., 55.])"
      ]
     },
     "execution_count": 17,
     "metadata": {},
     "output_type": "execute_result"
    }
   ],
   "source": [
    "val[4::]"
   ]
  },
  {
   "cell_type": "code",
   "execution_count": 18,
   "metadata": {},
   "outputs": [
    {
     "data": {
      "text/plain": [
       "array([0.66666667, 0.6       , 0.625     , 0.61538462, 0.61904762,\n",
       "       0.61764706, 0.61818182])"
      ]
     },
     "execution_count": 18,
     "metadata": {},
     "output_type": "execute_result"
    }
   ],
   "source": [
    "val[3:-1:]/val[4::]"
   ]
  },
  {
   "cell_type": "markdown",
   "metadata": {},
   "source": [
    "### Отношение чисел, отстоящих на два индекса друг от друга (число с меньшим индексом относится к числу с большим).  Данное отношение примерно равно 0.382."
   ]
  },
  {
   "cell_type": "code",
   "execution_count": 19,
   "metadata": {},
   "outputs": [
    {
     "data": {
      "text/plain": [
       "array([ 2.,  3.,  5.,  8., 13., 21.])"
      ]
     },
     "execution_count": 19,
     "metadata": {},
     "output_type": "execute_result"
    }
   ],
   "source": [
    "val[3:-2:]"
   ]
  },
  {
   "cell_type": "code",
   "execution_count": 20,
   "metadata": {},
   "outputs": [
    {
     "data": {
      "text/plain": [
       "array([ 5.,  8., 13., 21., 34., 55.])"
      ]
     },
     "execution_count": 20,
     "metadata": {},
     "output_type": "execute_result"
    }
   ],
   "source": [
    "val[5::]"
   ]
  },
  {
   "cell_type": "code",
   "execution_count": 21,
   "metadata": {},
   "outputs": [
    {
     "data": {
      "text/plain": [
       "array([0.4       , 0.375     , 0.38461538, 0.38095238, 0.38235294,\n",
       "       0.38181818])"
      ]
     },
     "execution_count": 21,
     "metadata": {},
     "output_type": "execute_result"
    }
   ],
   "source": [
    "val[3:-2:]/val[5::]"
   ]
  },
  {
   "cell_type": "markdown",
   "metadata": {},
   "source": [
    "###  Отношение чисел, отстоящих на два индекса друг от друга (число с меньшим индексом относится к числу с большим). Данное отношение примерно равно 0.236."
   ]
  },
  {
   "cell_type": "code",
   "execution_count": 22,
   "metadata": {},
   "outputs": [
    {
     "data": {
      "text/plain": [
       "array([ 2.,  3.,  5.,  8., 13.])"
      ]
     },
     "execution_count": 22,
     "metadata": {},
     "output_type": "execute_result"
    }
   ],
   "source": [
    "val[3:-3:]"
   ]
  },
  {
   "cell_type": "code",
   "execution_count": 23,
   "metadata": {},
   "outputs": [
    {
     "data": {
      "text/plain": [
       "array([ 8., 13., 21., 34., 55.])"
      ]
     },
     "execution_count": 23,
     "metadata": {},
     "output_type": "execute_result"
    }
   ],
   "source": [
    "val[6::]"
   ]
  },
  {
   "cell_type": "code",
   "execution_count": 24,
   "metadata": {},
   "outputs": [
    {
     "data": {
      "text/plain": [
       "array([0.25      , 0.23076923, 0.23809524, 0.23529412, 0.23636364])"
      ]
     },
     "execution_count": 24,
     "metadata": {},
     "output_type": "execute_result"
    }
   ],
   "source": [
    "val[3:-3:]/val[6::]"
   ]
  },
  {
   "cell_type": "markdown",
   "metadata": {},
   "source": [
    "### Свойства чисел Фибоначчи и ценовые сигналы"
   ]
  },
  {
   "cell_type": "markdown",
   "metadata": {},
   "source": [
    "### Рассмотренные свойства нашли отражение в разработке торговых стратегий на финансовых рынках. С помощью чисел Фибоначчи можно определять ценовые сигналы. Хотя использование чисел Фибоначчи не имеет строго научной основы (что, впрочем, относится к большинству методов технического анализа), этот подход получил определенную популярность на рынке."
   ]
  },
  {
   "cell_type": "markdown",
   "metadata": {},
   "source": [
    "### Метод получил название Fibonacci retracement (восстановление) и служит для определения уровня коррекции. Существуют разновидности данного метода, но общая идея, лежащая в его основе, заключается в том, что повышательный (понижательный) тренд обязательно сменяется коррекцией, в результате которой уровень цен разворачивается и какое-то время идет в обратном направлении. При этом отношение чисел Фибоначчи служит ориентиром для завершения коррекции. "
   ]
  },
  {
   "cell_type": "markdown",
   "metadata": {},
   "source": [
    "### Для получения сигнала (будет ли это открытием или закрытием зависит от конкретной стратегии) берется длина восходящего (нисходящего) тренда,  которая умножается на отношение чисел Фибоначчи - 0.236, 0.382, 0.618.  В рыночной практике также добавляют точку 0.5 (теория 50% коррекции Доу ). Каждая из этих точек говорит о том, насколько процентов может скорректироваться цена перед возможным возвратом основного тренда."
   ]
  },
  {
   "cell_type": "markdown",
   "metadata": {},
   "source": [
    "### Рассмотрим использование чисел Фибоначчи на примере динамики акций Apple. Загрузка и обработка данных осуществляется с помощью библиотеки Pandas."
   ]
  },
  {
   "cell_type": "code",
   "execution_count": 25,
   "metadata": {},
   "outputs": [],
   "source": [
    "path='/Users/massimozharkovsky/Documents/ML/Derivatives/VAR'"
   ]
  },
  {
   "cell_type": "code",
   "execution_count": 40,
   "metadata": {},
   "outputs": [],
   "source": [
    "aapl=pd.read_csv(path+'/'+'AAPL.csv')\n",
    "### загрузка данных динамики акций Apple"
   ]
  },
  {
   "cell_type": "code",
   "execution_count": 41,
   "metadata": {},
   "outputs": [
    {
     "data": {
      "text/html": [
       "<div>\n",
       "<style scoped>\n",
       "    .dataframe tbody tr th:only-of-type {\n",
       "        vertical-align: middle;\n",
       "    }\n",
       "\n",
       "    .dataframe tbody tr th {\n",
       "        vertical-align: top;\n",
       "    }\n",
       "\n",
       "    .dataframe thead th {\n",
       "        text-align: right;\n",
       "    }\n",
       "</style>\n",
       "<table border=\"1\" class=\"dataframe\">\n",
       "  <thead>\n",
       "    <tr style=\"text-align: right;\">\n",
       "      <th></th>\n",
       "      <th>Date</th>\n",
       "      <th>Open</th>\n",
       "      <th>High</th>\n",
       "      <th>Low</th>\n",
       "      <th>Close</th>\n",
       "      <th>Adj Close</th>\n",
       "      <th>Volume</th>\n",
       "    </tr>\n",
       "  </thead>\n",
       "  <tbody>\n",
       "    <tr>\n",
       "      <th>1254</th>\n",
       "      <td>2019-02-11</td>\n",
       "      <td>171.050003</td>\n",
       "      <td>171.210007</td>\n",
       "      <td>169.250000</td>\n",
       "      <td>169.429993</td>\n",
       "      <td>169.429993</td>\n",
       "      <td>20993400</td>\n",
       "    </tr>\n",
       "    <tr>\n",
       "      <th>1255</th>\n",
       "      <td>2019-02-12</td>\n",
       "      <td>170.100006</td>\n",
       "      <td>171.000000</td>\n",
       "      <td>169.699997</td>\n",
       "      <td>170.889999</td>\n",
       "      <td>170.889999</td>\n",
       "      <td>22283500</td>\n",
       "    </tr>\n",
       "    <tr>\n",
       "      <th>1256</th>\n",
       "      <td>2019-02-13</td>\n",
       "      <td>171.389999</td>\n",
       "      <td>172.479996</td>\n",
       "      <td>169.919998</td>\n",
       "      <td>170.179993</td>\n",
       "      <td>170.179993</td>\n",
       "      <td>22490200</td>\n",
       "    </tr>\n",
       "    <tr>\n",
       "      <th>1257</th>\n",
       "      <td>2019-02-14</td>\n",
       "      <td>169.710007</td>\n",
       "      <td>171.259995</td>\n",
       "      <td>169.380005</td>\n",
       "      <td>170.800003</td>\n",
       "      <td>170.800003</td>\n",
       "      <td>21835700</td>\n",
       "    </tr>\n",
       "    <tr>\n",
       "      <th>1258</th>\n",
       "      <td>2019-02-15</td>\n",
       "      <td>171.250000</td>\n",
       "      <td>171.699997</td>\n",
       "      <td>169.750000</td>\n",
       "      <td>170.419998</td>\n",
       "      <td>170.419998</td>\n",
       "      <td>24363100</td>\n",
       "    </tr>\n",
       "  </tbody>\n",
       "</table>\n",
       "</div>"
      ],
      "text/plain": [
       "            Date        Open        High         Low       Close   Adj Close  \\\n",
       "1254  2019-02-11  171.050003  171.210007  169.250000  169.429993  169.429993   \n",
       "1255  2019-02-12  170.100006  171.000000  169.699997  170.889999  170.889999   \n",
       "1256  2019-02-13  171.389999  172.479996  169.919998  170.179993  170.179993   \n",
       "1257  2019-02-14  169.710007  171.259995  169.380005  170.800003  170.800003   \n",
       "1258  2019-02-15  171.250000  171.699997  169.750000  170.419998  170.419998   \n",
       "\n",
       "        Volume  \n",
       "1254  20993400  \n",
       "1255  22283500  \n",
       "1256  22490200  \n",
       "1257  21835700  \n",
       "1258  24363100  "
      ]
     },
     "execution_count": 41,
     "metadata": {},
     "output_type": "execute_result"
    }
   ],
   "source": [
    "aapl.tail()"
   ]
  },
  {
   "cell_type": "code",
   "execution_count": 42,
   "metadata": {},
   "outputs": [
    {
     "data": {
      "text/html": [
       "<div>\n",
       "<style scoped>\n",
       "    .dataframe tbody tr th:only-of-type {\n",
       "        vertical-align: middle;\n",
       "    }\n",
       "\n",
       "    .dataframe tbody tr th {\n",
       "        vertical-align: top;\n",
       "    }\n",
       "\n",
       "    .dataframe thead th {\n",
       "        text-align: right;\n",
       "    }\n",
       "</style>\n",
       "<table border=\"1\" class=\"dataframe\">\n",
       "  <thead>\n",
       "    <tr style=\"text-align: right;\">\n",
       "      <th></th>\n",
       "      <th>Date</th>\n",
       "      <th>Open</th>\n",
       "      <th>High</th>\n",
       "      <th>Low</th>\n",
       "      <th>Close</th>\n",
       "      <th>Adj Close</th>\n",
       "      <th>Volume</th>\n",
       "    </tr>\n",
       "  </thead>\n",
       "  <tbody>\n",
       "    <tr>\n",
       "      <th>0</th>\n",
       "      <td>2014-02-18</td>\n",
       "      <td>78.000000</td>\n",
       "      <td>78.741432</td>\n",
       "      <td>77.944283</td>\n",
       "      <td>77.998573</td>\n",
       "      <td>68.972733</td>\n",
       "      <td>65062900</td>\n",
       "    </tr>\n",
       "    <tr>\n",
       "      <th>1</th>\n",
       "      <td>2014-02-19</td>\n",
       "      <td>77.821426</td>\n",
       "      <td>78.127144</td>\n",
       "      <td>76.335716</td>\n",
       "      <td>76.767143</td>\n",
       "      <td>67.883812</td>\n",
       "      <td>78442000</td>\n",
       "    </tr>\n",
       "    <tr>\n",
       "      <th>2</th>\n",
       "      <td>2014-02-20</td>\n",
       "      <td>76.141426</td>\n",
       "      <td>76.714287</td>\n",
       "      <td>75.571426</td>\n",
       "      <td>75.878571</td>\n",
       "      <td>67.098045</td>\n",
       "      <td>76464500</td>\n",
       "    </tr>\n",
       "    <tr>\n",
       "      <th>3</th>\n",
       "      <td>2014-02-21</td>\n",
       "      <td>76.112854</td>\n",
       "      <td>76.367142</td>\n",
       "      <td>74.942856</td>\n",
       "      <td>75.035713</td>\n",
       "      <td>66.352722</td>\n",
       "      <td>69696200</td>\n",
       "    </tr>\n",
       "    <tr>\n",
       "      <th>4</th>\n",
       "      <td>2014-02-24</td>\n",
       "      <td>74.735718</td>\n",
       "      <td>75.702858</td>\n",
       "      <td>74.631432</td>\n",
       "      <td>75.364288</td>\n",
       "      <td>66.643288</td>\n",
       "      <td>72227400</td>\n",
       "    </tr>\n",
       "  </tbody>\n",
       "</table>\n",
       "</div>"
      ],
      "text/plain": [
       "         Date       Open       High        Low      Close  Adj Close    Volume\n",
       "0  2014-02-18  78.000000  78.741432  77.944283  77.998573  68.972733  65062900\n",
       "1  2014-02-19  77.821426  78.127144  76.335716  76.767143  67.883812  78442000\n",
       "2  2014-02-20  76.141426  76.714287  75.571426  75.878571  67.098045  76464500\n",
       "3  2014-02-21  76.112854  76.367142  74.942856  75.035713  66.352722  69696200\n",
       "4  2014-02-24  74.735718  75.702858  74.631432  75.364288  66.643288  72227400"
      ]
     },
     "execution_count": 42,
     "metadata": {},
     "output_type": "execute_result"
    }
   ],
   "source": [
    "aapl.head()"
   ]
  },
  {
   "cell_type": "code",
   "execution_count": 29,
   "metadata": {},
   "outputs": [
    {
     "data": {
      "text/plain": [
       "(1259, 7)"
      ]
     },
     "execution_count": 29,
     "metadata": {},
     "output_type": "execute_result"
    }
   ],
   "source": [
    "aapl.shape"
   ]
  },
  {
   "cell_type": "code",
   "execution_count": 30,
   "metadata": {},
   "outputs": [
    {
     "data": {
      "text/plain": [
       "Date         0\n",
       "Open         0\n",
       "High         0\n",
       "Low          0\n",
       "Close        0\n",
       "Adj Close    0\n",
       "Volume       0\n",
       "dtype: int64"
      ]
     },
     "execution_count": 30,
     "metadata": {},
     "output_type": "execute_result"
    }
   ],
   "source": [
    "aapl.isnull().sum()"
   ]
  },
  {
   "cell_type": "code",
   "execution_count": 43,
   "metadata": {},
   "outputs": [],
   "source": [
    "aapl.dropna(inplace=True)"
   ]
  },
  {
   "cell_type": "markdown",
   "metadata": {},
   "source": [
    "### Столбец Date необходимо преобразовать из текстового формата в формат даты"
   ]
  },
  {
   "cell_type": "code",
   "execution_count": 44,
   "metadata": {},
   "outputs": [],
   "source": [
    "aapl['Date']=pd.to_datetime(aapl['Date'])"
   ]
  },
  {
   "cell_type": "code",
   "execution_count": 45,
   "metadata": {},
   "outputs": [
    {
     "data": {
      "image/png": "[encoded data removed]",
      "text/plain": [
       "<Figure size 1080x720 with 1 Axes>"
      ]
     },
     "metadata": {
      "needs_background": "light"
     },
     "output_type": "display_data"
    }
   ],
   "source": [
    "plt.figure(figsize=(15,10))\n",
    "_=plt.plot(aapl.Date,aapl.Close,color='red')\n",
    "_=plt.title('Apple price dynamics')"
   ]
  },
  {
   "cell_type": "code",
   "execution_count": 32,
   "metadata": {},
   "outputs": [
    {
     "data": {
      "text/plain": [
       "['Date', 'Open', 'High', 'Low', 'Close', 'Adj Close', 'Volume']"
      ]
     },
     "execution_count": 32,
     "metadata": {},
     "output_type": "execute_result"
    }
   ],
   "source": [
    "list(aapl.columns)"
   ]
  },
  {
   "cell_type": "code",
   "execution_count": 34,
   "metadata": {},
   "outputs": [
    {
     "data": {
      "text/plain": [
       "Date         2014-02-19\n",
       "Open            77.8214\n",
       "High            78.1271\n",
       "Low             76.3357\n",
       "Close           76.7671\n",
       "Adj Close       67.8838\n",
       "Volume         78442000\n",
       "Name: 1, dtype: object"
      ]
     },
     "execution_count": 34,
     "metadata": {},
     "output_type": "execute_result"
    }
   ],
   "source": [
    "aapl.iloc[1,:]"
   ]
  },
  {
   "cell_type": "code",
   "execution_count": 38,
   "metadata": {},
   "outputs": [],
   "source": [
    "aapl_1=aapl[['Date', 'Open', 'High']].head(10)"
   ]
  },
  {
   "cell_type": "code",
   "execution_count": 39,
   "metadata": {},
   "outputs": [
    {
     "data": {
      "text/html": [
       "<div>\n",
       "<style scoped>\n",
       "    .dataframe tbody tr th:only-of-type {\n",
       "        vertical-align: middle;\n",
       "    }\n",
       "\n",
       "    .dataframe tbody tr th {\n",
       "        vertical-align: top;\n",
       "    }\n",
       "\n",
       "    .dataframe thead th {\n",
       "        text-align: right;\n",
       "    }\n",
       "</style>\n",
       "<table border=\"1\" class=\"dataframe\">\n",
       "  <thead>\n",
       "    <tr style=\"text-align: right;\">\n",
       "      <th></th>\n",
       "      <th>Date</th>\n",
       "      <th>Open</th>\n",
       "      <th>High</th>\n",
       "    </tr>\n",
       "  </thead>\n",
       "  <tbody>\n",
       "    <tr>\n",
       "      <th>0</th>\n",
       "      <td>2014-02-18</td>\n",
       "      <td>78.000000</td>\n",
       "      <td>78.741432</td>\n",
       "    </tr>\n",
       "    <tr>\n",
       "      <th>1</th>\n",
       "      <td>2014-02-19</td>\n",
       "      <td>77.821426</td>\n",
       "      <td>78.127144</td>\n",
       "    </tr>\n",
       "    <tr>\n",
       "      <th>2</th>\n",
       "      <td>2014-02-20</td>\n",
       "      <td>76.141426</td>\n",
       "      <td>76.714287</td>\n",
       "    </tr>\n",
       "    <tr>\n",
       "      <th>3</th>\n",
       "      <td>2014-02-21</td>\n",
       "      <td>76.112854</td>\n",
       "      <td>76.367142</td>\n",
       "    </tr>\n",
       "    <tr>\n",
       "      <th>4</th>\n",
       "      <td>2014-02-24</td>\n",
       "      <td>74.735718</td>\n",
       "      <td>75.702858</td>\n",
       "    </tr>\n",
       "    <tr>\n",
       "      <th>5</th>\n",
       "      <td>2014-02-25</td>\n",
       "      <td>75.625717</td>\n",
       "      <td>75.652855</td>\n",
       "    </tr>\n",
       "    <tr>\n",
       "      <th>6</th>\n",
       "      <td>2014-02-26</td>\n",
       "      <td>74.801430</td>\n",
       "      <td>75.000000</td>\n",
       "    </tr>\n",
       "    <tr>\n",
       "      <th>7</th>\n",
       "      <td>2014-02-27</td>\n",
       "      <td>73.877144</td>\n",
       "      <td>75.540001</td>\n",
       "    </tr>\n",
       "    <tr>\n",
       "      <th>8</th>\n",
       "      <td>2014-02-28</td>\n",
       "      <td>75.582855</td>\n",
       "      <td>76.107140</td>\n",
       "    </tr>\n",
       "    <tr>\n",
       "      <th>9</th>\n",
       "      <td>2014-03-03</td>\n",
       "      <td>74.774284</td>\n",
       "      <td>75.807144</td>\n",
       "    </tr>\n",
       "  </tbody>\n",
       "</table>\n",
       "</div>"
      ],
      "text/plain": [
       "         Date       Open       High\n",
       "0  2014-02-18  78.000000  78.741432\n",
       "1  2014-02-19  77.821426  78.127144\n",
       "2  2014-02-20  76.141426  76.714287\n",
       "3  2014-02-21  76.112854  76.367142\n",
       "4  2014-02-24  74.735718  75.702858\n",
       "5  2014-02-25  75.625717  75.652855\n",
       "6  2014-02-26  74.801430  75.000000\n",
       "7  2014-02-27  73.877144  75.540001\n",
       "8  2014-02-28  75.582855  76.107140\n",
       "9  2014-03-03  74.774284  75.807144"
      ]
     },
     "execution_count": 39,
     "metadata": {},
     "output_type": "execute_result"
    }
   ],
   "source": [
    "aapl_1"
   ]
  },
  {
   "cell_type": "code",
   "execution_count": 32,
   "metadata": {},
   "outputs": [
    {
     "data": {
      "text/plain": [
       "Date          object\n",
       "Open         float64\n",
       "High         float64\n",
       "Low          float64\n",
       "Close        float64\n",
       "Adj Close    float64\n",
       "Volume         int64\n",
       "dtype: object"
      ]
     },
     "execution_count": 32,
     "metadata": {},
     "output_type": "execute_result"
    }
   ],
   "source": [
    "aapl.dtypes"
   ]
  },
  {
   "cell_type": "markdown",
   "metadata": {},
   "source": [
    "### Визуально на графике выберем один из периодов роста цен (начало 2014 - середина 2015) и соответсвенно последующий период коррекции. Ограничим период анализа ноябрем 2016 г. Необходимо отметить, что торговый робот должен сам определять точки входа и выхода."
   ]
  },
  {
   "cell_type": "code",
   "execution_count": 48,
   "metadata": {},
   "outputs": [],
   "source": [
    "year,month,day=2016,11,1"
   ]
  },
  {
   "cell_type": "code",
   "execution_count": 49,
   "metadata": {},
   "outputs": [
    {
     "data": {
      "text/plain": [
       "'2016-11-01'"
      ]
     },
     "execution_count": 49,
     "metadata": {},
     "output_type": "execute_result"
    }
   ],
   "source": [
    "date_last=str(year)+'-'+str(month)+'-'+('0'+str(day) if len(str(day))==1 else str(day))\n",
    "date_last"
   ]
  },
  {
   "cell_type": "markdown",
   "metadata": {},
   "source": [
    "### Расчитаем размах повышательного тренда как разницу максимальной и минимальной цен за рассматриваемый период"
   ]
  },
  {
   "cell_type": "code",
   "execution_count": 50,
   "metadata": {},
   "outputs": [
    {
     "data": {
      "text/plain": [
       "133.0"
      ]
     },
     "execution_count": 50,
     "metadata": {},
     "output_type": "execute_result"
    }
   ],
   "source": [
    "price_max=max(aapl[aapl.Date<date_last]['Close'])\n",
    "price_max"
   ]
  },
  {
   "cell_type": "code",
   "execution_count": 51,
   "metadata": {},
   "outputs": [
    {
     "data": {
      "text/plain": [
       "73.907143"
      ]
     },
     "execution_count": 51,
     "metadata": {},
     "output_type": "execute_result"
    }
   ],
   "source": [
    "price_min=min(aapl['Close'])\n",
    "price_min"
   ]
  },
  {
   "cell_type": "markdown",
   "metadata": {},
   "source": [
    "### Массив точек Фибоначчи "
   ]
  },
  {
   "cell_type": "code",
   "execution_count": 62,
   "metadata": {},
   "outputs": [],
   "source": [
    "retracement=np.array([.236,.382,.5,.618])"
   ]
  },
  {
   "cell_type": "code",
   "execution_count": 66,
   "metadata": {},
   "outputs": [],
   "source": [
    "retracement=[.236,.382,.5,.618]"
   ]
  },
  {
   "cell_type": "markdown",
   "metadata": {},
   "source": [
    "### Массив ценовых уровней "
   ]
  },
  {
   "cell_type": "code",
   "execution_count": 63,
   "metadata": {},
   "outputs": [],
   "source": [
    "retracement_points=price_max-retracement*(price_max-price_min)"
   ]
  },
  {
   "cell_type": "code",
   "execution_count": 64,
   "metadata": {},
   "outputs": [
    {
     "data": {
      "text/plain": [
       "array([119.05408575, 110.42652863, 103.4535715 ,  96.48061437])"
      ]
     },
     "execution_count": 64,
     "metadata": {},
     "output_type": "execute_result"
    }
   ],
   "source": [
    "retracement_points"
   ]
  },
  {
   "cell_type": "code",
   "execution_count": 55,
   "metadata": {},
   "outputs": [],
   "source": [
    "dict_=dict(zip(retracement.tolist(),retracement_points.tolist()))"
   ]
  },
  {
   "cell_type": "code",
   "execution_count": 42,
   "metadata": {},
   "outputs": [
    {
     "data": {
      "text/plain": [
       "{0.236: 119.054085748,\n",
       " 0.382: 110.426528626,\n",
       " 0.5: 103.45357150000001,\n",
       " 0.618: 96.480614374}"
      ]
     },
     "execution_count": 42,
     "metadata": {},
     "output_type": "execute_result"
    }
   ],
   "source": [
    "dict_"
   ]
  },
  {
   "cell_type": "code",
   "execution_count": 65,
   "metadata": {},
   "outputs": [
    {
     "data": {
      "image/png": "[encoded data removed]",
      "text/plain": [
       "<Figure size 1080x720 with 1 Axes>"
      ]
     },
     "metadata": {
      "needs_background": "light"
     },
     "output_type": "display_data"
    }
   ],
   "source": [
    "plt.figure(figsize=(15,10))\n",
    "_=plt.plot(aapl[aapl.Date<date_last].Date,aapl[aapl.Date<date_last].Close,color='blue')\n",
    "_=plt.hlines(y = retracement_points, xmin = min(aapl.Date), xmax = datetime.datetime(year,month,day),linestyle='dashed') \n",
    "for key in dict_.keys():\n",
    "    _=plt.text(datetime.datetime(year,month,day),dict_[key],str(round(key*100,1))+'%',fontsize=15)\n",
    "_=plt.title('Apple price Fibonacci retracement')"
   ]
  },
  {
   "cell_type": "markdown",
   "metadata": {},
   "source": [
    "### Выводы. В целом рассмтариваемый метод можно считать приемлемым.  Если опираться на точки Фибоначчи и поставить ценовой сигнал на уровне  61.8%, мы угадаем разворот.  Правда при этом надо отметить отскок и падение между точками 38.2% и 61.8%."
   ]
  },
  {
   "cell_type": "markdown",
   "metadata": {},
   "source": [
    "## Задания"
   ]
  },
  {
   "cell_type": "markdown",
   "metadata": {},
   "source": [
    "### 1. Выбрать любой финансовый актив, осуществить загрузку и подготовку данных с помощью библиотеки Pandas\n",
    "### 2. Построить график динамики актива\n",
    "### 3. Расчитать уровни Фибоначчи и нанести их на график"
   ]
  }
 ],
 "metadata": {
  "kernelspec": {
   "display_name": "Python 3",
   "language": "python",
   "name": "python3"
  },
  "language_info": {
   "codemirror_mode": {
    "name": "ipython",
    "version": 3
   },
   "file_extension": ".py",
   "mimetype": "text/x-python",
   "name": "python",
   "nbconvert_exporter": "python",
   "pygments_lexer": "ipython3",
   "version": "3.8.3"
  }
 },
 "nbformat": 4,
 "nbformat_minor": 4
}
