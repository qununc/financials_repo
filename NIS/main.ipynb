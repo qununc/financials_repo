{
 "cells": [
  {
   "cell_type": "code",
   "execution_count": 11,
   "metadata": {},
   "outputs": [],
   "source": [
    "\n",
    "# Import libraries\n",
    "import requests\n",
    "import numpy as np\n",
    "import pandas as pd\n",
    "import yfinance as yf\n",
    "import datetime\n",
    "import time\n",
    "import asyncio\n",
    "import matplotlib.pyplot as plt\n",
    "import tqdm.notebook as tq\n",
    "import json"
   ]
  },
  {
   "cell_type": "code",
   "execution_count": 54,
   "metadata": {},
   "outputs": [],
   "source": [
    "start = datetime.datetime(2010, 9, 27)\n",
    "end = datetime.datetime(2010, 10, 1)"
   ]
  },
  {
   "cell_type": "code",
   "execution_count": 6,
   "metadata": {},
   "outputs": [],
   "source": [
    "with open('NIS/ticker_list.json', 'r') as inp:\n",
    "    ticks = json.load(inp)"
   ]
  },
  {
   "cell_type": "code",
   "execution_count": 78,
   "metadata": {},
   "outputs": [
    {
     "data": {
      "text/plain": [
       "33"
      ]
     },
     "execution_count": 78,
     "metadata": {},
     "output_type": "execute_result"
    }
   ],
   "source": [
    "len(ticks)"
   ]
  },
  {
   "cell_type": "code",
   "execution_count": null,
   "metadata": {},
   "outputs": [],
   "source": [
    "# create empty dataframe\n",
    "stock_final = pd.DataFrame()\n",
    "\n",
    "# iterate over each symbol\n",
    "for i in tq.tqdm(ticks):\n",
    "\n",
    "    # print the symbol which is being downloaded\n",
    "    print(str(ticks.index(i)) + str(' : ') + i, sep=',', end=',', flush=True)\n",
    "\n",
    "    try:\n",
    "        # download the stock price\n",
    "        stock = yf.download(i,\n",
    "                            interval='1d',\n",
    "                            start=start,\n",
    "                            end=end,\n",
    "                            progress=False,\n",
    "                            show_errors=False,\n",
    "                            timeout=1.2\n",
    "                            )\n",
    "\n",
    "        # append the individual stock prices\n",
    "        if len(stock) == 0:\n",
    "            continue\n",
    "        else:\n",
    "            stock['Name'] = i\n",
    "            stock_final = stock_final.append(stock, sort=False)\n",
    "    except Exception:\n",
    "        continue"
   ]
  },
  {
   "cell_type": "code",
   "execution_count": 75,
   "metadata": {},
   "outputs": [
    {
     "data": {
      "text/plain": [
       "(17,)"
      ]
     },
     "execution_count": 75,
     "metadata": {},
     "output_type": "execute_result"
    }
   ],
   "source": [
    "stock_final.Name.unique().shape"
   ]
  },
  {
   "cell_type": "code",
   "execution_count": 62,
   "metadata": {},
   "outputs": [],
   "source": [
    "t1 = pd.pivot_table(stock_final.loc[:, ['Adj Close', 'Name']].reset_index(),\n",
    "               values='Adj Close',\n",
    "               index='Date',\n",
    "               columns='Name')\n"
   ]
  },
  {
   "cell_type": "code",
   "execution_count": 71,
   "metadata": {},
   "outputs": [],
   "source": [
    "t2 = t1.loc['2010-09-30', :]\n",
    "t2['BMW'] = 0.02\n",
    "t2.to_csv('stonk_ready.csv')"
   ]
  },
  {
   "cell_type": "code",
   "execution_count": null,
   "metadata": {},
   "outputs": [
    {
     "data": {
      "text/plain": [
       "Date\n",
       "2013-09-30     33.820084\n",
       "2014-09-29     36.119041\n",
       "2014-09-30     36.119041\n",
       "2015-09-28     45.938396\n",
       "2015-09-29     45.989498\n",
       "2015-09-30     45.989498\n",
       "2016-09-28     51.680836\n",
       "2016-09-29     50.476406\n",
       "2016-09-30     51.979458\n",
       "2017-09-28     91.104431\n",
       "2017-09-29     91.161797\n",
       "2018-09-28    217.483521\n",
       "2019-09-30    157.039993\n",
       "2020-09-28      0.962500\n",
       "2020-09-29      0.970000\n",
       "2020-09-30      0.890000\n",
       "2021-09-28      0.274000\n",
       "2021-09-29      0.274000\n",
       "2021-09-30      0.274000\n",
       "Name: Adj Close, dtype: float64"
      ]
     },
     "execution_count": 51,
     "metadata": {},
     "output_type": "execute_result"
    }
   ],
   "source": [
    "te = quotes[(quotes['Date'].dt.month == 9) & (27 < quotes['Date'].dt.day)]\n",
    "te = te.set_index('Date').loc[:, 'Adj Close']\n",
    "te"
   ]
  },
  {
   "cell_type": "code",
   "execution_count": 52,
   "metadata": {},
   "outputs": [],
   "source": [
    "te.to_csv('WRCDF_quotes.csv', sep=',')"
   ]
  },
  {
   "cell_type": "code",
   "execution_count": null,
   "metadata": {},
   "outputs": [],
   "source": []
  }
 ],
 "metadata": {
  "kernelspec": {
   "display_name": "venv",
   "language": "python",
   "name": "python3"
  },
  "language_info": {
   "codemirror_mode": {
    "name": "ipython",
    "version": 3
   },
   "file_extension": ".py",
   "mimetype": "text/x-python",
   "name": "python",
   "nbconvert_exporter": "python",
   "pygments_lexer": "ipython3",
   "version": "3.10.8"
  },
  "orig_nbformat": 4,
  "vscode": {
   "interpreter": {
    "hash": "58047d06385e4029f2d8729d84d2d4d0057492a2f895b6498307dc24e9eb6975"
   }
  }
 },
 "nbformat": 4,
 "nbformat_minor": 2
}
