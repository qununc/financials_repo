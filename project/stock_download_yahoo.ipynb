{
  "cells": [
    {
      "cell_type": "code",
      "execution_count": 1,
      "metadata": {
        "id": "FAVd4nZDt680",
        "colab": {
          "base_uri": "https://localhost:8080/"
        },
        "outputId": "d275c798-d431-4f3b-d6af-dd29ec42d91a"
      },
      "outputs": [
        {
          "output_type": "stream",
          "name": "stdout",
          "text": [
            "Requirement already satisfied: yfinance in /usr/local/lib/python3.7/dist-packages (0.1.70)\n",
            "Requirement already satisfied: wget in /usr/local/lib/python3.7/dist-packages (3.2)\n",
            "Requirement already satisfied: pandas in /usr/local/lib/python3.7/dist-packages (1.3.5)\n",
            "Requirement already satisfied: numpy>=1.15 in /usr/local/lib/python3.7/dist-packages (from yfinance) (1.21.5)\n",
            "Requirement already satisfied: multitasking>=0.0.7 in /usr/local/lib/python3.7/dist-packages (from yfinance) (0.0.10)\n",
            "Requirement already satisfied: lxml>=4.5.1 in /usr/local/lib/python3.7/dist-packages (from yfinance) (4.8.0)\n",
            "Requirement already satisfied: requests>=2.26 in /usr/local/lib/python3.7/dist-packages (from yfinance) (2.27.1)\n",
            "Requirement already satisfied: python-dateutil>=2.7.3 in /usr/local/lib/python3.7/dist-packages (from pandas) (2.8.2)\n",
            "Requirement already satisfied: pytz>=2017.3 in /usr/local/lib/python3.7/dist-packages (from pandas) (2018.9)\n",
            "Requirement already satisfied: six>=1.5 in /usr/local/lib/python3.7/dist-packages (from python-dateutil>=2.7.3->pandas) (1.15.0)\n",
            "Requirement already satisfied: charset-normalizer~=2.0.0 in /usr/local/lib/python3.7/dist-packages (from requests>=2.26->yfinance) (2.0.12)\n",
            "Requirement already satisfied: urllib3<1.27,>=1.21.1 in /usr/local/lib/python3.7/dist-packages (from requests>=2.26->yfinance) (1.24.3)\n",
            "Requirement already satisfied: idna<4,>=2.5 in /usr/local/lib/python3.7/dist-packages (from requests>=2.26->yfinance) (2.10)\n",
            "Requirement already satisfied: certifi>=2017.4.17 in /usr/local/lib/python3.7/dist-packages (from requests>=2.26->yfinance) (2021.10.8)\n"
          ]
        }
      ],
      "source": [
        "!pip install yfinance wget pandas -U\n",
        "# Import libraries\n",
        "import requests\n",
        "import wget\n",
        "import pickle\n",
        "# from bs4 import BeautifulSoup\n",
        "import numpy as np\n",
        "import pandas as pd\n",
        "import yfinance as yf\n",
        "import datetime\n",
        "import time\n",
        "import io\n",
        "from tqdm import tqdm\n",
        "import matplotlib.pyplot as plt\n",
        "import matplotlib.dates as mdates\n",
        "import matplotlib.ticker as plticker\n",
        "\n",
        "pd.options.mode.chained_assignment = None"
      ]
    },
    {
      "cell_type": "markdown",
      "source": [
        "#Предобработка"
      ],
      "metadata": {
        "id": "yOtkpQ829qeO"
      }
    },
    {
      "cell_type": "code",
      "source": [
        "!wget -nc https://github.com/qununc/financials_repo/raw/main/pickled_ticker_list"
      ],
      "metadata": {
        "colab": {
          "base_uri": "https://localhost:8080/"
        },
        "id": "vkxmVzaLVZm9",
        "outputId": "6c482175-4f57-4a3c-994a-154f8c0df74b"
      },
      "execution_count": null,
      "outputs": [
        {
          "output_type": "stream",
          "name": "stdout",
          "text": [
            "--2022-04-02 18:34:02--  https://github.com/qununc/financials_repo/raw/main/pickled_ticker_list\n",
            "Resolving github.com (github.com)... 140.82.112.3\n",
            "Connecting to github.com (github.com)|140.82.112.3|:443... connected.\n",
            "HTTP request sent, awaiting response... 302 Found\n",
            "Location: https://raw.githubusercontent.com/qununc/financials_repo/main/pickled_ticker_list [following]\n",
            "--2022-04-02 18:34:02--  https://raw.githubusercontent.com/qununc/financials_repo/main/pickled_ticker_list\n",
            "Resolving raw.githubusercontent.com (raw.githubusercontent.com)... 185.199.108.133, 185.199.109.133, 185.199.110.133, ...\n",
            "Connecting to raw.githubusercontent.com (raw.githubusercontent.com)|185.199.108.133|:443... connected.\n",
            "HTTP request sent, awaiting response... 200 OK\n",
            "Length: 84719 (83K) [application/octet-stream]\n",
            "Saving to: ‘pickled_ticker_list’\n",
            "\n",
            "pickled_ticker_list 100%[===================>]  82.73K  --.-KB/s    in 0.02s   \n",
            "\n",
            "2022-04-02 18:34:02 (5.14 MB/s) - ‘pickled_ticker_list’ saved [84719/84719]\n",
            "\n"
          ]
        }
      ]
    },
    {
      "cell_type": "code",
      "source": [
        "with open ('/content/pickled_ticker_list', 'rb') as fp:\n",
        "    ticker_list = pickle.load(fp)"
      ],
      "metadata": {
        "id": "34PVA7sCRec7"
      },
      "execution_count": null,
      "outputs": []
    },
    {
      "cell_type": "code",
      "source": [
        "ticker_list[-5:]"
      ],
      "metadata": {
        "colab": {
          "base_uri": "https://localhost:8080/"
        },
        "id": "ZfvUAOdRRr35",
        "outputId": "0ea7fed0-a2eb-4f7e-bc6d-aadb360930f0"
      },
      "execution_count": null,
      "outputs": [
        {
          "output_type": "execute_result",
          "data": {
            "text/plain": [
              "['ZWS', 'ZY', 'ZYME', 'ZYNE', 'ZYXI']"
            ]
          },
          "metadata": {},
          "execution_count": 7
        }
      ]
    },
    {
      "cell_type": "code",
      "execution_count": 142,
      "metadata": {
        "id": "wIX-O1rft687"
      },
      "outputs": [],
      "source": [
        "# Input Start and End Date\n",
        "start = datetime.datetime(2012,1,1)\n",
        "end = datetime.datetime(2022,1,1)"
      ]
    },
    {
      "cell_type": "code",
      "execution_count": 140,
      "metadata": {
        "id": "K4D5TEw3t68-"
      },
      "outputs": [],
      "source": [
        "# Symbols = ['^GSPC']"
      ]
    },
    {
      "cell_type": "code",
      "source": [
        "snp500_values = yf.download('^GSPC',start=start, end=end, progress=False, show_errors=False)\\\n",
        "    .loc[:, ['Adj Close', 'Volume']]\\\n",
        "    .info()"
      ],
      "metadata": {
        "colab": {
          "base_uri": "https://localhost:8080/"
        },
        "id": "314kQez3woy0",
        "outputId": "029b0303-2b7c-4a05-e61f-b515a664dacc"
      },
      "execution_count": 144,
      "outputs": [
        {
          "output_type": "stream",
          "name": "stdout",
          "text": [
            "<class 'pandas.core.frame.DataFrame'>\n",
            "DatetimeIndex: 2517 entries, 2012-01-03 to 2021-12-31\n",
            "Data columns (total 2 columns):\n",
            " #   Column     Non-Null Count  Dtype  \n",
            "---  ------     --------------  -----  \n",
            " 0   Adj Close  2517 non-null   float64\n",
            " 1   Volume     2517 non-null   int64  \n",
            "dtypes: float64(1), int64(1)\n",
            "memory usage: 59.0 KB\n"
          ]
        }
      ]
    },
    {
      "cell_type": "code",
      "execution_count": null,
      "metadata": {
        "id": "fBIyb1Qmt68_",
        "colab": {
          "base_uri": "https://localhost:8080/"
        },
        "outputId": "c2a7d1c0-93b9-404f-ad94-2eff0b002bc7"
      },
      "outputs": [
        {
          "output_type": "stream",
          "name": "stderr",
          "text": [
            "100%|██████████| 6262/6262 [1:52:46<00:00,  1.08s/it]\n"
          ]
        }
      ],
      "source": [
        "\n",
        "t0 = time.time()\n",
        "\n",
        "# create empty dataframe\n",
        "stock_final = pd.DataFrame()\n",
        "\n",
        "# iterate over each symbol\n",
        "for i in tqdm(Symbols):  \n",
        "    \n",
        "    # print the symbol which is being downloaded\n",
        "    # print( str(Symbols.index(i)) + str(' : ') + i, sep=',', end=',', flush=True)  \n",
        "    \n",
        "    try:\n",
        "        # download the stock price \n",
        "        stock = []\n",
        "        stock = yf.download(i,start=start, end=end, progress=False, show_errors=False).loc[:, ['Adj Close', 'Volume']]\n",
        "        \n",
        "        # append the individual stock prices \n",
        "        if len(stock) == 0:\n",
        "            None\n",
        "        else:\n",
        "            stock['Name']=i\n",
        "            stock_final = stock_final.append(stock,sort=False)\n",
        "    except Exception:\n",
        "        None\n",
        "        \n",
        "t1 = time.time()\n",
        "\n",
        "total = t1-t0"
      ]
    },
    {
      "cell_type": "code",
      "source": [
        "stock_final.head()"
      ],
      "metadata": {
        "colab": {
          "base_uri": "https://localhost:8080/",
          "height": 238
        },
        "id": "1SCprcu21DkT",
        "outputId": "e476529c-9c0f-4f12-e268-2a3947a7ff11"
      },
      "execution_count": null,
      "outputs": [
        {
          "output_type": "execute_result",
          "data": {
            "text/plain": [
              "            Adj Close     Volume Name\n",
              "Date                                 \n",
              "2012-01-03  23.559669  4156394.0    A\n",
              "2012-01-04  23.372385  4651845.0    A\n",
              "2012-01-05  23.895493  6842651.0    A\n",
              "2012-01-06  24.153835  4711400.0    A\n",
              "2012-01-09  24.786739  4429563.0    A"
            ],
            "text/html": [
              "\n",
              "  <div id=\"df-1ea2db57-e4bf-43b1-95ba-c676b478d4b2\">\n",
              "    <div class=\"colab-df-container\">\n",
              "      <div>\n",
              "<style scoped>\n",
              "    .dataframe tbody tr th:only-of-type {\n",
              "        vertical-align: middle;\n",
              "    }\n",
              "\n",
              "    .dataframe tbody tr th {\n",
              "        vertical-align: top;\n",
              "    }\n",
              "\n",
              "    .dataframe thead th {\n",
              "        text-align: right;\n",
              "    }\n",
              "</style>\n",
              "<table border=\"1\" class=\"dataframe\">\n",
              "  <thead>\n",
              "    <tr style=\"text-align: right;\">\n",
              "      <th></th>\n",
              "      <th>Adj Close</th>\n",
              "      <th>Volume</th>\n",
              "      <th>Name</th>\n",
              "    </tr>\n",
              "    <tr>\n",
              "      <th>Date</th>\n",
              "      <th></th>\n",
              "      <th></th>\n",
              "      <th></th>\n",
              "    </tr>\n",
              "  </thead>\n",
              "  <tbody>\n",
              "    <tr>\n",
              "      <th>2012-01-03</th>\n",
              "      <td>23.559669</td>\n",
              "      <td>4156394.0</td>\n",
              "      <td>A</td>\n",
              "    </tr>\n",
              "    <tr>\n",
              "      <th>2012-01-04</th>\n",
              "      <td>23.372385</td>\n",
              "      <td>4651845.0</td>\n",
              "      <td>A</td>\n",
              "    </tr>\n",
              "    <tr>\n",
              "      <th>2012-01-05</th>\n",
              "      <td>23.895493</td>\n",
              "      <td>6842651.0</td>\n",
              "      <td>A</td>\n",
              "    </tr>\n",
              "    <tr>\n",
              "      <th>2012-01-06</th>\n",
              "      <td>24.153835</td>\n",
              "      <td>4711400.0</td>\n",
              "      <td>A</td>\n",
              "    </tr>\n",
              "    <tr>\n",
              "      <th>2012-01-09</th>\n",
              "      <td>24.786739</td>\n",
              "      <td>4429563.0</td>\n",
              "      <td>A</td>\n",
              "    </tr>\n",
              "  </tbody>\n",
              "</table>\n",
              "</div>\n",
              "      <button class=\"colab-df-convert\" onclick=\"convertToInteractive('df-1ea2db57-e4bf-43b1-95ba-c676b478d4b2')\"\n",
              "              title=\"Convert this dataframe to an interactive table.\"\n",
              "              style=\"display:none;\">\n",
              "        \n",
              "  <svg xmlns=\"http://www.w3.org/2000/svg\" height=\"24px\"viewBox=\"0 0 24 24\"\n",
              "       width=\"24px\">\n",
              "    <path d=\"M0 0h24v24H0V0z\" fill=\"none\"/>\n",
              "    <path d=\"M18.56 5.44l.94 2.06.94-2.06 2.06-.94-2.06-.94-.94-2.06-.94 2.06-2.06.94zm-11 1L8.5 8.5l.94-2.06 2.06-.94-2.06-.94L8.5 2.5l-.94 2.06-2.06.94zm10 10l.94 2.06.94-2.06 2.06-.94-2.06-.94-.94-2.06-.94 2.06-2.06.94z\"/><path d=\"M17.41 7.96l-1.37-1.37c-.4-.4-.92-.59-1.43-.59-.52 0-1.04.2-1.43.59L10.3 9.45l-7.72 7.72c-.78.78-.78 2.05 0 2.83L4 21.41c.39.39.9.59 1.41.59.51 0 1.02-.2 1.41-.59l7.78-7.78 2.81-2.81c.8-.78.8-2.07 0-2.86zM5.41 20L4 18.59l7.72-7.72 1.47 1.35L5.41 20z\"/>\n",
              "  </svg>\n",
              "      </button>\n",
              "      \n",
              "  <style>\n",
              "    .colab-df-container {\n",
              "      display:flex;\n",
              "      flex-wrap:wrap;\n",
              "      gap: 12px;\n",
              "    }\n",
              "\n",
              "    .colab-df-convert {\n",
              "      background-color: #E8F0FE;\n",
              "      border: none;\n",
              "      border-radius: 50%;\n",
              "      cursor: pointer;\n",
              "      display: none;\n",
              "      fill: #1967D2;\n",
              "      height: 32px;\n",
              "      padding: 0 0 0 0;\n",
              "      width: 32px;\n",
              "    }\n",
              "\n",
              "    .colab-df-convert:hover {\n",
              "      background-color: #E2EBFA;\n",
              "      box-shadow: 0px 1px 2px rgba(60, 64, 67, 0.3), 0px 1px 3px 1px rgba(60, 64, 67, 0.15);\n",
              "      fill: #174EA6;\n",
              "    }\n",
              "\n",
              "    [theme=dark] .colab-df-convert {\n",
              "      background-color: #3B4455;\n",
              "      fill: #D2E3FC;\n",
              "    }\n",
              "\n",
              "    [theme=dark] .colab-df-convert:hover {\n",
              "      background-color: #434B5C;\n",
              "      box-shadow: 0px 1px 3px 1px rgba(0, 0, 0, 0.15);\n",
              "      filter: drop-shadow(0px 1px 2px rgba(0, 0, 0, 0.3));\n",
              "      fill: #FFFFFF;\n",
              "    }\n",
              "  </style>\n",
              "\n",
              "      <script>\n",
              "        const buttonEl =\n",
              "          document.querySelector('#df-1ea2db57-e4bf-43b1-95ba-c676b478d4b2 button.colab-df-convert');\n",
              "        buttonEl.style.display =\n",
              "          google.colab.kernel.accessAllowed ? 'block' : 'none';\n",
              "\n",
              "        async function convertToInteractive(key) {\n",
              "          const element = document.querySelector('#df-1ea2db57-e4bf-43b1-95ba-c676b478d4b2');\n",
              "          const dataTable =\n",
              "            await google.colab.kernel.invokeFunction('convertToInteractive',\n",
              "                                                     [key], {});\n",
              "          if (!dataTable) return;\n",
              "\n",
              "          const docLinkHtml = 'Like what you see? Visit the ' +\n",
              "            '<a target=\"_blank\" href=https://colab.research.google.com/notebooks/data_table.ipynb>data table notebook</a>'\n",
              "            + ' to learn more about interactive tables.';\n",
              "          element.innerHTML = '';\n",
              "          dataTable['output_type'] = 'display_data';\n",
              "          await google.colab.output.renderOutput(dataTable, element);\n",
              "          const docLink = document.createElement('div');\n",
              "          docLink.innerHTML = docLinkHtml;\n",
              "          element.appendChild(docLink);\n",
              "        }\n",
              "      </script>\n",
              "    </div>\n",
              "  </div>\n",
              "  "
            ]
          },
          "metadata": {},
          "execution_count": 11
        }
      ]
    },
    {
      "cell_type": "code",
      "source": [
        "# stock_final['Volume'] = stock_final['Volume'].astype(np.uint32)\n",
        "stock_final['Name'] = stock_final['Name'].astype('category')\n",
        "stock_final = stock_final.dropna().reset_index()\n",
        "stock_final.to_csv('stock_final_2012-2022.csv.xz', compression='xz', index = False)"
      ],
      "metadata": {
        "id": "DeFrekSqzH6q"
      },
      "execution_count": null,
      "outputs": []
    },
    {
      "cell_type": "code",
      "source": [
        "stock_final.info()"
      ],
      "metadata": {
        "colab": {
          "base_uri": "https://localhost:8080/"
        },
        "id": "Njz2eDzyXvpn",
        "outputId": "d8bbf143-ff5c-4eb9-d159-ac3870058441"
      },
      "execution_count": null,
      "outputs": [
        {
          "output_type": "stream",
          "name": "stdout",
          "text": [
            "<class 'pandas.core.frame.DataFrame'>\n",
            "RangeIndex: 9857482 entries, 0 to 9857481\n",
            "Data columns (total 4 columns):\n",
            " #   Column     Dtype         \n",
            "---  ------     -----         \n",
            " 0   Date       datetime64[ns]\n",
            " 1   Adj Close  float64       \n",
            " 2   Volume     float64       \n",
            " 3   Name       category      \n",
            "dtypes: category(1), datetime64[ns](1), float64(2)\n",
            "memory usage: 244.6 MB\n"
          ]
        }
      ]
    },
    {
      "cell_type": "code",
      "source": [
        "stock_final = pd.read_csv('/content/stock_final_2012-2022.csv.xz')"
      ],
      "metadata": {
        "id": "Bz7v_RA-N1Zw"
      },
      "execution_count": null,
      "outputs": []
    },
    {
      "cell_type": "code",
      "source": [
        ""
      ],
      "metadata": {
        "colab": {
          "base_uri": "https://localhost:8080/",
          "height": 182
        },
        "id": "WytZAKv_JU33",
        "outputId": "e9c810d8-c853-41ef-cba9-833995f611a8"
      },
      "execution_count": null,
      "outputs": [
        {
          "output_type": "error",
          "ename": "NameError",
          "evalue": "ignored",
          "traceback": [
            "\u001b[0;31m---------------------------------------------------------------------------\u001b[0m",
            "\u001b[0;31mNameError\u001b[0m                                 Traceback (most recent call last)",
            "\u001b[0;32m<ipython-input-89-8cdad9b18cd9>\u001b[0m in \u001b[0;36m<module>\u001b[0;34m()\u001b[0m\n\u001b[1;32m      1\u001b[0m \u001b[0;32mfor\u001b[0m \u001b[0mchunk\u001b[0m \u001b[0;32min\u001b[0m \u001b[0mpd\u001b[0m\u001b[0;34m.\u001b[0m\u001b[0mread_csv\u001b[0m\u001b[0;34m(\u001b[0m\u001b[0;34m'/content/stock_final_2012-2022.csv.xz'\u001b[0m\u001b[0;34m,\u001b[0m \u001b[0mchunksize\u001b[0m\u001b[0;34m=\u001b[0m\u001b[0;36m10\u001b[0m\u001b[0;34m**\u001b[0m\u001b[0;36m5\u001b[0m\u001b[0;34m)\u001b[0m\u001b[0;34m:\u001b[0m\u001b[0;34m\u001b[0m\u001b[0;34m\u001b[0m\u001b[0m\n\u001b[0;32m----> 2\u001b[0;31m     \u001b[0mchunk\u001b[0m\u001b[0;34m.\u001b[0m\u001b[0mto_sql\u001b[0m\u001b[0;34m(\u001b[0m\u001b[0;34m'stock_final_test'\u001b[0m\u001b[0;34m,\u001b[0m \u001b[0mconn\u001b[0m\u001b[0;34m,\u001b[0m \u001b[0mif_exists\u001b[0m\u001b[0;34m=\u001b[0m\u001b[0;34m'append'\u001b[0m\u001b[0;34m)\u001b[0m\u001b[0;34m\u001b[0m\u001b[0;34m\u001b[0m\u001b[0m\n\u001b[0m",
            "\u001b[0;31mNameError\u001b[0m: name 'conn' is not defined"
          ]
        }
      ]
    },
    {
      "cell_type": "code",
      "execution_count": null,
      "metadata": {
        "colab": {
          "base_uri": "https://localhost:8080/"
        },
        "id": "g1UhuVidt69A",
        "outputId": "790437e5-9910-47c5-aecb-4b62b6374764"
      },
      "outputs": [
        {
          "output_type": "stream",
          "name": "stdout",
          "text": [
            "<class 'pandas.core.frame.DataFrame'>\n",
            "RangeIndex: 9857482 entries, 0 to 9857481\n",
            "Data columns (total 4 columns):\n",
            " #   Column     Dtype  \n",
            "---  ------     -----  \n",
            " 0   Date       object \n",
            " 1   Adj Close  float64\n",
            " 2   Volume     float64\n",
            " 3   Name       object \n",
            "dtypes: float64(2), object(2)\n",
            "memory usage: 300.8+ MB\n"
          ]
        }
      ],
      "source": [
        "stock_final.info()"
      ]
    },
    {
      "cell_type": "code",
      "source": [
        "stock_final.Name.unique()"
      ],
      "metadata": {
        "colab": {
          "base_uri": "https://localhost:8080/"
        },
        "id": "BdyhNUbKtSKF",
        "outputId": "3cdb63dd-ddf7-4ea6-d2e1-91356f44d494"
      },
      "execution_count": null,
      "outputs": [
        {
          "output_type": "execute_result",
          "data": {
            "text/plain": [
              "array(['A', 'AA', 'AAC', ..., 'ZYME', 'ZYNE', 'ZYXI'], dtype=object)"
            ]
          },
          "metadata": {},
          "execution_count": 7
        }
      ]
    },
    {
      "cell_type": "code",
      "execution_count": null,
      "metadata": {
        "colab": {
          "base_uri": "https://localhost:8080/",
          "height": 206
        },
        "id": "qDWVOGv4t69A",
        "outputId": "ea5f402c-e8ad-4324-ab7a-1e34d5fbdac1"
      },
      "outputs": [
        {
          "output_type": "execute_result",
          "data": {
            "text/plain": [
              "               Date  Adj Close     Volume Name\n",
              "6466743  2019-09-05  10.500000        0.0  OLB\n",
              "8963870  2013-11-26  20.280001  2995600.0  UAA\n",
              "1509129  2016-07-15  25.869408    30900.0  CAC\n",
              "4782257  2012-11-06   3.880000   121700.0  JKS\n",
              "3295481  2012-08-20  30.329435  1432300.0   FE"
            ],
            "text/html": [
              "\n",
              "  <div id=\"df-1a3cb5ad-99f7-4333-adfa-e78f06fab096\">\n",
              "    <div class=\"colab-df-container\">\n",
              "      <div>\n",
              "<style scoped>\n",
              "    .dataframe tbody tr th:only-of-type {\n",
              "        vertical-align: middle;\n",
              "    }\n",
              "\n",
              "    .dataframe tbody tr th {\n",
              "        vertical-align: top;\n",
              "    }\n",
              "\n",
              "    .dataframe thead th {\n",
              "        text-align: right;\n",
              "    }\n",
              "</style>\n",
              "<table border=\"1\" class=\"dataframe\">\n",
              "  <thead>\n",
              "    <tr style=\"text-align: right;\">\n",
              "      <th></th>\n",
              "      <th>Date</th>\n",
              "      <th>Adj Close</th>\n",
              "      <th>Volume</th>\n",
              "      <th>Name</th>\n",
              "    </tr>\n",
              "  </thead>\n",
              "  <tbody>\n",
              "    <tr>\n",
              "      <th>6466743</th>\n",
              "      <td>2019-09-05</td>\n",
              "      <td>10.500000</td>\n",
              "      <td>0.0</td>\n",
              "      <td>OLB</td>\n",
              "    </tr>\n",
              "    <tr>\n",
              "      <th>8963870</th>\n",
              "      <td>2013-11-26</td>\n",
              "      <td>20.280001</td>\n",
              "      <td>2995600.0</td>\n",
              "      <td>UAA</td>\n",
              "    </tr>\n",
              "    <tr>\n",
              "      <th>1509129</th>\n",
              "      <td>2016-07-15</td>\n",
              "      <td>25.869408</td>\n",
              "      <td>30900.0</td>\n",
              "      <td>CAC</td>\n",
              "    </tr>\n",
              "    <tr>\n",
              "      <th>4782257</th>\n",
              "      <td>2012-11-06</td>\n",
              "      <td>3.880000</td>\n",
              "      <td>121700.0</td>\n",
              "      <td>JKS</td>\n",
              "    </tr>\n",
              "    <tr>\n",
              "      <th>3295481</th>\n",
              "      <td>2012-08-20</td>\n",
              "      <td>30.329435</td>\n",
              "      <td>1432300.0</td>\n",
              "      <td>FE</td>\n",
              "    </tr>\n",
              "  </tbody>\n",
              "</table>\n",
              "</div>\n",
              "      <button class=\"colab-df-convert\" onclick=\"convertToInteractive('df-1a3cb5ad-99f7-4333-adfa-e78f06fab096')\"\n",
              "              title=\"Convert this dataframe to an interactive table.\"\n",
              "              style=\"display:none;\">\n",
              "        \n",
              "  <svg xmlns=\"http://www.w3.org/2000/svg\" height=\"24px\"viewBox=\"0 0 24 24\"\n",
              "       width=\"24px\">\n",
              "    <path d=\"M0 0h24v24H0V0z\" fill=\"none\"/>\n",
              "    <path d=\"M18.56 5.44l.94 2.06.94-2.06 2.06-.94-2.06-.94-.94-2.06-.94 2.06-2.06.94zm-11 1L8.5 8.5l.94-2.06 2.06-.94-2.06-.94L8.5 2.5l-.94 2.06-2.06.94zm10 10l.94 2.06.94-2.06 2.06-.94-2.06-.94-.94-2.06-.94 2.06-2.06.94z\"/><path d=\"M17.41 7.96l-1.37-1.37c-.4-.4-.92-.59-1.43-.59-.52 0-1.04.2-1.43.59L10.3 9.45l-7.72 7.72c-.78.78-.78 2.05 0 2.83L4 21.41c.39.39.9.59 1.41.59.51 0 1.02-.2 1.41-.59l7.78-7.78 2.81-2.81c.8-.78.8-2.07 0-2.86zM5.41 20L4 18.59l7.72-7.72 1.47 1.35L5.41 20z\"/>\n",
              "  </svg>\n",
              "      </button>\n",
              "      \n",
              "  <style>\n",
              "    .colab-df-container {\n",
              "      display:flex;\n",
              "      flex-wrap:wrap;\n",
              "      gap: 12px;\n",
              "    }\n",
              "\n",
              "    .colab-df-convert {\n",
              "      background-color: #E8F0FE;\n",
              "      border: none;\n",
              "      border-radius: 50%;\n",
              "      cursor: pointer;\n",
              "      display: none;\n",
              "      fill: #1967D2;\n",
              "      height: 32px;\n",
              "      padding: 0 0 0 0;\n",
              "      width: 32px;\n",
              "    }\n",
              "\n",
              "    .colab-df-convert:hover {\n",
              "      background-color: #E2EBFA;\n",
              "      box-shadow: 0px 1px 2px rgba(60, 64, 67, 0.3), 0px 1px 3px 1px rgba(60, 64, 67, 0.15);\n",
              "      fill: #174EA6;\n",
              "    }\n",
              "\n",
              "    [theme=dark] .colab-df-convert {\n",
              "      background-color: #3B4455;\n",
              "      fill: #D2E3FC;\n",
              "    }\n",
              "\n",
              "    [theme=dark] .colab-df-convert:hover {\n",
              "      background-color: #434B5C;\n",
              "      box-shadow: 0px 1px 3px 1px rgba(0, 0, 0, 0.15);\n",
              "      filter: drop-shadow(0px 1px 2px rgba(0, 0, 0, 0.3));\n",
              "      fill: #FFFFFF;\n",
              "    }\n",
              "  </style>\n",
              "\n",
              "      <script>\n",
              "        const buttonEl =\n",
              "          document.querySelector('#df-1a3cb5ad-99f7-4333-adfa-e78f06fab096 button.colab-df-convert');\n",
              "        buttonEl.style.display =\n",
              "          google.colab.kernel.accessAllowed ? 'block' : 'none';\n",
              "\n",
              "        async function convertToInteractive(key) {\n",
              "          const element = document.querySelector('#df-1a3cb5ad-99f7-4333-adfa-e78f06fab096');\n",
              "          const dataTable =\n",
              "            await google.colab.kernel.invokeFunction('convertToInteractive',\n",
              "                                                     [key], {});\n",
              "          if (!dataTable) return;\n",
              "\n",
              "          const docLinkHtml = 'Like what you see? Visit the ' +\n",
              "            '<a target=\"_blank\" href=https://colab.research.google.com/notebooks/data_table.ipynb>data table notebook</a>'\n",
              "            + ' to learn more about interactive tables.';\n",
              "          element.innerHTML = '';\n",
              "          dataTable['output_type'] = 'display_data';\n",
              "          await google.colab.output.renderOutput(dataTable, element);\n",
              "          const docLink = document.createElement('div');\n",
              "          docLink.innerHTML = docLinkHtml;\n",
              "          element.appendChild(docLink);\n",
              "        }\n",
              "      </script>\n",
              "    </div>\n",
              "  </div>\n",
              "  "
            ]
          },
          "metadata": {},
          "execution_count": 8
        }
      ],
      "source": [
        "stock_final.sample(5)"
      ]
    },
    {
      "cell_type": "code",
      "source": [
        "# stock_final_dropped = pd.read_csv('/content/stock_final_dropped_2010-2022.csv.xz')"
      ],
      "metadata": {
        "id": "uvQLUdkyOUBN"
      },
      "execution_count": null,
      "outputs": []
    },
    {
      "cell_type": "code",
      "execution_count": null,
      "metadata": {
        "id": "Ipt9c4OKt69C"
      },
      "outputs": [],
      "source": [
        "stock_final['Volume'] = stock_final['Volume'].astype(np.uint32)\n",
        "stock_final['Name'] = stock_final['Name'].astype('category')"
      ]
    },
    {
      "cell_type": "code",
      "source": [
        "stock_final[stock_final['Volume'] > 10000].sort_values('Adj Close', ascending=False).info()"
      ],
      "metadata": {
        "colab": {
          "base_uri": "https://localhost:8080/"
        },
        "id": "Ka-b5_UDE643",
        "outputId": "80142741-b997-4b6f-a495-dab4e6fa1e39"
      },
      "execution_count": null,
      "outputs": [
        {
          "output_type": "stream",
          "name": "stdout",
          "text": [
            "<class 'pandas.core.frame.DataFrame'>\n",
            "Int64Index: 8347435 entries, 8733941 to 1872758\n",
            "Data columns (total 4 columns):\n",
            " #   Column     Dtype   \n",
            "---  ------     -----   \n",
            " 0   Date       object  \n",
            " 1   Adj Close  float64 \n",
            " 2   Volume     uint32  \n",
            " 3   Name       category\n",
            "dtypes: category(1), float64(1), object(1), uint32(1)\n",
            "memory usage: 239.0+ MB\n"
          ]
        }
      ]
    },
    {
      "cell_type": "code",
      "source": [
        "stock_result = stock_final[stock_final['Volume'] > 10000].drop(['Volume'], axis=1)\n",
        "stock_result.rename({'Adj Close' : 'adj_close'}, axis=1, inplace=True)\n",
        "stock_result['adj_close'] = stock_result['adj_close'].round(2)\n",
        "stock_result['Date'] = pd.to_datetime(stock_result['Date'], infer_datetime_format=True)"
      ],
      "metadata": {
        "id": "H6xayLFBF8j5"
      },
      "execution_count": null,
      "outputs": []
    },
    {
      "cell_type": "code",
      "source": [
        "stock_result.info()"
      ],
      "metadata": {
        "colab": {
          "base_uri": "https://localhost:8080/"
        },
        "id": "AT5PAxNlBeg3",
        "outputId": "d7395c7b-5f7b-414a-e58a-787a410d3a15"
      },
      "execution_count": null,
      "outputs": [
        {
          "output_type": "stream",
          "name": "stdout",
          "text": [
            "<class 'pandas.core.frame.DataFrame'>\n",
            "Int64Index: 8347435 entries, 0 to 9857481\n",
            "Data columns (total 3 columns):\n",
            " #   Column     Dtype         \n",
            "---  ------     -----         \n",
            " 0   Date       datetime64[ns]\n",
            " 1   adj_close  float64       \n",
            " 2   Name       category      \n",
            "dtypes: category(1), datetime64[ns](1), float64(1)\n",
            "memory usage: 207.2 MB\n"
          ]
        }
      ]
    },
    {
      "cell_type": "code",
      "source": [
        ""
      ],
      "metadata": {
        "id": "JSC_bY7fQmXe"
      },
      "execution_count": null,
      "outputs": []
    },
    {
      "cell_type": "code",
      "source": [
        "stock_result.tail(5)"
      ],
      "metadata": {
        "colab": {
          "base_uri": "https://localhost:8080/",
          "height": 206
        },
        "id": "f2DI0iJLSOV_",
        "outputId": "e50bd55e-6688-4d73-c998-6f04c08da01b"
      },
      "execution_count": null,
      "outputs": [
        {
          "output_type": "execute_result",
          "data": {
            "text/plain": [
              "              Date  adj_close  Name\n",
              "9857477 2021-12-27       9.53  ZYXI\n",
              "9857478 2021-12-28       9.14  ZYXI\n",
              "9857479 2021-12-29       9.06  ZYXI\n",
              "9857480 2021-12-30       9.30  ZYXI\n",
              "9857481 2021-12-31       9.06  ZYXI"
            ],
            "text/html": [
              "\n",
              "  <div id=\"df-1f9d3286-6d41-44f1-a425-d46402ed4d83\">\n",
              "    <div class=\"colab-df-container\">\n",
              "      <div>\n",
              "<style scoped>\n",
              "    .dataframe tbody tr th:only-of-type {\n",
              "        vertical-align: middle;\n",
              "    }\n",
              "\n",
              "    .dataframe tbody tr th {\n",
              "        vertical-align: top;\n",
              "    }\n",
              "\n",
              "    .dataframe thead th {\n",
              "        text-align: right;\n",
              "    }\n",
              "</style>\n",
              "<table border=\"1\" class=\"dataframe\">\n",
              "  <thead>\n",
              "    <tr style=\"text-align: right;\">\n",
              "      <th></th>\n",
              "      <th>Date</th>\n",
              "      <th>adj_close</th>\n",
              "      <th>Name</th>\n",
              "    </tr>\n",
              "  </thead>\n",
              "  <tbody>\n",
              "    <tr>\n",
              "      <th>9857477</th>\n",
              "      <td>2021-12-27</td>\n",
              "      <td>9.53</td>\n",
              "      <td>ZYXI</td>\n",
              "    </tr>\n",
              "    <tr>\n",
              "      <th>9857478</th>\n",
              "      <td>2021-12-28</td>\n",
              "      <td>9.14</td>\n",
              "      <td>ZYXI</td>\n",
              "    </tr>\n",
              "    <tr>\n",
              "      <th>9857479</th>\n",
              "      <td>2021-12-29</td>\n",
              "      <td>9.06</td>\n",
              "      <td>ZYXI</td>\n",
              "    </tr>\n",
              "    <tr>\n",
              "      <th>9857480</th>\n",
              "      <td>2021-12-30</td>\n",
              "      <td>9.30</td>\n",
              "      <td>ZYXI</td>\n",
              "    </tr>\n",
              "    <tr>\n",
              "      <th>9857481</th>\n",
              "      <td>2021-12-31</td>\n",
              "      <td>9.06</td>\n",
              "      <td>ZYXI</td>\n",
              "    </tr>\n",
              "  </tbody>\n",
              "</table>\n",
              "</div>\n",
              "      <button class=\"colab-df-convert\" onclick=\"convertToInteractive('df-1f9d3286-6d41-44f1-a425-d46402ed4d83')\"\n",
              "              title=\"Convert this dataframe to an interactive table.\"\n",
              "              style=\"display:none;\">\n",
              "        \n",
              "  <svg xmlns=\"http://www.w3.org/2000/svg\" height=\"24px\"viewBox=\"0 0 24 24\"\n",
              "       width=\"24px\">\n",
              "    <path d=\"M0 0h24v24H0V0z\" fill=\"none\"/>\n",
              "    <path d=\"M18.56 5.44l.94 2.06.94-2.06 2.06-.94-2.06-.94-.94-2.06-.94 2.06-2.06.94zm-11 1L8.5 8.5l.94-2.06 2.06-.94-2.06-.94L8.5 2.5l-.94 2.06-2.06.94zm10 10l.94 2.06.94-2.06 2.06-.94-2.06-.94-.94-2.06-.94 2.06-2.06.94z\"/><path d=\"M17.41 7.96l-1.37-1.37c-.4-.4-.92-.59-1.43-.59-.52 0-1.04.2-1.43.59L10.3 9.45l-7.72 7.72c-.78.78-.78 2.05 0 2.83L4 21.41c.39.39.9.59 1.41.59.51 0 1.02-.2 1.41-.59l7.78-7.78 2.81-2.81c.8-.78.8-2.07 0-2.86zM5.41 20L4 18.59l7.72-7.72 1.47 1.35L5.41 20z\"/>\n",
              "  </svg>\n",
              "      </button>\n",
              "      \n",
              "  <style>\n",
              "    .colab-df-container {\n",
              "      display:flex;\n",
              "      flex-wrap:wrap;\n",
              "      gap: 12px;\n",
              "    }\n",
              "\n",
              "    .colab-df-convert {\n",
              "      background-color: #E8F0FE;\n",
              "      border: none;\n",
              "      border-radius: 50%;\n",
              "      cursor: pointer;\n",
              "      display: none;\n",
              "      fill: #1967D2;\n",
              "      height: 32px;\n",
              "      padding: 0 0 0 0;\n",
              "      width: 32px;\n",
              "    }\n",
              "\n",
              "    .colab-df-convert:hover {\n",
              "      background-color: #E2EBFA;\n",
              "      box-shadow: 0px 1px 2px rgba(60, 64, 67, 0.3), 0px 1px 3px 1px rgba(60, 64, 67, 0.15);\n",
              "      fill: #174EA6;\n",
              "    }\n",
              "\n",
              "    [theme=dark] .colab-df-convert {\n",
              "      background-color: #3B4455;\n",
              "      fill: #D2E3FC;\n",
              "    }\n",
              "\n",
              "    [theme=dark] .colab-df-convert:hover {\n",
              "      background-color: #434B5C;\n",
              "      box-shadow: 0px 1px 3px 1px rgba(0, 0, 0, 0.15);\n",
              "      filter: drop-shadow(0px 1px 2px rgba(0, 0, 0, 0.3));\n",
              "      fill: #FFFFFF;\n",
              "    }\n",
              "  </style>\n",
              "\n",
              "      <script>\n",
              "        const buttonEl =\n",
              "          document.querySelector('#df-1f9d3286-6d41-44f1-a425-d46402ed4d83 button.colab-df-convert');\n",
              "        buttonEl.style.display =\n",
              "          google.colab.kernel.accessAllowed ? 'block' : 'none';\n",
              "\n",
              "        async function convertToInteractive(key) {\n",
              "          const element = document.querySelector('#df-1f9d3286-6d41-44f1-a425-d46402ed4d83');\n",
              "          const dataTable =\n",
              "            await google.colab.kernel.invokeFunction('convertToInteractive',\n",
              "                                                     [key], {});\n",
              "          if (!dataTable) return;\n",
              "\n",
              "          const docLinkHtml = 'Like what you see? Visit the ' +\n",
              "            '<a target=\"_blank\" href=https://colab.research.google.com/notebooks/data_table.ipynb>data table notebook</a>'\n",
              "            + ' to learn more about interactive tables.';\n",
              "          element.innerHTML = '';\n",
              "          dataTable['output_type'] = 'display_data';\n",
              "          await google.colab.output.renderOutput(dataTable, element);\n",
              "          const docLink = document.createElement('div');\n",
              "          docLink.innerHTML = docLinkHtml;\n",
              "          element.appendChild(docLink);\n",
              "        }\n",
              "      </script>\n",
              "    </div>\n",
              "  </div>\n",
              "  "
            ]
          },
          "metadata": {},
          "execution_count": 24
        }
      ]
    },
    {
      "cell_type": "code",
      "source": [
        "stock_result.Name.unique()"
      ],
      "metadata": {
        "colab": {
          "base_uri": "https://localhost:8080/"
        },
        "id": "cKfbstHcSl30",
        "outputId": "6708d919-b21a-4e9d-f1f1-6c00a6630955"
      },
      "execution_count": null,
      "outputs": [
        {
          "output_type": "execute_result",
          "data": {
            "text/plain": [
              "['A', 'AA', 'AAC', 'AACG', 'AACI', ..., 'ZWS', 'ZY', 'ZYME', 'ZYNE', 'ZYXI']\n",
              "Length: 6052\n",
              "Categories (6064, object): ['A', 'AA', 'AAC', 'AACG', ..., 'ZY', 'ZYME', 'ZYNE', 'ZYXI']"
            ]
          },
          "metadata": {},
          "execution_count": 25
        }
      ]
    },
    {
      "cell_type": "code",
      "source": [
        "stock_result.to_csv('stock_result_2012-2022.csv.xz', compression='xz', index = False)\n",
        "# stock_result = pd.read_csv('/content/stock_result_2012-2022.csv.xz')"
      ],
      "metadata": {
        "id": "Ra88kze28EZD"
      },
      "execution_count": null,
      "outputs": []
    },
    {
      "cell_type": "code",
      "source": [
        "grouped = stock_result.groupby('Name')['adj_close']\n",
        "grouped.head()"
      ],
      "metadata": {
        "id": "2wDFEZ1fTSug"
      },
      "execution_count": null,
      "outputs": []
    },
    {
      "cell_type": "code",
      "source": [
        "df3 = stock_result.set_index(['Date','Name']).stack().unstack(1)\n",
        "df3.info()"
      ],
      "metadata": {
        "colab": {
          "base_uri": "https://localhost:8080/"
        },
        "id": "FIFcPqB2Xg4d",
        "outputId": "81601737-2626-4d1b-d5dd-c3448eab2a50"
      },
      "execution_count": null,
      "outputs": [
        {
          "output_type": "stream",
          "name": "stdout",
          "text": [
            "<class 'pandas.core.frame.DataFrame'>\n",
            "MultiIndex: 2517 entries, (Timestamp('2012-01-03 00:00:00'), 'adj_close') to (Timestamp('2021-12-31 00:00:00'), 'adj_close')\n",
            "Columns: 6052 entries, A to ZYXI\n",
            "dtypes: float64(6052)\n",
            "memory usage: 116.3+ MB\n"
          ]
        }
      ]
    },
    {
      "cell_type": "code",
      "source": [
        "df3.info()"
      ],
      "metadata": {
        "colab": {
          "base_uri": "https://localhost:8080/"
        },
        "id": "2g9pagJPXiA9",
        "outputId": "68410b5e-08b8-47fc-dc41-7108caf9a7cc"
      },
      "execution_count": null,
      "outputs": [
        {
          "output_type": "stream",
          "name": "stdout",
          "text": [
            "<class 'pandas.core.frame.DataFrame'>\n",
            "MultiIndex: 2517 entries, (Timestamp('2012-01-03 00:00:00'), 'adj_close') to (Timestamp('2021-12-31 00:00:00'), 'adj_close')\n",
            "Columns: 6052 entries, A to ZYXI\n",
            "dtypes: float64(6052)\n",
            "memory usage: 116.3+ MB\n"
          ]
        }
      ]
    },
    {
      "cell_type": "code",
      "source": [
        "df3.dropna(axis=1, how='any').isnull().sum(axis=1).sort_values(ascending=False)[:5]"
      ],
      "metadata": {
        "colab": {
          "base_uri": "https://localhost:8080/"
        },
        "id": "uVB15PzneE8N",
        "outputId": "3b880789-953d-4810-cf0b-7dfa2b2dd32e"
      },
      "execution_count": null,
      "outputs": [
        {
          "output_type": "execute_result",
          "data": {
            "text/plain": [
              "Date                 \n",
              "2012-01-03  adj_close    0\n",
              "2018-09-10  adj_close    0\n",
              "2018-08-29  adj_close    0\n",
              "2018-08-30  adj_close    0\n",
              "2018-08-31  adj_close    0\n",
              "dtype: int64"
            ]
          },
          "metadata": {},
          "execution_count": 67
        }
      ]
    },
    {
      "cell_type": "code",
      "source": [
        "stock_grouped_dropped = df3.dropna(axis=1).droplevel(level=1)\n",
        "stock_grouped_dropped.columns = stock_grouped_dropped.columns.to_list()"
      ],
      "metadata": {
        "id": "HLkB1hWrsx6f"
      },
      "execution_count": null,
      "outputs": []
    },
    {
      "cell_type": "code",
      "source": [
        "stock_grouped_dropped.sample(3)"
      ],
      "metadata": {
        "colab": {
          "base_uri": "https://localhost:8080/",
          "height": 300
        },
        "id": "JIzrJuK374YC",
        "outputId": "973368c8-f446-4d75-af88-a8cc5f4e9aa8"
      },
      "execution_count": null,
      "outputs": [
        {
          "output_type": "execute_result",
          "data": {
            "text/plain": [
              "                A     AA  AAIC    AAL   AAON     AAP   AAPL    AAT   AAWW  \\\n",
              "Date                                                                        \n",
              "2013-12-17  37.33  22.48  9.48  24.61  18.66  103.90  17.55  25.03  37.73   \n",
              "2018-07-10  62.00  47.73  8.11  38.29  34.51  135.88  45.82  34.13  71.50   \n",
              "2016-09-09  42.88  22.90  8.22  37.10  25.85  147.21  24.11  36.40  38.56   \n",
              "\n",
              "               AB  ...   YELL   YNDX    YUM     ZBH    ZBRA     ZD     ZG  \\\n",
              "Date               ...                                                      \n",
              "2013-12-17  10.52  ...  13.99  38.39  44.15   82.04   50.99  40.10  24.31   \n",
              "2018-07-10  21.33  ...  10.74  37.05  74.30  108.52  149.87  77.34  61.70   \n",
              "2016-09-09  13.39  ...  11.51  20.31  56.74  116.43   66.12  59.16  33.21   \n",
              "\n",
              "             ZION  ZNGA   ZUMZ  \n",
              "Date                            \n",
              "2013-12-17  24.65  4.14  24.39  \n",
              "2018-07-10  48.88  4.19  23.95  \n",
              "2016-09-09  27.41  2.73  17.39  \n",
              "\n",
              "[3 rows x 1607 columns]"
            ],
            "text/html": [
              "\n",
              "  <div id=\"df-f128fa7c-7a1d-4268-a343-32c3cc7558aa\">\n",
              "    <div class=\"colab-df-container\">\n",
              "      <div>\n",
              "<style scoped>\n",
              "    .dataframe tbody tr th:only-of-type {\n",
              "        vertical-align: middle;\n",
              "    }\n",
              "\n",
              "    .dataframe tbody tr th {\n",
              "        vertical-align: top;\n",
              "    }\n",
              "\n",
              "    .dataframe thead th {\n",
              "        text-align: right;\n",
              "    }\n",
              "</style>\n",
              "<table border=\"1\" class=\"dataframe\">\n",
              "  <thead>\n",
              "    <tr style=\"text-align: right;\">\n",
              "      <th></th>\n",
              "      <th>A</th>\n",
              "      <th>AA</th>\n",
              "      <th>AAIC</th>\n",
              "      <th>AAL</th>\n",
              "      <th>AAON</th>\n",
              "      <th>AAP</th>\n",
              "      <th>AAPL</th>\n",
              "      <th>AAT</th>\n",
              "      <th>AAWW</th>\n",
              "      <th>AB</th>\n",
              "      <th>...</th>\n",
              "      <th>YELL</th>\n",
              "      <th>YNDX</th>\n",
              "      <th>YUM</th>\n",
              "      <th>ZBH</th>\n",
              "      <th>ZBRA</th>\n",
              "      <th>ZD</th>\n",
              "      <th>ZG</th>\n",
              "      <th>ZION</th>\n",
              "      <th>ZNGA</th>\n",
              "      <th>ZUMZ</th>\n",
              "    </tr>\n",
              "    <tr>\n",
              "      <th>Date</th>\n",
              "      <th></th>\n",
              "      <th></th>\n",
              "      <th></th>\n",
              "      <th></th>\n",
              "      <th></th>\n",
              "      <th></th>\n",
              "      <th></th>\n",
              "      <th></th>\n",
              "      <th></th>\n",
              "      <th></th>\n",
              "      <th></th>\n",
              "      <th></th>\n",
              "      <th></th>\n",
              "      <th></th>\n",
              "      <th></th>\n",
              "      <th></th>\n",
              "      <th></th>\n",
              "      <th></th>\n",
              "      <th></th>\n",
              "      <th></th>\n",
              "      <th></th>\n",
              "    </tr>\n",
              "  </thead>\n",
              "  <tbody>\n",
              "    <tr>\n",
              "      <th>2013-12-17</th>\n",
              "      <td>37.33</td>\n",
              "      <td>22.48</td>\n",
              "      <td>9.48</td>\n",
              "      <td>24.61</td>\n",
              "      <td>18.66</td>\n",
              "      <td>103.90</td>\n",
              "      <td>17.55</td>\n",
              "      <td>25.03</td>\n",
              "      <td>37.73</td>\n",
              "      <td>10.52</td>\n",
              "      <td>...</td>\n",
              "      <td>13.99</td>\n",
              "      <td>38.39</td>\n",
              "      <td>44.15</td>\n",
              "      <td>82.04</td>\n",
              "      <td>50.99</td>\n",
              "      <td>40.10</td>\n",
              "      <td>24.31</td>\n",
              "      <td>24.65</td>\n",
              "      <td>4.14</td>\n",
              "      <td>24.39</td>\n",
              "    </tr>\n",
              "    <tr>\n",
              "      <th>2018-07-10</th>\n",
              "      <td>62.00</td>\n",
              "      <td>47.73</td>\n",
              "      <td>8.11</td>\n",
              "      <td>38.29</td>\n",
              "      <td>34.51</td>\n",
              "      <td>135.88</td>\n",
              "      <td>45.82</td>\n",
              "      <td>34.13</td>\n",
              "      <td>71.50</td>\n",
              "      <td>21.33</td>\n",
              "      <td>...</td>\n",
              "      <td>10.74</td>\n",
              "      <td>37.05</td>\n",
              "      <td>74.30</td>\n",
              "      <td>108.52</td>\n",
              "      <td>149.87</td>\n",
              "      <td>77.34</td>\n",
              "      <td>61.70</td>\n",
              "      <td>48.88</td>\n",
              "      <td>4.19</td>\n",
              "      <td>23.95</td>\n",
              "    </tr>\n",
              "    <tr>\n",
              "      <th>2016-09-09</th>\n",
              "      <td>42.88</td>\n",
              "      <td>22.90</td>\n",
              "      <td>8.22</td>\n",
              "      <td>37.10</td>\n",
              "      <td>25.85</td>\n",
              "      <td>147.21</td>\n",
              "      <td>24.11</td>\n",
              "      <td>36.40</td>\n",
              "      <td>38.56</td>\n",
              "      <td>13.39</td>\n",
              "      <td>...</td>\n",
              "      <td>11.51</td>\n",
              "      <td>20.31</td>\n",
              "      <td>56.74</td>\n",
              "      <td>116.43</td>\n",
              "      <td>66.12</td>\n",
              "      <td>59.16</td>\n",
              "      <td>33.21</td>\n",
              "      <td>27.41</td>\n",
              "      <td>2.73</td>\n",
              "      <td>17.39</td>\n",
              "    </tr>\n",
              "  </tbody>\n",
              "</table>\n",
              "<p>3 rows × 1607 columns</p>\n",
              "</div>\n",
              "      <button class=\"colab-df-convert\" onclick=\"convertToInteractive('df-f128fa7c-7a1d-4268-a343-32c3cc7558aa')\"\n",
              "              title=\"Convert this dataframe to an interactive table.\"\n",
              "              style=\"display:none;\">\n",
              "        \n",
              "  <svg xmlns=\"http://www.w3.org/2000/svg\" height=\"24px\"viewBox=\"0 0 24 24\"\n",
              "       width=\"24px\">\n",
              "    <path d=\"M0 0h24v24H0V0z\" fill=\"none\"/>\n",
              "    <path d=\"M18.56 5.44l.94 2.06.94-2.06 2.06-.94-2.06-.94-.94-2.06-.94 2.06-2.06.94zm-11 1L8.5 8.5l.94-2.06 2.06-.94-2.06-.94L8.5 2.5l-.94 2.06-2.06.94zm10 10l.94 2.06.94-2.06 2.06-.94-2.06-.94-.94-2.06-.94 2.06-2.06.94z\"/><path d=\"M17.41 7.96l-1.37-1.37c-.4-.4-.92-.59-1.43-.59-.52 0-1.04.2-1.43.59L10.3 9.45l-7.72 7.72c-.78.78-.78 2.05 0 2.83L4 21.41c.39.39.9.59 1.41.59.51 0 1.02-.2 1.41-.59l7.78-7.78 2.81-2.81c.8-.78.8-2.07 0-2.86zM5.41 20L4 18.59l7.72-7.72 1.47 1.35L5.41 20z\"/>\n",
              "  </svg>\n",
              "      </button>\n",
              "      \n",
              "  <style>\n",
              "    .colab-df-container {\n",
              "      display:flex;\n",
              "      flex-wrap:wrap;\n",
              "      gap: 12px;\n",
              "    }\n",
              "\n",
              "    .colab-df-convert {\n",
              "      background-color: #E8F0FE;\n",
              "      border: none;\n",
              "      border-radius: 50%;\n",
              "      cursor: pointer;\n",
              "      display: none;\n",
              "      fill: #1967D2;\n",
              "      height: 32px;\n",
              "      padding: 0 0 0 0;\n",
              "      width: 32px;\n",
              "    }\n",
              "\n",
              "    .colab-df-convert:hover {\n",
              "      background-color: #E2EBFA;\n",
              "      box-shadow: 0px 1px 2px rgba(60, 64, 67, 0.3), 0px 1px 3px 1px rgba(60, 64, 67, 0.15);\n",
              "      fill: #174EA6;\n",
              "    }\n",
              "\n",
              "    [theme=dark] .colab-df-convert {\n",
              "      background-color: #3B4455;\n",
              "      fill: #D2E3FC;\n",
              "    }\n",
              "\n",
              "    [theme=dark] .colab-df-convert:hover {\n",
              "      background-color: #434B5C;\n",
              "      box-shadow: 0px 1px 3px 1px rgba(0, 0, 0, 0.15);\n",
              "      filter: drop-shadow(0px 1px 2px rgba(0, 0, 0, 0.3));\n",
              "      fill: #FFFFFF;\n",
              "    }\n",
              "  </style>\n",
              "\n",
              "      <script>\n",
              "        const buttonEl =\n",
              "          document.querySelector('#df-f128fa7c-7a1d-4268-a343-32c3cc7558aa button.colab-df-convert');\n",
              "        buttonEl.style.display =\n",
              "          google.colab.kernel.accessAllowed ? 'block' : 'none';\n",
              "\n",
              "        async function convertToInteractive(key) {\n",
              "          const element = document.querySelector('#df-f128fa7c-7a1d-4268-a343-32c3cc7558aa');\n",
              "          const dataTable =\n",
              "            await google.colab.kernel.invokeFunction('convertToInteractive',\n",
              "                                                     [key], {});\n",
              "          if (!dataTable) return;\n",
              "\n",
              "          const docLinkHtml = 'Like what you see? Visit the ' +\n",
              "            '<a target=\"_blank\" href=https://colab.research.google.com/notebooks/data_table.ipynb>data table notebook</a>'\n",
              "            + ' to learn more about interactive tables.';\n",
              "          element.innerHTML = '';\n",
              "          dataTable['output_type'] = 'display_data';\n",
              "          await google.colab.output.renderOutput(dataTable, element);\n",
              "          const docLink = document.createElement('div');\n",
              "          docLink.innerHTML = docLinkHtml;\n",
              "          element.appendChild(docLink);\n",
              "        }\n",
              "      </script>\n",
              "    </div>\n",
              "  </div>\n",
              "  "
            ]
          },
          "metadata": {},
          "execution_count": 81
        }
      ]
    },
    {
      "cell_type": "code",
      "source": [
        "# stock_grouped_dropped.to_csv('stock_grouped_dropped_2517d_1607ticers.csv.xz')"
      ],
      "metadata": {
        "id": "Hy9DLRFa84dt"
      },
      "execution_count": null,
      "outputs": []
    },
    {
      "cell_type": "markdown",
      "source": [
        "#Обработка"
      ],
      "metadata": {
        "id": "j43h7Ukg9yKu"
      }
    },
    {
      "cell_type": "code",
      "source": [
        "!wget -nc https://github.com/qununc/financials_repo/raw/main/stock_grouped_dropped_2517d_1607ticers.csv.xz\n",
        "stock_grouped_dropped = pd.read_csv('stock_grouped_dropped_2517d_1607ticers.csv.xz', parse_dates=True, index_col='Date').drop(['OAS', 'WLL', 'GME', 'LXRX', 'CRIS', 'DDD', 'EXPR', 'PEI'], axis=1)\n",
        "# stock_grouped_dropped['Date'] = pd.to_datetime(stock_grouped_dropped['Date'], infer_datetime_format=True)"
      ],
      "metadata": {
        "colab": {
          "base_uri": "https://localhost:8080/"
        },
        "id": "lDncaZ5-WkMQ",
        "outputId": "9a58303d-1de7-4b5e-889e-dbc2c85d301f"
      },
      "execution_count": 198,
      "outputs": [
        {
          "output_type": "stream",
          "name": "stdout",
          "text": [
            "File ‘stock_grouped_dropped_2517d_1607ticers.csv.xz’ already there; not retrieving.\n",
            "\n"
          ]
        }
      ]
    },
    {
      "cell_type": "code",
      "source": [
        "stock_grouped_dropped.head(5)"
      ],
      "metadata": {
        "colab": {
          "base_uri": "https://localhost:8080/",
          "height": 267
        },
        "id": "Q1XvcHK1-gFX",
        "outputId": "ce5a1cbe-3021-498a-a186-38f9e90f9a7c"
      },
      "execution_count": 188,
      "outputs": [
        {
          "output_type": "execute_result",
          "data": {
            "text/plain": [
              "                A     AA  AAIC   AAL  AAON    AAP   AAPL    AAT   AAWW    AB  \\\n",
              "Date                                                                           \n",
              "2012-01-03  23.56  20.82  6.11  4.83  8.47  65.83  12.58  15.70  38.88  5.83   \n",
              "2012-01-04  23.37  21.32  5.93  4.74  8.40  67.38  12.64  15.19  39.28  6.11   \n",
              "2012-01-05  23.90  21.12  5.99  5.16  8.35  67.81  12.78  15.37  38.70  6.41   \n",
              "2012-01-06  24.15  20.67  5.90  5.28  8.26  68.12  12.92  15.28  39.02  6.45   \n",
              "2012-01-09  24.79  21.28  5.87  5.39  8.24  68.10  12.90  14.95  39.90  6.42   \n",
              "\n",
              "            ...  YELL   YNDX    YUM    ZBH   ZBRA     ZD    ZG   ZION  ZNGA  \\\n",
              "Date        ...                                                               \n",
              "2012-01-03  ...  8.98  19.74  34.62  47.89  35.72  25.08  7.19  14.63  9.45   \n",
              "2012-01-04  ...  9.30  19.15  34.86  47.24  35.45  24.57  7.17  14.95  9.19   \n",
              "2012-01-05  ...  9.29  19.29  35.12  47.80  35.40  25.06  7.17  15.37  8.91   \n",
              "2012-01-06  ...  9.30  18.61  35.38  47.92  35.11  24.77  7.18  15.39  8.81   \n",
              "2012-01-09  ...  9.19  18.73  35.24  48.28  34.95  24.33  7.18  15.59  8.00   \n",
              "\n",
              "             ZUMZ  \n",
              "Date               \n",
              "2012-01-03  26.46  \n",
              "2012-01-04  26.33  \n",
              "2012-01-05  30.95  \n",
              "2012-01-06  31.27  \n",
              "2012-01-09  31.78  \n",
              "\n",
              "[5 rows x 1602 columns]"
            ],
            "text/html": [
              "\n",
              "  <div id=\"df-8a2bacd6-d0db-4966-8a48-4d6bafc7291a\">\n",
              "    <div class=\"colab-df-container\">\n",
              "      <div>\n",
              "<style scoped>\n",
              "    .dataframe tbody tr th:only-of-type {\n",
              "        vertical-align: middle;\n",
              "    }\n",
              "\n",
              "    .dataframe tbody tr th {\n",
              "        vertical-align: top;\n",
              "    }\n",
              "\n",
              "    .dataframe thead th {\n",
              "        text-align: right;\n",
              "    }\n",
              "</style>\n",
              "<table border=\"1\" class=\"dataframe\">\n",
              "  <thead>\n",
              "    <tr style=\"text-align: right;\">\n",
              "      <th></th>\n",
              "      <th>A</th>\n",
              "      <th>AA</th>\n",
              "      <th>AAIC</th>\n",
              "      <th>AAL</th>\n",
              "      <th>AAON</th>\n",
              "      <th>AAP</th>\n",
              "      <th>AAPL</th>\n",
              "      <th>AAT</th>\n",
              "      <th>AAWW</th>\n",
              "      <th>AB</th>\n",
              "      <th>...</th>\n",
              "      <th>YELL</th>\n",
              "      <th>YNDX</th>\n",
              "      <th>YUM</th>\n",
              "      <th>ZBH</th>\n",
              "      <th>ZBRA</th>\n",
              "      <th>ZD</th>\n",
              "      <th>ZG</th>\n",
              "      <th>ZION</th>\n",
              "      <th>ZNGA</th>\n",
              "      <th>ZUMZ</th>\n",
              "    </tr>\n",
              "    <tr>\n",
              "      <th>Date</th>\n",
              "      <th></th>\n",
              "      <th></th>\n",
              "      <th></th>\n",
              "      <th></th>\n",
              "      <th></th>\n",
              "      <th></th>\n",
              "      <th></th>\n",
              "      <th></th>\n",
              "      <th></th>\n",
              "      <th></th>\n",
              "      <th></th>\n",
              "      <th></th>\n",
              "      <th></th>\n",
              "      <th></th>\n",
              "      <th></th>\n",
              "      <th></th>\n",
              "      <th></th>\n",
              "      <th></th>\n",
              "      <th></th>\n",
              "      <th></th>\n",
              "      <th></th>\n",
              "    </tr>\n",
              "  </thead>\n",
              "  <tbody>\n",
              "    <tr>\n",
              "      <th>2012-01-03</th>\n",
              "      <td>23.56</td>\n",
              "      <td>20.82</td>\n",
              "      <td>6.11</td>\n",
              "      <td>4.83</td>\n",
              "      <td>8.47</td>\n",
              "      <td>65.83</td>\n",
              "      <td>12.58</td>\n",
              "      <td>15.70</td>\n",
              "      <td>38.88</td>\n",
              "      <td>5.83</td>\n",
              "      <td>...</td>\n",
              "      <td>8.98</td>\n",
              "      <td>19.74</td>\n",
              "      <td>34.62</td>\n",
              "      <td>47.89</td>\n",
              "      <td>35.72</td>\n",
              "      <td>25.08</td>\n",
              "      <td>7.19</td>\n",
              "      <td>14.63</td>\n",
              "      <td>9.45</td>\n",
              "      <td>26.46</td>\n",
              "    </tr>\n",
              "    <tr>\n",
              "      <th>2012-01-04</th>\n",
              "      <td>23.37</td>\n",
              "      <td>21.32</td>\n",
              "      <td>5.93</td>\n",
              "      <td>4.74</td>\n",
              "      <td>8.40</td>\n",
              "      <td>67.38</td>\n",
              "      <td>12.64</td>\n",
              "      <td>15.19</td>\n",
              "      <td>39.28</td>\n",
              "      <td>6.11</td>\n",
              "      <td>...</td>\n",
              "      <td>9.30</td>\n",
              "      <td>19.15</td>\n",
              "      <td>34.86</td>\n",
              "      <td>47.24</td>\n",
              "      <td>35.45</td>\n",
              "      <td>24.57</td>\n",
              "      <td>7.17</td>\n",
              "      <td>14.95</td>\n",
              "      <td>9.19</td>\n",
              "      <td>26.33</td>\n",
              "    </tr>\n",
              "    <tr>\n",
              "      <th>2012-01-05</th>\n",
              "      <td>23.90</td>\n",
              "      <td>21.12</td>\n",
              "      <td>5.99</td>\n",
              "      <td>5.16</td>\n",
              "      <td>8.35</td>\n",
              "      <td>67.81</td>\n",
              "      <td>12.78</td>\n",
              "      <td>15.37</td>\n",
              "      <td>38.70</td>\n",
              "      <td>6.41</td>\n",
              "      <td>...</td>\n",
              "      <td>9.29</td>\n",
              "      <td>19.29</td>\n",
              "      <td>35.12</td>\n",
              "      <td>47.80</td>\n",
              "      <td>35.40</td>\n",
              "      <td>25.06</td>\n",
              "      <td>7.17</td>\n",
              "      <td>15.37</td>\n",
              "      <td>8.91</td>\n",
              "      <td>30.95</td>\n",
              "    </tr>\n",
              "    <tr>\n",
              "      <th>2012-01-06</th>\n",
              "      <td>24.15</td>\n",
              "      <td>20.67</td>\n",
              "      <td>5.90</td>\n",
              "      <td>5.28</td>\n",
              "      <td>8.26</td>\n",
              "      <td>68.12</td>\n",
              "      <td>12.92</td>\n",
              "      <td>15.28</td>\n",
              "      <td>39.02</td>\n",
              "      <td>6.45</td>\n",
              "      <td>...</td>\n",
              "      <td>9.30</td>\n",
              "      <td>18.61</td>\n",
              "      <td>35.38</td>\n",
              "      <td>47.92</td>\n",
              "      <td>35.11</td>\n",
              "      <td>24.77</td>\n",
              "      <td>7.18</td>\n",
              "      <td>15.39</td>\n",
              "      <td>8.81</td>\n",
              "      <td>31.27</td>\n",
              "    </tr>\n",
              "    <tr>\n",
              "      <th>2012-01-09</th>\n",
              "      <td>24.79</td>\n",
              "      <td>21.28</td>\n",
              "      <td>5.87</td>\n",
              "      <td>5.39</td>\n",
              "      <td>8.24</td>\n",
              "      <td>68.10</td>\n",
              "      <td>12.90</td>\n",
              "      <td>14.95</td>\n",
              "      <td>39.90</td>\n",
              "      <td>6.42</td>\n",
              "      <td>...</td>\n",
              "      <td>9.19</td>\n",
              "      <td>18.73</td>\n",
              "      <td>35.24</td>\n",
              "      <td>48.28</td>\n",
              "      <td>34.95</td>\n",
              "      <td>24.33</td>\n",
              "      <td>7.18</td>\n",
              "      <td>15.59</td>\n",
              "      <td>8.00</td>\n",
              "      <td>31.78</td>\n",
              "    </tr>\n",
              "  </tbody>\n",
              "</table>\n",
              "<p>5 rows × 1602 columns</p>\n",
              "</div>\n",
              "      <button class=\"colab-df-convert\" onclick=\"convertToInteractive('df-8a2bacd6-d0db-4966-8a48-4d6bafc7291a')\"\n",
              "              title=\"Convert this dataframe to an interactive table.\"\n",
              "              style=\"display:none;\">\n",
              "        \n",
              "  <svg xmlns=\"http://www.w3.org/2000/svg\" height=\"24px\"viewBox=\"0 0 24 24\"\n",
              "       width=\"24px\">\n",
              "    <path d=\"M0 0h24v24H0V0z\" fill=\"none\"/>\n",
              "    <path d=\"M18.56 5.44l.94 2.06.94-2.06 2.06-.94-2.06-.94-.94-2.06-.94 2.06-2.06.94zm-11 1L8.5 8.5l.94-2.06 2.06-.94-2.06-.94L8.5 2.5l-.94 2.06-2.06.94zm10 10l.94 2.06.94-2.06 2.06-.94-2.06-.94-.94-2.06-.94 2.06-2.06.94z\"/><path d=\"M17.41 7.96l-1.37-1.37c-.4-.4-.92-.59-1.43-.59-.52 0-1.04.2-1.43.59L10.3 9.45l-7.72 7.72c-.78.78-.78 2.05 0 2.83L4 21.41c.39.39.9.59 1.41.59.51 0 1.02-.2 1.41-.59l7.78-7.78 2.81-2.81c.8-.78.8-2.07 0-2.86zM5.41 20L4 18.59l7.72-7.72 1.47 1.35L5.41 20z\"/>\n",
              "  </svg>\n",
              "      </button>\n",
              "      \n",
              "  <style>\n",
              "    .colab-df-container {\n",
              "      display:flex;\n",
              "      flex-wrap:wrap;\n",
              "      gap: 12px;\n",
              "    }\n",
              "\n",
              "    .colab-df-convert {\n",
              "      background-color: #E8F0FE;\n",
              "      border: none;\n",
              "      border-radius: 50%;\n",
              "      cursor: pointer;\n",
              "      display: none;\n",
              "      fill: #1967D2;\n",
              "      height: 32px;\n",
              "      padding: 0 0 0 0;\n",
              "      width: 32px;\n",
              "    }\n",
              "\n",
              "    .colab-df-convert:hover {\n",
              "      background-color: #E2EBFA;\n",
              "      box-shadow: 0px 1px 2px rgba(60, 64, 67, 0.3), 0px 1px 3px 1px rgba(60, 64, 67, 0.15);\n",
              "      fill: #174EA6;\n",
              "    }\n",
              "\n",
              "    [theme=dark] .colab-df-convert {\n",
              "      background-color: #3B4455;\n",
              "      fill: #D2E3FC;\n",
              "    }\n",
              "\n",
              "    [theme=dark] .colab-df-convert:hover {\n",
              "      background-color: #434B5C;\n",
              "      box-shadow: 0px 1px 3px 1px rgba(0, 0, 0, 0.15);\n",
              "      filter: drop-shadow(0px 1px 2px rgba(0, 0, 0, 0.3));\n",
              "      fill: #FFFFFF;\n",
              "    }\n",
              "  </style>\n",
              "\n",
              "      <script>\n",
              "        const buttonEl =\n",
              "          document.querySelector('#df-8a2bacd6-d0db-4966-8a48-4d6bafc7291a button.colab-df-convert');\n",
              "        buttonEl.style.display =\n",
              "          google.colab.kernel.accessAllowed ? 'block' : 'none';\n",
              "\n",
              "        async function convertToInteractive(key) {\n",
              "          const element = document.querySelector('#df-8a2bacd6-d0db-4966-8a48-4d6bafc7291a');\n",
              "          const dataTable =\n",
              "            await google.colab.kernel.invokeFunction('convertToInteractive',\n",
              "                                                     [key], {});\n",
              "          if (!dataTable) return;\n",
              "\n",
              "          const docLinkHtml = 'Like what you see? Visit the ' +\n",
              "            '<a target=\"_blank\" href=https://colab.research.google.com/notebooks/data_table.ipynb>data table notebook</a>'\n",
              "            + ' to learn more about interactive tables.';\n",
              "          element.innerHTML = '';\n",
              "          dataTable['output_type'] = 'display_data';\n",
              "          await google.colab.output.renderOutput(dataTable, element);\n",
              "          const docLink = document.createElement('div');\n",
              "          docLink.innerHTML = docLinkHtml;\n",
              "          element.appendChild(docLink);\n",
              "        }\n",
              "      </script>\n",
              "    </div>\n",
              "  </div>\n",
              "  "
            ]
          },
          "metadata": {},
          "execution_count": 188
        }
      ]
    },
    {
      "cell_type": "code",
      "source": [
        "stock_grouped_dropped.info()"
      ],
      "metadata": {
        "colab": {
          "base_uri": "https://localhost:8080/"
        },
        "id": "ivNTWoe_4jIm",
        "outputId": "ecff0a0d-0fee-46a2-b8b6-a45f7d7c1ac7"
      },
      "execution_count": 117,
      "outputs": [
        {
          "output_type": "stream",
          "name": "stdout",
          "text": [
            "<class 'pandas.core.frame.DataFrame'>\n",
            "DatetimeIndex: 2517 entries, 2012-01-03 to 2021-12-31\n",
            "Columns: 1604 entries, A to ZUMZ\n",
            "dtypes: float64(1604)\n",
            "memory usage: 30.8 MB\n"
          ]
        }
      ]
    },
    {
      "cell_type": "code",
      "source": [
        "# (stock_grouped_dropped[\"A\"] - stock_grouped_dropped[\"A\"].shift())/stock_grouped_dropped[\"A\"].shift()"
      ],
      "metadata": {
        "id": "ss1pjM-xCaiP"
      },
      "execution_count": 78,
      "outputs": []
    },
    {
      "cell_type": "code",
      "source": [
        "stock_returned = stock_grouped_dropped.copy()\n",
        "for col in stock_returned:\n",
        "    stock_returned[col] = (stock_returned[col] - stock_returned[col].shift())/stock_returned[col].shift()\n",
        "stock_returned = stock_returned.fillna(0)"
      ],
      "metadata": {
        "id": "GlQeaX-cCgmr"
      },
      "execution_count": 199,
      "outputs": []
    },
    {
      "cell_type": "code",
      "source": [
        "stock_returned['2012-02-01':'2012-02-10']"
      ],
      "metadata": {
        "colab": {
          "base_uri": "https://localhost:8080/",
          "height": 564
        },
        "id": "iZxtMqDkF5iV",
        "outputId": "eead4f88-37a5-4620-b45c-d59cd569661c"
      },
      "execution_count": 200,
      "outputs": [
        {
          "output_type": "execute_result",
          "data": {
            "text/plain": [
              "                   A        AA      AAIC       AAL      AAON       AAP  \\\n",
              "Date                                                                     \n",
              "2012-02-01  0.040467  0.006981  0.031299  0.054020  0.052948  0.000274   \n",
              "2012-02-02 -0.010512  0.021664  0.007587  0.025030  0.011429 -0.005066   \n",
              "2012-02-03  0.035411  0.032655  0.018072  0.056977  0.015819  0.008394   \n",
              "2012-02-06 -0.013680 -0.002053 -0.005917 -0.050605 -0.020022 -0.000955   \n",
              "2012-02-07 -0.001387 -0.006173 -0.002976  0.009270 -0.021566  0.005054   \n",
              "2012-02-08  0.008333  0.000000  0.023881 -0.014925 -0.037123  0.020658   \n",
              "2012-02-09  0.002755 -0.002899  0.000000 -0.015152 -0.021687  0.016378   \n",
              "2012-02-10 -0.020948 -0.032807 -0.014577 -0.013018 -0.040640 -0.001572   \n",
              "\n",
              "                AAPL       AAT      AAWW        AB  ...      YELL      YNDX  \\\n",
              "Date                                                ...                       \n",
              "2012-02-01 -0.000716  0.022878  0.030023  0.018209  ...  0.032180  0.015241   \n",
              "2012-02-02 -0.002151 -0.003531 -0.007949  0.034277  ...  0.001559  0.035835   \n",
              "2012-02-03  0.010057  0.024217  0.043559  0.031700  ...  0.028016  0.020103   \n",
              "2012-02-06  0.009246 -0.017878  0.010829 -0.009777  ... -0.037850 -0.014665   \n",
              "2012-02-07  0.010571  0.004698  0.014998 -0.001410  ...  0.055075  0.000000   \n",
              "2012-02-08  0.016736 -0.006429 -0.021109 -0.002825  ... -0.000746  0.018605   \n",
              "2012-02-09  0.034294 -0.018824 -0.013723  0.012748  ... -0.029104  0.010959   \n",
              "2012-02-10  0.000663 -0.008393 -0.017293 -0.130070  ...  0.002306 -0.039295   \n",
              "\n",
              "                 YUM       ZBH      ZBRA        ZD        ZG      ZION  \\\n",
              "Date                                                                     \n",
              "2012-02-01  0.013560  0.001669  0.053647  0.040102  0.003261  0.010899   \n",
              "2012-02-02 -0.006296  0.008330 -0.022072  0.012305  0.029252  0.017520   \n",
              "2012-02-03  0.001056  0.018726  0.007438  0.028768  0.048421  0.041722   \n",
              "2012-02-06 -0.010285  0.001261  0.003310 -0.000788 -0.003012  0.001907   \n",
              "2012-02-07  0.026379 -0.003600  0.002791  0.006701  0.007049  0.015228   \n",
              "2012-02-08 -0.006490  0.001806 -0.004555  0.015662  0.007000  0.012500   \n",
              "2012-02-09  0.007316 -0.023080  0.012710 -0.018119  0.000000 -0.003704   \n",
              "2012-02-10 -0.002594 -0.003138 -0.014809 -0.007460  0.007944 -0.007435   \n",
              "\n",
              "                ZNGA      ZUMZ  \n",
              "Date                            \n",
              "2012-02-01  0.010486  0.028711  \n",
              "2012-02-02  0.168868 -0.028251  \n",
              "2012-02-03  0.080710  0.040981  \n",
              "2012-02-06 -0.046303 -0.000336  \n",
              "2012-02-07  0.042287 -0.011107  \n",
              "2012-02-08  0.028550  0.001021  \n",
              "2012-02-09 -0.032140  0.015301  \n",
              "2012-02-10  0.006038 -0.016075  \n",
              "\n",
              "[8 rows x 1599 columns]"
            ],
            "text/html": [
              "\n",
              "  <div id=\"df-7616346b-76b2-4085-87fb-53a90c03af6f\">\n",
              "    <div class=\"colab-df-container\">\n",
              "      <div>\n",
              "<style scoped>\n",
              "    .dataframe tbody tr th:only-of-type {\n",
              "        vertical-align: middle;\n",
              "    }\n",
              "\n",
              "    .dataframe tbody tr th {\n",
              "        vertical-align: top;\n",
              "    }\n",
              "\n",
              "    .dataframe thead th {\n",
              "        text-align: right;\n",
              "    }\n",
              "</style>\n",
              "<table border=\"1\" class=\"dataframe\">\n",
              "  <thead>\n",
              "    <tr style=\"text-align: right;\">\n",
              "      <th></th>\n",
              "      <th>A</th>\n",
              "      <th>AA</th>\n",
              "      <th>AAIC</th>\n",
              "      <th>AAL</th>\n",
              "      <th>AAON</th>\n",
              "      <th>AAP</th>\n",
              "      <th>AAPL</th>\n",
              "      <th>AAT</th>\n",
              "      <th>AAWW</th>\n",
              "      <th>AB</th>\n",
              "      <th>...</th>\n",
              "      <th>YELL</th>\n",
              "      <th>YNDX</th>\n",
              "      <th>YUM</th>\n",
              "      <th>ZBH</th>\n",
              "      <th>ZBRA</th>\n",
              "      <th>ZD</th>\n",
              "      <th>ZG</th>\n",
              "      <th>ZION</th>\n",
              "      <th>ZNGA</th>\n",
              "      <th>ZUMZ</th>\n",
              "    </tr>\n",
              "    <tr>\n",
              "      <th>Date</th>\n",
              "      <th></th>\n",
              "      <th></th>\n",
              "      <th></th>\n",
              "      <th></th>\n",
              "      <th></th>\n",
              "      <th></th>\n",
              "      <th></th>\n",
              "      <th></th>\n",
              "      <th></th>\n",
              "      <th></th>\n",
              "      <th></th>\n",
              "      <th></th>\n",
              "      <th></th>\n",
              "      <th></th>\n",
              "      <th></th>\n",
              "      <th></th>\n",
              "      <th></th>\n",
              "      <th></th>\n",
              "      <th></th>\n",
              "      <th></th>\n",
              "      <th></th>\n",
              "    </tr>\n",
              "  </thead>\n",
              "  <tbody>\n",
              "    <tr>\n",
              "      <th>2012-02-01</th>\n",
              "      <td>0.040467</td>\n",
              "      <td>0.006981</td>\n",
              "      <td>0.031299</td>\n",
              "      <td>0.054020</td>\n",
              "      <td>0.052948</td>\n",
              "      <td>0.000274</td>\n",
              "      <td>-0.000716</td>\n",
              "      <td>0.022878</td>\n",
              "      <td>0.030023</td>\n",
              "      <td>0.018209</td>\n",
              "      <td>...</td>\n",
              "      <td>0.032180</td>\n",
              "      <td>0.015241</td>\n",
              "      <td>0.013560</td>\n",
              "      <td>0.001669</td>\n",
              "      <td>0.053647</td>\n",
              "      <td>0.040102</td>\n",
              "      <td>0.003261</td>\n",
              "      <td>0.010899</td>\n",
              "      <td>0.010486</td>\n",
              "      <td>0.028711</td>\n",
              "    </tr>\n",
              "    <tr>\n",
              "      <th>2012-02-02</th>\n",
              "      <td>-0.010512</td>\n",
              "      <td>0.021664</td>\n",
              "      <td>0.007587</td>\n",
              "      <td>0.025030</td>\n",
              "      <td>0.011429</td>\n",
              "      <td>-0.005066</td>\n",
              "      <td>-0.002151</td>\n",
              "      <td>-0.003531</td>\n",
              "      <td>-0.007949</td>\n",
              "      <td>0.034277</td>\n",
              "      <td>...</td>\n",
              "      <td>0.001559</td>\n",
              "      <td>0.035835</td>\n",
              "      <td>-0.006296</td>\n",
              "      <td>0.008330</td>\n",
              "      <td>-0.022072</td>\n",
              "      <td>0.012305</td>\n",
              "      <td>0.029252</td>\n",
              "      <td>0.017520</td>\n",
              "      <td>0.168868</td>\n",
              "      <td>-0.028251</td>\n",
              "    </tr>\n",
              "    <tr>\n",
              "      <th>2012-02-03</th>\n",
              "      <td>0.035411</td>\n",
              "      <td>0.032655</td>\n",
              "      <td>0.018072</td>\n",
              "      <td>0.056977</td>\n",
              "      <td>0.015819</td>\n",
              "      <td>0.008394</td>\n",
              "      <td>0.010057</td>\n",
              "      <td>0.024217</td>\n",
              "      <td>0.043559</td>\n",
              "      <td>0.031700</td>\n",
              "      <td>...</td>\n",
              "      <td>0.028016</td>\n",
              "      <td>0.020103</td>\n",
              "      <td>0.001056</td>\n",
              "      <td>0.018726</td>\n",
              "      <td>0.007438</td>\n",
              "      <td>0.028768</td>\n",
              "      <td>0.048421</td>\n",
              "      <td>0.041722</td>\n",
              "      <td>0.080710</td>\n",
              "      <td>0.040981</td>\n",
              "    </tr>\n",
              "    <tr>\n",
              "      <th>2012-02-06</th>\n",
              "      <td>-0.013680</td>\n",
              "      <td>-0.002053</td>\n",
              "      <td>-0.005917</td>\n",
              "      <td>-0.050605</td>\n",
              "      <td>-0.020022</td>\n",
              "      <td>-0.000955</td>\n",
              "      <td>0.009246</td>\n",
              "      <td>-0.017878</td>\n",
              "      <td>0.010829</td>\n",
              "      <td>-0.009777</td>\n",
              "      <td>...</td>\n",
              "      <td>-0.037850</td>\n",
              "      <td>-0.014665</td>\n",
              "      <td>-0.010285</td>\n",
              "      <td>0.001261</td>\n",
              "      <td>0.003310</td>\n",
              "      <td>-0.000788</td>\n",
              "      <td>-0.003012</td>\n",
              "      <td>0.001907</td>\n",
              "      <td>-0.046303</td>\n",
              "      <td>-0.000336</td>\n",
              "    </tr>\n",
              "    <tr>\n",
              "      <th>2012-02-07</th>\n",
              "      <td>-0.001387</td>\n",
              "      <td>-0.006173</td>\n",
              "      <td>-0.002976</td>\n",
              "      <td>0.009270</td>\n",
              "      <td>-0.021566</td>\n",
              "      <td>0.005054</td>\n",
              "      <td>0.010571</td>\n",
              "      <td>0.004698</td>\n",
              "      <td>0.014998</td>\n",
              "      <td>-0.001410</td>\n",
              "      <td>...</td>\n",
              "      <td>0.055075</td>\n",
              "      <td>0.000000</td>\n",
              "      <td>0.026379</td>\n",
              "      <td>-0.003600</td>\n",
              "      <td>0.002791</td>\n",
              "      <td>0.006701</td>\n",
              "      <td>0.007049</td>\n",
              "      <td>0.015228</td>\n",
              "      <td>0.042287</td>\n",
              "      <td>-0.011107</td>\n",
              "    </tr>\n",
              "    <tr>\n",
              "      <th>2012-02-08</th>\n",
              "      <td>0.008333</td>\n",
              "      <td>0.000000</td>\n",
              "      <td>0.023881</td>\n",
              "      <td>-0.014925</td>\n",
              "      <td>-0.037123</td>\n",
              "      <td>0.020658</td>\n",
              "      <td>0.016736</td>\n",
              "      <td>-0.006429</td>\n",
              "      <td>-0.021109</td>\n",
              "      <td>-0.002825</td>\n",
              "      <td>...</td>\n",
              "      <td>-0.000746</td>\n",
              "      <td>0.018605</td>\n",
              "      <td>-0.006490</td>\n",
              "      <td>0.001806</td>\n",
              "      <td>-0.004555</td>\n",
              "      <td>0.015662</td>\n",
              "      <td>0.007000</td>\n",
              "      <td>0.012500</td>\n",
              "      <td>0.028550</td>\n",
              "      <td>0.001021</td>\n",
              "    </tr>\n",
              "    <tr>\n",
              "      <th>2012-02-09</th>\n",
              "      <td>0.002755</td>\n",
              "      <td>-0.002899</td>\n",
              "      <td>0.000000</td>\n",
              "      <td>-0.015152</td>\n",
              "      <td>-0.021687</td>\n",
              "      <td>0.016378</td>\n",
              "      <td>0.034294</td>\n",
              "      <td>-0.018824</td>\n",
              "      <td>-0.013723</td>\n",
              "      <td>0.012748</td>\n",
              "      <td>...</td>\n",
              "      <td>-0.029104</td>\n",
              "      <td>0.010959</td>\n",
              "      <td>0.007316</td>\n",
              "      <td>-0.023080</td>\n",
              "      <td>0.012710</td>\n",
              "      <td>-0.018119</td>\n",
              "      <td>0.000000</td>\n",
              "      <td>-0.003704</td>\n",
              "      <td>-0.032140</td>\n",
              "      <td>0.015301</td>\n",
              "    </tr>\n",
              "    <tr>\n",
              "      <th>2012-02-10</th>\n",
              "      <td>-0.020948</td>\n",
              "      <td>-0.032807</td>\n",
              "      <td>-0.014577</td>\n",
              "      <td>-0.013018</td>\n",
              "      <td>-0.040640</td>\n",
              "      <td>-0.001572</td>\n",
              "      <td>0.000663</td>\n",
              "      <td>-0.008393</td>\n",
              "      <td>-0.017293</td>\n",
              "      <td>-0.130070</td>\n",
              "      <td>...</td>\n",
              "      <td>0.002306</td>\n",
              "      <td>-0.039295</td>\n",
              "      <td>-0.002594</td>\n",
              "      <td>-0.003138</td>\n",
              "      <td>-0.014809</td>\n",
              "      <td>-0.007460</td>\n",
              "      <td>0.007944</td>\n",
              "      <td>-0.007435</td>\n",
              "      <td>0.006038</td>\n",
              "      <td>-0.016075</td>\n",
              "    </tr>\n",
              "  </tbody>\n",
              "</table>\n",
              "<p>8 rows × 1599 columns</p>\n",
              "</div>\n",
              "      <button class=\"colab-df-convert\" onclick=\"convertToInteractive('df-7616346b-76b2-4085-87fb-53a90c03af6f')\"\n",
              "              title=\"Convert this dataframe to an interactive table.\"\n",
              "              style=\"display:none;\">\n",
              "        \n",
              "  <svg xmlns=\"http://www.w3.org/2000/svg\" height=\"24px\"viewBox=\"0 0 24 24\"\n",
              "       width=\"24px\">\n",
              "    <path d=\"M0 0h24v24H0V0z\" fill=\"none\"/>\n",
              "    <path d=\"M18.56 5.44l.94 2.06.94-2.06 2.06-.94-2.06-.94-.94-2.06-.94 2.06-2.06.94zm-11 1L8.5 8.5l.94-2.06 2.06-.94-2.06-.94L8.5 2.5l-.94 2.06-2.06.94zm10 10l.94 2.06.94-2.06 2.06-.94-2.06-.94-.94-2.06-.94 2.06-2.06.94z\"/><path d=\"M17.41 7.96l-1.37-1.37c-.4-.4-.92-.59-1.43-.59-.52 0-1.04.2-1.43.59L10.3 9.45l-7.72 7.72c-.78.78-.78 2.05 0 2.83L4 21.41c.39.39.9.59 1.41.59.51 0 1.02-.2 1.41-.59l7.78-7.78 2.81-2.81c.8-.78.8-2.07 0-2.86zM5.41 20L4 18.59l7.72-7.72 1.47 1.35L5.41 20z\"/>\n",
              "  </svg>\n",
              "      </button>\n",
              "      \n",
              "  <style>\n",
              "    .colab-df-container {\n",
              "      display:flex;\n",
              "      flex-wrap:wrap;\n",
              "      gap: 12px;\n",
              "    }\n",
              "\n",
              "    .colab-df-convert {\n",
              "      background-color: #E8F0FE;\n",
              "      border: none;\n",
              "      border-radius: 50%;\n",
              "      cursor: pointer;\n",
              "      display: none;\n",
              "      fill: #1967D2;\n",
              "      height: 32px;\n",
              "      padding: 0 0 0 0;\n",
              "      width: 32px;\n",
              "    }\n",
              "\n",
              "    .colab-df-convert:hover {\n",
              "      background-color: #E2EBFA;\n",
              "      box-shadow: 0px 1px 2px rgba(60, 64, 67, 0.3), 0px 1px 3px 1px rgba(60, 64, 67, 0.15);\n",
              "      fill: #174EA6;\n",
              "    }\n",
              "\n",
              "    [theme=dark] .colab-df-convert {\n",
              "      background-color: #3B4455;\n",
              "      fill: #D2E3FC;\n",
              "    }\n",
              "\n",
              "    [theme=dark] .colab-df-convert:hover {\n",
              "      background-color: #434B5C;\n",
              "      box-shadow: 0px 1px 3px 1px rgba(0, 0, 0, 0.15);\n",
              "      filter: drop-shadow(0px 1px 2px rgba(0, 0, 0, 0.3));\n",
              "      fill: #FFFFFF;\n",
              "    }\n",
              "  </style>\n",
              "\n",
              "      <script>\n",
              "        const buttonEl =\n",
              "          document.querySelector('#df-7616346b-76b2-4085-87fb-53a90c03af6f button.colab-df-convert');\n",
              "        buttonEl.style.display =\n",
              "          google.colab.kernel.accessAllowed ? 'block' : 'none';\n",
              "\n",
              "        async function convertToInteractive(key) {\n",
              "          const element = document.querySelector('#df-7616346b-76b2-4085-87fb-53a90c03af6f');\n",
              "          const dataTable =\n",
              "            await google.colab.kernel.invokeFunction('convertToInteractive',\n",
              "                                                     [key], {});\n",
              "          if (!dataTable) return;\n",
              "\n",
              "          const docLinkHtml = 'Like what you see? Visit the ' +\n",
              "            '<a target=\"_blank\" href=https://colab.research.google.com/notebooks/data_table.ipynb>data table notebook</a>'\n",
              "            + ' to learn more about interactive tables.';\n",
              "          element.innerHTML = '';\n",
              "          dataTable['output_type'] = 'display_data';\n",
              "          await google.colab.output.renderOutput(dataTable, element);\n",
              "          const docLink = document.createElement('div');\n",
              "          docLink.innerHTML = docLinkHtml;\n",
              "          element.appendChild(docLink);\n",
              "        }\n",
              "      </script>\n",
              "    </div>\n",
              "  </div>\n",
              "  "
            ]
          },
          "metadata": {},
          "execution_count": 200
        }
      ]
    },
    {
      "cell_type": "code",
      "source": [
        "stock_returned.loc[stock_returned.index[0]:stock_returned.index[0] + pd.DateOffset(months=1)].std().values"
      ],
      "metadata": {
        "colab": {
          "base_uri": "https://localhost:8080/"
        },
        "id": "Fh5nFWUEncR2",
        "outputId": "286b8bc9-5f90-4b80-8ad2-ad8205ce141e"
      },
      "execution_count": 191,
      "outputs": [
        {
          "output_type": "execute_result",
          "data": {
            "text/plain": [
              "array([0.02047951, 0.01652451, 0.01550656, ..., 0.02561237, 0.0545269 ,\n",
              "       0.04172275])"
            ]
          },
          "metadata": {},
          "execution_count": 191
        }
      ]
    },
    {
      "cell_type": "code",
      "source": [
        "stock_returned.index[0] + pd.DateOffset(months=3) - pd.DateOffset(months=3)"
      ],
      "metadata": {
        "colab": {
          "base_uri": "https://localhost:8080/"
        },
        "id": "ZoGYLeoDoVGQ",
        "outputId": "c0419823-0337-47f1-fa05-aee4919bcc6b"
      },
      "execution_count": 61,
      "outputs": [
        {
          "output_type": "execute_result",
          "data": {
            "text/plain": [
              "Timestamp('2012-01-03 00:00:00')"
            ]
          },
          "metadata": {},
          "execution_count": 61
        }
      ]
    },
    {
      "cell_type": "code",
      "source": [
        "pd.date_range(start=stock_returned.index[0] + pd.DateOffset(months=3), end=stock_returned.index[0] + pd.DateOffset(months=6), freq='M')"
      ],
      "metadata": {
        "id": "Y7Q7PIKJ6MLq",
        "colab": {
          "base_uri": "https://localhost:8080/"
        },
        "outputId": "2b684ca9-dd13-41de-a5bf-b83c74eebb39"
      },
      "execution_count": 62,
      "outputs": [
        {
          "output_type": "execute_result",
          "data": {
            "text/plain": [
              "DatetimeIndex(['2012-04-30', '2012-05-31', '2012-06-30'], dtype='datetime64[ns]', freq='M')"
            ]
          },
          "metadata": {},
          "execution_count": 62
        }
      ]
    },
    {
      "cell_type": "code",
      "source": [
        "pd.Timestamp('2012-04-30') < pd.Timestamp('2012-05-30')"
      ],
      "metadata": {
        "colab": {
          "base_uri": "https://localhost:8080/"
        },
        "id": "Fs1kh_TBADtu",
        "outputId": "ad1cc48f-861c-4c13-b7fc-6ae0ccb3fdd8"
      },
      "execution_count": 63,
      "outputs": [
        {
          "output_type": "execute_result",
          "data": {
            "text/plain": [
              "True"
            ]
          },
          "metadata": {},
          "execution_count": 63
        }
      ]
    },
    {
      "cell_type": "code",
      "source": [
        "stds_df = pd.DataFrame(columns=stock_returned.columns)\n",
        "calc_date = start=stock_returned.index[0] + pd.DateOffset(months=3)\n",
        "\n",
        "while calc_date < stock_returned.index[-1] - pd.DateOffset(months=3):\n",
        "    start_of_period = calc_date - pd.DateOffset(months=3)\n",
        "    # print(start_of_period)\n",
        "    std_devs = stock_returned.loc[start_of_period:calc_date].std()\n",
        "    # print(std_devs)\n",
        "    stds_df.loc[calc_date] = std_devs\n",
        "    calc_date += pd.DateOffset(months=1)"
      ],
      "metadata": {
        "id": "0z_o7cSiAXsp"
      },
      "execution_count": 201,
      "outputs": []
    },
    {
      "cell_type": "code",
      "source": [
        "stds_df.iloc[0].sort_values(ascending=True)[-6:]"
      ],
      "metadata": {
        "colab": {
          "base_uri": "https://localhost:8080/"
        },
        "id": "B6WGUUxCGkwA",
        "outputId": "92a0309b-8781-4f75-ee04-9bfea325bfcb"
      },
      "execution_count": 121,
      "outputs": [
        {
          "output_type": "execute_result",
          "data": {
            "text/plain": [
              "AGEN    0.062304\n",
              "INFI    0.064788\n",
              "JKS     0.066897\n",
              "AMPE    0.067930\n",
              "CORT    0.068061\n",
              "MVIS    0.080066\n",
              "Name: 2012-04-03 00:00:00, dtype: float64"
            ]
          },
          "metadata": {},
          "execution_count": 121
        }
      ]
    },
    {
      "cell_type": "code",
      "source": [
        "stds_df.index"
      ],
      "metadata": {
        "colab": {
          "base_uri": "https://localhost:8080/"
        },
        "id": "lRZqJvm0Nr_O",
        "outputId": "0f5622be-270d-4279-9fd9-582f03f14924"
      },
      "execution_count": 66,
      "outputs": [
        {
          "output_type": "execute_result",
          "data": {
            "text/plain": [
              "DatetimeIndex(['2012-04-03', '2012-05-03', '2012-06-03', '2012-07-03',\n",
              "               '2012-08-03', '2012-09-03', '2012-10-03', '2012-11-03',\n",
              "               '2012-12-03', '2013-01-03',\n",
              "               ...\n",
              "               '2020-12-03', '2021-01-03', '2021-02-03', '2021-03-03',\n",
              "               '2021-04-03', '2021-05-03', '2021-06-03', '2021-07-03',\n",
              "               '2021-08-03', '2021-09-03'],\n",
              "              dtype='datetime64[ns]', length=114, freq=None)"
            ]
          },
          "metadata": {},
          "execution_count": 66
        }
      ]
    },
    {
      "cell_type": "code",
      "source": [
        "class Portfolios_returns_on_date:\n",
        "    stock_g_d = stock_grouped_dropped\n",
        "\n",
        "    def __init__(self, x_date, stds_df_input) -> None:\n",
        "        self.x_date = x_date\n",
        "        self.std_dev_asc = stds_df_input.loc[x_date].sort_values(ascending=True)\n",
        "    \n",
        "    def form_portfolios(self, stock_prices=stock_g_d):\n",
        "        self.high_vol_portf = self.std_dev_asc[-6:]\n",
        "        self.low_vol_portf = self.std_dev_asc[:6]\n",
        "\n",
        "        try:\n",
        "            self.high_vol_portf_return = 0\n",
        "            for ticker in self.high_vol_portf.index:\n",
        "                stock_3m_return = stock_prices[ticker][self.x_date] / stock_prices[ticker][self.x_date - pd.DateOffset(months=3)] - 1\n",
        "                self.high_vol_portf[ticker] = stock_3m_return\n",
        "                self.high_vol_portf_return += stock_3m_return / self.high_vol_portf.index.shape[0]\n",
        "\n",
        "            self.low_vol_portf_return = 0\n",
        "            for ticker in self.low_vol_portf.index:\n",
        "                stock_3m_return = stock_prices[ticker][self.x_date] / stock_prices[ticker][self.x_date - pd.DateOffset(months=3)] - 1\n",
        "                self.low_vol_portf[ticker] = stock_3m_return\n",
        "                self.low_vol_portf_return += stock_3m_return / self.low_vol_portf.index.shape[0]\n",
        "        except:\n",
        "            self.high_vol_portf_return = 0\n",
        "            for ticker in self.high_vol_portf.index:\n",
        "                stock_3m_return = stock_prices[ticker].asof(self.x_date) / stock_prices[ticker].asof(self.x_date - pd.DateOffset(months=3)) - 1\n",
        "                self.high_vol_portf[ticker] = stock_3m_return\n",
        "                self.high_vol_portf_return += stock_3m_return / self.high_vol_portf.index.shape[0]\n",
        "\n",
        "            self.low_vol_portf_return = 0\n",
        "            for ticker in self.low_vol_portf.index:\n",
        "                stock_3m_return = stock_prices[ticker].asof(self.x_date) / stock_prices[ticker].asof(self.x_date - pd.DateOffset(months=3)) - 1\n",
        "                self.low_vol_portf[ticker] = stock_3m_return\n",
        "                self.low_vol_portf_return += stock_3m_return / self.low_vol_portf.index.shape[0]\n",
        "\n",
        "        self.high_vol_portf_return = self.high_vol_portf_return.round(4)\n",
        "        self.low_vol_portf_return = self.low_vol_portf_return.round(4)\n",
        "\n",
        "    def printout(self):\n",
        "        print('Date: ', self.x_date)\n",
        "\n",
        "        print('high_vol_portf tickers: ', self.high_vol_portf.index.values)\n",
        "        print('high_vol_portf 3M return: ', self.high_vol_portf_return)\n",
        "\n",
        "        print('low_vol_portf tickers: ', self.low_vol_portf.index.values)\n",
        "        print('low_vol_portf 3M return: ', self.low_vol_portf_return)"
      ],
      "metadata": {
        "id": "CxR6o5wNJARh"
      },
      "execution_count": 202,
      "outputs": []
    },
    {
      "cell_type": "code",
      "source": [
        ""
      ],
      "metadata": {
        "id": "AA1x1ivOZrd6"
      },
      "execution_count": 146,
      "outputs": []
    },
    {
      "cell_type": "code",
      "source": [
        "stds_df.loc[test_date]"
      ],
      "metadata": {
        "colab": {
          "base_uri": "https://localhost:8080/"
        },
        "id": "fT72Redy5jQW",
        "outputId": "cbf03bcf-8ef4-457e-d78d-bb0c9fb4dcaa"
      },
      "execution_count": 69,
      "outputs": [
        {
          "output_type": "execute_result",
          "data": {
            "text/plain": [
              "A       0.019992\n",
              "AA      0.019744\n",
              "AAIC    0.013457\n",
              "AAL     0.039145\n",
              "AAON    0.019703\n",
              "          ...   \n",
              "ZD      0.011461\n",
              "ZG      0.034528\n",
              "ZION    0.022599\n",
              "ZNGA    0.040227\n",
              "ZUMZ    0.027539\n",
              "Name: 2012-06-03 00:00:00, Length: 1606, dtype: float64"
            ]
          },
          "metadata": {},
          "execution_count": 69
        }
      ]
    },
    {
      "cell_type": "code",
      "source": [
        "stock_grouped_dropped.loc[find_date]"
      ],
      "metadata": {
        "colab": {
          "base_uri": "https://localhost:8080/"
        },
        "id": "KeQ8f2096gO4",
        "outputId": "5d01ac1b-ddae-4c98-f8b9-07d6baa46638"
      },
      "execution_count": 246,
      "outputs": [
        {
          "output_type": "execute_result",
          "data": {
            "text/plain": [
              "A       98.22\n",
              "AA      13.64\n",
              "AAIC     2.61\n",
              "AAL     11.08\n",
              "AAON    59.83\n",
              "        ...  \n",
              "ZD      50.87\n",
              "ZG      67.76\n",
              "ZION    31.47\n",
              "ZNGA    10.14\n",
              "ZUMZ    22.00\n",
              "Name: 2020-08-03 00:00:00, Length: 1599, dtype: float64"
            ]
          },
          "metadata": {},
          "execution_count": 246
        }
      ]
    },
    {
      "cell_type": "code",
      "source": [
        "stock_grouped_dropped.sort_index()[high_vol_portf.index[0]].asof('2012-06-03')"
      ],
      "metadata": {
        "colab": {
          "base_uri": "https://localhost:8080/"
        },
        "id": "xKmXGJKr6Ktq",
        "outputId": "f4be83b5-9838-4681-ff91-14b53b332757"
      },
      "execution_count": 71,
      "outputs": [
        {
          "output_type": "execute_result",
          "data": {
            "text/plain": [
              "5.18"
            ]
          },
          "metadata": {},
          "execution_count": 71
        }
      ]
    },
    {
      "cell_type": "code",
      "source": [
        "test_date = stds_df.index[2]\n",
        "high_vol_portf = stds_df.loc[test_date].sort_values()[-6:]\n",
        "high_vol_portf_return = 0\n",
        "for ticker in tqdm(high_vol_portf.index):\n",
        "    stock_3m_return = stock_grouped_dropped.sort_index()[ticker].asof(test_date + pd.DateOffset(months=3)) / stock_grouped_dropped.sort_index()[ticker].asof(test_date) - 1\n",
        "    high_vol_portf_return += stock_3m_return / high_vol_portf.index.shape[0]"
      ],
      "metadata": {
        "colab": {
          "base_uri": "https://localhost:8080/"
        },
        "id": "0gPC6TNo5Nag",
        "outputId": "747ece3a-ea90-4ab9-ec52-2297cbd4f79d"
      },
      "execution_count": 123,
      "outputs": [
        {
          "output_type": "stream",
          "name": "stderr",
          "text": [
            "100%|██████████| 6/6 [00:00<00:00, 129.65it/s]\n"
          ]
        }
      ]
    },
    {
      "cell_type": "code",
      "source": [
        "high_vol_portf_return"
      ],
      "metadata": {
        "colab": {
          "base_uri": "https://localhost:8080/"
        },
        "id": "LWE93s3h9km2",
        "outputId": "ab463313-10bd-4868-9ead-18fe60290dc7"
      },
      "execution_count": 124,
      "outputs": [
        {
          "output_type": "execute_result",
          "data": {
            "text/plain": [
              "0.1849877605008052"
            ]
          },
          "metadata": {},
          "execution_count": 124
        }
      ]
    },
    {
      "cell_type": "code",
      "source": [
        "level_1_label = ['High Volatility','Low Volatility']\n",
        "level_2_label = list(range(1, 7)) + ['return']\n",
        "header = pd.MultiIndex.from_product([level_1_label, level_2_label], names=['Portfolio',' '])\n",
        "result_df = pd.DataFrame(columns=header)\n",
        "result_df.index.names = [\"Date\"]\n",
        "\n",
        "for date in tqdm(stds_df.index):\n",
        "    portf_on_date = Portfolios_returns_on_date(date, stds_df)\n",
        "    portf_on_date.form_portfolios()\n",
        "    print_res = [\n",
        "                 portf_on_date.high_vol_portf.index.to_list(),\n",
        "                 [portf_on_date.high_vol_portf_return],\n",
        "                 portf_on_date.low_vol_portf.index.to_list(),\n",
        "                 [portf_on_date.low_vol_portf_return]\n",
        "    ]   \n",
        "\n",
        "\n",
        "    result_df.loc[date] = np.array([item for sublist in print_res for item in sublist]).T.tolist()\n",
        "\n",
        "result_df.iloc[:, result_df.columns.get_level_values(1)=='return'] = result_df.iloc[:, result_df.columns.get_level_values(1)=='return'].astype(np.float64)"
      ],
      "metadata": {
        "colab": {
          "base_uri": "https://localhost:8080/"
        },
        "id": "tY-EHbkKjHfz",
        "outputId": "7691879e-7c1e-4f86-dfbb-46af844f5273"
      },
      "execution_count": 203,
      "outputs": [
        {
          "output_type": "stream",
          "name": "stderr",
          "text": [
            "100%|██████████| 114/114 [00:00<00:00, 135.88it/s]\n"
          ]
        }
      ]
    },
    {
      "cell_type": "code",
      "source": [
        "snp500_values = yf.download('^GSPC',start=start, end=end, progress=False, show_errors=False)\\\n",
        "    .loc[:, ['Adj Close', 'Volume']]\n",
        "\n",
        "snp500_3m_returns_df = pd.Series()\n",
        "for date in tqdm(stds_df.index):\n",
        "    try:\n",
        "        snp500_3m_returns_df.loc[date] = snp500_values['Adj Close'].loc[date] / snp500_values['Adj Close'].loc[date - pd.DateOffset(months=3)] - 1\n",
        "    except:\n",
        "        snp500_3m_returns_df.loc[date] = snp500_values['Adj Close'].asof(date) / snp500_values['Adj Close'].asof(date - pd.DateOffset(months=3)) - 1\n",
        "\n",
        "snp500_3m_returns_df = snp500_3m_returns_df.fillna(0)\n",
        "snp500_3m_returns_df.name = 'snp500_3m_returns'"
      ],
      "metadata": {
        "colab": {
          "base_uri": "https://localhost:8080/"
        },
        "id": "Hishq47DXR4f",
        "outputId": "bf8186ae-c9a4-4615-ace2-089e206871f3"
      },
      "execution_count": 229,
      "outputs": [
        {
          "output_type": "stream",
          "name": "stderr",
          "text": [
            "/usr/local/lib/python3.7/dist-packages/ipykernel_launcher.py:3: DeprecationWarning: The default dtype for empty Series will be 'object' instead of 'float64' in a future version. Specify a dtype explicitly to silence this warning.\n",
            "  This is separate from the ipykernel package so we can avoid doing imports until\n",
            "100%|██████████| 114/114 [00:00<00:00, 583.86it/s]\n"
          ]
        }
      ]
    },
    {
      "cell_type": "code",
      "source": [
        "snp500_values['Adj Close'].asof(pd.Timestamp('2012-04-03') - pd.DateOffset(months=3))"
      ],
      "metadata": {
        "colab": {
          "base_uri": "https://localhost:8080/"
        },
        "id": "JU_krVfFjZfN",
        "outputId": "8b798911-af42-491b-a979-529ee0cf29c7"
      },
      "execution_count": 226,
      "outputs": [
        {
          "output_type": "execute_result",
          "data": {
            "text/plain": [
              "nan"
            ]
          },
          "metadata": {},
          "execution_count": 226
        }
      ]
    },
    {
      "cell_type": "code",
      "source": [
        "snp500_3m_returns_df.head()"
      ],
      "metadata": {
        "colab": {
          "base_uri": "https://localhost:8080/"
        },
        "id": "27IgaIxjjSVw",
        "outputId": "9c66cc3b-e1ff-4eb6-afc2-f2dbdc92be7e"
      },
      "execution_count": 230,
      "outputs": [
        {
          "output_type": "execute_result",
          "data": {
            "text/plain": [
              "2012-04-03    0.000000\n",
              "2012-05-03    0.000000\n",
              "2012-06-03    0.000000\n",
              "2012-07-03   -0.027848\n",
              "2012-08-03   -0.000417\n",
              "Name: snp500_3m_returns, dtype: float64"
            ]
          },
          "metadata": {},
          "execution_count": 230
        }
      ]
    },
    {
      "cell_type": "code",
      "source": [
        "new_test_df = pd.concat([result_df, snp500_3m_returns_df], axis=1)\n",
        "new_test_df.columns"
      ],
      "metadata": {
        "id": "BXv0pUULbpT-"
      },
      "execution_count": null,
      "outputs": []
    },
    {
      "cell_type": "code",
      "source": [
        "# stock_grouped_dropped.to_excel('stocks2012-2021.xlsx')\n",
        "# stds_df.to_excel('stds_df.xlsx')\n",
        "# result_df.to_excel('result_df.xlsx')\n",
        "result_df.info()"
      ],
      "metadata": {
        "colab": {
          "base_uri": "https://localhost:8080/"
        },
        "id": "0H3gP2V5nsLh",
        "outputId": "e5cfc9b4-4fdf-42e6-eb9c-461abbcad428"
      },
      "execution_count": 248,
      "outputs": [
        {
          "output_type": "stream",
          "name": "stdout",
          "text": [
            "<class 'pandas.core.frame.DataFrame'>\n",
            "DatetimeIndex: 114 entries, 2012-04-03 to 2021-09-03\n",
            "Data columns (total 14 columns):\n",
            " #   Column                     Non-Null Count  Dtype  \n",
            "---  ------                     --------------  -----  \n",
            " 0   (High Volatility, 1)       114 non-null    object \n",
            " 1   (High Volatility, 2)       114 non-null    object \n",
            " 2   (High Volatility, 3)       114 non-null    object \n",
            " 3   (High Volatility, 4)       114 non-null    object \n",
            " 4   (High Volatility, 5)       114 non-null    object \n",
            " 5   (High Volatility, 6)       114 non-null    object \n",
            " 6   (High Volatility, return)  114 non-null    float64\n",
            " 7   (Low Volatility, 1)        114 non-null    object \n",
            " 8   (Low Volatility, 2)        114 non-null    object \n",
            " 9   (Low Volatility, 3)        114 non-null    object \n",
            " 10  (Low Volatility, 4)        114 non-null    object \n",
            " 11  (Low Volatility, 5)        114 non-null    object \n",
            " 12  (Low Volatility, 6)        114 non-null    object \n",
            " 13  (Low Volatility, return)   114 non-null    float64\n",
            "dtypes: float64(2), object(12)\n",
            "memory usage: 13.4+ KB\n"
          ]
        }
      ]
    },
    {
      "cell_type": "code",
      "source": [
        "result_df.iloc[:, result_df.columns.get_level_values(1)=='return'].iloc[:, 0]"
      ],
      "metadata": {
        "colab": {
          "base_uri": "https://localhost:8080/"
        },
        "id": "cuNAyev5A9ZK",
        "outputId": "adccc0cf-86f9-4d12-e6d5-12c53e88c102"
      },
      "execution_count": 126,
      "outputs": [
        {
          "output_type": "execute_result",
          "data": {
            "text/plain": [
              "Date\n",
              "2012-04-03   -0.0430\n",
              "2012-05-03    0.1034\n",
              "2012-06-03    0.1850\n",
              "2012-07-03    0.1060\n",
              "2012-08-03    0.4000\n",
              "               ...  \n",
              "2021-05-03   -0.0133\n",
              "2021-06-03   -0.1909\n",
              "2021-07-03   -0.2083\n",
              "2021-08-03   -0.0817\n",
              "2021-09-03    0.0828\n",
              "Name: (High Volatility, return), Length: 114, dtype: float64"
            ]
          },
          "metadata": {},
          "execution_count": 126
        }
      ]
    },
    {
      "cell_type": "code",
      "source": [
        "find_date = result_df.iloc[:, result_df.columns.get_level_values(1)=='return'].iloc[:, 0].idxmax()\n",
        "debug_portf = Portfolios_returns_on_date(find_date, stds_df)\n",
        "debug_portf.form_portfolios()\n",
        "debug_portf.high_vol_portf\n"
      ],
      "metadata": {
        "colab": {
          "base_uri": "https://localhost:8080/"
        },
        "id": "DbbLa0TAEPYE",
        "outputId": "e638a7ce-29ab-4f6e-8d11-27b3f560feab"
      },
      "execution_count": 204,
      "outputs": [
        {
          "output_type": "execute_result",
          "data": {
            "text/plain": [
              "YELL    0.788820\n",
              "RIGL    0.421053\n",
              "KIRK    5.922222\n",
              "TUP     3.641844\n",
              "NBR     2.398545\n",
              "MVIS    3.545455\n",
              "Name: 2020-08-03 00:00:00, dtype: float64"
            ]
          },
          "metadata": {},
          "execution_count": 204
        }
      ]
    },
    {
      "cell_type": "code",
      "source": [
        "find_date = result_df.iloc[:, result_df.columns.get_level_values(1)=='return'].iloc[:, 0].idxmax()\n",
        "result_df.loc[find_date]"
      ],
      "metadata": {
        "colab": {
          "base_uri": "https://localhost:8080/"
        },
        "id": "b0c70zzvE3N1",
        "outputId": "350f8948-7e2d-463b-bb81-06685ca44a0e"
      },
      "execution_count": 155,
      "outputs": [
        {
          "output_type": "execute_result",
          "data": {
            "text/plain": [
              "Portfolio              \n",
              "High Volatility  1            GSM\n",
              "                 2           FOSL\n",
              "                 3            DDD\n",
              "                 4           LXRX\n",
              "                 5           EXPR\n",
              "                 6           CRIS\n",
              "                 return    5.2794\n",
              "Low Volatility   1            PNM\n",
              "                 2            CHT\n",
              "                 3            EQC\n",
              "                 4             VZ\n",
              "                 5            PEP\n",
              "                 6             RY\n",
              "                 return    0.0334\n",
              "Name: 2021-02-03 00:00:00, dtype: object"
            ]
          },
          "metadata": {},
          "execution_count": 155
        }
      ]
    },
    {
      "cell_type": "code",
      "source": [
        "days = result_df.index\n",
        "y_high = result_df.iloc[:, result_df.columns.get_level_values(1)=='return'].iloc[:, 0]\n",
        "y_low = result_df.iloc[:, result_df.columns.get_level_values(1)=='return'].iloc[:, 1]\n",
        "\n",
        "plt.rcParams.update({'font.size': 20})\n",
        "fig, ax = plt.subplots(figsize=(15, 10))\n",
        "\n",
        "ax.plot(days, y_high.values, color=\"black\", label='HVP return')\n",
        "ax.plot(days, y_low.values, color=\"blue\", label='LVP return')\n",
        "ax.bar(days, y_high.values - y_low.values, color=\"green\", width=24, label='HVP return - LVP return')\n",
        "mean_line = ax.plot(days, [(y_high.values - y_low.values).mean()]*len(y_high), color='purple', label='Mean difference', linestyle='--')\n",
        "snp500_plot = ax.plot(days, snp500_3m_returns_df.values, color=\"red\", label='S&P 500 return', linestyle=':')\n",
        "\n",
        "loc = plticker.MultipleLocator(base=0.25) # this locator puts ticks at regular intervals\n",
        "ax.yaxis.set_major_locator(loc)\n",
        "legend = ax.legend(loc='upper center')\n",
        "\n",
        "hfmt = mdates.DateFormatter('%Y')\n",
        "ax.xaxis.set_major_formatter(hfmt)\n",
        "plt.gcf().autofmt_xdate()\n",
        "plt.savefig(\"return_diffs.svg\")\n",
        "plt.show()"
      ],
      "metadata": {
        "colab": {
          "base_uri": "https://localhost:8080/",
          "height": 570
        },
        "id": "n6n-SquPEazA",
        "outputId": "04dc3b94-2132-4068-a440-0fb1234f9a97"
      },
      "execution_count": 243,
      "outputs": [
        {
          "output_type": "display_data",
          "data": {
            "text/plain": [
              "<Figure size 1080x720 with 1 Axes>"
            ],
            "image/png": "[encoded data removed]"
          },
          "metadata": {
            "needs_background": "light"
          }
        }
      ]
    },
    {
      "cell_type": "code",
      "source": [
        "plt.rcParams.update({'font.size': 20})\n",
        "fig, ax = plt.subplots(figsize=(15, 10))\n",
        "snp500diff = snp500_3m_returns_df.values - y_low.values\n",
        "\n",
        "ax.bar(days, snp500_3m_returns_df.values - y_low.values, color=\"lightblue\", width=24, label='S&P 500 3M return - LVP return')\n",
        "mean_line = ax.plot(days, [snp500diff.mean()]*len(y_low), color='red', label='Mean difference', linestyle='--')\n",
        "\n",
        "loc = plticker.MultipleLocator(base=0.05) # this locator puts ticks at regular intervals\n",
        "ax.yaxis.set_major_locator(loc)\n",
        "legend = ax.legend(loc='upper center')\n",
        "\n",
        "hfmt = mdates.DateFormatter('%Y')\n",
        "ax.xaxis.set_major_formatter(hfmt)\n",
        "plt.gcf().autofmt_xdate()\n",
        "plt.savefig(\"return_diffs_and_snp500.svg\")\n",
        "plt.show()"
      ],
      "metadata": {
        "colab": {
          "base_uri": "https://localhost:8080/",
          "height": 570
        },
        "id": "I9vynonjKmic",
        "outputId": "d89f6abd-808b-41e1-ffc8-c2c20840fcfe"
      },
      "execution_count": 249,
      "outputs": [
        {
          "output_type": "display_data",
          "data": {
            "text/plain": [
              "<Figure size 1080x720 with 1 Axes>"
            ],
            "image/png": "[encoded data removed]"
          },
          "metadata": {
            "needs_background": "light"
          }
        }
      ]
    },
    {
      "cell_type": "code",
      "source": [
        "snp500diff.max()"
      ],
      "metadata": {
        "colab": {
          "base_uri": "https://localhost:8080/"
        },
        "id": "d9LIoYGEO7Ew",
        "outputId": "51914572-e504-482d-f9cd-4feedd0a542f"
      },
      "execution_count": 253,
      "outputs": [
        {
          "output_type": "execute_result",
          "data": {
            "text/plain": [
              "0.20061407493591504"
            ]
          },
          "metadata": {},
          "execution_count": 253
        }
      ]
    },
    {
      "cell_type": "code",
      "source": [
        ""
      ],
      "metadata": {
        "id": "nUJhGcXujIWA"
      },
      "execution_count": null,
      "outputs": []
    }
  ],
  "metadata": {
    "kernelspec": {
      "display_name": "Python 3",
      "language": "python",
      "name": "python3"
    },
    "language_info": {
      "codemirror_mode": {
        "name": "ipython",
        "version": 3
      },
      "file_extension": ".py",
      "mimetype": "text/x-python",
      "name": "python",
      "nbconvert_exporter": "python",
      "pygments_lexer": "ipython3",
      "version": "3.7.4"
    },
    "colab": {
      "name": "stock_download_yahoo.ipynb",
      "provenance": []
    }
  },
  "nbformat": 4,
  "nbformat_minor": 0
}